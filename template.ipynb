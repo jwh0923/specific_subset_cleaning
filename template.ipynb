{
 "cells": [
  {
   "cell_type": "markdown",
   "id": "5a622437",
   "metadata": {
    "editable": true,
    "slideshow": {
     "slide_type": ""
    },
    "tags": []
   },
   "source": [
    "**数据查看工具**\n",
    "\n",
    "可使用 [S3_Browser](http://10.140.0.104:10001/S3_Browser) 查看对象存储上的数据。"
   ]
  },
  {
   "cell_type": "markdown",
   "id": "d9eecb34",
   "metadata": {},
   "source": [
    "**选择Spark集群**\n",
    "\n",
    "`spark_conf_name` 有8个可选值，分别为 `spark_[1234](_old)?`\n",
    "\n",
    "集群概况如下，点击集群名字，可查看各集群的当前资源使用情况：\n",
    "\n",
    "- [spark_1](http://10.140.0.100:8088/cluster/scheduler): 共约30节点，与S集群Ceph有高速网络，CPU主频高，内存高。\n",
    "- [spark_2](http://10.140.84.107:8088/cluster/scheduler): 共96节点，与P、T集群对象存储有高速网络，CPU核数多，内存少。\n",
    "- [spark_3](http://10.140.84.31:8088/cluster/scheduler): 共40节点，与P、T集群对象存储有高速网络，CPU核数多，内存少，有常驻任务。\n",
    "- [spark_4](http://10.140.52.131:8088/cluster/scheduler): 共44节点，与任何对象存储都只有**低速**网络，CPU核数多，内存少，不支持需要Shuffle操作的任务。\n",
    "\n",
    "其他说明：\n",
    "\n",
    "- Spark版本默认为较新的 `3.4.x` ，若需使用 `2.4.x` 版本，请添加 `_old` 后缀。\n",
    "- Spark `2.x` 版本，支持的最高的python版本为 `3.7` ，若选择使用Spark `2.x` ，请切换Notebook的Kernel至 `3.7` 版本。\n",
    "- 执行 `spark` ，将spark对象输出到Output中，可获得当前Spark Session的UI链接，打开UI可了解作业的执行情况，打开之前请 [配置Hosts](https://aicarrier.feishu.cn/wiki/R4uDwvptPiScaXkJMJvcn8AOnCg) 。\n",
    "- Spark所能读取的对象存储桶名中，只能包含英文字母，数字和短横线(-)，不能包含下划线(\\_)。"
   ]
  },
  {
   "cell_type": "markdown",
   "id": "dba4fc20",
   "metadata": {},
   "source": [
    "**Notebook Kernel的选择**\n",
    "\n",
    "- 若使用Spark 3.x (不带 `_old` 后缀的集群名)，请使用Pythen 3.10 Kernel。\n",
    "- 若使用Spark 2.x (即带 `_old` 后缀的集群名)，请使用Pythen 3.7 Kernel。"
   ]
  },
  {
   "cell_type": "code",
   "execution_count": 1,
   "id": "48841bf5",
   "metadata": {
    "execution": {
     "iopub.execute_input": "2025-02-18T06:47:39.254318Z",
     "iopub.status.busy": "2025-02-18T06:47:39.253761Z",
     "iopub.status.idle": "2025-02-18T06:47:54.570136Z",
     "shell.execute_reply": "2025-02-18T06:47:54.568928Z",
     "shell.execute_reply.started": "2025-02-18T06:47:39.254296Z"
    },
    "scrolled": true
   },
   "outputs": [
    {
     "name": "stderr",
     "output_type": "stream",
     "text": [
      "/tmp/ipykernel_946/1091275960.py:4: DeprecationWarning: `app.common.spark_ext` is deprecated, use `xinghe.spark` instead.\n",
      "  from app.common.spark_ext import *\n",
      "Setting default log level to \"WARN\".\n",
      "To adjust logging level use sc.setLogLevel(newLevel). For SparkR, use setLogLevel(newLevel).\n"
     ]
    },
    {
     "data": {
      "text/html": [
       "\n",
       "            <div>\n",
       "                <p><b>SparkSession - hive</b></p>\n",
       "                \n",
       "        <div>\n",
       "            <p><b>SparkContext</b></p>\n",
       "\n",
       "            <p><a href=\"http://10.140.84.29:45339\">Spark UI</a></p>\n",
       "\n",
       "            <dl>\n",
       "              <dt>Version</dt>\n",
       "                <dd><code>v3.4.1</code></dd>\n",
       "              <dt>Master</dt>\n",
       "                <dd><code>yarn</code></dd>\n",
       "              <dt>AppName</dt>\n",
       "                <dd><code>changeit</code></dd>\n",
       "            </dl>\n",
       "        </div>\n",
       "        \n",
       "            </div>\n",
       "        "
      ],
      "text/plain": [
       "<pyspark.sql.session.SparkSession at 0x7ff6b6c7ee00>"
      ]
     },
     "execution_count": 1,
     "metadata": {},
     "output_type": "execute_result"
    }
   ],
   "source": [
    "# create spark session\n",
    "from pyspark.sql import Row, DataFrame\n",
    "\n",
    "from app.common.spark_ext import *\n",
    "from app.common.json_util import *\n",
    "from app.common.s3 import *\n",
    "\n",
    "config = {\n",
    "    \"spark_conf_name\": \"spark_2\",\n",
    "    \"skip_success_check\": True,\n",
    "    # 根据个人路径进行替换\n",
    "    \"spark.executorEnv.LLM_WEB_KIT_CFG_PATH\": \"/share/jiangwenhao/.llm-web-kit.jsonc\",\n",
    "    \"spark.dynamicAllocation.maxExecutors\": \"400\",\n",
    "}\n",
    "\n",
    "spark = new_spark_session(\"changeit\", config)\n",
    "spark"
   ]
  },
  {
   "cell_type": "code",
   "execution_count": 2,
   "id": "27c5c8aa",
   "metadata": {
    "execution": {
     "iopub.execute_input": "2025-02-18T06:56:01.358619Z",
     "iopub.status.busy": "2025-02-18T06:56:01.357700Z",
     "iopub.status.idle": "2025-02-18T06:56:09.841082Z",
     "shell.execute_reply": "2025-02-18T06:56:09.840321Z",
     "shell.execute_reply.started": "2025-02-18T06:56:01.358588Z"
    }
   },
   "outputs": [],
   "source": [
    "# read data\n",
    "# s3://private-cooperate-data/zh-web-baijiahao/ \n",
    "# s3://private-crawl-data/zh-web-netease/20241218_p1/ \n",
    "# s3://private-crawl-data/zh-web-tencent/20241218_p1/ \n",
    "# s3://private-crawl-data/zh-web-sina/20241218_p1/ \n",
    "# s3://private-cooperate-data/DouBan/\n",
    "input_paths = [\n",
    "    \"s3://private-crawl-data/zh-web-netease/20241218_p1/\",\n",
    "]\n",
    "input_df = read_any_path(spark, \",\".join(input_paths), config)"
   ]
  },
  {
   "cell_type": "code",
   "execution_count": 5,
   "id": "06d3ecaf",
   "metadata": {
    "execution": {
     "iopub.execute_input": "2025-02-18T06:59:10.921296Z",
     "iopub.status.busy": "2025-02-18T06:59:10.920642Z",
     "iopub.status.idle": "2025-02-18T06:59:11.018369Z",
     "shell.execute_reply": "2025-02-18T06:59:11.017570Z",
     "shell.execute_reply.started": "2025-02-18T06:59:10.921273Z"
    }
   },
   "outputs": [
    {
     "name": "stdout",
     "output_type": "stream",
     "text": [
      "root\n",
      " |-- value: string (nullable = true)\n",
      " |-- filename: string (nullable = true)\n",
      "\n"
     ]
    },
    {
     "ename": "AttributeError",
     "evalue": "'DataFrame' object has no attribute 'size'",
     "output_type": "error",
     "traceback": [
      "\u001b[0;31m---------------------------------------------------------------------------\u001b[0m",
      "\u001b[0;31mAttributeError\u001b[0m                            Traceback (most recent call last)",
      "Cell \u001b[0;32mIn[5], line 3\u001b[0m\n\u001b[1;32m      1\u001b[0m \u001b[38;5;66;03m# view data\u001b[39;00m\n\u001b[1;32m      2\u001b[0m input_df\u001b[38;5;241m.\u001b[39mprintSchema()\n\u001b[0;32m----> 3\u001b[0m \u001b[43minput_df\u001b[49m\u001b[38;5;241;43m.\u001b[39;49m\u001b[43msize\u001b[49m()\n",
      "File \u001b[0;32m/share/dataproc/envs/py3.10/lib/python3.10/site-packages/pyspark/sql/dataframe.py:2977\u001b[0m, in \u001b[0;36mDataFrame.__getattr__\u001b[0;34m(self, name)\u001b[0m\n\u001b[1;32m   2944\u001b[0m \u001b[38;5;250m\u001b[39m\u001b[38;5;124;03m\"\"\"Returns the :class:`Column` denoted by ``name``.\u001b[39;00m\n\u001b[1;32m   2945\u001b[0m \n\u001b[1;32m   2946\u001b[0m \u001b[38;5;124;03m.. versionadded:: 1.3.0\u001b[39;00m\n\u001b[0;32m   (...)\u001b[0m\n\u001b[1;32m   2974\u001b[0m \u001b[38;5;124;03m+---+\u001b[39;00m\n\u001b[1;32m   2975\u001b[0m \u001b[38;5;124;03m\"\"\"\u001b[39;00m\n\u001b[1;32m   2976\u001b[0m \u001b[38;5;28;01mif\u001b[39;00m name \u001b[38;5;129;01mnot\u001b[39;00m \u001b[38;5;129;01min\u001b[39;00m \u001b[38;5;28mself\u001b[39m\u001b[38;5;241m.\u001b[39mcolumns:\n\u001b[0;32m-> 2977\u001b[0m     \u001b[38;5;28;01mraise\u001b[39;00m \u001b[38;5;167;01mAttributeError\u001b[39;00m(\n\u001b[1;32m   2978\u001b[0m         \u001b[38;5;124m\"\u001b[39m\u001b[38;5;124m'\u001b[39m\u001b[38;5;132;01m%s\u001b[39;00m\u001b[38;5;124m'\u001b[39m\u001b[38;5;124m object has no attribute \u001b[39m\u001b[38;5;124m'\u001b[39m\u001b[38;5;132;01m%s\u001b[39;00m\u001b[38;5;124m'\u001b[39m\u001b[38;5;124m\"\u001b[39m \u001b[38;5;241m%\u001b[39m (\u001b[38;5;28mself\u001b[39m\u001b[38;5;241m.\u001b[39m\u001b[38;5;18m__class__\u001b[39m\u001b[38;5;241m.\u001b[39m\u001b[38;5;18m__name__\u001b[39m, name)\n\u001b[1;32m   2979\u001b[0m     )\n\u001b[1;32m   2980\u001b[0m jc \u001b[38;5;241m=\u001b[39m \u001b[38;5;28mself\u001b[39m\u001b[38;5;241m.\u001b[39m_jdf\u001b[38;5;241m.\u001b[39mapply(name)\n\u001b[1;32m   2981\u001b[0m \u001b[38;5;28;01mreturn\u001b[39;00m Column(jc)\n",
      "\u001b[0;31mAttributeError\u001b[0m: 'DataFrame' object has no attribute 'size'"
     ]
    }
   ],
   "source": [
    "# view data\n",
    "input_df.printSchema()\n",
    "input_df.size()"
   ]
  },
  {
   "cell_type": "code",
   "execution_count": null,
   "id": "fcb54a44",
   "metadata": {},
   "outputs": [],
   "source": [
    "import zlib\n",
    "import base64\n",
    "\n",
    "def compress_and_decompress_str(input_data: Union[str, bytes], compress: bool = True, base: bool = False) -> Union[str, bytes]:\n",
    "    compressed_bytes = base64.b64decode(input_data)\n",
    "    decompressed_bytes = zlib.decompress(compressed_bytes)\n",
    "    return decompressed_bytes.decode('utf-8')\n",
    "\n",
    "\n",
    "def uncompress_html(_iter):\n",
    "    \n",
    "    for row in _iter:\n",
    "        d = json_loads(row.value)\n",
    "        raw_html = d.get(\"html\", \"\")        \n",
    "        d.pop(\"html\", None)\n",
    "        d[\"html\"] = compress_and_decompress_str(raw_html)\n",
    "        d[\"dataset_name\"] = \"cc\"\n",
    "        d[\"data_source_category\"] = \"html\"                \n",
    "\n",
    "        yield Row(value=json_dumps(d))\n",
    "\n",
    "\n",
    "input_map_rdd = input_df.rdd.mapPartitions(uncompress_html)\n",
    "input_map_rdd.take(1)"
   ]
  },
  {
   "cell_type": "code",
   "execution_count": null,
   "id": "bca2adb4",
   "metadata": {},
   "outputs": [],
   "source": [
    "# write data\n",
    "output_path = \"s3://BUCKET/path/to/output/dir/\"\n",
    "write_any_path(output_df, output_path, config)"
   ]
  }
 ],
 "metadata": {
  "kernelspec": {
   "display_name": "Python 3.10 (ipykernel)",
   "language": "python",
   "name": "python3.10"
  },
  "language_info": {
   "codemirror_mode": {
    "name": "ipython",
    "version": 3
   },
   "file_extension": ".py",
   "mimetype": "text/x-python",
   "name": "python",
   "nbconvert_exporter": "python",
   "pygments_lexer": "ipython3",
   "version": "3.10.9"
  },
  "toc": {
   "base_numbering": 1,
   "nav_menu": {},
   "number_sections": true,
   "sideBar": true,
   "skip_h1_title": false,
   "title_cell": "Table of Contents",
   "title_sidebar": "Contents",
   "toc_cell": false,
   "toc_position": {},
   "toc_section_display": true,
   "toc_window_display": false
  }
 },
 "nbformat": 4,
 "nbformat_minor": 5
}
