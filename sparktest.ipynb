{
 "cells": [
  {
   "cell_type": "code",
   "execution_count": 20,
   "id": "1f4963f7-c8b0-4c3e-8679-356682daedbf",
   "metadata": {
    "execution": {
     "iopub.execute_input": "2025-02-17T10:31:08.353567Z",
     "iopub.status.busy": "2025-02-17T10:31:08.353074Z",
     "iopub.status.idle": "2025-02-17T10:31:09.123139Z",
     "shell.execute_reply": "2025-02-17T10:31:09.122560Z",
     "shell.execute_reply.started": "2025-02-17T10:31:08.353546Z"
    }
   },
   "outputs": [
    {
     "name": "stderr",
     "output_type": "stream",
     "text": [
      "                                                                                "
     ]
    },
    {
     "data": {
      "text/plain": [
       "DataFrame[analysis: map<string,map<string,map<string,string>>>, channel: string, content: string, content_xml: string, ctime: bigint, gather: map<string,string>, mid: string, publisher: map<string,string>, title: string, url: string, user: map<string,bigint>, uuid: string, wtype: bigint]"
      ]
     },
     "execution_count": 20,
     "metadata": {},
     "output_type": "execute_result"
    }
   ],
   "source": [
    "# input_path = [\"s3://web-parse-huawei/CC/pre-dedup/v002/unique_html/CC-MAIN-2024-33/\"]\n",
    "# input_df = read_any_path(spark, \",\".join(input_path), config)\n",
    "        \n",
    "# s3://private-cooperate-data/zh-web-baijiahao/Articles/baijiahao_Articles_202401.jsonl\n",
    "file_paths = ['s3://private-cooperate-data/zh-web-baijiahao/Articles/baijiahao_Articles_202401.jsonl']\n",
    "    # 's3://data-warehouse/sufutao/llm_anno/content_only/textbook_content_20pages_25w/']\n",
    "\n",
    "df_toComplete = read_any_path(spark, \",\".join(file_paths), config)\n",
    "df_toComplete_flat = df_toComplete.rdd.map(lambda x: json.loads(x.value)).toDF()\n",
    "df_toComplete_flat"
   ]
  },
  {
   "cell_type": "code",
   "execution_count": 24,
   "id": "d6ffaa2d-8fc6-4899-9667-c9591119a494",
   "metadata": {
    "editable": true,
    "execution": {
     "iopub.execute_input": "2025-02-17T05:57:32.043134Z",
     "iopub.status.busy": "2025-02-17T05:57:32.042832Z",
     "iopub.status.idle": "2025-02-17T05:57:32.192061Z",
     "shell.execute_reply": "2025-02-17T05:57:32.191206Z",
     "shell.execute_reply.started": "2025-02-17T05:57:32.043115Z"
    },
    "slideshow": {
     "slide_type": ""
    },
    "tags": []
   },
   "outputs": [
    {
     "name": "stdout",
     "output_type": "stream",
     "text": [
      "root\n",
      " |-- value: string (nullable = true)\n",
      " |-- filename: string (nullable = true)\n",
      "\n"
     ]
    }
   ],
   "source": [
    "\n",
    "file_paths = ['s3://private-cooperate-data/zh-web-baijiahao/Articles/baijiahao_Articles_202401.jsonl']\n",
    "    # 's3://data-warehouse/sufutao/llm_anno/content_only/textbook_content_20pages_25w/']\n",
    "\n",
    "df_toComplete = read_any_path(spark, \",\".join(file_paths), config)\n",
    "df_toComplete.printSchema()"
   ]
  },
  {
   "cell_type": "code",
   "execution_count": 53,
   "id": "568fa9ff-f973-41a6-8b52-76f3bcd3053a",
   "metadata": {
    "execution": {
     "iopub.execute_input": "2025-02-17T07:31:13.905104Z",
     "iopub.status.busy": "2025-02-17T07:31:13.904818Z",
     "iopub.status.idle": "2025-02-17T07:31:15.864391Z",
     "shell.execute_reply": "2025-02-17T07:31:15.863634Z",
     "shell.execute_reply.started": "2025-02-17T07:31:13.905086Z"
    }
   },
   "outputs": [
    {
     "name": "stderr",
     "output_type": "stream",
     "text": [
      "                                                                                "
     ]
    }
   ],
   "source": [
    "df_toComplete_flat = df_toComplete.rdd.map(lambda x: json.loads(x.value)).toDF()"
   ]
  },
  {
   "cell_type": "code",
   "execution_count": 7,
   "id": "cf29a8c6-2ba3-4bde-83d9-2591b8eb2101",
   "metadata": {
    "editable": true,
    "execution": {
     "iopub.execute_input": "2025-02-18T06:22:09.215443Z",
     "iopub.status.busy": "2025-02-18T06:22:09.214865Z",
     "iopub.status.idle": "2025-02-18T06:22:09.221444Z",
     "shell.execute_reply": "2025-02-18T06:22:09.220600Z",
     "shell.execute_reply.started": "2025-02-18T06:22:09.215420Z"
    },
    "slideshow": {
     "slide_type": ""
    },
    "tags": []
   },
   "outputs": [
    {
     "name": "stderr",
     "output_type": "stream",
     "text": [
      "UsageError: Line magic function `%` not found.\n"
     ]
    }
   ],
   "source": [
    "    # create spark session\n",
    "from pyspark.sql import Row, DataFrame\n",
    "\n",
    "from app.common.spark_ext import *\n",
    "from app.common.json_util import *\n",
    "\n",
    "from app.common.s3 import *\n",
    "\n",
    "config = {\n",
    "    \"spark_conf_name\": \"spark_2\",\n",
    "    \"skip_success_check\": True,\n",
    "    # 根据个人路径进行替换\n",
    "    \"spark.executorEnv.LLM_WEB_KIT_CFG_PATH\": \"/share/jiangwenhao/.llm-web-kit.jsonc\",\n",
    "    \"spark.dynamicAllocation.maxExecutors\": \"400\",\n",
    "}\n",
    "\n",
    "# spark = new_spark_session(\"llm_kit_cc\", config)\n",
    "# spark"
   ]
  },
  {
   "cell_type": "code",
   "execution_count": 25,
   "id": "bd8f352e-ccdd-4fa5-99b1-2ea34f716b86",
   "metadata": {
    "execution": {
     "iopub.execute_input": "2025-02-17T06:01:18.216191Z",
     "iopub.status.busy": "2025-02-17T06:01:18.215902Z",
     "iopub.status.idle": "2025-02-17T06:01:18.225927Z",
     "shell.execute_reply": "2025-02-17T06:01:18.225475Z",
     "shell.execute_reply.started": "2025-02-17T06:01:18.216172Z"
    }
   },
   "outputs": [],
   "source": [
    "from pyspark.sql.types import (\n",
    "    StructType,\n",
    "    StructField,\n",
    "    StringType,\n",
    "    IntegerType,\n",
    "    FloatType,\n",
    "    ArrayType,\n",
    "    BooleanType\n",
    ")\n",
    "\n",
    "# 定义JSON模式\n",
    "json_schema = StructType([\n",
    "    # 顶层字段\n",
    "    StructField(\"channel\", StringType()),\n",
    "    StructField(\"mid\", StringType()),\n",
    "    StructField(\"gather\", StructType([\n",
    "        StructField(\"site_domain\", StringType()),\n",
    "        StructField(\"stime\", IntegerType()),\n",
    "        StructField(\"info_flag_v5\", StructType([\n",
    "            StructField(\"common\", ArrayType(StringType()))\n",
    "        ])),\n",
    "        StructField(\"site_name\", StringType()),\n",
    "        StructField(\"config_id\", StringType()),\n",
    "        StructField(\"gtime\", IntegerType()),\n",
    "        StructField(\"ICP\", StringType()),\n",
    "        StructField(\"data_type\", StringType()),\n",
    "        StructField(\"sub_domain\", ArrayType(StringType())),\n",
    "        StructField(\"stime_interval\", FloatType()),\n",
    "        StructField(\"interval\", IntegerType()),\n",
    "        StructField(\"info_flag\", ArrayType(StringType()))\n",
    "    ])),\n",
    "    StructField(\"title\", StringType()),\n",
    "    StructField(\"analysis\", StructType([\n",
    "        StructField(\"info_src\", StructType([\n",
    "            StructField(\"loc\", StructType([\n",
    "                StructField(\"province\", StringType()),\n",
    "                StructField(\"city\", StringType()),\n",
    "                StructField(\"level\", IntegerType()),\n",
    "                StructField(\"name\", ArrayType(StringType()))\n",
    "            ])),\n",
    "            StructField(\"domain\", StringType()),\n",
    "            StructField(\"name\", StringType()),\n",
    "            StructField(\"lv\", StructType([\n",
    "                StructField(\"level\", StringType()),\n",
    "                StructField(\"name\", StringType())\n",
    "            ])),\n",
    "            StructField(\"cls\", StructType([\n",
    "                StructField(\"level\", IntegerType()),\n",
    "                StructField(\"name\", ArrayType(StringType()))\n",
    "            ])),\n",
    "            StructField(\"type\", IntegerType())\n",
    "        ])),\n",
    "        StructField(\"hashcode\", StructType([\n",
    "            StructField(\"5\", IntegerType())\n",
    "        ])),\n",
    "        StructField(\"find_address\", StructType([\n",
    "            StructField(\"district_count\", IntegerType()),\n",
    "            StructField(\"province\", ArrayType(StringType())),\n",
    "            StructField(\"city\", ArrayType(StringType())),\n",
    "            StructField(\"province_count\", IntegerType()),\n",
    "            StructField(\"district\", ArrayType(StringType())),\n",
    "            StructField(\"words\", ArrayType(StringType())),\n",
    "            StructField(\"city_count\", IntegerType())\n",
    "        ]))\n",
    "    ])),\n",
    "    StructField(\"uuid\", StringType()),\n",
    "    StructField(\"url\", StringType()),\n",
    "    StructField(\"content\", StringType()),\n",
    "    StructField(\"wtype\", IntegerType()),\n",
    "    StructField(\"publisher\", StructType([\n",
    "        StructField(\"id\", StringType()),\n",
    "        StructField(\"platform\", StringType())\n",
    "    ])),\n",
    "    StructField(\"ctime\", IntegerType()),\n",
    "    StructField(\"user\", StructType([\n",
    "        StructField(\"friends_count\", IntegerType()),\n",
    "        StructField(\"analysis_location\", ArrayType(StringType())),\n",
    "        StructField(\"like_count\", IntegerType()),\n",
    "        StructField(\"profile_img_url\", StringType()),\n",
    "        StructField(\"gender\", StringType()),\n",
    "        StructField(\"level\", IntegerType()),\n",
    "        StructField(\"uid_org\", StringType()),\n",
    "        StructField(\"verified\", IntegerType()),\n",
    "        StructField(\"description\", StringType()),\n",
    "        StructField(\"url\", StringType()),\n",
    "        StructField(\"uid\", StringType()),\n",
    "        StructField(\"statuses_count\", IntegerType()),\n",
    "        StructField(\"followers_count\", IntegerType()),\n",
    "        StructField(\"name\", StringType()),\n",
    "        StructField(\"nickname\", StringType()),\n",
    "        StructField(\"verified_reason\", StringType())\n",
    "    ])),\n",
    "    StructField(\"content_xml\", StringType())\n",
    "])"
   ]
  },
  {
   "cell_type": "code",
   "execution_count": 26,
   "id": "05a23c35-f4e6-4a0f-8219-548cebe12a3a",
   "metadata": {
    "execution": {
     "iopub.execute_input": "2025-02-17T06:02:12.468571Z",
     "iopub.status.busy": "2025-02-17T06:02:12.468294Z",
     "iopub.status.idle": "2025-02-17T06:02:12.649437Z",
     "shell.execute_reply": "2025-02-17T06:02:12.648765Z",
     "shell.execute_reply.started": "2025-02-17T06:02:12.468553Z"
    }
   },
   "outputs": [],
   "source": [
    "\n",
    "parsed_df = df_toComplete.withColumn(\"parsed_value\", from_json(df_toComplete[\"value\"], json_schema))"
   ]
  },
  {
   "cell_type": "code",
   "execution_count": 50,
   "id": "f9762b9a-f5d4-4059-8d82-f3b4424c666e",
   "metadata": {
    "execution": {
     "iopub.execute_input": "2025-02-17T06:29:54.259829Z",
     "iopub.status.busy": "2025-02-17T06:29:54.259230Z",
     "iopub.status.idle": "2025-02-17T06:29:54.346777Z",
     "shell.execute_reply": "2025-02-17T06:29:54.346262Z",
     "shell.execute_reply.started": "2025-02-17T06:29:54.259811Z"
    }
   },
   "outputs": [],
   "source": [
    "from pyspark.sql.functions import explode\n",
    "# 展开嵌套的字段\n",
    "flattened_df = parsed_df.select(\n",
    "    # 顶层字段\n",
    "    \"parsed_value.channel\",\n",
    "    \"parsed_value.mid\",\n",
    "    \"parsed_value.title\",\n",
    "    \"parsed_value.uuid\",\n",
    "    \"parsed_value.content\",\n",
    "    \"parsed_value.ctime\",\n",
    "    \"parsed_value.gather\",\n",
    "    \"parsed_value.gather.site_name\",\n",
    "    \"parsed_value.gather.config_id\",\n",
    "    \"parsed_value.gather.gtime\",\n",
    "    \"parsed_value.gather.ICP\",\n",
    "    \"parsed_value.gather.data_type\",\n",
    "    \"parsed_value.gather.sub_domain\",\n",
    "    \"parsed_value.gather.stime_interval\",\n",
    "    \"parsed_value.gather.interval\",\n",
    "    \"parsed_value.gather.info_flag\",\n",
    "    \"parsed_value.analysis\",\n",
    "    \"parsed_value.url\",\n",
    "    \"parsed_value.wtype\",\n",
    "    \"parsed_value.publisher\",\n",
    "    \"parsed_value.user.analysis_location\",\n",
    "    \"parsed_value.user.like_count\",\n",
    "    \"parsed_value.user.profile_img_url\",\n",
    "    \"parsed_value.user.gender\",\n",
    "    \"parsed_value.user.level\",\n",
    "    \"parsed_value.user.uid_org\",\n",
    "    \"parsed_value.user.verified\",\n",
    "    \"parsed_value.user.description\",\n",
    "    \"parsed_value.user.url\",\n",
    "    \"parsed_value.user.uid\",\n",
    "    \"parsed_value.user.statuses_count\",\n",
    "    \"parsed_value.user.followers_count\",\n",
    "    \"parsed_value.user.name\",\n",
    "    \"parsed_value.user.nickname\",\n",
    "    \"parsed_value.user.verified_reason\",\n",
    "    \"parsed_value.content_xml\"\n",
    ")"
   ]
  },
  {
   "cell_type": "code",
   "execution_count": 51,
   "id": "518de9eb-de41-460e-9bed-637719536121",
   "metadata": {
    "execution": {
     "iopub.execute_input": "2025-02-17T06:29:56.036860Z",
     "iopub.status.busy": "2025-02-17T06:29:56.036421Z",
     "iopub.status.idle": "2025-02-17T06:30:13.881189Z",
     "shell.execute_reply": "2025-02-17T06:30:13.879904Z",
     "shell.execute_reply.started": "2025-02-17T06:29:56.036841Z"
    }
   },
   "outputs": [
    {
     "name": "stderr",
     "output_type": "stream",
     "text": [
      "[Stage 4:>                                                          (0 + 1) / 1]"
     ]
    },
    {
     "name": "stdout",
     "output_type": "stream",
     "text": [
      "+-------+-------------------+--------------------------------------+--------------------+-------------------------------------+----------+--------------------+---------+---------+----------+---------------+---------+--------------------+--------------+--------+----------+--------+--------------------+-----+----------------------+----------------------------------+----------+--------------------+------+-----+----------------+--------+--------------------------------------+--------------------+--------------------+--------------+---------------+------------------+------------------+--------------------------+--------------------+\n",
      "|channel|                mid|                                 title|                uuid|                              content|     ctime|              gather|site_name|config_id|     gtime|            ICP|data_type|          sub_domain|stime_interval|interval| info_flag|analysis|                 url|wtype|             publisher|                 analysis_location|like_count|     profile_img_url|gender|level|         uid_org|verified|                           description|                 url|                 uid|statuses_count|followers_count|              name|          nickname|           verified_reason|         content_xml|\n",
      "+-------+-------------------+--------------------------------------+--------------------+-------------------------------------+----------+--------------------+---------+---------+----------+---------------+---------+--------------------+--------------+--------+----------+--------+--------------------+-----+----------------------+----------------------------------+----------+--------------------+------+-----+----------------+--------+--------------------------------------+--------------------+--------------------+--------------+---------------+------------------+------------------+--------------------------+--------------------+\n",
      "|   文章|1786841249836510612|      深圳首批配售型保障性住房项目开工|1bdbb2b8a83c11ee9...|    据新华社深圳电  (记者赵瑞希)记...|1704038400|{baidu.com, 17040...| 百度百家|   165832|1704068661|京ICP证030173号|        1|[baijiahao.baidu....|     1.0392225|   30261|[01, 0101]|    null|https://baijiahao...|    1|{baidu.com|, 独立网站}|          [陕西省, 宝鸡市, 金台区]|  11788515|https://gips0.bai...|     n|    1|1660377736589959|       2|精选资讯，时事热点、健康养生、娱乐八卦|https://baijiahao...|3ctzcR05vOJ3vKtM7...|       1381310|         733902|          金台资讯|          金台资讯|    人民网精选资讯官方账号|<div class=\"mainC...|\n",
      "|   文章|1786851848971160762|                    梅江区举行首届村晚|7547ceeaa84b11ee9...|    首届梅江村晚2024新年联欢活动现...|1704038700|{baidu.com, 17040...| 百度百家|   165832|1704075253|京ICP证030173号|        1|[baijiahao.baidu....|     1.6974401|   36553|[01, 0101]|    null|https://baijiahao...|    1|{baidu.com|, 独立网站}|                          [广东省]|     61155|https://gips0.bai...|     n|    0|1736142767086340|       2|    《南方日报》，中共广东省委机关报。|https://baijiahao...|7B0JND1hTyn5AJ3fn...|         35536|          16239|          南方日报|          南方日报|          南方日报官方账号|<div class=\"mainC...|\n",
      "|   文章|1786841249840797488| 推动新时代爱国主义教育广泛深入持久...|16723766a83c11eeb...|          本报记者  金  歆\\n2024年...|1704038400|{baidu.com, 17040...| 百度百家|   165832|1704068652|京ICP证030173号|        1|[baijiahao.baidu....|    0.80089164|   30252|[01, 0101]|    null|https://baijiahao...|    1|{baidu.com|, 独立网站}|          [陕西省, 宝鸡市, 金台区]|  11788515|https://gips0.bai...|     n|    1|1660377736589959|       2|精选资讯，时事热点、健康养生、娱乐八卦|https://baijiahao...|3ctzcR05vOJ3vKtM7...|       1381310|         733902|          金台资讯|          金台资讯|    人民网精选资讯官方账号|<div class=\"mainC...|\n",
      "|   文章|1786841249839268921|  “中华文明为人类文明进步作出重要贡献”|3e521012a83c11eeb...|       本报记者  张志文  任皓宇\\n“...|1704038400|{baidu.com, 17040...| 百度百家|   165832|1704068719|京ICP证030173号|        1|[baijiahao.baidu....|     1.1461313|   30319|[01, 0101]|    null|https://baijiahao...|    1|{baidu.com|, 独立网站}|          [陕西省, 宝鸡市, 金台区]|  11788515|https://gips0.bai...|     n|    1|1660377736589959|       2|精选资讯，时事热点、健康养生、娱乐八卦|https://baijiahao...|3ctzcR05vOJ3vKtM7...|       1381310|         733902|          金台资讯|          金台资讯|    人民网精选资讯官方账号|<div class=\"mainC...|\n",
      "|   文章|1786858777148219991| 阳朔县举办第二十三届漓江渔火节暨金...|a66995d4a85b11eea...|   本文转自：人民网-广西频道\\n开幕...|1704040560|{baidu.com, 17040...| 百度百家|   165832|1704082207|京ICP证030173号|        1|[baijiahao.baidu....|     1.6209943|   41647|[01, 0101]|    null|https://baijiahao...|    1|{baidu.com|, 独立网站}|                          [北京市]|  16774561|https://gips0.bai...|     n|    1|1669728810290752|       2|                人民网内容聚合分发业务|https://baijiahao...|MR_eE9rAyJU7m3JzY...|       3146007|        1368146|          人民资讯|          人民资讯|          人民科技官方账号|<div class=\"mainC...|\n",
      "|   文章|1786810992616547479| 突然公告！以岭药业、用友网络、南方...|14a62348a7f611ee8...|突然公告！以岭药业、用友网络、南方...|1704038400|{baidu.com, 17040...| 百度百家|   165832|1704038584|京ICP证030173号|        1|[baijiahao.baidu....|     1.0757899|     184|[01, 0101]|    null|https://baijiahao...|    1|{baidu.com|, 独立网站}|[河北省, 秦皇岛市, 青龙满族自治县]|    567491|https://gips0.bai...|     n|    1|1611371197652585|       2|    专注财经，分享有用逻辑，共同进步！|https://baijiahao...|o3Z8y7vA5ZGaX_Rme...|         20056|          53068|          老红财经|          老红财经|            财经领域创作者|<div class=\"mainC...|\n",
      "|   文章|1786847476348431331|         优胜项目部最高可获150万元奖励|181766f4a84111eeb...| 本报讯 （记者刘旭）记者日前获悉，...|1704040620|{baidu.com, 17040...| 百度百家|   165832|1704070802|京ICP证030173号|        1|[baijiahao.baidu....|     0.6751349|   30182|[01, 0101]|    null|https://baijiahao...|    1|{baidu.com|, 独立网站}|                              null|   1501027|https://gips0.bai...|     n|    1|1572593345615296|       2|  面向企业，面向工会，为亿万职工服务。|https://baijiahao...|JRewdT-eEFq8WrS4m...|        135907|         113942|          工人日报|          工人日报|                工人日报社|<div class=\"mainC...|\n",
      "|   文章|1786851849796656199|          白云机场成世界最大单体航站楼|6034c620a84b11eeb...|    南方日报讯 （记者/刘倩 通讯员/...|1704043140|{baidu.com, 17040...| 百度百家|   165832|1704075218|京ICP证030173号|        1|[baijiahao.baidu....|     1.4968805|   32078|[01, 0101]|    null|https://baijiahao...|    1|{baidu.com|, 独立网站}|                          [广东省]|     61155|https://gips0.bai...|     n|    0|1736142767086340|       2|    《南方日报》，中共广东省委机关报。|https://baijiahao...|7B0JND1hTyn5AJ3fn...|         35536|          16239|          南方日报|          南方日报|          南方日报官方账号|<div class=\"mainC...|\n",
      "|   文章|1786847413196121324|      「年终策划」2023劳动者的高光时刻|00461e08a84111eea...|           图①：2023年5月30日6时42...|1704040680|{baidu.com, 17040...| 百度百家|   165832|1704070762|京ICP证030173号|        1|[baijiahao.baidu....|     1.3874829|   30082|[01, 0101]|    null|https://baijiahao...|    1|{baidu.com|, 独立网站}|                              null|   1501027|https://gips0.bai...|     n|    1|1572593345615296|       2|  面向企业，面向工会，为亿万职工服务。|https://baijiahao...|JRewdT-eEFq8WrS4m...|        135907|         113942|          工人日报|          工人日报|                工人日报社|<div class=\"mainC...|\n",
      "|   文章|1786847413203079200|深圳认定59家单位为终身职业技能培训载体|15a08e46a84111ee8...|   本报讯（记者刘友婷）前不久，202...|1704040740|{baidu.com, 17040...| 百度百家|   165832|1704070797|京ICP证030173号|        1|[baijiahao.baidu....|     1.3966355|   30057|[01, 0101]|    null|https://baijiahao...|    1|{baidu.com|, 独立网站}|                              null|   1501027|https://gips0.bai...|     n|    1|1572593345615296|       2|  面向企业，面向工会，为亿万职工服务。|https://baijiahao...|JRewdT-eEFq8WrS4m...|        135907|         113942|          工人日报|          工人日报|                工人日报社|<div class=\"mainC...|\n",
      "|   文章|1786491915779736490|    减肥控糖水果6吃6不吃！多选低糖/...|f44e19dca9c811eea...|大家好，我是营养师姚小谦，专注健康...|1704045600|{baidu.com, 17042...| 百度百家|   165832|1704239104|京ICP证030173号|        1|[baijiahao.baidu....|     1.4613392|  193504|[01, 0101]|    null|https://baijiahao...|    1|{baidu.com|, 独立网站}|    [广东省, 广州市, 白云区, 贵...|     68152|https://gips0.bai...|     n|    0|1766689217076266|       2|   专注减肥10年 | 关注我，每天分享干货|https://baijiahao...|a4mZDyVDsc9f-oJra...|          1645|           5660|      小谦减肥日记|      小谦减肥日记| 健康领域创作者,活力创作者|<div class=\"mainC...|\n",
      "|   文章|1786826608987773041|     元旦临近 玉泉区新年喜庆氛围“拉满”|37ef8f5ea84d11eea...|游人在呼和浩特市玉泉区塞上老街旅游...|1704050640|{baidu.com, 17040...| 百度百家|   168647|1704076009|京ICP证030173号|        1|[baijiahao.baidu....|     1.2659433|   25369|[01, 0101]|    null|https://baijiahao...|    1|{baidu.com|, 独立网站}|                              null|  84476198|https://gips0.bai...|     n|    1|1631765915188804|       2|    澎湃，专注事实与思想的媒体开放平台|https://baijiahao...|35TaOw_Hqd9dceau_...|       9851229|        5904445|    澎湃新闻客户端|    澎湃新闻客户端|          澎湃新闻旗下账号|<div class=\"mainC...|\n",
      "|   文章|1786826844308627901| 山西一住建局执法队公职人员酒后打人...|3b0ae4b8a84d11eea...|近日，一段反映山西省吕梁市兴县住建...|1704050820|{baidu.com, 17040...| 百度百家|   168647|1704076014|京ICP证030173号|        1|[baijiahao.baidu....|     2.4758344|   25194|[01, 0101]|    null|https://baijiahao...|    1|{baidu.com|, 独立网站}|                              null|  84476198|https://gips0.bai...|     n|    1|1631765915188804|       2|    澎湃，专注事实与思想的媒体开放平台|https://baijiahao...|35TaOw_Hqd9dceau_...|       9851229|        5904445|    澎湃新闻客户端|    澎湃新闻客户端|          澎湃新闻旗下账号|<div class=\"mainC...|\n",
      "|   文章|1786826883586721276|  平安班玛建设丨保护三江源第一松 弘...|71ac309ea84d11eeb...|为切实加大古树名木资源保护力度，依...|1704050880|{baidu.com, 17040...| 百度百家|   168647|1704076106|京ICP证030173号|        1|[baijiahao.baidu....|     2.3992786|   25226|[01, 0101]|    null|https://baijiahao...|    1|{baidu.com|, 独立网站}|                              null|  84476198|https://gips0.bai...|     n|    1|1631765915188804|       2|    澎湃，专注事实与思想的媒体开放平台|https://baijiahao...|35TaOw_Hqd9dceau_...|       9851229|        5904445|    澎湃新闻客户端|    澎湃新闻客户端|          澎湃新闻旗下账号|<div class=\"mainC...|\n",
      "|   文章|1786826972586409835| 聚焦两会丨长岭县第十九届人民代表大...|26ba9e04a84d11ee9...|长岭县第十九届人民代表大会第三次会...|1704050940|{baidu.com, 17040...| 百度百家|   168647|1704075980|京ICP证030173号|        1|[baijiahao.baidu....|     1.5938375|   25040|[01, 0101]|    null|https://baijiahao...|    1|{baidu.com|, 独立网站}|                              null|  84476198|https://gips0.bai...|     n|    1|1631765915188804|       2|    澎湃，专注事实与思想的媒体开放平台|https://baijiahao...|35TaOw_Hqd9dceau_...|       9851229|        5904445|    澎湃新闻客户端|    澎湃新闻客户端|          澎湃新闻旗下账号|<div class=\"mainC...|\n",
      "|   文章|1786831025236976232|                    柳玭对人以表扬为主|6865a2dea84a11eeb...|唐朝大夫柳玭被贬为泸州郡守。此时，...|1704055140|{baidu.com, 17040...| 百度百家|   165832|1704074802|京ICP证030173号|        1|[baijiahao.baidu....|     1.5137751|   19662|[01, 0101]|    null|https://baijiahao...|    1|{baidu.com|, 独立网站}|                          [山东省]|      2720|https://gips0.bai...|     n|    0|1754718122985745|       1|          让我们铭记历史，典史的中国——|https://baijiahao...|affR14Z2DtYnEXeww...|           729|            276|      典籍里的通史|      典籍里的通史|                      null|<div class=\"mainC...|\n",
      "|   文章|1786817182824932673| 《繁花》：三个女人一台戏，玲子怎么...|a1b16286a84e11eea...|当代都市剧《繁花》由王家卫执导、监...|1704056040|{baidu.com, 17040...| 百度百家|   165832|1704076616|京ICP证030173号|        1|[baijiahao.baidu....|     1.7669854|   20576|[01, 0101]|    null|https://baijiahao...|    1|{baidu.com|, 独立网站}|          [河南省, 南阳市, 卧龙区]|     37552|https://gips0.bai...|     n|    0|1763674005738422|       1| 娱乐、明星、网红，八卦天天送！欢迎...|https://baijiahao...|avDOpIWTqWYScmV_Z...|           555|           2076|      撒娇鬼说娱乐|      撒娇鬼说娱乐|                      null|<div class=\"mainC...|\n",
      "|   文章|1786851848971840445|                            邻睦风亦暖|80a54380a84b11ee9...|  赖雪红\\n坐在电脑前，想写点什么，...|1704044760|{baidu.com, 17040...| 百度百家|   165832|1704075272|京ICP证030173号|        1|[baijiahao.baidu....|     1.7867186|   30512|[01, 0101]|    null|https://baijiahao...|    1|{baidu.com|, 独立网站}|                          [广东省]|     61155|https://gips0.bai...|     n|    0|1736142767086340|       2|    《南方日报》，中共广东省委机关报。|https://baijiahao...|7B0JND1hTyn5AJ3fn...|         35536|          16239|          南方日报|          南方日报|          南方日报官方账号|<div class=\"mainC...|\n",
      "|   文章|1786615215063397108|     山东煦滨律师事务所2023年度工作...|62f76a02a85011eea...|从蓦然回首到灯火阑珊，时间的意义在...|1704060240|{baidu.com, 17040...| 百度百家|   165832|1704077369|京ICP证030173号|        1|[baijiahao.baidu....|       5.19889|   17129|[01, 0101]|    null|https://baijiahao...|    1|{baidu.com|, 独立网站}|          [山东省, 烟台市, 莱山区]|      7002|https://gips0.bai...|     n|    0|1727348131017978|       2|一家有情怀、有温度、专业化的律师事务所|https://baijiahao...|O-wAyKm1EtOr2fQWZ...|           186|          28253|山东煦滨律师事务所|山东煦滨律师事务所|山东煦滨律师事务所官方账号|<div class=\"mainC...|\n",
      "|   文章|1786839140523328380|              “让澳门民众感受国粹之美”|a2e49616a86011eea...|      本报记者  张  盼\\n京剧《红鬃...|1704052140|{baidu.com, 17040...| 百度百家|   165832|1704084349|京ICP证030173号|        1|[baijiahao.baidu....|     1.9826236|   32209|[01, 0101]|    null|https://baijiahao...|    1|{baidu.com|, 独立网站}|          [陕西省, 宝鸡市, 金台区]|  11792732|https://gips0.bai...|     n|    1|1660377736589959|       2|精选资讯，时事热点、健康养生、娱乐八卦|https://baijiahao...|3ctzcR05vOJ3vKtM7...|       1381310|         733981|          金台资讯|          金台资讯|    人民网精选资讯官方账号|<div class=\"mainC...|\n",
      "+-------+-------------------+--------------------------------------+--------------------+-------------------------------------+----------+--------------------+---------+---------+----------+---------------+---------+--------------------+--------------+--------+----------+--------+--------------------+-----+----------------------+----------------------------------+----------+--------------------+------+-----+----------------+--------+--------------------------------------+--------------------+--------------------+--------------+---------------+------------------+------------------+--------------------------+--------------------+\n",
      "only showing top 20 rows\n",
      "\n"
     ]
    },
    {
     "name": "stderr",
     "output_type": "stream",
     "text": [
      "                                                                                "
     ]
    }
   ],
   "source": [
    "flattened_df.show()"
   ]
  },
  {
   "cell_type": "code",
   "execution_count": null,
   "id": "0cdfba1a-67c2-4020-a425-4424bcfc6ed7",
   "metadata": {},
   "outputs": [],
   "source": []
  }
 ],
 "metadata": {
  "kernelspec": {
   "display_name": "Python code_clean_venv (ipykernel)",
   "language": "python",
   "name": "test_venv"
  },
  "language_info": {
   "codemirror_mode": {
    "name": "ipython",
    "version": 3
   },
   "file_extension": ".py",
   "mimetype": "text/x-python",
   "name": "python",
   "nbconvert_exporter": "python",
   "pygments_lexer": "ipython3",
   "version": "3.10.9"
  }
 },
 "nbformat": 4,
 "nbformat_minor": 5
}
