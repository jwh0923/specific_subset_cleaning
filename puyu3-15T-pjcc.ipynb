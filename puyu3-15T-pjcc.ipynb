{
 "cells": [
  {
   "cell_type": "code",
   "execution_count": 16,
   "id": "bcb4d241-68a9-409f-b437-2c9e7d01db5d",
   "metadata": {
    "execution": {
     "iopub.execute_input": "2025-03-18T09:59:24.029279Z",
     "iopub.status.busy": "2025-03-18T09:59:24.028987Z",
     "iopub.status.idle": "2025-03-18T09:59:34.611372Z",
     "shell.execute_reply": "2025-03-18T09:59:34.610707Z",
     "shell.execute_reply.started": "2025-03-18T09:59:24.029261Z"
    }
   },
   "outputs": [
    {
     "name": "stderr",
     "output_type": "stream",
     "text": [
      "/tmp/ipykernel_66237/2676430928.py:9: DeprecationWarning: `app.common.spark_ext` is deprecated, use `xinghe.spark` instead.\n",
      "  from app.common.spark_ext import *\n",
      "Setting default log level to \"WARN\".\n",
      "To adjust logging level use sc.setLogLevel(newLevel). For SparkR, use setLogLevel(newLevel).\n",
      "25/03/18 17:59:34 WARN YarnSchedulerBackend$YarnSchedulerEndpoint: Attempted to request executors before the AM has registered!\n"
     ]
    }
   ],
   "source": [
    "# create spark session\n",
    "import uuid\n",
    "import time\n",
    "\n",
    "from pyspark.sql import Row, DataFrame\n",
    "from pyspark.sql.functions import explode, count,col, format_number\n",
    "from pyspark.sql.types import StructType, StructField, StringType, BooleanType, ArrayType\n",
    "\n",
    "from app.common.spark_ext import *\n",
    "from app.common.json_util import *\n",
    "from app.common.s3 import *\n",
    "from app.common.json_util import *\n",
    "\n",
    "config = {\n",
    "    \"spark_conf_name\": \"spark_4\",\n",
    "    \"skip_success_check\": True,\n",
    "    # \"spark.dynamicAllocation.maxExecutors\":120,\n",
    "    \"spark.executorEnv.HOME\": \"/share/shijin\",\n",
    "}\n",
    "\n",
    "spark = new_spark_session(\"dingo-puyu3-hf\", config)"
   ]
  },
  {
   "cell_type": "markdown",
   "id": "8470364b-5d54-4497-b7a7-d61e0ee567e3",
   "metadata": {},
   "source": [
    "# 抽取数据"
   ]
  },
  {
   "cell_type": "code",
   "execution_count": 3,
   "id": "1b8a1027-8d94-4e22-9c3a-658d4e3838ae",
   "metadata": {
    "execution": {
     "iopub.execute_input": "2025-03-13T10:57:40.949225Z",
     "iopub.status.busy": "2025-03-13T10:57:40.948754Z",
     "iopub.status.idle": "2025-03-13T10:57:46.152490Z",
     "shell.execute_reply": "2025-03-13T10:57:46.151887Z",
     "shell.execute_reply.started": "2025-03-13T10:57:40.949203Z"
    }
   },
   "outputs": [],
   "source": [
    "# read data\n",
    "input_paths = [\n",
    "    \"s3://qa-huawei/shijin/15T/pjcc/sample_data/zh/\"\n",
    "]\n",
    "input_df = read_any_path(spark, \",\".join(input_paths), config)"
   ]
  },
  {
   "cell_type": "code",
   "execution_count": 5,
   "id": "2cc66e17-98da-4f45-83f7-f58b95be9a65",
   "metadata": {
    "execution": {
     "iopub.execute_input": "2025-03-07T12:00:40.932588Z",
     "iopub.status.busy": "2025-03-07T12:00:40.932440Z",
     "iopub.status.idle": "2025-03-07T12:01:02.598497Z",
     "shell.execute_reply": "2025-03-07T12:01:02.597770Z",
     "shell.execute_reply.started": "2025-03-07T12:00:40.932574Z"
    }
   },
   "outputs": [
    {
     "name": "stderr",
     "output_type": "stream",
     "text": [
      "                                                                                "
     ]
    },
    {
     "data": {
      "text/plain": [
       "11748"
      ]
     },
     "execution_count": 5,
     "metadata": {},
     "output_type": "execute_result"
    }
   ],
   "source": [
    "input_df_total=input_df.count()\n",
    "input_df_total"
   ]
  },
  {
   "cell_type": "code",
   "execution_count": 17,
   "id": "bf75667a-802f-4b12-af5c-cf482f9df09a",
   "metadata": {
    "execution": {
     "iopub.execute_input": "2025-01-08T07:21:21.777347Z",
     "iopub.status.busy": "2025-01-08T07:21:21.777023Z",
     "iopub.status.idle": "2025-01-08T07:21:45.303534Z",
     "shell.execute_reply": "2025-01-08T07:21:45.302854Z",
     "shell.execute_reply.started": "2025-01-08T07:21:21.777327Z"
    }
   },
   "outputs": [
    {
     "name": "stderr",
     "output_type": "stream",
     "text": [
      "                                                                                \r"
     ]
    },
    {
     "data": {
      "text/plain": [
       "150"
      ]
     },
     "execution_count": 17,
     "metadata": {},
     "output_type": "execute_result"
    }
   ],
   "source": [
    "# sample data\n",
    "sample_df = input_df.sample(fraction=160/input_df_total).rdd.toDF().limit(150)\n",
    "sample_df.count()"
   ]
  },
  {
   "cell_type": "code",
   "execution_count": null,
   "id": "a87f5b0e-c5a5-4cf9-9db6-af3416af6cd2",
   "metadata": {},
   "outputs": [],
   "source": [
    "output_acc = S3UploadAcc(spark.sparkContext)\n",
    "output_path = \"s3://qa-huawei/shijin/15T/pjcc/human_check/zh/\"\n",
    "\n",
    "sample_df.repartition(1).foreachPartition(upload_to_s3(output_path, \"jsonl\", output_acc, 0))"
   ]
  },
  {
   "cell_type": "code",
   "execution_count": 4,
   "id": "e5e29dab-3338-4b6a-ae35-39147d55519b",
   "metadata": {
    "execution": {
     "iopub.execute_input": "2025-01-08T03:13:37.243019Z",
     "iopub.status.busy": "2025-01-08T03:13:37.242486Z",
     "iopub.status.idle": "2025-01-08T03:13:44.303963Z",
     "shell.execute_reply": "2025-01-08T03:13:44.303149Z",
     "shell.execute_reply.started": "2025-01-08T03:13:37.243000Z"
    }
   },
   "outputs": [
    {
     "name": "stderr",
     "output_type": "stream",
     "text": [
      "                                                                                \r"
     ]
    }
   ],
   "source": [
    "# process data\n",
    "def process_data(row) -> Row:\n",
    "    data = json_loads(row.value)\n",
    "    content_qa = Doc(data).content\n",
    "    data['content_qa'] = content_qa\n",
    "    return Row(value=json_dumps(data))\n",
    "\n",
    "process_df = sample_df.rdd.map(process_data).toDF()"
   ]
  },
  {
   "cell_type": "code",
   "execution_count": 5,
   "id": "0a55ab38-be03-4ab5-aeb2-9ce0e63a1ca3",
   "metadata": {
    "execution": {
     "iopub.execute_input": "2025-01-08T03:13:44.306013Z",
     "iopub.status.busy": "2025-01-08T03:13:44.305297Z",
     "iopub.status.idle": "2025-01-08T03:15:53.507224Z",
     "shell.execute_reply": "2025-01-08T03:15:53.506626Z",
     "shell.execute_reply.started": "2025-01-08T03:13:44.305986Z"
    },
    "scrolled": true
   },
   "outputs": [
    {
     "name": "stderr",
     "output_type": "stream",
     "text": [
      "                                                                                \r"
     ]
    },
    {
     "data": {
      "text/plain": [
       "{'rows': 12003,\n",
       " 'bytes': {'sum': 595619325,\n",
       "  'min': 3060,\n",
       "  'max': 5073613,\n",
       "  'cnt': 12003,\n",
       "  'avg': 49622.538},\n",
       " 'files': 1554,\n",
       " 'sub_paths': {'en/en-pj-cc': {'rows': 12003,\n",
       "   'bytes': {'sum': 595619325,\n",
       "    'min': 3060,\n",
       "    'max': 5073613,\n",
       "    'cnt': 12003,\n",
       "    'avg': 49622.538},\n",
       "   'files': 1554}}}"
      ]
     },
     "execution_count": 5,
     "metadata": {},
     "output_type": "execute_result"
    }
   ],
   "source": [
    "# write data\n",
    "output_path = \"s3://qa-huawei/shijin/15T/pjcc/sample_data/en\"\n",
    "write_any_path(process_df, output_path, config)"
   ]
  },
  {
   "cell_type": "markdown",
   "id": "f0fe6ec0-35cd-4049-9730-6a1d42f58eaf",
   "metadata": {},
   "source": [
    "# 机器质检"
   ]
  },
  {
   "cell_type": "code",
   "execution_count": 17,
   "id": "3c9e44d5-80fb-4ad6-aafd-da82dc4ca3cd",
   "metadata": {
    "execution": {
     "iopub.execute_input": "2025-03-18T09:59:34.613076Z",
     "iopub.status.busy": "2025-03-18T09:59:34.612572Z",
     "iopub.status.idle": "2025-03-18T09:59:41.282440Z",
     "shell.execute_reply": "2025-03-18T09:59:41.281919Z",
     "shell.execute_reply.started": "2025-03-18T09:59:34.613054Z"
    }
   },
   "outputs": [],
   "source": [
    "input_paths = [\n",
    "    \"s3://llm-users-phdd2/jiangwenhao/article/zh-web-tencent/v003/\",\n",
    "]\n",
    "\n",
    "input_df = read_any_path(spark, \",\".join(input_paths), config)\n"
   ]
  },
  {
   "cell_type": "code",
   "execution_count": null,
   "id": "c5dba268-440c-4979-b152-f8dd97062937",
   "metadata": {
    "execution": {
     "execution_failed": "2025-03-18T09:28:23.727Z"
    }
   },
   "outputs": [],
   "source": [
    "#input_review_rdd = input_df.rdd.map(lambda x: {**json.loads(x.value), \"filename\": x.filename}).filter(lambda x : not x['content_qa']))"
   ]
  },
  {
   "cell_type": "code",
   "execution_count": null,
   "id": "cd8a3b7e-88a7-46be-aee5-80ad8e186277",
   "metadata": {
    "execution": {
     "execution_failed": "2025-03-18T09:28:23.727Z"
    }
   },
   "outputs": [],
   "source": [
    "# input_review_rdd.take(1)[0]"
   ]
  },
  {
   "cell_type": "code",
   "execution_count": 6,
   "id": "82466a88-2ffd-49c6-b1cf-0ab68f304b26",
   "metadata": {
    "execution": {
     "iopub.execute_input": "2025-03-17T10:05:15.056720Z",
     "iopub.status.busy": "2025-03-17T10:05:15.056360Z",
     "iopub.status.idle": "2025-03-17T10:07:44.766661Z",
     "shell.execute_reply": "2025-03-17T10:07:44.766066Z",
     "shell.execute_reply.started": "2025-03-17T10:05:15.056704Z"
    }
   },
   "outputs": [
    {
     "name": "stderr",
     "output_type": "stream",
     "text": [
      "                                                                                "
     ]
    },
    {
     "data": {
      "text/plain": [
       "157726394"
      ]
     },
     "execution_count": 6,
     "metadata": {},
     "output_type": "execute_result"
    }
   ],
   "source": [
    "input_df.count()"
   ]
  },
  {
   "cell_type": "code",
   "execution_count": null,
   "id": "878b48a0-1bb5-40c7-a791-836b1c2d446c",
   "metadata": {},
   "outputs": [],
   "source": []
  },
  {
   "cell_type": "code",
   "execution_count": null,
   "id": "13792bb1-3633-4b03-9107-f4c9875e8bd2",
   "metadata": {
    "collapsed": true,
    "jupyter": {
     "outputs_hidden": true
    }
   },
   "outputs": [],
   "source": []
  },
  {
   "cell_type": "code",
   "execution_count": 18,
   "id": "304c9ee0-9ea9-4557-8a22-355b40501994",
   "metadata": {
    "execution": {
     "iopub.execute_input": "2025-03-18T09:59:41.283546Z",
     "iopub.status.busy": "2025-03-18T09:59:41.283279Z",
     "iopub.status.idle": "2025-03-18T09:59:43.368307Z",
     "shell.execute_reply": "2025-03-18T09:59:43.367810Z",
     "shell.execute_reply.started": "2025-03-18T09:59:41.283530Z"
    }
   },
   "outputs": [],
   "source": [
    "from dingo.io import MetaData\n",
    "\n",
    "input_rdd = input_df.rdd\n",
    "input_rdd_format = input_rdd.map(lambda x: MetaData(\n",
    "    data_id= str(json.loads(x.value)['track_id']),\n",
    "    prompt='',\n",
    "    content=json.loads(x.value)['content_qa'],\n",
    "    # image=json.loads(x.value)['image'],\n",
    "    # raw_data = json.loads(x.value)\n",
    "))\n"
   ]
  },
  {
   "cell_type": "code",
   "execution_count": null,
   "id": "0efdf002-0a89-4522-b8fe-9f23f3b32b65",
   "metadata": {},
   "outputs": [],
   "source": []
  },
  {
   "cell_type": "code",
   "execution_count": 19,
   "id": "c90f2e4b-fc4f-45ff-89de-3b785a6de14e",
   "metadata": {
    "execution": {
     "iopub.execute_input": "2025-03-18T09:59:43.386451Z",
     "iopub.status.busy": "2025-03-18T09:59:43.386234Z",
     "iopub.status.idle": "2025-03-18T10:11:21.867391Z",
     "shell.execute_reply": "2025-03-18T10:11:21.866728Z",
     "shell.execute_reply.started": "2025-03-18T09:59:43.386435Z"
    }
   },
   "outputs": [
    {
     "name": "stdout",
     "output_type": "stream",
     "text": [
      "============= Init pyspark =============\n",
      "============== Init Done ===============\n"
     ]
    },
    {
     "name": "stderr",
     "output_type": "stream",
     "text": [
      "[Stage 9:===================>                              (1390 + 1917) / 3623]"
     ]
    },
    {
     "name": "stdout",
     "output_type": "stream",
     "text": [
      "{'task_id': '5147a478-03e1-11f0-a9fe-e8ebd34ed3cc', 'task_name': 'dingo', 'eval_group': 'qa_standard_v1', 'input_path': '', 'output_path': '', 'create_time': '20250318_175946', 'finish_time': '20250318_181121', 'score': 100.0, 'num_good': 157725218, 'num_bad': 1176, 'total': 157726394, 'type_ratio': {'QUALITY_BAD_EFFECTIVENESS': 7e-06}, 'name_ratio': {'QUALITY_BAD_EFFECTIVENESS-RuleAbnormalChar': 3e-06, 'QUALITY_BAD_EFFECTIVENESS-RuleAbnormalHtml': 2e-06, 'QUALITY_BAD_EFFECTIVENESS-RuleOnlyUrl': 2e-06}}\n"
     ]
    },
    {
     "name": "stderr",
     "output_type": "stream",
     "text": [
      "                                                                                "
     ]
    }
   ],
   "source": [
    "from pyspark import SparkConf\n",
    "\n",
    "from dingo.model.model import Model\n",
    "from dingo.io import InputArgs\n",
    "from dingo.exec import Executor\n",
    "\n",
    "input_data = {\n",
    "    \"eval_group\": \"qa_standard_v1\",\n",
    "    'input_path': 'redpajama',\n",
    "    'save_data': True,\n",
    "    # 'save_raw': True\n",
    "}\n",
    "# input_data = {\n",
    "#     \"eval_group\": \"test\",\n",
    "#     \"input_path\": \"redpajama\",  # local filesystem dataset\n",
    "#     \"save_data\": True,\n",
    "#     \"custom_config\":\n",
    "#         {\n",
    "#             \"rule_list\": [\"CommonSpecialCharacter\", \"CommonColonEnd\"],\n",
    "#             \"prompt_list\": [\"LLMRepeat\"],\n",
    "#             \"llm_config\":\n",
    "#                 {\n",
    "#                     \"detect_text_quality\":\n",
    "#                         {\n",
    "#                             \"key\": \"sk-proj-CwgXjGGBKq9vBI0Lue3jT3BlbkFJ5GnKDvQtrCmlwdHoea04\",\n",
    "#                             \"api_url\": \"http://10.140.54.48:26666/v1\",\n",
    "#                         }\n",
    "#                 }\n",
    "#         }\n",
    "# }\n",
    "# Model.apply_config(input_data['custom_config_path'])\n",
    "input_args = InputArgs(**input_data)\n",
    "executor = Executor.exec_map[\"spark\"](input_args, spark_session=spark, spark_rdd=input_rdd_format)\n",
    "result = executor.execute()\n",
    "result = result[0].to_dict()\n",
    "print(result)"
   ]
  },
  {
   "cell_type": "code",
   "execution_count": 133,
   "id": "cc100bab-a63a-4ae5-b224-2edc124798cb",
   "metadata": {
    "execution": {
     "iopub.execute_input": "2025-03-18T10:30:36.538867Z",
     "iopub.status.busy": "2025-03-18T10:30:36.538537Z",
     "iopub.status.idle": "2025-03-18T10:30:36.543941Z",
     "shell.execute_reply": "2025-03-18T10:30:36.543540Z",
     "shell.execute_reply.started": "2025-03-18T10:30:36.538848Z"
    }
   },
   "outputs": [],
   "source": [
    "import re\n",
    "def is_url_only_content(content: str) -> bool:\n",
    "    \"\"\"判断内容是否全部由URL构成（改进分割逻辑）\"\"\"\n",
    "    if not content.strip():\n",
    "        return False\n",
    "    \n",
    "    # 分割策略：仅按空白符（空格、换行等）分割，保留URL内部字符\n",
    "    segments = re.split(r\"\"\"\\n+|[\\s\\'\">]+|'\"\"\", content.strip())\n",
    "    return all(\n",
    "        is_single_url(segment)\n",
    "        for segment in segments\n",
    "        if segment.strip()  # 过滤空段落\n",
    "    )\n",
    "\n",
    "# 预编译正则表达式（网页1、网页2、网页3）\n",
    "\n",
    "URL_PATTERN = re.compile(\n",
    "    r'^'\n",
    "    r'(?:(?:https?):\\/\\/)?'  # 协议头（非捕获组优化）\n",
    "    r'(?:www\\.)?'            # 可选www前缀（网页2非捕获组建议）\n",
    "    r'(?:'                   # 主域名部分（原子组优化）\n",
    "        r'(?:[a-zA-Z0-9-]{1,63}\\.)+[a-zA-Z]{2,63}'  # 域名结构（网页1长度限制）\n",
    "        r'|'                                        # 或IP地址\n",
    "        r'(?:\\d{1,3}\\.){3}\\d{1,3}'                 # IPv4（精确匹配）\n",
    "        r'|'                                        # 或\n",
    "        r'$$([a-f0-9:]+)$$'                        # IPv6（网页4特殊符号处理）\n",
    "    r')'\n",
    "    r'(?::\\d{1,5})?'         # 端口号（限制1-5位数字）\n",
    "    r'(?:\\/'                 # 路径参数（网页3回溯预防）\n",
    "        r'[\\w$-_.+!*\\'(),%;&=@~#]*'  # 安全字符集（排除回溯风险）\n",
    "        r'(?:%[0-9a-fA-F]{2})*'      # 编码字符（替代宽泛匹配）\n",
    "    r')*'                   # 允许多级路径\n",
    "    r'$', \n",
    "    re.IGNORECASE | re.VERBOSE\n",
    ")\n",
    "\n",
    "\n",
    "def is_single_url(text: str) -> bool:\n",
    " \n",
    "    \"\"\"严格验证单个URL（支持IPv6/Punycode/特殊符号）\"\"\"\n",
    "    cleaned = text.strip() # 清理边界符号（网页4的清理建议）\n",
    "    url_pattern_2 = re.compile(r\"http[s]?://(?:[a-zA-Z]|[0-9]|[$-_@.&+]|[!*\\\\(\\\\),]|(?:%[0-9a-fA-F][0-9a-fA-F]))+\", re.IGNORECASE)\n",
    "    tag = URL_PATTERN.fullmatch(cleaned) is not None\n",
    "    tag2 = url_pattern_2.fullmatch(cleaned) is not None\n",
    "     \n",
    "    return tag2\n",
    " \n"
   ]
  },
  {
   "cell_type": "code",
   "execution_count": 134,
   "id": "ca5bb94e-fdaa-4f0b-acd2-94a6c2adfd82",
   "metadata": {
    "execution": {
     "iopub.execute_input": "2025-03-18T10:30:37.353194Z",
     "iopub.status.busy": "2025-03-18T10:30:37.352892Z",
     "iopub.status.idle": "2025-03-18T10:30:37.355791Z",
     "shell.execute_reply": "2025-03-18T10:30:37.355418Z",
     "shell.execute_reply.started": "2025-03-18T10:30:37.353177Z"
    }
   },
   "outputs": [],
   "source": [
    " # or url_pattern_2.fullmatch(cleaned)\n",
    "\n",
    "dict_1 = {'data_id': '56236c30-f7a7-4e68-89e6-04c3c6659d8c', 'prompt': '', 'content': 'http://xn--fiq8kv4t3f773c394b.xn--kput3i/\\n', 'error_status': True, 'type_list': ['QUALITY_BAD_EFFECTIVENESS'], 'name_list': ['QUALITY_BAD_EFFECTIVENESS-RuleOnlyUrl'], 'reason_list': ['Content is only an url link.'], 'raw_data': {}}"
   ]
  },
  {
   "cell_type": "code",
   "execution_count": 135,
   "id": "6781e00d-cae3-4cb8-9d75-c5c16f636ca8",
   "metadata": {
    "execution": {
     "iopub.execute_input": "2025-03-18T10:30:37.686398Z",
     "iopub.status.busy": "2025-03-18T10:30:37.686076Z",
     "iopub.status.idle": "2025-03-18T10:30:37.689302Z",
     "shell.execute_reply": "2025-03-18T10:30:37.688944Z",
     "shell.execute_reply.started": "2025-03-18T10:30:37.686384Z"
    }
   },
   "outputs": [
    {
     "data": {
      "text/plain": [
       "True"
      ]
     },
     "execution_count": 135,
     "metadata": {},
     "output_type": "execute_result"
    }
   ],
   "source": [
    "is_url_only_content(dict_1['content'])"
   ]
  },
  {
   "cell_type": "code",
   "execution_count": 136,
   "id": "ea32e6c5-5731-4ebb-b566-eae43cf3d095",
   "metadata": {
    "execution": {
     "iopub.execute_input": "2025-03-18T10:30:38.208538Z",
     "iopub.status.busy": "2025-03-18T10:30:38.208193Z",
     "iopub.status.idle": "2025-03-18T10:30:38.278175Z",
     "shell.execute_reply": "2025-03-18T10:30:38.277776Z",
     "shell.execute_reply.started": "2025-03-18T10:30:38.208523Z"
    }
   },
   "outputs": [
    {
     "name": "stdout",
     "output_type": "stream",
     "text": [
      "{'data_id': '730f4551-1578-448e-9b86-2e6f4956b51a', 'prompt': '', 'content': 'https://qjrboss.newaircloud.com/qjrb/video/202408/05/121198ec-ed0f-4799-9983-e00aa431941b.mp4?version=1722821725<!--PARAGRAPH_0--><!--PARAGRAPH_1--><!--PARAGRAPH_2--><!--PARAGRAPH_3--><!--PARAGRAPH_4-->\\n', 'error_status': True, 'type_list': ['QUALITY_BAD_EFFECTIVENESS'], 'name_list': ['QUALITY_BAD_EFFECTIVENESS-RuleOnlyUrl'], 'reason_list': ['Content is only an url link.'], 'raw_data': {}}\n",
      "{'data_id': '3bb6b07f-919c-4b12-b49e-7a05ed4e2dee', 'prompt': '', 'content': 'https://qjrboss.newaircloud.com/qjrb/video/202408/04/8293e665-b1eb-4563-bfc4-2cd26ecfd0e5.mp4?version=1722735460<!--PARAGRAPH_0--><!--PARAGRAPH_1--><!--PARAGRAPH_2--><!--PARAGRAPH_3--><!--PARAGRAPH_4-->\\n', 'error_status': True, 'type_list': ['QUALITY_BAD_EFFECTIVENESS'], 'name_list': ['QUALITY_BAD_EFFECTIVENESS-RuleOnlyUrl'], 'reason_list': ['Content is only an url link.'], 'raw_data': {}}\n",
      "2\n"
     ]
    }
   ],
   "source": [
    "cnt =0\n",
    "for i in url_rule:\n",
    "    \n",
    "    if is_url_only_content(i['content'])!=True :\n",
    "        cnt+=1\n",
    "        print(i)\n",
    "\n",
    "print(cnt)"
   ]
  },
  {
   "cell_type": "code",
   "execution_count": 23,
   "id": "eeece03e-320f-45b5-8184-90294c1a03b2",
   "metadata": {
    "execution": {
     "iopub.execute_input": "2025-03-18T10:11:21.897423Z",
     "iopub.status.busy": "2025-03-18T10:11:21.897101Z",
     "iopub.status.idle": "2025-03-18T10:11:21.904105Z",
     "shell.execute_reply": "2025-03-18T10:11:21.903623Z",
     "shell.execute_reply.started": "2025-03-18T10:11:21.897408Z"
    }
   },
   "outputs": [],
   "source": [
    "# 4622\n",
    "\n",
    "bad_info_list = executor.bad_info_list\n"
   ]
  },
  {
   "cell_type": "code",
   "execution_count": 8,
   "id": "0f9d3887-8140-4cb7-9481-b18cdcd5817a",
   "metadata": {
    "execution": {
     "iopub.execute_input": "2025-03-17T13:22:01.111178Z",
     "iopub.status.busy": "2025-03-17T13:22:01.110753Z",
     "iopub.status.idle": "2025-03-17T13:22:01.116211Z",
     "shell.execute_reply": "2025-03-17T13:22:01.115675Z",
     "shell.execute_reply.started": "2025-03-17T13:22:01.111157Z"
    }
   },
   "outputs": [
    {
     "data": {
      "text/html": [
       "\n",
       "            <div>\n",
       "                <p><b>SparkSession - hive</b></p>\n",
       "                \n",
       "        <div>\n",
       "            <p><b>SparkContext</b></p>\n",
       "\n",
       "            <p><a href=\"http://10.140.84.27:43400\">Spark UI</a></p>\n",
       "\n",
       "            <dl>\n",
       "              <dt>Version</dt>\n",
       "                <dd><code>v3.4.1</code></dd>\n",
       "              <dt>Master</dt>\n",
       "                <dd><code>yarn</code></dd>\n",
       "              <dt>AppName</dt>\n",
       "                <dd><code>dingo-puyu3-hf</code></dd>\n",
       "            </dl>\n",
       "        </div>\n",
       "        \n",
       "            </div>\n",
       "        "
      ],
      "text/plain": [
       "<pyspark.sql.session.SparkSession at 0x7ff95704b100>"
      ]
     },
     "execution_count": 8,
     "metadata": {},
     "output_type": "execute_result"
    }
   ],
   "source": [
    "spark"
   ]
  },
  {
   "cell_type": "code",
   "execution_count": null,
   "id": "a636918e-8e9d-4dad-8ddd-e17a6e93c0a8",
   "metadata": {},
   "outputs": [],
   "source": []
  },
  {
   "cell_type": "code",
   "execution_count": 24,
   "id": "ca373d0d-2747-4c45-b01a-db3dfc632ee2",
   "metadata": {
    "execution": {
     "iopub.execute_input": "2025-03-18T10:11:21.904867Z",
     "iopub.status.busy": "2025-03-18T10:11:21.904728Z",
     "iopub.status.idle": "2025-03-18T10:11:23.143497Z",
     "shell.execute_reply": "2025-03-18T10:11:23.142971Z",
     "shell.execute_reply.started": "2025-03-18T10:11:21.904854Z"
    }
   },
   "outputs": [],
   "source": [
    "# QUALITY_BAD_EFFECTIVENESS-RuleInvisibleChar :1759  list code\n",
    "# QUALITY_BAD_EFFECTIVENESS-RuleContentShort :  932 解决\n",
    "# QUALITY_BAD_EFFECTIVENESS-RuleHtmlEntity :1722 table\n",
    "# QUALITY_BAD_EFFECTIVENESS-RuleOnlyUrl : 181 已解决\n",
    "# QUALITY_BAD_EFFECTIVENESS-RuleSpecialCharacter : 6 未发现\n",
    "url_rule = bad_info_list.filter(lambda x :x['name_list'] ==['QUALITY_BAD_EFFECTIVENESS-RuleOnlyUrl']).take(500)"
   ]
  },
  {
   "cell_type": "code",
   "execution_count": 107,
   "id": "9178aefc-9e0c-418b-bf2a-3a0b6c10e350",
   "metadata": {
    "execution": {
     "iopub.execute_input": "2025-03-11T06:15:46.087314Z",
     "iopub.status.busy": "2025-03-11T06:15:46.087168Z",
     "iopub.status.idle": "2025-03-11T06:15:46.420380Z",
     "shell.execute_reply": "2025-03-11T06:15:46.419814Z",
     "shell.execute_reply.started": "2025-03-11T06:15:46.087300Z"
    }
   },
   "outputs": [
    {
     "ename": "Exception",
     "evalue": "s3 dir [s3://llm-users/qa/hf/redpajama/summary_1121/] is already existed.",
     "output_type": "error",
     "traceback": [
      "\u001b[0;31m---------------------------------------------------------------------------\u001b[0m",
      "\u001b[0;31mException\u001b[0m                                 Traceback (most recent call last)",
      "Cell \u001b[0;32mIn[107], line 2\u001b[0m\n\u001b[1;32m      1\u001b[0m summary_path \u001b[38;5;241m=\u001b[39m \u001b[38;5;124m\"\u001b[39m\u001b[38;5;124ms3://llm-users/qa/hf/redpajama/summary_1121/\u001b[39m\u001b[38;5;124m\"\u001b[39m\n\u001b[0;32m----> 2\u001b[0m \u001b[43mwrite_any_path\u001b[49m\u001b[43m(\u001b[49m\u001b[43mresult\u001b[49m\u001b[43m,\u001b[49m\u001b[43m \u001b[49m\u001b[43msummary_path\u001b[49m\u001b[43m,\u001b[49m\u001b[43m \u001b[49m\u001b[43mconfig\u001b[49m\u001b[43m)\u001b[49m\n",
      "File \u001b[0;32m/share/dataproc/code-clean/app/common/spark_ext/write_ext.py:174\u001b[0m, in \u001b[0;36mwrite_any_path\u001b[0;34m(output, path, config)\u001b[0m\n\u001b[1;32m    171\u001b[0m     \u001b[38;5;28;01mraise\u001b[39;00m \u001b[38;5;167;01mException\u001b[39;00m(\u001b[38;5;124m\"\u001b[39m\u001b[38;5;124mStreaming DF can only write to kafka.\u001b[39m\u001b[38;5;124m\"\u001b[39m)\n\u001b[1;32m    173\u001b[0m \u001b[38;5;28;01mif\u001b[39;00m is_s3_path(path):\n\u001b[0;32m--> 174\u001b[0m     \u001b[38;5;28;01mreturn\u001b[39;00m \u001b[43m__write_s3_path\u001b[49m\u001b[43m(\u001b[49m\u001b[43moutput\u001b[49m\u001b[43m,\u001b[49m\u001b[43m \u001b[49m\u001b[43mpath\u001b[49m\u001b[43m,\u001b[49m\u001b[43m \u001b[49m\u001b[43mconfig\u001b[49m\u001b[43m)\u001b[49m\n\u001b[1;32m    176\u001b[0m m \u001b[38;5;241m=\u001b[39m __re_kudu_path\u001b[38;5;241m.\u001b[39mmatch(path)\n\u001b[1;32m    177\u001b[0m \u001b[38;5;28;01mif\u001b[39;00m m:\n",
      "File \u001b[0;32m/share/dataproc/code-clean/app/common/spark_ext/write_ext.py:31\u001b[0m, in \u001b[0;36m__write_s3_path\u001b[0;34m(output, path, config)\u001b[0m\n\u001b[1;32m     28\u001b[0m \u001b[38;5;28;01melse\u001b[39;00m:  \u001b[38;5;66;03m# type(output) not in [dict, tuple]\u001b[39;00m\n\u001b[1;32m     29\u001b[0m     output_df \u001b[38;5;241m=\u001b[39m output\n\u001b[0;32m---> 31\u001b[0m \u001b[38;5;28;01mreturn\u001b[39;00m \u001b[43mwrite_to_s3\u001b[49m\u001b[43m(\u001b[49m\u001b[43moutput_df\u001b[49m\u001b[43m,\u001b[49m\u001b[43m \u001b[49m\u001b[43moutput_dict\u001b[49m\u001b[43m,\u001b[49m\u001b[43m \u001b[49m\u001b[43mpath\u001b[49m\u001b[43m,\u001b[49m\u001b[43m \u001b[49m\u001b[43mconfig\u001b[49m\u001b[43m)\u001b[49m\n",
      "File \u001b[0;32m/share/dataproc/code-clean/app/common/s3_writer.py:127\u001b[0m, in \u001b[0;36mwrite_to_s3\u001b[0;34m(output_df, output_stat, output_path, config)\u001b[0m\n\u001b[1;32m    125\u001b[0m     \u001b[38;5;28;01mraise\u001b[39;00m \u001b[38;5;167;01mException\u001b[39;00m(\u001b[38;5;124mf\u001b[39m\u001b[38;5;124m\"\u001b[39m\u001b[38;5;124moutput path [\u001b[39m\u001b[38;5;132;01m{\u001b[39;00moutput_path\u001b[38;5;132;01m}\u001b[39;00m\u001b[38;5;124m] is not s3 path.\u001b[39m\u001b[38;5;124m\"\u001b[39m)\n\u001b[1;32m    126\u001b[0m \u001b[38;5;28;01mif\u001b[39;00m \u001b[38;5;129;01mnot\u001b[39;00m skip_output_version \u001b[38;5;129;01mand\u001b[39;00m \u001b[38;5;129;01mnot\u001b[39;00m output_format \u001b[38;5;241m==\u001b[39m \u001b[38;5;124m\"\u001b[39m\u001b[38;5;124mtags_append\u001b[39m\u001b[38;5;124m\"\u001b[39m \u001b[38;5;129;01mand\u001b[39;00m \u001b[38;5;129;01mnot\u001b[39;00m is_s3_empty_path(output_path):\n\u001b[0;32m--> 127\u001b[0m     \u001b[38;5;28;01mraise\u001b[39;00m \u001b[38;5;167;01mException\u001b[39;00m(\u001b[38;5;124mf\u001b[39m\u001b[38;5;124m\"\u001b[39m\u001b[38;5;124ms3 dir [\u001b[39m\u001b[38;5;132;01m{\u001b[39;00moutput_path\u001b[38;5;132;01m}\u001b[39;00m\u001b[38;5;124m] is already existed.\u001b[39m\u001b[38;5;124m\"\u001b[39m)\n\u001b[1;32m    129\u001b[0m \u001b[38;5;28;01mfrom\u001b[39;00m \u001b[38;5;21;01mapp\u001b[39;00m\u001b[38;5;21;01m.\u001b[39;00m\u001b[38;5;21;01mcommon\u001b[39;00m\u001b[38;5;21;01m.\u001b[39;00m\u001b[38;5;21;01mruntime\u001b[39;00m \u001b[38;5;28;01mimport\u001b[39;00m get_spark_session\n\u001b[1;32m    131\u001b[0m spark \u001b[38;5;241m=\u001b[39m get_spark_session()\n",
      "\u001b[0;31mException\u001b[0m: s3 dir [s3://llm-users/qa/hf/redpajama/summary_1121/] is already existed."
     ]
    }
   ],
   "source": [
    "summary_path = \"s3://llm-users/qa/hf/redpajama/summary_1121/\"\n",
    "write_any_path(result, summary_path, config)"
   ]
  },
  {
   "cell_type": "code",
   "execution_count": 6,
   "id": "e2dbdfcb-aada-47ba-b40a-d7a6d262926c",
   "metadata": {
    "execution": {
     "iopub.execute_input": "2024-11-21T08:02:36.489017Z",
     "iopub.status.busy": "2024-11-21T08:02:36.488787Z",
     "iopub.status.idle": "2024-11-21T08:02:48.675645Z",
     "shell.execute_reply": "2024-11-21T08:02:48.674817Z",
     "shell.execute_reply.started": "2024-11-21T08:02:36.488998Z"
    }
   },
   "outputs": [
    {
     "name": "stderr",
     "output_type": "stream",
     "text": [
      "24/11/21 18:02:50 WARN BlockManagerMasterEndpoint: No more replicas available for rdd_9_0 !\n",
      "24/11/21 18:02:50 WARN BlockManagerMasterEndpoint: No more replicas available for rdd_9_1 !\n"
     ]
    }
   ],
   "source": [
    "bad_info_list = executor.bad_info_list\n",
    "\n",
    "output_df = bad_info_list.map(lambda x: {\"value\":json_dumps(x)})\n",
    "output_df = output_df.toDF()\n",
    "\n",
    "# output_path = \"s3://llm-users/qa/m10ap/error_info/\"+ds\n",
    "# write_any_path(output_df, output_path, config)\n",
    "\n",
    "rule_name_list = Model.get_rules_by_group('qa_standard_v1')\n",
    "for r in rule_name_list:\n",
    "    # filter data\n",
    "    def filter_data(row) -> bool:\n",
    "        # true, keep\n",
    "        return r in json_loads(row.value)[\"name_list\"]\n",
    "    try:\n",
    "        filter_df = output_df.rdd.filter(filter_data).toDF()\n",
    "    except ValueError:\n",
    "        continue\n",
    "\n",
    "    output_path = f\"s3://llm-users/qa/hf/redpajama/error_info_1121/{r}\"\n",
    "    write_any_path(filter_df, output_path, config)"
   ]
  },
  {
   "cell_type": "code",
   "execution_count": 15,
   "id": "dc89d0ed-bd31-4c63-8735-43df235df2d9",
   "metadata": {
    "execution": {
     "iopub.execute_input": "2024-11-22T07:30:32.127985Z",
     "iopub.status.busy": "2024-11-22T07:30:32.127437Z",
     "iopub.status.idle": "2024-11-22T07:30:32.613663Z",
     "shell.execute_reply": "2024-11-22T07:30:32.613041Z",
     "shell.execute_reply.started": "2024-11-22T07:30:32.127961Z"
    }
   },
   "outputs": [
    {
     "name": "stderr",
     "output_type": "stream",
     "text": [
      "                                                                                \r"
     ]
    },
    {
     "data": {
      "text/plain": [
       "['QUALITY_INEFFECTIVENESS']"
      ]
     },
     "execution_count": 15,
     "metadata": {},
     "output_type": "execute_result"
    }
   ],
   "source": [
    "bad_info_list = executor.bad_info_list\n",
    "list_rdd = bad_info_list.flatMap(lambda row: row['type_list'])\n",
    "unique_list = list_rdd.distinct().collect()\n",
    "unique_list"
   ]
  },
  {
   "cell_type": "code",
   "execution_count": 14,
   "id": "55e22223-1643-4ac6-b1cf-008db7355b9b",
   "metadata": {
    "execution": {
     "iopub.execute_input": "2024-11-22T07:30:10.634057Z",
     "iopub.status.busy": "2024-11-22T07:30:10.633676Z",
     "iopub.status.idle": "2024-11-22T07:30:10.656872Z",
     "shell.execute_reply": "2024-11-22T07:30:10.656034Z",
     "shell.execute_reply.started": "2024-11-22T07:30:10.634035Z"
    }
   },
   "outputs": [
    {
     "ename": "NameError",
     "evalue": "name 'self' is not defined",
     "output_type": "error",
     "traceback": [
      "\u001b[0;31m---------------------------------------------------------------------------\u001b[0m",
      "\u001b[0;31mNameError\u001b[0m                                 Traceback (most recent call last)",
      "Cell \u001b[0;32mIn[14], line 1\u001b[0m\n\u001b[0;32m----> 1\u001b[0m list_rdd \u001b[38;5;241m=\u001b[39m \u001b[38;5;28;43mself\u001b[39;49m\u001b[38;5;241m.\u001b[39mbad_info_list\u001b[38;5;241m.\u001b[39mflatMap(\u001b[38;5;28;01mlambda\u001b[39;00m row: row[\u001b[38;5;124m'\u001b[39m\u001b[38;5;124mtype_list\u001b[39m\u001b[38;5;124m'\u001b[39m])\n\u001b[1;32m      2\u001b[0m unique_list \u001b[38;5;241m=\u001b[39m list_rdd\u001b[38;5;241m.\u001b[39mdistinct()\u001b[38;5;241m.\u001b[39mcollect()\n",
      "\u001b[0;31mNameError\u001b[0m: name 'self' is not defined"
     ]
    }
   ],
   "source": [
    "list_rdd = self.bad_info_list.flatMap(lambda row: row['type_list'])\n",
    "unique_list = list_rdd.distinct().collect()"
   ]
  },
  {
   "cell_type": "code",
   "execution_count": null,
   "id": "2ff9b134-fec8-4e6d-8fdc-80f5e883ae70",
   "metadata": {},
   "outputs": [],
   "source": []
  }
 ],
 "metadata": {
  "kernelspec": {
   "display_name": "Python 3.10 (ipykernel)",
   "language": "python",
   "name": "python3.10"
  },
  "language_info": {
   "codemirror_mode": {
    "name": "ipython",
    "version": 3
   },
   "file_extension": ".py",
   "mimetype": "text/x-python",
   "name": "python",
   "nbconvert_exporter": "python",
   "pygments_lexer": "ipython3",
   "version": "3.10.9"
  }
 },
 "nbformat": 4,
 "nbformat_minor": 5
}
