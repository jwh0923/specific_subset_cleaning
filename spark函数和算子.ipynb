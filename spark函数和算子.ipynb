{
 "cells": [
  {
   "cell_type": "markdown",
   "id": "b1733bfc-9b4d-438d-9836-2c8443369bc4",
   "metadata": {},
   "source": [
    "## UDF"
   ]
  },
  {
   "cell_type": "code",
   "execution_count": null,
   "id": "f3037fbf-af7a-47f5-8f06-ed44b045e34b",
   "metadata": {},
   "outputs": [],
   "source": [
    "def get_track_id_column(row):\n",
    "    row_dict = json.loads(row.value)\n",
    "    track_id = row_dict.get('track_id')\n",
    "    \n",
    "    return Row(value=row.value,track_id=track_id)"
   ]
  },
  {
   "cell_type": "code",
   "execution_count": null,
   "id": "cd35380d-7d22-4bd2-8289-49bae8872c68",
   "metadata": {},
   "outputs": [],
   "source": [
    "def get_column_expanded(row, col_name='track_id'):\n",
    "    row_dict = json.loads(row.value)\n",
    "    col_value = row_dict.get(col_name)\n",
    "    return Row(value=row.value, **{col_name: col_value})"
   ]
  },
  {
   "cell_type": "code",
   "execution_count": 1,
   "id": "b288541f-fb53-4cce-9852-e00af51beb2f",
   "metadata": {
    "execution": {
     "iopub.execute_input": "2025-01-22T01:59:55.589059Z",
     "iopub.status.busy": "2025-01-22T01:59:55.588645Z",
     "iopub.status.idle": "2025-01-22T01:59:55.597191Z",
     "shell.execute_reply": "2025-01-22T01:59:55.596645Z",
     "shell.execute_reply.started": "2025-01-22T01:59:55.589033Z"
    }
   },
   "outputs": [],
   "source": [
    "# 太慢了\n",
    "def get_some_columns_expanded(df, columns=['track_id']):\n",
    "    for col_name in columns:\n",
    "        df = df.rdd.map(lambda row: get_column_expanded(row, col_name)).toDF()\n",
    "    return df"
   ]
  },
  {
   "cell_type": "code",
   "execution_count": null,
   "id": "cfe113bc-7da1-4943-acec-058e9f2dce78",
   "metadata": {},
   "outputs": [],
   "source": [
    "def get_columns_expanded(row, col_names=['track_id']):\n",
    "    row_dict = json.loads(row.value)\n",
    "    new_values = {}\n",
    "    \n",
    "    for col_name in col_names:\n",
    "        col_value = row_dict.get(col_name)\n",
    "        if col_value is not None:\n",
    "            new_values[col_name] = col_value\n",
    "    \n",
    "    return Row(value=row.value, **new_values)"
   ]
  },
  {
   "cell_type": "code",
   "execution_count": null,
   "id": "af8d38f7-8dff-477a-b30e-8564d9dc1a0e",
   "metadata": {},
   "outputs": [],
   "source": [
    "def get_columns_expanded_only(row, col_names=['track_id']):\n",
    "    row_dict = json.loads(row.value)\n",
    "    new_values = {}\n",
    "    \n",
    "    for col_name in col_names:\n",
    "        col_value = row_dict.get(col_name)\n",
    "        if col_value is not None:\n",
    "            new_values[col_name] = col_value\n",
    "    \n",
    "    return Row(**new_values)"
   ]
  },
  {
   "cell_type": "code",
   "execution_count": null,
   "id": "033e1f46-280d-48bb-a582-1585cfd2f29c",
   "metadata": {},
   "outputs": [],
   "source": []
  },
  {
   "cell_type": "code",
   "execution_count": null,
   "id": "bbf468ad-22ca-451a-bd84-0f72136b2411",
   "metadata": {},
   "outputs": [],
   "source": [
    "def get_columns_inValue_only(row, col_names=['track_id']):\n",
    "    row_dict = json.loads(row.value)\n",
    "    new_values = {}\n",
    "    \n",
    "    for col_name in col_names:\n",
    "        col_value = row_dict.get(col_name)\n",
    "        if col_value is not None:\n",
    "            new_values[col_name] = col_value\n",
    "    \n",
    "    return Row(value=json_dumps(new_values))"
   ]
  },
  {
   "cell_type": "code",
   "execution_count": null,
   "id": "4bf5fc15-9ea4-4c74-976d-4adb4e0e9d18",
   "metadata": {},
   "outputs": [],
   "source": [
    "def get_track_idAndContent(row):\n",
    "    row_dict = json.loads(row.value)\n",
    "    track_id = row_dict.get('id')\n",
    "    content = row_dict.get('content')\n",
    "    new_row_dict =  {'track_id': track_id, 'content': content}\n",
    "\n",
    "    return Row(value=json_dumps(new_row_dict))"
   ]
  },
  {
   "cell_type": "markdown",
   "id": "dc1318ad-3db3-4c03-8f80-759f96345196",
   "metadata": {},
   "source": [
    "### 做差集"
   ]
  },
  {
   "cell_type": "code",
   "execution_count": null,
   "id": "1219f032-c201-4de3-9c83-a0cbb36680d1",
   "metadata": {},
   "outputs": [],
   "source": [
    "def subtract_by_id(df1, df2):\n",
    "    df = df1.select('track_id').subtract(df2.select('track_id'))\n",
    "    df_out = df.join(df1, on='track_id', how='inner')\n",
    "    \n",
    "    return df_out"
   ]
  },
  {
   "cell_type": "markdown",
   "id": "e06a5dc0-2976-4918-b969-e94200ef005e",
   "metadata": {},
   "source": [
    "### 前后裁断"
   ]
  },
  {
   "cell_type": "code",
   "execution_count": null,
   "id": "aadbea41-cb09-4a2e-bc30-943331a772e6",
   "metadata": {},
   "outputs": [],
   "source": [
    "def get_first_last_cut_content(row):\n",
    "    row_dict = json.loads(row.value)\n",
    "    content_length = row_dict.get('content_length')\n",
    "    if content_length > 20000:\n",
    "        content_1 = row_dict.get(\"content\")[:10000]\n",
    "        content_2 = row_dict.get(\"content\")[content_length-10000:]\n",
    "    else:\n",
    "        content_1 = row_dict.get(\"content\")\n",
    "        content_2 = ''\n",
    "    track_id = row_dict.get('track_id')\n",
    "    new_row_dict =  {'track_id': track_id, 'content_1': content_1, 'content_2': content_2}\n",
    "\n",
    "    return Row(value=json_dumps(new_row_dict))"
   ]
  },
  {
   "cell_type": "markdown",
   "id": "b2c3b803-1905-4b21-992b-ac25a71c4551",
   "metadata": {},
   "source": [
    "### content_list2content"
   ]
  },
  {
   "cell_type": "code",
   "execution_count": null,
   "id": "8c2441db-dbfc-49cf-9d40-3ae729044e47",
   "metadata": {},
   "outputs": [],
   "source": [
    "from app.common_clean.core.content import get_text_content\n",
    "\n",
    "def get_content(rows):\n",
    "    for row in rows:\n",
    "        row_dict = json.loads(row.value)\n",
    "        track_id = row_dict.get(\"track_id\")\n",
    "        content_list = row_dict.get(\"content_list\")\n",
    "        if content_list and track_id:\n",
    "            content = get_text_content(content_list)\n",
    "            res_dict = {\"track_id\": track_id, \"content\": content}\n",
    "            yield Row(value=json_dumps(res_dict))"
   ]
  },
  {
   "cell_type": "markdown",
   "id": "25ae7ae0-b4cf-49e6-b7c6-65c3f37e2f8f",
   "metadata": {},
   "source": [
    "### MD5去重"
   ]
  },
  {
   "cell_type": "code",
   "execution_count": null,
   "id": "e216a351-33f7-4365-b8ff-a76653d4cef2",
   "metadata": {},
   "outputs": [],
   "source": [
    "import hashlib\n",
    "\n",
    "def calculate_md5(content):\n",
    "    md5_hash = hashlib.md5()\n",
    "    md5_hash.update(content)  # content 是字节流\n",
    "    return md5_hash.hexdigest()\n",
    "\n",
    "from xinghe.s3 import read_s3_object_bytes"
   ]
  },
  {
   "cell_type": "code",
   "execution_count": null,
   "id": "c0c046ad-609a-421d-b1ac-78a9868e7fd4",
   "metadata": {},
   "outputs": [],
   "source": [
    "def map_partition_md5(rows):\n",
    "    for row in rows:\n",
    "        row_dict = json.loads(row.value)\n",
    "        track_id, path = row_dict.get(\"track_id\"), row_dict.get(\"path\")\n",
    "        try:\n",
    "            buf = read_s3_object_bytes(path)\n",
    "            md5 = calculate_md5(buf)\n",
    "        except Exception as e:\n",
    "            md5 = None\n",
    "        yield Row(track_id=track_id, raw_file_md5=md5)"
   ]
  },
  {
   "cell_type": "markdown",
   "id": "2f29538a-891d-415f-b2bd-dc94dd04b0b2",
   "metadata": {},
   "source": [
    "### 获取content"
   ]
  },
  {
   "cell_type": "code",
   "execution_count": null,
   "id": "6a89cc97-2064-4af6-b395-ea712c5d6d62",
   "metadata": {},
   "outputs": [],
   "source": [
    "def get_content(rows):\n",
    "    for row in rows:\n",
    "        row_dict = json.loads(row.value)\n",
    "        track_id = row_dict.get(\"track_id\")\n",
    "        \n",
    "        try:\n",
    "            content = get_text_content(row_dict.get(\"content_list\"))\n",
    "            if content is None:\n",
    "                content = \"\"  \n",
    "        except TypeError:\n",
    "            content = \"\"  \n",
    "        \n",
    "        content_dict = {\"track_id\": track_id, \"content\": content}\n",
    "        \n",
    "        yield Row(value=json_dumps(content_dict))"
   ]
  },
  {
   "cell_type": "code",
   "execution_count": null,
   "id": "b095c0fe-9eb1-4396-8f59-d744bc624765",
   "metadata": {},
   "outputs": [],
   "source": [
    "def pipline_normalize_content(rows):\n",
    "    for row in rows:\n",
    "        row_dict = json.loads(row.value)\n",
    "        track_id = row_dict.get(\"track_id\")\n",
    "        \n",
    "        err_handler, res_data = run_handler(\n",
    "            data_dict=row_dict, handler_list=_clean_rule_list, short_cut=False, verbose=False\n",
    "        )\n",
    "        \n",
    "        try:\n",
    "            normalized_content = get_text_content(res_data.get(\"content_list\"))\n",
    "            if normalized_content is None:\n",
    "                normalized_content = \"\"  \n",
    "        except TypeError:\n",
    "            normalized_content = \"\"  \n",
    "        \n",
    "        content_dict = {\"track_id\": track_id, \"content\": normalized_content}\n",
    "        \n",
    "        if not err_handler:\n",
    "            yield Row(value=json_dumps(content_dict))"
   ]
  },
  {
   "cell_type": "code",
   "execution_count": null,
   "id": "cce36bd4-9b17-4947-81a1-47052acbb17f",
   "metadata": {},
   "outputs": [],
   "source": []
  },
  {
   "cell_type": "markdown",
   "id": "f52f1067-5262-4a7d-9ddf-50fa3c6fe934",
   "metadata": {},
   "source": [
    "## 算子"
   ]
  },
  {
   "cell_type": "code",
   "execution_count": null,
   "id": "6d1a8911-c04c-48ab-9582-6f74debb8f24",
   "metadata": {},
   "outputs": [],
   "source": []
  },
  {
   "cell_type": "code",
   "execution_count": null,
   "id": "a43c9b11-c2aa-4799-aadf-a0f03b0fe84e",
   "metadata": {},
   "outputs": [],
   "source": []
  },
  {
   "cell_type": "code",
   "execution_count": null,
   "id": "137ff3a4-b0f5-44a2-b9a4-d2ec05c2748d",
   "metadata": {},
   "outputs": [],
   "source": [
    "json.loads(book_raw_metadata.take(1)[0].value).get(\"remark\").keys()"
   ]
  },
  {
   "cell_type": "markdown",
   "id": "e06cc211-2180-403b-a6b0-36c792558606",
   "metadata": {},
   "source": [
    "### 展开字段"
   ]
  },
  {
   "cell_type": "code",
   "execution_count": null,
   "id": "06f860c5-bf4e-4b0f-880e-c1dd38e0118f",
   "metadata": {},
   "outputs": [],
   "source": [
    "from pyspark.sql.functions import to_json, struct\n",
    "\n",
    "md5_df_Invalue = md5_df.select(to_json(struct(md5_df.columns)).alias(\"value\"))"
   ]
  },
  {
   "cell_type": "code",
   "execution_count": null,
   "id": "a9a95486-a97b-42aa-9804-94b8bd6862a6",
   "metadata": {},
   "outputs": [],
   "source": [
    "df.rdd.map(lambda x: json.loads(x.value)).toDF()"
   ]
  },
  {
   "cell_type": "markdown",
   "id": "64a2257c-82e0-47b3-a41e-92aee19780a1",
   "metadata": {},
   "source": [
    "### 收缩字段"
   ]
  },
  {
   "cell_type": "code",
   "execution_count": null,
   "id": "51862fdd-19cf-46e3-81b1-d6cbf4df63b2",
   "metadata": {},
   "outputs": [],
   "source": [
    "md5_df_value= md5_df.rdd.map(lambda x: Row(value=json_dumps(x.asDict()))).toDF() "
   ]
  },
  {
   "cell_type": "markdown",
   "id": "22eb3d18-a4aa-4fc2-97dd-980bec8b04d7",
   "metadata": {},
   "source": [
    "### 转为pandas dataframe"
   ]
  },
  {
   "cell_type": "code",
   "execution_count": null,
   "id": "99f4ab2a-813c-4082-8ef2-0e1e92e091e8",
   "metadata": {},
   "outputs": [],
   "source": [
    "df_pd = book_metadata_anno_combined_expanded.toPandas()"
   ]
  },
  {
   "cell_type": "markdown",
   "id": "1db6a60c-fa01-453f-8cb9-d19f695cdcd9",
   "metadata": {},
   "source": [
    "### dataframe的filter"
   ]
  },
  {
   "cell_type": "code",
   "execution_count": null,
   "id": "1d0a89bc-3f92-4790-bb72-a340d004e3c1",
   "metadata": {},
   "outputs": [],
   "source": [
    "df_filtered = book_metadata_anno_expanded.filter(col(\"category\") != \"\")"
   ]
  },
  {
   "cell_type": "markdown",
   "id": "0346549d-ab3c-4dab-bce4-c5dc06a2c852",
   "metadata": {},
   "source": [
    "### rdd的filter（使用row）"
   ]
  },
  {
   "cell_type": "code",
   "execution_count": null,
   "id": "34c49874-ded5-49d5-91d8-ed3bb3a9bb12",
   "metadata": {},
   "outputs": [],
   "source": [
    "book_raw_noAnno_path_nonan = book_raw_noAnno_path.rdd.filter(lambda row: json.loads(row.value).get(\"path\") != None).toDF()"
   ]
  },
  {
   "cell_type": "markdown",
   "id": "107fb626-1180-4960-ba94-3821cf7fc92e",
   "metadata": {},
   "source": [
    "### 合并操作"
   ]
  },
  {
   "cell_type": "code",
   "execution_count": null,
   "id": "8530d4f0-0564-41c9-955b-35a09dd33e75",
   "metadata": {},
   "outputs": [],
   "source": [
    "textbook_m9_zh_id_anno = textbook_m9_zh_id.join(textbook_metadata_anno_id, on='track_id', how='inner')"
   ]
  },
  {
   "cell_type": "markdown",
   "id": "dc3d5cb3-86e3-47d6-9d9e-25392bf6884b",
   "metadata": {},
   "source": [
    "### 统计null数量"
   ]
  },
  {
   "cell_type": "code",
   "execution_count": null,
   "id": "8a70958f-96b7-4633-b48a-545cae9ac564",
   "metadata": {},
   "outputs": [],
   "source": [
    "missing_counts = book_raw_metadata_expanded.select([F.count(F.when(F.col(c).isNull(), c)).alias(c) for c in book_raw_metadata_expanded.columns])"
   ]
  },
  {
   "cell_type": "markdown",
   "id": "e57ef8ff-af59-4941-b713-3372a5acde26",
   "metadata": {
    "execution": {
     "iopub.execute_input": "2025-01-24T08:20:13.951363Z",
     "iopub.status.busy": "2025-01-24T08:20:13.950890Z",
     "iopub.status.idle": "2025-01-24T08:20:13.954681Z",
     "shell.execute_reply": "2025-01-24T08:20:13.954010Z",
     "shell.execute_reply.started": "2025-01-24T08:20:13.951337Z"
    }
   },
   "source": [
    "### 改列名"
   ]
  },
  {
   "cell_type": "code",
   "execution_count": null,
   "id": "33634e85-7d47-45ff-b65b-a602fa44bfc1",
   "metadata": {},
   "outputs": [],
   "source": [
    "df_write_expanded = df_write_expanded.withColumnRenamed(\"major\", \"major_1st_level\")\\\n",
    "                                     .withColumnRenamed(\"course\", \"major_2nd_level\")"
   ]
  },
  {
   "cell_type": "markdown",
   "id": "2bbfaced-12af-4af3-b67e-3ac1c956d697",
   "metadata": {},
   "source": [
    "### partition"
   ]
  },
  {
   "cell_type": "code",
   "execution_count": null,
   "id": "046ce550-5021-44f5-b908-7bfa375a13b7",
   "metadata": {},
   "outputs": [],
   "source": [
    "df_nocontent.rdd.getNumPartitions()"
   ]
  },
  {
   "cell_type": "code",
   "execution_count": null,
   "id": "8e73ca4f-68ee-459c-bd5f-174fa2111c5e",
   "metadata": {},
   "outputs": [],
   "source": [
    "df_nocontent = df_nocontent.repartition(5)"
   ]
  },
  {
   "cell_type": "markdown",
   "id": "a0398a62-d8d8-4b23-b1e1-4647cbd69651",
   "metadata": {},
   "source": [
    "### 随机采样"
   ]
  },
  {
   "cell_type": "code",
   "execution_count": null,
   "id": "c38dc182-7291-4abc-bd0a-2788552ddb8b",
   "metadata": {},
   "outputs": [],
   "source": [
    "df_download_limit = df_download.sample(fraction=0.1, seed=42)"
   ]
  },
  {
   "cell_type": "markdown",
   "id": "49228ffd-202b-4845-8621-17b42031ddb1",
   "metadata": {},
   "source": [
    "### 丢弃null"
   ]
  },
  {
   "cell_type": "code",
   "execution_count": null,
   "id": "76387d5b-8bd6-4109-a96a-0fdbbc93e2db",
   "metadata": {},
   "outputs": [],
   "source": [
    "non_null_name_df = df.dropna(subset=[\"name\"])"
   ]
  },
  {
   "cell_type": "markdown",
   "id": "18e548e5-bfe0-44d2-88c8-d3d72a54f065",
   "metadata": {},
   "source": [
    "### 求一列之和"
   ]
  },
  {
   "cell_type": "code",
   "execution_count": null,
   "id": "da494759-118e-4473-8155-9e1d803bb3e6",
   "metadata": {},
   "outputs": [],
   "source": [
    "df_featuresAndExample_zh_bytes = df_featuresAndExample_zh_expanded.withColumn(\"bytes_len\", col(\"bytes_len\").cast(\"int\"))"
   ]
  },
  {
   "cell_type": "code",
   "execution_count": null,
   "id": "d2630c0d-33c4-42a4-a0a0-310a14d4972d",
   "metadata": {},
   "outputs": [],
   "source": [
    "df_featuresAndExample_zh_bytes.select(sum(\"bytes_len\")).collect()[0][0]"
   ]
  },
  {
   "cell_type": "markdown",
   "id": "3e4d6560-f2d9-4352-b452-2245e78df2e2",
   "metadata": {},
   "source": [
    "### 管线清洗"
   ]
  },
  {
   "cell_type": "code",
   "execution_count": null,
   "id": "7d7e6d86-efab-4d55-b242-a61bf1f82a6f",
   "metadata": {},
   "outputs": [],
   "source": [
    "from app.common_clean.feature_filter import FeatureCleaner\n",
    "\n",
    "def map_clean(rows):\n",
    "    feature_cleaner = FeatureCleaner()\n",
    "    for row in rows:\n",
    "        row_dict = json.loads(row.value)\n",
    "        err, res_dict = feature_cleaner.clean_data(row_dict)\n",
    "        if not err:\n",
    "            yield Row(value=json_dumps(res_dict))"
   ]
  },
  {
   "cell_type": "markdown",
   "id": "65dc8074-d94e-4325-863a-5f880e055ca3",
   "metadata": {},
   "source": [
    "### 丢弃某列"
   ]
  },
  {
   "cell_type": "code",
   "execution_count": null,
   "id": "b8dc5007-bbe3-418a-9a6c-f25174bd759c",
   "metadata": {},
   "outputs": [],
   "source": [
    "df_dropped = df.drop(\"ID\")"
   ]
  },
  {
   "cell_type": "markdown",
   "id": "a36d95a0-ce7f-4269-bbcc-eadd099a7dff",
   "metadata": {},
   "source": []
  },
  {
   "cell_type": "code",
   "execution_count": null,
   "id": "045f8f73-9b90-4a74-aff7-5ddc7ae18a8f",
   "metadata": {},
   "outputs": [],
   "source": []
  },
  {
   "cell_type": "code",
   "execution_count": null,
   "id": "4fc635d8-19d9-42c3-ac35-760470bad127",
   "metadata": {},
   "outputs": [],
   "source": []
  },
  {
   "cell_type": "code",
   "execution_count": null,
   "id": "2089d76e-342e-4315-ab57-7835cc7ab68e",
   "metadata": {},
   "outputs": [],
   "source": []
  },
  {
   "cell_type": "code",
   "execution_count": null,
   "id": "6e6323b7-71e3-44f0-9815-49ad43cd6e76",
   "metadata": {},
   "outputs": [],
   "source": []
  },
  {
   "cell_type": "code",
   "execution_count": null,
   "id": "2682562d-3ed5-4e9f-ba11-a27e98d9b1e6",
   "metadata": {},
   "outputs": [],
   "source": []
  },
  {
   "cell_type": "code",
   "execution_count": null,
   "id": "47c8202d-da91-40d3-9f94-bce1d5b124d7",
   "metadata": {},
   "outputs": [],
   "source": []
  },
  {
   "cell_type": "code",
   "execution_count": null,
   "id": "4a17537f-1acb-4614-97de-ba40ad83ab3f",
   "metadata": {},
   "outputs": [],
   "source": []
  },
  {
   "cell_type": "markdown",
   "id": "5e8f5679-636c-496f-acf8-fa12a4acc38b",
   "metadata": {},
   "source": [
    "## 去重"
   ]
  },
  {
   "cell_type": "code",
   "execution_count": null,
   "id": "7436dc3c-427f-4a0e-984b-36884412f210",
   "metadata": {},
   "outputs": [],
   "source": [
    "distinct_df = df.dropDuplicates([\"raw_file_md5\"])"
   ]
  },
  {
   "cell_type": "markdown",
   "id": "1cff9cfc-71bb-4ba7-b37b-4fe52f05f155",
   "metadata": {},
   "source": [
    "### sql方法"
   ]
  },
  {
   "cell_type": "code",
   "execution_count": null,
   "id": "d6fe2fb4-3bf4-4ff0-91ee-3f8fbad1daf2",
   "metadata": {},
   "outputs": [],
   "source": [
    "# 将 DataFrame 注册为临时视图\n",
    "df.createOrReplaceTempView(\"files\")\n",
    "\n",
    "# 使用 Spark SQL 删除所有重复的数据\n",
    "unique_df_sql = spark.sql(\"\"\"\n",
    "SELECT raw_file_md5, timestamp\n",
    "FROM (\n",
    "    SELECT raw_file_md5, timestamp,\n",
    "           COUNT(*) OVER (PARTITION BY raw_file_md5) as cnt\n",
    "    FROM files\n",
    ") t\n",
    "WHERE cnt = 1\n",
    "\"\"\")\n",
    "\n",
    "# 显示结果\n",
    "unique_df_sql.show()"
   ]
  },
  {
   "cell_type": "code",
   "execution_count": null,
   "id": "30593a89-74fb-4649-b831-c983423219ec",
   "metadata": {},
   "outputs": [],
   "source": [
    "from pyspark.sql import SparkSession\n",
    "from pyspark.sql.functions import col\n",
    "\n",
    "# 创建 SparkSession\n",
    "spark = SparkSession.builder.appName(\"example\").getOrCreate()\n",
    "\n",
    "# 假设我们有一个包含 raw_file_md5 和 timestamp 列的 DataFrame\n",
    "data = [\n",
    "    (\"file1\", \"2023-01-01\"),\n",
    "    (\"file2\", \"2023-01-02\"),\n",
    "    (\"file1\", \"2023-01-03\"),\n",
    "    (\"file3\", \"2023-01-04\"),\n",
    "    (\"file2\", \"2023-01-05\")\n",
    "]\n",
    "\n",
    "columns = [\"raw_file_md5\", \"timestamp\"]\n",
    "\n",
    "df = spark.createDataFrame(data, columns)\n",
    "\n",
    "# 使用 groupBy 和 count 来计算每行的出现次数\n",
    "grouped_df = df.groupBy(*columns).count()\n",
    "\n",
    "# 过滤掉那些计数大于 1 的行\n",
    "filtered_df = grouped_df.filter(col(\"count\") == 1)\n",
    "\n",
    "# 选择原始列以返回与原始 DataFrame 结构相同的结果\n",
    "result_df = filtered_df.select(columns)\n",
    "\n",
    "# 显示结果\n",
    "result_df.show()"
   ]
  },
  {
   "cell_type": "code",
   "execution_count": null,
   "id": "a6de49c6-decc-45b2-a46f-e6d3e8407343",
   "metadata": {},
   "outputs": [],
   "source": [
    "# 将 DataFrame 注册为临时视图\n",
    "df.createOrReplaceTempView(\"files\")\n",
    "\n",
    "# 使用 Spark SQL 进行去重\n",
    "distinct_df_sql = spark.sql(\"\"\"\n",
    "SELECT raw_file_md5, timestamp\n",
    "FROM (\n",
    "    SELECT raw_file_md5, timestamp,\n",
    "           ROW_NUMBER() OVER (PARTITION BY raw_file_md5 ORDER BY timestamp) as rn\n",
    "    FROM files\n",
    ") t\n",
    "WHERE rn = 1\n",
    "\"\"\")\n",
    "\n",
    "# 显示结果\n",
    "distinct_df_sql.show()"
   ]
  },
  {
   "cell_type": "markdown",
   "id": "5148de5d-0059-4f5d-af11-5aba7de609f1",
   "metadata": {},
   "source": [
    "## 创建value，再展开"
   ]
  },
  {
   "cell_type": "markdown",
   "id": "71bc8aa5-fadf-49e5-9dbd-e7c1e311d8cf",
   "metadata": {},
   "source": [
    "### 方法一"
   ]
  },
  {
   "cell_type": "code",
   "execution_count": null,
   "id": "10c27a1b-94ed-4a54-b13e-727c619be168",
   "metadata": {},
   "outputs": [],
   "source": [
    "from pyspark.sql import SparkSession, Row\n",
    "from pyspark.sql.functions import col, from_json, isnull\n",
    "from pyspark.sql.types import StructType, StructField, StringType\n",
    "\n",
    "# 初始化 SparkSession\n",
    "spark = SparkSession.builder.appName(\"example\").getOrCreate()\n",
    "\n",
    "# 创建示例 DataFrame\n",
    "data = [\n",
    "    '{\"name\": \"Alice\", \"age\": 30, \"city\": \"New York\"}',\n",
    "    '{\"ERROR_RESULT\": null}',\n",
    "    '{\"name\": \"Bob\", \"age\": 25, \"city\": \"Los Angeles\"}'\n",
    "]\n",
    "\n",
    "# 直接创建 DataFrame\n",
    "df_write = spark.createDataFrame(data, StringType()).toDF(\"value\")"
   ]
  },
  {
   "cell_type": "code",
   "execution_count": null,
   "id": "40e6da75-4962-4ff8-a588-03dec8c09536",
   "metadata": {},
   "outputs": [],
   "source": [
    "# 定义 JSON schema\n",
    "schema = StructType([\n",
    "    StructField(\"name\", StringType(), True),\n",
    "    StructField(\"age\", StringType(), True),\n",
    "    StructField(\"city\", StringType(), True),\n",
    "    StructField(\"ERROR_RESULT\", StringType(), True)\n",
    "])\n",
    "\n",
    "# 解析 JSON 字符串并转换为 DataFrame\n",
    "parsed_df = df_write.withColumn(\"parsed_json\", from_json(col(\"value\"), schema))"
   ]
  },
  {
   "cell_type": "code",
   "execution_count": null,
   "id": "ba37d1ee-75af-4cd2-ae95-c7587722f71b",
   "metadata": {},
   "outputs": [],
   "source": [
    "# 展平 parsed_value 结构\n",
    "df_final = df_parsed.select(\n",
    "    col(\"parsed_value.name\"),\n",
    "    col(\"parsed_value.age\"),\n",
    "    col(\"parsed_value.city\")\n",
    ")"
   ]
  },
  {
   "cell_type": "markdown",
   "id": "5ac34e54-5969-442b-9c5c-4d4b56447ff6",
   "metadata": {},
   "source": [
    "### 方法二"
   ]
  },
  {
   "cell_type": "code",
   "execution_count": 2,
   "id": "f85cd63e-4bb7-4edf-94f4-ad4271ddf0e1",
   "metadata": {
    "execution": {
     "iopub.execute_input": "2025-01-24T01:50:32.945570Z",
     "iopub.status.busy": "2025-01-24T01:50:32.945108Z",
     "iopub.status.idle": "2025-01-24T01:51:35.700174Z",
     "shell.execute_reply": "2025-01-24T01:51:35.699519Z",
     "shell.execute_reply.started": "2025-01-24T01:50:32.945529Z"
    }
   },
   "outputs": [
    {
     "name": "stderr",
     "output_type": "stream",
     "text": [
      "Setting default log level to \"WARN\".\n",
      "To adjust logging level use sc.setLogLevel(newLevel). For SparkR, use setLogLevel(newLevel).\n",
      "25/01/24 09:50:37 WARN Client: Neither spark.yarn.jars nor spark.yarn.archive is set, falling back to uploading libraries under SPARK_HOME.\n",
      "25/01/24 09:51:19 WARN YarnSchedulerBackend$YarnSchedulerEndpoint: Attempted to request executors before the AM has registered!\n",
      "                                                                                "
     ]
    },
    {
     "name": "stdout",
     "output_type": "stream",
     "text": [
      "+--------------------------------------------+\n",
      "|value                                       |\n",
      "+--------------------------------------------+\n",
      "|{\"age\":30,\"city\":\"New York\",\"name\":\"Alice\"} |\n",
      "|{}                                          |\n",
      "|{\"age\":25,\"city\":\"Los Angeles\",\"name\":\"Bob\"}|\n",
      "+--------------------------------------------+\n",
      "\n"
     ]
    }
   ],
   "source": [
    "from pyspark.sql import SparkSession\n",
    "from pyspark.sql.functions import to_json, struct\n",
    "\n",
    "# 初始化 SparkSession\n",
    "spark = SparkSession.builder.appName(\"example\").getOrCreate()\n",
    "\n",
    "# 创建示例多列 DataFrame\n",
    "data = [\n",
    "    {\"name\": \"Alice\", \"age\": 30, \"city\": \"New York\"},\n",
    "    {\"name\": None, \"age\": None, \"city\": None},\n",
    "    {\"name\": \"Bob\", \"age\": 25, \"city\": \"Los Angeles\"}\n",
    "]\n",
    "\n",
    "df = spark.createDataFrame(data)\n",
    "\n",
    "# 将所有列转换为 JSON 字符串\n",
    "df_json = df.select(to_json(struct(df.columns)).alias(\"value\"))\n",
    "\n",
    "# 显示结果 DataFrame\n",
    "df_json.show(truncate=False)"
   ]
  },
  {
   "cell_type": "code",
   "execution_count": 24,
   "id": "fa88962a-24fc-4ed7-870c-4e15954ee24e",
   "metadata": {
    "execution": {
     "iopub.execute_input": "2025-01-24T09:31:26.022479Z",
     "iopub.status.busy": "2025-01-24T09:31:26.022117Z",
     "iopub.status.idle": "2025-01-24T09:31:46.124239Z",
     "shell.execute_reply": "2025-01-24T09:31:46.123618Z",
     "shell.execute_reply.started": "2025-01-24T09:31:26.022457Z"
    }
   },
   "outputs": [
    {
     "name": "stderr",
     "output_type": "stream",
     "text": [
      "[Stage 9:>                                                          (0 + 1) / 1]"
     ]
    },
    {
     "name": "stdout",
     "output_type": "stream",
     "text": [
      "+----+-----------+-----+\n",
      "| age|       city| name|\n",
      "+----+-----------+-----+\n",
      "|  30|   New York|Alice|\n",
      "|null|       null| null|\n",
      "|  25|Los Angeles|  Bob|\n",
      "+----+-----------+-----+\n",
      "\n"
     ]
    },
    {
     "name": "stderr",
     "output_type": "stream",
     "text": [
      "                                                                                "
     ]
    }
   ],
   "source": [
    "df.show()"
   ]
  },
  {
   "cell_type": "markdown",
   "id": "172bd98a-5db1-4805-8002-29a5b8c16a5b",
   "metadata": {},
   "source": [
    "### 方法三"
   ]
  },
  {
   "cell_type": "code",
   "execution_count": null,
   "id": "3c8dde88-d1ad-4337-9044-dd97e78f96da",
   "metadata": {},
   "outputs": [],
   "source": [
    "from pyspark.sql import SparkSession, Row\n",
    "from pyspark.sql.types import StructType, StructField, StringType"
   ]
  },
  {
   "cell_type": "code",
   "execution_count": null,
   "id": "58bf3867-2957-4a7d-8e0b-b15068fef8bd",
   "metadata": {},
   "outputs": [],
   "source": [
    "# 初始化 SparkSession\n",
    "spark = SparkSession.builder.appName(\"example\").getOrCreate()\n",
    "\n",
    "# 创建示例数据\n",
    "data = [\n",
    "    '{\"name\": \"Alice\", \"age\": 30, \"city\": \"New York\"}',\n",
    "    '{\"ERROR_RESULT\": null}',\n",
    "    '{\"name\": \"Bob\", \"age\": 25, \"city\": \"Los Angeles\"}'\n",
    "]\n",
    "\n",
    "# 将数据转换为 Row 对象\n",
    "rows = [Row(value=json_str) for json_str in data]\n",
    "\n",
    "# 定义 Schema\n",
    "schema = StructType([\n",
    "    StructField(\"value\", StringType(), True)\n",
    "])\n",
    "\n",
    "# 使用 Schema 创建 DataFrame\n",
    "df_write = spark.createDataFrame(rows, schema)\n",
    "\n",
    "# 显示 DataFrame\n",
    "df_write.show(truncate=False)"
   ]
  },
  {
   "cell_type": "code",
   "execution_count": null,
   "id": "4b127ebe-9bd8-40f7-bb04-64a6d8aaad64",
   "metadata": {},
   "outputs": [],
   "source": [
    "from pyspark.sql import SparkSession\n",
    "\n",
    "# 初始化 SparkSession\n",
    "spark = SparkSession.builder.appName(\"example\").getOrCreate()\n",
    "\n",
    "# 创建示例 DataFrame\n",
    "data = [\n",
    "    '{\"name\": \"Alice\", \"age\": 30, \"city\": \"New York\"}',\n",
    "    '{\"ERROR_RESULT\": null}',\n",
    "    '{\"name\": \"Bob\", \"age\": 25, \"city\": \"Los Angeles\"}'\n",
    "]"
   ]
  },
  {
   "cell_type": "code",
   "execution_count": null,
   "id": "e71b40b9-7c06-4c43-b25b-d9042c1e389f",
   "metadata": {},
   "outputs": [],
   "source": [
    "# 直接创建 DataFrame\n",
    "df_write = spark.createDataFrame(data, StringType()).toDF(\"value\")\n",
    "# 显示 DataFrame\n",
    "df_write.show(truncate=False)"
   ]
  },
  {
   "cell_type": "code",
   "execution_count": null,
   "id": "74fa3549-e48c-4ad0-ae3a-0939c4736bfd",
   "metadata": {},
   "outputs": [],
   "source": [
    "# 显示 DataFrame\n",
    "df_write.show(truncate=False)"
   ]
  },
  {
   "cell_type": "markdown",
   "id": "3e42151f-197e-41f1-845f-912999799d97",
   "metadata": {},
   "source": [
    "## groupby"
   ]
  },
  {
   "cell_type": "code",
   "execution_count": null,
   "id": "e2ebca56-eec5-405e-bdc1-e9c8db785180",
   "metadata": {},
   "outputs": [],
   "source": [
    "from pyspark.sql import SparkSession\n",
    "from pyspark.sql.functions import col, avg, sum, count, max, min, mean, stddev, var_pop, first, last, collect_list, collect_set"
   ]
  },
  {
   "cell_type": "code",
   "execution_count": null,
   "id": "f9ab0d80-47cb-4560-a014-3cd64f975451",
   "metadata": {},
   "outputs": [],
   "source": [
    "spark = SparkSession.builder \\\n",
    "    .appName(\"PySpark GroupBy and Agg Example\") \\\n",
    "    .getOrCreate()\n",
    "data = [\n",
    "    (\"Product A\", \"Category 1\", 100.0, 5),\n",
    "    (\"Product B\", \"Category 2\", 150.0, 3),\n",
    "    (\"Product C\", \"Category 1\", 200.0, 8),\n",
    "    (\"Product D\", \"Category 2\", 250.0, 6),\n",
    "    (\"Product E\", \"Category 3\", 300.0, 4)\n",
    "]\n",
    "\n",
    "columns = [\"product\", \"category\", \"sales\", \"quantity\"]\n",
    "\n",
    "df = spark.createDataFrame(data, columns)\n",
    "df.show()"
   ]
  },
  {
   "cell_type": "code",
   "execution_count": null,
   "id": "4ab7c754-4b76-4b58-a46f-8ad94e9d13bc",
   "metadata": {},
   "outputs": [],
   "source": [
    "from pyspark.sql.functions import sum, avg\n",
    "\n",
    "grouped_df = df.groupBy(\"category\").agg(\n",
    "    sum(\"sales\").alias(\"total_sales\"),\n",
    "    avg(\"sales\").alias(\"avg_sales\")\n",
    ")\n",
    "\n",
    "grouped_df.show()"
   ]
  },
  {
   "cell_type": "code",
   "execution_count": null,
   "id": "cffcd010-a2ce-4972-b620-9d42bf23b6d3",
   "metadata": {},
   "outputs": [],
   "source": [
    "grouped_df_multiple = df.groupBy(\"category\", \"product\").agg(\n",
    "    sum(\"sales\").alias(\"total_sales\"),\n",
    "    avg(\"sales\").alias(\"avg_sales\")\n",
    ")\n",
    "\n",
    "grouped_df_multiple.show()"
   ]
  },
  {
   "cell_type": "code",
   "execution_count": null,
   "id": "a686613b-2e36-4b84-b6c8-35951c35390d",
   "metadata": {},
   "outputs": [],
   "source": [
    "grouped_df_advanced = df.groupBy(\"category\").agg(\n",
    "    sum(\"sales\").alias(\"total_sales\"),\n",
    "    avg(\"sales\").alias(\"avg_sales\"),\n",
    "    max(\"sales\").alias(\"max_sales\"),\n",
    "    min(\"sales\").alias(\"min_sales\"),\n",
    "    count(\"product\").alias(\"num_products\")\n",
    ")\n",
    "\n",
    "grouped_df_advanced.show()"
   ]
  },
  {
   "cell_type": "code",
   "execution_count": null,
   "id": "66d5101c-2a4b-4e45-bb2a-c64937c2685a",
   "metadata": {},
   "outputs": [],
   "source": [
    "from pyspark.sql.functions import expr\n",
    "\n",
    "tax_rate = 0.1\n",
    "grouped_df_with_expr = df.groupBy(\"category\").agg(\n",
    "    (sum(\"sales\") * (1 + tax_rate)).alias(\"total_sales_incl_tax\")\n",
    ")\n",
    "\n",
    "grouped_df_with_expr.show()"
   ]
  },
  {
   "cell_type": "code",
   "execution_count": null,
   "id": "15fa99ed-9878-4da5-8374-5f5c26cabd99",
   "metadata": {},
   "outputs": [],
   "source": []
  },
  {
   "cell_type": "markdown",
   "id": "c85cfe33-a672-4c04-bcb9-6a3e82b7d7a3",
   "metadata": {},
   "source": [
    "## to_json"
   ]
  },
  {
   "cell_type": "code",
   "execution_count": 3,
   "id": "82876afb-785a-47c3-9512-946afec2dff5",
   "metadata": {
    "execution": {
     "iopub.execute_input": "2025-01-24T01:51:59.761059Z",
     "iopub.status.busy": "2025-01-24T01:51:59.760518Z",
     "iopub.status.idle": "2025-01-24T01:51:59.767534Z",
     "shell.execute_reply": "2025-01-24T01:51:59.766959Z",
     "shell.execute_reply.started": "2025-01-24T01:51:59.761030Z"
    }
   },
   "outputs": [
    {
     "name": "stdout",
     "output_type": "stream",
     "text": [
      "root\n",
      " |-- value: string (nullable = true)\n",
      "\n"
     ]
    }
   ],
   "source": [
    "df_json.printSchema()"
   ]
  },
  {
   "cell_type": "code",
   "execution_count": 4,
   "id": "d26c6279-3688-4bd2-9f6a-69f6e2fa49a8",
   "metadata": {
    "execution": {
     "iopub.execute_input": "2025-01-24T01:54:24.426936Z",
     "iopub.status.busy": "2025-01-24T01:54:24.426548Z",
     "iopub.status.idle": "2025-01-24T01:54:24.450895Z",
     "shell.execute_reply": "2025-01-24T01:54:24.450396Z",
     "shell.execute_reply.started": "2025-01-24T01:54:24.426911Z"
    }
   },
   "outputs": [
    {
     "data": {
      "text/plain": [
       "Column<'struct(age, city, name)'>"
      ]
     },
     "execution_count": 4,
     "metadata": {},
     "output_type": "execute_result"
    }
   ],
   "source": [
    "struct(df.columns)"
   ]
  },
  {
   "cell_type": "code",
   "execution_count": 6,
   "id": "3cf36f6f-9ed4-4076-95de-5d7dfdee11b6",
   "metadata": {
    "execution": {
     "iopub.execute_input": "2025-01-24T02:49:54.379003Z",
     "iopub.status.busy": "2025-01-24T02:49:54.378564Z",
     "iopub.status.idle": "2025-01-24T02:49:54.403239Z",
     "shell.execute_reply": "2025-01-24T02:49:54.402725Z",
     "shell.execute_reply.started": "2025-01-24T02:49:54.378972Z"
    }
   },
   "outputs": [
    {
     "data": {
      "text/plain": [
       "Column<'to_json(struct(age, city, name))'>"
      ]
     },
     "execution_count": 6,
     "metadata": {},
     "output_type": "execute_result"
    }
   ],
   "source": [
    "to_json(struct(df.columns))"
   ]
  },
  {
   "cell_type": "code",
   "execution_count": 8,
   "id": "7a362946-d067-4daa-9ea4-5c17bbf7b2ef",
   "metadata": {
    "execution": {
     "iopub.execute_input": "2025-01-24T03:02:18.701534Z",
     "iopub.status.busy": "2025-01-24T03:02:18.701043Z",
     "iopub.status.idle": "2025-01-24T03:02:18.750682Z",
     "shell.execute_reply": "2025-01-24T03:02:18.750140Z",
     "shell.execute_reply.started": "2025-01-24T03:02:18.701506Z"
    }
   },
   "outputs": [],
   "source": [
    "data = [\n",
    "    {\"name\": \"Alice\", \"age\": 30, \"city\": \"New York\"},\n",
    "    {\"name\": None, \"age\": None, \"city\": None},\n",
    "    {\"name\": \"Bob\", \"age\": 25, \"city\": \"Los Angeles\"}\n",
    "]\n",
    "\n",
    "df = spark.createDataFrame(data)\n",
    "\n",
    "# 将所有列转换为 JSON 字符串\n",
    "df_json = df.select(to_json(struct(df.columns), {\"pretty\": \"true\"}).alias(\"value\"))"
   ]
  },
  {
   "cell_type": "code",
   "execution_count": 9,
   "id": "77fac0b8-e2b8-4c4b-a4d0-a02ecd44bab5",
   "metadata": {
    "execution": {
     "iopub.execute_input": "2025-01-24T03:02:26.339251Z",
     "iopub.status.busy": "2025-01-24T03:02:26.338421Z",
     "iopub.status.idle": "2025-01-24T03:02:47.852119Z",
     "shell.execute_reply": "2025-01-24T03:02:47.851513Z",
     "shell.execute_reply.started": "2025-01-24T03:02:26.339217Z"
    }
   },
   "outputs": [
    {
     "name": "stderr",
     "output_type": "stream",
     "text": [
      "[Stage 2:>                                                          (0 + 1) / 1]"
     ]
    },
    {
     "name": "stdout",
     "output_type": "stream",
     "text": [
      "+----------------------------------------------------------------+\n",
      "|value                                                           |\n",
      "+----------------------------------------------------------------+\n",
      "|{\\n  \"age\" : 30,\\n  \"city\" : \"New York\",\\n  \"name\" : \"Alice\"\\n} |\n",
      "|{ }                                                             |\n",
      "|{\\n  \"age\" : 25,\\n  \"city\" : \"Los Angeles\",\\n  \"name\" : \"Bob\"\\n}|\n",
      "+----------------------------------------------------------------+\n",
      "\n"
     ]
    },
    {
     "name": "stderr",
     "output_type": "stream",
     "text": [
      "                                                                                "
     ]
    }
   ],
   "source": [
    "df_json.show(truncate=False)"
   ]
  },
  {
   "cell_type": "code",
   "execution_count": 13,
   "id": "d174f3b1-d0f1-465e-89a9-a190052dce92",
   "metadata": {
    "execution": {
     "iopub.execute_input": "2025-01-24T03:08:22.813993Z",
     "iopub.status.busy": "2025-01-24T03:08:22.813213Z",
     "iopub.status.idle": "2025-01-24T03:08:22.816799Z",
     "shell.execute_reply": "2025-01-24T03:08:22.816284Z",
     "shell.execute_reply.started": "2025-01-24T03:08:22.813967Z"
    }
   },
   "outputs": [],
   "source": []
  },
  {
   "cell_type": "code",
   "execution_count": null,
   "id": "bc70b616-7967-4692-bd8b-8485719dcde2",
   "metadata": {},
   "outputs": [],
   "source": []
  },
  {
   "cell_type": "code",
   "execution_count": null,
   "id": "ed177ad8-5b1e-498b-9ff1-c82eba7e6b3c",
   "metadata": {},
   "outputs": [],
   "source": []
  },
  {
   "cell_type": "code",
   "execution_count": 14,
   "id": "03eea524-eb9d-4f12-bf8e-b21252f111c6",
   "metadata": {
    "execution": {
     "iopub.execute_input": "2025-01-24T03:08:24.812688Z",
     "iopub.status.busy": "2025-01-24T03:08:24.812297Z",
     "iopub.status.idle": "2025-01-24T03:08:24.819453Z",
     "shell.execute_reply": "2025-01-24T03:08:24.818918Z",
     "shell.execute_reply.started": "2025-01-24T03:08:24.812664Z"
    }
   },
   "outputs": [],
   "source": []
  },
  {
   "cell_type": "code",
   "execution_count": 17,
   "id": "43406366-a9ed-45f6-8677-55f7d64119ce",
   "metadata": {
    "execution": {
     "iopub.execute_input": "2025-01-24T03:09:06.512117Z",
     "iopub.status.busy": "2025-01-24T03:09:06.511715Z",
     "iopub.status.idle": "2025-01-24T03:09:06.948253Z",
     "shell.execute_reply": "2025-01-24T03:09:06.947469Z",
     "shell.execute_reply.started": "2025-01-24T03:09:06.512094Z"
    }
   },
   "outputs": [
    {
     "name": "stdout",
     "output_type": "stream",
     "text": [
      "+-------------------------------------------------+\n",
      "|value                                            |\n",
      "+-------------------------------------------------+\n",
      "|{\"name\": \"Alice\", \"age\": 30, \"city\": \"New York\"} |\n",
      "|{\"ERROR_RESULT\": null}                           |\n",
      "|{\"name\": \"Bob\", \"age\": 25, \"city\": \"Los Angeles\"}|\n",
      "+-------------------------------------------------+\n",
      "\n"
     ]
    }
   ],
   "source": []
  },
  {
   "cell_type": "code",
   "execution_count": 16,
   "id": "7022cf78-d625-4196-8bb6-ddd5209c3986",
   "metadata": {
    "execution": {
     "iopub.execute_input": "2025-01-24T03:08:28.004598Z",
     "iopub.status.busy": "2025-01-24T03:08:28.003815Z",
     "iopub.status.idle": "2025-01-24T03:08:47.939833Z",
     "shell.execute_reply": "2025-01-24T03:08:47.939245Z",
     "shell.execute_reply.started": "2025-01-24T03:08:28.004572Z"
    }
   },
   "outputs": [
    {
     "name": "stderr",
     "output_type": "stream",
     "text": [
      "[Stage 4:>                                                          (0 + 1) / 1]"
     ]
    },
    {
     "name": "stdout",
     "output_type": "stream",
     "text": [
      "+-------------------------------------------------+\n",
      "|value                                            |\n",
      "+-------------------------------------------------+\n",
      "|{\"name\": \"Alice\", \"age\": 30, \"city\": \"New York\"} |\n",
      "|{\"ERROR_RESULT\": null}                           |\n",
      "|{\"name\": \"Bob\", \"age\": 25, \"city\": \"Los Angeles\"}|\n",
      "+-------------------------------------------------+\n",
      "\n"
     ]
    },
    {
     "name": "stderr",
     "output_type": "stream",
     "text": [
      "                                                                                "
     ]
    }
   ],
   "source": []
  },
  {
   "cell_type": "code",
   "execution_count": 18,
   "id": "75da2bfb-7a64-46a8-bc5b-716e93eaf309",
   "metadata": {
    "execution": {
     "iopub.execute_input": "2025-01-24T03:29:43.226887Z",
     "iopub.status.busy": "2025-01-24T03:29:43.226453Z",
     "iopub.status.idle": "2025-01-24T03:29:43.231515Z",
     "shell.execute_reply": "2025-01-24T03:29:43.230881Z",
     "shell.execute_reply.started": "2025-01-24T03:29:43.226861Z"
    }
   },
   "outputs": [
    {
     "data": {
      "text/plain": [
       "8118581"
      ]
     },
     "execution_count": 18,
     "metadata": {},
     "output_type": "execute_result"
    }
   ],
   "source": [
    "1748593+1692+6368296"
   ]
  },
  {
   "cell_type": "code",
   "execution_count": 20,
   "id": "cae9ee81-0f39-4017-acc5-8371069e79ec",
   "metadata": {
    "execution": {
     "iopub.execute_input": "2025-01-24T06:16:39.405058Z",
     "iopub.status.busy": "2025-01-24T06:16:39.404563Z",
     "iopub.status.idle": "2025-01-24T06:16:39.410356Z",
     "shell.execute_reply": "2025-01-24T06:16:39.409817Z",
     "shell.execute_reply.started": "2025-01-24T06:16:39.405024Z"
    }
   },
   "outputs": [
    {
     "data": {
      "text/plain": [
       "1750285"
      ]
     },
     "execution_count": 20,
     "metadata": {},
     "output_type": "execute_result"
    }
   ],
   "source": [
    "1748593+1692"
   ]
  },
  {
   "cell_type": "code",
   "execution_count": null,
   "id": "9d42a6d5-f77c-4eca-b884-7f96daa5fae7",
   "metadata": {},
   "outputs": [],
   "source": [
    "1775350"
   ]
  },
  {
   "cell_type": "code",
   "execution_count": null,
   "id": "76f77888-6b57-448c-9db1-7a921246db86",
   "metadata": {},
   "outputs": [],
   "source": [
    "1751349"
   ]
  },
  {
   "cell_type": "code",
   "execution_count": 19,
   "id": "ac47cbee-47aa-4813-9210-a35591f92d89",
   "metadata": {
    "execution": {
     "iopub.execute_input": "2025-01-24T03:37:32.797943Z",
     "iopub.status.busy": "2025-01-24T03:37:32.797569Z",
     "iopub.status.idle": "2025-01-24T03:37:32.801978Z",
     "shell.execute_reply": "2025-01-24T03:37:32.801503Z",
     "shell.execute_reply.started": "2025-01-24T03:37:32.797919Z"
    }
   },
   "outputs": [
    {
     "data": {
      "text/plain": [
       "1740576"
      ]
     },
     "execution_count": 19,
     "metadata": {},
     "output_type": "execute_result"
    }
   ],
   "source": [
    "8108880-6368304"
   ]
  },
  {
   "cell_type": "code",
   "execution_count": null,
   "id": "72400ed1-ad46-4652-b54c-8b8faf1feed6",
   "metadata": {},
   "outputs": [],
   "source": [
    "6368304"
   ]
  },
  {
   "cell_type": "code",
   "execution_count": null,
   "id": "b36cc415-5812-4bfd-9537-40dfa741b1df",
   "metadata": {},
   "outputs": [],
   "source": [
    "17627406"
   ]
  },
  {
   "cell_type": "code",
   "execution_count": 22,
   "id": "d838d6bf-130e-455f-b062-f09f9b3e73f3",
   "metadata": {
    "execution": {
     "iopub.execute_input": "2025-01-24T09:23:55.625989Z",
     "iopub.status.busy": "2025-01-24T09:23:55.625387Z",
     "iopub.status.idle": "2025-01-24T09:23:55.633056Z",
     "shell.execute_reply": "2025-01-24T09:23:55.632418Z",
     "shell.execute_reply.started": "2025-01-24T09:23:55.625936Z"
    }
   },
   "outputs": [
    {
     "data": {
      "text/plain": [
       "False"
      ]
     },
     "execution_count": 22,
     "metadata": {},
     "output_type": "execute_result"
    }
   ],
   "source": [
    "None == ''"
   ]
  },
  {
   "cell_type": "code",
   "execution_count": 23,
   "id": "ac9e11c0-60a6-4cfa-b6ef-1e957e06b435",
   "metadata": {
    "execution": {
     "iopub.execute_input": "2025-01-24T09:24:07.665974Z",
     "iopub.status.busy": "2025-01-24T09:24:07.665588Z",
     "iopub.status.idle": "2025-01-24T09:24:07.670069Z",
     "shell.execute_reply": "2025-01-24T09:24:07.669581Z",
     "shell.execute_reply.started": "2025-01-24T09:24:07.665949Z"
    }
   },
   "outputs": [
    {
     "data": {
      "text/plain": [
       "True"
      ]
     },
     "execution_count": 23,
     "metadata": {},
     "output_type": "execute_result"
    }
   ],
   "source": [
    "None != ''"
   ]
  },
  {
   "cell_type": "code",
   "execution_count": null,
   "id": "022ab8cf-656d-43ae-af4b-0a4e91ef636b",
   "metadata": {},
   "outputs": [],
   "source": []
  }
 ],
 "metadata": {
  "kernelspec": {
   "display_name": "Python 3.10 (ipykernel)",
   "language": "python",
   "name": "python3.10"
  },
  "language_info": {
   "codemirror_mode": {
    "name": "ipython",
    "version": 3
   },
   "file_extension": ".py",
   "mimetype": "text/x-python",
   "name": "python",
   "nbconvert_exporter": "python",
   "pygments_lexer": "ipython3",
   "version": "3.10.9"
  }
 },
 "nbformat": 4,
 "nbformat_minor": 5
}
