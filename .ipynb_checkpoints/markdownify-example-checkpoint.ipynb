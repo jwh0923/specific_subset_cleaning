{
 "cells": [
  {
   "cell_type": "code",
   "execution_count": 56,
   "id": "e738f8e0-6391-4fc9-a1fc-21e889c0dbe8",
   "metadata": {
    "execution": {
     "iopub.execute_input": "2025-02-21T13:01:53.163183Z",
     "iopub.status.busy": "2025-02-21T13:01:53.162475Z",
     "iopub.status.idle": "2025-02-21T13:01:53.167319Z",
     "shell.execute_reply": "2025-02-21T13:01:53.166857Z",
     "shell.execute_reply.started": "2025-02-21T13:01:53.163163Z"
    }
   },
   "outputs": [],
   "source": [
    "from pyspark.sql import Row, DataFrame\n",
    "import json\n",
    "\n",
    "from xinghe.spark import *\n",
    "from app.common.json_util import *\n",
    "from xinghe.s3 import *\n",
    "from app.common.json_util import json_loads\n",
    "from app.common.s3.client import get_s3_client, list_s3_objects\n",
    "from app.common.s3.read import read_s3_rows\n",
    "from app.common.s3.write import S3DocWriter\n",
    "\n",
    "from lxml.html import HtmlElement, HTMLParser, fromstring, tostring, document_fromstring\n",
    "from lxml import etree\n",
    "from lxml.html import fromstring as str2html\n",
    "import os\n",
    "try:\n",
    "    from llm_web_kit.pipeline.extractor.html.magic_html import GeneralExtractor\n",
    "    from llm_web_kit.libs.html_utils import html_to_element, element_to_html\n",
    "except:\n",
    "    from magic_html import GeneralExtractor"
   ]
  },
  {
   "cell_type": "code",
   "execution_count": 5,
   "id": "1e243518-307c-4d18-aa74-8b7a40d70b1f",
   "metadata": {
    "execution": {
     "iopub.execute_input": "2025-02-21T11:40:15.740086Z",
     "iopub.status.busy": "2025-02-21T11:40:15.739820Z",
     "iopub.status.idle": "2025-02-21T11:40:15.742400Z",
     "shell.execute_reply": "2025-02-21T11:40:15.742046Z",
     "shell.execute_reply.started": "2025-02-21T11:40:15.740068Z"
    }
   },
   "outputs": [],
   "source": [
    "s3_path = \"s3://puyu3-users/wangrui/puyu3-cc-recall-html/cc-html-0218/batch-filter-5-subject-domain-0219/v001/batch-0/0-physics/part-67b4df819443-000010.jsonl\""
   ]
  },
  {
   "cell_type": "code",
   "execution_count": 67,
   "id": "4bd137f4-f588-402b-9197-1355de2c39ac",
   "metadata": {
    "execution": {
     "iopub.execute_input": "2025-02-21T13:13:51.120132Z",
     "iopub.status.busy": "2025-02-21T13:13:51.119850Z",
     "iopub.status.idle": "2025-02-21T13:13:57.002217Z",
     "shell.execute_reply": "2025-02-21T13:13:57.001738Z",
     "shell.execute_reply.started": "2025-02-21T13:13:51.120113Z"
    }
   },
   "outputs": [
    {
     "name": "stdout",
     "output_type": "stream",
     "text": [
      "Unicode strings with encoding declaration are not supported. Please use bytes input or XML fragments without declaration.\n"
     ]
    }
   ],
   "source": [
    "i = 0\n",
    "total = 50 # 测试50个\n",
    "save_dir = \"./html-md\"\n",
    "os.makedirs(save_dir, exist_ok=True)\n",
    "start_i = 0\n",
    "\n",
    "\n",
    "def __clear_html(html_source:str) -> str:\n",
    "    \"\"\"\n",
    "    清理html里的无关tag\n",
    "    \"\"\"\n",
    "    new_html_source = html_source.replace(' ', '').replace('\\n', '').replace('\\t', '')\n",
    "    try:\n",
    "        # 解析HTML\n",
    "        root = etree.HTML(new_html_source)\n",
    "        # 删除所有的<script>和<style>元素\n",
    "        for element in root.xpath('//*[self::script or self::style]'):\n",
    "            element.getparent().remove(element)\n",
    "        # 打印清除后的HTML\n",
    "        return etree.tostring(root, pretty_print=True).decode()\n",
    "    except Exception as e:\n",
    "        return new_html_source\n",
    "        logger.exception(e)\n",
    "\n",
    "\n",
    "\n",
    "for row in read_s3_rows(s3_path):\n",
    "    if i>=total+start_i:\n",
    "        break\n",
    "    i += 1\n",
    "    if i<start_i:\n",
    "        continue\n",
    "    \n",
    "    data = json_loads(row.value)  # dict_keys(['id', 'track_id', 'domain', 'url', 'date', 'content_length', 'status', 'site_type', 'content_charset', 'tag', 'html', 'raw_warc_path', 'cc_dump', 'sub_path', 'filelist_name'])\n",
    "    html_source = data.get(\"html\", \"\")\n",
    "    url = data.get(\"url\", '')\n",
    "    \n",
    "    with open(f\"{save_dir}/{i}_raw.html\", 'w', encoding='utf-8') as f:\n",
    "        f.write(html_source)\n",
    "\n",
    "    # 将HTML字符串转换为UTF-8字节序列\n",
    "    try:\n",
    "        root = html_to_element(html_source)\n",
    "    except Exception as e:\n",
    "        print(e)\n",
    "        continue\n",
    "    \n",
    "    # # 移除所有的<script>和<style>元素，任何不想要的都可以加入\n",
    "    for element in root.xpath(\"//script|//style\"):\n",
    "        element.getparent().remove(element)\n",
    "    cleaned_html = element_to_html(root) # 得到清理之后的标签\n",
    "\n",
    "    with open(f\"{save_dir}/{i}_cleaned.html\", 'w', encoding='utf-8') as f:\n",
    "        f.write(cleaned_html)\n",
    "    \n",
    "    # 接下来提取正文，无论用任何方法，返回一个正文的html主体。这里使用magic-html\n",
    "    extractor = GeneralExtractor()\n",
    "    rtl = extractor.extract(cleaned_html, base_url=url, )\n",
    "    main_html = rtl['html']\n",
    "\n",
    "\n",
    "    with open(f\"{save_dir}/{i}_main.html\", \"w\", encoding='utf-8') as f:\n",
    "        f.write(main_html)\n",
    "\n",
    "    # 最后把main_html转成md,然后保存到文件里，看一下是否正常\n",
    "    \n",
    "    \n",
    "    from app.format.html.html2text import html_to_text\n",
    "    md = html_to_text(main_html, as_md=True, )\n",
    "    \n",
    "    with open(f\"./{save_dir}/{i}.md\", 'w', encoding='utf-8') as f:\n",
    "        f.write(md)\n",
    "    "
   ]
  }
 ],
 "metadata": {
  "kernelspec": {
   "display_name": "llmwebkit-dev(py310)",
   "language": "python",
   "name": "python3.10-webkitdev"
  },
  "language_info": {
   "codemirror_mode": {
    "name": "ipython",
    "version": 3
   },
   "file_extension": ".py",
   "mimetype": "text/x-python",
   "name": "python",
   "nbconvert_exporter": "python",
   "pygments_lexer": "ipython3",
   "version": "3.10.16"
  }
 },
 "nbformat": 4,
 "nbformat_minor": 5
}
