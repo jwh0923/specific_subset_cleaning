{
 "cells": [
  {
   "cell_type": "code",
   "execution_count": 9,
   "id": "bcb4d241-68a9-409f-b437-2c9e7d01db5d",
   "metadata": {
    "execution": {
     "iopub.execute_input": "2025-03-14T07:52:50.579929Z",
     "iopub.status.busy": "2025-03-14T07:52:50.579315Z",
     "iopub.status.idle": "2025-03-14T07:52:56.301902Z",
     "shell.execute_reply": "2025-03-14T07:52:56.301149Z",
     "shell.execute_reply.started": "2025-03-14T07:52:50.579886Z"
    }
   },
   "outputs": [],
   "source": [
    "# create spark session\n",
    "import uuid\n",
    "import time\n",
    "\n",
    "from pyspark.sql import Row, DataFrame\n",
    "from pyspark.sql.functions import explode, count,col, format_number\n",
    "from pyspark.sql.types import StructType, StructField, StringType, BooleanType, ArrayType\n",
    "\n",
    "from app.common.spark_ext import *\n",
    "from app.common.json_util import *\n",
    "from app.common.s3 import *\n",
    "from app.common.json_util import *\n",
    "\n",
    "config = {\n",
    "    \"spark_conf_name\": \"spark_2\",\n",
    "    \"skip_success_check\": True,\n",
    "    # \"spark.dynamicAllocation.maxExecutors\":120,\n",
    "    \"spark.executorEnv.HOME\": \"/share/shijin\",\n",
    "}\n",
    "\n",
    "spark = new_spark_session(\"dingo-puyu3-hf\", config)"
   ]
  },
  {
   "cell_type": "markdown",
   "id": "8470364b-5d54-4497-b7a7-d61e0ee567e3",
   "metadata": {},
   "source": [
    "# 抽取数据"
   ]
  },
  {
   "cell_type": "code",
   "execution_count": 3,
   "id": "1b8a1027-8d94-4e22-9c3a-658d4e3838ae",
   "metadata": {
    "execution": {
     "iopub.execute_input": "2025-03-13T10:57:40.949225Z",
     "iopub.status.busy": "2025-03-13T10:57:40.948754Z",
     "iopub.status.idle": "2025-03-13T10:57:46.152490Z",
     "shell.execute_reply": "2025-03-13T10:57:46.151887Z",
     "shell.execute_reply.started": "2025-03-13T10:57:40.949203Z"
    }
   },
   "outputs": [],
   "source": [
    "# read data\n",
    "input_paths = [\n",
    "    \"s3://qa-huawei/shijin/15T/pjcc/sample_data/zh/\"\n",
    "]\n",
    "input_df = read_any_path(spark, \",\".join(input_paths), config)"
   ]
  },
  {
   "cell_type": "code",
   "execution_count": 5,
   "id": "2cc66e17-98da-4f45-83f7-f58b95be9a65",
   "metadata": {
    "execution": {
     "iopub.execute_input": "2025-03-07T12:00:40.932588Z",
     "iopub.status.busy": "2025-03-07T12:00:40.932440Z",
     "iopub.status.idle": "2025-03-07T12:01:02.598497Z",
     "shell.execute_reply": "2025-03-07T12:01:02.597770Z",
     "shell.execute_reply.started": "2025-03-07T12:00:40.932574Z"
    }
   },
   "outputs": [
    {
     "name": "stderr",
     "output_type": "stream",
     "text": [
      "                                                                                "
     ]
    },
    {
     "data": {
      "text/plain": [
       "11748"
      ]
     },
     "execution_count": 5,
     "metadata": {},
     "output_type": "execute_result"
    }
   ],
   "source": [
    "input_df_total=input_df.count()\n",
    "input_df_total"
   ]
  },
  {
   "cell_type": "code",
   "execution_count": 17,
   "id": "bf75667a-802f-4b12-af5c-cf482f9df09a",
   "metadata": {
    "execution": {
     "iopub.execute_input": "2025-01-08T07:21:21.777347Z",
     "iopub.status.busy": "2025-01-08T07:21:21.777023Z",
     "iopub.status.idle": "2025-01-08T07:21:45.303534Z",
     "shell.execute_reply": "2025-01-08T07:21:45.302854Z",
     "shell.execute_reply.started": "2025-01-08T07:21:21.777327Z"
    }
   },
   "outputs": [
    {
     "name": "stderr",
     "output_type": "stream",
     "text": [
      "                                                                                \r"
     ]
    },
    {
     "data": {
      "text/plain": [
       "150"
      ]
     },
     "execution_count": 17,
     "metadata": {},
     "output_type": "execute_result"
    }
   ],
   "source": [
    "# sample data\n",
    "sample_df = input_df.sample(fraction=160/input_df_total).rdd.toDF().limit(150)\n",
    "sample_df.count()"
   ]
  },
  {
   "cell_type": "code",
   "execution_count": null,
   "id": "a87f5b0e-c5a5-4cf9-9db6-af3416af6cd2",
   "metadata": {},
   "outputs": [],
   "source": [
    "output_acc = S3UploadAcc(spark.sparkContext)\n",
    "output_path = \"s3://qa-huawei/shijin/15T/pjcc/human_check/zh/\"\n",
    "\n",
    "sample_df.repartition(1).foreachPartition(upload_to_s3(output_path, \"jsonl\", output_acc, 0))"
   ]
  },
  {
   "cell_type": "code",
   "execution_count": 4,
   "id": "e5e29dab-3338-4b6a-ae35-39147d55519b",
   "metadata": {
    "execution": {
     "iopub.execute_input": "2025-01-08T03:13:37.243019Z",
     "iopub.status.busy": "2025-01-08T03:13:37.242486Z",
     "iopub.status.idle": "2025-01-08T03:13:44.303963Z",
     "shell.execute_reply": "2025-01-08T03:13:44.303149Z",
     "shell.execute_reply.started": "2025-01-08T03:13:37.243000Z"
    }
   },
   "outputs": [
    {
     "name": "stderr",
     "output_type": "stream",
     "text": [
      "                                                                                \r"
     ]
    }
   ],
   "source": [
    "# process data\n",
    "def process_data(row) -> Row:\n",
    "    data = json_loads(row.value)\n",
    "    content_qa = Doc(data).content\n",
    "    data['content_qa'] = content_qa\n",
    "    return Row(value=json_dumps(data))\n",
    "\n",
    "process_df = sample_df.rdd.map(process_data).toDF()"
   ]
  },
  {
   "cell_type": "code",
   "execution_count": 5,
   "id": "0a55ab38-be03-4ab5-aeb2-9ce0e63a1ca3",
   "metadata": {
    "execution": {
     "iopub.execute_input": "2025-01-08T03:13:44.306013Z",
     "iopub.status.busy": "2025-01-08T03:13:44.305297Z",
     "iopub.status.idle": "2025-01-08T03:15:53.507224Z",
     "shell.execute_reply": "2025-01-08T03:15:53.506626Z",
     "shell.execute_reply.started": "2025-01-08T03:13:44.305986Z"
    },
    "scrolled": true
   },
   "outputs": [
    {
     "name": "stderr",
     "output_type": "stream",
     "text": [
      "                                                                                \r"
     ]
    },
    {
     "data": {
      "text/plain": [
       "{'rows': 12003,\n",
       " 'bytes': {'sum': 595619325,\n",
       "  'min': 3060,\n",
       "  'max': 5073613,\n",
       "  'cnt': 12003,\n",
       "  'avg': 49622.538},\n",
       " 'files': 1554,\n",
       " 'sub_paths': {'en/en-pj-cc': {'rows': 12003,\n",
       "   'bytes': {'sum': 595619325,\n",
       "    'min': 3060,\n",
       "    'max': 5073613,\n",
       "    'cnt': 12003,\n",
       "    'avg': 49622.538},\n",
       "   'files': 1554}}}"
      ]
     },
     "execution_count": 5,
     "metadata": {},
     "output_type": "execute_result"
    }
   ],
   "source": [
    "# write data\n",
    "output_path = \"s3://qa-huawei/shijin/15T/pjcc/sample_data/en\"\n",
    "write_any_path(process_df, output_path, config)"
   ]
  },
  {
   "cell_type": "markdown",
   "id": "f0fe6ec0-35cd-4049-9730-6a1d42f58eaf",
   "metadata": {},
   "source": [
    "# 机器质检"
   ]
  },
  {
   "cell_type": "code",
   "execution_count": 10,
   "id": "3c9e44d5-80fb-4ad6-aafd-da82dc4ca3cd",
   "metadata": {
    "execution": {
     "iopub.execute_input": "2025-03-14T07:52:56.729980Z",
     "iopub.status.busy": "2025-03-14T07:52:56.729804Z",
     "iopub.status.idle": "2025-03-14T07:52:57.337146Z",
     "shell.execute_reply": "2025-03-14T07:52:57.336327Z",
     "shell.execute_reply.started": "2025-03-14T07:52:56.729964Z"
    }
   },
   "outputs": [],
   "source": [
    "input_paths = [\n",
    "    \"s3://llm-users-phdd2/jiangwenhao/article/zh-web-sina/result/v005/\",\n",
    "]\n",
    "input_df = read_any_path(spark, \",\".join(input_paths), config)\n"
   ]
  },
  {
   "cell_type": "code",
   "execution_count": 19,
   "id": "c5dba268-440c-4979-b152-f8dd97062937",
   "metadata": {
    "execution": {
     "iopub.execute_input": "2025-03-14T08:04:28.214167Z",
     "iopub.status.busy": "2025-03-14T08:04:28.213656Z",
     "iopub.status.idle": "2025-03-14T08:04:28.218107Z",
     "shell.execute_reply": "2025-03-14T08:04:28.217572Z",
     "shell.execute_reply.started": "2025-03-14T08:04:28.214143Z"
    }
   },
   "outputs": [],
   "source": [
    "input_review_rdd = input_df.rdd.map(lambda x: {**json.loads(x.value), \"filename\": x.filename})"
   ]
  },
  {
   "cell_type": "code",
   "execution_count": 21,
   "id": "cd8a3b7e-88a7-46be-aee5-80ad8e186277",
   "metadata": {
    "execution": {
     "iopub.execute_input": "2025-03-14T08:05:07.300312Z",
     "iopub.status.busy": "2025-03-14T08:05:07.299629Z",
     "iopub.status.idle": "2025-03-14T08:05:08.280130Z",
     "shell.execute_reply": "2025-03-14T08:05:08.279501Z",
     "shell.execute_reply.started": "2025-03-14T08:05:07.300291Z"
    }
   },
   "outputs": [
    {
     "name": "stderr",
     "output_type": "stream",
     "text": [
      "                                                                                "
     ]
    },
    {
     "data": {
      "text/plain": [
       "{'track_id': '0e932ccc-4f8f-4dfd-aa59-fd9bf4fec27d',\n",
       " 'url': 'http://finance.sina.com.cn/jjxw/2023-08-21/doc-imzhycmz2479902.shtml',\n",
       " 'html': '<div class=\"article\" id=\"artibody\"> \\n <!-- 秒拍begin --> \\n <!-- 秒拍end --> \\n <!-- 视频播放器start --> \\n <!-- 视频播放器end --> \\n <!-- 行情图begin --> \\n <!-- 行情图end --> \\n <p cms-style=\"font-L\"></p> \\n <p cms-style=\"font-L\"></p> \\n <div class=\"img_wrapper\"> \\n  <img src=\"http://n.sinaimg.cn/spider20230821/27/w1245h382/20230821/048a-75ac73e4bc20bc804c48b28954290fc1.png\" id=\"0\"> \\n  <span class=\"img_descr\"></span> \\n </div> \\n <p cms-style=\"font-L\">中国质量新闻网讯 近日，天津市宝坻区市场监督管理局发布关于43批次食品抽样检验情况的通告（2023年第9期）。本期监督抽检涉及食用<span id=\"stock_sz000061\"><a href=\"https://finance.sina.com.cn/realstock/company/sz000061/nc.shtml\" class=\"keyword\" target=\"_blank\" data-sudaclick=\"content_marketkeywords_p\">农产品</a></span><span id=\"quote_sz000061\"></span>，糖果制品，饮料，方便食品和调味品共5大类，共计43批次样品，全部合格。</p> \\n <p cms-style=\"font-L align-Center\"><font cms-style=\"font-L strong-Bold align-Center\">产品合格信息</font></p> \\n <p cms-style=\"font-L align-Center\">（声明：以下信息仅指本次抽检标称的生产企业相关产品的生产日期/批号和所检项目）</p> \\n <p cms-style=\"font-L\"></p> \\n <div cms-style=\"font-L scroll\"> \\n  <div cms-style=\"font-L minWidth\"> \\n   <table border=\"1\" cms-style=\"table\"> \\n    <tbody cms-style=\"tbody\"> \\n     <tr cms-style=\"tr\"> \\n      <td cms-style=\"td\">抽样编号</td> \\n      <td cms-style=\"td\">序号</td> \\n      <td cms-style=\"td\">标称生产企业名称</td> \\n      <td cms-style=\"td\">标称生产企业地址</td> \\n      <td cms-style=\"td\">被抽样单位名称</td> \\n      <td cms-style=\"td\">被抽样单位所在省份</td> \\n      <td cms-style=\"td\">食品名称</td> \\n      <td cms-style=\"td\">规格型号</td> \\n      <td cms-style=\"td\">生产日期/批号</td> \\n      <td cms-style=\"td\">分类</td> \\n      <td cms-style=\"td\">公告号</td> \\n      <td cms-style=\"td\">公告日期</td> \\n      <td cms-style=\"td\">任务来源/项目名称</td> \\n      <td cms-style=\"td\">备注</td> \\n     </tr> \\n     <tr cms-style=\"tr\"> \\n      <td cms-style=\"td\">DBJ23120115111035213</td> \\n      <td cms-style=\"td\">1</td> \\n      <td cms-style=\"td\">/</td> \\n      <td cms-style=\"td\">/</td> \\n      <td cms-style=\"td\">天津市宝坻区宜品生活超市</td> \\n      <td cms-style=\"td\">天津</td> \\n      <td cms-style=\"td\">尖椒</td> \\n      <td cms-style=\"td\">/</td> \\n      <td cms-style=\"td\">2023.6.26 （购进日期）</td> \\n      <td cms-style=\"td\">食用农产品</td> \\n      <td cms-style=\"td\">2023年第9期</td> \\n      <td cms-style=\"td\">2023.8.18</td> \\n      <td cms-style=\"td\">区抽/\\xa0\\xa0\\xa0 监督抽检</td> \\n      <td cms-style=\"td\">/</td> \\n     </tr> \\n     <tr cms-style=\"tr\"> \\n      <td cms-style=\"td\">DBJ23120115111035214</td> \\n      <td cms-style=\"td\">2</td> \\n      <td cms-style=\"td\">/</td> \\n      <td cms-style=\"td\">/</td> \\n      <td cms-style=\"td\">天津市宝坻区宜品生活超市</td> \\n      <td cms-style=\"td\">天津</td> \\n      <td cms-style=\"td\">姜</td> \\n      <td cms-style=\"td\">/</td> \\n      <td cms-style=\"td\">2023.6.23 （购进日期）</td> \\n      <td cms-style=\"td\">食用农产品</td> \\n      <td cms-style=\"td\">2023年第9期</td> \\n      <td cms-style=\"td\">2023.8.18</td> \\n      <td cms-style=\"td\">区抽/\\xa0\\xa0\\xa0 监督抽检</td> \\n      <td cms-style=\"td\">/</td> \\n     </tr> \\n     <tr cms-style=\"tr\"> \\n      <td cms-style=\"td\">DBJ23120115111035225</td> \\n      <td cms-style=\"td\">3</td> \\n      <td cms-style=\"td\">/</td> \\n      <td cms-style=\"td\">/</td> \\n      <td cms-style=\"td\">天津市宝坻区福满家水果经营店</td> \\n      <td cms-style=\"td\">天津</td> \\n      <td cms-style=\"td\">芹菜</td> \\n      <td cms-style=\"td\">/</td> \\n      <td cms-style=\"td\">2023.6.26 （购进日期）</td> \\n      <td cms-style=\"td\">食用农产品</td> \\n      <td cms-style=\"td\">2023年第9期</td> \\n      <td cms-style=\"td\">2023.8.18</td> \\n      <td cms-style=\"td\">区抽/\\xa0\\xa0\\xa0 监督抽检</td> \\n      <td cms-style=\"td\">/</td> \\n     </tr> \\n     <tr cms-style=\"tr\"> \\n      <td cms-style=\"td\">DBJ23120115111035226</td> \\n      <td cms-style=\"td\">4</td> \\n      <td cms-style=\"td\">/</td> \\n      <td cms-style=\"td\">/</td> \\n      <td cms-style=\"td\">天津市宝坻区福满家水果经营店</td> \\n      <td cms-style=\"td\">天津</td> \\n      <td cms-style=\"td\">生姜</td> \\n      <td cms-style=\"td\">/</td> \\n      <td cms-style=\"td\">2023.6.26 （购进日期）</td> \\n      <td cms-style=\"td\">食用农产品</td> \\n      <td cms-style=\"td\">2023年第9期</td> \\n      <td cms-style=\"td\">2023.8.18</td> \\n      <td cms-style=\"td\">区抽/\\xa0\\xa0\\xa0 监督抽检</td> \\n      <td cms-style=\"td\">/</td> \\n     </tr> \\n     <tr cms-style=\"tr\"> \\n      <td cms-style=\"td\">DBJ23120115111035261</td> \\n      <td cms-style=\"td\">5</td> \\n      <td cms-style=\"td\">/</td> \\n      <td cms-style=\"td\">/</td> \\n      <td cms-style=\"td\">天津市宝坻区绿木生百货店</td> \\n      <td cms-style=\"td\">天津</td> \\n      <td cms-style=\"td\">芹菜</td> \\n      <td cms-style=\"td\">/</td> \\n      <td cms-style=\"td\">2023.6.26 （购进日期）</td> \\n      <td cms-style=\"td\">食用农产品</td> \\n      <td cms-style=\"td\">2023年第9期</td> \\n      <td cms-style=\"td\">2023.8.18</td> \\n      <td cms-style=\"td\">区抽/\\xa0\\xa0\\xa0 监督抽检</td> \\n      <td cms-style=\"td\">/</td> \\n     </tr> \\n     <tr cms-style=\"tr\"> \\n      <td cms-style=\"td\">DBJ23120115111035262</td> \\n      <td cms-style=\"td\">6</td> \\n      <td cms-style=\"td\">/</td> \\n      <td cms-style=\"td\">/</td> \\n      <td cms-style=\"td\">天津市宝坻区绿木生百货店</td> \\n      <td cms-style=\"td\">天津</td> \\n      <td cms-style=\"td\">油菜（普通白菜）</td> \\n      <td cms-style=\"td\">/</td> \\n      <td cms-style=\"td\">2023.6.25 （购进日期）</td> \\n      <td cms-style=\"td\">食用农产品</td> \\n      <td cms-style=\"td\">2023年第9期</td> \\n      <td cms-style=\"td\">2023.8.18</td> \\n      <td cms-style=\"td\">区抽/\\xa0\\xa0\\xa0 监督抽检</td> \\n      <td cms-style=\"td\">/</td> \\n     </tr> \\n     <tr cms-style=\"tr\"> \\n      <td cms-style=\"td\">DBJ23120115111035275</td> \\n      <td cms-style=\"td\">7</td> \\n      <td cms-style=\"td\">/</td> \\n      <td cms-style=\"td\">/</td> \\n      <td cms-style=\"td\">天津市宝坻区孔鲜生百货超市</td> \\n      <td cms-style=\"td\">天津</td> \\n      <td cms-style=\"td\">韭菜</td> \\n      <td cms-style=\"td\">/</td> \\n      <td cms-style=\"td\">2023.6.26 （购进日期）</td> \\n      <td cms-style=\"td\">食用农产品</td> \\n      <td cms-style=\"td\">2023年第9期</td> \\n      <td cms-style=\"td\">2023.8.18</td> \\n      <td cms-style=\"td\">区抽/\\xa0\\xa0\\xa0 监督抽检</td> \\n      <td cms-style=\"td\">/</td> \\n     </tr> \\n     <tr cms-style=\"tr\"> \\n      <td cms-style=\"td\">DBJ23120115111035276</td> \\n      <td cms-style=\"td\">8</td> \\n      <td cms-style=\"td\">/</td> \\n      <td cms-style=\"td\">/</td> \\n      <td cms-style=\"td\">天津市宝坻区孔鲜生百货超市</td> \\n      <td cms-style=\"td\">天津</td> \\n      <td cms-style=\"td\">徐香猕猴桃</td> \\n      <td cms-style=\"td\">/</td> \\n      <td cms-style=\"td\">2023.6.24 （购进日期）</td> \\n      <td cms-style=\"td\">食用农产品</td> \\n      <td cms-style=\"td\">2023年第9期</td> \\n      <td cms-style=\"td\">2023.8.18</td> \\n      <td cms-style=\"td\">区抽/\\xa0\\xa0\\xa0 监督抽检</td> \\n      <td cms-style=\"td\">/</td> \\n     </tr> \\n     <tr cms-style=\"tr\"> \\n      <td cms-style=\"td\">DBJ23120115111035447</td> \\n      <td cms-style=\"td\">9</td> \\n      <td cms-style=\"td\">/</td> \\n      <td cms-style=\"td\">/</td> \\n      <td cms-style=\"td\">天津市宝坻区四方百货商店</td> \\n      <td cms-style=\"td\">天津</td> \\n      <td cms-style=\"td\">鸡蛋</td> \\n      <td cms-style=\"td\">/</td> \\n      <td cms-style=\"td\">2023.6.29 （购进日期）</td> \\n      <td cms-style=\"td\">食用农产品</td> \\n      <td cms-style=\"td\">2023年第9期</td> \\n      <td cms-style=\"td\">2023.8.18</td> \\n      <td cms-style=\"td\">区抽/\\xa0\\xa0\\xa0 监督抽检</td> \\n      <td cms-style=\"td\">/</td> \\n     </tr> \\n     <tr cms-style=\"tr\"> \\n      <td cms-style=\"td\">DBJ23120115111035771</td> \\n      <td cms-style=\"td\">10</td> \\n      <td cms-style=\"td\">/</td> \\n      <td cms-style=\"td\">/</td> \\n      <td cms-style=\"td\">天津市宝坻区青禾水果店</td> \\n      <td cms-style=\"td\">天津</td> \\n      <td cms-style=\"td\">鹅蛋柑</td> \\n      <td cms-style=\"td\">/</td> \\n      <td cms-style=\"td\">2023.5.28 （购进日期）</td> \\n      <td cms-style=\"td\">食用农产品</td> \\n      <td cms-style=\"td\">2023年第9期</td> \\n      <td cms-style=\"td\">2023.8.18</td> \\n      <td cms-style=\"td\">区抽/\\xa0\\xa0\\xa0 监督抽检</td> \\n      <td cms-style=\"td\">/</td> \\n     </tr> \\n     <tr cms-style=\"tr\"> \\n      <td cms-style=\"td\">DBJ23120115111035772</td> \\n      <td cms-style=\"td\">11</td> \\n      <td cms-style=\"td\">/</td> \\n      <td cms-style=\"td\">/</td> \\n      <td cms-style=\"td\">天津市宝坻区青禾水果店</td> \\n      <td cms-style=\"td\">天津</td> \\n      <td cms-style=\"td\">猕猴桃</td> \\n      <td cms-style=\"td\">/</td> \\n      <td cms-style=\"td\">2023.6.22 （购进日期）</td> \\n      <td cms-style=\"td\">食用农产品</td> \\n      <td cms-style=\"td\">2023年第9期</td> \\n      <td cms-style=\"td\">2023.8.18</td> \\n      <td cms-style=\"td\">区抽/\\xa0\\xa0\\xa0 监督抽检</td> \\n      <td cms-style=\"td\">/</td> \\n     </tr> \\n     <tr cms-style=\"tr\"> \\n      <td cms-style=\"td\">DBJ23120115111035833</td> \\n      <td cms-style=\"td\">12</td> \\n      <td cms-style=\"td\">/</td> \\n      <td cms-style=\"td\">/</td> \\n      <td cms-style=\"td\">天津市宝坻区御林源鲜果店</td> \\n      <td cms-style=\"td\">天津</td> \\n      <td cms-style=\"td\">金太阳沃柑</td> \\n      <td cms-style=\"td\">/</td> \\n      <td cms-style=\"td\">2023.6.17 （购进日期）</td> \\n      <td cms-style=\"td\">食用农产品</td> \\n      <td cms-style=\"td\">2023年第9期</td> \\n      <td cms-style=\"td\">2023.8.18</td> \\n      <td cms-style=\"td\">区抽/\\xa0\\xa0\\xa0 监督抽检</td> \\n      <td cms-style=\"td\">/</td> \\n     </tr> \\n     <tr cms-style=\"tr\"> \\n      <td cms-style=\"td\">DBJ23120115111035834</td> \\n      <td cms-style=\"td\">13</td> \\n      <td cms-style=\"td\">/</td> \\n      <td cms-style=\"td\">/</td> \\n      <td cms-style=\"td\">天津市宝坻区御林源鲜果店</td> \\n      <td cms-style=\"td\">天津</td> \\n      <td cms-style=\"td\">国产香蕉</td> \\n      <td cms-style=\"td\">/</td> \\n      <td cms-style=\"td\">2023.7.9 （购进日期）</td> \\n      <td cms-style=\"td\">食用农产品</td> \\n      <td cms-style=\"td\">2023年第9期</td> \\n      <td cms-style=\"td\">2023.8.18</td> \\n      <td cms-style=\"td\">区抽/\\xa0\\xa0\\xa0 监督抽检</td> \\n      <td cms-style=\"td\">/</td> \\n     </tr> \\n     <tr cms-style=\"tr\"> \\n      <td cms-style=\"td\">DBJ23120115111035896</td> \\n      <td cms-style=\"td\">14</td> \\n      <td cms-style=\"td\">/</td> \\n      <td cms-style=\"td\">/</td> \\n      <td cms-style=\"td\">天津市宝坻区广明便利店</td> \\n      <td cms-style=\"td\">天津</td> \\n      <td cms-style=\"td\">姜</td> \\n      <td cms-style=\"td\">/</td> \\n      <td cms-style=\"td\">2023.7.8 （购进日期）</td> \\n      <td cms-style=\"td\">食用农产品</td> \\n      <td cms-style=\"td\">2023年第9期</td> \\n      <td cms-style=\"td\">2023.8.18</td> \\n      <td cms-style=\"td\">区抽/\\xa0\\xa0\\xa0 监督抽检</td> \\n      <td cms-style=\"td\">/</td> \\n     </tr> \\n     <tr cms-style=\"tr\"> \\n      <td cms-style=\"td\">DBJ23120115111035962</td> \\n      <td cms-style=\"td\">15</td> \\n      <td cms-style=\"td\">/</td> \\n      <td cms-style=\"td\">/</td> \\n      <td cms-style=\"td\">天津市宝坻区天爱副食商店</td> \\n      <td cms-style=\"td\">天津</td> \\n      <td cms-style=\"td\">绿豆芽</td> \\n      <td cms-style=\"td\">/</td> \\n      <td cms-style=\"td\">2023.7.11 （购进日期）</td> \\n      <td cms-style=\"td\">食用农产品</td> \\n      <td cms-style=\"td\">2023年第9期</td> \\n      <td cms-style=\"td\">2023.8.18</td> \\n      <td cms-style=\"td\">区抽/\\xa0\\xa0\\xa0 监督抽检</td> \\n      <td cms-style=\"td\">/</td> \\n     </tr> \\n     <tr cms-style=\"tr\"> \\n      <td cms-style=\"td\">DBJ23120115111035963</td> \\n      <td cms-style=\"td\">16</td> \\n      <td cms-style=\"td\">/</td> \\n      <td cms-style=\"td\">/</td> \\n      <td cms-style=\"td\">天津市宝坻区天爱副食商店</td> \\n      <td cms-style=\"td\">天津</td> \\n      <td cms-style=\"td\">芹菜</td> \\n      <td cms-style=\"td\">/</td> \\n      <td cms-style=\"td\">2023.7.11 （购进日期）</td> \\n      <td cms-style=\"td\">食用农产品</td> \\n      <td cms-style=\"td\">2023年第9期</td> \\n      <td cms-style=\"td\">2023.8.18</td> \\n      <td cms-style=\"td\">区抽/\\xa0\\xa0\\xa0 监督抽检</td> \\n      <td cms-style=\"td\">/</td> \\n     </tr> \\n     <tr cms-style=\"tr\"> \\n      <td cms-style=\"td\">DBJ23120115111035897</td> \\n      <td cms-style=\"td\">17</td> \\n      <td cms-style=\"td\">/</td> \\n      <td cms-style=\"td\">/</td> \\n      <td cms-style=\"td\">天津市宝坻区广明便利店</td> \\n      <td cms-style=\"td\">天津</td> \\n      <td cms-style=\"td\">鸡蛋</td> \\n      <td cms-style=\"td\">/</td> \\n      <td cms-style=\"td\">2023.7.10 （购进日期）</td> \\n      <td cms-style=\"td\">食用农产品</td> \\n      <td cms-style=\"td\">2023年第9期</td> \\n      <td cms-style=\"td\">2023.8.18</td> \\n      <td cms-style=\"td\">区抽/\\xa0\\xa0\\xa0 监督抽检</td> \\n      <td cms-style=\"td\">/</td> \\n     </tr> \\n     <tr cms-style=\"tr\"> \\n      <td cms-style=\"td\">DBJ23120115111036054</td> \\n      <td cms-style=\"td\">18</td> \\n      <td cms-style=\"td\">/</td> \\n      <td cms-style=\"td\">/</td> \\n      <td cms-style=\"td\">天津市宝坻区恋佳便利店</td> \\n      <td cms-style=\"td\">天津</td> \\n      <td cms-style=\"td\">姜</td> \\n      <td cms-style=\"td\">/</td> \\n      <td cms-style=\"td\">2023.7.7 （购进日期）</td> \\n      <td cms-style=\"td\">食用农产品</td> \\n      <td cms-style=\"td\">2023年第9期</td> \\n      <td cms-style=\"td\">2023.8.18</td> \\n      <td cms-style=\"td\">区抽/\\xa0\\xa0\\xa0 监督抽检</td> \\n      <td cms-style=\"td\">/</td> \\n     </tr> \\n     <tr cms-style=\"tr\"> \\n      <td cms-style=\"td\">DBJ23120115111036049</td> \\n      <td cms-style=\"td\">19</td> \\n      <td cms-style=\"td\">/</td> \\n      <td cms-style=\"td\">/</td> \\n      <td cms-style=\"td\">天津市宝坻区恋佳便利店</td> \\n      <td cms-style=\"td\">天津</td> \\n      <td cms-style=\"td\">鸡蛋</td> \\n      <td cms-style=\"td\">/</td> \\n      <td cms-style=\"td\">2023.7.11 （购进日期）</td> \\n      <td cms-style=\"td\">食用农产品</td> \\n      <td cms-style=\"td\">2023年第9期</td> \\n      <td cms-style=\"td\">2023.8.18</td> \\n      <td cms-style=\"td\">区抽/\\xa0\\xa0\\xa0 监督抽检</td> \\n      <td cms-style=\"td\">/</td> \\n     </tr> \\n     <tr cms-style=\"tr\"> \\n      <td cms-style=\"td\">DBJ23120115111036163</td> \\n      <td cms-style=\"td\">20</td> \\n      <td cms-style=\"td\">/</td> \\n      <td cms-style=\"td\">/</td> \\n      <td cms-style=\"td\">天津市宝坻区皓欣超市</td> \\n      <td cms-style=\"td\">天津</td> \\n      <td cms-style=\"td\">豆芽</td> \\n      <td cms-style=\"td\">/</td> \\n      <td cms-style=\"td\">2023.7.12 （购进日期）</td> \\n      <td cms-style=\"td\">食用农产品</td> \\n      <td cms-style=\"td\">2023年第9期</td> \\n      <td cms-style=\"td\">2023.8.18</td> \\n      <td cms-style=\"td\">区抽/\\xa0\\xa0\\xa0 监督抽检</td> \\n      <td cms-style=\"td\">/</td> \\n     </tr> \\n     <tr cms-style=\"tr\"> \\n      <td cms-style=\"td\">DBJ23120115111036164</td> \\n      <td cms-style=\"td\">21</td> \\n      <td cms-style=\"td\">/</td> \\n      <td cms-style=\"td\">/</td> \\n      <td cms-style=\"td\">天津市宝坻区皓欣超市</td> \\n      <td cms-style=\"td\">天津</td> \\n      <td cms-style=\"td\">沃柑</td> \\n      <td cms-style=\"td\">/</td> \\n      <td cms-style=\"td\">2023.7.1 （购进日期）</td> \\n      <td cms-style=\"td\">食用农产品</td> \\n      <td cms-style=\"td\">2023年第9期</td> \\n      <td cms-style=\"td\">2023.8.18</td> \\n      <td cms-style=\"td\">区抽/\\xa0\\xa0\\xa0 监督抽检</td> \\n      <td cms-style=\"td\">/</td> \\n     </tr> \\n     <tr cms-style=\"tr\"> \\n      <td cms-style=\"td\">DBJ23120115111036247</td> \\n      <td cms-style=\"td\">22</td> \\n      <td cms-style=\"td\">/</td> \\n      <td cms-style=\"td\">/</td> \\n      <td cms-style=\"td\">天津市宝坻区涵雅便利店</td> \\n      <td cms-style=\"td\">天津</td> \\n      <td cms-style=\"td\">鸡蛋</td> \\n      <td cms-style=\"td\">/</td> \\n      <td cms-style=\"td\">2023.7.12 （购进日期）</td> \\n      <td cms-style=\"td\">食用农产品</td> \\n      <td cms-style=\"td\">2023年第9期</td> \\n      <td cms-style=\"td\">2023.8.18</td> \\n      <td cms-style=\"td\">区抽/\\xa0\\xa0\\xa0 监督抽检</td> \\n      <td cms-style=\"td\">/</td> \\n     </tr> \\n     <tr cms-style=\"tr\"> \\n      <td cms-style=\"td\">DBJ23120115111036363</td> \\n      <td cms-style=\"td\">23</td> \\n      <td cms-style=\"td\">/</td> \\n      <td cms-style=\"td\">/</td> \\n      <td cms-style=\"td\">天津市宝坻区万鲜岛便利店</td> \\n      <td cms-style=\"td\">天津</td> \\n      <td cms-style=\"td\">芹菜</td> \\n      <td cms-style=\"td\">/</td> \\n      <td cms-style=\"td\">2023.7.17 （购进日期）</td> \\n      <td cms-style=\"td\">食用农产品</td> \\n      <td cms-style=\"td\">2023年第9期</td> \\n      <td cms-style=\"td\">2023.8.18</td> \\n      <td cms-style=\"td\">区抽/\\xa0\\xa0\\xa0 监督抽检</td> \\n      <td cms-style=\"td\">/</td> \\n     </tr> \\n     <tr cms-style=\"tr\"> \\n      <td cms-style=\"td\">DBJ23120115111036366</td> \\n      <td cms-style=\"td\">24</td> \\n      <td cms-style=\"td\">/</td> \\n      <td cms-style=\"td\">/</td> \\n      <td cms-style=\"td\">天津市宝坻区万鲜岛便利店</td> \\n      <td cms-style=\"td\">天津</td> \\n      <td cms-style=\"td\">姜</td> \\n      <td cms-style=\"td\">/</td> \\n      <td cms-style=\"td\">2023.7.17 （购进日期）</td> \\n      <td cms-style=\"td\">食用农产品</td> \\n      <td cms-style=\"td\">2023年第9期</td> \\n      <td cms-style=\"td\">2023.8.18</td> \\n      <td cms-style=\"td\">区抽/\\xa0\\xa0\\xa0 监督抽检</td> \\n      <td cms-style=\"td\">/</td> \\n     </tr> \\n     <tr cms-style=\"tr\"> \\n      <td cms-style=\"td\">DBJ23120115111036398</td> \\n      <td cms-style=\"td\">25</td> \\n      <td cms-style=\"td\">/</td> \\n      <td cms-style=\"td\">/</td> \\n      <td cms-style=\"td\">天津市宝坻区桃李苑百货商店</td> \\n      <td cms-style=\"td\">天津</td> \\n      <td cms-style=\"td\">姜</td> \\n      <td cms-style=\"td\">/</td> \\n      <td cms-style=\"td\">2023.7.17 （购进日期）</td> \\n      <td cms-style=\"td\">食用农产品</td> \\n      <td cms-style=\"td\">2023年第9期</td> \\n      <td cms-style=\"td\">2023.8.18</td> \\n      <td cms-style=\"td\">区抽/\\xa0\\xa0\\xa0 监督抽检</td> \\n      <td cms-style=\"td\">/</td> \\n     </tr> \\n     <tr cms-style=\"tr\"> \\n      <td cms-style=\"td\">DBJ23120115111036397</td> \\n      <td cms-style=\"td\">26</td> \\n      <td cms-style=\"td\">/</td> \\n      <td cms-style=\"td\">/</td> \\n      <td cms-style=\"td\">天津市宝坻区桃李苑百货商店</td> \\n      <td cms-style=\"td\">天津</td> \\n      <td cms-style=\"td\">鸡蛋</td> \\n      <td cms-style=\"td\">/</td> \\n      <td cms-style=\"td\">2023.7.15 （购进日期）</td> \\n      <td cms-style=\"td\">食用农产品</td> \\n      <td cms-style=\"td\">2023年第9期</td> \\n      <td cms-style=\"td\">2023.8.18</td> \\n      <td cms-style=\"td\">区抽/\\xa0\\xa0\\xa0 监督抽检</td> \\n      <td cms-style=\"td\">/</td> \\n     </tr> \\n     <tr cms-style=\"tr\"> \\n      <td cms-style=\"td\">DBJ23120115111036454</td> \\n      <td cms-style=\"td\">27</td> \\n      <td cms-style=\"td\">/</td> \\n      <td cms-style=\"td\">/</td> \\n      <td cms-style=\"td\">天津市宝坻区百果荟水果经营店</td> \\n      <td cms-style=\"td\">天津</td> \\n      <td cms-style=\"td\">田弯弯茂谷柑</td> \\n      <td cms-style=\"td\">/</td> \\n      <td cms-style=\"td\">2023.6.21 （购进日期）</td> \\n      <td cms-style=\"td\">食用农产品</td> \\n      <td cms-style=\"td\">2023年第9期</td> \\n      <td cms-style=\"td\">2023.8.18</td> \\n      <td cms-style=\"td\">区抽/\\xa0\\xa0\\xa0 监督抽检</td> \\n      <td cms-style=\"td\">/</td> \\n     </tr> \\n     <tr cms-style=\"tr\"> \\n      <td cms-style=\"td\">DBJ23120115111036490</td> \\n      <td cms-style=\"td\">28</td> \\n      <td cms-style=\"td\">/</td> \\n      <td cms-style=\"td\">/</td> \\n      <td cms-style=\"td\">天津市宝坻区新园便利店</td> \\n      <td cms-style=\"td\">天津</td> \\n      <td cms-style=\"td\">豇豆</td> \\n      <td cms-style=\"td\">/</td> \\n      <td cms-style=\"td\">2023.7.18 （购进日期）</td> \\n      <td cms-style=\"td\">食用农产品</td> \\n      <td cms-style=\"td\">2023年第9期</td> \\n      <td cms-style=\"td\">2023.8.18</td> \\n      <td cms-style=\"td\">区抽/\\xa0\\xa0\\xa0 监督抽检</td> \\n      <td cms-style=\"td\">/</td> \\n     </tr> \\n     <tr cms-style=\"tr\"> \\n      <td cms-style=\"td\">DBJ23120115111036491</td> \\n      <td cms-style=\"td\">29</td> \\n      <td cms-style=\"td\">/</td> \\n      <td cms-style=\"td\">/</td> \\n      <td cms-style=\"td\">天津市宝坻区新园便利店</td> \\n      <td cms-style=\"td\">天津</td> \\n      <td cms-style=\"td\">鸡蛋</td> \\n      <td cms-style=\"td\">/</td> \\n      <td cms-style=\"td\">2023.7.18 （购进日期）</td> \\n      <td cms-style=\"td\">食用农产品</td> \\n      <td cms-style=\"td\">2023年第9期</td> \\n      <td cms-style=\"td\">2023.8.18</td> \\n      <td cms-style=\"td\">区抽/\\xa0\\xa0\\xa0 监督抽检</td> \\n      <td cms-style=\"td\">/</td> \\n     </tr> \\n    </tbody> \\n   </table> \\n  </div> \\n </div> \\n <div cms-style=\"font-L scroll\"> \\n  <div cms-style=\"font-L minWidth\"> \\n   <table border=\"1\" cms-style=\"table\"> \\n    <tbody cms-style=\"tbody\"> \\n     <tr cms-style=\"tr\"> \\n      <td cms-style=\"td\">抽样编号</td> \\n      <td cms-style=\"td\">序号</td> \\n      <td cms-style=\"td\">标称生产企业名称</td> \\n      <td cms-style=\"td\">标称生产企业地址</td> \\n      <td cms-style=\"td\">被抽样单位名称</td> \\n      <td cms-style=\"td\">被抽样单位所在省份</td> \\n      <td cms-style=\"td\">食品名称</td> \\n      <td cms-style=\"td\">规格型号</td> \\n      <td cms-style=\"td\">生产日期/批号</td> \\n      <td cms-style=\"td\">分类</td> \\n      <td cms-style=\"td\">公告号</td> \\n      <td cms-style=\"td\">公告日期</td> \\n      <td cms-style=\"td\">任务来源/项目名称</td> \\n      <td cms-style=\"td\">备注</td> \\n     </tr> \\n     <tr cms-style=\"tr\"> \\n      <td cms-style=\"td\">DBJ23120115110733887</td> \\n      <td cms-style=\"td\">1</td> \\n      <td cms-style=\"td\">广州立旺食品有限公司</td> \\n      <td cms-style=\"td\">广东省广州经济技术开发区永和经济区新元路3号</td> \\n      <td cms-style=\"td\">天津市宝坻区鑫佰悦百货店</td> \\n      <td cms-style=\"td\">天津</td> \\n      <td cms-style=\"td\">旺仔牛奶糖（原味）奶糖糖果</td> \\n      <td cms-style=\"td\">318g/袋</td> \\n      <td cms-style=\"td\">2023/3/30</td> \\n      <td cms-style=\"td\">糖果制品</td> \\n      <td cms-style=\"td\">2023年第9期</td> \\n      <td cms-style=\"td\">2023.8.18</td> \\n      <td cms-style=\"td\">区抽/\\xa0\\xa0\\xa0 监督抽检</td> \\n      <td cms-style=\"td\">/</td> \\n     </tr> \\n     <tr cms-style=\"tr\"> \\n      <td cms-style=\"td\">DBJ23120115110733888</td> \\n      <td cms-style=\"td\">2</td> \\n      <td cms-style=\"td\">可口可乐装瓶商生产（济南）有限公司</td> \\n      <td cms-style=\"td\">济南市章丘区经十东路7799号</td> \\n      <td cms-style=\"td\">天津市宝坻区鑫佰悦百货店</td> \\n      <td cms-style=\"td\">天津</td> \\n      <td cms-style=\"td\">槐花风味葡萄汁饮料</td> \\n      <td cms-style=\"td\">420ml/瓶</td> \\n      <td cms-style=\"td\">2023-04-27</td> \\n      <td cms-style=\"td\">饮料</td> \\n      <td cms-style=\"td\">2023年第9期</td> \\n      <td cms-style=\"td\">2023.8.18</td> \\n      <td cms-style=\"td\">区抽/\\xa0\\xa0\\xa0 监督抽检</td> \\n      <td cms-style=\"td\">/</td> \\n     </tr> \\n     <tr cms-style=\"tr\"> \\n      <td cms-style=\"td\">DBJ23120115110733889</td> \\n      <td cms-style=\"td\">3</td> \\n      <td cms-style=\"td\">商丘市同福食品有限公司</td> \\n      <td cms-style=\"td\">商丘市睢阳区珠江西路与振兴路交叉口</td> \\n      <td cms-style=\"td\">天津宝坻区尚优品便利超市店</td> \\n      <td cms-style=\"td\">天津</td> \\n      <td cms-style=\"td\">牛肉汤安格斯肥牛捞面</td> \\n      <td cms-style=\"td\">净含量：113克/包 （面饼+配料）面饼：90克/包</td> \\n      <td cms-style=\"td\">2023-05-09</td> \\n      <td cms-style=\"td\">方便食品</td> \\n      <td cms-style=\"td\">2023年第9期</td> \\n      <td cms-style=\"td\">2023.8.18</td> \\n      <td cms-style=\"td\">区抽/\\xa0\\xa0\\xa0 监督抽检</td> \\n      <td cms-style=\"td\">/</td> \\n     </tr> \\n     <tr cms-style=\"tr\"> \\n      <td cms-style=\"td\">DBJ23120115110733890</td> \\n      <td cms-style=\"td\">4</td> \\n      <td cms-style=\"td\">商丘市同福食品有限公司</td> \\n      <td cms-style=\"td\">商丘市睢阳区珠江西路与振兴路交叉口</td> \\n      <td cms-style=\"td\">天津宝坻区尚优品便利超市店</td> \\n      <td cms-style=\"td\">天津</td> \\n      <td cms-style=\"td\">蟹黄拌面</td> \\n      <td cms-style=\"td\">净含量：113克/包（面饼+配料）面饼：90克 /包</td> \\n      <td cms-style=\"td\">2023-05-09</td> \\n      <td cms-style=\"td\">方便食品</td> \\n      <td cms-style=\"td\">2023年第9期</td> \\n      <td cms-style=\"td\">2023.8.18</td> \\n      <td cms-style=\"td\">区抽/\\xa0\\xa0\\xa0 监督抽检</td> \\n      <td cms-style=\"td\">/</td> \\n     </tr> \\n     <tr cms-style=\"tr\"> \\n      <td cms-style=\"td\">DBJ23120115110733926</td> \\n      <td cms-style=\"td\">5</td> \\n      <td cms-style=\"td\">昆仑山矿泉水有限公司</td> \\n      <td cms-style=\"td\">青海省格尔木市西大滩雪峰路8号</td> \\n      <td cms-style=\"td\">天津市宝坻区新世纪副食批发部</td> \\n      <td cms-style=\"td\">天津</td> \\n      <td cms-style=\"td\">昆仑山雪山矿泉水</td> \\n      <td cms-style=\"td\">550mL/瓶</td> \\n      <td cms-style=\"td\">2022-05-17</td> \\n      <td cms-style=\"td\">饮料</td> \\n      <td cms-style=\"td\">2023年第9期</td> \\n      <td cms-style=\"td\">2023.8.18</td> \\n      <td cms-style=\"td\">区抽/\\xa0\\xa0\\xa0 监督抽检</td> \\n      <td cms-style=\"td\">/</td> \\n     </tr> \\n     <tr cms-style=\"tr\"> \\n      <td cms-style=\"td\">DBJ23120115110733927</td> \\n      <td cms-style=\"td\">6</td> \\n      <td cms-style=\"td\">山东泽雨饮品有限公司</td> \\n      <td cms-style=\"td\">山东省德州市平原县三唐乡101省道中段路西</td> \\n      <td cms-style=\"td\">天津市宝坻区新世纪副食批发部</td> \\n      <td cms-style=\"td\">天津</td> \\n      <td cms-style=\"td\">甜橙味碳酸饮料</td> \\n      <td cms-style=\"td\">500mL/瓶</td> \\n      <td cms-style=\"td\">2023-04-16</td> \\n      <td cms-style=\"td\">饮料</td> \\n      <td cms-style=\"td\">2023年第9期</td> \\n      <td cms-style=\"td\">2023.8.18</td> \\n      <td cms-style=\"td\">区抽/\\xa0\\xa0\\xa0 监督抽检</td> \\n      <td cms-style=\"td\">/</td> \\n     </tr> \\n     <tr cms-style=\"tr\"> \\n      <td cms-style=\"td\">DBJ23120115110733928</td> \\n      <td cms-style=\"td\">7</td> \\n      <td cms-style=\"td\">颐海（郑州）食品有限公司</td> \\n      <td cms-style=\"td\">郑州市高新区紫竹路东玉兰西街南</td> \\n      <td cms-style=\"td\">天津市宝坻区吴瑶百货商店</td> \\n      <td cms-style=\"td\">天津</td> \\n      <td cms-style=\"td\">三鲜火锅底料</td> \\n      <td cms-style=\"td\">200克/袋</td> \\n      <td cms-style=\"td\">2023-02-05</td> \\n      <td cms-style=\"td\">调味品</td> \\n      <td cms-style=\"td\">2023年第9期</td> \\n      <td cms-style=\"td\">2023.8.18</td> \\n      <td cms-style=\"td\">区抽/\\xa0\\xa0\\xa0 监督抽检</td> \\n      <td cms-style=\"td\">/</td> \\n     </tr> \\n     <tr cms-style=\"tr\"> \\n      <td cms-style=\"td\">DBJ23120115110733932</td> \\n      <td cms-style=\"td\">8</td> \\n      <td cms-style=\"td\">北京万方酿造厂</td> \\n      <td cms-style=\"td\">北京市顺义区马坡镇衙门村</td> \\n      <td cms-style=\"td\">天津市宝坻区建家业百货商店</td> \\n      <td cms-style=\"td\">天津</td> \\n      <td cms-style=\"td\">中粮厨师料酒（调味料酒）</td> \\n      <td cms-style=\"td\">500毫升/瓶 酒精度：≥10%vol</td> \\n      <td cms-style=\"td\">2022-03-01</td> \\n      <td cms-style=\"td\">调味品</td> \\n      <td cms-style=\"td\">2023年第9期</td> \\n      <td cms-style=\"td\">2023.8.18</td> \\n      <td cms-style=\"td\">区抽/\\xa0\\xa0\\xa0 监督抽检</td> \\n      <td cms-style=\"td\">/</td> \\n     </tr> \\n     <tr cms-style=\"tr\"> \\n      <td cms-style=\"td\">DBJ23120115110733933</td> \\n      <td cms-style=\"td\">9</td> \\n      <td cms-style=\"td\">周口金丝猴食品有限公司</td> \\n      <td cms-style=\"td\">沈丘县沙南产业集聚区</td> \\n      <td cms-style=\"td\">天津市宝坻区建家业百货商店</td> \\n      <td cms-style=\"td\">天津</td> \\n      <td cms-style=\"td\">代可可脂黑巧克力</td> \\n      <td cms-style=\"td\">50克/盒</td> \\n      <td cms-style=\"td\">2022-12-24</td> \\n      <td cms-style=\"td\">糖果制品</td> \\n      <td cms-style=\"td\">2023年第9期</td> \\n      <td cms-style=\"td\">2023.8.18</td> \\n      <td cms-style=\"td\">区抽/\\xa0\\xa0\\xa0 监督抽检</td> \\n      <td cms-style=\"td\">/</td> \\n     </tr> \\n     <tr cms-style=\"tr\"> \\n      <td cms-style=\"td\">DBJ23120115110733938</td> \\n      <td cms-style=\"td\">10</td> \\n      <td cms-style=\"td\">保定六合食品有限公司</td> \\n      <td cms-style=\"td\">保定市徐水区长城北大街3715号</td> \\n      <td cms-style=\"td\">天津市宝坻区吴瑶百货商店</td> \\n      <td cms-style=\"td\">天津</td> \\n      <td cms-style=\"td\">金牌老板红烧牛肉面</td> \\n      <td cms-style=\"td\">总重量：110克/袋 净含量：面饼+配料107克/袋 面饼：90克/袋</td> \\n      <td cms-style=\"td\">2023-04-10</td> \\n      <td cms-style=\"td\">方便食品</td> \\n      <td cms-style=\"td\">2023年第9期</td> \\n      <td cms-style=\"td\">2023.8.18</td> \\n      <td cms-style=\"td\">区抽/\\xa0\\xa0\\xa0 监督抽检</td> \\n      <td cms-style=\"td\">/</td> \\n     </tr> \\n     <tr cms-style=\"tr\"> \\n      <td cms-style=\"td\">DBJ23120115110733939</td> \\n      <td cms-style=\"td\">11</td> \\n      <td cms-style=\"td\">天津市蓟牧润兴肉类工贸有限公司</td> \\n      <td cms-style=\"td\">天津市蓟州区别山镇南京哈公路南侧</td> \\n      <td cms-style=\"td\">天津市宝坻区客尽欢百货商店</td> \\n      <td cms-style=\"td\">天津</td> \\n      <td cms-style=\"td\">猪五花肉</td> \\n      <td cms-style=\"td\">/</td> \\n      <td cms-style=\"td\">2023-06-27（检疫日期）</td> \\n      <td cms-style=\"td\">食用农产品</td> \\n      <td cms-style=\"td\">2023年第9期</td> \\n      <td cms-style=\"td\">2023.8.18</td> \\n      <td cms-style=\"td\">区抽/\\xa0\\xa0\\xa0 监督抽检</td> \\n      <td cms-style=\"td\">/</td> \\n     </tr> \\n     <tr cms-style=\"tr\"> \\n      <td cms-style=\"td\">DBJ23120115110733940</td> \\n      <td cms-style=\"td\">12</td> \\n      <td cms-style=\"td\">天津市蓟牧润兴肉类工贸有限公司</td> \\n      <td cms-style=\"td\">天津市蓟州区别山镇南京哈公路南侧</td> \\n      <td cms-style=\"td\">天津市宝坻区客尽欢百货商店</td> \\n      <td cms-style=\"td\">天津</td> \\n      <td cms-style=\"td\">猪肋条肉</td> \\n      <td cms-style=\"td\">/</td> \\n      <td cms-style=\"td\">2023-06-27（检疫日期）</td> \\n      <td cms-style=\"td\">食用农产品</td> \\n      <td cms-style=\"td\">2023年第9期</td> \\n      <td cms-style=\"td\">2023.8.18</td> \\n      <td cms-style=\"td\">区抽/\\xa0\\xa0\\xa0 监督抽检</td> \\n      <td cms-style=\"td\">/</td> \\n     </tr> \\n     <tr cms-style=\"tr\"> \\n      <td cms-style=\"td\">DBJ23120115110733951</td> \\n      <td cms-style=\"td\">13</td> \\n      <td cms-style=\"td\">大厂回族自治明新肉类有限公司</td> \\n      <td cms-style=\"td\">河北省廊坊市大厂回族自治县夏安路霍各庄段</td> \\n      <td cms-style=\"td\">天津市宝坻区福兴达鲜肉店</td> \\n      <td cms-style=\"td\">天津</td> \\n      <td cms-style=\"td\">牛肉</td> \\n      <td cms-style=\"td\">/</td> \\n      <td cms-style=\"td\">2023-06-15（检疫日期）</td> \\n      <td cms-style=\"td\">食用农产品</td> \\n      <td cms-style=\"td\">2023年第9期</td> \\n      <td cms-style=\"td\">2023.8.18</td> \\n      <td cms-style=\"td\">区抽/\\xa0\\xa0\\xa0 监督抽检</td> \\n      <td cms-style=\"td\">/</td> \\n     </tr> \\n     <tr cms-style=\"tr\"> \\n      <td cms-style=\"td\">DBJ23120115110733952</td> \\n      <td cms-style=\"td\">14</td> \\n      <td cms-style=\"td\">廊坊宝鑫清真肉类食品有限公司</td> \\n      <td cms-style=\"td\">河北省廊坊市经济技术开发区南营村</td> \\n      <td cms-style=\"td\">天津市宝坻区福兴达鲜肉店</td> \\n      <td cms-style=\"td\">天津</td> \\n      <td cms-style=\"td\">羊肉</td> \\n      <td cms-style=\"td\">/</td> \\n      <td cms-style=\"td\">2023-06-26（检疫日期）</td> \\n      <td cms-style=\"td\">食用农产品</td> \\n      <td cms-style=\"td\">2023年第9期</td> \\n      <td cms-style=\"td\">2023.8.18</td> \\n      <td cms-style=\"td\">区抽/\\xa0\\xa0\\xa0 监督抽检</td> \\n      <td cms-style=\"td\">/</td> \\n     </tr> \\n    </tbody> \\n   </table> \\n  </div> \\n </div> \\n <p></p> \\n <p cms-style=\"font-L align-Center\"></p> \\n <p cms-style=\"font-L\"></p> \\n <p></p> \\n <p></p> \\n <!-- news_keyword_pub,stock,sz000061 --> \\n <!-- 正文下iframe --> \\n <!-- 正文下iframe --> \\n <!-- 总声明--> \\n <!-- 总声明--> \\n <!-- 文末二维码 start --> \\n <!-- 文末二维码 start --> \\n <!-- 文末二维码 start --> \\n <!-- 文末二维码 start --> \\n <!-- 编辑姓名及工作代码 --> \\n <!-- 编辑姓名及工作代码--> \\n</div>',\n",
       " 'page_layout_type': 'article',\n",
       " 'domain': 'finance.sina.com.cn',\n",
       " 'dataset_name': 'sina',\n",
       " 'data_source_category': 'HTML',\n",
       " 'meta_info': {'filename': 's3://private-crawl-data/zh-web-sina/20241218_p1/2023/1732818200610.json.gz',\n",
       "  'statics': {'image': 1, 'paragraph': 3, 'paragraph.text': 3, 'table': 2}},\n",
       " 'content_list': [[{'type': 'image',\n",
       "    'raw_content': '<img src=\"http://n.sinaimg.cn/spider20230821/27/w1245h382/20230821/048a-75ac73e4bc20bc804c48b28954290fc1.png\" id=\"0\">',\n",
       "    'content': {'url': 'http://n.sinaimg.cn/spider20230821/27/w1245h382/20230821/048a-75ac73e4bc20bc804c48b28954290fc1.png',\n",
       "     'data': None,\n",
       "     'alt': None,\n",
       "     'title': None,\n",
       "     'caption': None}},\n",
       "   {'type': 'paragraph',\n",
       "    'raw_content': '<div><div class=\"article\" id=\"artibody\"><p cms-style=\"font-L\">中国质量新闻网讯 近日，天津市宝坻区市场监督管理局发布关于43批次食品抽样检验情况的通告（2023年第9期）。本期监督抽检涉及食用<span id=\"stock_sz000061\"><a href=\"https://finance.sina.com.cn/realstock/company/sz000061/nc.shtml\" class=\"keyword\" target=\"_blank\" data-sudaclick=\"content_marketkeywords_p\">农产品</a></span>，糖果制品，饮料，方便食品和调味品共5大类，共计43批次样品，全部合格。</p></div></div>',\n",
       "    'content': [{'c': '中国质量新闻网讯 近日，天津市宝坻区市场监督管理局发布关于43批次食品抽样检验情况的通告（2023年第9期）。本期监督抽检涉及食用 农产品 ，糖果制品，饮料，方便食品和调味品共5大类，共计43批次样品，全部合格。',\n",
       "      't': 'text'}]},\n",
       "   {'type': 'paragraph',\n",
       "    'raw_content': '<div><div class=\"article\" id=\"artibody\"><p cms-style=\"font-L align-Center\">产品合格信息</p></div></div>',\n",
       "    'content': [{'c': '产品合格信息', 't': 'text'}]},\n",
       "   {'type': 'paragraph',\n",
       "    'raw_content': '<div><div class=\"article\" id=\"artibody\"><p cms-style=\"font-L align-Center\">（声明：以下信息仅指本次抽检标称的生产企业相关产品的生产日期/批号和所检项目）</p></div></div>',\n",
       "    'content': [{'c': '（声明：以下信息仅指本次抽检标称的生产企业相关产品的生产日期/批号和所检项目）',\n",
       "      't': 'text'}]},\n",
       "   {'type': 'table',\n",
       "    'raw_content': '<table border=\"1\" cms-style=\"table\"><tr cms-style=\"tr\"><td cms-style=\"td\">抽样编号</td><td cms-style=\"td\">序号</td><td cms-style=\"td\">标称生产企业名称</td><td cms-style=\"td\">标称生产企业地址</td><td cms-style=\"td\">被抽样单位名称</td><td cms-style=\"td\">被抽样单位所在省份</td><td cms-style=\"td\">食品名称</td><td cms-style=\"td\">规格型号</td><td cms-style=\"td\">生产日期/批号</td><td cms-style=\"td\">分类</td><td cms-style=\"td\">公告号</td><td cms-style=\"td\">公告日期</td><td cms-style=\"td\">任务来源/项目名称</td><td cms-style=\"td\">备注</td></tr><tr cms-style=\"tr\"><td cms-style=\"td\">DBJ23120115111035213</td><td cms-style=\"td\">1</td><td cms-style=\"td\">/</td><td cms-style=\"td\">/</td><td cms-style=\"td\">天津市宝坻区宜品生活超市</td><td cms-style=\"td\">天津</td><td cms-style=\"td\">尖椒</td><td cms-style=\"td\">/</td><td cms-style=\"td\">2023.6.26 （购进日期）</td><td cms-style=\"td\">食用农产品</td><td cms-style=\"td\">2023年第9期</td><td cms-style=\"td\">2023.8.18</td><td cms-style=\"td\">区抽/\\xa0\\xa0\\xa0 监督抽检</td><td cms-style=\"td\">/</td></tr><tr cms-style=\"tr\"><td cms-style=\"td\">DBJ23120115111035214</td><td cms-style=\"td\">2</td><td cms-style=\"td\">/</td><td cms-style=\"td\">/</td><td cms-style=\"td\">天津市宝坻区宜品生活超市</td><td cms-style=\"td\">天津</td><td cms-style=\"td\">姜</td><td cms-style=\"td\">/</td><td cms-style=\"td\">2023.6.23 （购进日期）</td><td cms-style=\"td\">食用农产品</td><td cms-style=\"td\">2023年第9期</td><td cms-style=\"td\">2023.8.18</td><td cms-style=\"td\">区抽/\\xa0\\xa0\\xa0 监督抽检</td><td cms-style=\"td\">/</td></tr><tr cms-style=\"tr\"><td cms-style=\"td\">DBJ23120115111035225</td><td cms-style=\"td\">3</td><td cms-style=\"td\">/</td><td cms-style=\"td\">/</td><td cms-style=\"td\">天津市宝坻区福满家水果经营店</td><td cms-style=\"td\">天津</td><td cms-style=\"td\">芹菜</td><td cms-style=\"td\">/</td><td cms-style=\"td\">2023.6.26 （购进日期）</td><td cms-style=\"td\">食用农产品</td><td cms-style=\"td\">2023年第9期</td><td cms-style=\"td\">2023.8.18</td><td cms-style=\"td\">区抽/\\xa0\\xa0\\xa0 监督抽检</td><td cms-style=\"td\">/</td></tr><tr cms-style=\"tr\"><td cms-style=\"td\">DBJ23120115111035226</td><td cms-style=\"td\">4</td><td cms-style=\"td\">/</td><td cms-style=\"td\">/</td><td cms-style=\"td\">天津市宝坻区福满家水果经营店</td><td cms-style=\"td\">天津</td><td cms-style=\"td\">生姜</td><td cms-style=\"td\">/</td><td cms-style=\"td\">2023.6.26 （购进日期）</td><td cms-style=\"td\">食用农产品</td><td cms-style=\"td\">2023年第9期</td><td cms-style=\"td\">2023.8.18</td><td cms-style=\"td\">区抽/\\xa0\\xa0\\xa0 监督抽检</td><td cms-style=\"td\">/</td></tr><tr cms-style=\"tr\"><td cms-style=\"td\">DBJ23120115111035261</td><td cms-style=\"td\">5</td><td cms-style=\"td\">/</td><td cms-style=\"td\">/</td><td cms-style=\"td\">天津市宝坻区绿木生百货店</td><td cms-style=\"td\">天津</td><td cms-style=\"td\">芹菜</td><td cms-style=\"td\">/</td><td cms-style=\"td\">2023.6.26 （购进日期）</td><td cms-style=\"td\">食用农产品</td><td cms-style=\"td\">2023年第9期</td><td cms-style=\"td\">2023.8.18</td><td cms-style=\"td\">区抽/\\xa0\\xa0\\xa0 监督抽检</td><td cms-style=\"td\">/</td></tr><tr cms-style=\"tr\"><td cms-style=\"td\">DBJ23120115111035262</td><td cms-style=\"td\">6</td><td cms-style=\"td\">/</td><td cms-style=\"td\">/</td><td cms-style=\"td\">天津市宝坻区绿木生百货店</td><td cms-style=\"td\">天津</td><td cms-style=\"td\">油菜（普通白菜）</td><td cms-style=\"td\">/</td><td cms-style=\"td\">2023.6.25 （购进日期）</td><td cms-style=\"td\">食用农产品</td><td cms-style=\"td\">2023年第9期</td><td cms-style=\"td\">2023.8.18</td><td cms-style=\"td\">区抽/\\xa0\\xa0\\xa0 监督抽检</td><td cms-style=\"td\">/</td></tr><tr cms-style=\"tr\"><td cms-style=\"td\">DBJ23120115111035275</td><td cms-style=\"td\">7</td><td cms-style=\"td\">/</td><td cms-style=\"td\">/</td><td cms-style=\"td\">天津市宝坻区孔鲜生百货超市</td><td cms-style=\"td\">天津</td><td cms-style=\"td\">韭菜</td><td cms-style=\"td\">/</td><td cms-style=\"td\">2023.6.26 （购进日期）</td><td cms-style=\"td\">食用农产品</td><td cms-style=\"td\">2023年第9期</td><td cms-style=\"td\">2023.8.18</td><td cms-style=\"td\">区抽/\\xa0\\xa0\\xa0 监督抽检</td><td cms-style=\"td\">/</td></tr><tr cms-style=\"tr\"><td cms-style=\"td\">DBJ23120115111035276</td><td cms-style=\"td\">8</td><td cms-style=\"td\">/</td><td cms-style=\"td\">/</td><td cms-style=\"td\">天津市宝坻区孔鲜生百货超市</td><td cms-style=\"td\">天津</td><td cms-style=\"td\">徐香猕猴桃</td><td cms-style=\"td\">/</td><td cms-style=\"td\">2023.6.24 （购进日期）</td><td cms-style=\"td\">食用农产品</td><td cms-style=\"td\">2023年第9期</td><td cms-style=\"td\">2023.8.18</td><td cms-style=\"td\">区抽/\\xa0\\xa0\\xa0 监督抽检</td><td cms-style=\"td\">/</td></tr><tr cms-style=\"tr\"><td cms-style=\"td\">DBJ23120115111035447</td><td cms-style=\"td\">9</td><td cms-style=\"td\">/</td><td cms-style=\"td\">/</td><td cms-style=\"td\">天津市宝坻区四方百货商店</td><td cms-style=\"td\">天津</td><td cms-style=\"td\">鸡蛋</td><td cms-style=\"td\">/</td><td cms-style=\"td\">2023.6.29 （购进日期）</td><td cms-style=\"td\">食用农产品</td><td cms-style=\"td\">2023年第9期</td><td cms-style=\"td\">2023.8.18</td><td cms-style=\"td\">区抽/\\xa0\\xa0\\xa0 监督抽检</td><td cms-style=\"td\">/</td></tr><tr cms-style=\"tr\"><td cms-style=\"td\">DBJ23120115111035771</td><td cms-style=\"td\">10</td><td cms-style=\"td\">/</td><td cms-style=\"td\">/</td><td cms-style=\"td\">天津市宝坻区青禾水果店</td><td cms-style=\"td\">天津</td><td cms-style=\"td\">鹅蛋柑</td><td cms-style=\"td\">/</td><td cms-style=\"td\">2023.5.28 （购进日期）</td><td cms-style=\"td\">食用农产品</td><td cms-style=\"td\">2023年第9期</td><td cms-style=\"td\">2023.8.18</td><td cms-style=\"td\">区抽/\\xa0\\xa0\\xa0 监督抽检</td><td cms-style=\"td\">/</td></tr><tr cms-style=\"tr\"><td cms-style=\"td\">DBJ23120115111035772</td><td cms-style=\"td\">11</td><td cms-style=\"td\">/</td><td cms-style=\"td\">/</td><td cms-style=\"td\">天津市宝坻区青禾水果店</td><td cms-style=\"td\">天津</td><td cms-style=\"td\">猕猴桃</td><td cms-style=\"td\">/</td><td cms-style=\"td\">2023.6.22 （购进日期）</td><td cms-style=\"td\">食用农产品</td><td cms-style=\"td\">2023年第9期</td><td cms-style=\"td\">2023.8.18</td><td cms-style=\"td\">区抽/\\xa0\\xa0\\xa0 监督抽检</td><td cms-style=\"td\">/</td></tr><tr cms-style=\"tr\"><td cms-style=\"td\">DBJ23120115111035833</td><td cms-style=\"td\">12</td><td cms-style=\"td\">/</td><td cms-style=\"td\">/</td><td cms-style=\"td\">天津市宝坻区御林源鲜果店</td><td cms-style=\"td\">天津</td><td cms-style=\"td\">金太阳沃柑</td><td cms-style=\"td\">/</td><td cms-style=\"td\">2023.6.17 （购进日期）</td><td cms-style=\"td\">食用农产品</td><td cms-style=\"td\">2023年第9期</td><td cms-style=\"td\">2023.8.18</td><td cms-style=\"td\">区抽/\\xa0\\xa0\\xa0 监督抽检</td><td cms-style=\"td\">/</td></tr><tr cms-style=\"tr\"><td cms-style=\"td\">DBJ23120115111035834</td><td cms-style=\"td\">13</td><td cms-style=\"td\">/</td><td cms-style=\"td\">/</td><td cms-style=\"td\">天津市宝坻区御林源鲜果店</td><td cms-style=\"td\">天津</td><td cms-style=\"td\">国产香蕉</td><td cms-style=\"td\">/</td><td cms-style=\"td\">2023.7.9 （购进日期）</td><td cms-style=\"td\">食用农产品</td><td cms-style=\"td\">2023年第9期</td><td cms-style=\"td\">2023.8.18</td><td cms-style=\"td\">区抽/\\xa0\\xa0\\xa0 监督抽检</td><td cms-style=\"td\">/</td></tr><tr cms-style=\"tr\"><td cms-style=\"td\">DBJ23120115111035896</td><td cms-style=\"td\">14</td><td cms-style=\"td\">/</td><td cms-style=\"td\">/</td><td cms-style=\"td\">天津市宝坻区广明便利店</td><td cms-style=\"td\">天津</td><td cms-style=\"td\">姜</td><td cms-style=\"td\">/</td><td cms-style=\"td\">2023.7.8 （购进日期）</td><td cms-style=\"td\">食用农产品</td><td cms-style=\"td\">2023年第9期</td><td cms-style=\"td\">2023.8.18</td><td cms-style=\"td\">区抽/\\xa0\\xa0\\xa0 监督抽检</td><td cms-style=\"td\">/</td></tr><tr cms-style=\"tr\"><td cms-style=\"td\">DBJ23120115111035962</td><td cms-style=\"td\">15</td><td cms-style=\"td\">/</td><td cms-style=\"td\">/</td><td cms-style=\"td\">天津市宝坻区天爱副食商店</td><td cms-style=\"td\">天津</td><td cms-style=\"td\">绿豆芽</td><td cms-style=\"td\">/</td><td cms-style=\"td\">2023.7.11 （购进日期）</td><td cms-style=\"td\">食用农产品</td><td cms-style=\"td\">2023年第9期</td><td cms-style=\"td\">2023.8.18</td><td cms-style=\"td\">区抽/\\xa0\\xa0\\xa0 监督抽检</td><td cms-style=\"td\">/</td></tr><tr cms-style=\"tr\"><td cms-style=\"td\">DBJ23120115111035963</td><td cms-style=\"td\">16</td><td cms-style=\"td\">/</td><td cms-style=\"td\">/</td><td cms-style=\"td\">天津市宝坻区天爱副食商店</td><td cms-style=\"td\">天津</td><td cms-style=\"td\">芹菜</td><td cms-style=\"td\">/</td><td cms-style=\"td\">2023.7.11 （购进日期）</td><td cms-style=\"td\">食用农产品</td><td cms-style=\"td\">2023年第9期</td><td cms-style=\"td\">2023.8.18</td><td cms-style=\"td\">区抽/\\xa0\\xa0\\xa0 监督抽检</td><td cms-style=\"td\">/</td></tr><tr cms-style=\"tr\"><td cms-style=\"td\">DBJ23120115111035897</td><td cms-style=\"td\">17</td><td cms-style=\"td\">/</td><td cms-style=\"td\">/</td><td cms-style=\"td\">天津市宝坻区广明便利店</td><td cms-style=\"td\">天津</td><td cms-style=\"td\">鸡蛋</td><td cms-style=\"td\">/</td><td cms-style=\"td\">2023.7.10 （购进日期）</td><td cms-style=\"td\">食用农产品</td><td cms-style=\"td\">2023年第9期</td><td cms-style=\"td\">2023.8.18</td><td cms-style=\"td\">区抽/\\xa0\\xa0\\xa0 监督抽检</td><td cms-style=\"td\">/</td></tr><tr cms-style=\"tr\"><td cms-style=\"td\">DBJ23120115111036054</td><td cms-style=\"td\">18</td><td cms-style=\"td\">/</td><td cms-style=\"td\">/</td><td cms-style=\"td\">天津市宝坻区恋佳便利店</td><td cms-style=\"td\">天津</td><td cms-style=\"td\">姜</td><td cms-style=\"td\">/</td><td cms-style=\"td\">2023.7.7 （购进日期）</td><td cms-style=\"td\">食用农产品</td><td cms-style=\"td\">2023年第9期</td><td cms-style=\"td\">2023.8.18</td><td cms-style=\"td\">区抽/\\xa0\\xa0\\xa0 监督抽检</td><td cms-style=\"td\">/</td></tr><tr cms-style=\"tr\"><td cms-style=\"td\">DBJ23120115111036049</td><td cms-style=\"td\">19</td><td cms-style=\"td\">/</td><td cms-style=\"td\">/</td><td cms-style=\"td\">天津市宝坻区恋佳便利店</td><td cms-style=\"td\">天津</td><td cms-style=\"td\">鸡蛋</td><td cms-style=\"td\">/</td><td cms-style=\"td\">2023.7.11 （购进日期）</td><td cms-style=\"td\">食用农产品</td><td cms-style=\"td\">2023年第9期</td><td cms-style=\"td\">2023.8.18</td><td cms-style=\"td\">区抽/\\xa0\\xa0\\xa0 监督抽检</td><td cms-style=\"td\">/</td></tr><tr cms-style=\"tr\"><td cms-style=\"td\">DBJ23120115111036163</td><td cms-style=\"td\">20</td><td cms-style=\"td\">/</td><td cms-style=\"td\">/</td><td cms-style=\"td\">天津市宝坻区皓欣超市</td><td cms-style=\"td\">天津</td><td cms-style=\"td\">豆芽</td><td cms-style=\"td\">/</td><td cms-style=\"td\">2023.7.12 （购进日期）</td><td cms-style=\"td\">食用农产品</td><td cms-style=\"td\">2023年第9期</td><td cms-style=\"td\">2023.8.18</td><td cms-style=\"td\">区抽/\\xa0\\xa0\\xa0 监督抽检</td><td cms-style=\"td\">/</td></tr><tr cms-style=\"tr\"><td cms-style=\"td\">DBJ23120115111036164</td><td cms-style=\"td\">21</td><td cms-style=\"td\">/</td><td cms-style=\"td\">/</td><td cms-style=\"td\">天津市宝坻区皓欣超市</td><td cms-style=\"td\">天津</td><td cms-style=\"td\">沃柑</td><td cms-style=\"td\">/</td><td cms-style=\"td\">2023.7.1 （购进日期）</td><td cms-style=\"td\">食用农产品</td><td cms-style=\"td\">2023年第9期</td><td cms-style=\"td\">2023.8.18</td><td cms-style=\"td\">区抽/\\xa0\\xa0\\xa0 监督抽检</td><td cms-style=\"td\">/</td></tr><tr cms-style=\"tr\"><td cms-style=\"td\">DBJ23120115111036247</td><td cms-style=\"td\">22</td><td cms-style=\"td\">/</td><td cms-style=\"td\">/</td><td cms-style=\"td\">天津市宝坻区涵雅便利店</td><td cms-style=\"td\">天津</td><td cms-style=\"td\">鸡蛋</td><td cms-style=\"td\">/</td><td cms-style=\"td\">2023.7.12 （购进日期）</td><td cms-style=\"td\">食用农产品</td><td cms-style=\"td\">2023年第9期</td><td cms-style=\"td\">2023.8.18</td><td cms-style=\"td\">区抽/\\xa0\\xa0\\xa0 监督抽检</td><td cms-style=\"td\">/</td></tr><tr cms-style=\"tr\"><td cms-style=\"td\">DBJ23120115111036363</td><td cms-style=\"td\">23</td><td cms-style=\"td\">/</td><td cms-style=\"td\">/</td><td cms-style=\"td\">天津市宝坻区万鲜岛便利店</td><td cms-style=\"td\">天津</td><td cms-style=\"td\">芹菜</td><td cms-style=\"td\">/</td><td cms-style=\"td\">2023.7.17 （购进日期）</td><td cms-style=\"td\">食用农产品</td><td cms-style=\"td\">2023年第9期</td><td cms-style=\"td\">2023.8.18</td><td cms-style=\"td\">区抽/\\xa0\\xa0\\xa0 监督抽检</td><td cms-style=\"td\">/</td></tr><tr cms-style=\"tr\"><td cms-style=\"td\">DBJ23120115111036366</td><td cms-style=\"td\">24</td><td cms-style=\"td\">/</td><td cms-style=\"td\">/</td><td cms-style=\"td\">天津市宝坻区万鲜岛便利店</td><td cms-style=\"td\">天津</td><td cms-style=\"td\">姜</td><td cms-style=\"td\">/</td><td cms-style=\"td\">2023.7.17 （购进日期）</td><td cms-style=\"td\">食用农产品</td><td cms-style=\"td\">2023年第9期</td><td cms-style=\"td\">2023.8.18</td><td cms-style=\"td\">区抽/\\xa0\\xa0\\xa0 监督抽检</td><td cms-style=\"td\">/</td></tr><tr cms-style=\"tr\"><td cms-style=\"td\">DBJ23120115111036398</td><td cms-style=\"td\">25</td><td cms-style=\"td\">/</td><td cms-style=\"td\">/</td><td cms-style=\"td\">天津市宝坻区桃李苑百货商店</td><td cms-style=\"td\">天津</td><td cms-style=\"td\">姜</td><td cms-style=\"td\">/</td><td cms-style=\"td\">2023.7.17 （购进日期）</td><td cms-style=\"td\">食用农产品</td><td cms-style=\"td\">2023年第9期</td><td cms-style=\"td\">2023.8.18</td><td cms-style=\"td\">区抽/\\xa0\\xa0\\xa0 监督抽检</td><td cms-style=\"td\">/</td></tr><tr cms-style=\"tr\"><td cms-style=\"td\">DBJ23120115111036397</td><td cms-style=\"td\">26</td><td cms-style=\"td\">/</td><td cms-style=\"td\">/</td><td cms-style=\"td\">天津市宝坻区桃李苑百货商店</td><td cms-style=\"td\">天津</td><td cms-style=\"td\">鸡蛋</td><td cms-style=\"td\">/</td><td cms-style=\"td\">2023.7.15 （购进日期）</td><td cms-style=\"td\">食用农产品</td><td cms-style=\"td\">2023年第9期</td><td cms-style=\"td\">2023.8.18</td><td cms-style=\"td\">区抽/\\xa0\\xa0\\xa0 监督抽检</td><td cms-style=\"td\">/</td></tr><tr cms-style=\"tr\"><td cms-style=\"td\">DBJ23120115111036454</td><td cms-style=\"td\">27</td><td cms-style=\"td\">/</td><td cms-style=\"td\">/</td><td cms-style=\"td\">天津市宝坻区百果荟水果经营店</td><td cms-style=\"td\">天津</td><td cms-style=\"td\">田弯弯茂谷柑</td><td cms-style=\"td\">/</td><td cms-style=\"td\">2023.6.21 （购进日期）</td><td cms-style=\"td\">食用农产品</td><td cms-style=\"td\">2023年第9期</td><td cms-style=\"td\">2023.8.18</td><td cms-style=\"td\">区抽/\\xa0\\xa0\\xa0 监督抽检</td><td cms-style=\"td\">/</td></tr><tr cms-style=\"tr\"><td cms-style=\"td\">DBJ23120115111036490</td><td cms-style=\"td\">28</td><td cms-style=\"td\">/</td><td cms-style=\"td\">/</td><td cms-style=\"td\">天津市宝坻区新园便利店</td><td cms-style=\"td\">天津</td><td cms-style=\"td\">豇豆</td><td cms-style=\"td\">/</td><td cms-style=\"td\">2023.7.18 （购进日期）</td><td cms-style=\"td\">食用农产品</td><td cms-style=\"td\">2023年第9期</td><td cms-style=\"td\">2023.8.18</td><td cms-style=\"td\">区抽/\\xa0\\xa0\\xa0 监督抽检</td><td cms-style=\"td\">/</td></tr><tr cms-style=\"tr\"><td cms-style=\"td\">DBJ23120115111036491</td><td cms-style=\"td\">29</td><td cms-style=\"td\">/</td><td cms-style=\"td\">/</td><td cms-style=\"td\">天津市宝坻区新园便利店</td><td cms-style=\"td\">天津</td><td cms-style=\"td\">鸡蛋</td><td cms-style=\"td\">/</td><td cms-style=\"td\">2023.7.18 （购进日期）</td><td cms-style=\"td\">食用农产品</td><td cms-style=\"td\">2023年第9期</td><td cms-style=\"td\">2023.8.18</td><td cms-style=\"td\">区抽/\\xa0\\xa0\\xa0 监督抽检</td><td cms-style=\"td\">/</td></tr></table>',\n",
       "    'content': {'html': '<table><tr><td>抽样编号</td><td>序号</td><td>标称生产企业名称</td><td>标称生产企业地址</td><td>被抽样单位名称</td><td>被抽样单位所在省份</td><td>食品名称</td><td>规格型号</td><td>生产日期/批号</td><td>分类</td><td>公告号</td><td>公告日期</td><td>任务来源/项目名称</td><td>备注</td></tr><tr><td>DBJ23120115111035213</td><td>1</td><td>/</td><td>/</td><td>天津市宝坻区宜品生活超市</td><td>天津</td><td>尖椒</td><td>/</td><td>2023.6.26 （购进日期）</td><td>食用农产品</td><td>2023年第9期</td><td>2023.8.18</td><td>区抽/\\xa0\\xa0\\xa0 监督抽检</td><td>/</td></tr><tr><td>DBJ23120115111035214</td><td>2</td><td>/</td><td>/</td><td>天津市宝坻区宜品生活超市</td><td>天津</td><td>姜</td><td>/</td><td>2023.6.23 （购进日期）</td><td>食用农产品</td><td>2023年第9期</td><td>2023.8.18</td><td>区抽/\\xa0\\xa0\\xa0 监督抽检</td><td>/</td></tr><tr><td>DBJ23120115111035225</td><td>3</td><td>/</td><td>/</td><td>天津市宝坻区福满家水果经营店</td><td>天津</td><td>芹菜</td><td>/</td><td>2023.6.26 （购进日期）</td><td>食用农产品</td><td>2023年第9期</td><td>2023.8.18</td><td>区抽/\\xa0\\xa0\\xa0 监督抽检</td><td>/</td></tr><tr><td>DBJ23120115111035226</td><td>4</td><td>/</td><td>/</td><td>天津市宝坻区福满家水果经营店</td><td>天津</td><td>生姜</td><td>/</td><td>2023.6.26 （购进日期）</td><td>食用农产品</td><td>2023年第9期</td><td>2023.8.18</td><td>区抽/\\xa0\\xa0\\xa0 监督抽检</td><td>/</td></tr><tr><td>DBJ23120115111035261</td><td>5</td><td>/</td><td>/</td><td>天津市宝坻区绿木生百货店</td><td>天津</td><td>芹菜</td><td>/</td><td>2023.6.26 （购进日期）</td><td>食用农产品</td><td>2023年第9期</td><td>2023.8.18</td><td>区抽/\\xa0\\xa0\\xa0 监督抽检</td><td>/</td></tr><tr><td>DBJ23120115111035262</td><td>6</td><td>/</td><td>/</td><td>天津市宝坻区绿木生百货店</td><td>天津</td><td>油菜（普通白菜）</td><td>/</td><td>2023.6.25 （购进日期）</td><td>食用农产品</td><td>2023年第9期</td><td>2023.8.18</td><td>区抽/\\xa0\\xa0\\xa0 监督抽检</td><td>/</td></tr><tr><td>DBJ23120115111035275</td><td>7</td><td>/</td><td>/</td><td>天津市宝坻区孔鲜生百货超市</td><td>天津</td><td>韭菜</td><td>/</td><td>2023.6.26 （购进日期）</td><td>食用农产品</td><td>2023年第9期</td><td>2023.8.18</td><td>区抽/\\xa0\\xa0\\xa0 监督抽检</td><td>/</td></tr><tr><td>DBJ23120115111035276</td><td>8</td><td>/</td><td>/</td><td>天津市宝坻区孔鲜生百货超市</td><td>天津</td><td>徐香猕猴桃</td><td>/</td><td>2023.6.24 （购进日期）</td><td>食用农产品</td><td>2023年第9期</td><td>2023.8.18</td><td>区抽/\\xa0\\xa0\\xa0 监督抽检</td><td>/</td></tr><tr><td>DBJ23120115111035447</td><td>9</td><td>/</td><td>/</td><td>天津市宝坻区四方百货商店</td><td>天津</td><td>鸡蛋</td><td>/</td><td>2023.6.29 （购进日期）</td><td>食用农产品</td><td>2023年第9期</td><td>2023.8.18</td><td>区抽/\\xa0\\xa0\\xa0 监督抽检</td><td>/</td></tr><tr><td>DBJ23120115111035771</td><td>10</td><td>/</td><td>/</td><td>天津市宝坻区青禾水果店</td><td>天津</td><td>鹅蛋柑</td><td>/</td><td>2023.5.28 （购进日期）</td><td>食用农产品</td><td>2023年第9期</td><td>2023.8.18</td><td>区抽/\\xa0\\xa0\\xa0 监督抽检</td><td>/</td></tr><tr><td>DBJ23120115111035772</td><td>11</td><td>/</td><td>/</td><td>天津市宝坻区青禾水果店</td><td>天津</td><td>猕猴桃</td><td>/</td><td>2023.6.22 （购进日期）</td><td>食用农产品</td><td>2023年第9期</td><td>2023.8.18</td><td>区抽/\\xa0\\xa0\\xa0 监督抽检</td><td>/</td></tr><tr><td>DBJ23120115111035833</td><td>12</td><td>/</td><td>/</td><td>天津市宝坻区御林源鲜果店</td><td>天津</td><td>金太阳沃柑</td><td>/</td><td>2023.6.17 （购进日期）</td><td>食用农产品</td><td>2023年第9期</td><td>2023.8.18</td><td>区抽/\\xa0\\xa0\\xa0 监督抽检</td><td>/</td></tr><tr><td>DBJ23120115111035834</td><td>13</td><td>/</td><td>/</td><td>天津市宝坻区御林源鲜果店</td><td>天津</td><td>国产香蕉</td><td>/</td><td>2023.7.9 （购进日期）</td><td>食用农产品</td><td>2023年第9期</td><td>2023.8.18</td><td>区抽/\\xa0\\xa0\\xa0 监督抽检</td><td>/</td></tr><tr><td>DBJ23120115111035896</td><td>14</td><td>/</td><td>/</td><td>天津市宝坻区广明便利店</td><td>天津</td><td>姜</td><td>/</td><td>2023.7.8 （购进日期）</td><td>食用农产品</td><td>2023年第9期</td><td>2023.8.18</td><td>区抽/\\xa0\\xa0\\xa0 监督抽检</td><td>/</td></tr><tr><td>DBJ23120115111035962</td><td>15</td><td>/</td><td>/</td><td>天津市宝坻区天爱副食商店</td><td>天津</td><td>绿豆芽</td><td>/</td><td>2023.7.11 （购进日期）</td><td>食用农产品</td><td>2023年第9期</td><td>2023.8.18</td><td>区抽/\\xa0\\xa0\\xa0 监督抽检</td><td>/</td></tr><tr><td>DBJ23120115111035963</td><td>16</td><td>/</td><td>/</td><td>天津市宝坻区天爱副食商店</td><td>天津</td><td>芹菜</td><td>/</td><td>2023.7.11 （购进日期）</td><td>食用农产品</td><td>2023年第9期</td><td>2023.8.18</td><td>区抽/\\xa0\\xa0\\xa0 监督抽检</td><td>/</td></tr><tr><td>DBJ23120115111035897</td><td>17</td><td>/</td><td>/</td><td>天津市宝坻区广明便利店</td><td>天津</td><td>鸡蛋</td><td>/</td><td>2023.7.10 （购进日期）</td><td>食用农产品</td><td>2023年第9期</td><td>2023.8.18</td><td>区抽/\\xa0\\xa0\\xa0 监督抽检</td><td>/</td></tr><tr><td>DBJ23120115111036054</td><td>18</td><td>/</td><td>/</td><td>天津市宝坻区恋佳便利店</td><td>天津</td><td>姜</td><td>/</td><td>2023.7.7 （购进日期）</td><td>食用农产品</td><td>2023年第9期</td><td>2023.8.18</td><td>区抽/\\xa0\\xa0\\xa0 监督抽检</td><td>/</td></tr><tr><td>DBJ23120115111036049</td><td>19</td><td>/</td><td>/</td><td>天津市宝坻区恋佳便利店</td><td>天津</td><td>鸡蛋</td><td>/</td><td>2023.7.11 （购进日期）</td><td>食用农产品</td><td>2023年第9期</td><td>2023.8.18</td><td>区抽/\\xa0\\xa0\\xa0 监督抽检</td><td>/</td></tr><tr><td>DBJ23120115111036163</td><td>20</td><td>/</td><td>/</td><td>天津市宝坻区皓欣超市</td><td>天津</td><td>豆芽</td><td>/</td><td>2023.7.12 （购进日期）</td><td>食用农产品</td><td>2023年第9期</td><td>2023.8.18</td><td>区抽/\\xa0\\xa0\\xa0 监督抽检</td><td>/</td></tr><tr><td>DBJ23120115111036164</td><td>21</td><td>/</td><td>/</td><td>天津市宝坻区皓欣超市</td><td>天津</td><td>沃柑</td><td>/</td><td>2023.7.1 （购进日期）</td><td>食用农产品</td><td>2023年第9期</td><td>2023.8.18</td><td>区抽/\\xa0\\xa0\\xa0 监督抽检</td><td>/</td></tr><tr><td>DBJ23120115111036247</td><td>22</td><td>/</td><td>/</td><td>天津市宝坻区涵雅便利店</td><td>天津</td><td>鸡蛋</td><td>/</td><td>2023.7.12 （购进日期）</td><td>食用农产品</td><td>2023年第9期</td><td>2023.8.18</td><td>区抽/\\xa0\\xa0\\xa0 监督抽检</td><td>/</td></tr><tr><td>DBJ23120115111036363</td><td>23</td><td>/</td><td>/</td><td>天津市宝坻区万鲜岛便利店</td><td>天津</td><td>芹菜</td><td>/</td><td>2023.7.17 （购进日期）</td><td>食用农产品</td><td>2023年第9期</td><td>2023.8.18</td><td>区抽/\\xa0\\xa0\\xa0 监督抽检</td><td>/</td></tr><tr><td>DBJ23120115111036366</td><td>24</td><td>/</td><td>/</td><td>天津市宝坻区万鲜岛便利店</td><td>天津</td><td>姜</td><td>/</td><td>2023.7.17 （购进日期）</td><td>食用农产品</td><td>2023年第9期</td><td>2023.8.18</td><td>区抽/\\xa0\\xa0\\xa0 监督抽检</td><td>/</td></tr><tr><td>DBJ23120115111036398</td><td>25</td><td>/</td><td>/</td><td>天津市宝坻区桃李苑百货商店</td><td>天津</td><td>姜</td><td>/</td><td>2023.7.17 （购进日期）</td><td>食用农产品</td><td>2023年第9期</td><td>2023.8.18</td><td>区抽/\\xa0\\xa0\\xa0 监督抽检</td><td>/</td></tr><tr><td>DBJ23120115111036397</td><td>26</td><td>/</td><td>/</td><td>天津市宝坻区桃李苑百货商店</td><td>天津</td><td>鸡蛋</td><td>/</td><td>2023.7.15 （购进日期）</td><td>食用农产品</td><td>2023年第9期</td><td>2023.8.18</td><td>区抽/\\xa0\\xa0\\xa0 监督抽检</td><td>/</td></tr><tr><td>DBJ23120115111036454</td><td>27</td><td>/</td><td>/</td><td>天津市宝坻区百果荟水果经营店</td><td>天津</td><td>田弯弯茂谷柑</td><td>/</td><td>2023.6.21 （购进日期）</td><td>食用农产品</td><td>2023年第9期</td><td>2023.8.18</td><td>区抽/\\xa0\\xa0\\xa0 监督抽检</td><td>/</td></tr><tr><td>DBJ23120115111036490</td><td>28</td><td>/</td><td>/</td><td>天津市宝坻区新园便利店</td><td>天津</td><td>豇豆</td><td>/</td><td>2023.7.18 （购进日期）</td><td>食用农产品</td><td>2023年第9期</td><td>2023.8.18</td><td>区抽/\\xa0\\xa0\\xa0 监督抽检</td><td>/</td></tr><tr><td>DBJ23120115111036491</td><td>29</td><td>/</td><td>/</td><td>天津市宝坻区新园便利店</td><td>天津</td><td>鸡蛋</td><td>/</td><td>2023.7.18 （购进日期）</td><td>食用农产品</td><td>2023年第9期</td><td>2023.8.18</td><td>区抽/\\xa0\\xa0\\xa0 监督抽检</td><td>/</td></tr></table>',\n",
       "     'is_complex': False,\n",
       "     'table_nest_level': '1'}},\n",
       "   {'type': 'table',\n",
       "    'raw_content': '<table border=\"1\" cms-style=\"table\"><tr cms-style=\"tr\"><td cms-style=\"td\">抽样编号</td><td cms-style=\"td\">序号</td><td cms-style=\"td\">标称生产企业名称</td><td cms-style=\"td\">标称生产企业地址</td><td cms-style=\"td\">被抽样单位名称</td><td cms-style=\"td\">被抽样单位所在省份</td><td cms-style=\"td\">食品名称</td><td cms-style=\"td\">规格型号</td><td cms-style=\"td\">生产日期/批号</td><td cms-style=\"td\">分类</td><td cms-style=\"td\">公告号</td><td cms-style=\"td\">公告日期</td><td cms-style=\"td\">任务来源/项目名称</td><td cms-style=\"td\">备注</td></tr><tr cms-style=\"tr\"><td cms-style=\"td\">DBJ23120115110733887</td><td cms-style=\"td\">1</td><td cms-style=\"td\">广州立旺食品有限公司</td><td cms-style=\"td\">广东省广州经济技术开发区永和经济区新元路3号</td><td cms-style=\"td\">天津市宝坻区鑫佰悦百货店</td><td cms-style=\"td\">天津</td><td cms-style=\"td\">旺仔牛奶糖（原味）奶糖糖果</td><td cms-style=\"td\">318g/袋</td><td cms-style=\"td\">2023/3/30</td><td cms-style=\"td\">糖果制品</td><td cms-style=\"td\">2023年第9期</td><td cms-style=\"td\">2023.8.18</td><td cms-style=\"td\">区抽/\\xa0\\xa0\\xa0 监督抽检</td><td cms-style=\"td\">/</td></tr><tr cms-style=\"tr\"><td cms-style=\"td\">DBJ23120115110733888</td><td cms-style=\"td\">2</td><td cms-style=\"td\">可口可乐装瓶商生产（济南）有限公司</td><td cms-style=\"td\">济南市章丘区经十东路7799号</td><td cms-style=\"td\">天津市宝坻区鑫佰悦百货店</td><td cms-style=\"td\">天津</td><td cms-style=\"td\">槐花风味葡萄汁饮料</td><td cms-style=\"td\">420ml/瓶</td><td cms-style=\"td\">2023-04-27</td><td cms-style=\"td\">饮料</td><td cms-style=\"td\">2023年第9期</td><td cms-style=\"td\">2023.8.18</td><td cms-style=\"td\">区抽/\\xa0\\xa0\\xa0 监督抽检</td><td cms-style=\"td\">/</td></tr><tr cms-style=\"tr\"><td cms-style=\"td\">DBJ23120115110733889</td><td cms-style=\"td\">3</td><td cms-style=\"td\">商丘市同福食品有限公司</td><td cms-style=\"td\">商丘市睢阳区珠江西路与振兴路交叉口</td><td cms-style=\"td\">天津宝坻区尚优品便利超市店</td><td cms-style=\"td\">天津</td><td cms-style=\"td\">牛肉汤安格斯肥牛捞面</td><td cms-style=\"td\">净含量：113克/包 （面饼+配料）面饼：90克/包</td><td cms-style=\"td\">2023-05-09</td><td cms-style=\"td\">方便食品</td><td cms-style=\"td\">2023年第9期</td><td cms-style=\"td\">2023.8.18</td><td cms-style=\"td\">区抽/\\xa0\\xa0\\xa0 监督抽检</td><td cms-style=\"td\">/</td></tr><tr cms-style=\"tr\"><td cms-style=\"td\">DBJ23120115110733890</td><td cms-style=\"td\">4</td><td cms-style=\"td\">商丘市同福食品有限公司</td><td cms-style=\"td\">商丘市睢阳区珠江西路与振兴路交叉口</td><td cms-style=\"td\">天津宝坻区尚优品便利超市店</td><td cms-style=\"td\">天津</td><td cms-style=\"td\">蟹黄拌面</td><td cms-style=\"td\">净含量：113克/包（面饼+配料）面饼：90克 /包</td><td cms-style=\"td\">2023-05-09</td><td cms-style=\"td\">方便食品</td><td cms-style=\"td\">2023年第9期</td><td cms-style=\"td\">2023.8.18</td><td cms-style=\"td\">区抽/\\xa0\\xa0\\xa0 监督抽检</td><td cms-style=\"td\">/</td></tr><tr cms-style=\"tr\"><td cms-style=\"td\">DBJ23120115110733926</td><td cms-style=\"td\">5</td><td cms-style=\"td\">昆仑山矿泉水有限公司</td><td cms-style=\"td\">青海省格尔木市西大滩雪峰路8号</td><td cms-style=\"td\">天津市宝坻区新世纪副食批发部</td><td cms-style=\"td\">天津</td><td cms-style=\"td\">昆仑山雪山矿泉水</td><td cms-style=\"td\">550mL/瓶</td><td cms-style=\"td\">2022-05-17</td><td cms-style=\"td\">饮料</td><td cms-style=\"td\">2023年第9期</td><td cms-style=\"td\">2023.8.18</td><td cms-style=\"td\">区抽/\\xa0\\xa0\\xa0 监督抽检</td><td cms-style=\"td\">/</td></tr><tr cms-style=\"tr\"><td cms-style=\"td\">DBJ23120115110733927</td><td cms-style=\"td\">6</td><td cms-style=\"td\">山东泽雨饮品有限公司</td><td cms-style=\"td\">山东省德州市平原县三唐乡101省道中段路西</td><td cms-style=\"td\">天津市宝坻区新世纪副食批发部</td><td cms-style=\"td\">天津</td><td cms-style=\"td\">甜橙味碳酸饮料</td><td cms-style=\"td\">500mL/瓶</td><td cms-style=\"td\">2023-04-16</td><td cms-style=\"td\">饮料</td><td cms-style=\"td\">2023年第9期</td><td cms-style=\"td\">2023.8.18</td><td cms-style=\"td\">区抽/\\xa0\\xa0\\xa0 监督抽检</td><td cms-style=\"td\">/</td></tr><tr cms-style=\"tr\"><td cms-style=\"td\">DBJ23120115110733928</td><td cms-style=\"td\">7</td><td cms-style=\"td\">颐海（郑州）食品有限公司</td><td cms-style=\"td\">郑州市高新区紫竹路东玉兰西街南</td><td cms-style=\"td\">天津市宝坻区吴瑶百货商店</td><td cms-style=\"td\">天津</td><td cms-style=\"td\">三鲜火锅底料</td><td cms-style=\"td\">200克/袋</td><td cms-style=\"td\">2023-02-05</td><td cms-style=\"td\">调味品</td><td cms-style=\"td\">2023年第9期</td><td cms-style=\"td\">2023.8.18</td><td cms-style=\"td\">区抽/\\xa0\\xa0\\xa0 监督抽检</td><td cms-style=\"td\">/</td></tr><tr cms-style=\"tr\"><td cms-style=\"td\">DBJ23120115110733932</td><td cms-style=\"td\">8</td><td cms-style=\"td\">北京万方酿造厂</td><td cms-style=\"td\">北京市顺义区马坡镇衙门村</td><td cms-style=\"td\">天津市宝坻区建家业百货商店</td><td cms-style=\"td\">天津</td><td cms-style=\"td\">中粮厨师料酒（调味料酒）</td><td cms-style=\"td\">500毫升/瓶 酒精度：≥10%vol</td><td cms-style=\"td\">2022-03-01</td><td cms-style=\"td\">调味品</td><td cms-style=\"td\">2023年第9期</td><td cms-style=\"td\">2023.8.18</td><td cms-style=\"td\">区抽/\\xa0\\xa0\\xa0 监督抽检</td><td cms-style=\"td\">/</td></tr><tr cms-style=\"tr\"><td cms-style=\"td\">DBJ23120115110733933</td><td cms-style=\"td\">9</td><td cms-style=\"td\">周口金丝猴食品有限公司</td><td cms-style=\"td\">沈丘县沙南产业集聚区</td><td cms-style=\"td\">天津市宝坻区建家业百货商店</td><td cms-style=\"td\">天津</td><td cms-style=\"td\">代可可脂黑巧克力</td><td cms-style=\"td\">50克/盒</td><td cms-style=\"td\">2022-12-24</td><td cms-style=\"td\">糖果制品</td><td cms-style=\"td\">2023年第9期</td><td cms-style=\"td\">2023.8.18</td><td cms-style=\"td\">区抽/\\xa0\\xa0\\xa0 监督抽检</td><td cms-style=\"td\">/</td></tr><tr cms-style=\"tr\"><td cms-style=\"td\">DBJ23120115110733938</td><td cms-style=\"td\">10</td><td cms-style=\"td\">保定六合食品有限公司</td><td cms-style=\"td\">保定市徐水区长城北大街3715号</td><td cms-style=\"td\">天津市宝坻区吴瑶百货商店</td><td cms-style=\"td\">天津</td><td cms-style=\"td\">金牌老板红烧牛肉面</td><td cms-style=\"td\">总重量：110克/袋 净含量：面饼+配料107克/袋 面饼：90克/袋</td><td cms-style=\"td\">2023-04-10</td><td cms-style=\"td\">方便食品</td><td cms-style=\"td\">2023年第9期</td><td cms-style=\"td\">2023.8.18</td><td cms-style=\"td\">区抽/\\xa0\\xa0\\xa0 监督抽检</td><td cms-style=\"td\">/</td></tr><tr cms-style=\"tr\"><td cms-style=\"td\">DBJ23120115110733939</td><td cms-style=\"td\">11</td><td cms-style=\"td\">天津市蓟牧润兴肉类工贸有限公司</td><td cms-style=\"td\">天津市蓟州区别山镇南京哈公路南侧</td><td cms-style=\"td\">天津市宝坻区客尽欢百货商店</td><td cms-style=\"td\">天津</td><td cms-style=\"td\">猪五花肉</td><td cms-style=\"td\">/</td><td cms-style=\"td\">2023-06-27（检疫日期）</td><td cms-style=\"td\">食用农产品</td><td cms-style=\"td\">2023年第9期</td><td cms-style=\"td\">2023.8.18</td><td cms-style=\"td\">区抽/\\xa0\\xa0\\xa0 监督抽检</td><td cms-style=\"td\">/</td></tr><tr cms-style=\"tr\"><td cms-style=\"td\">DBJ23120115110733940</td><td cms-style=\"td\">12</td><td cms-style=\"td\">天津市蓟牧润兴肉类工贸有限公司</td><td cms-style=\"td\">天津市蓟州区别山镇南京哈公路南侧</td><td cms-style=\"td\">天津市宝坻区客尽欢百货商店</td><td cms-style=\"td\">天津</td><td cms-style=\"td\">猪肋条肉</td><td cms-style=\"td\">/</td><td cms-style=\"td\">2023-06-27（检疫日期）</td><td cms-style=\"td\">食用农产品</td><td cms-style=\"td\">2023年第9期</td><td cms-style=\"td\">2023.8.18</td><td cms-style=\"td\">区抽/\\xa0\\xa0\\xa0 监督抽检</td><td cms-style=\"td\">/</td></tr><tr cms-style=\"tr\"><td cms-style=\"td\">DBJ23120115110733951</td><td cms-style=\"td\">13</td><td cms-style=\"td\">大厂回族自治明新肉类有限公司</td><td cms-style=\"td\">河北省廊坊市大厂回族自治县夏安路霍各庄段</td><td cms-style=\"td\">天津市宝坻区福兴达鲜肉店</td><td cms-style=\"td\">天津</td><td cms-style=\"td\">牛肉</td><td cms-style=\"td\">/</td><td cms-style=\"td\">2023-06-15（检疫日期）</td><td cms-style=\"td\">食用农产品</td><td cms-style=\"td\">2023年第9期</td><td cms-style=\"td\">2023.8.18</td><td cms-style=\"td\">区抽/\\xa0\\xa0\\xa0 监督抽检</td><td cms-style=\"td\">/</td></tr><tr cms-style=\"tr\"><td cms-style=\"td\">DBJ23120115110733952</td><td cms-style=\"td\">14</td><td cms-style=\"td\">廊坊宝鑫清真肉类食品有限公司</td><td cms-style=\"td\">河北省廊坊市经济技术开发区南营村</td><td cms-style=\"td\">天津市宝坻区福兴达鲜肉店</td><td cms-style=\"td\">天津</td><td cms-style=\"td\">羊肉</td><td cms-style=\"td\">/</td><td cms-style=\"td\">2023-06-26（检疫日期）</td><td cms-style=\"td\">食用农产品</td><td cms-style=\"td\">2023年第9期</td><td cms-style=\"td\">2023.8.18</td><td cms-style=\"td\">区抽/\\xa0\\xa0\\xa0 监督抽检</td><td cms-style=\"td\">/</td></tr></table>',\n",
       "    'content': {'html': '<table><tr><td>抽样编号</td><td>序号</td><td>标称生产企业名称</td><td>标称生产企业地址</td><td>被抽样单位名称</td><td>被抽样单位所在省份</td><td>食品名称</td><td>规格型号</td><td>生产日期/批号</td><td>分类</td><td>公告号</td><td>公告日期</td><td>任务来源/项目名称</td><td>备注</td></tr><tr><td>DBJ23120115110733887</td><td>1</td><td>广州立旺食品有限公司</td><td>广东省广州经济技术开发区永和经济区新元路3号</td><td>天津市宝坻区鑫佰悦百货店</td><td>天津</td><td>旺仔牛奶糖（原味）奶糖糖果</td><td>318g/袋</td><td>2023/3/30</td><td>糖果制品</td><td>2023年第9期</td><td>2023.8.18</td><td>区抽/\\xa0\\xa0\\xa0 监督抽检</td><td>/</td></tr><tr><td>DBJ23120115110733888</td><td>2</td><td>可口可乐装瓶商生产（济南）有限公司</td><td>济南市章丘区经十东路7799号</td><td>天津市宝坻区鑫佰悦百货店</td><td>天津</td><td>槐花风味葡萄汁饮料</td><td>420ml/瓶</td><td>2023-04-27</td><td>饮料</td><td>2023年第9期</td><td>2023.8.18</td><td>区抽/\\xa0\\xa0\\xa0 监督抽检</td><td>/</td></tr><tr><td>DBJ23120115110733889</td><td>3</td><td>商丘市同福食品有限公司</td><td>商丘市睢阳区珠江西路与振兴路交叉口</td><td>天津宝坻区尚优品便利超市店</td><td>天津</td><td>牛肉汤安格斯肥牛捞面</td><td>净含量：113克/包 （面饼+配料）面饼：90克/包</td><td>2023-05-09</td><td>方便食品</td><td>2023年第9期</td><td>2023.8.18</td><td>区抽/\\xa0\\xa0\\xa0 监督抽检</td><td>/</td></tr><tr><td>DBJ23120115110733890</td><td>4</td><td>商丘市同福食品有限公司</td><td>商丘市睢阳区珠江西路与振兴路交叉口</td><td>天津宝坻区尚优品便利超市店</td><td>天津</td><td>蟹黄拌面</td><td>净含量：113克/包（面饼+配料）面饼：90克 /包</td><td>2023-05-09</td><td>方便食品</td><td>2023年第9期</td><td>2023.8.18</td><td>区抽/\\xa0\\xa0\\xa0 监督抽检</td><td>/</td></tr><tr><td>DBJ23120115110733926</td><td>5</td><td>昆仑山矿泉水有限公司</td><td>青海省格尔木市西大滩雪峰路8号</td><td>天津市宝坻区新世纪副食批发部</td><td>天津</td><td>昆仑山雪山矿泉水</td><td>550mL/瓶</td><td>2022-05-17</td><td>饮料</td><td>2023年第9期</td><td>2023.8.18</td><td>区抽/\\xa0\\xa0\\xa0 监督抽检</td><td>/</td></tr><tr><td>DBJ23120115110733927</td><td>6</td><td>山东泽雨饮品有限公司</td><td>山东省德州市平原县三唐乡101省道中段路西</td><td>天津市宝坻区新世纪副食批发部</td><td>天津</td><td>甜橙味碳酸饮料</td><td>500mL/瓶</td><td>2023-04-16</td><td>饮料</td><td>2023年第9期</td><td>2023.8.18</td><td>区抽/\\xa0\\xa0\\xa0 监督抽检</td><td>/</td></tr><tr><td>DBJ23120115110733928</td><td>7</td><td>颐海（郑州）食品有限公司</td><td>郑州市高新区紫竹路东玉兰西街南</td><td>天津市宝坻区吴瑶百货商店</td><td>天津</td><td>三鲜火锅底料</td><td>200克/袋</td><td>2023-02-05</td><td>调味品</td><td>2023年第9期</td><td>2023.8.18</td><td>区抽/\\xa0\\xa0\\xa0 监督抽检</td><td>/</td></tr><tr><td>DBJ23120115110733932</td><td>8</td><td>北京万方酿造厂</td><td>北京市顺义区马坡镇衙门村</td><td>天津市宝坻区建家业百货商店</td><td>天津</td><td>中粮厨师料酒（调味料酒）</td><td>500毫升/瓶 酒精度：≥10%vol</td><td>2022-03-01</td><td>调味品</td><td>2023年第9期</td><td>2023.8.18</td><td>区抽/\\xa0\\xa0\\xa0 监督抽检</td><td>/</td></tr><tr><td>DBJ23120115110733933</td><td>9</td><td>周口金丝猴食品有限公司</td><td>沈丘县沙南产业集聚区</td><td>天津市宝坻区建家业百货商店</td><td>天津</td><td>代可可脂黑巧克力</td><td>50克/盒</td><td>2022-12-24</td><td>糖果制品</td><td>2023年第9期</td><td>2023.8.18</td><td>区抽/\\xa0\\xa0\\xa0 监督抽检</td><td>/</td></tr><tr><td>DBJ23120115110733938</td><td>10</td><td>保定六合食品有限公司</td><td>保定市徐水区长城北大街3715号</td><td>天津市宝坻区吴瑶百货商店</td><td>天津</td><td>金牌老板红烧牛肉面</td><td>总重量：110克/袋 净含量：面饼+配料107克/袋 面饼：90克/袋</td><td>2023-04-10</td><td>方便食品</td><td>2023年第9期</td><td>2023.8.18</td><td>区抽/\\xa0\\xa0\\xa0 监督抽检</td><td>/</td></tr><tr><td>DBJ23120115110733939</td><td>11</td><td>天津市蓟牧润兴肉类工贸有限公司</td><td>天津市蓟州区别山镇南京哈公路南侧</td><td>天津市宝坻区客尽欢百货商店</td><td>天津</td><td>猪五花肉</td><td>/</td><td>2023-06-27（检疫日期）</td><td>食用农产品</td><td>2023年第9期</td><td>2023.8.18</td><td>区抽/\\xa0\\xa0\\xa0 监督抽检</td><td>/</td></tr><tr><td>DBJ23120115110733940</td><td>12</td><td>天津市蓟牧润兴肉类工贸有限公司</td><td>天津市蓟州区别山镇南京哈公路南侧</td><td>天津市宝坻区客尽欢百货商店</td><td>天津</td><td>猪肋条肉</td><td>/</td><td>2023-06-27（检疫日期）</td><td>食用农产品</td><td>2023年第9期</td><td>2023.8.18</td><td>区抽/\\xa0\\xa0\\xa0 监督抽检</td><td>/</td></tr><tr><td>DBJ23120115110733951</td><td>13</td><td>大厂回族自治明新肉类有限公司</td><td>河北省廊坊市大厂回族自治县夏安路霍各庄段</td><td>天津市宝坻区福兴达鲜肉店</td><td>天津</td><td>牛肉</td><td>/</td><td>2023-06-15（检疫日期）</td><td>食用农产品</td><td>2023年第9期</td><td>2023.8.18</td><td>区抽/\\xa0\\xa0\\xa0 监督抽检</td><td>/</td></tr><tr><td>DBJ23120115110733952</td><td>14</td><td>廊坊宝鑫清真肉类食品有限公司</td><td>河北省廊坊市经济技术开发区南营村</td><td>天津市宝坻区福兴达鲜肉店</td><td>天津</td><td>羊肉</td><td>/</td><td>2023-06-26（检疫日期）</td><td>食用农产品</td><td>2023年第9期</td><td>2023.8.18</td><td>区抽/\\xa0\\xa0\\xa0 监督抽检</td><td>/</td></tr></table>',\n",
       "     'is_complex': False,\n",
       "     'table_nest_level': '1'}}]],\n",
       " 'main_html': '<div><div class=\"article\" id=\"artibody\"> \\n  \\n  \\n  \\n  \\n  \\n  \\n  \\n  \\n <div class=\"img_wrapper\"> \\n  <img src=\"http://n.sinaimg.cn/spider20230821/27/w1245h382/20230821/048a-75ac73e4bc20bc804c48b28954290fc1.png\" id=\"0\"> \\n   \\n </div> \\n <p cms-style=\"font-L\">中国质量新闻网讯 近日，天津市宝坻区市场监督管理局发布关于43批次食品抽样检验情况的通告（2023年第9期）。本期监督抽检涉及食用<span id=\"stock_sz000061\"><a href=\"https://finance.sina.com.cn/realstock/company/sz000061/nc.shtml\" class=\"keyword\" target=\"_blank\" data-sudaclick=\"content_marketkeywords_p\">农产品</a></span>，糖果制品，饮料，方便食品和调味品共5大类，共计43批次样品，全部合格。</p> \\n <p cms-style=\"font-L align-Center\">产品合格信息</p> \\n <p cms-style=\"font-L align-Center\">（声明：以下信息仅指本次抽检标称的生产企业相关产品的生产日期/批号和所检项目）</p> \\n  \\n <div cms-style=\"font-L scroll\"> \\n  <div cms-style=\"font-L minWidth\"> \\n   <table border=\"1\" cms-style=\"table\"> \\n     \\n     <tr cms-style=\"tr\"> \\n      <td cms-style=\"td\">抽样编号</td> \\n      <td cms-style=\"td\">序号</td> \\n      <td cms-style=\"td\">标称生产企业名称</td> \\n      <td cms-style=\"td\">标称生产企业地址</td> \\n      <td cms-style=\"td\">被抽样单位名称</td> \\n      <td cms-style=\"td\">被抽样单位所在省份</td> \\n      <td cms-style=\"td\">食品名称</td> \\n      <td cms-style=\"td\">规格型号</td> \\n      <td cms-style=\"td\">生产日期/批号</td> \\n      <td cms-style=\"td\">分类</td> \\n      <td cms-style=\"td\">公告号</td> \\n      <td cms-style=\"td\">公告日期</td> \\n      <td cms-style=\"td\">任务来源/项目名称</td> \\n      <td cms-style=\"td\">备注</td> \\n     </tr> \\n     <tr cms-style=\"tr\"> \\n      <td cms-style=\"td\">DBJ23120115111035213</td> \\n      <td cms-style=\"td\">1</td> \\n      <td cms-style=\"td\">/</td> \\n      <td cms-style=\"td\">/</td> \\n      <td cms-style=\"td\">天津市宝坻区宜品生活超市</td> \\n      <td cms-style=\"td\">天津</td> \\n      <td cms-style=\"td\">尖椒</td> \\n      <td cms-style=\"td\">/</td> \\n      <td cms-style=\"td\">2023.6.26 （购进日期）</td> \\n      <td cms-style=\"td\">食用农产品</td> \\n      <td cms-style=\"td\">2023年第9期</td> \\n      <td cms-style=\"td\">2023.8.18</td> \\n      <td cms-style=\"td\">区抽/\\xa0\\xa0\\xa0 监督抽检</td> \\n      <td cms-style=\"td\">/</td> \\n     </tr> \\n     <tr cms-style=\"tr\"> \\n      <td cms-style=\"td\">DBJ23120115111035214</td> \\n      <td cms-style=\"td\">2</td> \\n      <td cms-style=\"td\">/</td> \\n      <td cms-style=\"td\">/</td> \\n      <td cms-style=\"td\">天津市宝坻区宜品生活超市</td> \\n      <td cms-style=\"td\">天津</td> \\n      <td cms-style=\"td\">姜</td> \\n      <td cms-style=\"td\">/</td> \\n      <td cms-style=\"td\">2023.6.23 （购进日期）</td> \\n      <td cms-style=\"td\">食用农产品</td> \\n      <td cms-style=\"td\">2023年第9期</td> \\n      <td cms-style=\"td\">2023.8.18</td> \\n      <td cms-style=\"td\">区抽/\\xa0\\xa0\\xa0 监督抽检</td> \\n      <td cms-style=\"td\">/</td> \\n     </tr> \\n     <tr cms-style=\"tr\"> \\n      <td cms-style=\"td\">DBJ23120115111035225</td> \\n      <td cms-style=\"td\">3</td> \\n      <td cms-style=\"td\">/</td> \\n      <td cms-style=\"td\">/</td> \\n      <td cms-style=\"td\">天津市宝坻区福满家水果经营店</td> \\n      <td cms-style=\"td\">天津</td> \\n      <td cms-style=\"td\">芹菜</td> \\n      <td cms-style=\"td\">/</td> \\n      <td cms-style=\"td\">2023.6.26 （购进日期）</td> \\n      <td cms-style=\"td\">食用农产品</td> \\n      <td cms-style=\"td\">2023年第9期</td> \\n      <td cms-style=\"td\">2023.8.18</td> \\n      <td cms-style=\"td\">区抽/\\xa0\\xa0\\xa0 监督抽检</td> \\n      <td cms-style=\"td\">/</td> \\n     </tr> \\n     <tr cms-style=\"tr\"> \\n      <td cms-style=\"td\">DBJ23120115111035226</td> \\n      <td cms-style=\"td\">4</td> \\n      <td cms-style=\"td\">/</td> \\n      <td cms-style=\"td\">/</td> \\n      <td cms-style=\"td\">天津市宝坻区福满家水果经营店</td> \\n      <td cms-style=\"td\">天津</td> \\n      <td cms-style=\"td\">生姜</td> \\n      <td cms-style=\"td\">/</td> \\n      <td cms-style=\"td\">2023.6.26 （购进日期）</td> \\n      <td cms-style=\"td\">食用农产品</td> \\n      <td cms-style=\"td\">2023年第9期</td> \\n      <td cms-style=\"td\">2023.8.18</td> \\n      <td cms-style=\"td\">区抽/\\xa0\\xa0\\xa0 监督抽检</td> \\n      <td cms-style=\"td\">/</td> \\n     </tr> \\n     <tr cms-style=\"tr\"> \\n      <td cms-style=\"td\">DBJ23120115111035261</td> \\n      <td cms-style=\"td\">5</td> \\n      <td cms-style=\"td\">/</td> \\n      <td cms-style=\"td\">/</td> \\n      <td cms-style=\"td\">天津市宝坻区绿木生百货店</td> \\n      <td cms-style=\"td\">天津</td> \\n      <td cms-style=\"td\">芹菜</td> \\n      <td cms-style=\"td\">/</td> \\n      <td cms-style=\"td\">2023.6.26 （购进日期）</td> \\n      <td cms-style=\"td\">食用农产品</td> \\n      <td cms-style=\"td\">2023年第9期</td> \\n      <td cms-style=\"td\">2023.8.18</td> \\n      <td cms-style=\"td\">区抽/\\xa0\\xa0\\xa0 监督抽检</td> \\n      <td cms-style=\"td\">/</td> \\n     </tr> \\n     <tr cms-style=\"tr\"> \\n      <td cms-style=\"td\">DBJ23120115111035262</td> \\n      <td cms-style=\"td\">6</td> \\n      <td cms-style=\"td\">/</td> \\n      <td cms-style=\"td\">/</td> \\n      <td cms-style=\"td\">天津市宝坻区绿木生百货店</td> \\n      <td cms-style=\"td\">天津</td> \\n      <td cms-style=\"td\">油菜（普通白菜）</td> \\n      <td cms-style=\"td\">/</td> \\n      <td cms-style=\"td\">2023.6.25 （购进日期）</td> \\n      <td cms-style=\"td\">食用农产品</td> \\n      <td cms-style=\"td\">2023年第9期</td> \\n      <td cms-style=\"td\">2023.8.18</td> \\n      <td cms-style=\"td\">区抽/\\xa0\\xa0\\xa0 监督抽检</td> \\n      <td cms-style=\"td\">/</td> \\n     </tr> \\n     <tr cms-style=\"tr\"> \\n      <td cms-style=\"td\">DBJ23120115111035275</td> \\n      <td cms-style=\"td\">7</td> \\n      <td cms-style=\"td\">/</td> \\n      <td cms-style=\"td\">/</td> \\n      <td cms-style=\"td\">天津市宝坻区孔鲜生百货超市</td> \\n      <td cms-style=\"td\">天津</td> \\n      <td cms-style=\"td\">韭菜</td> \\n      <td cms-style=\"td\">/</td> \\n      <td cms-style=\"td\">2023.6.26 （购进日期）</td> \\n      <td cms-style=\"td\">食用农产品</td> \\n      <td cms-style=\"td\">2023年第9期</td> \\n      <td cms-style=\"td\">2023.8.18</td> \\n      <td cms-style=\"td\">区抽/\\xa0\\xa0\\xa0 监督抽检</td> \\n      <td cms-style=\"td\">/</td> \\n     </tr> \\n     <tr cms-style=\"tr\"> \\n      <td cms-style=\"td\">DBJ23120115111035276</td> \\n      <td cms-style=\"td\">8</td> \\n      <td cms-style=\"td\">/</td> \\n      <td cms-style=\"td\">/</td> \\n      <td cms-style=\"td\">天津市宝坻区孔鲜生百货超市</td> \\n      <td cms-style=\"td\">天津</td> \\n      <td cms-style=\"td\">徐香猕猴桃</td> \\n      <td cms-style=\"td\">/</td> \\n      <td cms-style=\"td\">2023.6.24 （购进日期）</td> \\n      <td cms-style=\"td\">食用农产品</td> \\n      <td cms-style=\"td\">2023年第9期</td> \\n      <td cms-style=\"td\">2023.8.18</td> \\n      <td cms-style=\"td\">区抽/\\xa0\\xa0\\xa0 监督抽检</td> \\n      <td cms-style=\"td\">/</td> \\n     </tr> \\n     <tr cms-style=\"tr\"> \\n      <td cms-style=\"td\">DBJ23120115111035447</td> \\n      <td cms-style=\"td\">9</td> \\n      <td cms-style=\"td\">/</td> \\n      <td cms-style=\"td\">/</td> \\n      <td cms-style=\"td\">天津市宝坻区四方百货商店</td> \\n      <td cms-style=\"td\">天津</td> \\n      <td cms-style=\"td\">鸡蛋</td> \\n      <td cms-style=\"td\">/</td> \\n      <td cms-style=\"td\">2023.6.29 （购进日期）</td> \\n      <td cms-style=\"td\">食用农产品</td> \\n      <td cms-style=\"td\">2023年第9期</td> \\n      <td cms-style=\"td\">2023.8.18</td> \\n      <td cms-style=\"td\">区抽/\\xa0\\xa0\\xa0 监督抽检</td> \\n      <td cms-style=\"td\">/</td> \\n     </tr> \\n     <tr cms-style=\"tr\"> \\n      <td cms-style=\"td\">DBJ23120115111035771</td> \\n      <td cms-style=\"td\">10</td> \\n      <td cms-style=\"td\">/</td> \\n      <td cms-style=\"td\">/</td> \\n      <td cms-style=\"td\">天津市宝坻区青禾水果店</td> \\n      <td cms-style=\"td\">天津</td> \\n      <td cms-style=\"td\">鹅蛋柑</td> \\n      <td cms-style=\"td\">/</td> \\n      <td cms-style=\"td\">2023.5.28 （购进日期）</td> \\n      <td cms-style=\"td\">食用农产品</td> \\n      <td cms-style=\"td\">2023年第9期</td> \\n      <td cms-style=\"td\">2023.8.18</td> \\n      <td cms-style=\"td\">区抽/\\xa0\\xa0\\xa0 监督抽检</td> \\n      <td cms-style=\"td\">/</td> \\n     </tr> \\n     <tr cms-style=\"tr\"> \\n      <td cms-style=\"td\">DBJ23120115111035772</td> \\n      <td cms-style=\"td\">11</td> \\n      <td cms-style=\"td\">/</td> \\n      <td cms-style=\"td\">/</td> \\n      <td cms-style=\"td\">天津市宝坻区青禾水果店</td> \\n      <td cms-style=\"td\">天津</td> \\n      <td cms-style=\"td\">猕猴桃</td> \\n      <td cms-style=\"td\">/</td> \\n      <td cms-style=\"td\">2023.6.22 （购进日期）</td> \\n      <td cms-style=\"td\">食用农产品</td> \\n      <td cms-style=\"td\">2023年第9期</td> \\n      <td cms-style=\"td\">2023.8.18</td> \\n      <td cms-style=\"td\">区抽/\\xa0\\xa0\\xa0 监督抽检</td> \\n      <td cms-style=\"td\">/</td> \\n     </tr> \\n     <tr cms-style=\"tr\"> \\n      <td cms-style=\"td\">DBJ23120115111035833</td> \\n      <td cms-style=\"td\">12</td> \\n      <td cms-style=\"td\">/</td> \\n      <td cms-style=\"td\">/</td> \\n      <td cms-style=\"td\">天津市宝坻区御林源鲜果店</td> \\n      <td cms-style=\"td\">天津</td> \\n      <td cms-style=\"td\">金太阳沃柑</td> \\n      <td cms-style=\"td\">/</td> \\n      <td cms-style=\"td\">2023.6.17 （购进日期）</td> \\n      <td cms-style=\"td\">食用农产品</td> \\n      <td cms-style=\"td\">2023年第9期</td> \\n      <td cms-style=\"td\">2023.8.18</td> \\n      <td cms-style=\"td\">区抽/\\xa0\\xa0\\xa0 监督抽检</td> \\n      <td cms-style=\"td\">/</td> \\n     </tr> \\n     <tr cms-style=\"tr\"> \\n      <td cms-style=\"td\">DBJ23120115111035834</td> \\n      <td cms-style=\"td\">13</td> \\n      <td cms-style=\"td\">/</td> \\n      <td cms-style=\"td\">/</td> \\n      <td cms-style=\"td\">天津市宝坻区御林源鲜果店</td> \\n      <td cms-style=\"td\">天津</td> \\n      <td cms-style=\"td\">国产香蕉</td> \\n      <td cms-style=\"td\">/</td> \\n      <td cms-style=\"td\">2023.7.9 （购进日期）</td> \\n      <td cms-style=\"td\">食用农产品</td> \\n      <td cms-style=\"td\">2023年第9期</td> \\n      <td cms-style=\"td\">2023.8.18</td> \\n      <td cms-style=\"td\">区抽/\\xa0\\xa0\\xa0 监督抽检</td> \\n      <td cms-style=\"td\">/</td> \\n     </tr> \\n     <tr cms-style=\"tr\"> \\n      <td cms-style=\"td\">DBJ23120115111035896</td> \\n      <td cms-style=\"td\">14</td> \\n      <td cms-style=\"td\">/</td> \\n      <td cms-style=\"td\">/</td> \\n      <td cms-style=\"td\">天津市宝坻区广明便利店</td> \\n      <td cms-style=\"td\">天津</td> \\n      <td cms-style=\"td\">姜</td> \\n      <td cms-style=\"td\">/</td> \\n      <td cms-style=\"td\">2023.7.8 （购进日期）</td> \\n      <td cms-style=\"td\">食用农产品</td> \\n      <td cms-style=\"td\">2023年第9期</td> \\n      <td cms-style=\"td\">2023.8.18</td> \\n      <td cms-style=\"td\">区抽/\\xa0\\xa0\\xa0 监督抽检</td> \\n      <td cms-style=\"td\">/</td> \\n     </tr> \\n     <tr cms-style=\"tr\"> \\n      <td cms-style=\"td\">DBJ23120115111035962</td> \\n      <td cms-style=\"td\">15</td> \\n      <td cms-style=\"td\">/</td> \\n      <td cms-style=\"td\">/</td> \\n      <td cms-style=\"td\">天津市宝坻区天爱副食商店</td> \\n      <td cms-style=\"td\">天津</td> \\n      <td cms-style=\"td\">绿豆芽</td> \\n      <td cms-style=\"td\">/</td> \\n      <td cms-style=\"td\">2023.7.11 （购进日期）</td> \\n      <td cms-style=\"td\">食用农产品</td> \\n      <td cms-style=\"td\">2023年第9期</td> \\n      <td cms-style=\"td\">2023.8.18</td> \\n      <td cms-style=\"td\">区抽/\\xa0\\xa0\\xa0 监督抽检</td> \\n      <td cms-style=\"td\">/</td> \\n     </tr> \\n     <tr cms-style=\"tr\"> \\n      <td cms-style=\"td\">DBJ23120115111035963</td> \\n      <td cms-style=\"td\">16</td> \\n      <td cms-style=\"td\">/</td> \\n      <td cms-style=\"td\">/</td> \\n      <td cms-style=\"td\">天津市宝坻区天爱副食商店</td> \\n      <td cms-style=\"td\">天津</td> \\n      <td cms-style=\"td\">芹菜</td> \\n      <td cms-style=\"td\">/</td> \\n      <td cms-style=\"td\">2023.7.11 （购进日期）</td> \\n      <td cms-style=\"td\">食用农产品</td> \\n      <td cms-style=\"td\">2023年第9期</td> \\n      <td cms-style=\"td\">2023.8.18</td> \\n      <td cms-style=\"td\">区抽/\\xa0\\xa0\\xa0 监督抽检</td> \\n      <td cms-style=\"td\">/</td> \\n     </tr> \\n     <tr cms-style=\"tr\"> \\n      <td cms-style=\"td\">DBJ23120115111035897</td> \\n      <td cms-style=\"td\">17</td> \\n      <td cms-style=\"td\">/</td> \\n      <td cms-style=\"td\">/</td> \\n      <td cms-style=\"td\">天津市宝坻区广明便利店</td> \\n      <td cms-style=\"td\">天津</td> \\n      <td cms-style=\"td\">鸡蛋</td> \\n      <td cms-style=\"td\">/</td> \\n      <td cms-style=\"td\">2023.7.10 （购进日期）</td> \\n      <td cms-style=\"td\">食用农产品</td> \\n      <td cms-style=\"td\">2023年第9期</td> \\n      <td cms-style=\"td\">2023.8.18</td> \\n      <td cms-style=\"td\">区抽/\\xa0\\xa0\\xa0 监督抽检</td> \\n      <td cms-style=\"td\">/</td> \\n     </tr> \\n     <tr cms-style=\"tr\"> \\n      <td cms-style=\"td\">DBJ23120115111036054</td> \\n      <td cms-style=\"td\">18</td> \\n      <td cms-style=\"td\">/</td> \\n      <td cms-style=\"td\">/</td> \\n      <td cms-style=\"td\">天津市宝坻区恋佳便利店</td> \\n      <td cms-style=\"td\">天津</td> \\n      <td cms-style=\"td\">姜</td> \\n      <td cms-style=\"td\">/</td> \\n      <td cms-style=\"td\">2023.7.7 （购进日期）</td> \\n      <td cms-style=\"td\">食用农产品</td> \\n      <td cms-style=\"td\">2023年第9期</td> \\n      <td cms-style=\"td\">2023.8.18</td> \\n      <td cms-style=\"td\">区抽/\\xa0\\xa0\\xa0 监督抽检</td> \\n      <td cms-style=\"td\">/</td> \\n     </tr> \\n     <tr cms-style=\"tr\"> \\n      <td cms-style=\"td\">DBJ23120115111036049</td> \\n      <td cms-style=\"td\">19</td> \\n      <td cms-style=\"td\">/</td> \\n      <td cms-style=\"td\">/</td> \\n      <td cms-style=\"td\">天津市宝坻区恋佳便利店</td> \\n      <td cms-style=\"td\">天津</td> \\n      <td cms-style=\"td\">鸡蛋</td> \\n      <td cms-style=\"td\">/</td> \\n      <td cms-style=\"td\">2023.7.11 （购进日期）</td> \\n      <td cms-style=\"td\">食用农产品</td> \\n      <td cms-style=\"td\">2023年第9期</td> \\n      <td cms-style=\"td\">2023.8.18</td> \\n      <td cms-style=\"td\">区抽/\\xa0\\xa0\\xa0 监督抽检</td> \\n      <td cms-style=\"td\">/</td> \\n     </tr> \\n     <tr cms-style=\"tr\"> \\n      <td cms-style=\"td\">DBJ23120115111036163</td> \\n      <td cms-style=\"td\">20</td> \\n      <td cms-style=\"td\">/</td> \\n      <td cms-style=\"td\">/</td> \\n      <td cms-style=\"td\">天津市宝坻区皓欣超市</td> \\n      <td cms-style=\"td\">天津</td> \\n      <td cms-style=\"td\">豆芽</td> \\n      <td cms-style=\"td\">/</td> \\n      <td cms-style=\"td\">2023.7.12 （购进日期）</td> \\n      <td cms-style=\"td\">食用农产品</td> \\n      <td cms-style=\"td\">2023年第9期</td> \\n      <td cms-style=\"td\">2023.8.18</td> \\n      <td cms-style=\"td\">区抽/\\xa0\\xa0\\xa0 监督抽检</td> \\n      <td cms-style=\"td\">/</td> \\n     </tr> \\n     <tr cms-style=\"tr\"> \\n      <td cms-style=\"td\">DBJ23120115111036164</td> \\n      <td cms-style=\"td\">21</td> \\n      <td cms-style=\"td\">/</td> \\n      <td cms-style=\"td\">/</td> \\n      <td cms-style=\"td\">天津市宝坻区皓欣超市</td> \\n      <td cms-style=\"td\">天津</td> \\n      <td cms-style=\"td\">沃柑</td> \\n      <td cms-style=\"td\">/</td> \\n      <td cms-style=\"td\">2023.7.1 （购进日期）</td> \\n      <td cms-style=\"td\">食用农产品</td> \\n      <td cms-style=\"td\">2023年第9期</td> \\n      <td cms-style=\"td\">2023.8.18</td> \\n      <td cms-style=\"td\">区抽/\\xa0\\xa0\\xa0 监督抽检</td> \\n      <td cms-style=\"td\">/</td> \\n     </tr> \\n     <tr cms-style=\"tr\"> \\n      <td cms-style=\"td\">DBJ23120115111036247</td> \\n      <td cms-style=\"td\">22</td> \\n      <td cms-style=\"td\">/</td> \\n      <td cms-style=\"td\">/</td> \\n      <td cms-style=\"td\">天津市宝坻区涵雅便利店</td> \\n      <td cms-style=\"td\">天津</td> \\n      <td cms-style=\"td\">鸡蛋</td> \\n      <td cms-style=\"td\">/</td> \\n      <td cms-style=\"td\">2023.7.12 （购进日期）</td> \\n      <td cms-style=\"td\">食用农产品</td> \\n      <td cms-style=\"td\">2023年第9期</td> \\n      <td cms-style=\"td\">2023.8.18</td> \\n      <td cms-style=\"td\">区抽/\\xa0\\xa0\\xa0 监督抽检</td> \\n      <td cms-style=\"td\">/</td> \\n     </tr> \\n     <tr cms-style=\"tr\"> \\n      <td cms-style=\"td\">DBJ23120115111036363</td> \\n      <td cms-style=\"td\">23</td> \\n      <td cms-style=\"td\">/</td> \\n      <td cms-style=\"td\">/</td> \\n      <td cms-style=\"td\">天津市宝坻区万鲜岛便利店</td> \\n      <td cms-style=\"td\">天津</td> \\n      <td cms-style=\"td\">芹菜</td> \\n      <td cms-style=\"td\">/</td> \\n      <td cms-style=\"td\">2023.7.17 （购进日期）</td> \\n      <td cms-style=\"td\">食用农产品</td> \\n      <td cms-style=\"td\">2023年第9期</td> \\n      <td cms-style=\"td\">2023.8.18</td> \\n      <td cms-style=\"td\">区抽/\\xa0\\xa0\\xa0 监督抽检</td> \\n      <td cms-style=\"td\">/</td> \\n     </tr> \\n     <tr cms-style=\"tr\"> \\n      <td cms-style=\"td\">DBJ23120115111036366</td> \\n      <td cms-style=\"td\">24</td> \\n      <td cms-style=\"td\">/</td> \\n      <td cms-style=\"td\">/</td> \\n      <td cms-style=\"td\">天津市宝坻区万鲜岛便利店</td> \\n      <td cms-style=\"td\">天津</td> \\n      <td cms-style=\"td\">姜</td> \\n      <td cms-style=\"td\">/</td> \\n      <td cms-style=\"td\">2023.7.17 （购进日期）</td> \\n      <td cms-style=\"td\">食用农产品</td> \\n      <td cms-style=\"td\">2023年第9期</td> \\n      <td cms-style=\"td\">2023.8.18</td> \\n      <td cms-style=\"td\">区抽/\\xa0\\xa0\\xa0 监督抽检</td> \\n      <td cms-style=\"td\">/</td> \\n     </tr> \\n     <tr cms-style=\"tr\"> \\n      <td cms-style=\"td\">DBJ23120115111036398</td> \\n      <td cms-style=\"td\">25</td> \\n      <td cms-style=\"td\">/</td> \\n      <td cms-style=\"td\">/</td> \\n      <td cms-style=\"td\">天津市宝坻区桃李苑百货商店</td> \\n      <td cms-style=\"td\">天津</td> \\n      <td cms-style=\"td\">姜</td> \\n      <td cms-style=\"td\">/</td> \\n      <td cms-style=\"td\">2023.7.17 （购进日期）</td> \\n      <td cms-style=\"td\">食用农产品</td> \\n      <td cms-style=\"td\">2023年第9期</td> \\n      <td cms-style=\"td\">2023.8.18</td> \\n      <td cms-style=\"td\">区抽/\\xa0\\xa0\\xa0 监督抽检</td> \\n      <td cms-style=\"td\">/</td> \\n     </tr> \\n     <tr cms-style=\"tr\"> \\n      <td cms-style=\"td\">DBJ23120115111036397</td> \\n      <td cms-style=\"td\">26</td> \\n      <td cms-style=\"td\">/</td> \\n      <td cms-style=\"td\">/</td> \\n      <td cms-style=\"td\">天津市宝坻区桃李苑百货商店</td> \\n      <td cms-style=\"td\">天津</td> \\n      <td cms-style=\"td\">鸡蛋</td> \\n      <td cms-style=\"td\">/</td> \\n      <td cms-style=\"td\">2023.7.15 （购进日期）</td> \\n      <td cms-style=\"td\">食用农产品</td> \\n      <td cms-style=\"td\">2023年第9期</td> \\n      <td cms-style=\"td\">2023.8.18</td> \\n      <td cms-style=\"td\">区抽/\\xa0\\xa0\\xa0 监督抽检</td> \\n      <td cms-style=\"td\">/</td> \\n     </tr> \\n     <tr cms-style=\"tr\"> \\n      <td cms-style=\"td\">DBJ23120115111036454</td> \\n      <td cms-style=\"td\">27</td> \\n      <td cms-style=\"td\">/</td> \\n      <td cms-style=\"td\">/</td> \\n      <td cms-style=\"td\">天津市宝坻区百果荟水果经营店</td> \\n      <td cms-style=\"td\">天津</td> \\n      <td cms-style=\"td\">田弯弯茂谷柑</td> \\n      <td cms-style=\"td\">/</td> \\n      <td cms-style=\"td\">2023.6.21 （购进日期）</td> \\n      <td cms-style=\"td\">食用农产品</td> \\n      <td cms-style=\"td\">2023年第9期</td> \\n      <td cms-style=\"td\">2023.8.18</td> \\n      <td cms-style=\"td\">区抽/\\xa0\\xa0\\xa0 监督抽检</td> \\n      <td cms-style=\"td\">/</td> \\n     </tr> \\n     <tr cms-style=\"tr\"> \\n      <td cms-style=\"td\">DBJ23120115111036490</td> \\n      <td cms-style=\"td\">28</td> \\n      <td cms-style=\"td\">/</td> \\n      <td cms-style=\"td\">/</td> \\n      <td cms-style=\"td\">天津市宝坻区新园便利店</td> \\n      <td cms-style=\"td\">天津</td> \\n      <td cms-style=\"td\">豇豆</td> \\n      <td cms-style=\"td\">/</td> \\n      <td cms-style=\"td\">2023.7.18 （购进日期）</td> \\n      <td cms-style=\"td\">食用农产品</td> \\n      <td cms-style=\"td\">2023年第9期</td> \\n      <td cms-style=\"td\">2023.8.18</td> \\n      <td cms-style=\"td\">区抽/\\xa0\\xa0\\xa0 监督抽检</td> \\n      <td cms-style=\"td\">/</td> \\n     </tr> \\n     <tr cms-style=\"tr\"> \\n      <td cms-style=\"td\">DBJ23120115111036491</td> \\n      <td cms-style=\"td\">29</td> \\n      <td cms-style=\"td\">/</td> \\n      <td cms-style=\"td\">/</td> \\n      <td cms-style=\"td\">天津市宝坻区新园便利店</td> \\n      <td cms-style=\"td\">天津</td> \\n      <td cms-style=\"td\">鸡蛋</td> \\n      <td cms-style=\"td\">/</td> \\n      <td cms-style=\"td\">2023.7.18 （购进日期）</td> \\n      <td cms-style=\"td\">食用农产品</td> \\n      <td cms-style=\"td\">2023年第9期</td> \\n      <td cms-style=\"td\">2023.8.18</td> \\n      <td cms-style=\"td\">区抽/\\xa0\\xa0\\xa0 监督抽检</td> \\n      <td cms-style=\"td\">/</td> \\n     </tr> \\n     \\n   </table> \\n  </div> \\n </div> \\n <div cms-style=\"font-L scroll\"> \\n  <div cms-style=\"font-L minWidth\"> \\n   <table border=\"1\" cms-style=\"table\"> \\n     \\n     <tr cms-style=\"tr\"> \\n      <td cms-style=\"td\">抽样编号</td> \\n      <td cms-style=\"td\">序号</td> \\n      <td cms-style=\"td\">标称生产企业名称</td> \\n      <td cms-style=\"td\">标称生产企业地址</td> \\n      <td cms-style=\"td\">被抽样单位名称</td> \\n      <td cms-style=\"td\">被抽样单位所在省份</td> \\n      <td cms-style=\"td\">食品名称</td> \\n      <td cms-style=\"td\">规格型号</td> \\n      <td cms-style=\"td\">生产日期/批号</td> \\n      <td cms-style=\"td\">分类</td> \\n      <td cms-style=\"td\">公告号</td> \\n      <td cms-style=\"td\">公告日期</td> \\n      <td cms-style=\"td\">任务来源/项目名称</td> \\n      <td cms-style=\"td\">备注</td> \\n     </tr> \\n     <tr cms-style=\"tr\"> \\n      <td cms-style=\"td\">DBJ23120115110733887</td> \\n      <td cms-style=\"td\">1</td> \\n      <td cms-style=\"td\">广州立旺食品有限公司</td> \\n      <td cms-style=\"td\">广东省广州经济技术开发区永和经济区新元路3号</td> \\n      <td cms-style=\"td\">天津市宝坻区鑫佰悦百货店</td> \\n      <td cms-style=\"td\">天津</td> \\n      <td cms-style=\"td\">旺仔牛奶糖（原味）奶糖糖果</td> \\n      <td cms-style=\"td\">318g/袋</td> \\n      <td cms-style=\"td\">2023/3/30</td> \\n      <td cms-style=\"td\">糖果制品</td> \\n      <td cms-style=\"td\">2023年第9期</td> \\n      <td cms-style=\"td\">2023.8.18</td> \\n      <td cms-style=\"td\">区抽/\\xa0\\xa0\\xa0 监督抽检</td> \\n      <td cms-style=\"td\">/</td> \\n     </tr> \\n     <tr cms-style=\"tr\"> \\n      <td cms-style=\"td\">DBJ23120115110733888</td> \\n      <td cms-style=\"td\">2</td> \\n      <td cms-style=\"td\">可口可乐装瓶商生产（济南）有限公司</td> \\n      <td cms-style=\"td\">济南市章丘区经十东路7799号</td> \\n      <td cms-style=\"td\">天津市宝坻区鑫佰悦百货店</td> \\n      <td cms-style=\"td\">天津</td> \\n      <td cms-style=\"td\">槐花风味葡萄汁饮料</td> \\n      <td cms-style=\"td\">420ml/瓶</td> \\n      <td cms-style=\"td\">2023-04-27</td> \\n      <td cms-style=\"td\">饮料</td> \\n      <td cms-style=\"td\">2023年第9期</td> \\n      <td cms-style=\"td\">2023.8.18</td> \\n      <td cms-style=\"td\">区抽/\\xa0\\xa0\\xa0 监督抽检</td> \\n      <td cms-style=\"td\">/</td> \\n     </tr> \\n     <tr cms-style=\"tr\"> \\n      <td cms-style=\"td\">DBJ23120115110733889</td> \\n      <td cms-style=\"td\">3</td> \\n      <td cms-style=\"td\">商丘市同福食品有限公司</td> \\n      <td cms-style=\"td\">商丘市睢阳区珠江西路与振兴路交叉口</td> \\n      <td cms-style=\"td\">天津宝坻区尚优品便利超市店</td> \\n      <td cms-style=\"td\">天津</td> \\n      <td cms-style=\"td\">牛肉汤安格斯肥牛捞面</td> \\n      <td cms-style=\"td\">净含量：113克/包 （面饼+配料）面饼：90克/包</td> \\n      <td cms-style=\"td\">2023-05-09</td> \\n      <td cms-style=\"td\">方便食品</td> \\n      <td cms-style=\"td\">2023年第9期</td> \\n      <td cms-style=\"td\">2023.8.18</td> \\n      <td cms-style=\"td\">区抽/\\xa0\\xa0\\xa0 监督抽检</td> \\n      <td cms-style=\"td\">/</td> \\n     </tr> \\n     <tr cms-style=\"tr\"> \\n      <td cms-style=\"td\">DBJ23120115110733890</td> \\n      <td cms-style=\"td\">4</td> \\n      <td cms-style=\"td\">商丘市同福食品有限公司</td> \\n      <td cms-style=\"td\">商丘市睢阳区珠江西路与振兴路交叉口</td> \\n      <td cms-style=\"td\">天津宝坻区尚优品便利超市店</td> \\n      <td cms-style=\"td\">天津</td> \\n      <td cms-style=\"td\">蟹黄拌面</td> \\n      <td cms-style=\"td\">净含量：113克/包（面饼+配料）面饼：90克 /包</td> \\n      <td cms-style=\"td\">2023-05-09</td> \\n      <td cms-style=\"td\">方便食品</td> \\n      <td cms-style=\"td\">2023年第9期</td> \\n      <td cms-style=\"td\">2023.8.18</td> \\n      <td cms-style=\"td\">区抽/\\xa0\\xa0\\xa0 监督抽检</td> \\n      <td cms-style=\"td\">/</td> \\n     </tr> \\n     <tr cms-style=\"tr\"> \\n      <td cms-style=\"td\">DBJ23120115110733926</td> \\n      <td cms-style=\"td\">5</td> \\n      <td cms-style=\"td\">昆仑山矿泉水有限公司</td> \\n      <td cms-style=\"td\">青海省格尔木市西大滩雪峰路8号</td> \\n      <td cms-style=\"td\">天津市宝坻区新世纪副食批发部</td> \\n      <td cms-style=\"td\">天津</td> \\n      <td cms-style=\"td\">昆仑山雪山矿泉水</td> \\n      <td cms-style=\"td\">550mL/瓶</td> \\n      <td cms-style=\"td\">2022-05-17</td> \\n      <td cms-style=\"td\">饮料</td> \\n      <td cms-style=\"td\">2023年第9期</td> \\n      <td cms-style=\"td\">2023.8.18</td> \\n      <td cms-style=\"td\">区抽/\\xa0\\xa0\\xa0 监督抽检</td> \\n      <td cms-style=\"td\">/</td> \\n     </tr> \\n     <tr cms-style=\"tr\"> \\n      <td cms-style=\"td\">DBJ23120115110733927</td> \\n      <td cms-style=\"td\">6</td> \\n      <td cms-style=\"td\">山东泽雨饮品有限公司</td> \\n      <td cms-style=\"td\">山东省德州市平原县三唐乡101省道中段路西</td> \\n      <td cms-style=\"td\">天津市宝坻区新世纪副食批发部</td> \\n      <td cms-style=\"td\">天津</td> \\n      <td cms-style=\"td\">甜橙味碳酸饮料</td> \\n      <td cms-style=\"td\">500mL/瓶</td> \\n      <td cms-style=\"td\">2023-04-16</td> \\n      <td cms-style=\"td\">饮料</td> \\n      <td cms-style=\"td\">2023年第9期</td> \\n      <td cms-style=\"td\">2023.8.18</td> \\n      <td cms-style=\"td\">区抽/\\xa0\\xa0\\xa0 监督抽检</td> \\n      <td cms-style=\"td\">/</td> \\n     </tr> \\n     <tr cms-style=\"tr\"> \\n      <td cms-style=\"td\">DBJ23120115110733928</td> \\n      <td cms-style=\"td\">7</td> \\n      <td cms-style=\"td\">颐海（郑州）食品有限公司</td> \\n      <td cms-style=\"td\">郑州市高新区紫竹路东玉兰西街南</td> \\n      <td cms-style=\"td\">天津市宝坻区吴瑶百货商店</td> \\n      <td cms-style=\"td\">天津</td> \\n      <td cms-style=\"td\">三鲜火锅底料</td> \\n      <td cms-style=\"td\">200克/袋</td> \\n      <td cms-style=\"td\">2023-02-05</td> \\n      <td cms-style=\"td\">调味品</td> \\n      <td cms-style=\"td\">2023年第9期</td> \\n      <td cms-style=\"td\">2023.8.18</td> \\n      <td cms-style=\"td\">区抽/\\xa0\\xa0\\xa0 监督抽检</td> \\n      <td cms-style=\"td\">/</td> \\n     </tr> \\n     <tr cms-style=\"tr\"> \\n      <td cms-style=\"td\">DBJ23120115110733932</td> \\n      <td cms-style=\"td\">8</td> \\n      <td cms-style=\"td\">北京万方酿造厂</td> \\n      <td cms-style=\"td\">北京市顺义区马坡镇衙门村</td> \\n      <td cms-style=\"td\">天津市宝坻区建家业百货商店</td> \\n      <td cms-style=\"td\">天津</td> \\n      <td cms-style=\"td\">中粮厨师料酒（调味料酒）</td> \\n      <td cms-style=\"td\">500毫升/瓶 酒精度：≥10%vol</td> \\n      <td cms-style=\"td\">2022-03-01</td> \\n      <td cms-style=\"td\">调味品</td> \\n      <td cms-style=\"td\">2023年第9期</td> \\n      <td cms-style=\"td\">2023.8.18</td> \\n      <td cms-style=\"td\">区抽/\\xa0\\xa0\\xa0 监督抽检</td> \\n      <td cms-style=\"td\">/</td> \\n     </tr> \\n     <tr cms-style=\"tr\"> \\n      <td cms-style=\"td\">DBJ23120115110733933</td> \\n      <td cms-style=\"td\">9</td> \\n      <td cms-style=\"td\">周口金丝猴食品有限公司</td> \\n      <td cms-style=\"td\">沈丘县沙南产业集聚区</td> \\n      <td cms-style=\"td\">天津市宝坻区建家业百货商店</td> \\n      <td cms-style=\"td\">天津</td> \\n      <td cms-style=\"td\">代可可脂黑巧克力</td> \\n      <td cms-style=\"td\">50克/盒</td> \\n      <td cms-style=\"td\">2022-12-24</td> \\n      <td cms-style=\"td\">糖果制品</td> \\n      <td cms-style=\"td\">2023年第9期</td> \\n      <td cms-style=\"td\">2023.8.18</td> \\n      <td cms-style=\"td\">区抽/\\xa0\\xa0\\xa0 监督抽检</td> \\n      <td cms-style=\"td\">/</td> \\n     </tr> \\n     <tr cms-style=\"tr\"> \\n      <td cms-style=\"td\">DBJ23120115110733938</td> \\n      <td cms-style=\"td\">10</td> \\n      <td cms-style=\"td\">保定六合食品有限公司</td> \\n      <td cms-style=\"td\">保定市徐水区长城北大街3715号</td> \\n      <td cms-style=\"td\">天津市宝坻区吴瑶百货商店</td> \\n      <td cms-style=\"td\">天津</td> \\n      <td cms-style=\"td\">金牌老板红烧牛肉面</td> \\n      <td cms-style=\"td\">总重量：110克/袋 净含量：面饼+配料107克/袋 面饼：90克/袋</td> \\n      <td cms-style=\"td\">2023-04-10</td> \\n      <td cms-style=\"td\">方便食品</td> \\n      <td cms-style=\"td\">2023年第9期</td> \\n      <td cms-style=\"td\">2023.8.18</td> \\n      <td cms-style=\"td\">区抽/\\xa0\\xa0\\xa0 监督抽检</td> \\n      <td cms-style=\"td\">/</td> \\n     </tr> \\n     <tr cms-style=\"tr\"> \\n      <td cms-style=\"td\">DBJ23120115110733939</td> \\n      <td cms-style=\"td\">11</td> \\n      <td cms-style=\"td\">天津市蓟牧润兴肉类工贸有限公司</td> \\n      <td cms-style=\"td\">天津市蓟州区别山镇南京哈公路南侧</td> \\n      <td cms-style=\"td\">天津市宝坻区客尽欢百货商店</td> \\n      <td cms-style=\"td\">天津</td> \\n      <td cms-style=\"td\">猪五花肉</td> \\n      <td cms-style=\"td\">/</td> \\n      <td cms-style=\"td\">2023-06-27（检疫日期）</td> \\n      <td cms-style=\"td\">食用农产品</td> \\n      <td cms-style=\"td\">2023年第9期</td> \\n      <td cms-style=\"td\">2023.8.18</td> \\n      <td cms-style=\"td\">区抽/\\xa0\\xa0\\xa0 监督抽检</td> \\n      <td cms-style=\"td\">/</td> \\n     </tr> \\n     <tr cms-style=\"tr\"> \\n      <td cms-style=\"td\">DBJ23120115110733940</td> \\n      <td cms-style=\"td\">12</td> \\n      <td cms-style=\"td\">天津市蓟牧润兴肉类工贸有限公司</td> \\n      <td cms-style=\"td\">天津市蓟州区别山镇南京哈公路南侧</td> \\n      <td cms-style=\"td\">天津市宝坻区客尽欢百货商店</td> \\n      <td cms-style=\"td\">天津</td> \\n      <td cms-style=\"td\">猪肋条肉</td> \\n      <td cms-style=\"td\">/</td> \\n      <td cms-style=\"td\">2023-06-27（检疫日期）</td> \\n      <td cms-style=\"td\">食用农产品</td> \\n      <td cms-style=\"td\">2023年第9期</td> \\n      <td cms-style=\"td\">2023.8.18</td> \\n      <td cms-style=\"td\">区抽/\\xa0\\xa0\\xa0 监督抽检</td> \\n      <td cms-style=\"td\">/</td> \\n     </tr> \\n     <tr cms-style=\"tr\"> \\n      <td cms-style=\"td\">DBJ23120115110733951</td> \\n      <td cms-style=\"td\">13</td> \\n      <td cms-style=\"td\">大厂回族自治明新肉类有限公司</td> \\n      <td cms-style=\"td\">河北省廊坊市大厂回族自治县夏安路霍各庄段</td> \\n      <td cms-style=\"td\">天津市宝坻区福兴达鲜肉店</td> \\n      <td cms-style=\"td\">天津</td> \\n      <td cms-style=\"td\">牛肉</td> \\n      <td cms-style=\"td\">/</td> \\n      <td cms-style=\"td\">2023-06-15（检疫日期）</td> \\n      <td cms-style=\"td\">食用农产品</td> \\n      <td cms-style=\"td\">2023年第9期</td> \\n      <td cms-style=\"td\">2023.8.18</td> \\n      <td cms-style=\"td\">区抽/\\xa0\\xa0\\xa0 监督抽检</td> \\n      <td cms-style=\"td\">/</td> \\n     </tr> \\n     <tr cms-style=\"tr\"> \\n      <td cms-style=\"td\">DBJ23120115110733952</td> \\n      <td cms-style=\"td\">14</td> \\n      <td cms-style=\"td\">廊坊宝鑫清真肉类食品有限公司</td> \\n      <td cms-style=\"td\">河北省廊坊市经济技术开发区南营村</td> \\n      <td cms-style=\"td\">天津市宝坻区福兴达鲜肉店</td> \\n      <td cms-style=\"td\">天津</td> \\n      <td cms-style=\"td\">羊肉</td> \\n      <td cms-style=\"td\">/</td> \\n      <td cms-style=\"td\">2023-06-26（检疫日期）</td> \\n      <td cms-style=\"td\">食用农产品</td> \\n      <td cms-style=\"td\">2023年第9期</td> \\n      <td cms-style=\"td\">2023.8.18</td> \\n      <td cms-style=\"td\">区抽/\\xa0\\xa0\\xa0 监督抽检</td> \\n      <td cms-style=\"td\">/</td> \\n     </tr> \\n     \\n   </table> \\n  </div> \\n </div> \\n  \\n  \\n  \\n  \\n  \\n  \\n  \\n  \\n  \\n  \\n  \\n  \\n  \\n  \\n  \\n  \\n</div></div>',\n",
       " '__error': {'code': -1,\n",
       "  'msg': 'Content filtering failed: nothing to repeat at position 133',\n",
       "  'trace': 'Traceback (most recent call last):\\n  File \"/tmp/ipykernel_225356/3659150242.py\", line 81, in filter_content_list\\n  File \"/tmp/ipykernel_225356/3659150242.py\", line 8, in filter_content\\n  File \"/tmp/ipykernel_225356/519556557.py\", line 47, in is_valid_content_element\\n  File \"/tmp/ipykernel_225356/794971336.py\", line 53, in clean_special_whitespace\\n  File \"/share/python/3.10.9/lib/python3.10/re.py\", line 209, in sub\\n    return _compile(pattern, flags).sub(repl, string, count)\\n  File \"/share/python/3.10.9/lib/python3.10/re.py\", line 303, in _compile\\n    p = sre_compile.compile(pattern, flags)\\n  File \"/share/python/3.10.9/lib/python3.10/sre_compile.py\", line 788, in compile\\n    p = sre_parse.parse(p, flags)\\n  File \"/share/python/3.10.9/lib/python3.10/sre_parse.py\", line 955, in parse\\n    p = _parse_sub(source, state, flags & SRE_FLAG_VERBOSE, 0)\\n  File \"/share/python/3.10.9/lib/python3.10/sre_parse.py\", line 444, in _parse_sub\\n    itemsappend(_parse(source, state, verbose, nested + 1,\\n  File \"/share/python/3.10.9/lib/python3.10/sre_parse.py\", line 669, in _parse\\n    raise source.error(\"nothing to repeat\",\\nre.error: nothing to repeat at position 133\\n'},\n",
       " 'content_qa': '中国质量新闻网讯 近日，天津市宝坻区市场监督管理局发布关于43批次食品抽样检验情况的通告（2023年第9期）。本期监督抽检涉及食用 农产品 ，糖果制品，饮料，方便食品和调味品共5大类，共计43批次样品，全部合格。\\n\\n产品合格信息\\n\\n（声明：以下信息仅指本次抽检标称的生产企业相关产品的生产日期/批号和所检项目）\\n\\n| 抽样编号 | 序号 | 标称生产企业名称 | 标称生产企业地址 | 被抽样单位名称 | 被抽样单位所在省份 | 食品名称 | 规格型号 | 生产日期/批号 | 分类 | 公告号 | 公告日期 | 任务来源/项目名称 | 备注 |\\n|---|---|---|---|---|---|---|---|---|---|---|---|---|---|\\n| DBJ23120115111035213 | 1 | / | / | 天津市宝坻区宜品生活超市 | 天津 | 尖椒 | / | 2023.6.26 （购进日期） | 食用农产品 | 2023年第9期 | 2023.8.18 | 区抽/\\xa0\\xa0\\xa0 监督抽检 | / |\\n| DBJ23120115111035214 | 2 | / | / | 天津市宝坻区宜品生活超市 | 天津 | 姜 | / | 2023.6.23 （购进日期） | 食用农产品 | 2023年第9期 | 2023.8.18 | 区抽/\\xa0\\xa0\\xa0 监督抽检 | / |\\n| DBJ23120115111035225 | 3 | / | / | 天津市宝坻区福满家水果经营店 | 天津 | 芹菜 | / | 2023.6.26 （购进日期） | 食用农产品 | 2023年第9期 | 2023.8.18 | 区抽/\\xa0\\xa0\\xa0 监督抽检 | / |\\n| DBJ23120115111035226 | 4 | / | / | 天津市宝坻区福满家水果经营店 | 天津 | 生姜 | / | 2023.6.26 （购进日期） | 食用农产品 | 2023年第9期 | 2023.8.18 | 区抽/\\xa0\\xa0\\xa0 监督抽检 | / |\\n| DBJ23120115111035261 | 5 | / | / | 天津市宝坻区绿木生百货店 | 天津 | 芹菜 | / | 2023.6.26 （购进日期） | 食用农产品 | 2023年第9期 | 2023.8.18 | 区抽/\\xa0\\xa0\\xa0 监督抽检 | / |\\n| DBJ23120115111035262 | 6 | / | / | 天津市宝坻区绿木生百货店 | 天津 | 油菜（普通白菜） | / | 2023.6.25 （购进日期） | 食用农产品 | 2023年第9期 | 2023.8.18 | 区抽/\\xa0\\xa0\\xa0 监督抽检 | / |\\n| DBJ23120115111035275 | 7 | / | / | 天津市宝坻区孔鲜生百货超市 | 天津 | 韭菜 | / | 2023.6.26 （购进日期） | 食用农产品 | 2023年第9期 | 2023.8.18 | 区抽/\\xa0\\xa0\\xa0 监督抽检 | / |\\n| DBJ23120115111035276 | 8 | / | / | 天津市宝坻区孔鲜生百货超市 | 天津 | 徐香猕猴桃 | / | 2023.6.24 （购进日期） | 食用农产品 | 2023年第9期 | 2023.8.18 | 区抽/\\xa0\\xa0\\xa0 监督抽检 | / |\\n| DBJ23120115111035447 | 9 | / | / | 天津市宝坻区四方百货商店 | 天津 | 鸡蛋 | / | 2023.6.29 （购进日期） | 食用农产品 | 2023年第9期 | 2023.8.18 | 区抽/\\xa0\\xa0\\xa0 监督抽检 | / |\\n| DBJ23120115111035771 | 10 | / | / | 天津市宝坻区青禾水果店 | 天津 | 鹅蛋柑 | / | 2023.5.28 （购进日期） | 食用农产品 | 2023年第9期 | 2023.8.18 | 区抽/\\xa0\\xa0\\xa0 监督抽检 | / |\\n| DBJ23120115111035772 | 11 | / | / | 天津市宝坻区青禾水果店 | 天津 | 猕猴桃 | / | 2023.6.22 （购进日期） | 食用农产品 | 2023年第9期 | 2023.8.18 | 区抽/\\xa0\\xa0\\xa0 监督抽检 | / |\\n| DBJ23120115111035833 | 12 | / | / | 天津市宝坻区御林源鲜果店 | 天津 | 金太阳沃柑 | / | 2023.6.17 （购进日期） | 食用农产品 | 2023年第9期 | 2023.8.18 | 区抽/\\xa0\\xa0\\xa0 监督抽检 | / |\\n| DBJ23120115111035834 | 13 | / | / | 天津市宝坻区御林源鲜果店 | 天津 | 国产香蕉 | / | 2023.7.9 （购进日期） | 食用农产品 | 2023年第9期 | 2023.8.18 | 区抽/\\xa0\\xa0\\xa0 监督抽检 | / |\\n| DBJ23120115111035896 | 14 | / | / | 天津市宝坻区广明便利店 | 天津 | 姜 | / | 2023.7.8 （购进日期） | 食用农产品 | 2023年第9期 | 2023.8.18 | 区抽/\\xa0\\xa0\\xa0 监督抽检 | / |\\n| DBJ23120115111035962 | 15 | / | / | 天津市宝坻区天爱副食商店 | 天津 | 绿豆芽 | / | 2023.7.11 （购进日期） | 食用农产品 | 2023年第9期 | 2023.8.18 | 区抽/\\xa0\\xa0\\xa0 监督抽检 | / |\\n| DBJ23120115111035963 | 16 | / | / | 天津市宝坻区天爱副食商店 | 天津 | 芹菜 | / | 2023.7.11 （购进日期） | 食用农产品 | 2023年第9期 | 2023.8.18 | 区抽/\\xa0\\xa0\\xa0 监督抽检 | / |\\n| DBJ23120115111035897 | 17 | / | / | 天津市宝坻区广明便利店 | 天津 | 鸡蛋 | / | 2023.7.10 （购进日期） | 食用农产品 | 2023年第9期 | 2023.8.18 | 区抽/\\xa0\\xa0\\xa0 监督抽检 | / |\\n| DBJ23120115111036054 | 18 | / | / | 天津市宝坻区恋佳便利店 | 天津 | 姜 | / | 2023.7.7 （购进日期） | 食用农产品 | 2023年第9期 | 2023.8.18 | 区抽/\\xa0\\xa0\\xa0 监督抽检 | / |\\n| DBJ23120115111036049 | 19 | / | / | 天津市宝坻区恋佳便利店 | 天津 | 鸡蛋 | / | 2023.7.11 （购进日期） | 食用农产品 | 2023年第9期 | 2023.8.18 | 区抽/\\xa0\\xa0\\xa0 监督抽检 | / |\\n| DBJ23120115111036163 | 20 | / | / | 天津市宝坻区皓欣超市 | 天津 | 豆芽 | / | 2023.7.12 （购进日期） | 食用农产品 | 2023年第9期 | 2023.8.18 | 区抽/\\xa0\\xa0\\xa0 监督抽检 | / |\\n| DBJ23120115111036164 | 21 | / | / | 天津市宝坻区皓欣超市 | 天津 | 沃柑 | / | 2023.7.1 （购进日期） | 食用农产品 | 2023年第9期 | 2023.8.18 | 区抽/\\xa0\\xa0\\xa0 监督抽检 | / |\\n| DBJ23120115111036247 | 22 | / | / | 天津市宝坻区涵雅便利店 | 天津 | 鸡蛋 | / | 2023.7.12 （购进日期） | 食用农产品 | 2023年第9期 | 2023.8.18 | 区抽/\\xa0\\xa0\\xa0 监督抽检 | / |\\n| DBJ23120115111036363 | 23 | / | / | 天津市宝坻区万鲜岛便利店 | 天津 | 芹菜 | / | 2023.7.17 （购进日期） | 食用农产品 | 2023年第9期 | 2023.8.18 | 区抽/\\xa0\\xa0\\xa0 监督抽检 | / |\\n| DBJ23120115111036366 | 24 | / | / | 天津市宝坻区万鲜岛便利店 | 天津 | 姜 | / | 2023.7.17 （购进日期） | 食用农产品 | 2023年第9期 | 2023.8.18 | 区抽/\\xa0\\xa0\\xa0 监督抽检 | / |\\n| DBJ23120115111036398 | 25 | / | / | 天津市宝坻区桃李苑百货商店 | 天津 | 姜 | / | 2023.7.17 （购进日期） | 食用农产品 | 2023年第9期 | 2023.8.18 | 区抽/\\xa0\\xa0\\xa0 监督抽检 | / |\\n| DBJ23120115111036397 | 26 | / | / | 天津市宝坻区桃李苑百货商店 | 天津 | 鸡蛋 | / | 2023.7.15 （购进日期） | 食用农产品 | 2023年第9期 | 2023.8.18 | 区抽/\\xa0\\xa0\\xa0 监督抽检 | / |\\n| DBJ23120115111036454 | 27 | / | / | 天津市宝坻区百果荟水果经营店 | 天津 | 田弯弯茂谷柑 | / | 2023.6.21 （购进日期） | 食用农产品 | 2023年第9期 | 2023.8.18 | 区抽/\\xa0\\xa0\\xa0 监督抽检 | / |\\n| DBJ23120115111036490 | 28 | / | / | 天津市宝坻区新园便利店 | 天津 | 豇豆 | / | 2023.7.18 （购进日期） | 食用农产品 | 2023年第9期 | 2023.8.18 | 区抽/\\xa0\\xa0\\xa0 监督抽检 | / |\\n| DBJ23120115111036491 | 29 | / | / | 天津市宝坻区新园便利店 | 天津 | 鸡蛋 | / | 2023.7.18 （购进日期） | 食用农产品 | 2023年第9期 | 2023.8.18 | 区抽/\\xa0\\xa0\\xa0 监督抽检 | / |\\n\\n| 抽样编号 | 序号 | 标称生产企业名称 | 标称生产企业地址 | 被抽样单位名称 | 被抽样单位所在省份 | 食品名称 | 规格型号 | 生产日期/批号 | 分类 | 公告号 | 公告日期 | 任务来源/项目名称 | 备注 |\\n|---|---|---|---|---|---|---|---|---|---|---|---|---|---|\\n| DBJ23120115110733887 | 1 | 广州立旺食品有限公司 | 广东省广州经济技术开发区永和经济区新元路3号 | 天津市宝坻区鑫佰悦百货店 | 天津 | 旺仔牛奶糖（原味）奶糖糖果 | 318g/袋 | 2023/3/30 | 糖果制品 | 2023年第9期 | 2023.8.18 | 区抽/\\xa0\\xa0\\xa0 监督抽检 | / |\\n| DBJ23120115110733888 | 2 | 可口可乐装瓶商生产（济南）有限公司 | 济南市章丘区经十东路7799号 | 天津市宝坻区鑫佰悦百货店 | 天津 | 槐花风味葡萄汁饮料 | 420ml/瓶 | 2023-04-27 | 饮料 | 2023年第9期 | 2023.8.18 | 区抽/\\xa0\\xa0\\xa0 监督抽检 | / |\\n| DBJ23120115110733889 | 3 | 商丘市同福食品有限公司 | 商丘市睢阳区珠江西路与振兴路交叉口 | 天津宝坻区尚优品便利超市店 | 天津 | 牛肉汤安格斯肥牛捞面 | 净含量：113克/包 （面饼+配料）面饼：90克/包 | 2023-05-09 | 方便食品 | 2023年第9期 | 2023.8.18 | 区抽/\\xa0\\xa0\\xa0 监督抽检 | / |\\n| DBJ23120115110733890 | 4 | 商丘市同福食品有限公司 | 商丘市睢阳区珠江西路与振兴路交叉口 | 天津宝坻区尚优品便利超市店 | 天津 | 蟹黄拌面 | 净含量：113克/包（面饼+配料）面饼：90克 /包 | 2023-05-09 | 方便食品 | 2023年第9期 | 2023.8.18 | 区抽/\\xa0\\xa0\\xa0 监督抽检 | / |\\n| DBJ23120115110733926 | 5 | 昆仑山矿泉水有限公司 | 青海省格尔木市西大滩雪峰路8号 | 天津市宝坻区新世纪副食批发部 | 天津 | 昆仑山雪山矿泉水 | 550mL/瓶 | 2022-05-17 | 饮料 | 2023年第9期 | 2023.8.18 | 区抽/\\xa0\\xa0\\xa0 监督抽检 | / |\\n| DBJ23120115110733927 | 6 | 山东泽雨饮品有限公司 | 山东省德州市平原县三唐乡101省道中段路西 | 天津市宝坻区新世纪副食批发部 | 天津 | 甜橙味碳酸饮料 | 500mL/瓶 | 2023-04-16 | 饮料 | 2023年第9期 | 2023.8.18 | 区抽/\\xa0\\xa0\\xa0 监督抽检 | / |\\n| DBJ23120115110733928 | 7 | 颐海（郑州）食品有限公司 | 郑州市高新区紫竹路东玉兰西街南 | 天津市宝坻区吴瑶百货商店 | 天津 | 三鲜火锅底料 | 200克/袋 | 2023-02-05 | 调味品 | 2023年第9期 | 2023.8.18 | 区抽/\\xa0\\xa0\\xa0 监督抽检 | / |\\n| DBJ23120115110733932 | 8 | 北京万方酿造厂 | 北京市顺义区马坡镇衙门村 | 天津市宝坻区建家业百货商店 | 天津 | 中粮厨师料酒（调味料酒） | 500毫升/瓶 酒精度：≥10%vol | 2022-03-01 | 调味品 | 2023年第9期 | 2023.8.18 | 区抽/\\xa0\\xa0\\xa0 监督抽检 | / |\\n| DBJ23120115110733933 | 9 | 周口金丝猴食品有限公司 | 沈丘县沙南产业集聚区 | 天津市宝坻区建家业百货商店 | 天津 | 代可可脂黑巧克力 | 50克/盒 | 2022-12-24 | 糖果制品 | 2023年第9期 | 2023.8.18 | 区抽/\\xa0\\xa0\\xa0 监督抽检 | / |\\n| DBJ23120115110733938 | 10 | 保定六合食品有限公司 | 保定市徐水区长城北大街3715号 | 天津市宝坻区吴瑶百货商店 | 天津 | 金牌老板红烧牛肉面 | 总重量：110克/袋 净含量：面饼+配料107克/袋 面饼：90克/袋 | 2023-04-10 | 方便食品 | 2023年第9期 | 2023.8.18 | 区抽/\\xa0\\xa0\\xa0 监督抽检 | / |\\n| DBJ23120115110733939 | 11 | 天津市蓟牧润兴肉类工贸有限公司 | 天津市蓟州区别山镇南京哈公路南侧 | 天津市宝坻区客尽欢百货商店 | 天津 | 猪五花肉 | / | 2023-06-27（检疫日期） | 食用农产品 | 2023年第9期 | 2023.8.18 | 区抽/\\xa0\\xa0\\xa0 监督抽检 | / |\\n| DBJ23120115110733940 | 12 | 天津市蓟牧润兴肉类工贸有限公司 | 天津市蓟州区别山镇南京哈公路南侧 | 天津市宝坻区客尽欢百货商店 | 天津 | 猪肋条肉 | / | 2023-06-27（检疫日期） | 食用农产品 | 2023年第9期 | 2023.8.18 | 区抽/\\xa0\\xa0\\xa0 监督抽检 | / |\\n| DBJ23120115110733951 | 13 | 大厂回族自治明新肉类有限公司 | 河北省廊坊市大厂回族自治县夏安路霍各庄段 | 天津市宝坻区福兴达鲜肉店 | 天津 | 牛肉 | / | 2023-06-15（检疫日期） | 食用农产品 | 2023年第9期 | 2023.8.18 | 区抽/\\xa0\\xa0\\xa0 监督抽检 | / |\\n| DBJ23120115110733952 | 14 | 廊坊宝鑫清真肉类食品有限公司 | 河北省廊坊市经济技术开发区南营村 | 天津市宝坻区福兴达鲜肉店 | 天津 | 羊肉 | / | 2023-06-26（检疫日期） | 食用农产品 | 2023年第9期 | 2023.8.18 | 区抽/\\xa0\\xa0\\xa0 监督抽检 | / |\\n',\n",
       " 'filename': 's3://llm-users-phdd2/jiangwenhao/article/zh-web-sina/result/v005/part-67d3d7a7a70f-000000.jsonl'}"
      ]
     },
     "execution_count": 21,
     "metadata": {},
     "output_type": "execute_result"
    }
   ],
   "source": [
    "input_review_rdd.filter(lambda x : x['track_id'] == '0e932ccc-4f8f-4dfd-aa59-fd9bf4fec27d').take(1)[0]"
   ]
  },
  {
   "cell_type": "code",
   "execution_count": null,
   "id": "82466a88-2ffd-49c6-b1cf-0ab68f304b26",
   "metadata": {},
   "outputs": [],
   "source": []
  },
  {
   "cell_type": "code",
   "execution_count": null,
   "id": "878b48a0-1bb5-40c7-a791-836b1c2d446c",
   "metadata": {},
   "outputs": [],
   "source": []
  },
  {
   "cell_type": "code",
   "execution_count": null,
   "id": "13792bb1-3633-4b03-9107-f4c9875e8bd2",
   "metadata": {
    "collapsed": true,
    "jupyter": {
     "outputs_hidden": true
    }
   },
   "outputs": [],
   "source": []
  },
  {
   "cell_type": "code",
   "execution_count": 11,
   "id": "304c9ee0-9ea9-4557-8a22-355b40501994",
   "metadata": {
    "execution": {
     "iopub.execute_input": "2025-03-14T07:52:59.555877Z",
     "iopub.status.busy": "2025-03-14T07:52:59.555291Z",
     "iopub.status.idle": "2025-03-14T07:53:19.134689Z",
     "shell.execute_reply": "2025-03-14T07:53:19.133941Z",
     "shell.execute_reply.started": "2025-03-14T07:52:59.555854Z"
    }
   },
   "outputs": [
    {
     "name": "stderr",
     "output_type": "stream",
     "text": [
      "                                                                                "
     ]
    },
    {
     "data": {
      "text/plain": [
       "MetaData(data_id='bc45da8d-6169-4713-bf67-227c8e2b1678', prompt='', content='- 17364110592\\n- 客服不处理/处理不当,不发货\\n- 赔偿,解释,作出处罚,道歉,改善服务\\n- 10元\\n- 已回复\\n', image=None, raw_data={})"
      ]
     },
     "execution_count": 11,
     "metadata": {},
     "output_type": "execute_result"
    }
   ],
   "source": [
    "from dingo.io import MetaData\n",
    "\n",
    "input_rdd = input_df.rdd\n",
    "input_rdd_format = input_rdd.map(lambda x: MetaData(\n",
    "    data_id= str(json.loads(x.value)['track_id']),\n",
    "    prompt='',\n",
    "    content=json.loads(x.value)['content_qa'],\n",
    "    # image=json.loads(x.value)['image'],\n",
    "    # raw_data = json.loads(x.value)\n",
    "))\n",
    "input_rdd_format.take(1)[0]"
   ]
  },
  {
   "cell_type": "code",
   "execution_count": null,
   "id": "0efdf002-0a89-4522-b8fe-9f23f3b32b65",
   "metadata": {},
   "outputs": [],
   "source": []
  },
  {
   "cell_type": "code",
   "execution_count": 12,
   "id": "c90f2e4b-fc4f-45ff-89de-3b785a6de14e",
   "metadata": {
    "execution": {
     "iopub.execute_input": "2025-03-14T07:53:19.136460Z",
     "iopub.status.busy": "2025-03-14T07:53:19.136075Z",
     "iopub.status.idle": "2025-03-14T07:59:46.083333Z",
     "shell.execute_reply": "2025-03-14T07:59:46.082566Z",
     "shell.execute_reply.started": "2025-03-14T07:53:19.136442Z"
    }
   },
   "outputs": [
    {
     "name": "stdout",
     "output_type": "stream",
     "text": [
      "============= Init pyspark =============\n",
      "============== Init Done ===============\n"
     ]
    },
    {
     "name": "stderr",
     "output_type": "stream",
     "text": [
      "[Stage 9:==================================================> (2234 + 44) / 2278]"
     ]
    },
    {
     "name": "stdout",
     "output_type": "stream",
     "text": [
      "{'task_id': '47253e5e-00aa-11f0-a5b2-e8ebd34ed3cc', 'task_name': 'dingo', 'eval_group': 'qa_standard_v1', 'input_path': '', 'output_path': '', 'create_time': '20250314_155319', 'finish_time': '20250314_155946', 'score': 95.69, 'num_good': 172817833, 'num_bad': 7783731, 'total': 180601564, 'type_ratio': {'QUALITY_BAD_EFFECTIVENESS': 0.043099}, 'name_ratio': {'QUALITY_BAD_EFFECTIVENESS-RuleAbnormalChar': 0.041416, 'QUALITY_BAD_EFFECTIVENESS-RuleAbnormalHtml': 0.001965}}\n"
     ]
    },
    {
     "name": "stderr",
     "output_type": "stream",
     "text": [
      "                                                                                "
     ]
    }
   ],
   "source": [
    "from pyspark import SparkConf\n",
    "\n",
    "from dingo.model.model import Model\n",
    "from dingo.io import InputArgs\n",
    "from dingo.exec import Executor\n",
    "\n",
    "input_data = {\n",
    "    \"eval_group\": \"qa_standard_v1\",\n",
    "    'input_path': 'redpajama',\n",
    "    'save_data': True,\n",
    "    # 'save_raw': True\n",
    "}\n",
    "# input_data = {\n",
    "#     \"eval_group\": \"test\",\n",
    "#     \"input_path\": \"redpajama\",  # local filesystem dataset\n",
    "#     \"save_data\": True,\n",
    "#     \"custom_config\":\n",
    "#         {\n",
    "#             \"rule_list\": [\"CommonSpecialCharacter\", \"CommonColonEnd\"],\n",
    "#             \"prompt_list\": [\"LLMRepeat\"],\n",
    "#             \"llm_config\":\n",
    "#                 {\n",
    "#                     \"detect_text_quality\":\n",
    "#                         {\n",
    "#                             \"key\": \"sk-proj-CwgXjGGBKq9vBI0Lue3jT3BlbkFJ5GnKDvQtrCmlwdHoea04\",\n",
    "#                             \"api_url\": \"http://10.140.54.48:26666/v1\",\n",
    "#                         }\n",
    "#                 }\n",
    "#         }\n",
    "# }\n",
    "# Model.apply_config(input_data['custom_config_path'])\n",
    "input_args = InputArgs(**input_data)\n",
    "executor = Executor.exec_map[\"spark\"](input_args, spark_session=spark, spark_rdd=input_rdd_format)\n",
    "result = executor.execute()\n",
    "result = result[0].to_dict()\n",
    "print(result)"
   ]
  },
  {
   "cell_type": "code",
   "execution_count": 13,
   "id": "cc100bab-a63a-4ae5-b224-2edc124798cb",
   "metadata": {
    "execution": {
     "iopub.execute_input": "2025-03-14T07:59:46.085000Z",
     "iopub.status.busy": "2025-03-14T07:59:46.084661Z",
     "iopub.status.idle": "2025-03-14T07:59:47.293810Z",
     "shell.execute_reply": "2025-03-14T07:59:47.293152Z",
     "shell.execute_reply.started": "2025-03-14T07:59:46.084981Z"
    }
   },
   "outputs": [
    {
     "name": "stderr",
     "output_type": "stream",
     "text": [
      "                                                                                "
     ]
    },
    {
     "data": {
      "text/plain": [
       "7783731"
      ]
     },
     "execution_count": 13,
     "metadata": {},
     "output_type": "execute_result"
    }
   ],
   "source": [
    "bad_info_list = executor.bad_info_list\n",
    "bad_info_list.count()"
   ]
  },
  {
   "cell_type": "code",
   "execution_count": 17,
   "id": "eeece03e-320f-45b5-8184-90294c1a03b2",
   "metadata": {
    "execution": {
     "iopub.execute_input": "2025-03-14T08:01:54.196049Z",
     "iopub.status.busy": "2025-03-14T08:01:54.195115Z",
     "iopub.status.idle": "2025-03-14T08:01:54.312489Z",
     "shell.execute_reply": "2025-03-14T08:01:54.311869Z",
     "shell.execute_reply.started": "2025-03-14T08:01:54.196024Z"
    }
   },
   "outputs": [
    {
     "data": {
      "text/plain": [
       "[{'data_id': '0e932ccc-4f8f-4dfd-aa59-fd9bf4fec27d',\n",
       "  'prompt': '',\n",
       "  'content': '中国质量新闻网讯 近日，天津市宝坻区市场监督管理局发布关于43批次食品抽样检验情况的通告（2023年第9期）。本期监督抽检涉及食用 农产品 ，糖果制品，饮料，方便食品和调味品共5大类，共计43批次样品，全部合格。\\n\\n产品合格信息\\n\\n（声明：以下信息仅指本次抽检标称的生产企业相关产品的生产日期/批号和所检项目）\\n\\n| 抽样编号 | 序号 | 标称生产企业名称 | 标称生产企业地址 | 被抽样单位名称 | 被抽样单位所在省份 | 食品名称 | 规格型号 | 生产日期/批号 | 分类 | 公告号 | 公告日期 | 任务来源/项目名称 | 备注 |\\n|---|---|---|---|---|---|---|---|---|---|---|---|---|---|\\n| DBJ23120115111035213 | 1 | / | / | 天津市宝坻区宜品生活超市 | 天津 | 尖椒 | / | 2023.6.26 （购进日期） | 食用农产品 | 2023年第9期 | 2023.8.18 | 区抽/\\xa0\\xa0\\xa0 监督抽检 | / |\\n| DBJ23120115111035214 | 2 | / | / | 天津市宝坻区宜品生活超市 | 天津 | 姜 | / | 2023.6.23 （购进日期） | 食用农产品 | 2023年第9期 | 2023.8.18 | 区抽/\\xa0\\xa0\\xa0 监督抽检 | / |\\n| DBJ23120115111035225 | 3 | / | / | 天津市宝坻区福满家水果经营店 | 天津 | 芹菜 | / | 2023.6.26 （购进日期） | 食用农产品 | 2023年第9期 | 2023.8.18 | 区抽/\\xa0\\xa0\\xa0 监督抽检 | / |\\n| DBJ23120115111035226 | 4 | / | / | 天津市宝坻区福满家水果经营店 | 天津 | 生姜 | / | 2023.6.26 （购进日期） | 食用农产品 | 2023年第9期 | 2023.8.18 | 区抽/\\xa0\\xa0\\xa0 监督抽检 | / |\\n| DBJ23120115111035261 | 5 | / | / | 天津市宝坻区绿木生百货店 | 天津 | 芹菜 | / | 2023.6.26 （购进日期） | 食用农产品 | 2023年第9期 | 2023.8.18 | 区抽/\\xa0\\xa0\\xa0 监督抽检 | / |\\n| DBJ23120115111035262 | 6 | / | / | 天津市宝坻区绿木生百货店 | 天津 | 油菜（普通白菜） | / | 2023.6.25 （购进日期） | 食用农产品 | 2023年第9期 | 2023.8.18 | 区抽/\\xa0\\xa0\\xa0 监督抽检 | / |\\n| DBJ23120115111035275 | 7 | / | / | 天津市宝坻区孔鲜生百货超市 | 天津 | 韭菜 | / | 2023.6.26 （购进日期） | 食用农产品 | 2023年第9期 | 2023.8.18 | 区抽/\\xa0\\xa0\\xa0 监督抽检 | / |\\n| DBJ23120115111035276 | 8 | / | / | 天津市宝坻区孔鲜生百货超市 | 天津 | 徐香猕猴桃 | / | 2023.6.24 （购进日期） | 食用农产品 | 2023年第9期 | 2023.8.18 | 区抽/\\xa0\\xa0\\xa0 监督抽检 | / |\\n| DBJ23120115111035447 | 9 | / | / | 天津市宝坻区四方百货商店 | 天津 | 鸡蛋 | / | 2023.6.29 （购进日期） | 食用农产品 | 2023年第9期 | 2023.8.18 | 区抽/\\xa0\\xa0\\xa0 监督抽检 | / |\\n| DBJ23120115111035771 | 10 | / | / | 天津市宝坻区青禾水果店 | 天津 | 鹅蛋柑 | / | 2023.5.28 （购进日期） | 食用农产品 | 2023年第9期 | 2023.8.18 | 区抽/\\xa0\\xa0\\xa0 监督抽检 | / |\\n| DBJ23120115111035772 | 11 | / | / | 天津市宝坻区青禾水果店 | 天津 | 猕猴桃 | / | 2023.6.22 （购进日期） | 食用农产品 | 2023年第9期 | 2023.8.18 | 区抽/\\xa0\\xa0\\xa0 监督抽检 | / |\\n| DBJ23120115111035833 | 12 | / | / | 天津市宝坻区御林源鲜果店 | 天津 | 金太阳沃柑 | / | 2023.6.17 （购进日期） | 食用农产品 | 2023年第9期 | 2023.8.18 | 区抽/\\xa0\\xa0\\xa0 监督抽检 | / |\\n| DBJ23120115111035834 | 13 | / | / | 天津市宝坻区御林源鲜果店 | 天津 | 国产香蕉 | / | 2023.7.9 （购进日期） | 食用农产品 | 2023年第9期 | 2023.8.18 | 区抽/\\xa0\\xa0\\xa0 监督抽检 | / |\\n| DBJ23120115111035896 | 14 | / | / | 天津市宝坻区广明便利店 | 天津 | 姜 | / | 2023.7.8 （购进日期） | 食用农产品 | 2023年第9期 | 2023.8.18 | 区抽/\\xa0\\xa0\\xa0 监督抽检 | / |\\n| DBJ23120115111035962 | 15 | / | / | 天津市宝坻区天爱副食商店 | 天津 | 绿豆芽 | / | 2023.7.11 （购进日期） | 食用农产品 | 2023年第9期 | 2023.8.18 | 区抽/\\xa0\\xa0\\xa0 监督抽检 | / |\\n| DBJ23120115111035963 | 16 | / | / | 天津市宝坻区天爱副食商店 | 天津 | 芹菜 | / | 2023.7.11 （购进日期） | 食用农产品 | 2023年第9期 | 2023.8.18 | 区抽/\\xa0\\xa0\\xa0 监督抽检 | / |\\n| DBJ23120115111035897 | 17 | / | / | 天津市宝坻区广明便利店 | 天津 | 鸡蛋 | / | 2023.7.10 （购进日期） | 食用农产品 | 2023年第9期 | 2023.8.18 | 区抽/\\xa0\\xa0\\xa0 监督抽检 | / |\\n| DBJ23120115111036054 | 18 | / | / | 天津市宝坻区恋佳便利店 | 天津 | 姜 | / | 2023.7.7 （购进日期） | 食用农产品 | 2023年第9期 | 2023.8.18 | 区抽/\\xa0\\xa0\\xa0 监督抽检 | / |\\n| DBJ23120115111036049 | 19 | / | / | 天津市宝坻区恋佳便利店 | 天津 | 鸡蛋 | / | 2023.7.11 （购进日期） | 食用农产品 | 2023年第9期 | 2023.8.18 | 区抽/\\xa0\\xa0\\xa0 监督抽检 | / |\\n| DBJ23120115111036163 | 20 | / | / | 天津市宝坻区皓欣超市 | 天津 | 豆芽 | / | 2023.7.12 （购进日期） | 食用农产品 | 2023年第9期 | 2023.8.18 | 区抽/\\xa0\\xa0\\xa0 监督抽检 | / |\\n| DBJ23120115111036164 | 21 | / | / | 天津市宝坻区皓欣超市 | 天津 | 沃柑 | / | 2023.7.1 （购进日期） | 食用农产品 | 2023年第9期 | 2023.8.18 | 区抽/\\xa0\\xa0\\xa0 监督抽检 | / |\\n| DBJ23120115111036247 | 22 | / | / | 天津市宝坻区涵雅便利店 | 天津 | 鸡蛋 | / | 2023.7.12 （购进日期） | 食用农产品 | 2023年第9期 | 2023.8.18 | 区抽/\\xa0\\xa0\\xa0 监督抽检 | / |\\n| DBJ23120115111036363 | 23 | / | / | 天津市宝坻区万鲜岛便利店 | 天津 | 芹菜 | / | 2023.7.17 （购进日期） | 食用农产品 | 2023年第9期 | 2023.8.18 | 区抽/\\xa0\\xa0\\xa0 监督抽检 | / |\\n| DBJ23120115111036366 | 24 | / | / | 天津市宝坻区万鲜岛便利店 | 天津 | 姜 | / | 2023.7.17 （购进日期） | 食用农产品 | 2023年第9期 | 2023.8.18 | 区抽/\\xa0\\xa0\\xa0 监督抽检 | / |\\n| DBJ23120115111036398 | 25 | / | / | 天津市宝坻区桃李苑百货商店 | 天津 | 姜 | / | 2023.7.17 （购进日期） | 食用农产品 | 2023年第9期 | 2023.8.18 | 区抽/\\xa0\\xa0\\xa0 监督抽检 | / |\\n| DBJ23120115111036397 | 26 | / | / | 天津市宝坻区桃李苑百货商店 | 天津 | 鸡蛋 | / | 2023.7.15 （购进日期） | 食用农产品 | 2023年第9期 | 2023.8.18 | 区抽/\\xa0\\xa0\\xa0 监督抽检 | / |\\n| DBJ23120115111036454 | 27 | / | / | 天津市宝坻区百果荟水果经营店 | 天津 | 田弯弯茂谷柑 | / | 2023.6.21 （购进日期） | 食用农产品 | 2023年第9期 | 2023.8.18 | 区抽/\\xa0\\xa0\\xa0 监督抽检 | / |\\n| DBJ23120115111036490 | 28 | / | / | 天津市宝坻区新园便利店 | 天津 | 豇豆 | / | 2023.7.18 （购进日期） | 食用农产品 | 2023年第9期 | 2023.8.18 | 区抽/\\xa0\\xa0\\xa0 监督抽检 | / |\\n| DBJ23120115111036491 | 29 | / | / | 天津市宝坻区新园便利店 | 天津 | 鸡蛋 | / | 2023.7.18 （购进日期） | 食用农产品 | 2023年第9期 | 2023.8.18 | 区抽/\\xa0\\xa0\\xa0 监督抽检 | / |\\n\\n| 抽样编号 | 序号 | 标称生产企业名称 | 标称生产企业地址 | 被抽样单位名称 | 被抽样单位所在省份 | 食品名称 | 规格型号 | 生产日期/批号 | 分类 | 公告号 | 公告日期 | 任务来源/项目名称 | 备注 |\\n|---|---|---|---|---|---|---|---|---|---|---|---|---|---|\\n| DBJ23120115110733887 | 1 | 广州立旺食品有限公司 | 广东省广州经济技术开发区永和经济区新元路3号 | 天津市宝坻区鑫佰悦百货店 | 天津 | 旺仔牛奶糖（原味）奶糖糖果 | 318g/袋 | 2023/3/30 | 糖果制品 | 2023年第9期 | 2023.8.18 | 区抽/\\xa0\\xa0\\xa0 监督抽检 | / |\\n| DBJ23120115110733888 | 2 | 可口可乐装瓶商生产（济南）有限公司 | 济南市章丘区经十东路7799号 | 天津市宝坻区鑫佰悦百货店 | 天津 | 槐花风味葡萄汁饮料 | 420ml/瓶 | 2023-04-27 | 饮料 | 2023年第9期 | 2023.8.18 | 区抽/\\xa0\\xa0\\xa0 监督抽检 | / |\\n| DBJ23120115110733889 | 3 | 商丘市同福食品有限公司 | 商丘市睢阳区珠江西路与振兴路交叉口 | 天津宝坻区尚优品便利超市店 | 天津 | 牛肉汤安格斯肥牛捞面 | 净含量：113克/包 （面饼+配料）面饼：90克/包 | 2023-05-09 | 方便食品 | 2023年第9期 | 2023.8.18 | 区抽/\\xa0\\xa0\\xa0 监督抽检 | / |\\n| DBJ23120115110733890 | 4 | 商丘市同福食品有限公司 | 商丘市睢阳区珠江西路与振兴路交叉口 | 天津宝坻区尚优品便利超市店 | 天津 | 蟹黄拌面 | 净含量：113克/包（面饼+配料）面饼：90克 /包 | 2023-05-09 | 方便食品 | 2023年第9期 | 2023.8.18 | 区抽/\\xa0\\xa0\\xa0 监督抽检 | / |\\n| DBJ23120115110733926 | 5 | 昆仑山矿泉水有限公司 | 青海省格尔木市西大滩雪峰路8号 | 天津市宝坻区新世纪副食批发部 | 天津 | 昆仑山雪山矿泉水 | 550mL/瓶 | 2022-05-17 | 饮料 | 2023年第9期 | 2023.8.18 | 区抽/\\xa0\\xa0\\xa0 监督抽检 | / |\\n| DBJ23120115110733927 | 6 | 山东泽雨饮品有限公司 | 山东省德州市平原县三唐乡101省道中段路西 | 天津市宝坻区新世纪副食批发部 | 天津 | 甜橙味碳酸饮料 | 500mL/瓶 | 2023-04-16 | 饮料 | 2023年第9期 | 2023.8.18 | 区抽/\\xa0\\xa0\\xa0 监督抽检 | / |\\n| DBJ23120115110733928 | 7 | 颐海（郑州）食品有限公司 | 郑州市高新区紫竹路东玉兰西街南 | 天津市宝坻区吴瑶百货商店 | 天津 | 三鲜火锅底料 | 200克/袋 | 2023-02-05 | 调味品 | 2023年第9期 | 2023.8.18 | 区抽/\\xa0\\xa0\\xa0 监督抽检 | / |\\n| DBJ23120115110733932 | 8 | 北京万方酿造厂 | 北京市顺义区马坡镇衙门村 | 天津市宝坻区建家业百货商店 | 天津 | 中粮厨师料酒（调味料酒） | 500毫升/瓶 酒精度：≥10%vol | 2022-03-01 | 调味品 | 2023年第9期 | 2023.8.18 | 区抽/\\xa0\\xa0\\xa0 监督抽检 | / |\\n| DBJ23120115110733933 | 9 | 周口金丝猴食品有限公司 | 沈丘县沙南产业集聚区 | 天津市宝坻区建家业百货商店 | 天津 | 代可可脂黑巧克力 | 50克/盒 | 2022-12-24 | 糖果制品 | 2023年第9期 | 2023.8.18 | 区抽/\\xa0\\xa0\\xa0 监督抽检 | / |\\n| DBJ23120115110733938 | 10 | 保定六合食品有限公司 | 保定市徐水区长城北大街3715号 | 天津市宝坻区吴瑶百货商店 | 天津 | 金牌老板红烧牛肉面 | 总重量：110克/袋 净含量：面饼+配料107克/袋 面饼：90克/袋 | 2023-04-10 | 方便食品 | 2023年第9期 | 2023.8.18 | 区抽/\\xa0\\xa0\\xa0 监督抽检 | / |\\n| DBJ23120115110733939 | 11 | 天津市蓟牧润兴肉类工贸有限公司 | 天津市蓟州区别山镇南京哈公路南侧 | 天津市宝坻区客尽欢百货商店 | 天津 | 猪五花肉 | / | 2023-06-27（检疫日期） | 食用农产品 | 2023年第9期 | 2023.8.18 | 区抽/\\xa0\\xa0\\xa0 监督抽检 | / |\\n| DBJ23120115110733940 | 12 | 天津市蓟牧润兴肉类工贸有限公司 | 天津市蓟州区别山镇南京哈公路南侧 | 天津市宝坻区客尽欢百货商店 | 天津 | 猪肋条肉 | / | 2023-06-27（检疫日期） | 食用农产品 | 2023年第9期 | 2023.8.18 | 区抽/\\xa0\\xa0\\xa0 监督抽检 | / |\\n| DBJ23120115110733951 | 13 | 大厂回族自治明新肉类有限公司 | 河北省廊坊市大厂回族自治县夏安路霍各庄段 | 天津市宝坻区福兴达鲜肉店 | 天津 | 牛肉 | / | 2023-06-15（检疫日期） | 食用农产品 | 2023年第9期 | 2023.8.18 | 区抽/\\xa0\\xa0\\xa0 监督抽检 | / |\\n| DBJ23120115110733952 | 14 | 廊坊宝鑫清真肉类食品有限公司 | 河北省廊坊市经济技术开发区南营村 | 天津市宝坻区福兴达鲜肉店 | 天津 | 羊肉 | / | 2023-06-26（检疫日期） | 食用农产品 | 2023年第9期 | 2023.8.18 | 区抽/\\xa0\\xa0\\xa0 监督抽检 | / |\\n',\n",
       "  'error_status': True,\n",
       "  'type_list': ['QUALITY_BAD_EFFECTIVENESS'],\n",
       "  'name_list': ['QUALITY_BAD_EFFECTIVENESS-RuleAbnormalChar'],\n",
       "  'reason_list': ['\\xa0'],\n",
       "  'raw_data': {}},\n",
       " {'data_id': '39eee49d-3197-4d88-9b85-ff87e57fb8b5',\n",
       "  'prompt': '',\n",
       "  'content': '近期，重庆两江新区市场监督管理局组织抽检食品1批次样品，抽样检验项目不合格样品1批次。样品信息详见附件。根据食品安全国家标准，个别项目不合格，其产品即判定为不合格产品。监督抽检产品信息详见附件。\\n\\n所在地市场监督管理部门已按《中华人民共和国食品安全法》的要求，对上述抽检中发现的不合格产品，依法启动查处工作，同时已采取风险控制措施，查清产品流向，召回、下架不合格产品，分析原因并进行整改。\\n\\n特此通告。\\n\\n重庆两江新区市场监督管理局\\n\\n2023年12月13日\\n\\n<table><tr><td colspan=\"11\">监督抽检不合格产品信息\\xa0\\xa0\\xa0\\xa0\\xa0\\xa0\\xa0\\xa0\\xa0\\xa0\\xa0\\xa0\\xa0\\xa0\\xa0 \\xa0 \\xa0 （声明：以下信息仅指本次抽检标称的生产企业相关产品的生产日期/批号和所检项目)</td></tr><tr><td>序号</td><td>标识生产企业名称</td><td>标识生产企业地址</td><td>被抽样单位名称</td><td>被抽样单位地址</td><td>食品名称</td><td>规格型号</td><td>商标</td><td>生产/购进/检疫日期</td><td>不合格项目║检验结果║标准值</td><td>检验机构</td></tr><tr><td>1</td><td>/</td><td>/</td><td>两江新区水土镇真爱吾爱百货超市</td><td>重庆市两江新区水土街道泰和路533、535、537、539、559号</td><td>猪（胴体/白条）（里脊肉）</td><td>/</td><td>/</td><td>2023-10-26（检疫日期）</td><td>磺胺类（总量）║176µg/kg║≤100µg/kg；甲氧苄啶║174µg/kg║≤50µg/kg；恩诺沙星║491µg/kg║≤100µg/kg</td><td>重庆市食品药品检验检测研究院</td></tr></table>\\n\\n海量资讯、精准解读，尽在新浪财经APP\\n',\n",
       "  'error_status': True,\n",
       "  'type_list': ['QUALITY_BAD_EFFECTIVENESS'],\n",
       "  'name_list': ['QUALITY_BAD_EFFECTIVENESS-RuleAbnormalChar'],\n",
       "  'reason_list': ['\\xa0'],\n",
       "  'raw_data': {}},\n",
       " {'data_id': '2f223da7-aa86-4bf5-bc6d-6fd89be9874e',\n",
       "  'prompt': '',\n",
       "  'content': '转自：石家庄日报\\n\\n相约自贸区 共享新商机\\n\\n□交通便利 市区地铁公交直达传媒大厦\\n\\n□质量保证 荣获中国建设工程鲁班奖\\n\\n□精品装修 拎包入驻、办公空间自主选择\\n\\n□黄金地段 中国（河北）自由贸易试验区正定片区\\n\\n□配套齐全 视频会议、商务酒店、员工餐厅一应俱全\\n\\n招商热线：17733851230\\n\\n13663112721\\n\\n项目地址：石家庄市正定新区新城大街与和谐路交叉口西南角传媒大厦\\n',\n",
       "  'error_status': True,\n",
       "  'type_list': ['QUALITY_BAD_EFFECTIVENESS'],\n",
       "  'name_list': ['QUALITY_BAD_EFFECTIVENESS-RuleAbnormalChar'],\n",
       "  'reason_list': ['□'],\n",
       "  'raw_data': {}},\n",
       " {'data_id': 'dabf361d-1429-4070-ae7d-9e8278f8b243',\n",
       "  'prompt': '',\n",
       "  'content': '鎻愯\\ue6e6锛氬悍鍔涚數姊\\ue21a叆閫夆��2024骞磋嫃宸炲競杩戦浂纰冲伐鍘傗��\\n',\n",
       "  'error_status': True,\n",
       "  'type_list': ['QUALITY_BAD_EFFECTIVENESS'],\n",
       "  'name_list': ['QUALITY_BAD_EFFECTIVENESS-RuleAbnormalChar'],\n",
       "  'reason_list': ['�'],\n",
       "  'raw_data': {}},\n",
       " {'data_id': '1c95da96-c65a-438e-b09d-55091466e28f',\n",
       "  'prompt': '',\n",
       "  'content': '1/ 8 游园惊梦?游天翼✨ 摄影：乙南?\\u200d♀️：于兵 好喜欢绿裙子这套！\\n\\n2/ 8 游园惊梦?游天翼✨ 摄影：乙南?\\u200d♀️：于兵 好喜欢绿裙子这套！\\n\\n3/ 8 游园惊梦?游天翼✨ 摄影：乙南?\\u200d♀️：于兵 好喜欢绿裙子这套！\\n\\n4/ 8 游园惊梦?游天翼✨ 摄影：乙南?\\u200d♀️：于兵 好喜欢绿裙子这套！\\n\\n5/ 8 游园惊梦?游天翼✨ 摄影：乙南?\\u200d♀️：于兵 好喜欢绿裙子这套！\\n\\n6/ 8 游园惊梦?游天翼✨ 摄影：乙南?\\u200d♀️：于兵 好喜欢绿裙子这套！\\n\\n7/ 8 游园惊梦?游天翼✨ 摄影：乙南?\\u200d♀️：于兵 好喜欢绿裙子这套！\\n\\n8/ 8 游园惊梦?游天翼✨ 摄影：乙南?\\u200d♀️：于兵 好喜欢绿裙子这套！\\n',\n",
       "  'error_status': True,\n",
       "  'type_list': ['QUALITY_BAD_EFFECTIVENESS'],\n",
       "  'name_list': ['QUALITY_BAD_EFFECTIVENESS-RuleAbnormalChar'],\n",
       "  'reason_list': ['\\u200d'],\n",
       "  'raw_data': {}}]"
      ]
     },
     "execution_count": 17,
     "metadata": {},
     "output_type": "execute_result"
    }
   ],
   "source": [
    "# 4622\n",
    "bad_info_list.take(5)"
   ]
  },
  {
   "cell_type": "code",
   "execution_count": 3,
   "id": "0f9d3887-8140-4cb7-9481-b18cdcd5817a",
   "metadata": {
    "execution": {
     "iopub.execute_input": "2025-03-13T11:24:11.985087Z",
     "iopub.status.busy": "2025-03-13T11:24:11.984525Z",
     "iopub.status.idle": "2025-03-13T11:24:13.443619Z",
     "shell.execute_reply": "2025-03-13T11:24:13.443066Z",
     "shell.execute_reply.started": "2025-03-13T11:24:11.985065Z"
    }
   },
   "outputs": [
    {
     "data": {
      "text/html": [
       "\n",
       "            <div>\n",
       "                <p><b>SparkSession - hive</b></p>\n",
       "                \n",
       "        <div>\n",
       "            <p><b>SparkContext</b></p>\n",
       "\n",
       "            <p><a href=\"http://10.140.84.27:33548\">Spark UI</a></p>\n",
       "\n",
       "            <dl>\n",
       "              <dt>Version</dt>\n",
       "                <dd><code>v3.4.1</code></dd>\n",
       "              <dt>Master</dt>\n",
       "                <dd><code>yarn</code></dd>\n",
       "              <dt>AppName</dt>\n",
       "                <dd><code>dingo-puyu3-hf</code></dd>\n",
       "            </dl>\n",
       "        </div>\n",
       "        \n",
       "            </div>\n",
       "        "
      ],
      "text/plain": [
       "<pyspark.sql.session.SparkSession at 0x7f963c97f130>"
      ]
     },
     "execution_count": 3,
     "metadata": {},
     "output_type": "execute_result"
    }
   ],
   "source": [
    "spark"
   ]
  },
  {
   "cell_type": "code",
   "execution_count": null,
   "id": "a636918e-8e9d-4dad-8ddd-e17a6e93c0a8",
   "metadata": {},
   "outputs": [],
   "source": []
  },
  {
   "cell_type": "code",
   "execution_count": 169,
   "id": "ca373d0d-2747-4c45-b01a-db3dfc632ee2",
   "metadata": {
    "execution": {
     "iopub.execute_input": "2025-03-11T11:28:12.027299Z",
     "iopub.status.busy": "2025-03-11T11:28:12.026849Z",
     "iopub.status.idle": "2025-03-11T11:28:12.726288Z",
     "shell.execute_reply": "2025-03-11T11:28:12.725692Z",
     "shell.execute_reply.started": "2025-03-11T11:28:12.027277Z"
    }
   },
   "outputs": [
    {
     "data": {
      "text/plain": [
       "[{'data_id': '09f8f69f-b138-4c96-a2e0-175b2e0cc77e',\n",
       "  'prompt': '',\n",
       "  'content': 'https://qoqi.nju.edu.cn/zw/yjfx/index.html\\n\\nhttp://www.iop.cas.cn/xshd/cqjz/202005/t20200514_5579644.html\\n',\n",
       "  'error_status': True,\n",
       "  'type_list': ['QUALITY_BAD_EFFECTIVENESS'],\n",
       "  'name_list': ['QUALITY_BAD_EFFECTIVENESS-RuleOnlyUrl'],\n",
       "  'reason_list': ['Content is only an url link.'],\n",
       "  'raw_data': {}},\n",
       " {'data_id': 'c383760e-e26a-419b-9a73-a36f0fb7ed6d',\n",
       "  'prompt': '',\n",
       "  'content': 'https://m.tb.cn/h.ULpFVjg?tk=q8MmdiEVrHy\\n\\nhttps://m.tb.cn/h.ULpvrNq?tk=kYjjdiE4Hkn\\n',\n",
       "  'error_status': True,\n",
       "  'type_list': ['QUALITY_BAD_EFFECTIVENESS'],\n",
       "  'name_list': ['QUALITY_BAD_EFFECTIVENESS-RuleOnlyUrl'],\n",
       "  'reason_list': ['Content is only an url link.'],\n",
       "  'raw_data': {}},\n",
       " {'data_id': 'c745638d-1ac9-494d-9f34-27642ca1e8c7',\n",
       "  'prompt': '',\n",
       "  'content': 'https://recordcdn.quklive.com/broadcast/activity/1703846303065389/record.m3u8\\n\\nhttps://oss-kbw.hbjt.com.cn/video_cover/2023/12/c2dc1a39-904f-4968-b0ff-2bce78112461.jpg?1600*900\\n',\n",
       "  'error_status': True,\n",
       "  'type_list': ['QUALITY_BAD_EFFECTIVENESS'],\n",
       "  'name_list': ['QUALITY_BAD_EFFECTIVENESS-RuleOnlyUrl'],\n",
       "  'reason_list': ['Content is only an url link.'],\n",
       "  'raw_data': {}},\n",
       " {'data_id': '54687237-eda2-4edf-a686-3998a0cbeaa1',\n",
       "  'prompt': '',\n",
       "  'content': 'https://qjrboss.newaircloud.com/qjrb/pic/202411/29/f4b09ffc-948c-4856-9ccd-ed95fd285a3c.png https://qjrboss.newaircloud.com/qjrb/pic/202411/29/05c493d4-fde4-44bb-95ee-d521164528f1.png https://qjrboss.newaircloud.com/qjrb/pic/202411/29/d99a9cf6-cdbe-4510-9c1e-63ea4d3bf65c.jpg https://qjrboss.newaircloud.com/qjrb/pic/202411/29/a68ecc3a-4a2d-4f50-9b3a-803c94ffb26a.jpg https://qjrboss.newaircloud.com/qjrb/pic/202411/29/4fd2c159-870c-445a-b0cd-3c61f6bed67d.jpg https://qjrboss.newaircloud.com/qjrb/pic/202411/29/4d3c0e2e-d8ff-4fde-b330-54cbb52b733b.jpg https://qjrboss.newaircloud.com/qjrb/pic/202411/29/bb2116ad-1adf-Ea9f-9047-56fdb230f4Ea.jpg https://qjrboss.newaircloud.com/qjrb/pic/202411/29/0a24e982-04ad-4206-bb32-0335c7768cc1.jpg https://qjrboss.newaircloud.com/qjrb/pic/202411/29/f7dcbb05-986f-4e86-9061-260bcf80b5b8.jpg https://qjrboss.newaircloud.com/qjrb/pic/202411/29/893dc1af-6262-42b1-a82a-51eec2edc163.jpg https://qjrboss.newaircloud.com/qjrb/pic/202411/29/985bbdea-98a9-4f09-80d5-1b975b9ca60d.jpg https://qjrboss.newaircloud.com/qjrb/pic/202411/29/3b500395-c00e-4af3-8c65-0a71379487cb.jpg https://qjrboss.newaircloud.com/qjrb/pic/202411/29/95ce59e2-2ad8-453b-8255-3741911b9288.jpg https://qjrboss.newaircloud.com/qjrb/pic/202411/29/cad167da-136a-414f-aa07-8fa16677c364.jpg https://qjrboss.newaircloud.com/qjrb/pic/202411/29/5aad16fc-3c99-4b5e-8a7d-bbf6d1b56a39.jpg https://qjrboss.newaircloud.com/qjrb/pic/202411/29/2a35784e-42d8-4903-b158-fb9c3a32f906.jpg\\n',\n",
       "  'error_status': True,\n",
       "  'type_list': ['QUALITY_BAD_EFFECTIVENESS'],\n",
       "  'name_list': ['QUALITY_BAD_EFFECTIVENESS-RuleOnlyUrl'],\n",
       "  'reason_list': ['Content is only an url link.'],\n",
       "  'raw_data': {}},\n",
       " {'data_id': '90658549-8f9e-466f-a3ab-f9f353ae582d',\n",
       "  'prompt': '',\n",
       "  'content': 'https://m.tb.cn/h.Uoxn95y?tk=ggkPdiD7y1R\\n\\nhttps://m.tb.cn/h.UpQKUd8?tk=TGZ0diDiz4U\\n',\n",
       "  'error_status': True,\n",
       "  'type_list': ['QUALITY_BAD_EFFECTIVENESS'],\n",
       "  'name_list': ['QUALITY_BAD_EFFECTIVENESS-RuleOnlyUrl'],\n",
       "  'reason_list': ['Content is only an url link.'],\n",
       "  'raw_data': {}}]"
      ]
     },
     "execution_count": 169,
     "metadata": {},
     "output_type": "execute_result"
    }
   ],
   "source": [
    "# QUALITY_BAD_EFFECTIVENESS-RuleInvisibleChar :1759  list code\n",
    "# QUALITY_BAD_EFFECTIVENESS-RuleContentShort :  932 解决\n",
    "# QUALITY_BAD_EFFECTIVENESS-RuleHtmlEntity :1722 table\n",
    "# QUALITY_BAD_EFFECTIVENESS-RuleOnlyUrl : 181 已解决\n",
    "# QUALITY_BAD_EFFECTIVENESS-RuleSpecialCharacter : 6 未发现\n",
    "bad_info_list.filter(lambda x :x['name_list'] ==['QUALITY_BAD_EFFECTIVENESS-RuleOnlyUrl']).take(5)"
   ]
  },
  {
   "cell_type": "code",
   "execution_count": 107,
   "id": "9178aefc-9e0c-418b-bf2a-3a0b6c10e350",
   "metadata": {
    "execution": {
     "iopub.execute_input": "2025-03-11T06:15:46.087314Z",
     "iopub.status.busy": "2025-03-11T06:15:46.087168Z",
     "iopub.status.idle": "2025-03-11T06:15:46.420380Z",
     "shell.execute_reply": "2025-03-11T06:15:46.419814Z",
     "shell.execute_reply.started": "2025-03-11T06:15:46.087300Z"
    }
   },
   "outputs": [
    {
     "ename": "Exception",
     "evalue": "s3 dir [s3://llm-users/qa/hf/redpajama/summary_1121/] is already existed.",
     "output_type": "error",
     "traceback": [
      "\u001b[0;31m---------------------------------------------------------------------------\u001b[0m",
      "\u001b[0;31mException\u001b[0m                                 Traceback (most recent call last)",
      "Cell \u001b[0;32mIn[107], line 2\u001b[0m\n\u001b[1;32m      1\u001b[0m summary_path \u001b[38;5;241m=\u001b[39m \u001b[38;5;124m\"\u001b[39m\u001b[38;5;124ms3://llm-users/qa/hf/redpajama/summary_1121/\u001b[39m\u001b[38;5;124m\"\u001b[39m\n\u001b[0;32m----> 2\u001b[0m \u001b[43mwrite_any_path\u001b[49m\u001b[43m(\u001b[49m\u001b[43mresult\u001b[49m\u001b[43m,\u001b[49m\u001b[43m \u001b[49m\u001b[43msummary_path\u001b[49m\u001b[43m,\u001b[49m\u001b[43m \u001b[49m\u001b[43mconfig\u001b[49m\u001b[43m)\u001b[49m\n",
      "File \u001b[0;32m/share/dataproc/code-clean/app/common/spark_ext/write_ext.py:174\u001b[0m, in \u001b[0;36mwrite_any_path\u001b[0;34m(output, path, config)\u001b[0m\n\u001b[1;32m    171\u001b[0m     \u001b[38;5;28;01mraise\u001b[39;00m \u001b[38;5;167;01mException\u001b[39;00m(\u001b[38;5;124m\"\u001b[39m\u001b[38;5;124mStreaming DF can only write to kafka.\u001b[39m\u001b[38;5;124m\"\u001b[39m)\n\u001b[1;32m    173\u001b[0m \u001b[38;5;28;01mif\u001b[39;00m is_s3_path(path):\n\u001b[0;32m--> 174\u001b[0m     \u001b[38;5;28;01mreturn\u001b[39;00m \u001b[43m__write_s3_path\u001b[49m\u001b[43m(\u001b[49m\u001b[43moutput\u001b[49m\u001b[43m,\u001b[49m\u001b[43m \u001b[49m\u001b[43mpath\u001b[49m\u001b[43m,\u001b[49m\u001b[43m \u001b[49m\u001b[43mconfig\u001b[49m\u001b[43m)\u001b[49m\n\u001b[1;32m    176\u001b[0m m \u001b[38;5;241m=\u001b[39m __re_kudu_path\u001b[38;5;241m.\u001b[39mmatch(path)\n\u001b[1;32m    177\u001b[0m \u001b[38;5;28;01mif\u001b[39;00m m:\n",
      "File \u001b[0;32m/share/dataproc/code-clean/app/common/spark_ext/write_ext.py:31\u001b[0m, in \u001b[0;36m__write_s3_path\u001b[0;34m(output, path, config)\u001b[0m\n\u001b[1;32m     28\u001b[0m \u001b[38;5;28;01melse\u001b[39;00m:  \u001b[38;5;66;03m# type(output) not in [dict, tuple]\u001b[39;00m\n\u001b[1;32m     29\u001b[0m     output_df \u001b[38;5;241m=\u001b[39m output\n\u001b[0;32m---> 31\u001b[0m \u001b[38;5;28;01mreturn\u001b[39;00m \u001b[43mwrite_to_s3\u001b[49m\u001b[43m(\u001b[49m\u001b[43moutput_df\u001b[49m\u001b[43m,\u001b[49m\u001b[43m \u001b[49m\u001b[43moutput_dict\u001b[49m\u001b[43m,\u001b[49m\u001b[43m \u001b[49m\u001b[43mpath\u001b[49m\u001b[43m,\u001b[49m\u001b[43m \u001b[49m\u001b[43mconfig\u001b[49m\u001b[43m)\u001b[49m\n",
      "File \u001b[0;32m/share/dataproc/code-clean/app/common/s3_writer.py:127\u001b[0m, in \u001b[0;36mwrite_to_s3\u001b[0;34m(output_df, output_stat, output_path, config)\u001b[0m\n\u001b[1;32m    125\u001b[0m     \u001b[38;5;28;01mraise\u001b[39;00m \u001b[38;5;167;01mException\u001b[39;00m(\u001b[38;5;124mf\u001b[39m\u001b[38;5;124m\"\u001b[39m\u001b[38;5;124moutput path [\u001b[39m\u001b[38;5;132;01m{\u001b[39;00moutput_path\u001b[38;5;132;01m}\u001b[39;00m\u001b[38;5;124m] is not s3 path.\u001b[39m\u001b[38;5;124m\"\u001b[39m)\n\u001b[1;32m    126\u001b[0m \u001b[38;5;28;01mif\u001b[39;00m \u001b[38;5;129;01mnot\u001b[39;00m skip_output_version \u001b[38;5;129;01mand\u001b[39;00m \u001b[38;5;129;01mnot\u001b[39;00m output_format \u001b[38;5;241m==\u001b[39m \u001b[38;5;124m\"\u001b[39m\u001b[38;5;124mtags_append\u001b[39m\u001b[38;5;124m\"\u001b[39m \u001b[38;5;129;01mand\u001b[39;00m \u001b[38;5;129;01mnot\u001b[39;00m is_s3_empty_path(output_path):\n\u001b[0;32m--> 127\u001b[0m     \u001b[38;5;28;01mraise\u001b[39;00m \u001b[38;5;167;01mException\u001b[39;00m(\u001b[38;5;124mf\u001b[39m\u001b[38;5;124m\"\u001b[39m\u001b[38;5;124ms3 dir [\u001b[39m\u001b[38;5;132;01m{\u001b[39;00moutput_path\u001b[38;5;132;01m}\u001b[39;00m\u001b[38;5;124m] is already existed.\u001b[39m\u001b[38;5;124m\"\u001b[39m)\n\u001b[1;32m    129\u001b[0m \u001b[38;5;28;01mfrom\u001b[39;00m \u001b[38;5;21;01mapp\u001b[39;00m\u001b[38;5;21;01m.\u001b[39;00m\u001b[38;5;21;01mcommon\u001b[39;00m\u001b[38;5;21;01m.\u001b[39;00m\u001b[38;5;21;01mruntime\u001b[39;00m \u001b[38;5;28;01mimport\u001b[39;00m get_spark_session\n\u001b[1;32m    131\u001b[0m spark \u001b[38;5;241m=\u001b[39m get_spark_session()\n",
      "\u001b[0;31mException\u001b[0m: s3 dir [s3://llm-users/qa/hf/redpajama/summary_1121/] is already existed."
     ]
    }
   ],
   "source": [
    "summary_path = \"s3://llm-users/qa/hf/redpajama/summary_1121/\"\n",
    "write_any_path(result, summary_path, config)"
   ]
  },
  {
   "cell_type": "code",
   "execution_count": 6,
   "id": "e2dbdfcb-aada-47ba-b40a-d7a6d262926c",
   "metadata": {
    "execution": {
     "iopub.execute_input": "2024-11-21T08:02:36.489017Z",
     "iopub.status.busy": "2024-11-21T08:02:36.488787Z",
     "iopub.status.idle": "2024-11-21T08:02:48.675645Z",
     "shell.execute_reply": "2024-11-21T08:02:48.674817Z",
     "shell.execute_reply.started": "2024-11-21T08:02:36.488998Z"
    }
   },
   "outputs": [
    {
     "name": "stderr",
     "output_type": "stream",
     "text": [
      "24/11/21 18:02:50 WARN BlockManagerMasterEndpoint: No more replicas available for rdd_9_0 !\n",
      "24/11/21 18:02:50 WARN BlockManagerMasterEndpoint: No more replicas available for rdd_9_1 !\n"
     ]
    }
   ],
   "source": [
    "bad_info_list = executor.bad_info_list\n",
    "\n",
    "output_df = bad_info_list.map(lambda x: {\"value\":json_dumps(x)})\n",
    "output_df = output_df.toDF()\n",
    "\n",
    "# output_path = \"s3://llm-users/qa/m10ap/error_info/\"+ds\n",
    "# write_any_path(output_df, output_path, config)\n",
    "\n",
    "rule_name_list = Model.get_rules_by_group('qa_standard_v1')\n",
    "for r in rule_name_list:\n",
    "    # filter data\n",
    "    def filter_data(row) -> bool:\n",
    "        # true, keep\n",
    "        return r in json_loads(row.value)[\"name_list\"]\n",
    "    try:\n",
    "        filter_df = output_df.rdd.filter(filter_data).toDF()\n",
    "    except ValueError:\n",
    "        continue\n",
    "\n",
    "    output_path = f\"s3://llm-users/qa/hf/redpajama/error_info_1121/{r}\"\n",
    "    write_any_path(filter_df, output_path, config)"
   ]
  },
  {
   "cell_type": "code",
   "execution_count": 15,
   "id": "dc89d0ed-bd31-4c63-8735-43df235df2d9",
   "metadata": {
    "execution": {
     "iopub.execute_input": "2024-11-22T07:30:32.127985Z",
     "iopub.status.busy": "2024-11-22T07:30:32.127437Z",
     "iopub.status.idle": "2024-11-22T07:30:32.613663Z",
     "shell.execute_reply": "2024-11-22T07:30:32.613041Z",
     "shell.execute_reply.started": "2024-11-22T07:30:32.127961Z"
    }
   },
   "outputs": [
    {
     "name": "stderr",
     "output_type": "stream",
     "text": [
      "                                                                                \r"
     ]
    },
    {
     "data": {
      "text/plain": [
       "['QUALITY_INEFFECTIVENESS']"
      ]
     },
     "execution_count": 15,
     "metadata": {},
     "output_type": "execute_result"
    }
   ],
   "source": [
    "bad_info_list = executor.bad_info_list\n",
    "list_rdd = bad_info_list.flatMap(lambda row: row['type_list'])\n",
    "unique_list = list_rdd.distinct().collect()\n",
    "unique_list"
   ]
  },
  {
   "cell_type": "code",
   "execution_count": 14,
   "id": "55e22223-1643-4ac6-b1cf-008db7355b9b",
   "metadata": {
    "execution": {
     "iopub.execute_input": "2024-11-22T07:30:10.634057Z",
     "iopub.status.busy": "2024-11-22T07:30:10.633676Z",
     "iopub.status.idle": "2024-11-22T07:30:10.656872Z",
     "shell.execute_reply": "2024-11-22T07:30:10.656034Z",
     "shell.execute_reply.started": "2024-11-22T07:30:10.634035Z"
    }
   },
   "outputs": [
    {
     "ename": "NameError",
     "evalue": "name 'self' is not defined",
     "output_type": "error",
     "traceback": [
      "\u001b[0;31m---------------------------------------------------------------------------\u001b[0m",
      "\u001b[0;31mNameError\u001b[0m                                 Traceback (most recent call last)",
      "Cell \u001b[0;32mIn[14], line 1\u001b[0m\n\u001b[0;32m----> 1\u001b[0m list_rdd \u001b[38;5;241m=\u001b[39m \u001b[38;5;28;43mself\u001b[39;49m\u001b[38;5;241m.\u001b[39mbad_info_list\u001b[38;5;241m.\u001b[39mflatMap(\u001b[38;5;28;01mlambda\u001b[39;00m row: row[\u001b[38;5;124m'\u001b[39m\u001b[38;5;124mtype_list\u001b[39m\u001b[38;5;124m'\u001b[39m])\n\u001b[1;32m      2\u001b[0m unique_list \u001b[38;5;241m=\u001b[39m list_rdd\u001b[38;5;241m.\u001b[39mdistinct()\u001b[38;5;241m.\u001b[39mcollect()\n",
      "\u001b[0;31mNameError\u001b[0m: name 'self' is not defined"
     ]
    }
   ],
   "source": [
    "list_rdd = self.bad_info_list.flatMap(lambda row: row['type_list'])\n",
    "unique_list = list_rdd.distinct().collect()"
   ]
  },
  {
   "cell_type": "code",
   "execution_count": null,
   "id": "2ff9b134-fec8-4e6d-8fdc-80f5e883ae70",
   "metadata": {},
   "outputs": [],
   "source": []
  }
 ],
 "metadata": {
  "kernelspec": {
   "display_name": "Python 3.10 (ipykernel)",
   "language": "python",
   "name": "python3.10"
  },
  "language_info": {
   "codemirror_mode": {
    "name": "ipython",
    "version": 3
   },
   "file_extension": ".py",
   "mimetype": "text/x-python",
   "name": "python",
   "nbconvert_exporter": "python",
   "pygments_lexer": "ipython3",
   "version": "3.10.9"
  }
 },
 "nbformat": 4,
 "nbformat_minor": 5
}
