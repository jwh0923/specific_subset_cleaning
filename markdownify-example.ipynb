{
 "cells": [
  {
   "cell_type": "code",
   "execution_count": 56,
   "id": "e738f8e0-6391-4fc9-a1fc-21e889c0dbe8",
   "metadata": {
    "execution": {
     "iopub.execute_input": "2025-02-21T13:01:53.163183Z",
     "iopub.status.busy": "2025-02-21T13:01:53.162475Z",
     "iopub.status.idle": "2025-02-21T13:01:53.167319Z",
     "shell.execute_reply": "2025-02-21T13:01:53.166857Z",
     "shell.execute_reply.started": "2025-02-21T13:01:53.163163Z"
    }
   },
   "outputs": [],
   "source": [
    "from pyspark.sql import Row, DataFrame\n",
    "import json\n",
    "\n",
    "from xinghe.spark import *\n",
    "from app.common.json_util import *\n",
    "from xinghe.s3 import *\n",
    "from app.common.json_util import json_loads\n",
    "from app.common.s3.client import get_s3_client, list_s3_objects\n",
    "from app.common.s3.read import read_s3_rows\n",
    "from app.common.s3.write import S3DocWriter\n",
    "\n",
    "from lxml.html import HtmlElement, HTMLParser, fromstring, tostring, document_fromstring\n",
    "from lxml import etree\n",
    "from lxml.html import fromstring as str2html\n",
    "import os\n",
    "try:\n",
    "    from llm_web_kit.pipeline.extractor.html.magic_html import GeneralExtractor\n",
    "    from llm_web_kit.libs.html_utils import html_to_element, element_to_html\n",
    "except:\n",
    "    from magic_html import GeneralExtractor"
   ]
  },
  {
   "cell_type": "code",
   "execution_count": 5,
   "id": "1e243518-307c-4d18-aa74-8b7a40d70b1f",
   "metadata": {
    "execution": {
     "iopub.execute_input": "2025-02-21T11:40:15.740086Z",
     "iopub.status.busy": "2025-02-21T11:40:15.739820Z",
     "iopub.status.idle": "2025-02-21T11:40:15.742400Z",
     "shell.execute_reply": "2025-02-21T11:40:15.742046Z",
     "shell.execute_reply.started": "2025-02-21T11:40:15.740068Z"
    }
   },
   "outputs": [],
   "source": [
    "s3_path = \"s3://puyu3-users/wangrui/puyu3-cc-recall-html/cc-html-0218/batch-filter-5-subject-domain-0219/v001/batch-0/0-physics/part-67b4df819443-000010.jsonl\""
   ]
  },
  {
   "cell_type": "code",
   "execution_count": 67,
   "id": "4bd137f4-f588-402b-9197-1355de2c39ac",
   "metadata": {
    "execution": {
     "iopub.execute_input": "2025-02-21T13:13:51.120132Z",
     "iopub.status.busy": "2025-02-21T13:13:51.119850Z",
     "iopub.status.idle": "2025-02-21T13:13:57.002217Z",
     "shell.execute_reply": "2025-02-21T13:13:57.001738Z",
     "shell.execute_reply.started": "2025-02-21T13:13:51.120113Z"
    }
   },
   "outputs": [
    {
     "name": "stdout",
     "output_type": "stream",
     "text": [
      "Unicode strings with encoding declaration are not supported. Please use bytes input or XML fragments without declaration.\n"
     ]
    }
   ],
   "source": [
    "i = 0\n",
    "total = 50 # 测试50个\n",
    "save_dir = \"./html-md\"\n",
    "os.makedirs(save_dir, exist_ok=True)\n",
    "start_i = 0\n",
    "\n",
    "\n",
    "def __clear_html(html_source:str) -> str:\n",
    "    \"\"\"\n",
    "    清理html里的无关tag\n",
    "    \"\"\"\n",
    "    new_html_source = html_source.replace(' ', '').replace('\\n', '').replace('\\t', '')\n",
    "    try:\n",
    "        # 解析HTML\n",
    "        root = etree.HTML(new_html_source)\n",
    "        # 删除所有的<script>和<style>元素\n",
    "        for element in root.xpath('//*[self::script or self::style]'):\n",
    "            element.getparent().remove(element)\n",
    "        # 打印清除后的HTML\n",
    "        return etree.tostring(root, pretty_print=True).decode()\n",
    "    except Exception as e:\n",
    "        return new_html_source\n",
    "        logger.exception(e)\n",
    "\n",
    "\n",
    "\n",
    "for row in read_s3_rows(s3_path):\n",
    "    if i>=total+start_i:\n",
    "        break\n",
    "    i += 1\n",
    "    if i<start_i:\n",
    "        continue\n",
    "    \n",
    "    data = json_loads(row.value)  # dict_keys(['id', 'track_id', 'domain', 'url', 'date', 'content_length', 'status', 'site_type', 'content_charset', 'tag', 'html', 'raw_warc_path', 'cc_dump', 'sub_path', 'filelist_name'])\n",
    "    html_source = data.get(\"html\", \"\")\n",
    "    url = data.get(\"url\", '')\n",
    "    \n",
    "    with open(f\"{save_dir}/{i}_raw.html\", 'w', encoding='utf-8') as f:\n",
    "        f.write(html_source)\n",
    "\n",
    "    # 将HTML字符串转换为UTF-8字节序列\n",
    "    try:\n",
    "        root = html_to_element(html_source)\n",
    "    except Exception as e:\n",
    "        print(e)\n",
    "        continue\n",
    "    \n",
    "    # # 移除所有的<script>和<style>元素，任何不想要的都可以加入\n",
    "    for element in root.xpath(\"//script|//style\"):\n",
    "        element.getparent().remove(element)\n",
    "    cleaned_html = element_to_html(root) # 得到清理之后的标签\n",
    "\n",
    "    with open(f\"{save_dir}/{i}_cleaned.html\", 'w', encoding='utf-8') as f:\n",
    "        f.write(cleaned_html)\n",
    "    \n",
    "    # 接下来提取正文，无论用任何方法，返回一个正文的html主体。这里使用magic-html\n",
    "    extractor = GeneralExtractor()\n",
    "    rtl = extractor.extract(cleaned_html, base_url=url, )\n",
    "    main_html = rtl['html']\n",
    "\n",
    "\n",
    "    with open(f\"{save_dir}/{i}_main.html\", \"w\", encoding='utf-8') as f:\n",
    "        f.write(main_html)\n",
    "\n",
    "    # 最后把main_html转成md,然后保存到文件里，看一下是否正常\n",
    "    \n",
    "    \n",
    "    from app.format.html.html2text import html_to_text\n",
    "    md = html_to_text(main_html, as_md=True, )\n",
    "    \n",
    "    with open(f\"./{save_dir}/{i}.md\", 'w', encoding='utf-8') as f:\n",
    "        f.write(md)\n"
   ]
  },
  {
   "cell_type": "code",
   "execution_count": 23,
   "id": "216659ef4926edd5",
   "metadata": {
    "ExecuteTime": {
     "end_time": "2025-03-12T09:17:46.284142Z",
     "start_time": "2025-03-12T09:17:46.280203Z"
    }
   },
   "outputs": [],
   "source": [
    "\n",
    "from llm_web_kit.input.datajson import DataJson, StructureMapper\n",
    "def clist_filter_factory(self, field_you_want = ('paragraph')):\n",
    "    \"\"\"把content_list转化为md格式，只接受 Node 类型为 ['a', 'b'].\n",
    "    Returns:\n",
    "        str: md格式的文本内容\n",
    "    \"\"\"\n",
    "    md_blocks = []  # 每个是个DocElementType规定的元素块之一转换成的文本\n",
    "    content_lst = self._get_data()\n",
    "    for page in content_lst:\n",
    "        for content_lst_node in page:\n",
    "            if content_lst_node['type'] in field_you_want:\n",
    "                txt_content = self._StructureMapper__content_lst_node_2_md(content_lst_node)\n",
    "                if txt_content and len(txt_content) > 0:\n",
    "                    md_blocks.append(txt_content)\n",
    "    md = self._StructureMapper__md_para_splitter.join(md_blocks)\n",
    "    md = md.strip() + self._StructureMapper__text_end  # 加上结尾换行符\n",
    "    return md\n",
    "def clist_to_c(d_iter):\n",
    "    StructureMapper.clist_filter = clist_filter_factory\n",
    "    for d in d_iter:\n",
    "        try:\n",
    "            prompt = ''\n",
    "            data_id = d['track_id']\n",
    "            content  = DataJson(d).get_content_list().clist_filter()\n",
    "            new_d = {\n",
    "                'track_id': data_id,\n",
    "                'prompt': prompt,\n",
    "                'content_qa': content,\n",
    "            }\n",
    "            yield new_d\n",
    "        except Exception as e:\n",
    "            raise e"
   ]
  },
  {
   "cell_type": "code",
   "execution_count": 24,
   "id": "a588bdd51e49063a",
   "metadata": {
    "ExecuteTime": {
     "end_time": "2025-03-12T09:17:46.781731Z",
     "start_time": "2025-03-12T09:17:46.775890Z"
    }
   },
   "outputs": [
    {
     "name": "stdout",
     "output_type": "stream",
     "text": [
      "<generator object clist_to_c at 0x733a9020c2e0>\n"
     ]
    }
   ],
   "source": [
    "data = {\n",
    "  \"track_id\": \"fa9dde56-154c-4c43-8584-c735469ede41\",\n",
    "  \"url\": \"https://new.qq.com/omn/20230629/20230629A0A3ZU00\",\n",
    "  \"html\": \"<body> \\n <p>【环球时报-环球网报道 记者 邢晓婧】28日，外交部发言人毛宁主持例行记者会。有记者提问称，近日，韩国媒体报道称，匿名知情人士称日本政府提前获得了国际原子能机构福岛核污染水处置技术工作组最终评估报告草案，并提出实质性修改意见，对最终报告结论施加了不当影响。日本官员给了机构秘书处工作人员100余万欧元。请问中方对此有何评论？</p> \\n <p>毛宁对此表示，中方高度关注有关报道。日本政府有责任对相关报道给出令人信服的解释，国际原子能机构秘书处也应该作出回应。事实上，报道加剧了国际社会对日本核污染水排海的担忧，人们有理由质疑国际原子能机构技术工作组最终评估报告的结论是否公正客观。</p> \\n <p>毛宁称，中方在这个问题上的立场是一贯的，核污染水排海关乎国际社会的共同利益，不是日方一家的私事。中方敦促日方正视国际社会和国内民众的关切，停止强行推动排海计划，切实以科学、安全、透明的方式处置核污染水，并接受严格的国际监督。</p> \\n <p>毛宁表示，中方希望国际原子能机构秘书处秉持客观、专业、公正的原则，充分尊重和采纳技术工作组各方专家的意见，拿出一份经得起科学和历史检验的评估报告，不要为日方的排海方案背书，国际社会将拭目以待。</p> \\n</body>\",\n",
    "  \"page_layout_type\": \"article\",\n",
    "  \"domain\": \"new.qq.com\",\n",
    "  \"dataset_name\": \"tencent\",\n",
    "  \"data_source_category\": \"HTML\",\n",
    "  \"meta_info\": {\n",
    "    \"filename\": \"s3://private-crawl-data/zh-web-tencent/20241218_p1/2023/1732804785928.json.gz\"\n",
    "  },\n",
    "  \"content_list\": [\n",
    "    [\n",
    "      {\n",
    "        \"type\": \"paragraph\",\n",
    "        \"raw_content\": \"<div><div><p>【环球时报-环球网报道 记者 邢晓婧】28日，外交部发言人毛宁主持例行记者会。有记者提问称，近日，韩国媒体报道称，匿名知情人士称日本政府提前获得了国际原子能机构福岛核污染水处置技术工作组最终评估报告草案，并提出实质性修改意见，对最终报告结论施加了不当影响。日本官员给了机构秘书处工作人员100余万欧元。请问中方对此有何评论？</p></div></div>\",\n",
    "        \"content\": [\n",
    "          {\n",
    "            \"c\": \"【环球时报-环球网报道 记者 邢晓婧】28日，外交部发言人毛宁主持例行记者会。有记者提问称，近日，韩国媒体报道称，匿名知情人士称日本政府提前获得了国际原子能机构福岛核污染水处置技术工作组最终评估报告草案，并提出实质性修改意见，对最终报告结论施加了不当影响。日本官员给了机构秘书处工作人员100余万欧元。请问中方对此有何评论？\",\n",
    "            \"t\": \"text\"\n",
    "          }\n",
    "        ]\n",
    "      },\n",
    "      {\n",
    "        \"type\": \"url\",\n",
    "        \"raw_content\": \"<div><div><p>毛宁对此表示，中方高度关注有关报道。日本政府有责任对相关报道给出令人信服的解释，国际原子能机构秘书处也应该作出回应。事实上，报道加剧了国际社会对日本核污染水排海的担忧，人们有理由质疑国际原子能机构技术工作组最终评估报告的结论是否公正客观。</p></div></div>\",\n",
    "        \"content\": [\n",
    "          {\n",
    "            \"c\": \"毛宁对此表示，中方高度关注有关报道。日本政府有责任对相关报道给出令人信服的解释，国际原子能机构秘书处也应该作出回应。事实上，报道加剧了国际社会对日本核污染水排海的担忧，人们有理由质疑国际原子能机构技术工作组最终评估报告的结论是否公正客观。\",\n",
    "            \"t\": \"text\"\n",
    "          }\n",
    "        ]\n",
    "      },\n",
    "      {\n",
    "        \"type\": \"paragraph\",\n",
    "        \"raw_content\": \"<div><div><p>毛宁称，中方在这个问题上的立场是一贯的，核污染水排海关乎国际社会的共同利益，不是日方一家的私事。中方敦促日方正视国际社会和国内民众的关切，停止强行推动排海计划，切实以科学、安全、透明的方式处置核污染水，并接受严格的国际监督。</p></div></div>\",\n",
    "        \"content\": [\n",
    "          {\n",
    "            \"c\": \"毛宁称，中方在这个问题上的立场是一贯的，核污染水排海关乎国际社会的共同利益，不是日方一家的私事。中方敦促日方正视国际社会和国内民众的关切，停止强行推动排海计划，切实以科学、安全、透明的方式处置核污染水，并接受严格的国际监督。\",\n",
    "            \"t\": \"text\"\n",
    "          }\n",
    "        ]\n",
    "      },\n",
    "      {\n",
    "        \"type\": \"paragraph\",\n",
    "        \"raw_content\": \"<div><div><p>毛宁表示，中方希望国际原子能机构秘书处秉持客观、专业、公正的原则，充分尊重和采纳技术工作组各方专家的意见，拿出一份经得起科学和历史检验的评估报告，不要为日方的排海方案背书，国际社会将拭目以待。</p></div></div>\",\n",
    "        \"content\": [\n",
    "          {\n",
    "            \"c\": \"毛宁表示，中方希望国际原子能机构秘书处秉持客观、专业、公正的原则，充分尊重和采纳技术工作组各方专家的意见，拿出一份经得起科学和历史检验的评估报告，不要为日方的排海方案背书，国际社会将拭目以待。\",\n",
    "            \"t\": \"text\"\n",
    "          }\n",
    "        ]\n",
    "      }\n",
    "    ]\n",
    "  ]\n",
    "}\n",
    "a= clist_to_c([data])\n",
    "print(a)"
   ]
  },
  {
   "cell_type": "code",
   "execution_count": 25,
   "id": "6bf72cbad91a7c4",
   "metadata": {
    "ExecuteTime": {
     "end_time": "2025-03-12T09:17:47.314918Z",
     "start_time": "2025-03-12T09:17:47.309406Z"
    }
   },
   "outputs": [
    {
     "name": "stdout",
     "output_type": "stream",
     "text": [
      "{'track_id': 'fa9dde56-154c-4c43-8584-c735469ede41', 'prompt': '', 'content_qa': '【环球时报-环球网报道 记者 邢晓婧】28日，外交部发言人毛宁主持例行记者会。有记者提问称，近日，韩国媒体报道称，匿名知情人士称日本政府提前获得了国际原子能机构福岛核污染水处置技术工作组最终评估报告草案，并提出实质性修改意见，对最终报告结论施加了不当影响。日本官员给了机构秘书处工作人员100余万欧元。请问中方对此有何评论？\\n\\n毛宁称，中方在这个问题上的立场是一贯的，核污染水排海关乎国际社会的共同利益，不是日方一家的私事。中方敦促日方正视国际社会和国内民众的关切，停止强行推动排海计划，切实以科学、安全、透明的方式处置核污染水，并接受严格的国际监督。\\n\\n毛宁表示，中方希望国际原子能机构秘书处秉持客观、专业、公正的原则，充分尊重和采纳技术工作组各方专家的意见，拿出一份经得起科学和历史检验的评估报告，不要为日方的排海方案背书，国际社会将拭目以待。\\n'}\n"
     ]
    }
   ],
   "source": [
    "for i in a :\n",
    "    print(i)"
   ]
  },
  {
   "cell_type": "code",
   "execution_count": null,
   "id": "a9625f8fce4426cd",
   "metadata": {},
   "outputs": [],
   "source": []
  }
 ],
 "metadata": {
  "kernelspec": {
   "display_name": "Python 3.10 (ipykernel)",
   "language": "python",
   "name": "python3.10"
  },
  "language_info": {
   "codemirror_mode": {
    "name": "ipython",
    "version": 3
   },
   "file_extension": ".py",
   "mimetype": "text/x-python",
   "name": "python",
   "nbconvert_exporter": "python",
   "pygments_lexer": "ipython3",
   "version": "3.10.9"
  }
 },
 "nbformat": 4,
 "nbformat_minor": 5
}
