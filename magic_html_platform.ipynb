{
 "cells": [
  {
   "cell_type": "code",
   "execution_count": 1,
   "id": "aa56126f-f254-4fd7-852d-1055cfa8fb84",
   "metadata": {
    "ExecuteTime": {
     "end_time": "2025-03-06T06:48:32.651072Z",
     "start_time": "2025-03-06T06:48:32.538016Z"
    },
    "execution": {
     "iopub.execute_input": "2025-03-17T06:00:53.435513Z",
     "iopub.status.busy": "2025-03-17T06:00:53.435158Z",
     "iopub.status.idle": "2025-03-17T06:00:54.534810Z",
     "shell.execute_reply": "2025-03-17T06:00:54.534224Z",
     "shell.execute_reply.started": "2025-03-17T06:00:53.435493Z"
    }
   },
   "outputs": [],
   "source": [
    "\n",
    "import os\n",
    "from pyspark.sql import Row, SparkSession\n",
    "from typing import Dict, Any\n",
    "import json\n",
    "import uuid\n",
    "from functools import partial\n",
    "from typing import Iterable, Dict, Any\n",
    "# create spark session\n",
    "from pyspark.sql import Row, DataFrame\n",
    "from loguru import logger\n",
    "from xinghe.spark import *\n",
    "from app.common.json_util import *\n",
    "\n",
    "from xinghe.s3 import *\n",
    "\n",
    "\n",
    "import uuid\n",
    "import traceback\n",
    "from datetime import datetime\n",
    "from llm_web_kit.input.datajson import DataJson\n",
    "from func_timeout import FunctionTimedOut, func_timeout\n",
    "\n",
    "#| track_id                  | uuid                           | 全局唯一的ID                                                                                                        | 是              |\n",
    "#| dataset_name              | str                            | 数据集的名字（全局唯一），这个名字是管理员输入的，然后做索引的时候带到index里来                                     | 是              |\n",
    "#| data_source_category      | str                            | 这一行数据代表的是HTML，PDF，EBOOK,CC,labCC类型                                                                     | 是，此处是 HTML |\n",
    "#| html                      | 字符串                         | 以UTF-8为编码的HTML文件全文                                                                                         | 是              |\n",
    "#| url                       | 字符串                         | 这个文件的来源网址                                                                                                  | 是              |\n",
    "#| file_bytes                | 整数                           | 文件的size, 单位是byte                                                                                              | 是              |\n",
    "#| meta_info                 | 字典                           | 存放关于文件的元信息:如果能从文件里获取到作者，制作日期等信息。或者数据本身就带有一些其他的信息都放入到这个字段里。 | 是              |\n",
    "#| meta_info->input_datetime | 其格式为 `yyyy-mm-dd HH:MM:SS` | 生成这个json索引文件这一条数据的时间，可以不用那么精确                                                              | 是              |\n",
    "\n",
    "\n",
    "def process_platform_data(spark: SparkSession, config,platform: str, input_paths: list, version: str = \"001\"):\n",
    "    \"\"\"接收 spark 作为参数而不是持有它\"\"\"\n",
    "    platform_config = platform_configs.get(platform)\n",
    "    if not platform_config:\n",
    "        raise ValueError(f\"Unsupported platform: {platform}\")\n",
    "\n",
    "    # Driver 端操作\n",
    "    input_df = read_any_path(spark, \",\".join(input_paths), config)\n",
    "    print(f\"读取数据结束\")\n",
    "    # 准备 Worker 端配置\n",
    "    worker_config = {\n",
    "        \"field_mappings\": platform_config.get(\"field_mappings\"),\n",
    "        \"extractor_config\": platform_config.get(\"extractor_config\")\n",
    "    }\n",
    "    # 分别广播不同配置\n",
    "    broadcast_field_mappings = spark.sparkContext.broadcast(worker_config[\"field_mappings\"])\n",
    "    broadcast_extractor_config_path = spark.sparkContext.broadcast(worker_config[\"extractor_config\"])  # 广播路径\n",
    "\n",
    "    print(\"原始数据json结构\")\n",
    "    input_rdd = input_df.rdd.map(lambda x: Row(**{**json.loads(x.value), \"filename\": x.filename})).cache()\n",
    "  #  pandas_df = input_rdd.toDF().toPandas()\n",
    "  #  print(pandas_df)\n",
    "    print(input_rdd.take(1)[0].asDict().keys())\n",
    "    # 数据转换（仅用字段映射）\n",
    "    transformed_rdd = input_rdd.map(\n",
    "        lambda row: transform_row(row, broadcast_field_mappings.value)\n",
    "    )\n",
    "   \n",
    "    print(\"formatter数据结束\")\n",
    "    # 数据抽取（仅用抽取器配置路径）\n",
    "    processed_rdd = transformed_rdd.mapPartitions(\n",
    "         lambda x:extract_data(\n",
    "            x,broadcast_extractor_config_path = broadcast_extractor_config_path.value\n",
    "        )\n",
    "    )\n",
    "    print(\"extractor数据结束\")\n",
    "    print(\"写入数据中\")\n",
    "   \n",
    "    # 输出结果Row(value=json.dumps(x.asDict()))).toDF()\n",
    "    write_any_path(processed_rdd.map(lambda x: Row(value=json.dumps(x.asDict()))).toDF(), platform_config[\"output_template\"],config)\n",
    "    print(\"写入数据结束\")\n",
    "\n",
    "    # 清理广播变量\n",
    "    broadcast_field_mappings.unpersist()\n",
    "    broadcast_extractor_config_path.unpersist()\n",
    "\n",
    "\n",
    "\n",
    "def transform_row(row, config: dict) -> Row:\n",
    "    \"\"\"根据平台配置转换行数据\"\"\"\n",
    "    mappings = config\n",
    "\n",
    "    return Row(\n",
    "        track_id=getattr(row, mappings[\"track_id\"],str(uuid.uuid4())),\n",
    "        url=getattr(row, mappings[\"url\"], ''),\n",
    "        html=getattr(row, mappings[\"html\"], ''),\n",
    "        page_layout_type=mappings.get(\"page_layout_type_map\").get(\n",
    "            getattr(row, mappings[\"layout_field\"], ''),\n",
    "            \"article\"\n",
    "        ),\n",
    "        domain=extract_domain_info(getattr(row, mappings[\"url\"], ''))['domain'],\n",
    "        dataset_name=mappings[\"dataset_name\"],\n",
    "        data_source_category=mappings[\"data_source_category\"],\n",
    "        meta_info={\"filename\":row.filename}\n",
    "    )\n",
    "\n",
    "\n",
    "\n",
    "\n",
    "def extract_data(partition, broadcast_extractor_config_path):\n",
    "    from loguru import logger\n",
    "    extractor_chain = ExtractSimpleFactory.create('/share/jiangwenhao/notebooks/定向子集专项/subset-spliz.jsonc')\n",
    "    timeout_seconds = 10\n",
    "    # 为每个分区创建唯一的错误日志文件\n",
    "    # partition_id = str(uuid.uuid4())\n",
    "    # current_time = datetime.now().strftime(\"%Y%m%d_%H%M%S\")\n",
    "    # error_log_path = f\"s3://xyz-llm-users/xyz-users/yujia/CC-MAIN-2024-33/output/v002/error_logs/{current_time}_{partition_id}.json\"\n",
    "    # s3_doc_writer = S3DocWriter(path=error_log_path)\n",
    "    try:\n",
    "        for row in partition:\n",
    "            d = row.asDict()\n",
    "           \n",
    "            input_data = DataJson(d)\n",
    "            data_e: DataJson = func_timeout(timeout_seconds, extractor_chain.extract, args=(input_data,))\n",
    "            #data_e: DataJson = extractor_chain.extract(input_data)\n",
    "            yield Row(**data_e.to_dict())\n",
    "    except FunctionTimedOut as e1:\n",
    "            d['__error'] = {\n",
    "                \"error_type\":\"TIMEOUT\",\n",
    "                \"error_message\": \"extract function timeout\",\n",
    "                \"traceback\":\"TIMEOUT\"\n",
    "            }\n",
    "            yield Row(**d)\n",
    "    except Exception as e:\n",
    "            # 记录更详细的错误信息\n",
    "            error_info = {\n",
    "                \"error_type\": type(e).__name__,\n",
    "                \"error_message\": str(e),\n",
    "                \"traceback\": traceback.format_exc(),\n",
    "            }\n",
    "            logger.error(error_info)\n",
    "            # s3_doc_writer.write(error_info)\n",
    "            d['__error'] = error_info\n",
    "            yield Row(**d)\n",
    "           \n",
    "\n",
    "\n",
    "def _safe_extract(data: Dict, extractor, timeout: int = 10) -> Dict:\n",
    "  \n",
    "    \"\"\"直接返回字典，避免生成器\"\"\"\n",
    "    try:\n",
    "        timeout_seconds = 10\n",
    "        input_data = DataJson(data.asDict())\n",
    "        print(input_data)\n",
    "        data_e: DataJson = func_timeout(timeout_seconds, extractor.extract, \\\n",
    "                                                args=(input_data,))\n",
    "\n",
    "        print(Row(**data_e.to_dict()))\n",
    "        return data_e.to_dict() \n",
    "    except Exception as e:\n",
    "        # 记录更详细的错误信息\n",
    "        error_info = {\n",
    "            \"error_type\": type(e).__name__,\n",
    "            \"error_message\": str(e),\n",
    "            \"traceback\": traceback.format_exc(),\n",
    "        }\n",
    "        logger.error(error_info)\n",
    "        # s3_doc_writer.write(error_info)\n",
    "        data['__error'] = error_info\n",
    "        yield Row(**d)\n",
    "\n",
    "\n",
    "from urllib.parse import urlparse\n",
    "\n",
    "def extract_domain_info(url: str) -> dict:\n",
    "    \"\"\"从 URL 中提取完整的域名信息\"\"\"\n",
    "    parsed = urlparse(url)\n",
    "    netloc = parsed.netloc\n",
    "    domain_parts = netloc.split(\":\")\n",
    "    domain = domain_parts[0]  # 去除端口号\n",
    "    root_domain = \".\".join(domain.split(\".\")[-2:]) if len(domain.split(\".\")) >= 2 else domain\n",
    "\n",
    "    return {\n",
    "        \"full_url\": url,\n",
    "        \"netloc\": netloc,\n",
    "        \"domain\": domain,\n",
    "        \"root_domain\": root_domain\n",
    "    }\n",
    "        \n",
    "def handle_error(row: Dict, error: Exception) -> Dict:\n",
    "    \"\"\"统一错误处理\"\"\"\n",
    "    row_dict = row.asDict()\n",
    "    return {\n",
    "     ** row,\n",
    "    \"__error\": {\n",
    "        \"type\": type(error).__name__,\n",
    "        \"message\": str(error),\n",
    "        \"traceback\": traceback.format_exc()\n",
    "    }\n",
    "    }\n",
    "\n",
    "    \n",
    "def extract_platform_from_s3_path(s3_path: str) -> str:\n",
    "    \"\"\"\n",
    "    从 S3 路径中提取平台名称（存储桶后的第一个目录）\n",
    "    \n",
    "    示例输入: \n",
    "    - \"s3://private-cooperate-data/zh-web-baijiahao/20241218_p1/\"\n",
    "    输出: \"zh-web-baijiahao\"\n",
    "    \n",
    "    - \"s3://private-cooperate-data/DouBan/\"\n",
    "    输出: \"DouBan\"\n",
    "    \"\"\"\n",
    "    # 分割路径并过滤空字符串\n",
    "    parts = [p for p in s3_path.split(\"/\") if p.strip() != \"\"]\n",
    "    \n",
    "    # 验证路径格式\n",
    "    if len(parts) < 3:\n",
    "        raise ValueError(f\"无效的 S3 路径格式: {s3_path}\")\n",
    "    \n",
    "    # 平台名称是存储桶后的第一个目录\n",
    "    return parts[2]\n"
   ]
  },
  {
   "cell_type": "code",
   "execution_count": 2,
   "id": "d4bc53ba-2a43-4130-887b-fcca71c9a24e",
   "metadata": {
    "ExecuteTime": {
     "end_time": "2025-03-06T06:47:37.194775Z",
     "start_time": "2025-03-06T06:47:37.101026Z"
    },
    "execution": {
     "iopub.execute_input": "2025-03-17T06:00:54.535936Z",
     "iopub.status.busy": "2025-03-17T06:00:54.535674Z",
     "iopub.status.idle": "2025-03-17T06:00:54.539575Z",
     "shell.execute_reply": "2025-03-17T06:00:54.539101Z",
     "shell.execute_reply.started": "2025-03-17T06:00:54.535920Z"
    }
   },
   "outputs": [],
   "source": [
    "\n",
    "import os\n",
    "from pyspark.sql import Row, SparkSession\n",
    "from typing import Dict, Any\n",
    "import json\n",
    "import uuid\n",
    "from functools import partial\n",
    "from typing import Iterable, Dict, Any\n",
    "# create spark session\n",
    "from pyspark.sql import Row, DataFrame\n",
    "from loguru import logger\n",
    "from xinghe.spark import *\n",
    "from app.common.json_util import *\n",
    "\n",
    "from xinghe.s3 import *\n",
    "\n",
    "\n",
    "import uuid\n",
    "import traceback\n",
    "from datetime import datetime\n",
    "from llm_web_kit.input.datajson import DataJson\n",
    "from func_timeout import FunctionTimedOut, func_timeout"
   ]
  },
  {
   "cell_type": "markdown",
   "id": "246fb161-a3e0-462c-9324-b5fdd15cb074",
   "metadata": {},
   "source": [
    "## 抽取规则"
   ]
  },
  {
   "cell_type": "code",
   "execution_count": 5,
   "id": "b86433d1431d91ee",
   "metadata": {
    "ExecuteTime": {
     "end_time": "2025-03-06T06:47:20.642397Z",
     "start_time": "2025-03-06T06:47:20.574940Z"
    },
    "execution": {
     "iopub.execute_input": "2025-03-17T06:01:23.135758Z",
     "iopub.status.busy": "2025-03-17T06:01:23.135473Z",
     "iopub.status.idle": "2025-03-17T06:01:23.147136Z",
     "shell.execute_reply": "2025-03-17T06:01:23.146751Z",
     "shell.execute_reply.started": "2025-03-17T06:01:23.135741Z"
    }
   },
   "outputs": [
    {
     "data": {
      "text/plain": [
       "{'field_mappings': {'track_id': 'track_id',\n",
       "  'page_layout_type_map': {'': 'article',\n",
       "   '文章': 'article',\n",
       "   '网易': 'article',\n",
       "   '视频': 'video',\n",
       "   '腾讯网': 'article'},\n",
       "  'dataset_name': 'tencent',\n",
       "  'url': 'url',\n",
       "  'html': 'content',\n",
       "  'layout_field': 'f_name',\n",
       "  'data_source_category': 'HTML'},\n",
       " 'extractor_config': '/share/jiangwenhao/notebooks/定向子集专项/subset-spliz.jsonc',\n",
       " 'output_template': 's3://llm-users-phdd2/jiangwenhao/article/zh-web-tencent/v002/'}"
      ]
     },
     "execution_count": 5,
     "metadata": {},
     "output_type": "execute_result"
    }
   ],
   "source": [
    "version=\"002\"\n",
    "sub_dir=''\n",
    "input_paths =[f's3://private-crawl-data/zh-web-tencent/20241218_p1/']\n",
    "platform = extract_platform_from_s3_path(input_paths[0])\n",
    "platform_configs = {\n",
    "\n",
    "    \"zh-web-baijiahao\": {\n",
    "\n",
    "        \"field_mappings\": {\n",
    "            \"track_id\":\"track_id\",\n",
    "            \"page_layout_type_map\" :{\n",
    "                                \"\":\"article\",\n",
    "                                \"文章\":\"article\",\n",
    "                                \"网易\":'article',\n",
    "                                \"视频\":\"video\"\n",
    "                            },\n",
    "        \"dataset_name\": \"baijiahao\",\n",
    "        \"url\":\"url\",\n",
    "        \"html\":\"content\",\n",
    "        \"layout_field\": \"channel\",\n",
    "        \"data_source_category\":\"JSON\"\n",
    "        },\n",
    "        \"extractor_config\": \"/share/jiangwenhao/notebooks/定向子集专项/subset-spliz.jsonc\",\n",
    "        \"output_template\": f\"s3://llm-users-phdd2/jiangwenhao/article/{platform}/{sub_dir}/v{version}/\"\n",
    "\n",
    "    },\n",
    "    \"zh-web-netease\": {\n",
    "\n",
    "        \"field_mappings\": {\n",
    "             \"track_id\":\"track_id\",\n",
    "            \"page_layout_type_map\" :{\n",
    "                                \"\":\"article\",\n",
    "                                \"文章\":\"article\",\n",
    "                                \"网易\":'article',\n",
    "                                \"视频\":\"video\"\n",
    "                            },\n",
    "        \"dataset_name\": \"net-ease\",\n",
    "        \"url\":\"url\",\n",
    "        \"html\":\"content\",\n",
    "        \"layout_field\": \"f_name\",\n",
    "        \"data_source_category\":\"HTML\"\n",
    "        },\n",
    "        \"extractor_config\": \"/share/jiangwenhao/notebooks/定向子集专项/subset-spliz.jsonc\",\n",
    "        \"output_template\": f\"s3://llm-users-phdd2/jiangwenhao/article/{platform}/v{version}/\"\n",
    "    },\n",
    "    \"zh-web-tencent\": {\n",
    "\n",
    "        \"field_mappings\": {\n",
    "             \"track_id\":\"track_id\",\n",
    "            \"page_layout_type_map\" :{\n",
    "                                \"\":\"article\",\n",
    "                                \"文章\":\"article\",\n",
    "                                \"网易\":'article',\n",
    "                                \"视频\":\"video\",\n",
    "                                \"腾讯网\":\"article\"\n",
    "                            },\n",
    "        \"dataset_name\": \"tencent\",\n",
    "        \"url\":\"url\",\n",
    "        \"html\":\"content\",\n",
    "        \"layout_field\": \"f_name\",\n",
    "        \"data_source_category\":\"HTML\"\n",
    "        },\n",
    "        \"extractor_config\": \"/share/jiangwenhao/notebooks/定向子集专项/subset-spliz.jsonc\",\n",
    "        \"output_template\": f\"s3://llm-users-phdd2/jiangwenhao/article/{platform}/v{version}/\"\n",
    "    },\n",
    "     \"zh-web-sohu\": {\n",
    "\n",
    "        \"field_mappings\": {\n",
    "             \"track_id\":\"track_id\",\n",
    "            \"page_layout_type_map\" :{\n",
    "                                \"\":\"article\",\n",
    "                                \"文章\":\"article\",\n",
    "                                \"网易\":'article',\n",
    "                                \"视频\":\"video\",\n",
    "                                \"搜狐网\":\"article\"\n",
    "                            },\n",
    "        \"dataset_name\": \"souhu\",\n",
    "        \"url\":\"url\",\n",
    "        \"html\":\"content\",\n",
    "        \"layout_field\": \"f_name\",\n",
    "        \"data_source_category\":\"HTML\"\n",
    "        },\n",
    "        \"extractor_config\": \"/share/jiangwenhao/notebooks/定向子集专项/subset-spliz.jsonc\",\n",
    "        \"output_template\": f\"s3://llm-users-phdd2/jiangwenhao/article/{platform}/v{version}/\"\n",
    "    },\n",
    "    \"zh-web-sina\": {\n",
    "\n",
    "        \"field_mappings\": {\n",
    "             \"track_id\":\"track_id\",\n",
    "            \"page_layout_type_map\" :{\n",
    "                                \"\":\"article\",\n",
    "                                \"文章\":\"article\",\n",
    "                                \"网易\":'article',\n",
    "                                \"视频\":\"video\",\n",
    "                                \"搜狐网\":\"article\",\n",
    "                                \"黑猫投诉\":\"forum\",\n",
    "                                \"新浪网\":\"article\"\n",
    "                            },\n",
    "        \"dataset_name\": \"sina\",\n",
    "        \"url\":\"url\",\n",
    "        \"html\":\"content\",\n",
    "        \"layout_field\": \"f_name\",\n",
    "        \"data_source_category\":\"HTML\"\n",
    "        },\n",
    "        \"extractor_config\": \"/share/jiangwenhao/notebooks/定向子集专项/subset-spliz.jsonc\",\n",
    "        \"output_template\": f\"s3://llm-users-phdd2/jiangwenhao/article/{platform}/v{version}/\"\n",
    "    },\n",
    "\n",
    "    \"blog_sina_com_cn\": {\n",
    "\n",
    "        \"field_mappings\": {\n",
    "             \"track_id\":\"track_id\",\n",
    "            \"page_layout_type_map\" :{\n",
    "                                \"\":\"article\",\n",
    "                                \"文章\":\"article\",\n",
    "                                \"网易\":'article',\n",
    "                                \"视频\":\"video\",\n",
    "                                \"搜狐网\":\"article\",\n",
    "                                \"黑猫投诉\":\"forum\",\n",
    "                                \n",
    "                            },\n",
    "        \"dataset_name\": \"sina_blog\",\n",
    "        \"url\":\"url\",\n",
    "        \"html\":\"html\",\n",
    "        \"layout_field\": \"f_name\",\n",
    "        \"data_source_category\":\"HTML\"\n",
    "        },\n",
    "        \"extractor_config\": \"/share/jiangwenhao/notebooks/定向子集专项/subset-spliz.jsonc\",\n",
    "        \"output_template\": f\"s3://llm-users-phdd2/jiangwenhao/article/{platform}/v{version}/\"\n",
    "    },\n",
    "    \"DouBan\": {\n",
    "       \n",
    "        \"field_mappings\": {\n",
    "             \"track_id\":\"track_id\",\n",
    "            \"page_layout_type_map\" :{\n",
    "                                \"\":\"article\",\n",
    "                                \"文章\":\"article\",\n",
    "                                \"网易\":'article',\n",
    "                                \"视频\":\"video\",\n",
    "                                \"搜狐网\":\"article\",\n",
    "                                \"黑猫投诉\":\"forum\",\n",
    "                                \"豆瓣网\":\"\"\n",
    "                            },\n",
    "        \"dataset_name\": \"sina\",\n",
    "        \"url\":\"url\",\n",
    "        \"html\":\"html\",\n",
    "        \"layout_field\": \"f_name\",\n",
    "        \"data_source_category\":\"HTML\"\n",
    "        },\n",
    "        \"extractor_config\": \"/share/jiangwenhao/notebooks/定向子集专项/subset-spliz.jsonc\",\n",
    "        \"output_template\": f\"s3://llm-users-phdd2/jiangwenhao/article/{platform}/v{version}/\"\n",
    "    },\n",
    "}\n",
    "platform_config = platform_configs.get(platform)\n",
    "platform_config\n"
   ]
  },
  {
   "cell_type": "code",
   "execution_count": null,
   "id": "672ef2e435453b88",
   "metadata": {
    "ExecuteTime": {
     "end_time": "2025-03-06T06:47:20.832906Z",
     "start_time": "2025-03-06T06:47:20.830840Z"
    }
   },
   "outputs": [],
   "source": []
  },
  {
   "cell_type": "code",
   "execution_count": 6,
   "id": "206441bc2e5a5066",
   "metadata": {
    "ExecuteTime": {
     "end_time": "2025-03-06T06:47:21.152435Z",
     "start_time": "2025-03-06T06:47:21.150397Z"
    },
    "execution": {
     "iopub.execute_input": "2025-03-17T06:01:24.606917Z",
     "iopub.status.busy": "2025-03-17T06:01:24.606686Z",
     "iopub.status.idle": "2025-03-17T06:01:24.609145Z",
     "shell.execute_reply": "2025-03-17T06:01:24.608782Z",
     "shell.execute_reply.started": "2025-03-17T06:01:24.606901Z"
    }
   },
   "outputs": [],
   "source": [
    "# input_paths =[f's3://zhuanxiang-hw60p/article/sina/v006/']\n",
    "\n",
    "\n",
    "\n",
    "\n",
    "\n",
    "# Driver 端操作\n",
    "# input_df = read_any_path(spark, \",\".join(input_paths), config)\n"
   ]
  },
  {
   "cell_type": "code",
   "execution_count": 7,
   "id": "8faf6e12-a66e-48c8-b813-d2bf980f9210",
   "metadata": {
    "execution": {
     "iopub.execute_input": "2025-03-17T06:01:25.869416Z",
     "iopub.status.busy": "2025-03-17T06:01:25.869210Z",
     "iopub.status.idle": "2025-03-17T06:01:25.871583Z",
     "shell.execute_reply": "2025-03-17T06:01:25.871225Z",
     "shell.execute_reply.started": "2025-03-17T06:01:25.869401Z"
    }
   },
   "outputs": [],
   "source": [
    "#def is_error__(row):\n",
    "#    if \"__error__\" in row:  # 先检查键是否存在\n",
    "#        return True\n",
    "#    else:\n",
    "#        return False\n",
    "#\n",
    "#def del_error__(row):\n",
    "#    row.pop(\"__error__\", None)  # 若键不存在，返回 None 且不报错\n",
    "#    return row\n",
    "#final_df = input_df.rdd.map(lambda x: json.loads(x.value)).filter(is_error__)\n",
    "#final_df.take(1)[0]\n",
    "\n"
   ]
  },
  {
   "cell_type": "code",
   "execution_count": 8,
   "id": "65e14a33-3a9b-45ce-b5f6-c467cb84d30c",
   "metadata": {
    "execution": {
     "iopub.execute_input": "2025-03-17T06:01:27.668302Z",
     "iopub.status.busy": "2025-03-17T06:01:27.668098Z",
     "iopub.status.idle": "2025-03-17T06:01:38.210267Z",
     "shell.execute_reply": "2025-03-17T06:01:38.209533Z",
     "shell.execute_reply.started": "2025-03-17T06:01:27.668287Z"
    }
   },
   "outputs": [
    {
     "name": "stderr",
     "output_type": "stream",
     "text": [
      "Setting default log level to \"WARN\".\n",
      "To adjust logging level use sc.setLogLevel(newLevel). For SparkR, use setLogLevel(newLevel).\n"
     ]
    },
    {
     "data": {
      "text/html": [
       "\n",
       "            <div>\n",
       "                <p><b>SparkSession - hive</b></p>\n",
       "                \n",
       "        <div>\n",
       "            <p><b>SparkContext</b></p>\n",
       "\n",
       "            <p><a href=\"http://10.140.84.27:42439\">Spark UI</a></p>\n",
       "\n",
       "            <dl>\n",
       "              <dt>Version</dt>\n",
       "                <dd><code>v3.4.1</code></dd>\n",
       "              <dt>Master</dt>\n",
       "                <dd><code>yarn</code></dd>\n",
       "              <dt>AppName</dt>\n",
       "                <dd><code>llm_kit_cc</code></dd>\n",
       "            </dl>\n",
       "        </div>\n",
       "        \n",
       "            </div>\n",
       "        "
      ],
      "text/plain": [
       "<pyspark.sql.session.SparkSession at 0x7fd578711ae0>"
      ]
     },
     "execution_count": 8,
     "metadata": {},
     "output_type": "execute_result"
    }
   ],
   "source": [
    "config = {\n",
    "    \"spark_conf_name\": \"spark_4\",\n",
    "    \"skip_success_check\": True,\n",
    "    # 根据个人路径进行替换1\n",
    "    \"spark.executorEnv.LLM_WEB_KIT_CFG_PATH\": \"/share/jiangwenhao/.llm-web-kit.jsonc\",\n",
    "    \"spark.dynamicAllocation.maxExecutors\": \"400\",\n",
    "    \"spark.executor.cores\": \"50\",\n",
    "    \"spark.executor.memory\": \"60g\"\n",
    "}\n",
    "spark = new_spark_session(\"llm_kit_cc\", config)\n",
    "spark"
   ]
  },
  {
   "cell_type": "code",
   "execution_count": 9,
   "id": "8b8b94ef49590564",
   "metadata": {
    "ExecuteTime": {
     "end_time": "2025-03-06T06:47:21.641542Z",
     "start_time": "2025-03-06T06:47:21.626150Z"
    },
    "execution": {
     "iopub.execute_input": "2025-03-17T06:01:38.211752Z",
     "iopub.status.busy": "2025-03-17T06:01:38.211568Z",
     "iopub.status.idle": "2025-03-17T06:01:46.702628Z",
     "shell.execute_reply": "2025-03-17T06:01:46.702041Z",
     "shell.execute_reply.started": "2025-03-17T06:01:38.211734Z"
    }
   },
   "outputs": [
    {
     "name": "stdout",
     "output_type": "stream",
     "text": [
      "路径: s3://private-crawl-data/zh-web-tencent/20241218_p1/ → 平台: zh-web-tencent\n",
      "读取数据结束\n"
     ]
    }
   ],
   "source": [
    "\n",
    "\n",
    "\n",
    "\n",
    "print(f\"路径: {input_paths[0]} → 平台: {platform}\")\n",
    "\n",
    "\n",
    "\"\"\"接收 spark 作为参数而不是持有它\"\"\"\n",
    "platform_config = platform_configs.get(platform)\n",
    "if not platform_config:\n",
    "    raise ValueError(f\"Unsupported platform: {platform}\")\n",
    "\n",
    "# Driver 端操作\n",
    "input_df = read_any_path(spark, \",\".join(input_paths), config)\n",
    "print(f\"读取数据结束\")\n",
    "# 准备 Worker 端配置\n",
    "worker_config = {\n",
    "    \"field_mappings\": platform_config.get(\"field_mappings\"),\n",
    "    \"extractor_config\": platform_config.get(\"extractor_config\")\n",
    "}\n",
    "# 分别广播不同配置\n",
    "broadcast_field_mappings = worker_config[\"field_mappings\"]\n",
    "broadcast_extractor_config_path = worker_config[\"extractor_config\"] # 广播路径\n"
   ]
  },
  {
   "cell_type": "code",
   "execution_count": 10,
   "id": "35412d676d13b7f0",
   "metadata": {
    "ExecuteTime": {
     "end_time": "2025-03-06T06:47:22.196285Z",
     "start_time": "2025-03-06T06:47:22.186984Z"
    },
    "execution": {
     "iopub.execute_input": "2025-03-17T06:01:48.651498Z",
     "iopub.status.busy": "2025-03-17T06:01:48.651196Z",
     "iopub.status.idle": "2025-03-17T06:01:48.655021Z",
     "shell.execute_reply": "2025-03-17T06:01:48.654636Z",
     "shell.execute_reply.started": "2025-03-17T06:01:48.651479Z"
    }
   },
   "outputs": [
    {
     "data": {
      "text/plain": [
       "{'endpoint': 'http://10.140.97.21',\n",
       " 'ak': 'OA8AZVFH6110XW4A51NX',\n",
       " 'sk': 'aZ5XfNpTZ8xSAa9lcs7MhYAy7wGr3WAzhzO5AfR8'}"
      ]
     },
     "execution_count": 10,
     "metadata": {},
     "output_type": "execute_result"
    }
   ],
   "source": [
    "get_s3_config(input_paths[0])\n"
   ]
  },
  {
   "cell_type": "code",
   "execution_count": 11,
   "id": "5e781776-ef8d-438b-a859-2b8603326218",
   "metadata": {
    "execution": {
     "iopub.execute_input": "2025-03-17T06:01:49.582837Z",
     "iopub.status.busy": "2025-03-17T06:01:49.582557Z",
     "iopub.status.idle": "2025-03-17T06:01:49.586208Z",
     "shell.execute_reply": "2025-03-17T06:01:49.585821Z",
     "shell.execute_reply.started": "2025-03-17T06:01:49.582821Z"
    }
   },
   "outputs": [
    {
     "data": {
      "text/plain": [
       "{'track_id': 'track_id',\n",
       " 'page_layout_type_map': {'': 'article',\n",
       "  '文章': 'article',\n",
       "  '网易': 'article',\n",
       "  '视频': 'video',\n",
       "  '腾讯网': 'article'},\n",
       " 'dataset_name': 'tencent',\n",
       " 'url': 'url',\n",
       " 'html': 'content',\n",
       " 'layout_field': 'f_name',\n",
       " 'data_source_category': 'HTML'}"
      ]
     },
     "execution_count": 11,
     "metadata": {},
     "output_type": "execute_result"
    }
   ],
   "source": [
    "broadcast_field_mappings"
   ]
  },
  {
   "cell_type": "code",
   "execution_count": 11,
   "id": "58a146641e22928a",
   "metadata": {
    "ExecuteTime": {
     "end_time": "2025-03-06T06:47:23.172162Z",
     "start_time": "2025-03-06T06:47:23.159977Z"
    },
    "collapsed": true,
    "execution": {
     "iopub.execute_input": "2025-03-14T06:49:39.147773Z",
     "iopub.status.busy": "2025-03-14T06:49:39.147361Z",
     "iopub.status.idle": "2025-03-14T06:49:56.801275Z",
     "shell.execute_reply": "2025-03-14T06:49:56.800874Z",
     "shell.execute_reply.started": "2025-03-14T06:49:39.147754Z"
    },
    "jupyter": {
     "outputs_hidden": true
    }
   },
   "outputs": [
    {
     "name": "stderr",
     "output_type": "stream",
     "text": [
      "                                                                                "
     ]
    },
    {
     "data": {
      "text/plain": [
       "Row(value='{\"track_id\":\"3edfc1c9-c87b-480f-a26e-b90a7d54c24a\",\"url\":\"https://blog.sina.com.cn/s/article_archive_1884248122_201206_1.html\",\"status\":200,\"html\":\"<!DOCTYPE html PUBLIC \\\\\"-//W3C//DTD XHTML 1.0 Transitional//EN\\\\\" \\\\\"//www.w3.org/TR/xhtml1/DTD/xhtml1-transitional.dtd\\\\\"><html xmlns=\\\\\"//www.w3.org/1999/xhtml\\\\\"><head><script id=\\\\\"sinaads-ck-script\\\\\" charset=\\\\\"utf-8\\\\\" src=\\\\\"//d4.sina.com.cn/litong/zhitou/sinaads/src/spec/sinaads_ck.js\\\\\"></script><script src=\\\\\"https://d8.sina.com.cn/litong/zhitou/wenjing28/js/postMan.js\\\\\"></script>\\\\n<meta http-equiv=\\\\\"Content-Type\\\\\" content=\\\\\"text/html; charset=utf-8\\\\\">\\\\n<title>归档_安徽文学_新浪博客</title>\\\\n<meta http-equiv=\\\\\"X-UA-Compatible\\\\\" content=\\\\\"IE=EmulateIE8,chrome=1\\\\\">\\\\n<meta name=\\\\\"renderer\\\\\" content=\\\\\"webkit\\\\\">\\\\n<meta name=\\\\\"keywords\\\\\" content=\\\\\"\\\\\">\\\\n<meta name=\\\\\"description\\\\\" content=\\\\\"\\\\\">\\\\n<meta content=\\\\\"always\\\\\" name=\\\\\"referrer\\\\\">\\\\n<!--–[if lte IE 6]-->\\\\n<script type=\\\\\"text/javascript\\\\\">\\\\ntry{\\\\ndocument.execCommand(\\\\\"BackgroundImageCache\\\\\", false, true);\\\\n}catch(e){}\\\\n</script>\\\\n<!--[endif]–-->\\\\n<script type=\\\\\"text/javascript\\\\\">\\\\n    \\\\nwindow.staticTime=new Date().getTime();\\\\n;(function () {\\\\n    if(/\\\\\\\\/{2,}/.test(location.pathname)){\\\\n        location.href = \\'//blog.sina.com.cn\\' + location.pathname.replace(/\\\\\\\\/+/g,\\'/\\') + location.search;\\\\n    }\\\\n})();\\\\n</script>\\\\n<link rel=\\\\\"pingback\\\\\" href=\\\\\"//upload.move.blog.sina.com.cn/blog_rebuild/blog/xmlrpc.php\\\\\">\\\\n<link rel=\\\\\"EditURI\\\\\" type=\\\\\"application/rsd+xml\\\\\" title=\\\\\"RSD\\\\\" href=\\\\\"//upload.move.blog.sina.com.cn/blog_rebuild/blog/xmlrpc.php?rsd\\\\\">\\\\n<link href=\\\\\"//blog.sina.com.cn/blog_rebuild/blog/wlwmanifest.xml\\\\\" type=\\\\\"application/wlwmanifest+xml\\\\\" rel=\\\\\"wlwmanifest\\\\\">\\\\n<link rel=\\\\\"alternate\\\\\" type=\\\\\"application/rss+xml\\\\\" href=\\\\\"//blog.sina.com.cn/rss/1884248122.xml\\\\\" title=\\\\\"RSS\\\\\">\\\\n<link href=\\\\\"//simg.sinajs.cn/blog7style/css/conf/blog/articlelist.css\\\\\" type=\\\\\"text/css\\\\\" rel=\\\\\"stylesheet\\\\\"><style id=\\\\\"tplstyle\\\\\" type=\\\\\"text/css\\\\\">@charset \\\\\"utf-8\\\\\";@import url(\\\\\"//simg.sinajs.cn/blog7newtpl/css/30/30_1/t.css\\\\\");\\\\n</style>\\\\n<style id=\\\\\"positionstyle\\\\\" type=\\\\\"text/css\\\\\">\\\\n</style>\\\\n<style id=\\\\\"bgtyle\\\\\" type=\\\\\"text/css\\\\\">\\\\n</style>\\\\n<style id=\\\\\"headtyle\\\\\" type=\\\\\"text/css\\\\\">\\\\n</style>\\\\n<style id=\\\\\"navtyle\\\\\" type=\\\\\"text/css\\\\\">\\\\n</style>\\\\n\\\\n    <link href=\\\\\"//mjs.sinaimg.cn//wap/project/blog_upload/1.0.6/index_v3/static/css/index_v3.min.css\\\\\" type=\\\\\"text/css\\\\\" rel=\\\\\"stylesheet\\\\\">\\\\n    <script type=\\\\\"text/javascript\\\\\" src=\\\\\"//mjs.sinaimg.cn//wap/project/blog_upload/1.0.7/index_v3/static/js/index_v3.min.js\\\\\"></script>\\\\n    <style>\\\\n    .popup_blogUpdata{\\\\n      z-index:1200\\\\n    }\\\\n    .fl_bg{\\\\n      z-index:1100;\\\\n    }\\\\n    .articleCell .atc_main{\\\\n      width:340px!important;\\\\n    }\\\\n    </style>\\\\n<script src=\\\\\"//i.sso.sina.com.cn/js/ssologin.js\\\\\" charset=\\\\\"utf-8\\\\\" async=\\\\\"\\\\\"></script><script src=\\\\\"//sjs.sinajs.cn/blog7/articlelist.js?737.js\\\\\" charset=\\\\\"utf-8\\\\\"></script><script src=\\\\\"//d5.sina.com.cn/litong/zhitou/sinaads/release/sinaads.js\\\\\" charset=\\\\\"utf-8\\\\\"></script><script src=\\\\\"//www.sinaimg.cn/unipro/pub/suda_s_v851c.js\\\\\" charset=\\\\\"utf-8\\\\\"></script><iframe src=\\\\\"https://sbeacon.sina.com.cn/data.html?1730559205404\\\\\" id=\\\\\"sudaDataFrame\\\\\" scrolling=\\\\\"no\\\\\" style=\\\\\"height: 0px; width: 1px; overflow: hidden;\\\\\"></iframe><script src=\\\\\"https://sbeacon.sina.com.cn/h.js\\\\\"></script><iframe src=\\\\\"https://sbeacon.sina.com.cn/ckctl.html\\\\\" id=\\\\\"ckctlFrame\\\\\" scrolling=\\\\\"no\\\\\" style=\\\\\"height: 0px; width: 1px; overflow: hidden;\\\\\"></iframe></head>\\\\n<body><div id=\\\\\"sinaadToolkitBox0\\\\\" class=\\\\\"sinaad-toolkit-box\\\\\" style=\\\\\"position: fixed; width: 120px; height: 288px; z-index: 99999; display: block; left: 0px; top: 120px;\\\\\"><div style=\\\\\"width: 120px; height: 18px; position: absolute; right: 0px; top: 270px; z-index: 10000; background: url(&quot;//d2.sina.com.cn/litong/zhitou/sinaads/60x18_1_close.gif&quot;) right center no-repeat rgb(235, 235, 235); margin: 0px; padding: 0px; cursor: pointer;\\\\\"></div><div style=\\\\\"width: 120px; height: 270px; position: absolute; right: 0px; top: 0px;\\\\\"><iframe adtypeturning=\\\\\"undefined\\\\\" width=\\\\\"120px\\\\\" height=\\\\\"270px\\\\\" frameborder=\\\\\"0\\\\\" marginwidth=\\\\\"0\\\\\" marginheight=\\\\\"0\\\\\" vspace=\\\\\"0\\\\\" hspace=\\\\\"0\\\\\" allowtransparency=\\\\\"true\\\\\" scrolling=\\\\\"no\\\\\" sandbox=\\\\\"allow-popups allow-same-origin allow-scripts allow-top-navigation-by-user-activation allow-popups-to-escape-sandbox\\\\\" src=\\\\\"javascript:\\'<html><body style=background:transparent;></body></html>\\'\\\\\" id=\\\\\"sinaadtk_sandbox_id_0\\\\\" style=\\\\\"float:left;\\\\\" name=\\\\\"sinaadtk_sandbox_id_0\\\\\"></iframe></div></div>\\\\n<!--$sinatopbar-->\\\\n<div style=\\\\\"z-index:512;\\\\\" class=\\\\\"nsinatopbar\\\\\">\\\\n  <div style=\\\\\"position:absolute;left:0;top:0;\\\\\" id=\\\\\"trayFlashConnetion\\\\\"><embed pluginspage=\\\\\"//www.macromedia.com/go/getflashplayer\\\\\" type=\\\\\"application/x-shockwave-flash\\\\\" src=\\\\\"//sjs.sinajs.cn/blog7swf/scache.swf\\\\\" width=\\\\\"1\\\\\" height=\\\\\"1\\\\\" style=\\\\\"undefined\\\\\" id=\\\\\"scache\\\\\" name=\\\\\"scache\\\\\" bgcolor=\\\\\"#00ff00\\\\\" quality=\\\\\"high\\\\\" wmode=\\\\\"transparent\\\\\" allowscriptaccess=\\\\\"always\\\\\"></div>\\\\n  <div class=\\\\\"ntopbar_main\\\\\"><div id=\\\\\"_4991730559205402_panel\\\\\" class=\\\\\"horn\\\\\" style=\\\\\"display: none;\\\\\"><div id=\\\\\"_4991730559205402_tj\\\\\" class=\\\\\"horn_con\\\\\" style=\\\\\"display:none;\\\\\">推荐：<a id=\\\\\"_4991730559205402_noticeAd1\\\\\" target=\\\\\"_blank\\\\\" href=\\\\\"#\\\\\"></a><a id=\\\\\"_4991730559205402_noticeAd2\\\\\" target=\\\\\"_blank\\\\\" href=\\\\\"#\\\\\"></a></div><div id=\\\\\"_4991730559205402_announce\\\\\" class=\\\\\"horn_con\\\\\" style=\\\\\"display:none;\\\\\"><p id=\\\\\"_4991730559205402_announceCon\\\\\">公告：<em>请您及时更换请请请您正在使用的模版将于2周后被下线，请您及时更换</em></p></div><a class=\\\\\"close\\\\\" title=\\\\\"关闭\\\\\" id=\\\\\"_4991730559205402_close\\\\\" style=\\\\\"float:none;\\\\\">×</a></div> \\\\n    <a id=\\\\\"login_bar_logo_link_350\\\\\" href=\\\\\"//blog.sina.com.cn\\\\\" target=\\\\\"_blank\\\\\"><img class=\\\\\"ntopbar_logo\\\\\" src=\\\\\"//simg.sinajs.cn/blog7style/images/common/topbar/topbar_logo.gif\\\\\" width=\\\\\"100\\\\\" alt=\\\\\"新浪博客\\\\\"></a>\\\\n    <div class=\\\\\"ntopbar_floatL\\\\\">\\\\n      <div class=\\\\\"ntopbar_search\\\\\" id=\\\\\"traySearchBar\\\\\" style=\\\\\"display:none;\\\\\"><div class=\\\\\"ntopbar_input\\\\\" id=\\\\\"_9161730559205396_panel\\\\\" style=\\\\\"\\\\\"><form id=\\\\\"_9161730559205396_searchForm\\\\\" method=\\\\\"get\\\\\" target=\\\\\"_blank\\\\\" action=\\\\\"//search.sina.com.cn\\\\\"><input id=\\\\\"_9161730559205396_queryTxt\\\\\" class=\\\\\"ntopbar_txt\\\\\" type=\\\\\"text\\\\\" name=\\\\\"q\\\\\" autocomplete=\\\\\"off\\\\\"><input id=\\\\\"_9161730559205396_submit\\\\\" type=\\\\\"submit\\\\\" onclick=\\\\\"v7sendLog(\\'40_01_44\\')\\\\\" class=\\\\\"ntopbar_searchBtn\\\\\" value=\\\\\"\\\\\"><input type=\\\\\"hidden\\\\\" name=\\\\\"ie\\\\\" value=\\\\\"utf-8\\\\\"><input type=\\\\\"hidden\\\\\" name=\\\\\"e\\\\\" value=\\\\\"utf-8\\\\\"><input id=\\\\\"_9161730559205396_range\\\\\" type=\\\\\"hidden\\\\\" name=\\\\\"range\\\\\" value=\\\\\"article\\\\\"><input id=\\\\\"_9161730559205396_t\\\\\" type=\\\\\"hidden\\\\\" name=\\\\\"t\\\\\" value=\\\\\"\\\\\"><input id=\\\\\"_9161730559205396_s\\\\\" type=\\\\\"hidden\\\\\" name=\\\\\"s\\\\\" value=\\\\\"sup\\\\\"><input id=\\\\\"_9161730559205396_by\\\\\" type=\\\\\"hidden\\\\\" name=\\\\\"by\\\\\" value=\\\\\"all\\\\\"><input id=\\\\\"_9161730559205396_type\\\\\" type=\\\\\"hidden\\\\\" name=\\\\\"type\\\\\" value=\\\\\"\\\\\"><input id=\\\\\"_9161730559205396_stype\\\\\" type=\\\\\"hidden\\\\\" name=\\\\\"stype\\\\\" value=\\\\\"1\\\\\"><input id=\\\\\"_9161730559205396_c\\\\\" type=\\\\\"hidden\\\\\" name=\\\\\"c\\\\\" value=\\\\\"blog\\\\\"></form></div></div>\\\\n\\\\t  <div class=\\\\\"ntopbar_ad\\\\\" id=\\\\\"loginBarActivity\\\\\" style=\\\\\"display:none;\\\\\"></div>\\\\n    </div>\\\\n    <div class=\\\\\"ntopbar_loading\\\\\" style=\\\\\"display: none;\\\\\"><img src=\\\\\"//simg.sinajs.cn/blog7style/images/common/loading.gif\\\\\">加载中…</div>\\\\n  <div id=\\\\\"_641730559205297_panel\\\\\" class=\\\\\"ntopbar_login\\\\\" login=\\\\\"1\\\\\" style=\\\\\"\\\\\"><span class=\\\\\"link bk_home\\\\\"><a href=\\\\\"//www.sina.com.cn\\\\\" target=\\\\\"_blank\\\\\" suda-uatrack=\\\\\"key=sinahome_from_blog&amp;value=sinahome_from_blogpage\\\\\"><i class=\\\\\"SG_bkhome\\\\\"></i>新浪首页</a></span><a class=\\\\\"login\\\\\" onclick=\\\\\"v7sendLog(\\'40_01_38\\');return false;\\\\\" href=\\\\\"###\\\\\" action-type=\\\\\"tray-login-btn\\\\\"><span>登录</span></a><a class=\\\\\"register\\\\\" onclick=\\\\\"v7sendLog(\\'40_01_39\\')\\\\\" target=\\\\\"_blank\\\\\" href=\\\\\"https://login.sina.com.cn/signup/signupmail.php?entry=blog&amp;srcuid=1884248122&amp;src=blogicp\\\\\">注册</a></div></div>\\\\n</div>\\\\n<!--$end sinatopbar-->\\\\n\\\\n<div class=\\\\\"sinabloga\\\\\" id=\\\\\"sinabloga\\\\\">\\\\n\\\\t<div id=\\\\\"sinablogb\\\\\" class=\\\\\"sinablogb\\\\\">\\\\n\\\\n\\\\t   \\\\n <div id=\\\\\"sinablogHead\\\\\" class=\\\\\"sinabloghead\\\\\">\\\\n     <div style=\\\\\"display: none;\\\\\" id=\\\\\"headflash\\\\\" class=\\\\\"headflash\\\\\"></div>\\\\n\\\\t   <div id=\\\\\"headarea\\\\\" class=\\\\\"headarea\\\\\">\\\\n      <div id=\\\\\"blogTitle\\\\\" class=\\\\\"blogtoparea\\\\\">\\\\n      <!-- <h1 id=\\\\\"blogname\\\\\" class=\\\\\"blogtitle\\\\\"><a href=\\\\\"http://blog.sina.com.cn/u/1884248122\\\\\"><span id=\\\\\"blognamespan\\\\\">加载中...</span></a></h1> -->\\\\n\\\\t  <!--  -->\\\\n\\\\t\\\\t\\\\n\\\\t\\\\t\\\\t\\\\t\\\\t<div id=\\\\\"bloglink\\\\\" class=\\\\\"bloglink\\\\\"><a href=\\\\\"http://blog.sina.com.cn/u/1884248122\\\\\">http://blog.sina.com.cn/u/1884248122</a> </div>\\\\n      </div>\\\\n      <div class=\\\\\"blognav\\\\\" id=\\\\\"blognav\\\\\">\\\\n      \\\\t\\\\t\\\\t  <div id=\\\\\"blognavBg\\\\\" class=\\\\\"blognavBg\\\\\"></div> <div class=\\\\\"blognavInfo\\\\\"> \\\\n\\\\t\\\\t<span><a href=\\\\\"http://blog.sina.com.cn/u/1884248122\\\\\">首页</a></span>\\\\n      <span><a class=\\\\\"on\\\\\" href=\\\\\"//blog.sina.com.cn/s/articlelist_1884248122_0_1.html\\\\\">博文目录</a></span>\\\\n      <!--<span><a href=\\\\\"\\\\\">图片</a></span>-->\\\\n      <span class=\\\\\"last\\\\\"><a href=\\\\\"//blog.sina.com.cn/s/profile_1884248122.html\\\\\">关于我</a></span></div>\\\\n      </div>      \\\\t\\\\t      \\\\n             <div class=\\\\\"autoskin\\\\\" id=\\\\\"auto_skin\\\\\">\\\\n       </div>\\\\n\\\\n<div class=\\\\\"adsarea\\\\\">\\\\n     <a href=\\\\\"#\\\\\"><div id=\\\\\"template_clone_pic\\\\\" class=\\\\\"pic\\\\\"></div></a>\\\\n     <div id=\\\\\"template_clone_link\\\\\" class=\\\\\"link wdc_HInf\\\\\"></div>\\\\n     <div id=\\\\\"template_clone_other\\\\\" class=\\\\\"other\\\\\"></div>        \\\\n</div>\\\\n    </div>\\\\n    </div>\\\\n    \\\\n    <!--主题内容开始 -->\\\\n    <div class=\\\\\"sinablogbody\\\\\" id=\\\\\"sinablogbody\\\\\">\\\\n\\\\t\\\\t\\\\n\\\\t<!--第一列start-->\\\\n    <div id=\\\\\"column_1\\\\\" class=\\\\\"SG_colW21 SG_colFirst\\\\\"><div class=\\\\\"SG_conn\\\\\" id=\\\\\"module_931\\\\\">\\\\n            <div class=\\\\\"SG_connHead\\\\\">\\\\n            <span class=\\\\\"title\\\\\" comp_title=\\\\\"归档\\\\\">归档</span>\\\\n            \\\\n            <span class=\\\\\"edit\\\\\"></span>\\\\n            </div>\\\\n            <div class=\\\\\"SG_connBody\\\\\"><div class=\\\\\"menuList fileList\\\\\"><div id=\\\\\"archive_2010\\\\\" class=\\\\\"fileCell \\\\\"><p onclick=\\\\\"Lib.Component.instances[931].toggle(2010);\\\\\" class=\\\\\"fileList_year SG_dot\\\\\"><span>2010年</span><em></em></p><div id=\\\\\"archive_detail_2010\\\\\" class=\\\\\"fileList_month\\\\\" style=\\\\\"display: none;\\\\\"><ul><li><div class=\\\\\"menuCell_main\\\\\"><span><a href=\\\\\"//blog.sina.com.cn/s/article_archive_1884248122_201012_1.html\\\\\">12月(2)</a></span></div><div class=\\\\\"menuCell_bot\\\\\"></div></li></ul></div></div><div class=\\\\\"SG_j_line\\\\\"></div><div id=\\\\\"archive_2011\\\\\" class=\\\\\"fileCell \\\\\"><p onclick=\\\\\"Lib.Component.instances[931].toggle(2011);\\\\\" class=\\\\\"fileList_year SG_dot\\\\\"><span>2011年</span><em></em></p><div id=\\\\\"archive_detail_2011\\\\\" class=\\\\\"fileList_month\\\\\" style=\\\\\"display: none;\\\\\"><ul><li><div class=\\\\\"menuCell_main\\\\\"><span><a href=\\\\\"//blog.sina.com.cn/s/article_archive_1884248122_201112_1.html\\\\\">12月(2)</a></span></div><div class=\\\\\"menuCell_bot\\\\\"></div></li><li><div class=\\\\\"menuCell_main\\\\\"><span><a href=\\\\\"//blog.sina.com.cn/s/article_archive_1884248122_201111_1.html\\\\\">11月(1)</a></span></div><div class=\\\\\"menuCell_bot\\\\\"></div></li><li><div class=\\\\\"menuCell_main\\\\\"><span><a href=\\\\\"//blog.sina.com.cn/s/article_archive_1884248122_201110_1.html\\\\\">10月(2)</a></span></div><div class=\\\\\"menuCell_bot\\\\\"></div></li><li><div class=\\\\\"menuCell_main\\\\\"><span><a href=\\\\\"//blog.sina.com.cn/s/article_archive_1884248122_201109_1.html\\\\\">09月(1)</a></span></div><div class=\\\\\"menuCell_bot\\\\\"></div></li><li><div class=\\\\\"menuCell_main\\\\\"><span><a href=\\\\\"//blog.sina.com.cn/s/article_archive_1884248122_201108_1.html\\\\\">08月(1)</a></span></div><div class=\\\\\"menuCell_bot\\\\\"></div></li><li><div class=\\\\\"menuCell_main\\\\\"><span><a href=\\\\\"//blog.sina.com.cn/s/article_archive_1884248122_201107_1.html\\\\\">07月(1)</a></span></div><div class=\\\\\"menuCell_bot\\\\\"></div></li><li><div class=\\\\\"menuCell_main\\\\\"><span><a href=\\\\\"//blog.sina.com.cn/s/article_archive_1884248122_201106_1.html\\\\\">06月(1)</a></span></div><div class=\\\\\"menuCell_bot\\\\\"></div></li><li><div class=\\\\\"menuCell_main\\\\\"><span><a href=\\\\\"//blog.sina.com.cn/s/article_archive_1884248122_201105_1.html\\\\\">05月(1)</a></span></div><div class=\\\\\"menuCell_bot\\\\\"></div></li><li><div class=\\\\\"menuCell_main\\\\\"><span><a href=\\\\\"//blog.sina.com.cn/s/article_archive_1884248122_201104_1.html\\\\\">04月(4)</a></span></div><div class=\\\\\"menuCell_bot\\\\\"></div></li><li><div class=\\\\\"menuCell_main\\\\\"><span><a href=\\\\\"//blog.sina.com.cn/s/article_archive_1884248122_201103_1.html\\\\\">03月(1)</a></span></div><div class=\\\\\"menuCell_bot\\\\\"></div></li><li><div class=\\\\\"menuCell_main\\\\\"><span><a href=\\\\\"//blog.sina.com.cn/s/article_archive_1884248122_201102_1.html\\\\\">02月(2)</a></span></div><div class=\\\\\"menuCell_bot\\\\\"></div></li><li><div class=\\\\\"menuCell_main\\\\\"><span><a href=\\\\\"//blog.sina.com.cn/s/article_archive_1884248122_201101_1.html\\\\\">01月(1)</a></span></div><div class=\\\\\"menuCell_bot\\\\\"></div></li></ul></div></div><div class=\\\\\"SG_j_line\\\\\"></div><div id=\\\\\"archive_2012\\\\\" class=\\\\\"fileCell  fileCell_open\\\\\"><p onclick=\\\\\"Lib.Component.instances[931].toggle(2012);\\\\\" class=\\\\\"fileList_year SG_dot\\\\\"><span>2012年</span><em></em></p><div id=\\\\\"archive_detail_2012\\\\\" class=\\\\\"fileList_month\\\\\"><ul><li><div class=\\\\\"menuCell_main\\\\\"><span><a href=\\\\\"//blog.sina.com.cn/s/article_archive_1884248122_201211_1.html\\\\\">11月(2)</a></span></div><div class=\\\\\"menuCell_bot\\\\\"></div></li><li><div class=\\\\\"menuCell_main\\\\\"><span><a href=\\\\\"//blog.sina.com.cn/s/article_archive_1884248122_201209_1.html\\\\\">09月(1)</a></span></div><div class=\\\\\"menuCell_bot\\\\\"></div></li><li><div class=\\\\\"menuCell_main\\\\\"><span><a href=\\\\\"//blog.sina.com.cn/s/article_archive_1884248122_201208_1.html\\\\\">08月(2)</a></span></div><div class=\\\\\"menuCell_bot\\\\\"></div></li><li><div class=\\\\\"menuCell_main\\\\\"><span><a href=\\\\\"//blog.sina.com.cn/s/article_archive_1884248122_201207_1.html\\\\\">07月(1)</a></span></div><div class=\\\\\"menuCell_bot\\\\\"></div></li><li class=\\\\\"current\\\\\"><div class=\\\\\"menuCell_main\\\\\"><span><strong>06月(1)</strong></span></div><div class=\\\\\"menuCell_bot\\\\\"></div></li><li><div class=\\\\\"menuCell_main\\\\\"><span><a href=\\\\\"//blog.sina.com.cn/s/article_archive_1884248122_201205_1.html\\\\\">05月(1)</a></span></div><div class=\\\\\"menuCell_bot\\\\\"></div></li><li><div class=\\\\\"menuCell_main\\\\\"><span><a href=\\\\\"//blog.sina.com.cn/s/article_archive_1884248122_201204_1.html\\\\\">04月(2)</a></span></div><div class=\\\\\"menuCell_bot\\\\\"></div></li><li><div class=\\\\\"menuCell_main\\\\\"><span><a href=\\\\\"//blog.sina.com.cn/s/article_archive_1884248122_201203_1.html\\\\\">03月(2)</a></span></div><div class=\\\\\"menuCell_bot\\\\\"></div></li><li><div class=\\\\\"menuCell_main\\\\\"><span><a href=\\\\\"//blog.sina.com.cn/s/article_archive_1884248122_201202_1.html\\\\\">02月(1)</a></span></div><div class=\\\\\"menuCell_bot\\\\\"></div></li><li><div class=\\\\\"menuCell_main\\\\\"><span><a href=\\\\\"//blog.sina.com.cn/s/article_archive_1884248122_201201_1.html\\\\\">01月(1)</a></span></div><div class=\\\\\"menuCell_bot\\\\\"></div></li></ul></div></div><div class=\\\\\"SG_j_line\\\\\"></div><div id=\\\\\"archive_2013\\\\\" class=\\\\\"fileCell \\\\\"><p onclick=\\\\\"Lib.Component.instances[931].toggle(2013);\\\\\" class=\\\\\"fileList_year SG_dot\\\\\"><span>2013年</span><em></em></p><div id=\\\\\"archive_detail_2013\\\\\" class=\\\\\"fileList_month\\\\\" style=\\\\\"display: none;\\\\\"><ul><li><div class=\\\\\"menuCell_main\\\\\"><span><a href=\\\\\"//blog.sina.com.cn/s/article_archive_1884248122_201312_1.html\\\\\">12月(4)</a></span></div><div class=\\\\\"menuCell_bot\\\\\"></div></li><li><div class=\\\\\"menuCell_main\\\\\"><span><a href=\\\\\"//blog.sina.com.cn/s/article_archive_1884248122_201311_1.html\\\\\">11月(1)</a></span></div><div class=\\\\\"menuCell_bot\\\\\"></div></li><li><div class=\\\\\"menuCell_main\\\\\"><span><a href=\\\\\"//blog.sina.com.cn/s/article_archive_1884248122_201310_1.html\\\\\">10月(1)</a></span></div><div class=\\\\\"menuCell_bot\\\\\"></div></li><li><div class=\\\\\"menuCell_main\\\\\"><span><a href=\\\\\"//blog.sina.com.cn/s/article_archive_1884248122_201309_1.html\\\\\">09月(3)</a></span></div><div class=\\\\\"menuCell_bot\\\\\"></div></li><li><div class=\\\\\"menuCell_main\\\\\"><span><a href=\\\\\"//blog.sina.com.cn/s/article_archive_1884248122_201308_1.html\\\\\">08月(1)</a></span></div><div class=\\\\\"menuCell_bot\\\\\"></div></li><li><div class=\\\\\"menuCell_main\\\\\"><span><a href=\\\\\"//blog.sina.com.cn/s/article_archive_1884248122_201307_1.html\\\\\">07月(2)</a></span></div><div class=\\\\\"menuCell_bot\\\\\"></div></li><li><div class=\\\\\"menuCell_main\\\\\"><span><a href=\\\\\"//blog.sina.com.cn/s/article_archive_1884248122_201306_1.html\\\\\">06月(1)</a></span></div><div class=\\\\\"menuCell_bot\\\\\"></div></li><li><div class=\\\\\"menuCell_main\\\\\"><span><a href=\\\\\"//blog.sina.com.cn/s/article_archive_1884248122_201305_1.html\\\\\">05月(1)</a></span></div><div class=\\\\\"menuCell_bot\\\\\"></div></li><li><div class=\\\\\"menuCell_main\\\\\"><span><a href=\\\\\"//blog.sina.com.cn/s/article_archive_1884248122_201304_1.html\\\\\">04月(1)</a></span></div><div class=\\\\\"menuCell_bot\\\\\"></div></li><li><div class=\\\\\"menuCell_main\\\\\"><span><a href=\\\\\"//blog.sina.com.cn/s/article_archive_1884248122_201303_1.html\\\\\">03月(1)</a></span></div><div class=\\\\\"menuCell_bot\\\\\"></div></li><li><div class=\\\\\"menuCell_main\\\\\"><span><a href=\\\\\"//blog.sina.com.cn/s/article_archive_1884248122_201302_1.html\\\\\">02月(1)</a></span></div><div class=\\\\\"menuCell_bot\\\\\"></div></li><li><div class=\\\\\"menuCell_main\\\\\"><span><a href=\\\\\"//blog.sina.com.cn/s/article_archive_1884248122_201301_1.html\\\\\">01月(3)</a></span></div><div class=\\\\\"menuCell_bot\\\\\"></div></li></ul></div></div><div class=\\\\\"SG_j_line\\\\\"></div><div id=\\\\\"archive_2014\\\\\" class=\\\\\"fileCell \\\\\"><p onclick=\\\\\"Lib.Component.instances[931].toggle(2014);\\\\\" class=\\\\\"fileList_year SG_dot\\\\\"><span>2014年</span><em></em></p><div id=\\\\\"archive_detail_2014\\\\\" class=\\\\\"fileList_month\\\\\" style=\\\\\"display: none;\\\\\"><ul><li><div class=\\\\\"menuCell_main\\\\\"><span><a href=\\\\\"//blog.sina.com.cn/s/article_archive_1884248122_201412_1.html\\\\\">12月(1)</a></span></div><div class=\\\\\"menuCell_bot\\\\\"></div></li><li><div class=\\\\\"menuCell_main\\\\\"><span><a href=\\\\\"//blog.sina.com.cn/s/article_archive_1884248122_201411_1.html\\\\\">11月(1)</a></span></div><div class=\\\\\"menuCell_bot\\\\\"></div></li><li><div class=\\\\\"menuCell_main\\\\\"><span><a href=\\\\\"//blog.sina.com.cn/s/article_archive_1884248122_201410_1.html\\\\\">10月(2)</a></span></div><div class=\\\\\"menuCell_bot\\\\\"></div></li><li><div class=\\\\\"menuCell_main\\\\\"><span><a href=\\\\\"//blog.sina.com.cn/s/article_archive_1884248122_201409_1.html\\\\\">09月(2)</a></span></div><div class=\\\\\"menuCell_bot\\\\\"></div></li><li><div class=\\\\\"menuCell_main\\\\\"><span><a href=\\\\\"//blog.sina.com.cn/s/article_archive_1884248122_201408_1.html\\\\\">08月(1)</a></span></div><div class=\\\\\"menuCell_bot\\\\\"></div></li><li><div class=\\\\\"menuCell_main\\\\\"><span><a href=\\\\\"//blog.sina.com.cn/s/article_archive_1884248122_201407_1.html\\\\\">07月(1)</a></span></div><div class=\\\\\"menuCell_bot\\\\\"></div></li><li><div class=\\\\\"menuCell_main\\\\\"><span><a href=\\\\\"//blog.sina.com.cn/s/article_archive_1884248122_201406_1.html\\\\\">06月(2)</a></span></div><div class=\\\\\"menuCell_bot\\\\\"></div></li><li><div class=\\\\\"menuCell_main\\\\\"><span><a href=\\\\\"//blog.sina.com.cn/s/article_archive_1884248122_201405_1.html\\\\\">05月(2)</a></span></div><div class=\\\\\"menuCell_bot\\\\\"></div></li><li><div class=\\\\\"menuCell_main\\\\\"><span><a href=\\\\\"//blog.sina.com.cn/s/article_archive_1884248122_201404_1.html\\\\\">04月(1)</a></span></div><div class=\\\\\"menuCell_bot\\\\\"></div></li><li><div class=\\\\\"menuCell_main\\\\\"><span><a href=\\\\\"//blog.sina.com.cn/s/article_archive_1884248122_201403_1.html\\\\\">03月(2)</a></span></div><div class=\\\\\"menuCell_bot\\\\\"></div></li><li><div class=\\\\\"menuCell_main\\\\\"><span><a href=\\\\\"//blog.sina.com.cn/s/article_archive_1884248122_201402_1.html\\\\\">02月(1)</a></span></div><div class=\\\\\"menuCell_bot\\\\\"></div></li><li><div class=\\\\\"menuCell_main\\\\\"><span><a href=\\\\\"//blog.sina.com.cn/s/article_archive_1884248122_201401_1.html\\\\\">01月(1)</a></span></div><div class=\\\\\"menuCell_bot\\\\\"></div></li></ul></div></div><div class=\\\\\"SG_j_line\\\\\"></div><div id=\\\\\"archive_2015\\\\\" class=\\\\\"fileCell \\\\\"><p onclick=\\\\\"Lib.Component.instances[931].toggle(2015);\\\\\" class=\\\\\"fileList_year SG_dot\\\\\"><span>2015年</span><em></em></p><div id=\\\\\"archive_detail_2015\\\\\" class=\\\\\"fileList_month\\\\\" style=\\\\\"display: none;\\\\\"><ul><li><div class=\\\\\"menuCell_main\\\\\"><span><a href=\\\\\"//blog.sina.com.cn/s/article_archive_1884248122_201512_1.html\\\\\">12月(1)</a></span></div><div class=\\\\\"menuCell_bot\\\\\"></div></li><li><div class=\\\\\"menuCell_main\\\\\"><span><a href=\\\\\"//blog.sina.com.cn/s/article_archive_1884248122_201511_1.html\\\\\">11月(2)</a></span></div><div class=\\\\\"menuCell_bot\\\\\"></div></li><li><div class=\\\\\"menuCell_main\\\\\"><span><a href=\\\\\"//blog.sina.com.cn/s/article_archive_1884248122_201509_1.html\\\\\">09月(1)</a></span></div><div class=\\\\\"menuCell_bot\\\\\"></div></li><li><div class=\\\\\"menuCell_main\\\\\"><span><a href=\\\\\"//blog.sina.com.cn/s/article_archive_1884248122_201508_1.html\\\\\">08月(1)</a></span></div><div class=\\\\\"menuCell_bot\\\\\"></div></li><li><div class=\\\\\"menuCell_main\\\\\"><span><a href=\\\\\"//blog.sina.com.cn/s/article_archive_1884248122_201507_1.html\\\\\">07月(1)</a></span></div><div class=\\\\\"menuCell_bot\\\\\"></div></li><li><div class=\\\\\"menuCell_main\\\\\"><span><a href=\\\\\"//blog.sina.com.cn/s/article_archive_1884248122_201506_1.html\\\\\">06月(1)</a></span></div><div class=\\\\\"menuCell_bot\\\\\"></div></li><li><div class=\\\\\"menuCell_main\\\\\"><span><a href=\\\\\"//blog.sina.com.cn/s/article_archive_1884248122_201505_1.html\\\\\">05月(2)</a></span></div><div class=\\\\\"menuCell_bot\\\\\"></div></li><li><div class=\\\\\"menuCell_main\\\\\"><span><a href=\\\\\"//blog.sina.com.cn/s/article_archive_1884248122_201504_1.html\\\\\">04月(2)</a></span></div><div class=\\\\\"menuCell_bot\\\\\"></div></li><li><div class=\\\\\"menuCell_main\\\\\"><span><a href=\\\\\"//blog.sina.com.cn/s/article_archive_1884248122_201503_1.html\\\\\">03月(1)</a></span></div><div class=\\\\\"menuCell_bot\\\\\"></div></li><li><div class=\\\\\"menuCell_main\\\\\"><span><a href=\\\\\"//blog.sina.com.cn/s/article_archive_1884248122_201502_1.html\\\\\">02月(2)</a></span></div><div class=\\\\\"menuCell_bot\\\\\"></div></li><li><div class=\\\\\"menuCell_main\\\\\"><span><a href=\\\\\"//blog.sina.com.cn/s/article_archive_1884248122_201501_1.html\\\\\">01月(2)</a></span></div><div class=\\\\\"menuCell_bot\\\\\"></div></li></ul></div></div><div class=\\\\\"SG_j_line\\\\\"></div><div id=\\\\\"archive_2016\\\\\" class=\\\\\"fileCell \\\\\"><p onclick=\\\\\"Lib.Component.instances[931].toggle(2016);\\\\\" class=\\\\\"fileList_year SG_dot\\\\\"><span>2016年</span><em></em></p><div id=\\\\\"archive_detail_2016\\\\\" class=\\\\\"fileList_month\\\\\" style=\\\\\"display: none;\\\\\"><ul><li><div class=\\\\\"menuCell_main\\\\\"><span><a href=\\\\\"//blog.sina.com.cn/s/article_archive_1884248122_201612_1.html\\\\\">12月(3)</a></span></div><div class=\\\\\"menuCell_bot\\\\\"></div></li><li><div class=\\\\\"menuCell_main\\\\\"><span><a href=\\\\\"//blog.sina.com.cn/s/article_archive_1884248122_201611_1.html\\\\\">11月(3)</a></span></div><div class=\\\\\"menuCell_bot\\\\\"></div></li><li><div class=\\\\\"menuCell_main\\\\\"><span><a href=\\\\\"//blog.sina.com.cn/s/article_archive_1884248122_201609_1.html\\\\\">09月(1)</a></span></div><div class=\\\\\"menuCell_bot\\\\\"></div></li><li><div class=\\\\\"menuCell_main\\\\\"><span><a href=\\\\\"//blog.sina.com.cn/s/article_archive_1884248122_201608_1.html\\\\\">08月(1)</a></span></div><div class=\\\\\"menuCell_bot\\\\\"></div></li><li><div class=\\\\\"menuCell_main\\\\\"><span><a href=\\\\\"//blog.sina.com.cn/s/article_archive_1884248122_201607_1.html\\\\\">07月(1)</a></span></div><div class=\\\\\"menuCell_bot\\\\\"></div></li><li><div class=\\\\\"menuCell_main\\\\\"><span><a href=\\\\\"//blog.sina.com.cn/s/article_archive_1884248122_201606_1.html\\\\\">06月(1)</a></span></div><div class=\\\\\"menuCell_bot\\\\\"></div></li><li><div class=\\\\\"menuCell_main\\\\\"><span><a href=\\\\\"//blog.sina.com.cn/s/article_archive_1884248122_201605_1.html\\\\\">05月(2)</a></span></div><div class=\\\\\"menuCell_bot\\\\\"></div></li><li><div class=\\\\\"menuCell_main\\\\\"><span><a href=\\\\\"//blog.sina.com.cn/s/article_archive_1884248122_201604_1.html\\\\\">04月(1)</a></span></div><div class=\\\\\"menuCell_bot\\\\\"></div></li><li><div class=\\\\\"menuCell_main\\\\\"><span><a href=\\\\\"//blog.sina.com.cn/s/article_archive_1884248122_201603_1.html\\\\\">03月(2)</a></span></div><div class=\\\\\"menuCell_bot\\\\\"></div></li><li><div class=\\\\\"menuCell_main\\\\\"><span><a href=\\\\\"//blog.sina.com.cn/s/article_archive_1884248122_201601_1.html\\\\\">01月(2)</a></span></div><div class=\\\\\"menuCell_bot\\\\\"></div></li></ul></div></div><div class=\\\\\"SG_j_line\\\\\"></div><div id=\\\\\"archive_2017\\\\\" class=\\\\\"fileCell \\\\\"><p onclick=\\\\\"Lib.Component.instances[931].toggle(2017);\\\\\" class=\\\\\"fileList_year SG_dot\\\\\"><span>2017年</span><em></em></p><div id=\\\\\"archive_detail_2017\\\\\" class=\\\\\"fileList_month\\\\\" style=\\\\\"display: none;\\\\\"><ul><li><div class=\\\\\"menuCell_main\\\\\"><span><a href=\\\\\"//blog.sina.com.cn/s/article_archive_1884248122_201712_1.html\\\\\">12月(1)</a></span></div><div class=\\\\\"menuCell_bot\\\\\"></div></li><li><div class=\\\\\"menuCell_main\\\\\"><span><a href=\\\\\"//blog.sina.com.cn/s/article_archive_1884248122_201711_1.html\\\\\">11月(1)</a></span></div><div class=\\\\\"menuCell_bot\\\\\"></div></li><li><div class=\\\\\"menuCell_main\\\\\"><span><a href=\\\\\"//blog.sina.com.cn/s/article_archive_1884248122_201710_1.html\\\\\">10月(1)</a></span></div><div class=\\\\\"menuCell_bot\\\\\"></div></li><li><div class=\\\\\"menuCell_main\\\\\"><span><a href=\\\\\"//blog.sina.com.cn/s/article_archive_1884248122_201709_1.html\\\\\">09月(1)</a></span></div><div class=\\\\\"menuCell_bot\\\\\"></div></li><li><div class=\\\\\"menuCell_main\\\\\"><span><a href=\\\\\"//blog.sina.com.cn/s/article_archive_1884248122_201708_1.html\\\\\">08月(4)</a></span></div><div class=\\\\\"menuCell_bot\\\\\"></div></li><li><div class=\\\\\"menuCell_main\\\\\"><span><a href=\\\\\"//blog.sina.com.cn/s/article_archive_1884248122_201707_1.html\\\\\">07月(1)</a></span></div><div class=\\\\\"menuCell_bot\\\\\"></div></li><li><div class=\\\\\"menuCell_main\\\\\"><span><a href=\\\\\"//blog.sina.com.cn/s/article_archive_1884248122_201706_1.html\\\\\">06月(1)</a></span></div><div class=\\\\\"menuCell_bot\\\\\"></div></li><li><div class=\\\\\"menuCell_main\\\\\"><span><a href=\\\\\"//blog.sina.com.cn/s/article_archive_1884248122_201705_1.html\\\\\">05月(1)</a></span></div><div class=\\\\\"menuCell_bot\\\\\"></div></li><li><div class=\\\\\"menuCell_main\\\\\"><span><a href=\\\\\"//blog.sina.com.cn/s/article_archive_1884248122_201704_1.html\\\\\">04月(2)</a></span></div><div class=\\\\\"menuCell_bot\\\\\"></div></li><li><div class=\\\\\"menuCell_main\\\\\"><span><a href=\\\\\"//blog.sina.com.cn/s/article_archive_1884248122_201703_1.html\\\\\">03月(1)</a></span></div><div class=\\\\\"menuCell_bot\\\\\"></div></li><li><div class=\\\\\"menuCell_main\\\\\"><span><a href=\\\\\"//blog.sina.com.cn/s/article_archive_1884248122_201702_1.html\\\\\">02月(1)</a></span></div><div class=\\\\\"menuCell_bot\\\\\"></div></li><li><div class=\\\\\"menuCell_main\\\\\"><span><a href=\\\\\"//blog.sina.com.cn/s/article_archive_1884248122_201701_1.html\\\\\">01月(2)</a></span></div><div class=\\\\\"menuCell_bot\\\\\"></div></li></ul></div></div><div class=\\\\\"SG_j_line\\\\\"></div><div id=\\\\\"archive_2018\\\\\" class=\\\\\"fileCell \\\\\"><p onclick=\\\\\"Lib.Component.instances[931].toggle(2018);\\\\\" class=\\\\\"fileList_year SG_dot\\\\\"><span>2018年</span><em></em></p><div id=\\\\\"archive_detail_2018\\\\\" class=\\\\\"fileList_month\\\\\" style=\\\\\"display: none;\\\\\"><ul><li><div class=\\\\\"menuCell_main\\\\\"><span><a href=\\\\\"//blog.sina.com.cn/s/article_archive_1884248122_201811_1.html\\\\\">11月(1)</a></span></div><div class=\\\\\"menuCell_bot\\\\\"></div></li><li><div class=\\\\\"menuCell_main\\\\\"><span><a href=\\\\\"//blog.sina.com.cn/s/article_archive_1884248122_201810_1.html\\\\\">10月(3)</a></span></div><div class=\\\\\"menuCell_bot\\\\\"></div></li><li><div class=\\\\\"menuCell_main\\\\\"><span><a href=\\\\\"//blog.sina.com.cn/s/article_archive_1884248122_201809_1.html\\\\\">09月(2)</a></span></div><div class=\\\\\"menuCell_bot\\\\\"></div></li><li><div class=\\\\\"menuCell_main\\\\\"><span><a href=\\\\\"//blog.sina.com.cn/s/article_archive_1884248122_201808_1.html\\\\\">08月(1)</a></span></div><div class=\\\\\"menuCell_bot\\\\\"></div></li><li><div class=\\\\\"menuCell_main\\\\\"><span><a href=\\\\\"//blog.sina.com.cn/s/article_archive_1884248122_201807_1.html\\\\\">07月(2)</a></span></div><div class=\\\\\"menuCell_bot\\\\\"></div></li><li><div class=\\\\\"menuCell_main\\\\\"><span><a href=\\\\\"//blog.sina.com.cn/s/article_archive_1884248122_201806_1.html\\\\\">06月(1)</a></span></div><div class=\\\\\"menuCell_bot\\\\\"></div></li><li><div class=\\\\\"menuCell_main\\\\\"><span><a href=\\\\\"//blog.sina.com.cn/s/article_archive_1884248122_201805_1.html\\\\\">05月(1)</a></span></div><div class=\\\\\"menuCell_bot\\\\\"></div></li><li><div class=\\\\\"menuCell_main\\\\\"><span><a href=\\\\\"//blog.sina.com.cn/s/article_archive_1884248122_201804_1.html\\\\\">04月(1)</a></span></div><div class=\\\\\"menuCell_bot\\\\\"></div></li><li><div class=\\\\\"menuCell_main\\\\\"><span><a href=\\\\\"//blog.sina.com.cn/s/article_archive_1884248122_201803_1.html\\\\\">03月(2)</a></span></div><div class=\\\\\"menuCell_bot\\\\\"></div></li><li><div class=\\\\\"menuCell_main\\\\\"><span><a href=\\\\\"//blog.sina.com.cn/s/article_archive_1884248122_201801_1.html\\\\\">01月(1)</a></span></div><div class=\\\\\"menuCell_bot\\\\\"></div></li></ul></div></div><div class=\\\\\"SG_j_line\\\\\"></div><div id=\\\\\"archive_2019\\\\\" class=\\\\\"fileCell \\\\\"><p onclick=\\\\\"Lib.Component.instances[931].toggle(2019);\\\\\" class=\\\\\"fileList_year SG_dot\\\\\"><span>2019年</span><em></em></p><div id=\\\\\"archive_detail_2019\\\\\" class=\\\\\"fileList_month\\\\\" style=\\\\\"display: none;\\\\\"><ul><li><div class=\\\\\"menuCell_main\\\\\"><span><a href=\\\\\"//blog.sina.com.cn/s/article_archive_1884248122_201912_1.html\\\\\">12月(4)</a></span></div><div class=\\\\\"menuCell_bot\\\\\"></div></li><li><div class=\\\\\"menuCell_main\\\\\"><span><a href=\\\\\"//blog.sina.com.cn/s/article_archive_1884248122_201911_1.html\\\\\">11月(1)</a></span></div><div class=\\\\\"menuCell_bot\\\\\"></div></li><li><div class=\\\\\"menuCell_main\\\\\"><span><a href=\\\\\"//blog.sina.com.cn/s/article_archive_1884248122_201910_1.html\\\\\">10月(1)</a></span></div><div class=\\\\\"menuCell_bot\\\\\"></div></li><li><div class=\\\\\"menuCell_main\\\\\"><span><a href=\\\\\"//blog.sina.com.cn/s/article_archive_1884248122_201909_1.html\\\\\">09月(1)</a></span></div><div class=\\\\\"menuCell_bot\\\\\"></div></li><li><div class=\\\\\"menuCell_main\\\\\"><span><a href=\\\\\"//blog.sina.com.cn/s/article_archive_1884248122_201908_1.html\\\\\">08月(1)</a></span></div><div class=\\\\\"menuCell_bot\\\\\"></div></li><li><div class=\\\\\"menuCell_main\\\\\"><span><a href=\\\\\"//blog.sina.com.cn/s/article_archive_1884248122_201907_1.html\\\\\">07月(1)</a></span></div><div class=\\\\\"menuCell_bot\\\\\"></div></li><li><div class=\\\\\"menuCell_main\\\\\"><span><a href=\\\\\"//blog.sina.com.cn/s/article_archive_1884248122_201906_1.html\\\\\">06月(1)</a></span></div><div class=\\\\\"menuCell_bot\\\\\"></div></li><li><div class=\\\\\"menuCell_main\\\\\"><span><a href=\\\\\"//blog.sina.com.cn/s/article_archive_1884248122_201904_1.html\\\\\">04月(1)</a></span></div><div class=\\\\\"menuCell_bot\\\\\"></div></li><li><div class=\\\\\"menuCell_main\\\\\"><span><a href=\\\\\"//blog.sina.com.cn/s/article_archive_1884248122_201903_1.html\\\\\">03月(1)</a></span></div><div class=\\\\\"menuCell_bot\\\\\"></div></li><li><div class=\\\\\"menuCell_main\\\\\"><span><a href=\\\\\"//blog.sina.com.cn/s/article_archive_1884248122_201901_1.html\\\\\">01月(2)</a></span></div><div class=\\\\\"menuCell_bot\\\\\"></div></li></ul></div></div><div class=\\\\\"SG_j_line\\\\\"></div><div id=\\\\\"archive_2020\\\\\" class=\\\\\"fileCell \\\\\"><p onclick=\\\\\"Lib.Component.instances[931].toggle(2020);\\\\\" class=\\\\\"fileList_year SG_dot\\\\\"><span>2020年</span><em></em></p><div id=\\\\\"archive_detail_2020\\\\\" class=\\\\\"fileList_month\\\\\" style=\\\\\"display: none;\\\\\"><ul><li><div class=\\\\\"menuCell_main\\\\\"><span><a href=\\\\\"//blog.sina.com.cn/s/article_archive_1884248122_202012_1.html\\\\\">12月(1)</a></span></div><div class=\\\\\"menuCell_bot\\\\\"></div></li><li><div class=\\\\\"menuCell_main\\\\\"><span><a href=\\\\\"//blog.sina.com.cn/s/article_archive_1884248122_202011_1.html\\\\\">11月(1)</a></span></div><div class=\\\\\"menuCell_bot\\\\\"></div></li><li><div class=\\\\\"menuCell_main\\\\\"><span><a href=\\\\\"//blog.sina.com.cn/s/article_archive_1884248122_202010_1.html\\\\\">10月(1)</a></span></div><div class=\\\\\"menuCell_bot\\\\\"></div></li><li><div class=\\\\\"menuCell_main\\\\\"><span><a href=\\\\\"//blog.sina.com.cn/s/article_archive_1884248122_202009_1.html\\\\\">09月(1)</a></span></div><div class=\\\\\"menuCell_bot\\\\\"></div></li><li><div class=\\\\\"menuCell_main\\\\\"><span><a href=\\\\\"//blog.sina.com.cn/s/article_archive_1884248122_202008_1.html\\\\\">08月(1)</a></span></div><div class=\\\\\"menuCell_bot\\\\\"></div></li><li><div class=\\\\\"menuCell_main\\\\\"><span><a href=\\\\\"//blog.sina.com.cn/s/article_archive_1884248122_202007_1.html\\\\\">07月(1)</a></span></div><div class=\\\\\"menuCell_bot\\\\\"></div></li><li><div class=\\\\\"menuCell_main\\\\\"><span><a href=\\\\\"//blog.sina.com.cn/s/article_archive_1884248122_202006_1.html\\\\\">06月(1)</a></span></div><div class=\\\\\"menuCell_bot\\\\\"></div></li><li><div class=\\\\\"menuCell_main\\\\\"><span><a href=\\\\\"//blog.sina.com.cn/s/article_archive_1884248122_202005_1.html\\\\\">05月(1)</a></span></div><div class=\\\\\"menuCell_bot\\\\\"></div></li><li><div class=\\\\\"menuCell_main\\\\\"><span><a href=\\\\\"//blog.sina.com.cn/s/article_archive_1884248122_202004_1.html\\\\\">04月(1)</a></span></div><div class=\\\\\"menuCell_bot\\\\\"></div></li><li><div class=\\\\\"menuCell_main\\\\\"><span><a href=\\\\\"//blog.sina.com.cn/s/article_archive_1884248122_202003_1.html\\\\\">03月(2)</a></span></div><div class=\\\\\"menuCell_bot\\\\\"></div></li><li><div class=\\\\\"menuCell_main\\\\\"><span><a href=\\\\\"//blog.sina.com.cn/s/article_archive_1884248122_202001_1.html\\\\\">01月(1)</a></span></div><div class=\\\\\"menuCell_bot\\\\\"></div></li></ul></div></div><div class=\\\\\"SG_j_line\\\\\"></div><div id=\\\\\"archive_2021\\\\\" class=\\\\\"fileCell \\\\\"><p onclick=\\\\\"Lib.Component.instances[931].toggle(2021);\\\\\" class=\\\\\"fileList_year SG_dot\\\\\"><span>2021年</span><em></em></p><div id=\\\\\"archive_detail_2021\\\\\" class=\\\\\"fileList_month\\\\\" style=\\\\\"display: none;\\\\\"><ul><li><div class=\\\\\"menuCell_main\\\\\"><span><a href=\\\\\"//blog.sina.com.cn/s/article_archive_1884248122_202112_1.html\\\\\">12月(1)</a></span></div><div class=\\\\\"menuCell_bot\\\\\"></div></li><li><div class=\\\\\"menuCell_main\\\\\"><span><a href=\\\\\"//blog.sina.com.cn/s/article_archive_1884248122_202111_1.html\\\\\">11月(2)</a></span></div><div class=\\\\\"menuCell_bot\\\\\"></div></li><li><div class=\\\\\"menuCell_main\\\\\"><span><a href=\\\\\"//blog.sina.com.cn/s/article_archive_1884248122_202110_1.html\\\\\">10月(1)</a></span></div><div class=\\\\\"menuCell_bot\\\\\"></div></li><li><div class=\\\\\"menuCell_main\\\\\"><span><a href=\\\\\"//blog.sina.com.cn/s/article_archive_1884248122_202109_1.html\\\\\">09月(2)</a></span></div><div class=\\\\\"menuCell_bot\\\\\"></div></li><li><div class=\\\\\"menuCell_main\\\\\"><span><a href=\\\\\"//blog.sina.com.cn/s/article_archive_1884248122_202108_1.html\\\\\">08月(1)</a></span></div><div class=\\\\\"menuCell_bot\\\\\"></div></li><li><div class=\\\\\"menuCell_main\\\\\"><span><a href=\\\\\"//blog.sina.com.cn/s/article_archive_1884248122_202107_1.html\\\\\">07月(1)</a></span></div><div class=\\\\\"menuCell_bot\\\\\"></div></li><li><div class=\\\\\"menuCell_main\\\\\"><span><a href=\\\\\"//blog.sina.com.cn/s/article_archive_1884248122_202106_1.html\\\\\">06月(2)</a></span></div><div class=\\\\\"menuCell_bot\\\\\"></div></li><li><div class=\\\\\"menuCell_main\\\\\"><span><a href=\\\\\"//blog.sina.com.cn/s/article_archive_1884248122_202105_1.html\\\\\">05月(1)</a></span></div><div class=\\\\\"menuCell_bot\\\\\"></div></li><li><div class=\\\\\"menuCell_main\\\\\"><span><a href=\\\\\"//blog.sina.com.cn/s/article_archive_1884248122_202104_1.html\\\\\">04月(1)</a></span></div><div class=\\\\\"menuCell_bot\\\\\"></div></li><li><div class=\\\\\"menuCell_main\\\\\"><span><a href=\\\\\"//blog.sina.com.cn/s/article_archive_1884248122_202103_1.html\\\\\">03月(1)</a></span></div><div class=\\\\\"menuCell_bot\\\\\"></div></li><li><div class=\\\\\"menuCell_main\\\\\"><span><a href=\\\\\"//blog.sina.com.cn/s/article_archive_1884248122_202102_1.html\\\\\">02月(1)</a></span></div><div class=\\\\\"menuCell_bot\\\\\"></div></li><li><div class=\\\\\"menuCell_main\\\\\"><span><a href=\\\\\"//blog.sina.com.cn/s/article_archive_1884248122_202101_1.html\\\\\">01月(1)</a></span></div><div class=\\\\\"menuCell_bot\\\\\"></div></li></ul></div></div><div class=\\\\\"SG_j_line\\\\\"></div><div id=\\\\\"archive_2022\\\\\" class=\\\\\"fileCell \\\\\"><p onclick=\\\\\"Lib.Component.instances[931].toggle(2022);\\\\\" class=\\\\\"fileList_year SG_dot\\\\\"><span>2022年</span><em></em></p><div id=\\\\\"archive_detail_2022\\\\\" class=\\\\\"fileList_month\\\\\" style=\\\\\"display: none;\\\\\"><ul><li><div class=\\\\\"menuCell_main\\\\\"><span><a href=\\\\\"//blog.sina.com.cn/s/article_archive_1884248122_202205_1.html\\\\\">05月(1)</a></span></div><div class=\\\\\"menuCell_bot\\\\\"></div></li><li><div class=\\\\\"menuCell_main\\\\\"><span><a href=\\\\\"//blog.sina.com.cn/s/article_archive_1884248122_202204_1.html\\\\\">04月(1)</a></span></div><div class=\\\\\"menuCell_bot\\\\\"></div></li><li><div class=\\\\\"menuCell_main\\\\\"><span><a href=\\\\\"//blog.sina.com.cn/s/article_archive_1884248122_202203_1.html\\\\\">03月(1)</a></span></div><div class=\\\\\"menuCell_bot\\\\\"></div></li><li><div class=\\\\\"menuCell_main\\\\\"><span><a href=\\\\\"//blog.sina.com.cn/s/article_archive_1884248122_202202_1.html\\\\\">02月(1)</a></span></div><div class=\\\\\"menuCell_bot\\\\\"></div></li><li><div class=\\\\\"menuCell_main\\\\\"><span><a href=\\\\\"//blog.sina.com.cn/s/article_archive_1884248122_202201_1.html\\\\\">01月(1)</a></span></div><div class=\\\\\"menuCell_bot\\\\\"></div></li></ul></div></div></div></div>       \\\\n            <div class=\\\\\"SG_connFoot\\\\\"></div>\\\\n </div><ins class=\\\\\"sinaads sinaads-fail\\\\\" data-ad-pdps=\\\\\"PDPS000000033239\\\\\" style=\\\\\"display:block;\\\\\" data-ad-status=\\\\\"done\\\\\"></ins>\\\\n\\\\n</div>\\\\n\\\\t<!--第一列end-->\\\\n\\\\t\\\\n\\\\t<!--第二列start-->\\\\n\\\\t<div id=\\\\\"column_2\\\\\" class=\\\\\"SG_colW73\\\\\"><div id=\\\\\"module_930\\\\\" class=\\\\\"SG_conn\\\\\">\\\\n  <div class=\\\\\"SG_connHead\\\\\"> <span comp_title=\\\\\"2012年06月发表的博文\\\\\" class=\\\\\"title\\\\\">2012年06月发表的博文</span> <span class=\\\\\"edit\\\\\"> </span> </div>\\\\n  <div class=\\\\\"SG_connBody\\\\\">\\\\n    <div class=\\\\\"article_blk\\\\\">\\\\n    <div class=\\\\\"SG_nodata\\\\\">此月无归档文章。</div>  \\\\n            \\\\n    </div>\\\\n  </div>\\\\n</div>\\\\n</div>\\\\n\\\\t<!--第二列start-->\\\\n\\\\t\\\\n\\\\t<!--第三列start-->\\\\n\\\\t<div id=\\\\\"column_3\\\\\" class=\\\\\"SG_colWnone\\\\\"><div style=\\\\\"width:0px;height:0.1px;margin:0px;\\\\\">&nbsp;&nbsp;</div></div>\\\\n\\\\t<!--第三列end-->\\\\n\\\\n\\\\t\\\\n    </div>\\\\n   <!--主题内容结束 -->\\\\n  \\\\n\\\\n\\\\t<div id=\\\\\"diggerFla\\\\\" style=\\\\\"position:absolute;left:0px;top:0px;width:0px\\\\\"></div>\\\\n    <div class=\\\\\"sinablogfooter\\\\\" id=\\\\\"sinablogfooter\\\\\" style=\\\\\"position:relative;\\\\\">\\\\n      \\\\n      <p class=\\\\\"SG_linka\\\\\"><a href=\\\\\"//help.sina.com.cn/\\\\\" target=\\\\\"_blank\\\\\">新浪BLOG意见反馈留言板</a>\\u3000欢迎批评指正</p>\\\\n   \\\\n      <p class=\\\\\"SG_linka\\\\\"><a href=\\\\\"//corp.sina.com.cn/chn/\\\\\" target=\\\\\"_blank\\\\\">新浪简介</a> | <a href=\\\\\"//corp.sina.com.cn/eng/\\\\\" target=\\\\\"_blank\\\\\">About Sina</a> | <a href=\\\\\"//emarketing.sina.com.cn/\\\\\" target=\\\\\"_blank\\\\\">广告服务</a> | <a href=\\\\\"//www.sina.com.cn/contactus.html\\\\\" target=\\\\\"_blank\\\\\">联系我们</a> | <a href=\\\\\"//corp.sina.com.cn/chn/sina_job.html\\\\\" target=\\\\\"_blank\\\\\">招聘信息</a> | <a href=\\\\\"//www.sina.com.cn/intro/lawfirm.shtml\\\\\" target=\\\\\"_blank\\\\\">网站律师</a> | <a href=\\\\\"//english.sina.com\\\\\" target=\\\\\"_blank\\\\\">SINA English</a> | <a href=\\\\\"//help.sina.com.cn/\\\\\" target=\\\\\"_blank\\\\\">产品答疑</a> </p>\\\\n      <p class=\\\\\"copyright SG_linka\\\\\"> Copyright © 1996 - 2022 SINA Corporation,  All Rights Reserved</p>\\\\n      <p class=\\\\\"SG_linka\\\\\"> 新浪公司 <a href=\\\\\"//www.sina.com.cn/intro/copyright.shtml\\\\\" target=\\\\\"_blank\\\\\">版权所有</a></p>\\\\n\\\\t  <a href=\\\\\"//www.bj.cyberpolice.cn/index.jsp\\\\\" target=\\\\\"_blank\\\\\" class=\\\\\"gab_link\\\\\"></a>\\\\n    </div>\\\\n  </div>\\\\n</div>\\\\n<div id=\\\\\"swfbox\\\\\"></div>\\\\n<script id=\\\\\"PVCOUNTER_FORIE\\\\\" type=\\\\\"text/javascript\\\\\"></script>\\\\n\\\\n<script type=\\\\\"text/javascript\\\\\">\\\\nvar scope = {\\\\n    $newTray : 1,\\\\n    $setDomain : true,\\\\n    $uid : \\\\\"1884248122\\\\\",\\\\n    $PRODUCT_NAME : \\\\\"blog7\\\\\",      //blog7photo,blog7icp\\\\n    $pageid : \\\\\"articlelist\\\\\",\\\\n    $key :  \\\\\"48ab1787976dbff7d8c2e7c464b60419\\\\\",\\\\n    $uhost : \\\\\"\\\\\",\\\\n    $ownerWTtype :\\\\\"\\\\\",\\\\n    $private: {\\\\\"pageset\\\\\":0,\\\\\"tj\\\\\":0,\\\\\"adver\\\\\":0,\\\\\"sms\\\\\":0,\\\\\"ad\\\\\":0,\\\\\"blogsize\\\\\":0,\\\\\"cms\\\\\":0,\\\\\"hidecms\\\\\":0,\\\\\"top\\\\\":0,\\\\\"invitationset\\\\\":0,\\\\\"p4p\\\\\":0,\\\\\"spamcms\\\\\":0,\\\\\"init7\\\\\":0,\\\\\"quote\\\\\":0,\\\\\"foot\\\\\":0,\\\\\"isprivate\\\\\":0,\\\\\"headpic\\\\\":1,\\\\\"t_sina\\\\\":\\\\\"1884248122\\\\\",\\\\\"oauth_token\\\\\":1,\\\\\"oauth_token_secret\\\\\":1,\\\\\"uname\\\\\":\\\\\"\\\\\",\\\\\"p_push_t\\\\\":\\\\\"1\\\\\",\\\\\"p_get_t\\\\\":\\\\\"1\\\\\",\\\\\"articleclass\\\\\":\\\\\"117\\\\\"},\\\\n    $summary: \\\\\"\\\\\",\\\\n    $blogArticleArchiveSelected : \\\\\"201206\\\\\",\\\\n\\\\t\\\\t\\\\t\\\\t\\\\t\\\\t\\\\t  $blogArticleSortSelected : \\\\\"\\\\\",\\\\n\\\\t\\\\t\\\\t\\\\t\\\\t\\\\t\\\\t  $blogArticleSortArticleids : \\\\\"\\\\\",\\\\n\\\\t\\\\t\\\\t\\\\t\\\\t\\\\t\\\\t  $blogArticleCategoryids : [],\\\\n\\\\t\\\\t\\\\t\\\\t\\\\t\\\\t\\\\t  $page : \\\\\"1\\\\\",\\\\n\\\\t\\\\t\\\\t\\\\t\\\\t\\\\t\\\\t     component_lists:{\\\\\"2\\\\\":{\\\\\"size\\\\\":730,\\\\\"list\\\\\":[930]},\\\\\"1\\\\\":{\\\\\"size\\\\\":210,\\\\\"list\\\\\":[931]}},\\\\n    formatInfo:1,\\\\n    UserPic:[{\\\\\"pid\\\\\":null,\\\\\"repeat\\\\\":null,\\\\\"align-h\\\\\":null,\\\\\"align-v\\\\\":null,\\\\\"apply\\\\\":null},{\\\\\"pid\\\\\":null,\\\\\"repeat\\\\\":null,\\\\\"align-h\\\\\":null,\\\\\"align-v\\\\\":null,\\\\\"apply\\\\\":null},{\\\\\"pid\\\\\":null,\\\\\"repeat\\\\\":null,\\\\\"align-h\\\\\":null,\\\\\"align-v\\\\\":null,\\\\\"apply\\\\\":null}],\\\\n    UserBabyPic:{\\\\\"photoX\\\\\":0,\\\\\"photoY\\\\\":0,\\\\\"photoURL\\\\\":null,\\\\\"angle\\\\\":0,\\\\\"zoom\\\\\":0,\\\\\"maskX\\\\\":0,\\\\\"maskY\\\\\":0,\\\\\"maskURL\\\\\":null,\\\\\"frameURL\\\\\":null},\\\\n    UserColor:\\\\\"\\\\\",\\\\n    backgroundcolor:\\\\\"\\\\\",\\\\n    $shareData:0,\\\\n    tpl:\\\\\"30_1\\\\\",\\\\n    reclist:0    };\\\\nvar $encrypt_code = \\\\\"ccfc10ce53bb9632bf220a5b27c6a127\\\\\";\\\\n</script>\\\\n\\\\n<script type=\\\\\"text/javascript\\\\\" src=\\\\\"//sjs.sinajs.cn/blog7common/js/boot.js\\\\\"></script>\\\\n<script type=\\\\\"text/javascript\\\\\">__load_js();</script>\\\\n<script type=\\\\\"text/javascript\\\\\">__render_page();</script>\\\\n\\\\n\\\\n\\\\n<script type=\\\\\"text/javascript\\\\\" src=\\\\\"//n.sinaimg.cn/blog/0977ce10/20220810/blog680-min.js\\\\\"></script>\\\\n<script type=\\\\\"text/javascript\\\\\">\\\\n        var slotArr = [\\'atcTitLi_SLOT_41\\', \\'atcTitLi_SLOT_42\\',\\'loginBarActivity\\']; //广告位id\\\\n        var sourceArr = [\\'SLOT_41\\',\\'SLOT_42\\',\\'SLOT_43,SLOT_47,SLOT_48\\'];  //广告资源id\\\\n        SinaBlog680.staticBox(slotArr, sourceArr);\\\\n</script>\\\\n\\\\n<iframe id=\\\\\"sinaads-ck-iframe\\\\\" src=\\\\\"//d5.sina.com.cn/litong/zhitou/sinaads/src/spec/sinaads_ck.html\\\\\" style=\\\\\"display: none;\\\\\"></iframe><div id=\\\\\"sinaads_pdps54771\\\\\"> <ins class=\\\\\"sinaads sinaads-done\\\\\" data-ad-pdps=\\\\\"PDPS000000054771\\\\\" data-ad-status=\\\\\"done\\\\\"></ins>  </div><div id=\\\\\"_7191730559205397_panel\\\\\" class=\\\\\"mCatSearch\\\\\" style=\\\\\"position: absolute; display: none; z-index: 512;\\\\\"><ul><li action-type=\\\\\"tray-search\\\\\" onclick=\\\\\"v7sendLog(\\'40_01_43\\')\\\\\" action-data=\\\\\"article\\\\\" class=\\\\\"current\\\\\">含“<span id=\\\\\"_7191730559205397_article\\\\\"></span>”的博文</li><li action-type=\\\\\"tray-search\\\\\" onclick=\\\\\"v7sendLog(\\'40_01_43\\')\\\\\" action-data=\\\\\"bloger\\\\\">含“<span id=\\\\\"_7191730559205397_bloger\\\\\"></span>”的博主</li><li action-type=\\\\\"tray-search\\\\\" onclick=\\\\\"v7sendLog(\\'40_01_43\\')\\\\\" action-data=\\\\\"music\\\\\">含“<span id=\\\\\"_7191730559205397_music\\\\\"></span>”的音乐</li><li action-type=\\\\\"tray-search\\\\\" onclick=\\\\\"v7sendLog(\\'40_01_43\\')\\\\\" action-data=\\\\\"video\\\\\">含“<span id=\\\\\"_7191730559205397_video\\\\\"></span>”的视频</li></ul></div><iframe style=\\\\\"border: none; z-index: -1; opacity: 0; position: absolute; width: 0px; height: 0px;\\\\\"></iframe></body></html>\",\"crawl_time\":1730559207}', filename='s3://crawl-data/blog_sina_com_cn/gz_file/1729501052/fdc31261-148d-4715-8b37-ca549727a5e3.jsonl.gz')"
      ]
     },
     "execution_count": 11,
     "metadata": {},
     "output_type": "execute_result"
    }
   ],
   "source": [
    "# input_df = read_any_path(spark, \",\".join(['s3a://private-crawl-data/zh-web-tencent/20241218_p1/2020/1733715370691.json.gz']), config)\n",
    "# input_df.show()\n",
    "input_df.take(1)[0]"
   ]
  },
  {
   "cell_type": "code",
   "execution_count": 12,
   "id": "5048ff51a7c6535",
   "metadata": {
    "ExecuteTime": {
     "end_time": "2025-03-06T06:47:23.575101Z",
     "start_time": "2025-03-06T06:47:23.563050Z"
    },
    "execution": {
     "iopub.execute_input": "2025-03-17T06:01:52.854829Z",
     "iopub.status.busy": "2025-03-17T06:01:52.854606Z",
     "iopub.status.idle": "2025-03-17T06:01:52.902171Z",
     "shell.execute_reply": "2025-03-17T06:01:52.901799Z",
     "shell.execute_reply.started": "2025-03-17T06:01:52.854814Z"
    }
   },
   "outputs": [
    {
     "data": {
      "text/plain": [
       "{'track_id': 'track_id',\n",
       " 'page_layout_type_map': {'': 'article',\n",
       "  '文章': 'article',\n",
       "  '网易': 'article',\n",
       "  '视频': 'video',\n",
       "  '腾讯网': 'article'},\n",
       " 'dataset_name': 'tencent',\n",
       " 'url': 'url',\n",
       " 'html': 'content',\n",
       " 'layout_field': 'f_name',\n",
       " 'data_source_category': 'HTML'}"
      ]
     },
     "execution_count": 12,
     "metadata": {},
     "output_type": "execute_result"
    }
   ],
   "source": [
    "\n",
    "from pyspark.sql.functions import col\n",
    "from pyspark.sql.functions import udf\n",
    "from pyspark.sql.types import BooleanType\n",
    "#安全解析函数（包含异常捕获）\n",
    "def safe_json_loads(s):\n",
    "    try:\n",
    "        json.loads(s)\n",
    "        return True\n",
    "    except:\n",
    "        return False\n",
    "# 将Python函数注册为Spark UDF\n",
    "safe_json_udf = udf(safe_json_loads, BooleanType())\n",
    "\n",
    "# 在filter中使用UDF生成的Column表达式\n",
    "df_filtered = input_df.filter(safe_json_udf(col(\"value\")))\n",
    "\n",
    "broadcast_field_mappings"
   ]
  },
  {
   "cell_type": "code",
   "execution_count": null,
   "id": "6cac9cae-7055-4cf6-bf52-23353a5e0aef",
   "metadata": {},
   "outputs": [],
   "source": []
  },
  {
   "cell_type": "code",
   "execution_count": 7,
   "id": "072b180c-27de-4203-8d50-85583fbc4a97",
   "metadata": {
    "collapsed": true,
    "execution": {
     "iopub.execute_input": "2025-03-14T06:22:17.999799Z",
     "iopub.status.busy": "2025-03-14T06:22:17.999226Z",
     "iopub.status.idle": "2025-03-14T06:22:18.868522Z",
     "shell.execute_reply": "2025-03-14T06:22:18.867423Z",
     "shell.execute_reply.started": "2025-03-14T06:22:17.999777Z"
    },
    "jupyter": {
     "outputs_hidden": true
    }
   },
   "outputs": [
    {
     "ename": "AttributeError",
     "evalue": "'DataFrame' object has no attribute 'rePartitions'",
     "output_type": "error",
     "traceback": [
      "\u001b[0;31m---------------------------------------------------------------------------\u001b[0m",
      "\u001b[0;31mAttributeError\u001b[0m                            Traceback (most recent call last)",
      "Cell \u001b[0;32mIn[7], line 1\u001b[0m\n\u001b[0;32m----> 1\u001b[0m \u001b[43mdf_filtered\u001b[49m\u001b[38;5;241;43m.\u001b[39;49m\u001b[43mrePartitions\u001b[49m(\u001b[38;5;241m1000\u001b[39m)\u001b[38;5;241m.\u001b[39mcount()\n",
      "File \u001b[0;32m~/envs/code_clean_venv/lib/python3.10/site-packages/pyspark/sql/dataframe.py:2977\u001b[0m, in \u001b[0;36mDataFrame.__getattr__\u001b[0;34m(self, name)\u001b[0m\n\u001b[1;32m   2944\u001b[0m \u001b[38;5;250m\u001b[39m\u001b[38;5;124;03m\"\"\"Returns the :class:`Column` denoted by ``name``.\u001b[39;00m\n\u001b[1;32m   2945\u001b[0m \n\u001b[1;32m   2946\u001b[0m \u001b[38;5;124;03m.. versionadded:: 1.3.0\u001b[39;00m\n\u001b[0;32m   (...)\u001b[0m\n\u001b[1;32m   2974\u001b[0m \u001b[38;5;124;03m+---+\u001b[39;00m\n\u001b[1;32m   2975\u001b[0m \u001b[38;5;124;03m\"\"\"\u001b[39;00m\n\u001b[1;32m   2976\u001b[0m \u001b[38;5;28;01mif\u001b[39;00m name \u001b[38;5;129;01mnot\u001b[39;00m \u001b[38;5;129;01min\u001b[39;00m \u001b[38;5;28mself\u001b[39m\u001b[38;5;241m.\u001b[39mcolumns:\n\u001b[0;32m-> 2977\u001b[0m     \u001b[38;5;28;01mraise\u001b[39;00m \u001b[38;5;167;01mAttributeError\u001b[39;00m(\n\u001b[1;32m   2978\u001b[0m         \u001b[38;5;124m\"\u001b[39m\u001b[38;5;124m'\u001b[39m\u001b[38;5;132;01m%s\u001b[39;00m\u001b[38;5;124m'\u001b[39m\u001b[38;5;124m object has no attribute \u001b[39m\u001b[38;5;124m'\u001b[39m\u001b[38;5;132;01m%s\u001b[39;00m\u001b[38;5;124m'\u001b[39m\u001b[38;5;124m\"\u001b[39m \u001b[38;5;241m%\u001b[39m (\u001b[38;5;28mself\u001b[39m\u001b[38;5;241m.\u001b[39m\u001b[38;5;18m__class__\u001b[39m\u001b[38;5;241m.\u001b[39m\u001b[38;5;18m__name__\u001b[39m, name)\n\u001b[1;32m   2979\u001b[0m     )\n\u001b[1;32m   2980\u001b[0m jc \u001b[38;5;241m=\u001b[39m \u001b[38;5;28mself\u001b[39m\u001b[38;5;241m.\u001b[39m_jdf\u001b[38;5;241m.\u001b[39mapply(name)\n\u001b[1;32m   2981\u001b[0m \u001b[38;5;28;01mreturn\u001b[39;00m Column(jc)\n",
      "\u001b[0;31mAttributeError\u001b[0m: 'DataFrame' object has no attribute 'rePartitions'"
     ]
    }
   ],
   "source": [
    "df_filtered.count()"
   ]
  },
  {
   "cell_type": "code",
   "execution_count": 13,
   "id": "3747cdab-5999-4e87-8e6d-2f0d1893eb4e",
   "metadata": {
    "execution": {
     "iopub.execute_input": "2025-03-17T06:01:56.969728Z",
     "iopub.status.busy": "2025-03-17T06:01:56.969460Z",
     "iopub.status.idle": "2025-03-17T06:01:58.424751Z",
     "shell.execute_reply": "2025-03-17T06:01:58.424302Z",
     "shell.execute_reply.started": "2025-03-17T06:01:56.969710Z"
    }
   },
   "outputs": [
    {
     "name": "stdout",
     "output_type": "stream",
     "text": [
      "288\n"
     ]
    }
   ],
   "source": [
    "\n",
    "\n",
    "input_rdd = df_filtered.rdd.map(lambda x: Row(**{**json.loads(x.value), \"filename\": x.filename}))\n",
    "\n",
    "print(input_rdd.getNumPartitions()) \n",
    "\n"
   ]
  },
  {
   "cell_type": "code",
   "execution_count": 31,
   "id": "6778d223-93f4-4300-8d78-8896ef576004",
   "metadata": {
    "execution": {
     "iopub.execute_input": "2025-03-17T03:21:54.104683Z",
     "iopub.status.busy": "2025-03-17T03:21:54.104300Z",
     "iopub.status.idle": "2025-03-17T03:22:06.929011Z",
     "shell.execute_reply": "2025-03-17T03:22:06.928320Z",
     "shell.execute_reply.started": "2025-03-17T03:21:54.104655Z"
    }
   },
   "outputs": [
    {
     "name": "stderr",
     "output_type": "stream",
     "text": [
      "                                                                                "
     ]
    }
   ],
   "source": [
    "row_data = input_rdd.take(1)[0]"
   ]
  },
  {
   "cell_type": "code",
   "execution_count": 32,
   "id": "c20dfebb37369800",
   "metadata": {
    "ExecuteTime": {
     "end_time": "2025-03-06T06:18:55.340567Z",
     "start_time": "2025-03-06T06:18:55.338823Z"
    },
    "collapsed": true,
    "execution": {
     "iopub.execute_input": "2025-03-17T03:22:08.744310Z",
     "iopub.status.busy": "2025-03-17T03:22:08.744074Z",
     "iopub.status.idle": "2025-03-17T03:22:08.771799Z",
     "shell.execute_reply": "2025-03-17T03:22:08.771189Z",
     "shell.execute_reply.started": "2025-03-17T03:22:08.744280Z"
    },
    "jupyter": {
     "outputs_hidden": true
    }
   },
   "outputs": [
    {
     "name": "stdout",
     "output_type": "stream",
     "text": [
      "['posttime', 'n_content_county', 'm_identity', 'n_origin', 'n_headimg_url', 'f_domain_sec', 'title', 'uuid', 'n_contain_img', 'c_nav', 'n_img_urls', 'n_is_origin', 'n_content_city', 'n_video_urls', 'footplate', 'n_origin_author_name', 'n_contain_video', 'm_is_verified', 'n_origin_url', 'n_origin_author_uid', 'c_level', 'n_content_field', 'm_name', 'c_name', 'n_content_province', 'n_origin_posttime']\n"
     ]
    },
    {
     "data": {
      "text/plain": [
       "{'track_id': 'cfaa59a9-488e-485b-a8bd-a3b3848bdedc',\n",
       " 'url': 'https://new.qq.com/omn/20241006/20241006A019G500',\n",
       " 'html': '<body> \\n <div class=\"rich_media_content autoTypeSetting24psection\"> \\n  <!--NO_AD_ERROR_2--> \\n  <section style=\"line-height: 1.75em\"> \\n   <span style=\"color: rgb(64, 118, 0); font-size: 18px\">为庆祝中华人民共和国75周年华诞，中国环境APP青山Life研究所面向社会征集生态环保主题少儿绘画，得到少年儿童的积极响应。孩子们用一幅幅主题突出、形式新颖、富有时代气息和生活情趣的作品，展现出对生态环境保护与绿色低碳生活方式的思考与行动，对美丽中国的期盼与向往。现将投稿作品予以选登，与大家共赏。</span> \\n  </section> \\n  <p><img src=\"https://inews.gtimg.com/om_bt/OKkFbuaxesP2NUMNlDB2v_Zz1F9emTdkEufvZTiX2zmvQAA/641\"></p> \\n  <p><img src=\"https://inews.gtimg.com/om_bt/O6kWJTdnl0xJXVrLTIpmjMkBdRolB8F55Td5KHobBICUQAA/641\"></p> \\n  <p><img src=\"https://inews.gtimg.com/om_bt/Onhkv-5GoDyfGmDZf-6gPGyDOcxa8bN-SYMfB_OcSMC8UAA/641\"></p> \\n  <p><img src=\"https://inews.gtimg.com/om_bt/O_v907d7XVoPz8yExCAErm1aw63EEJ6QreEE1WSPhCxC8AA/641\"></p> \\n  <p><img src=\"https://inews.gtimg.com/om_bt/Oa6FLEf-piLAtC_8hUbIEm54Cz4cnASRcU3qAyfEHPurUAA/641\"></p> \\n  <p><img src=\"https://inews.gtimg.com/om_bt/OWhaAfzsAQlb4lup4HxnYfBiTOKxcU2lg0HV9B0J0Pod0AA/641\"></p> \\n  <p><img src=\"https://inews.gtimg.com/om_bt/OqMzmaZEaGNePTGck9wPBsXVoUy9U9LopRU1KQOWmrKfEAA/641\"></p> \\n  <p><img src=\"https://inews.gtimg.com/om_bt/OCxgDLog9Cqs8XZt9o82IRM54iqYJyd4vGiAd8giBFEo0AA/641\"></p> \\n  <p style=\"text-align: center\"><span style=\"font-size: 18px\"><strong><span style=\"color: rgb(64, 118, 0)\">更多作品，详见中国环境APP</span></strong></span></p> \\n  <p style=\"text-align: center\"><span style=\"font-size: 18px\"><strong><span style=\"color: rgb(64, 118, 0)\">【生活+】频道~</span></strong></span></p> \\n  <p><br></p> \\n  <section style=\"-webkit-tap-highlight-color: transparent; background-color: rgb(255, 255, 255); font-size: 16px; letter-spacing: 0.544px; outline: 0px; text-wrap: wrap\"> \\n   <section style=\"-webkit-tap-highlight-color: transparent; display: flex; flex-flow: row; justify-content: flex-start; margin-top: 10px; outline: 0px; text-align: left\"> \\n    <section style=\"-webkit-tap-highlight-color: transparent; align-self: flex-start; background-image: linear-gradient(to right, rgba(255, 214, 125, 0.5) 0%, rgba(255, 214, 125, 0) 100%); border-color: rgb(255, 214, 125); border-style: solid; border-width: 1px; display: inline-block; flex: 0 0 auto; line-height: 0; outline: 0px; padding-bottom: 3px; padding-right: 10px; padding-top: 3px; vertical-align: top; width: 578px\"> \\n     <section style=\"-webkit-tap-highlight-color: transparent; display: flex; flex-flow: row; justify-content: flex-end; outline: 0px; text-align: right\"> \\n      <section style=\"-webkit-tap-highlight-color: transparent; align-self: flex-start; display: inline-block; flex: 0 0 0%; height: auto; line-height: 0; outline: 0px; padding-left: 5px; padding-right: 5px; vertical-align: top; width: auto\"> \\n       <section style=\"-webkit-tap-highlight-color: transparent; outline: 0px; text-align: center\"> \\n        <section style=\"-webkit-tap-highlight-color: transparent; background-color: rgb(230, 52, 26); border-radius: 100px; display: inline-block; height: 6px; outline: 0px; overflow: hidden; vertical-align: top; width: 6px\"> \\n         <svg style=\"float: left; line-height: 0; vertical-align: top; width: 0\" viewbox=\"0 0 1 1\"></svg> \\n        </section> \\n       </section> \\n      </section> \\n      <section style=\"-webkit-tap-highlight-color: transparent; align-self: flex-start; display: inline-block; flex: 0 0 0%; height: auto; line-height: 0; outline: 0px; padding-left: 5px; padding-right: 5px; vertical-align: top; width: auto\"> \\n       <section style=\"-webkit-tap-highlight-color: transparent; outline: 0px; text-align: center\"> \\n        <section style=\"-webkit-tap-highlight-color: transparent; background-color: rgb(230, 52, 26); border-radius: 100px; display: inline-block; height: 6px; outline: 0px; overflow: hidden; vertical-align: top; width: 6px\"> \\n         <svg style=\"float: left; line-height: 0; vertical-align: top; width: 0\" viewbox=\"0 0 1 1\"></svg> \\n        </section> \\n       </section> \\n      </section> \\n      <section style=\"-webkit-tap-highlight-color: transparent; align-self: flex-start; display: inline-block; flex: 0 0 0%; height: auto; line-height: 0; outline: 0px; padding-left: 5px; padding-right: 5px; vertical-align: top; width: auto\"> \\n       <section style=\"-webkit-tap-highlight-color: transparent; outline: 0px; text-align: center\"> \\n        <section style=\"-webkit-tap-highlight-color: transparent; background-color: rgb(230, 52, 26); border-radius: 100px; display: inline-block; height: 6px; outline: 0px; overflow: hidden; vertical-align: top; width: 6px\"> \\n         <svg style=\"float: left; line-height: 0; vertical-align: top; width: 0\" viewbox=\"0 0 1 1\"></svg> \\n        </section> \\n       </section> \\n      </section> \\n     </section> \\n    </section> \\n   </section> \\n   <section style=\"-webkit-tap-highlight-color: transparent; display: flex; flex-flow: row; justify-content: flex-start; margin-bottom: 10px; outline: 0px; text-align: left\"> \\n    <section style=\"-webkit-tap-highlight-color: transparent; align-self: flex-start; border-bottom: 1px solid rgb(255, 214, 125); border-left: 1px solid rgb(255, 214, 125); border-right: 1px solid rgb(255, 214, 125); display: inline-block; flex: 0 0 auto; outline: 0px; padding: 20px; vertical-align: top; width: 578px\"> \\n     <section style=\"-webkit-tap-highlight-color: transparent; line-height: 0; outline: 0px; text-align: justify\"> \\n      <p style=\"-webkit-tap-highlight-color: transparent; outline: 0px; text-align: center\"><span style=\"-webkit-tap-highlight-color: transparent; color: rgb(230, 52, 26); outline: 0px\"><strong style=\"-webkit-tap-highlight-color: transparent; outline: 0px\">推荐</strong><strong style=\"-webkit-tap-highlight-color: transparent; outline: 0px\">阅读</strong></span><br data-filtered=\"filtered\" style=\"-webkit-tap-highlight-color: transparent; outline: 0px\"></p> \\n     </section> \\n     <section style=\"-webkit-tap-highlight-color: transparent; display: flex; flex-flow: row; justify-content: center; margin-bottom: 10px; margin-top: 10px; outline: 0px; text-align: center\"> \\n      <section style=\"-webkit-tap-highlight-color: transparent; align-self: center; display: inline-block; flex: 0 0 auto; height: auto; outline: 0px; vertical-align: middle; width: 177.094px\"> \\n       <section style=\"-webkit-tap-highlight-color: transparent; margin-bottom: 0.5em; margin-top: 0.5em; outline: 0px\"> \\n        <section style=\"-webkit-tap-highlight-color: transparent; background-color: rgb(218, 92, 77); height: 1px; outline: 0px\"> \\n         <svg style=\"float: left; line-height: 0; vertical-align: top; width: 0\" viewbox=\"0 0 1 1\"></svg> \\n        </section> \\n       </section> \\n      </section> \\n      <section style=\"-webkit-tap-highlight-color: transparent; align-self: center; display: inline-block; flex: 0 0 auto; height: auto; line-height: 0; min-width: 10%; outline: 0px; vertical-align: middle; width: auto\"> \\n       <section style=\"-webkit-tap-highlight-color: transparent; outline: 0px\"> \\n        <section style=\"-webkit-tap-highlight-color: transparent; background-color: rgb(218, 92, 77); display: inline-block; height: 8px; outline: 0px; overflow: hidden; vertical-align: top; width: 8px\"> \\n         <svg style=\"float: left; line-height: 0; vertical-align: top; width: 0\" viewbox=\"0 0 1 1\"></svg> \\n        </section> \\n       </section> \\n      </section> \\n      <section style=\"-webkit-tap-highlight-color: transparent; align-self: center; display: inline-block; flex: 0 0 auto; height: auto; outline: 0px; vertical-align: middle; width: 177.094px\"> \\n       <section style=\"-webkit-tap-highlight-color: transparent; margin-bottom: 0.5em; margin-top: 0.5em; outline: 0px\"> \\n        <section style=\"-webkit-tap-highlight-color: transparent; background-color: rgb(218, 92, 77); height: 1px; outline: 0px\"> \\n         <svg style=\"float: left; line-height: 0; vertical-align: top; width: 0\" viewbox=\"0 0 1 1\"></svg> \\n        </section> \\n       </section> \\n      </section> \\n     </section> \\n     <section style=\"-webkit-tap-highlight-color: transparent; outline: 0px\"> \\n      <p style=\"-webkit-tap-highlight-color: transparent; letter-spacing: 0.544px; outline: 0px\"><strong style=\"-webkit-tap-highlight-color: transparent; outline: 0px\"> \\n        <!--LINK_0--></strong><strong style=\"-webkit-tap-highlight-color: transparent; outline: 0px\"><strong><span style=\"letter-spacing: 0.544px; text-decoration-color: rgb(87, 107, 149); text-decoration-style: solid\"> \\n          <!--LINK_1--></span></strong></strong></p> \\n      <p style=\"-webkit-tap-highlight-color: transparent; letter-spacing: 0.544px; outline: 0px\"><strong style=\"-webkit-tap-highlight-color: transparent; outline: 0px\"> \\n        <!--LINK_2--></strong><strong style=\"-webkit-tap-highlight-color: transparent; outline: 0px\"><strong><span style=\"letter-spacing: 0.544px; text-decoration-color: rgb(87, 107, 149); text-decoration-style: solid\"> \\n          <!--LINK_3--></span></strong></strong></p> \\n      <p style=\"-webkit-tap-highlight-color: transparent; letter-spacing: 0.544px; outline: 0px\"><strong style=\"-webkit-tap-highlight-color: transparent; outline: 0px\"><span style=\"-webkit-tap-highlight-color: transparent; color: rgb(121, 123, 170); font-size: 14px; outline: 0px\">▼<strong><span style=\"letter-spacing: 0.544px; text-decoration-color: rgb(87, 107, 149); text-decoration-style: solid\"> \\n           <!--LINK_4--></span></strong></span></strong></p> \\n      <p style=\"-webkit-tap-highlight-color: transparent; outline: 0px\"><img src=\"https://inews.gtimg.com/om_bt/OmtgIpcqkCazEfh-8REKsj8YrOjtZFcT6Myueizx-az48AA/641\"></p> \\n     </section> \\n    </section> \\n   </section> \\n  </section> \\n  <section style=\"-webkit-tap-highlight-color: transparent; background-color: rgb(255, 255, 255); letter-spacing: 0.578px; margin-bottom: 0px; outline: 0px; text-wrap: wrap\"> \\n   <section style=\"-webkit-tap-highlight-color: transparent; outline: 0px\"> \\n    <p style=\"-webkit-tap-highlight-color: transparent; letter-spacing: 0.544px; outline: 0px\"><span style=\"-webkit-tap-highlight-color: transparent; color: rgb(136, 136, 136); font-size: 16px; letter-spacing: 0.578px; outline: 0px\">来源：中国环境APP</span></p> \\n   </section> \\n   <section style=\"-webkit-tap-highlight-color: transparent; outline: 0px\"> \\n    <p style=\"-webkit-tap-highlight-color: transparent; outline: 0px\"><span style=\"-webkit-tap-highlight-color: transparent; color: rgb(136, 136, 136); font-size: 16px; outline: 0px\">编辑：张黎</span></p> \\n   </section> \\n   <section style=\"-webkit-tap-highlight-color: transparent; letter-spacing: 0.544px; line-height: 0; margin-bottom: 10px; margin-top: 10px; outline: 0px; text-align: center\"> \\n    <section style=\"-webkit-tap-highlight-color: transparent; display: inline-block; line-height: 0; outline: 0px; vertical-align: middle\"> \\n     <img src=\"https://inews.gtimg.com/om_bt/OsQeLxc-J7DBHstGGyXgtWbdNSzMxpkQKA27jqyh_xKLYAA/641\"> \\n    </section> \\n   </section> \\n  </section> \\n  <p><br></p> \\n  <p style=\"display: none\"> \\n   <!--NO_AD_0--> \\n   <!--NO_AD_1--> \\n   <!--NO_AD_2--> \\n   <!--NO_AD_3--> \\n   <!--NO_AD_4--> \\n   <!--EOP_0--> \\n   <!--EOP_1--> \\n   <!--EOP_2--> \\n   <!--EOP_3--> \\n   <!--EOP_4--></p> \\n  <!--PARAGRAPH_4--> \\n  <!--PARAGRAPH_3--> \\n  <!--PARAGRAPH_2--> \\n  <!--PARAGRAPH_1--> \\n  <!--PARAGRAPH_0--> \\n  <style>.rich_media_content{color:#000000e5;font-size:var(--articleFontsize);overflow:hidden;text-align:justify}.rich_media_content{color:var(--weui-FG-HALF)}.rich_media_content{position:relative;z-index:0}.data_color_scheme_dark{--weui-BTN-ACTIVE-MASK: rgba(255, 255, 255, .1)}.data_color_scheme_dark{--weui-BTN-DEFAULT-ACTIVE-BG: rgba(255, 255, 255, .126)}.data_color_scheme_dark{--weui-DIALOG-LINE-COLOR: rgba(255, 255, 255, .1)}.data_color_scheme_dark{--weui-BG-COLOR-ACTIVE: #373737}.data_color_scheme_dark{--weui-BG-6: rgba(255, 255, 255, .1);--weui-ACTIVE-MASK: rgba(255, 255, 255, .1)}.data_color_scheme_dark{--weui-BG-0: #111;--weui-BG-1: #1e1e1e;--weui-BG-5: #2c2c2c;--weui-RED: #fa5151;--weui-ORANGERED: #ff6146;--weui-ORANGE: #c87d2f;--weui-YELLOW: #cc9c00;--weui-GREEN: #74a800;--weui-LIGHTGREEN: #3eb575;--weui-BRAND: #07c160;--weui-BLUE: #10aeff;--weui-INDIGO: #1196ff;--weui-PURPLE: #8183ff;--weui-LINK: #7d90a9;--weui-TEXTGREEN: #259c5c;--weui-REDORANGE: #ff6146;--weui-BG-0: #111111;--weui-BG-1: #1E1E1E;--weui-BG-2: #191919;--weui-BG-3: #202020;--weui-BG-4: #404040;--weui-BG-5: #2C2C2C;--weui-BLUE-100: #10AEFF;--weui-BLUE-120: #0C8BCC;--weui-BLUE-170: #04344D;--weui-BLUE-80: #3FBEFF;--weui-BLUE-90: #28B6FF;--weui-BLUE-BG-100: #48A6E2;--weui-BLUE-BG-110: #4095CB;--weui-BLUE-BG-130: #32749E;--weui-BLUE-BG-90: #5AAFE4;--weui-BRAND-100: #07C160;--weui-BRAND-120: #059A4C;--weui-BRAND-170: #023A1C;--weui-BRAND-80: #38CD7F;--weui-BRAND-90: #20C770;--weui-BRAND-BG-100: #2AAE67;--weui-BRAND-BG-110: #259C5C;--weui-BRAND-BG-130: #1D7A48;--weui-BRAND-BG-90: #3EB575;--weui-FG-0: rgba(255, 255, 255, .8);--weui-FG-0_5: rgba(255, 255, 255, .6);--weui-FG-1: rgba(255, 255, 255, .5);--weui-FG-2: rgba(255, 255, 255, .3);--weui-FG-3: rgba(255, 255, 255, .1);--weui-FG-4: rgba(255, 255, 255, .15);--weui-GLYPH-0: rgba(255, 255, 255, .8);--weui-GLYPH-1: rgba(255, 255, 255, .5);--weui-GLYPH-2: rgba(255, 255, 255, .3);--weui-GLYPH-WHITE-0: rgba(255, 255, 255, .8);--weui-GLYPH-WHITE-1: rgba(255, 255, 255, .5);--weui-GLYPH-WHITE-2: rgba(255, 255, 255, .3);--weui-GLYPH-WHITE-3: #FFFFFF;--weui-GREEN-100: #74A800;--weui-GREEN-120: #5C8600;--weui-GREEN-170: #233200;--weui-GREEN-80: #8FB933;--weui-GREEN-90: #82B01A;--weui-GREEN-BG-100: #789833;--weui-GREEN-BG-110: #6B882D;--weui-GREEN-BG-130: #65802B;--weui-GREEN-BG-90: #85A247;--weui-INDIGO-100: #1196FF;--weui-INDIGO-120: #0D78CC;--weui-INDIGO-170: #052D4D;--weui-INDIGO-80: #40ABFF;--weui-INDIGO-90: #28A0FF;--weui-INDIGO-BG-100: #0D78CC;--weui-INDIGO-BG-110: #0B6BB7;--weui-INDIGO-BG-130: #09548F;--weui-INDIGO-BG-90: #2585D1;--weui-LIGHTGREEN-100: #3EB575;--weui-LIGHTGREEN-120: #31905D;--weui-LIGHTGREEN-170: #123522;--weui-LIGHTGREEN-80: #64C390;--weui-LIGHTGREEN-90: #51BC83;--weui-LIGHTGREEN-BG-100: #31905D;--weui-LIGHTGREEN-BG-110: #2C8153;--weui-LIGHTGREEN-BG-130: #226541;--weui-LIGHTGREEN-BG-90: #31905D;--weui-LINK-100: #7D90A9;--weui-LINK-120: #647387;--weui-LINK-170: #252A32;--weui-LINK-80: #97A6BA;--weui-LINK-90: #899AB1;--weui-LINKFINDER-100: #DEE9FF;--weui-MATERIAL-ATTACHMENTCOLUMN: rgba(32, 32, 32, .93);--weui-MATERIAL-NAVIGATIONBAR: rgba(18, 18, 18, .9);--weui-MATERIAL-REGULAR: rgba(37, 37, 37, .6);--weui-MATERIAL-THICK: rgba(34, 34, 34, .9);--weui-MATERIAL-THIN: rgba(95, 95, 95, .4);--weui-MATERIAL-TOOLBAR: rgba(35, 35, 35, .93);--weui-ORANGE-100: #C87D2F;--weui-ORANGE-120: #A06425;--weui-ORANGE-170: #3B250E;--weui-ORANGE-80: #D39758;--weui-ORANGE-90: #CD8943;--weui-ORANGE-BG-100: #BB6000;--weui-ORANGE-BG-110: #A85600;--weui-ORANGE-BG-130: #824300;--weui-ORANGE-BG-90: #C1701A;--weui-ORANGERED-100: #FF6146;--weui-OVERLAY: rgba(0, 0, 0, .8);--weui-OVERLAY-WHITE: rgba(242, 242, 242, .8);--weui-PURPLE-100: #8183FF;--weui-PURPLE-120: #6768CC;--weui-PURPLE-170: #26274C;--weui-PURPLE-80: #9A9BFF;--weui-PURPLE-90: #8D8FFF;--weui-PURPLE-BG-100: #6768CC;--weui-PURPLE-BG-110: #5C5DB7;--weui-PURPLE-BG-130: #48498F;--weui-PURPLE-BG-90: #7677D1;--weui-RED-100: #FA5151;--weui-RED-120: #C84040;--weui-RED-170: #4B1818;--weui-RED-80: #FB7373;--weui-RED-90: #FA6262;--weui-RED-BG-100: #CF5148;--weui-RED-BG-110: #BA4940;--weui-RED-BG-130: #913832;--weui-RED-BG-90: #D3625A;--weui-SECONDARY-BG: rgba(255, 255, 255, .1);--weui-SEPARATOR-0: rgba(255, 255, 255, .05);--weui-SEPARATOR-1: rgba(255, 255, 255, .15);--weui-STATELAYER-HOVERED: rgba(0, 0, 0, .02);--weui-STATELAYER-PRESSED: rgba(255, 255, 255, .1);--weui-STATELAYER-PRESSEDSTRENGTHENED: rgba(255, 255, 255, .2);--weui-YELLOW-100: #CC9C00;--weui-YELLOW-120: #A37C00;--weui-YELLOW-170: #3D2F00;--weui-YELLOW-80: #D6AF33;--weui-YELLOW-90: #D1A519;--weui-YELLOW-BG-100: #BF9100;--weui-YELLOW-BG-110: #AB8200;--weui-YELLOW-BG-130: #866500;--weui-YELLOW-BG-90: #C59C1A;--weui-FG-HALF: rgba(255, 255, 255, .6);--weui-RED: #FA5151;--weui-ORANGERED: #FF6146;--weui-ORANGE: #C87D2F;--weui-YELLOW: #CC9C00;--weui-GREEN: #74A800;--weui-LIGHTGREEN: #3EB575;--weui-TEXTGREEN: #259C5C;--weui-BRAND: #07C160;--weui-BLUE: #10AEFF;--weui-INDIGO: #1196FF;--weui-PURPLE: #8183FF;--weui-LINK: #7D90A9;--weui-REDORANGE: #FF6146;--weui-TAG-TEXT-BLACK: rgba(255, 255, 255, .5);--weui-TAG-BACKGROUND-BLACK: rgba(255, 255, 255, .05);--weui-WHITE: rgba(255, 255, 255, .8);--weui-FG: #fff;--weui-BG: #000;--weui-FG-5: rgba(255, 255, 255, .1);--weui-TAG-BACKGROUND-ORANGE: rgba(250, 157, 59, .1);--weui-TAG-BACKGROUND-GREEN: rgba(6, 174, 86, .1);--weui-TAG-TEXT-RED: rgba(250, 81, 81, .6);--weui-TAG-BACKGROUND-RED: rgba(250, 81, 81, .1);--weui-TAG-BACKGROUND-BLUE: rgba(16, 174, 255, .1);--weui-TAG-TEXT-ORANGE: rgba(250, 157, 59, .6);--weui-TAG-TEXT-GREEN: rgba(6, 174, 86, .6);--weui-TAG-TEXT-BLUE: rgba(16, 174, 255, .6)}.data_color_scheme_dark{--weui-BG-0: #111111;--weui-BG-1: #1E1E1E;--weui-BG-2: #191919;--weui-BG-3: #202020;--weui-BG-4: #404040;--weui-BG-5: #2C2C2C;--weui-BLUE-100: #10AEFF;--weui-BLUE-120: #0C8BCC;--weui-BLUE-170: #04344D;--weui-BLUE-80: #3FBEFF;--weui-BLUE-90: #28B6FF;--weui-BLUE-BG-100: #48A6E2;--weui-BLUE-BG-110: #4095CB;--weui-BLUE-BG-130: #32749E;--weui-BLUE-BG-90: #5AAFE4;--weui-BRAND-100: #07C160;--weui-BRAND-120: #059A4C;--weui-BRAND-170: #023A1C;--weui-BRAND-80: #38CD7F;--weui-BRAND-90: #20C770;--weui-BRAND-BG-100: #2AAE67;--weui-BRAND-BG-110: #259C5C;--weui-BRAND-BG-130: #1D7A48;--weui-BRAND-BG-90: #3EB575;--weui-FG-0: rgba(255, 255, 255, .8);--weui-FG-0_5: rgba(255, 255, 255, .6);--weui-FG-1: rgba(255, 255, 255, .5);--weui-FG-2: rgba(255, 255, 255, .3);--weui-FG-3: rgba(255, 255, 255, .1);--weui-FG-4: rgba(255, 255, 255, .15);--weui-GLYPH-0: rgba(255, 255, 255, .8);--weui-GLYPH-1: rgba(255, 255, 255, .5);--weui-GLYPH-2: rgba(255, 255, 255, .3);--weui-GLYPH-WHITE-0: rgba(255, 255, 255, .8);--weui-GLYPH-WHITE-1: rgba(255, 255, 255, .5);--weui-GLYPH-WHITE-2: rgba(255, 255, 255, .3);--weui-GLYPH-WHITE-3: #FFFFFF;--weui-GREEN-100: #74A800;--weui-GREEN-120: #5C8600;--weui-GREEN-170: #233200;--weui-GREEN-80: #8FB933;--weui-GREEN-90: #82B01A;--weui-GREEN-BG-100: #789833;--weui-GREEN-BG-110: #6B882D;--weui-GREEN-BG-130: #65802B;--weui-GREEN-BG-90: #85A247;--weui-INDIGO-100: #1196FF;--weui-INDIGO-120: #0D78CC;--weui-INDIGO-170: #052D4D;--weui-INDIGO-80: #40ABFF;--weui-INDIGO-90: #28A0FF;--weui-INDIGO-BG-100: #0D78CC;--weui-INDIGO-BG-110: #0B6BB7;--weui-INDIGO-BG-130: #09548F;--weui-INDIGO-BG-90: #2585D1;--weui-LIGHTGREEN-100: #3EB575;--weui-LIGHTGREEN-120: #31905D;--weui-LIGHTGREEN-170: #123522;--weui-LIGHTGREEN-80: #64C390;--weui-LIGHTGREEN-90: #51BC83;--weui-LIGHTGREEN-BG-100: #31905D;--weui-LIGHTGREEN-BG-110: #2C8153;--weui-LIGHTGREEN-BG-130: #226541;--weui-LIGHTGREEN-BG-90: #31905D;--weui-LINK-100: #7D90A9;--weui-LINK-120: #647387;--weui-LINK-170: #252A32;--weui-LINK-80: #97A6BA;--weui-LINK-90: #899AB1;--weui-LINKFINDER-100: #DEE9FF;--weui-MATERIAL-ATTACHMENTCOLUMN: rgba(32, 32, 32, .93);--weui-MATERIAL-NAVIGATIONBAR: rgba(18, 18, 18, .9);--weui-MATERIAL-REGULAR: rgba(37, 37, 37, .6);--weui-MATERIAL-THICK: rgba(34, 34, 34, .9);--weui-MATERIAL-THIN: rgba(95, 95, 95, .4);--weui-MATERIAL-TOOLBAR: rgba(35, 35, 35, .93);--weui-ORANGE-100: #C87D2F;--weui-ORANGE-120: #A06425;--weui-ORANGE-170: #3B250E;--weui-ORANGE-80: #D39758;--weui-ORANGE-90: #CD8943;--weui-ORANGE-BG-100: #BB6000;--weui-ORANGE-BG-110: #A85600;--weui-ORANGE-BG-130: #824300;--weui-ORANGE-BG-90: #C1701A;--weui-ORANGERED-100: #FF6146;--weui-OVERLAY: rgba(0, 0, 0, .8);--weui-OVERLAY-WHITE: rgba(242, 242, 242, .8);--weui-PURPLE-100: #8183FF;--weui-PURPLE-120: #6768CC;--weui-PURPLE-170: #26274C;--weui-PURPLE-80: #9A9BFF;--weui-PURPLE-90: #8D8FFF;--weui-PURPLE-BG-100: #6768CC;--weui-PURPLE-BG-110: #5C5DB7;--weui-PURPLE-BG-130: #48498F;--weui-PURPLE-BG-90: #7677D1;--weui-RED-100: #FA5151;--weui-RED-120: #C84040;--weui-RED-170: #4B1818;--weui-RED-80: #FB7373;--weui-RED-90: #FA6262;--weui-RED-BG-100: #CF5148;--weui-RED-BG-110: #BA4940;--weui-RED-BG-130: #913832;--weui-RED-BG-90: #D3625A;--weui-SECONDARY-BG: rgba(255, 255, 255, .1);--weui-SEPARATOR-0: rgba(255, 255, 255, .05);--weui-SEPARATOR-1: rgba(255, 255, 255, .15);--weui-STATELAYER-HOVERED: rgba(0, 0, 0, .02);--weui-STATELAYER-PRESSED: rgba(255, 255, 255, .1);--weui-STATELAYER-PRESSEDSTRENGTHENED: rgba(255, 255, 255, .2);--weui-YELLOW-100: #CC9C00;--weui-YELLOW-120: #A37C00;--weui-YELLOW-170: #3D2F00;--weui-YELLOW-80: #D6AF33;--weui-YELLOW-90: #D1A519;--weui-YELLOW-BG-100: #BF9100;--weui-YELLOW-BG-110: #AB8200;--weui-YELLOW-BG-130: #866500;--weui-YELLOW-BG-90: #C59C1A;--weui-FG-HALF: rgba(255, 255, 255, .6);--weui-RED: #FA5151;--weui-ORANGERED: #FF6146;--weui-ORANGE: #C87D2F;--weui-YELLOW: #CC9C00;--weui-GREEN: #74A800;--weui-LIGHTGREEN: #3EB575;--weui-TEXTGREEN: #259C5C;--weui-BRAND: #07C160;--weui-BLUE: #10AEFF;--weui-INDIGO: #1196FF;--weui-PURPLE: #8183FF;--weui-LINK: #7D90A9;--weui-REDORANGE: #FF6146;--weui-TAG-TEXT-BLACK: rgba(255, 255, 255, .5);--weui-TAG-BACKGROUND-BLACK: rgba(255, 255, 255, .05);--weui-WHITE: rgba(255, 255, 255, .8);--weui-FG: #fff;--weui-BG: #000;--weui-FG-5: rgba(255, 255, 255, .1);--weui-TAG-BACKGROUND-ORANGE: rgba(250, 157, 59, .1);--weui-TAG-BACKGROUND-GREEN: rgba(6, 174, 86, .1);--weui-TAG-TEXT-RED: rgba(250, 81, 81, .6);--weui-TAG-BACKGROUND-RED: rgba(250, 81, 81, .1);--weui-TAG-BACKGROUND-BLUE: rgba(16, 174, 255, .1);--weui-TAG-TEXT-ORANGE: rgba(250, 157, 59, .6);--weui-TAG-TEXT-GREEN: rgba(6, 174, 86, .6);--weui-TAG-TEXT-BLUE: rgba(16, 174, 255, .6)}.data_color_scheme_dark{--weui-elpsColor: rgba(255, 255, 255, .8)}.data_color_scheme_dark{--weui-mask-elpsColor: rgba(255, 255, 255, .8);--weui-mask-gradient: linear-gradient(to right, rgba(25, 25, 25, 0), #191919 40%)}.data_color_scheme_dark{--weui-BG-0: #111111;--weui-BG-1: #1E1E1E;--weui-BG-2: #191919;--weui-BG-3: #202020;--weui-BG-4: #404040;--weui-BG-5: #2C2C2C;--weui-BLUE-100: #10AEFF;--weui-BLUE-120: #0C8BCC;--weui-BLUE-170: #04344D;--weui-BLUE-80: #3FBEFF;--weui-BLUE-90: #28B6FF;--weui-BLUE-BG-100: #48A6E2;--weui-BLUE-BG-110: #4095CB;--weui-BLUE-BG-130: #32749E;--weui-BLUE-BG-90: #5AAFE4;--weui-BRAND-100: #07C160;--weui-BRAND-120: #059A4C;--weui-BRAND-170: #023A1C;--weui-BRAND-80: #38CD7F;--weui-BRAND-90: #20C770;--weui-BRAND-BG-100: #2AAE67;--weui-BRAND-BG-110: #259C5C;--weui-BRAND-BG-130: #1D7A48;--weui-BRAND-BG-90: #3EB575;--weui-FG-0: rgba(255, 255, 255, .8);--weui-FG-0_5: rgba(255, 255, 255, .6);--weui-FG-1: rgba(255, 255, 255, .5);--weui-FG-2: rgba(255, 255, 255, .3);--weui-FG-3: rgba(255, 255, 255, .1);--weui-FG-4: rgba(255, 255, 255, .15);--weui-GLYPH-0: rgba(255, 255, 255, .8);--weui-GLYPH-1: rgba(255, 255, 255, .5);--weui-GLYPH-2: rgba(255, 255, 255, .3);--weui-GLYPH-WHITE-0: rgba(255, 255, 255, .8);--weui-GLYPH-WHITE-1: rgba(255, 255, 255, .5);--weui-GLYPH-WHITE-2: rgba(255, 255, 255, .3);--weui-GLYPH-WHITE-3: #FFFFFF;--weui-GREEN-100: #74A800;--weui-GREEN-120: #5C8600;--weui-GREEN-170: #233200;--weui-GREEN-80: #8FB933;--weui-GREEN-90: #82B01A;--weui-GREEN-BG-100: #789833;--weui-GREEN-BG-110: #6B882D;--weui-GREEN-BG-130: #65802B;--weui-GREEN-BG-90: #85A247;--weui-INDIGO-100: #1196FF;--weui-INDIGO-120: #0D78CC;--weui-INDIGO-170: #052D4D;--weui-INDIGO-80: #40ABFF;--weui-INDIGO-90: #28A0FF;--weui-INDIGO-BG-100: #0D78CC;--weui-INDIGO-BG-110: #0B6BB7;--weui-INDIGO-BG-130: #09548F;--weui-INDIGO-BG-90: #2585D1;--weui-LIGHTGREEN-100: #3EB575;--weui-LIGHTGREEN-120: #31905D;--weui-LIGHTGREEN-170: #123522;--weui-LIGHTGREEN-80: #64C390;--weui-LIGHTGREEN-90: #51BC83;--weui-LIGHTGREEN-BG-100: #31905D;--weui-LIGHTGREEN-BG-110: #2C8153;--weui-LIGHTGREEN-BG-130: #226541;--weui-LIGHTGREEN-BG-90: #31905D;--weui-LINK-100: #7D90A9;--weui-LINK-120: #647387;--weui-LINK-170: #252A32;--weui-LINK-80: #97A6BA;--weui-LINK-90: #899AB1;--weui-LINKFINDER-100: #DEE9FF;--weui-MATERIAL-ATTACHMENTCOLUMN: rgba(32, 32, 32, .93);--weui-MATERIAL-NAVIGATIONBAR: rgba(18, 18, 18, .9);--weui-MATERIAL-REGULAR: rgba(37, 37, 37, .6);--weui-MATERIAL-THICK: rgba(34, 34, 34, .9);--weui-MATERIAL-THIN: rgba(95, 95, 95, .4);--weui-MATERIAL-TOOLBAR: rgba(35, 35, 35, .93);--weui-ORANGE-100: #C87D2F;--weui-ORANGE-120: #A06425;--weui-ORANGE-170: #3B250E;--weui-ORANGE-80: #D39758;--weui-ORANGE-90: #CD8943;--weui-ORANGE-BG-100: #BB6000;--weui-ORANGE-BG-110: #A85600;--weui-ORANGE-BG-130: #824300;--weui-ORANGE-BG-90: #C1701A;--weui-ORANGERED-100: #FF6146;--weui-OVERLAY: rgba(0, 0, 0, .8);--weui-OVERLAY-WHITE: rgba(242, 242, 242, .8);--weui-PURPLE-100: #8183FF;--weui-PURPLE-120: #6768CC;--weui-PURPLE-170: #26274C;--weui-PURPLE-80: #9A9BFF;--weui-PURPLE-90: #8D8FFF;--weui-PURPLE-BG-100: #6768CC;--weui-PURPLE-BG-110: #5C5DB7;--weui-PURPLE-BG-130: #48498F;--weui-PURPLE-BG-90: #7677D1;--weui-RED-100: #FA5151;--weui-RED-120: #C84040;--weui-RED-170: #4B1818;--weui-RED-80: #FB7373;--weui-RED-90: #FA6262;--weui-RED-BG-100: #CF5148;--weui-RED-BG-110: #BA4940;--weui-RED-BG-130: #913832;--weui-RED-BG-90: #D3625A;--weui-SECONDARY-BG: rgba(255, 255, 255, .1);--weui-SEPARATOR-0: rgba(255, 255, 255, .05);--weui-SEPARATOR-1: rgba(255, 255, 255, .15);--weui-STATELAYER-HOVERED: rgba(0, 0, 0, .02);--weui-STATELAYER-PRESSED: rgba(255, 255, 255, .1);--weui-STATELAYER-PRESSEDSTRENGTHENED: rgba(255, 255, 255, .2);--weui-YELLOW-100: #CC9C00;--weui-YELLOW-120: #A37C00;--weui-YELLOW-170: #3D2F00;--weui-YELLOW-80: #D6AF33;--weui-YELLOW-90: #D1A519;--weui-YELLOW-BG-100: #BF9100;--weui-YELLOW-BG-110: #AB8200;--weui-YELLOW-BG-130: #866500;--weui-YELLOW-BG-90: #C59C1A;--weui-FG-HALF: rgba(255, 255, 255, .6);--weui-RED: #FA5151;--weui-ORANGERED: #FF6146;--weui-ORANGE: #C87D2F;--weui-YELLOW: #CC9C00;--weui-GREEN: #74A800;--weui-LIGHTGREEN: #3EB575;--weui-TEXTGREEN: #259C5C;--weui-BRAND: #07C160;--weui-BLUE: #10AEFF;--weui-INDIGO: #1196FF;--weui-PURPLE: #8183FF;--weui-LINK: #7D90A9;--weui-REDORANGE: #FF6146;--weui-TAG-TEXT-BLACK: rgba(255, 255, 255, .5);--weui-TAG-BACKGROUND-BLACK: rgba(255, 255, 255, .05);--weui-WHITE: rgba(255, 255, 255, .8);--weui-FG: #fff;--weui-BG: #000;--weui-FG-5: rgba(255, 255, 255, .1);--weui-TAG-BACKGROUND-ORANGE: rgba(250, 157, 59, .1);--weui-TAG-BACKGROUND-GREEN: rgba(6, 174, 86, .1);--weui-TAG-TEXT-RED: rgba(250, 81, 81, .6);--weui-TAG-BACKGROUND-RED: rgba(250, 81, 81, .1);--weui-TAG-BACKGROUND-BLUE: rgba(16, 174, 255, .1);--weui-TAG-TEXT-ORANGE: rgba(250, 157, 59, .6);--weui-TAG-TEXT-GREEN: rgba(6, 174, 86, .6);--weui-TAG-TEXT-BLUE: rgba(16, 174, 255, .6)}.wxw-img{vertical-align:bottom}a{color:#576b95;text-decoration:none;-webkit-tap-highlight-color:#0000;-webkit-user-drag:none}a{color:var(--weui-LINK)}a{cursor:default}*{margin:0;padding:0}.rich_media_content *{max-width:100%!important;box-sizing:border-box!important;-webkit-box-sizing:border-box!important;word-wrap:break-word!important}@media(prefers-color-scheme:dark){:root{--win-scrollbar-hover-bgcolor: rgba(255, 255, 255, .55);--win-scrollbar-bgcolor: rgba(255, 255, 255, .5)}}@media screen and (min-width:1024px){body:not(.pages_skin_pc) :root{--appmsgPageGap: 20px;--appmsgPageBottomGap: 40px}}:root{--articleFontsize: 17px}:root{--sab: env(safe-area-inset-bottom)}:root{--win-scrollbar-hover-bgcolor: rgba(0, 0, 0, .55);--win-scrollbar-bgcolor: rgba(0, 0, 0, .5)}:root{--wxBorderAvatarRatio: 3}:root{--discussPageGap: 20px}:root{--immersive-safe-bottom: env(safe-area-inset-bottom)}:root{--immersive-safe-bottom: env(safe-area-inset-bottom);--pc-drawer-comment-topbar-height: 40px}:root{--appmsgPageGap: 20px;--appmsgPageBottomGap: 40px}@media(prefers-color-scheme:dark){.wx-root:not([data-weui-theme=light]),body:not([data-weui-theme=light]){--weui-BG-0: #111;--weui-BG-1: #1e1e1e;--weui-BG-2: #191919;--weui-BG-3: #202020;--weui-BG-4: #404040;--weui-BG-5: #2c2c2c;--weui-BLUE-100: #10aeff;--weui-BLUE-120: #0c8bcc;--weui-BLUE-170: #04344d;--weui-BLUE-80: #3fbeff;--weui-BLUE-90: #28b6ff;--weui-BLUE-BG-100: #48a6e2;--weui-BLUE-BG-110: #4095cb;--weui-BLUE-BG-130: #32749e;--weui-BLUE-BG-90: #5aafe4;--weui-BRAND-100: #07c160;--weui-BRAND-120: #059a4c;--weui-BRAND-170: #023a1c;--weui-BRAND-80: #38cd7f;--weui-BRAND-90: #20c770;--weui-BRAND-BG-100: #2aae67;--weui-BRAND-BG-110: #259c5c;--weui-BRAND-BG-130: #1d7a48;--weui-BRAND-BG-90: #3eb575;--weui-FG-0: hsla(0,0%,100%,.8);--weui-FG-0_5: hsla(0,0%,100%,.6);--weui-FG-1: hsla(0,0%,100%,.5);--weui-FG-2: hsla(0,0%,100%,.3);--weui-FG-3: hsla(0,0%,100%,.1);--weui-FG-4: hsla(0,0%,100%,.15);--weui-GLYPH-0: hsla(0,0%,100%,.8);--weui-GLYPH-1: hsla(0,0%,100%,.5);--weui-GLYPH-2: hsla(0,0%,100%,.3);--weui-GLYPH-WHITE-0: hsla(0,0%,100%,.8);--weui-GLYPH-WHITE-1: hsla(0,0%,100%,.5);--weui-GLYPH-WHITE-2: hsla(0,0%,100%,.3);--weui-GLYPH-WHITE-3: #fff;--weui-GREEN-100: #74a800;--weui-GREEN-120: #5c8600;--weui-GREEN-170: #233200;--weui-GREEN-80: #8fb933;--weui-GREEN-90: #82b01a;--weui-GREEN-BG-100: #789833;--weui-GREEN-BG-110: #6b882d;--weui-GREEN-BG-130: #65802b;--weui-GREEN-BG-90: #85a247;--weui-INDIGO-100: #1196ff;--weui-INDIGO-120: #0d78cc;--weui-INDIGO-170: #052d4d;--weui-INDIGO-80: #40abff;--weui-INDIGO-90: #28a0ff;--weui-INDIGO-BG-100: #0d78cc;--weui-INDIGO-BG-110: #0b6bb7;--weui-INDIGO-BG-130: #09548f;--weui-INDIGO-BG-90: #2585d1;--weui-LIGHTGREEN-100: #3eb575;--weui-LIGHTGREEN-120: #31905d;--weui-LIGHTGREEN-170: #123522;--weui-LIGHTGREEN-80: #64c390;--weui-LIGHTGREEN-90: #51bc83;--weui-LIGHTGREEN-BG-100: #31905d;--weui-LIGHTGREEN-BG-110: #2c8153;--weui-LIGHTGREEN-BG-130: #226541;--weui-LIGHTGREEN-BG-90: #31905d;--weui-LINK-100: #7d90a9;--weui-LINK-120: #647387;--weui-LINK-170: #252a32;--weui-LINK-80: #97a6ba;--weui-LINK-90: #899ab1;--weui-LINKFINDER-100: #dee9ff;--weui-MATERIAL-ATTACHMENTCOLUMN: rgba(32,32,32,.93);--weui-MATERIAL-NAVIGATIONBAR: rgba(18,18,18,.9);--weui-MATERIAL-REGULAR: rgba(37,37,37,.6);--weui-MATERIAL-THICK: rgba(34,34,34,.9);--weui-MATERIAL-THIN: rgba(95,95,95,.4);--weui-MATERIAL-TOOLBAR: rgba(35,35,35,.93);--weui-ORANGE-100: #c87d2f;--weui-ORANGE-120: #a06425;--weui-ORANGE-170: #3b250e;--weui-ORANGE-80: #d39758;--weui-ORANGE-90: #cd8943;--weui-ORANGE-BG-100: #bb6000;--weui-ORANGE-BG-110: #a85600;--weui-ORANGE-BG-130: #824300;--weui-ORANGE-BG-90: #c1701a;--weui-ORANGERED-100: #ff6146;--weui-OVERLAY: rgba(0,0,0,.8);--weui-OVERLAY-WHITE: hsla(0,0%,94.9%,.8);--weui-PURPLE-100: #8183ff;--weui-PURPLE-120: #6768cc;--weui-PURPLE-170: #26274c;--weui-PURPLE-80: #9a9bff;--weui-PURPLE-90: #8d8fff;--weui-PURPLE-BG-100: #6768cc;--weui-PURPLE-BG-110: #5c5db7;--weui-PURPLE-BG-130: #48498f;--weui-PURPLE-BG-90: #7677d1;--weui-RED-100: #fa5151;--weui-RED-120: #c84040;--weui-RED-170: #4b1818;--weui-RED-80: #fb7373;--weui-RED-90: #fa6262;--weui-RED-BG-100: #cf5148;--weui-RED-BG-110: #ba4940;--weui-RED-BG-130: #913832;--weui-RED-BG-90: #d3625a;--weui-SECONDARY-BG: hsla(0,0%,100%,.1);--weui-SEPARATOR-0: hsla(0,0%,100%,.05);--weui-SEPARATOR-1: hsla(0,0%,100%,.15);--weui-STATELAYER-HOVERED: rgba(0,0,0,.02);--weui-STATELAYER-PRESSED: hsla(0,0%,100%,.1);--weui-STATELAYER-PRESSEDSTRENGTHENED: hsla(0,0%,100%,.2);--weui-YELLOW-100: #cc9c00;--weui-YELLOW-120: #a37c00;--weui-YELLOW-170: #3d2f00;--weui-YELLOW-80: #d6af33;--weui-YELLOW-90: #d1a519;--weui-YELLOW-BG-100: #bf9100;--weui-YELLOW-BG-110: #ab8200;--weui-YELLOW-BG-130: #866500;--weui-YELLOW-BG-90: #c59c1a;--weui-FG-HALF: hsla(0,0%,100%,.6);--weui-RED: #fa5151;--weui-ORANGERED: #ff6146;--weui-ORANGE: #c87d2f;--weui-YELLOW: #cc9c00;--weui-GREEN: #74a800;--weui-LIGHTGREEN: #3eb575;--weui-TEXTGREEN: #259c5c;--weui-BRAND: #07c160;--weui-BLUE: #10aeff;--weui-INDIGO: #1196ff;--weui-PURPLE: #8183ff;--weui-LINK: #7d90a9;--weui-REDORANGE: #ff6146;--weui-TAG-TEXT-BLACK: hsla(0,0%,100%,.5);--weui-TAG-BACKGROUND-BLACK: hsla(0,0%,100%,.05);--weui-WHITE: hsla(0,0%,100%,.8);--weui-FG: #fff;--weui-BG: #000;--weui-FG-5: hsla(0,0%,100%,.1);--weui-TAG-BACKGROUND-ORANGE: rgba(250,157,59,.1);--weui-TAG-BACKGROUND-GREEN: rgba(6,174,86,.1);--weui-TAG-TEXT-RED: rgba(250,81,81,.6);--weui-TAG-BACKGROUND-RED: rgba(250,81,81,.1);--weui-TAG-BACKGROUND-BLUE: rgba(16,174,255,.1);--weui-TAG-TEXT-ORANGE: rgba(250,157,59,.6);--weui-TAG-TEXT-GREEN: rgba(6,174,86,.6);--weui-TAG-TEXT-BLUE: rgba(16,174,255,.6)}}body,.wx-root,page{--weui-BTN-HEIGHT: 48;--weui-BTN-HEIGHT-MEDIUM: 40;--weui-BTN-HEIGHT-SMALL: 32}body{--weui-elpsLine: 2;--weui-elpsFontSize: 1rem;--weui-elpsColor: rgba(0, 0, 0, .9)}body{--weui-mask-elpsLine: 2;--weui-mask-elpsLineHeight: 1.4;--weui-mask-elpsFontSize: 1rem;--weui-mask-elpsColor: rgba(0, 0, 0, .9);--weui-mask-gradient: linear-gradient(to right, rgba(255, 255, 255, 0), #ffffff 40%)}@media(prefers-color-scheme:dark){body:not([data-weui-theme=light]){--weui-elpsColor: rgba(255, 255, 255, .8)}}@media(prefers-color-scheme:dark){body:not([data-weui-theme=light]){--weui-mask-elpsColor: rgba(255, 255, 255, .8);--weui-mask-gradient: linear-gradient(to right, rgba(25, 25, 25, 0), #191919 40%)}}@media screen and (min-width:1024px){body:not(.pages_skin_pc) body,body:not(.pages_skin_pc) .wx-root{--weui-BG-0: #EDEDED;--weui-BG-1: #F7F7F7;--weui-BG-2: #FFFFFF;--weui-BG-3: #F7F7F7;--weui-BG-4: #4C4C4C;--weui-BG-5: #FFFFFF;--weui-BLUE-100: #10AEFF;--weui-BLUE-120: #3FBEFF;--weui-BLUE-170: #B7E6FF;--weui-BLUE-80: #0C8BCC;--weui-BLUE-90: #0E9CE6;--weui-BLUE-BG-100: #48A6E2;--weui-BLUE-BG-110: #5AAFE4;--weui-BLUE-BG-130: #7FC0EA;--weui-BLUE-BG-90: #4095CB;--weui-BRAND-100: #07C160;--weui-BRAND-120: #38CD7F;--weui-BRAND-170: #B4ECCE;--weui-BRAND-80: #059A4C;--weui-BRAND-90: #06AE56;--weui-BRAND-BG-100: #2AAE67;--weui-BRAND-BG-110: #3EB575;--weui-BRAND-BG-130: #69C694;--weui-BRAND-BG-90: #259C5C;--weui-FG-0: rgba(0, 0, 0, .9);--weui-FG-0_5: rgba(0, 0, 0, .9);--weui-FG-1: rgba(0, 0, 0, .55);--weui-FG-2: rgba(0, 0, 0, .3);--weui-FG-3: rgba(0, 0, 0, .1);--weui-FG-4: rgba(0, 0, 0, .15);--weui-GLYPH-0: rgba(0, 0, 0, .9);--weui-GLYPH-1: rgba(0, 0, 0, .55);--weui-GLYPH-2: rgba(0, 0, 0, .3);--weui-GLYPH-WHITE-0: rgba(255, 255, 255, .8);--weui-GLYPH-WHITE-1: rgba(255, 255, 255, .5);--weui-GLYPH-WHITE-2: rgba(255, 255, 255, .3);--weui-GLYPH-WHITE-3: #FFFFFF;--weui-GREEN-100: #91D300;--weui-GREEN-120: #A7DB33;--weui-GREEN-170: #DEF1B3;--weui-GREEN-80: #74A800;--weui-GREEN-90: #82BD00;--weui-GREEN-BG-100: #96BE40;--weui-GREEN-BG-110: #A0C452;--weui-GREEN-BG-130: #B5D179;--weui-GREEN-BG-90: #86AA39;--weui-INDIGO-100: #1485EE;--weui-INDIGO-120: #439DF1;--weui-INDIGO-170: #B8DAF9;--weui-INDIGO-80: #106ABE;--weui-INDIGO-90: #1277D6;--weui-INDIGO-BG-100: #2B77BF;--weui-INDIGO-BG-110: #3F84C5;--weui-INDIGO-BG-130: #6BA0D2;--weui-INDIGO-BG-90: #266AAB;--weui-LIGHTGREEN-100: #95EC69;--weui-LIGHTGREEN-120: #AAEF87;--weui-LIGHTGREEN-170: #DEF9D1;--weui-LIGHTGREEN-80: #77BC54;--weui-LIGHTGREEN-90: #85D35E;--weui-LIGHTGREEN-BG-100: #72CF60;--weui-LIGHTGREEN-BG-110: #80D370;--weui-LIGHTGREEN-BG-130: #9CDD90;--weui-LIGHTGREEN-BG-90: #66B956;--weui-LINK-100: #576B95;--weui-LINK-120: #7888AA;--weui-LINK-170: #CCD2DE;--weui-LINK-80: #455577;--weui-LINK-90: #4E6085;--weui-LINKFINDER-100: #002666;--weui-MATERIAL-ATTACHMENTCOLUMN: rgba(245, 245, 245, .95);--weui-MATERIAL-NAVIGATIONBAR: rgba(237, 237, 237, .94);--weui-MATERIAL-REGULAR: rgba(247, 247, 247, .3);--weui-MATERIAL-THICK: rgba(247, 247, 247, .8);--weui-MATERIAL-THIN: rgba(255, 255, 255, .2);--weui-MATERIAL-TOOLBAR: rgba(246, 246, 246, .82);--weui-ORANGE-100: #FA9D3B;--weui-ORANGE-120: #FBB062;--weui-ORANGE-170: #FDE1C3;--weui-ORANGE-80: #C87D2F;--weui-ORANGE-90: #E08C34;--weui-ORANGE-BG-100: #EA7800;--weui-ORANGE-BG-110: #EC8519;--weui-ORANGE-BG-130: #F0A04D;--weui-ORANGE-BG-90: #D26B00;--weui-ORANGERED-100: #FF6146;--weui-OVERLAY: rgba(0, 0, 0, .5);--weui-OVERLAY-WHITE: rgba(242, 242, 242, .8);--weui-PURPLE-100: #6467F0;--weui-PURPLE-120: #8385F3;--weui-PURPLE-170: #D0D1FA;--weui-PURPLE-80: #5052C0;--weui-PURPLE-90: #595CD7;--weui-PURPLE-BG-100: #6769BA;--weui-PURPLE-BG-110: #7678C1;--weui-PURPLE-BG-130: #9496CE;--weui-PURPLE-BG-90: #5C5EA7;--weui-RED-100: #FA5151;--weui-RED-120: #FB7373;--weui-RED-170: #FDCACA;--weui-RED-80: #C84040;--weui-RED-90: #E14949;--weui-RED-BG-100: #CF5148;--weui-RED-BG-110: #D3625A;--weui-RED-BG-130: #DD847E;--weui-RED-BG-90: #B94840;--weui-SECONDARY-BG: rgba(0, 0, 0, .05);--weui-SEPARATOR-0: rgba(0, 0, 0, .1);--weui-SEPARATOR-1: rgba(0, 0, 0, .15);--weui-STATELAYER-HOVERED: rgba(0, 0, 0, .02);--weui-STATELAYER-PRESSED: rgba(0, 0, 0, .1);--weui-STATELAYER-PRESSEDSTRENGTHENED: rgba(0, 0, 0, .2);--weui-YELLOW-100: #FFC300;--weui-YELLOW-120: #FFCF33;--weui-YELLOW-170: #FFECB2;--weui-YELLOW-80: #CC9C00;--weui-YELLOW-90: #E6AF00;--weui-YELLOW-BG-100: #EFB600;--weui-YELLOW-BG-110: #F0BD19;--weui-YELLOW-BG-130: #F3CC4D;--weui-YELLOW-BG-90: #D7A400;--weui-FG-HALF: rgba(0, 0, 0, .9);--weui-RED: #FA5151;--weui-ORANGERED: #FF6146;--weui-ORANGE: #FA9D3B;--weui-YELLOW: #FFC300;--weui-GREEN: #91D300;--weui-LIGHTGREEN: #95EC69;--weui-TEXTGREEN: #06AE56;--weui-BRAND: #07C160;--weui-BLUE: #10AEFF;--weui-INDIGO: #1485EE;--weui-PURPLE: #6467F0;--weui-LINK: #576B95;--weui-TAG-TEXT-ORANGE: #FA9D3B;--weui-TAG-TEXT-GREEN: #06AE56;--weui-TAG-TEXT-BLUE: #10AEFF;--weui-REDORANGE: #FF6146;--weui-TAG-TEXT-BLACK: rgba(0, 0, 0, .5);--weui-TAG-BACKGROUND-BLACK: rgba(0, 0, 0, .05);--weui-WHITE: #FFFFFF;--weui-BG: #FFFFFF;--weui-FG: #000;--weui-FG-5: rgba(0, 0, 0, .05);--weui-TAG-BACKGROUND-ORANGE: rgba(250, 157, 59, .1);--weui-TAG-BACKGROUND-GREEN: rgba(6, 174, 86, .1);--weui-TAG-TEXT-RED: rgba(250, 81, 81, .6);--weui-TAG-BACKGROUND-RED: rgba(250, 81, 81, .1);--weui-TAG-BACKGROUND-BLUE: rgba(16, 174, 255, .1)}}@media screen and (min-width:1024px){body:not(.pages_skin_pc) .wx-root[data-weui-mode=care],body:not(.pages_skin_pc) body[data-weui-mode=care]{--weui-BG-0: #EDEDED;--weui-BG-1: #F7F7F7;--weui-BG-2: #FFFFFF;--weui-BG-3: #F7F7F7;--weui-BG-4: #4C4C4C;--weui-BG-5: #FFFFFF;--weui-BLUE-100: #007DBB;--weui-BLUE-120: #3FBEFF;--weui-BLUE-170: #B7E6FF;--weui-BLUE-80: #0C8BCC;--weui-BLUE-90: #0E9CE6;--weui-BLUE-BG-100: #48A6E2;--weui-BLUE-BG-110: #5AAFE4;--weui-BLUE-BG-130: #7FC0EA;--weui-BLUE-BG-90: #4095CB;--weui-BRAND-100: #018942;--weui-BRAND-120: #38CD7F;--weui-BRAND-170: #B4ECCE;--weui-BRAND-80: #059A4C;--weui-BRAND-90: #06AE56;--weui-BRAND-BG-100: #2AAE67;--weui-BRAND-BG-110: #3EB575;--weui-BRAND-BG-130: #69C694;--weui-BRAND-BG-90: #259C5C;--weui-FG-0: #000000;--weui-FG-0_5: #000000;--weui-FG-1: rgba(0, 0, 0, .6);--weui-FG-2: rgba(0, 0, 0, .42);--weui-FG-3: rgba(0, 0, 0, .1);--weui-FG-4: rgba(0, 0, 0, .15);--weui-GLYPH-0: #000000;--weui-GLYPH-1: rgba(0, 0, 0, .6);--weui-GLYPH-2: rgba(0, 0, 0, .42);--weui-GLYPH-WHITE-0: rgba(255, 255, 255, .85);--weui-GLYPH-WHITE-1: rgba(255, 255, 255, .55);--weui-GLYPH-WHITE-2: rgba(255, 255, 255, .35);--weui-GLYPH-WHITE-3: #FFFFFF;--weui-GREEN-100: #4F8400;--weui-GREEN-120: #A7DB33;--weui-GREEN-170: #DEF1B3;--weui-GREEN-80: #74A800;--weui-GREEN-90: #82BD00;--weui-GREEN-BG-100: #96BE40;--weui-GREEN-BG-110: #A0C452;--weui-GREEN-BG-130: #B5D179;--weui-GREEN-BG-90: #86AA39;--weui-INDIGO-100: #0075E2;--weui-INDIGO-120: #439DF1;--weui-INDIGO-170: #B8DAF9;--weui-INDIGO-80: #106ABE;--weui-INDIGO-90: #1277D6;--weui-INDIGO-BG-100: #2B77BF;--weui-INDIGO-BG-110: #3F84C5;--weui-INDIGO-BG-130: #6BA0D2;--weui-INDIGO-BG-90: #266AAB;--weui-LIGHTGREEN-100: #2E8800;--weui-LIGHTGREEN-120: #AAEF87;--weui-LIGHTGREEN-170: #DEF9D1;--weui-LIGHTGREEN-80: #77BC54;--weui-LIGHTGREEN-90: #85D35E;--weui-LIGHTGREEN-BG-100: #72CF60;--weui-LIGHTGREEN-BG-110: #80D370;--weui-LIGHTGREEN-BG-130: #9CDD90;--weui-LIGHTGREEN-BG-90: #66B956;--weui-LINK-100: #576B95;--weui-LINK-120: #7888AA;--weui-LINK-170: #CCD2DE;--weui-LINK-80: #455577;--weui-LINK-90: #4E6085;--weui-LINKFINDER-100: #002666;--weui-MATERIAL-ATTACHMENTCOLUMN: rgba(245, 245, 245, .95);--weui-MATERIAL-NAVIGATIONBAR: rgba(237, 237, 237, .94);--weui-MATERIAL-REGULAR: rgba(247, 247, 247, .3);--weui-MATERIAL-THICK: rgba(247, 247, 247, .8);--weui-MATERIAL-THIN: rgba(255, 255, 255, .2);--weui-MATERIAL-TOOLBAR: rgba(246, 246, 246, .82);--weui-ORANGE-100: #E17719;--weui-ORANGE-120: #FBB062;--weui-ORANGE-170: #FDE1C3;--weui-ORANGE-80: #C87D2F;--weui-ORANGE-90: #E08C34;--weui-ORANGE-BG-100: #EA7800;--weui-ORANGE-BG-110: #EC8519;--weui-ORANGE-BG-130: #F0A04D;--weui-ORANGE-BG-90: #D26B00;--weui-ORANGERED-100: #D14730;--weui-OVERLAY: rgba(0, 0, 0, .5);--weui-OVERLAY-WHITE: rgba(242, 242, 242, .8);--weui-PURPLE-100: #6265F1;--weui-PURPLE-120: #8385F3;--weui-PURPLE-170: #D0D1FA;--weui-PURPLE-80: #5052C0;--weui-PURPLE-90: #595CD7;--weui-PURPLE-BG-100: #6769BA;--weui-PURPLE-BG-110: #7678C1;--weui-PURPLE-BG-130: #9496CE;--weui-PURPLE-BG-90: #5C5EA7;--weui-RED-100: #DC3636;--weui-RED-120: #FB7373;--weui-RED-170: #FDCACA;--weui-RED-80: #C84040;--weui-RED-90: #E14949;--weui-RED-BG-100: #CF5148;--weui-RED-BG-110: #D3625A;--weui-RED-BG-130: #DD847E;--weui-RED-BG-90: #B94840;--weui-SECONDARY-BG: rgba(0, 0, 0, .1);--weui-SEPARATOR-0: rgba(0, 0, 0, .1);--weui-SEPARATOR-1: rgba(0, 0, 0, .15);--weui-STATELAYER-HOVERED: rgba(0, 0, 0, .02);--weui-STATELAYER-PRESSED: rgba(0, 0, 0, .1);--weui-STATELAYER-PRESSEDSTRENGTHENED: rgba(0, 0, 0, .2);--weui-YELLOW-100: #BB8E00;--weui-YELLOW-120: #FFCF33;--weui-YELLOW-170: #FFECB2;--weui-YELLOW-80: #CC9C00;--weui-YELLOW-90: #E6AF00;--weui-YELLOW-BG-100: #EFB600;--weui-YELLOW-BG-110: #F0BD19;--weui-YELLOW-BG-130: #F3CC4D;--weui-YELLOW-BG-90: #D7A400;--weui-FG-HALF: #000000;--weui-RED: #DC3636;--weui-ORANGERED: #D14730;--weui-ORANGE: #E17719;--weui-YELLOW: #BB8E00;--weui-GREEN: #4F8400;--weui-LIGHTGREEN: #2E8800;--weui-TEXTGREEN: #06AE56;--weui-BRAND: #018942;--weui-BLUE: #007DBB;--weui-INDIGO: #0075E2;--weui-PURPLE: #6265F1;--weui-LINK: #576B95;--weui-TAG-TEXT-ORANGE: #E17719;--weui-TAG-TEXT-GREEN: #06AE56;--weui-TAG-TEXT-BLUE: #007DBB;--weui-REDORANGE: #D14730;--weui-TAG-TEXT-BLACK: rgba(0, 0, 0, .5);--weui-WHITE: #FFFFFF;--weui-BG: #FFFFFF;--weui-FG: #000;--weui-FG-5: rgba(0, 0, 0, .05);--weui-TAG-BACKGROUND-ORANGE: rgba(225, 119, 25, .1);--weui-TAG-BACKGROUND-GREEN: rgba(6, 174, 86, .1);--weui-TAG-TEXT-RED: rgba(250, 81, 81, .6);--weui-TAG-BACKGROUND-RED: rgba(250, 81, 81, .1);--weui-TAG-BACKGROUND-BLUE: rgba(0, 125, 187, .1);--weui-TAG-BACKGROUND-BLACK: rgba(0, 0, 0, .05)}}@media screen and (min-width:1024px){body:not(.pages_skin_pc) .wx-root[data-weui-mode=care][data-weui-theme=dark],body:not(.pages_skin_pc) body[data-weui-mode=care][data-weui-theme=dark]{--weui-BG-0: #111111;--weui-BG-1: #1E1E1E;--weui-BG-2: #191919;--weui-BG-3: #202020;--weui-BG-4: #404040;--weui-BG-5: #2C2C2C;--weui-BLUE-100: #10AEFF;--weui-BLUE-120: #0C8BCC;--weui-BLUE-170: #04344D;--weui-BLUE-80: #3FBEFF;--weui-BLUE-90: #28B6FF;--weui-BLUE-BG-100: #48A6E2;--weui-BLUE-BG-110: #4095CB;--weui-BLUE-BG-130: #32749E;--weui-BLUE-BG-90: #5AAFE4;--weui-BRAND-100: #07C160;--weui-BRAND-120: #059A4C;--weui-BRAND-170: #023A1C;--weui-BRAND-80: #38CD7F;--weui-BRAND-90: #20C770;--weui-BRAND-BG-100: #2AAE67;--weui-BRAND-BG-110: #259C5C;--weui-BRAND-BG-130: #1D7A48;--weui-BRAND-BG-90: #3EB575;--weui-FG-0: rgba(255, 255, 255, .85);--weui-FG-0_5: rgba(255, 255, 255, .65);--weui-FG-1: rgba(255, 255, 255, .55);--weui-FG-2: rgba(255, 255, 255, .35);--weui-FG-3: rgba(255, 255, 255, .1);--weui-FG-4: rgba(255, 255, 255, .15);--weui-GLYPH-0: rgba(255, 255, 255, .85);--weui-GLYPH-1: rgba(255, 255, 255, .55);--weui-GLYPH-2: rgba(255, 255, 255, .35);--weui-GLYPH-WHITE-0: rgba(255, 255, 255, .85);--weui-GLYPH-WHITE-1: rgba(255, 255, 255, .55);--weui-GLYPH-WHITE-2: rgba(255, 255, 255, .35);--weui-GLYPH-WHITE-3: #FFFFFF;--weui-GREEN-100: #74A800;--weui-GREEN-120: #5C8600;--weui-GREEN-170: #233200;--weui-GREEN-80: #8FB933;--weui-GREEN-90: #82B01A;--weui-GREEN-BG-100: #789833;--weui-GREEN-BG-110: #6B882D;--weui-GREEN-BG-130: #65802B;--weui-GREEN-BG-90: #85A247;--weui-INDIGO-100: #1196FF;--weui-INDIGO-120: #0D78CC;--weui-INDIGO-170: #052D4D;--weui-INDIGO-80: #40ABFF;--weui-INDIGO-90: #28A0FF;--weui-INDIGO-BG-100: #0D78CC;--weui-INDIGO-BG-110: #0B6BB7;--weui-INDIGO-BG-130: #09548F;--weui-INDIGO-BG-90: #2585D1;--weui-LIGHTGREEN-100: #3EB575;--weui-LIGHTGREEN-120: #31905D;--weui-LIGHTGREEN-170: #123522;--weui-LIGHTGREEN-80: #64C390;--weui-LIGHTGREEN-90: #51BC83;--weui-LIGHTGREEN-BG-100: #31905D;--weui-LIGHTGREEN-BG-110: #2C8153;--weui-LIGHTGREEN-BG-130: #226541;--weui-LIGHTGREEN-BG-90: #31905D;--weui-LINK-100: #7D90A9;--weui-LINK-120: #647387;--weui-LINK-170: #252A32;--weui-LINK-80: #97A6BA;--weui-LINK-90: #899AB1;--weui-LINKFINDER-100: #DEE9FF;--weui-MATERIAL-ATTACHMENTCOLUMN: rgba(32, 32, 32, .93);--weui-MATERIAL-NAVIGATIONBAR: rgba(18, 18, 18, .9);--weui-MATERIAL-REGULAR: rgba(37, 37, 37, .6);--weui-MATERIAL-THICK: rgba(34, 34, 34, .9);--weui-MATERIAL-THIN: rgba(245, 245, 245, .4);--weui-MATERIAL-TOOLBAR: rgba(35, 35, 35, .93);--weui-ORANGE-100: #C87D2F;--weui-ORANGE-120: #A06425;--weui-ORANGE-170: #3B250E;--weui-ORANGE-80: #D39758;--weui-ORANGE-90: #CD8943;--weui-ORANGE-BG-100: #BB6000;--weui-ORANGE-BG-110: #A85600;--weui-ORANGE-BG-130: #824300;--weui-ORANGE-BG-90: #C1701A;--weui-ORANGERED-100: #FF6146;--weui-OVERLAY: rgba(0, 0, 0, .8);--weui-OVERLAY-WHITE: rgba(242, 242, 242, .8);--weui-PURPLE-100: #8183FF;--weui-PURPLE-120: #6768CC;--weui-PURPLE-170: #26274C;--weui-PURPLE-80: #9A9BFF;--weui-PURPLE-90: #8D8FFF;--weui-PURPLE-BG-100: #6768CC;--weui-PURPLE-BG-110: #5C5DB7;--weui-PURPLE-BG-130: #48498F;--weui-PURPLE-BG-90: #7677D1;--weui-RED-100: #FA5151;--weui-RED-120: #C84040;--weui-RED-170: #4B1818;--weui-RED-80: #FB7373;--weui-RED-90: #FA6262;--weui-RED-BG-100: #CF5148;--weui-RED-BG-110: #BA4940;--weui-RED-BG-130: #913832;--weui-RED-BG-90: #D3625A;--weui-SECONDARY-BG: rgba(255, 255, 255, .15);--weui-SEPARATOR-0: rgba(255, 255, 255, .05);--weui-SEPARATOR-1: rgba(255, 255, 255, .15);--weui-STATELAYER-HOVERED: rgba(0, 0, 0, .02);--weui-STATELAYER-PRESSED: rgba(255, 255, 255, .1);--weui-STATELAYER-PRESSEDSTRENGTHENED: rgba(255, 255, 255, .2);--weui-YELLOW-100: #CC9C00;--weui-YELLOW-120: #A37C00;--weui-YELLOW-170: #3D2F00;--weui-YELLOW-80: #D6AF33;--weui-YELLOW-90: #D1A519;--weui-YELLOW-BG-100: #BF9100;--weui-YELLOW-BG-110: #AB8200;--weui-YELLOW-BG-130: #866500;--weui-YELLOW-BG-90: #C59C1A;--weui-FG-HALF: rgba(255, 255, 255, .65);--weui-RED: #FA5151;--weui-ORANGERED: #FF6146;--weui-ORANGE: #C87D2F;--weui-YELLOW: #CC9C00;--weui-GREEN: #74A800;--weui-LIGHTGREEN: #3EB575;--weui-TEXTGREEN: #259C5C;--weui-BRAND: #07C160;--weui-BLUE: #10AEFF;--weui-INDIGO: #1196FF;--weui-PURPLE: #8183FF;--weui-LINK: #7D90A9;--weui-REDORANGE: #FF6146;--weui-TAG-BACKGROUND-BLACK: rgba(255, 255, 255, .05);--weui-FG: #fff;--weui-WHITE: rgba(255, 255, 255, .8);--weui-FG-5: rgba(255, 255, 255, .1);--weui-TAG-BACKGROUND-ORANGE: rgba(250, 157, 59, .1);--weui-TAG-BACKGROUND-GREEN: rgba(6, 174, 86, .1);--weui-TAG-TEXT-RED: rgba(250, 81, 81, .6);--weui-TAG-BACKGROUND-RED: rgba(250, 81, 81, .1);--weui-TAG-BACKGROUND-BLUE: rgba(16, 174, 255, .1);--weui-TAG-TEXT-ORANGE: rgba(250, 157, 59, .6);--weui-BG: #000;--weui-TAG-TEXT-GREEN: rgba(6, 174, 86, .6);--weui-TAG-TEXT-BLUE: rgba(16, 174, 255, .6);--weui-TAG-TEXT-BLACK: rgba(255, 255, 255, .5)}}@media screen and (min-width:1024px){body:not(.pages_skin_pc) .wx-root,body:not(.pages_skin_pc) body{--appmsgExtra-BG: #F7F7F7}}@media screen and (min-width:1024px){body:not(.pages_skin_pc) .wx-root[data-weui-theme=dark],body:not(.pages_skin_pc) body[data-weui-theme=dark]{--weui-BG-0: #111111;--weui-BG-1: #1E1E1E;--weui-BG-2: #191919;--weui-BG-3: #202020;--weui-BG-4: #404040;--weui-BG-5: #2C2C2C;--weui-BLUE-100: #10AEFF;--weui-BLUE-120: #0C8BCC;--weui-BLUE-170: #04344D;--weui-BLUE-80: #3FBEFF;--weui-BLUE-90: #28B6FF;--weui-BLUE-BG-100: #48A6E2;--weui-BLUE-BG-110: #4095CB;--weui-BLUE-BG-130: #32749E;--weui-BLUE-BG-90: #5AAFE4;--weui-BRAND-100: #07C160;--weui-BRAND-120: #059A4C;--weui-BRAND-170: #023A1C;--weui-BRAND-80: #38CD7F;--weui-BRAND-90: #20C770;--weui-BRAND-BG-100: #2AAE67;--weui-BRAND-BG-110: #259C5C;--weui-BRAND-BG-130: #1D7A48;--weui-BRAND-BG-90: #3EB575;--weui-FG-0: rgba(255, 255, 255, .8);--weui-FG-0_5: rgba(255, 255, 255, .6);--weui-FG-1: rgba(255, 255, 255, .5);--weui-FG-2: rgba(255, 255, 255, .3);--weui-FG-3: rgba(255, 255, 255, .1);--weui-FG-4: rgba(255, 255, 255, .15);--weui-GLYPH-0: rgba(255, 255, 255, .8);--weui-GLYPH-1: rgba(255, 255, 255, .5);--weui-GLYPH-2: rgba(255, 255, 255, .3);--weui-GLYPH-WHITE-0: rgba(255, 255, 255, .8);--weui-GLYPH-WHITE-1: rgba(255, 255, 255, .5);--weui-GLYPH-WHITE-2: rgba(255, 255, 255, .3);--weui-GLYPH-WHITE-3: #FFFFFF;--weui-GREEN-100: #74A800;--weui-GREEN-120: #5C8600;--weui-GREEN-170: #233200;--weui-GREEN-80: #8FB933;--weui-GREEN-90: #82B01A;--weui-GREEN-BG-100: #789833;--weui-GREEN-BG-110: #6B882D;--weui-GREEN-BG-130: #65802B;--weui-GREEN-BG-90: #85A247;--weui-INDIGO-100: #1196FF;--weui-INDIGO-120: #0D78CC;--weui-INDIGO-170: #052D4D;--weui-INDIGO-80: #40ABFF;--weui-INDIGO-90: #28A0FF;--weui-INDIGO-BG-100: #0D78CC;--weui-INDIGO-BG-110: #0B6BB7;--weui-INDIGO-BG-130: #09548F;--weui-INDIGO-BG-90: #2585D1;--weui-LIGHTGREEN-100: #3EB575;--weui-LIGHTGREEN-120: #31905D;--weui-LIGHTGREEN-170: #123522;--weui-LIGHTGREEN-80: #64C390;--weui-LIGHTGREEN-90: #51BC83;--weui-LIGHTGREEN-BG-100: #31905D;--weui-LIGHTGREEN-BG-110: #2C8153;--weui-LIGHTGREEN-BG-130: #226541;--weui-LIGHTGREEN-BG-90: #31905D;--weui-LINK-100: #7D90A9;--weui-LINK-120: #647387;--weui-LINK-170: #252A32;--weui-LINK-80: #97A6BA;--weui-LINK-90: #899AB1;--weui-LINKFINDER-100: #DEE9FF;--weui-MATERIAL-ATTACHMENTCOLUMN: rgba(32, 32, 32, .93);--weui-MATERIAL-NAVIGATIONBAR: rgba(18, 18, 18, .9);--weui-MATERIAL-REGULAR: rgba(37, 37, 37, .6);--weui-MATERIAL-THICK: rgba(34, 34, 34, .9);--weui-MATERIAL-THIN: rgba(95, 95, 95, .4);--weui-MATERIAL-TOOLBAR: rgba(35, 35, 35, .93);--weui-ORANGE-100: #C87D2F;--weui-ORANGE-120: #A06425;--weui-ORANGE-170: #3B250E;--weui-ORANGE-80: #D39758;--weui-ORANGE-90: #CD8943;--weui-ORANGE-BG-100: #BB6000;--weui-ORANGE-BG-110: #A85600;--weui-ORANGE-BG-130: #824300;--weui-ORANGE-BG-90: #C1701A;--weui-ORANGERED-100: #FF6146;--weui-OVERLAY: rgba(0, 0, 0, .8);--weui-OVERLAY-WHITE: rgba(242, 242, 242, .8);--weui-PURPLE-100: #8183FF;--weui-PURPLE-120: #6768CC;--weui-PURPLE-170: #26274C;--weui-PURPLE-80: #9A9BFF;--weui-PURPLE-90: #8D8FFF;--weui-PURPLE-BG-100: #6768CC;--weui-PURPLE-BG-110: #5C5DB7;--weui-PURPLE-BG-130: #48498F;--weui-PURPLE-BG-90: #7677D1;--weui-RED-100: #FA5151;--weui-RED-120: #C84040;--weui-RED-170: #4B1818;--weui-RED-80: #FB7373;--weui-RED-90: #FA6262;--weui-RED-BG-100: #CF5148;--weui-RED-BG-110: #BA4940;--weui-RED-BG-130: #913832;--weui-RED-BG-90: #D3625A;--weui-SECONDARY-BG: rgba(255, 255, 255, .1);--weui-SEPARATOR-0: rgba(255, 255, 255, .05);--weui-SEPARATOR-1: rgba(255, 255, 255, .15);--weui-STATELAYER-HOVERED: rgba(0, 0, 0, .02);--weui-STATELAYER-PRESSED: rgba(255, 255, 255, .1);--weui-STATELAYER-PRESSEDSTRENGTHENED: rgba(255, 255, 255, .2);--weui-YELLOW-100: #CC9C00;--weui-YELLOW-120: #A37C00;--weui-YELLOW-170: #3D2F00;--weui-YELLOW-80: #D6AF33;--weui-YELLOW-90: #D1A519;--weui-YELLOW-BG-100: #BF9100;--weui-YELLOW-BG-110: #AB8200;--weui-YELLOW-BG-130: #866500;--weui-YELLOW-BG-90: #C59C1A;--weui-FG-HALF: rgba(255, 255, 255, .6);--weui-RED: #FA5151;--weui-ORANGERED: #FF6146;--weui-ORANGE: #C87D2F;--weui-YELLOW: #CC9C00;--weui-GREEN: #74A800;--weui-LIGHTGREEN: #3EB575;--weui-TEXTGREEN: #259C5C;--weui-BRAND: #07C160;--weui-BLUE: #10AEFF;--weui-INDIGO: #1196FF;--weui-PURPLE: #8183FF;--weui-LINK: #7D90A9;--weui-REDORANGE: #FF6146;--weui-TAG-TEXT-BLACK: rgba(255, 255, 255, .5);--weui-TAG-BACKGROUND-BLACK: rgba(255, 255, 255, .05);--weui-WHITE: rgba(255, 255, 255, .8);--weui-FG: #fff;--weui-BG: #000;--weui-FG-5: rgba(255, 255, 255, .1);--weui-TAG-BACKGROUND-ORANGE: rgba(250, 157, 59, .1);--weui-TAG-BACKGROUND-GREEN: rgba(6, 174, 86, .1);--weui-TAG-TEXT-RED: rgba(250, 81, 81, .6);--weui-TAG-BACKGROUND-RED: rgba(250, 81, 81, .1);--weui-TAG-BACKGROUND-BLUE: rgba(16, 174, 255, .1);--weui-TAG-TEXT-ORANGE: rgba(250, 157, 59, .6);--weui-TAG-TEXT-GREEN: rgba(6, 174, 86, .6);--weui-TAG-TEXT-BLUE: rgba(16, 174, 255, .6)}}@media screen and (min-width:1024px){body:not(.pages_skin_pc) .wx-root[data-weui-theme=dark],body:not(.pages_skin_pc) body[data-weui-theme=dark]{--appmsgExtra-BG: #121212}}@media screen and (min-width:1024px){body:not(.pages_skin_pc)body:not(.pages_skin_pc){background:var(--weui-BG-2)}}@media screen and (min-width:1024px) and (prefers-color-scheme:dark){body:not(.pages_skin_pc) .wx-root[data-weui-mode=care]:not([data-weui-theme=light]),body:not(.pages_skin_pc) body[data-weui-mode=care]:not([data-weui-theme=light]){--weui-BG-0: #111111;--weui-BG-1: #1E1E1E;--weui-BG-2: #191919;--weui-BG-3: #202020;--weui-BG-4: #404040;--weui-BG-5: #2C2C2C;--weui-BLUE-100: #10AEFF;--weui-BLUE-120: #0C8BCC;--weui-BLUE-170: #04344D;--weui-BLUE-80: #3FBEFF;--weui-BLUE-90: #28B6FF;--weui-BLUE-BG-100: #48A6E2;--weui-BLUE-BG-110: #4095CB;--weui-BLUE-BG-130: #32749E;--weui-BLUE-BG-90: #5AAFE4;--weui-BRAND-100: #07C160;--weui-BRAND-120: #059A4C;--weui-BRAND-170: #023A1C;--weui-BRAND-80: #38CD7F;--weui-BRAND-90: #20C770;--weui-BRAND-BG-100: #2AAE67;--weui-BRAND-BG-110: #259C5C;--weui-BRAND-BG-130: #1D7A48;--weui-BRAND-BG-90: #3EB575;--weui-FG-0: rgba(255, 255, 255, .85);--weui-FG-0_5: rgba(255, 255, 255, .65);--weui-FG-1: rgba(255, 255, 255, .55);--weui-FG-2: rgba(255, 255, 255, .35);--weui-FG-3: rgba(255, 255, 255, .1);--weui-FG-4: rgba(255, 255, 255, .15);--weui-GLYPH-0: rgba(255, 255, 255, .85);--weui-GLYPH-1: rgba(255, 255, 255, .55);--weui-GLYPH-2: rgba(255, 255, 255, .35);--weui-GLYPH-WHITE-0: rgba(255, 255, 255, .85);--weui-GLYPH-WHITE-1: rgba(255, 255, 255, .55);--weui-GLYPH-WHITE-2: rgba(255, 255, 255, .35);--weui-GLYPH-WHITE-3: #FFFFFF;--weui-GREEN-100: #74A800;--weui-GREEN-120: #5C8600;--weui-GREEN-170: #233200;--weui-GREEN-80: #8FB933;--weui-GREEN-90: #82B01A;--weui-GREEN-BG-100: #789833;--weui-GREEN-BG-110: #6B882D;--weui-GREEN-BG-130: #65802B;--weui-GREEN-BG-90: #85A247;--weui-INDIGO-100: #1196FF;--weui-INDIGO-120: #0D78CC;--weui-INDIGO-170: #052D4D;--weui-INDIGO-80: #40ABFF;--weui-INDIGO-90: #28A0FF;--weui-INDIGO-BG-100: #0D78CC;--weui-INDIGO-BG-110: #0B6BB7;--weui-INDIGO-BG-130: #09548F;--weui-INDIGO-BG-90: #2585D1;--weui-LIGHTGREEN-100: #3EB575;--weui-LIGHTGREEN-120: #31905D;--weui-LIGHTGREEN-170: #123522;--weui-LIGHTGREEN-80: #64C390;--weui-LIGHTGREEN-90: #51BC83;--weui-LIGHTGREEN-BG-100: #31905D;--weui-LIGHTGREEN-BG-110: #2C8153;--weui-LIGHTGREEN-BG-130: #226541;--weui-LIGHTGREEN-BG-90: #31905D;--weui-LINK-100: #7D90A9;--weui-LINK-120: #647387;--weui-LINK-170: #252A32;--weui-LINK-80: #97A6BA;--weui-LINK-90: #899AB1;--weui-LINKFINDER-100: #DEE9FF;--weui-MATERIAL-ATTACHMENTCOLUMN: rgba(32, 32, 32, .93);--weui-MATERIAL-NAVIGATIONBAR: rgba(18, 18, 18, .9);--weui-MATERIAL-REGULAR: rgba(37, 37, 37, .6);--weui-MATERIAL-THICK: rgba(34, 34, 34, .9);--weui-MATERIAL-THIN: rgba(245, 245, 245, .4);--weui-MATERIAL-TOOLBAR: rgba(35, 35, 35, .93);--weui-ORANGE-100: #C87D2F;--weui-ORANGE-120: #A06425;--weui-ORANGE-170: #3B250E;--weui-ORANGE-80: #D39758;--weui-ORANGE-90: #CD8943;--weui-ORANGE-BG-100: #BB6000;--weui-ORANGE-BG-110: #A85600;--weui-ORANGE-BG-130: #824300;--weui-ORANGE-BG-90: #C1701A;--weui-ORANGERED-100: #FF6146;--weui-OVERLAY: rgba(0, 0, 0, .8);--weui-OVERLAY-WHITE: rgba(242, 242, 242, .8);--weui-PURPLE-100: #8183FF;--weui-PURPLE-120: #6768CC;--weui-PURPLE-170: #26274C;--weui-PURPLE-80: #9A9BFF;--weui-PURPLE-90: #8D8FFF;--weui-PURPLE-BG-100: #6768CC;--weui-PURPLE-BG-110: #5C5DB7;--weui-PURPLE-BG-130: #48498F;--weui-PURPLE-BG-90: #7677D1;--weui-RED-100: #FA5151;--weui-RED-120: #C84040;--weui-RED-170: #4B1818;--weui-RED-80: #FB7373;--weui-RED-90: #FA6262;--weui-RED-BG-100: #CF5148;--weui-RED-BG-110: #BA4940;--weui-RED-BG-130: #913832;--weui-RED-BG-90: #D3625A;--weui-SECONDARY-BG: rgba(255, 255, 255, .15);--weui-SEPARATOR-0: rgba(255, 255, 255, .05);--weui-SEPARATOR-1: rgba(255, 255, 255, .15);--weui-STATELAYER-HOVERED: rgba(0, 0, 0, .02);--weui-STATELAYER-PRESSED: rgba(255, 255, 255, .1);--weui-STATELAYER-PRESSEDSTRENGTHENED: rgba(255, 255, 255, .2);--weui-YELLOW-100: #CC9C00;--weui-YELLOW-120: #A37C00;--weui-YELLOW-170: #3D2F00;--weui-YELLOW-80: #D6AF33;--weui-YELLOW-90: #D1A519;--weui-YELLOW-BG-100: #BF9100;--weui-YELLOW-BG-110: #AB8200;--weui-YELLOW-BG-130: #866500;--weui-YELLOW-BG-90: #C59C1A;--weui-FG-HALF: rgba(255, 255, 255, .65);--weui-RED: #FA5151;--weui-ORANGERED: #FF6146;--weui-ORANGE: #C87D2F;--weui-YELLOW: #CC9C00;--weui-GREEN: #74A800;--weui-LIGHTGREEN: #3EB575;--weui-TEXTGREEN: #259C5C;--weui-BRAND: #07C160;--weui-BLUE: #10AEFF;--weui-INDIGO: #1196FF;--weui-PURPLE: #8183FF;--weui-LINK: #7D90A9;--weui-REDORANGE: #FF6146;--weui-TAG-BACKGROUND-BLACK: rgba(255, 255, 255, .05);--weui-FG: #fff;--weui-WHITE: rgba(255, 255, 255, .8);--weui-FG-5: rgba(255, 255, 255, .1);--weui-TAG-BACKGROUND-ORANGE: rgba(250, 157, 59, .1);--weui-TAG-BACKGROUND-GREEN: rgba(6, 174, 86, .1);--weui-TAG-TEXT-RED: rgba(250, 81, 81, .6);--weui-TAG-BACKGROUND-RED: rgba(250, 81, 81, .1);--weui-TAG-BACKGROUND-BLUE: rgba(16, 174, 255, .1);--weui-TAG-TEXT-ORANGE: rgba(250, 157, 59, .6);--weui-BG: #000;--weui-TAG-TEXT-GREEN: rgba(6, 174, 86, .6);--weui-TAG-TEXT-BLUE: rgba(16, 174, 255, .6);--weui-TAG-TEXT-BLACK: rgba(255, 255, 255, .5)}}@media screen and (min-width:1024px) and (prefers-color-scheme:dark){body:not(.pages_skin_pc) .wx-root:not([data-weui-theme=light]),body:not(.pages_skin_pc) body:not([data-weui-theme=light]){--weui-BG-0: #111111;--weui-BG-1: #1E1E1E;--weui-BG-2: #191919;--weui-BG-3: #202020;--weui-BG-4: #404040;--weui-BG-5: #2C2C2C;--weui-BLUE-100: #10AEFF;--weui-BLUE-120: #0C8BCC;--weui-BLUE-170: #04344D;--weui-BLUE-80: #3FBEFF;--weui-BLUE-90: #28B6FF;--weui-BLUE-BG-100: #48A6E2;--weui-BLUE-BG-110: #4095CB;--weui-BLUE-BG-130: #32749E;--weui-BLUE-BG-90: #5AAFE4;--weui-BRAND-100: #07C160;--weui-BRAND-120: #059A4C;--weui-BRAND-170: #023A1C;--weui-BRAND-80: #38CD7F;--weui-BRAND-90: #20C770;--weui-BRAND-BG-100: #2AAE67;--weui-BRAND-BG-110: #259C5C;--weui-BRAND-BG-130: #1D7A48;--weui-BRAND-BG-90: #3EB575;--weui-FG-0: rgba(255, 255, 255, .8);--weui-FG-0_5: rgba(255, 255, 255, .6);--weui-FG-1: rgba(255, 255, 255, .5);--weui-FG-2: rgba(255, 255, 255, .3);--weui-FG-3: rgba(255, 255, 255, .1);--weui-FG-4: rgba(255, 255, 255, .15);--weui-GLYPH-0: rgba(255, 255, 255, .8);--weui-GLYPH-1: rgba(255, 255, 255, .5);--weui-GLYPH-2: rgba(255, 255, 255, .3);--weui-GLYPH-WHITE-0: rgba(255, 255, 255, .8);--weui-GLYPH-WHITE-1: rgba(255, 255, 255, .5);--weui-GLYPH-WHITE-2: rgba(255, 255, 255, .3);--weui-GLYPH-WHITE-3: #FFFFFF;--weui-GREEN-100: #74A800;--weui-GREEN-120: #5C8600;--weui-GREEN-170: #233200;--weui-GREEN-80: #8FB933;--weui-GREEN-90: #82B01A;--weui-GREEN-BG-100: #789833;--weui-GREEN-BG-110: #6B882D;--weui-GREEN-BG-130: #65802B;--weui-GREEN-BG-90: #85A247;--weui-INDIGO-100: #1196FF;--weui-INDIGO-120: #0D78CC;--weui-INDIGO-170: #052D4D;--weui-INDIGO-80: #40ABFF;--weui-INDIGO-90: #28A0FF;--weui-INDIGO-BG-100: #0D78CC;--weui-INDIGO-BG-110: #0B6BB7;--weui-INDIGO-BG-130: #09548F;--weui-INDIGO-BG-90: #2585D1;--weui-LIGHTGREEN-100: #3EB575;--weui-LIGHTGREEN-120: #31905D;--weui-LIGHTGREEN-170: #123522;--weui-LIGHTGREEN-80: #64C390;--weui-LIGHTGREEN-90: #51BC83;--weui-LIGHTGREEN-BG-100: #31905D;--weui-LIGHTGREEN-BG-110: #2C8153;--weui-LIGHTGREEN-BG-130: #226541;--weui-LIGHTGREEN-BG-90: #31905D;--weui-LINK-100: #7D90A9;--weui-LINK-120: #647387;--weui-LINK-170: #252A32;--weui-LINK-80: #97A6BA;--weui-LINK-90: #899AB1;--weui-LINKFINDER-100: #DEE9FF;--weui-MATERIAL-ATTACHMENTCOLUMN: rgba(32, 32, 32, .93);--weui-MATERIAL-NAVIGATIONBAR: rgba(18, 18, 18, .9);--weui-MATERIAL-REGULAR: rgba(37, 37, 37, .6);--weui-MATERIAL-THICK: rgba(34, 34, 34, .9);--weui-MATERIAL-THIN: rgba(95, 95, 95, .4);--weui-MATERIAL-TOOLBAR: rgba(35, 35, 35, .93);--weui-ORANGE-100: #C87D2F;--weui-ORANGE-120: #A06425;--weui-ORANGE-170: #3B250E;--weui-ORANGE-80: #D39758;--weui-ORANGE-90: #CD8943;--weui-ORANGE-BG-100: #BB6000;--weui-ORANGE-BG-110: #A85600;--weui-ORANGE-BG-130: #824300;--weui-ORANGE-BG-90: #C1701A;--weui-ORANGERED-100: #FF6146;--weui-OVERLAY: rgba(0, 0, 0, .8);--weui-OVERLAY-WHITE: rgba(242, 242, 242, .8);--weui-PURPLE-100: #8183FF;--weui-PURPLE-120: #6768CC;--weui-PURPLE-170: #26274C;--weui-PURPLE-80: #9A9BFF;--weui-PURPLE-90: #8D8FFF;--weui-PURPLE-BG-100: #6768CC;--weui-PURPLE-BG-110: #5C5DB7;--weui-PURPLE-BG-130: #48498F;--weui-PURPLE-BG-90: #7677D1;--weui-RED-100: #FA5151;--weui-RED-120: #C84040;--weui-RED-170: #4B1818;--weui-RED-80: #FB7373;--weui-RED-90: #FA6262;--weui-RED-BG-100: #CF5148;--weui-RED-BG-110: #BA4940;--weui-RED-BG-130: #913832;--weui-RED-BG-90: #D3625A;--weui-SECONDARY-BG: rgba(255, 255, 255, .1);--weui-SEPARATOR-0: rgba(255, 255, 255, .05);--weui-SEPARATOR-1: rgba(255, 255, 255, .15);--weui-STATELAYER-HOVERED: rgba(0, 0, 0, .02);--weui-STATELAYER-PRESSED: rgba(255, 255, 255, .1);--weui-STATELAYER-PRESSEDSTRENGTHENED: rgba(255, 255, 255, .2);--weui-YELLOW-100: #CC9C00;--weui-YELLOW-120: #A37C00;--weui-YELLOW-170: #3D2F00;--weui-YELLOW-80: #D6AF33;--weui-YELLOW-90: #D1A519;--weui-YELLOW-BG-100: #BF9100;--weui-YELLOW-BG-110: #AB8200;--weui-YELLOW-BG-130: #866500;--weui-YELLOW-BG-90: #C59C1A;--weui-FG-HALF: rgba(255, 255, 255, .6);--weui-RED: #FA5151;--weui-ORANGERED: #FF6146;--weui-ORANGE: #C87D2F;--weui-YELLOW: #CC9C00;--weui-GREEN: #74A800;--weui-LIGHTGREEN: #3EB575;--weui-TEXTGREEN: #259C5C;--weui-BRAND: #07C160;--weui-BLUE: #10AEFF;--weui-INDIGO: #1196FF;--weui-PURPLE: #8183FF;--weui-LINK: #7D90A9;--weui-REDORANGE: #FF6146;--weui-TAG-TEXT-BLACK: rgba(255, 255, 255, .5);--weui-TAG-BACKGROUND-BLACK: rgba(255, 255, 255, .05);--weui-WHITE: rgba(255, 255, 255, .8);--weui-FG: #fff;--weui-BG: #000;--weui-FG-5: rgba(255, 255, 255, .1);--weui-TAG-BACKGROUND-ORANGE: rgba(250, 157, 59, .1);--weui-TAG-BACKGROUND-GREEN: rgba(6, 174, 86, .1);--weui-TAG-TEXT-RED: rgba(250, 81, 81, .6);--weui-TAG-BACKGROUND-RED: rgba(250, 81, 81, .1);--weui-TAG-BACKGROUND-BLUE: rgba(16, 174, 255, .1);--weui-TAG-TEXT-ORANGE: rgba(250, 157, 59, .6);--weui-TAG-TEXT-GREEN: rgba(6, 174, 86, .6);--weui-TAG-TEXT-BLUE: rgba(16, 174, 255, .6)}}@media screen and (min-width:1024px) and (prefers-color-scheme:dark){body:not(.pages_skin_pc) .wx-root:not([data-weui-theme=light]),body:not(.pages_skin_pc) body:not([data-weui-theme=light]){--appmsgExtra-BG: #121212}}@media(prefers-color-scheme:dark){body:not([data-weui-theme=light]).my_comment_empty_data{background-color:#111}}body,.wx-root{--weui-BG-6: rgba(0, 0, 0, .05);--weui-ACTIVE-MASK: rgba(0, 0, 0, .05)}body,.wx-root{--weui-BG-0: #ededed;--weui-BG-1: #f7f7f7;--weui-BG-2: #fff;--weui-BG-3: #f7f7f7;--weui-BG-4: #4c4c4c;--weui-BG-5: #fff;--weui-RED: #fa5151;--weui-ORANGERED: #ff6146;--weui-ORANGE: #fa9d3b;--weui-YELLOW: #ffc300;--weui-GREEN: #91d300;--weui-LIGHTGREEN: #95ec69;--weui-BRAND: #07c160;--weui-BLUE: #10aeff;--weui-INDIGO: #1485ee;--weui-PURPLE: #6467f0;--weui-WHITE: #fff;--weui-LINK: #576b95;--weui-TEXTGREEN: #06ae56;--weui-BG: #fff;--weui-TAG-TEXT-ORANGE: #fa9d3b;--weui-TAG-TEXT-GREEN: #06ae56;--weui-TAG-TEXT-BLUE: #10aeff;--weui-REDORANGE: #ff6146;--weui-BG-0: #EDEDED;--weui-BG-1: #F7F7F7;--weui-BG-2: #FFFFFF;--weui-BG-3: #F7F7F7;--weui-BG-4: #4C4C4C;--weui-BG-5: #FFFFFF;--weui-BLUE-100: #10AEFF;--weui-BLUE-120: #3FBEFF;--weui-BLUE-170: #B7E6FF;--weui-BLUE-80: #0C8BCC;--weui-BLUE-90: #0E9CE6;--weui-BLUE-BG-100: #48A6E2;--weui-BLUE-BG-110: #5AAFE4;--weui-BLUE-BG-130: #7FC0EA;--weui-BLUE-BG-90: #4095CB;--weui-BRAND-100: #07C160;--weui-BRAND-120: #38CD7F;--weui-BRAND-170: #B4ECCE;--weui-BRAND-80: #059A4C;--weui-BRAND-90: #06AE56;--weui-BRAND-BG-100: #2AAE67;--weui-BRAND-BG-110: #3EB575;--weui-BRAND-BG-130: #69C694;--weui-BRAND-BG-90: #259C5C;--weui-FG-0: rgba(0, 0, 0, .9);--weui-FG-0_5: rgba(0, 0, 0, .9);--weui-FG-1: rgba(0, 0, 0, .55);--weui-FG-2: rgba(0, 0, 0, .3);--weui-FG-3: rgba(0, 0, 0, .1);--weui-FG-4: rgba(0, 0, 0, .15);--weui-GLYPH-0: rgba(0, 0, 0, .9);--weui-GLYPH-1: rgba(0, 0, 0, .55);--weui-GLYPH-2: rgba(0, 0, 0, .3);--weui-GLYPH-WHITE-0: rgba(255, 255, 255, .8);--weui-GLYPH-WHITE-1: rgba(255, 255, 255, .5);--weui-GLYPH-WHITE-2: rgba(255, 255, 255, .3);--weui-GLYPH-WHITE-3: #FFFFFF;--weui-GREEN-100: #91D300;--weui-GREEN-120: #A7DB33;--weui-GREEN-170: #DEF1B3;--weui-GREEN-80: #74A800;--weui-GREEN-90: #82BD00;--weui-GREEN-BG-100: #96BE40;--weui-GREEN-BG-110: #A0C452;--weui-GREEN-BG-130: #B5D179;--weui-GREEN-BG-90: #86AA39;--weui-INDIGO-100: #1485EE;--weui-INDIGO-120: #439DF1;--weui-INDIGO-170: #B8DAF9;--weui-INDIGO-80: #106ABE;--weui-INDIGO-90: #1277D6;--weui-INDIGO-BG-100: #2B77BF;--weui-INDIGO-BG-110: #3F84C5;--weui-INDIGO-BG-130: #6BA0D2;--weui-INDIGO-BG-90: #266AAB;--weui-LIGHTGREEN-100: #95EC69;--weui-LIGHTGREEN-120: #AAEF87;--weui-LIGHTGREEN-170: #DEF9D1;--weui-LIGHTGREEN-80: #77BC54;--weui-LIGHTGREEN-90: #85D35E;--weui-LIGHTGREEN-BG-100: #72CF60;--weui-LIGHTGREEN-BG-110: #80D370;--weui-LIGHTGREEN-BG-130: #9CDD90;--weui-LIGHTGREEN-BG-90: #66B956;--weui-LINK-100: #576B95;--weui-LINK-120: #7888AA;--weui-LINK-170: #CCD2DE;--weui-LINK-80: #455577;--weui-LINK-90: #4E6085;--weui-LINKFINDER-100: #002666;--weui-MATERIAL-ATTACHMENTCOLUMN: rgba(245, 245, 245, .95);--weui-MATERIAL-NAVIGATIONBAR: rgba(237, 237, 237, .94);--weui-MATERIAL-REGULAR: rgba(247, 247, 247, .3);--weui-MATERIAL-THICK: rgba(247, 247, 247, .8);--weui-MATERIAL-THIN: rgba(255, 255, 255, .2);--weui-MATERIAL-TOOLBAR: rgba(246, 246, 246, .82);--weui-ORANGE-100: #FA9D3B;--weui-ORANGE-120: #FBB062;--weui-ORANGE-170: #FDE1C3;--weui-ORANGE-80: #C87D2F;--weui-ORANGE-90: #E08C34;--weui-ORANGE-BG-100: #EA7800;--weui-ORANGE-BG-110: #EC8519;--weui-ORANGE-BG-130: #F0A04D;--weui-ORANGE-BG-90: #D26B00;--weui-ORANGERED-100: #FF6146;--weui-OVERLAY: rgba(0, 0, 0, .5);--weui-OVERLAY-WHITE: rgba(242, 242, 242, .8);--weui-PURPLE-100: #6467F0;--weui-PURPLE-120: #8385F3;--weui-PURPLE-170: #D0D1FA;--weui-PURPLE-80: #5052C0;--weui-PURPLE-90: #595CD7;--weui-PURPLE-BG-100: #6769BA;--weui-PURPLE-BG-110: #7678C1;--weui-PURPLE-BG-130: #9496CE;--weui-PURPLE-BG-90: #5C5EA7;--weui-RED-100: #FA5151;--weui-RED-120: #FB7373;--weui-RED-170: #FDCACA;--weui-RED-80: #C84040;--weui-RED-90: #E14949;--weui-RED-BG-100: #CF5148;--weui-RED-BG-110: #D3625A;--weui-RED-BG-130: #DD847E;--weui-RED-BG-90: #B94840;--weui-SECONDARY-BG: rgba(0, 0, 0, .05);--weui-SEPARATOR-0: rgba(0, 0, 0, .1);--weui-SEPARATOR-1: rgba(0, 0, 0, .15);--weui-STATELAYER-HOVERED: rgba(0, 0, 0, .02);--weui-STATELAYER-PRESSED: rgba(0, 0, 0, .1);--weui-STATELAYER-PRESSEDSTRENGTHENED: rgba(0, 0, 0, .2);--weui-YELLOW-100: #FFC300;--weui-YELLOW-120: #FFCF33;--weui-YELLOW-170: #FFECB2;--weui-YELLOW-80: #CC9C00;--weui-YELLOW-90: #E6AF00;--weui-YELLOW-BG-100: #EFB600;--weui-YELLOW-BG-110: #F0BD19;--weui-YELLOW-BG-130: #F3CC4D;--weui-YELLOW-BG-90: #D7A400;--weui-FG-HALF: rgba(0, 0, 0, .9);--weui-RED: #FA5151;--weui-ORANGERED: #FF6146;--weui-ORANGE: #FA9D3B;--weui-YELLOW: #FFC300;--weui-GREEN: #91D300;--weui-LIGHTGREEN: #95EC69;--weui-TEXTGREEN: #06AE56;--weui-BRAND: #07C160;--weui-BLUE: #10AEFF;--weui-INDIGO: #1485EE;--weui-PURPLE: #6467F0;--weui-LINK: #576B95;--weui-TAG-TEXT-ORANGE: #FA9D3B;--weui-TAG-TEXT-GREEN: #06AE56;--weui-TAG-TEXT-BLUE: #10AEFF;--weui-REDORANGE: #FF6146;--weui-TAG-TEXT-BLACK: rgba(0, 0, 0, .5);--weui-TAG-BACKGROUND-BLACK: rgba(0, 0, 0, .05);--weui-WHITE: #FFFFFF;--weui-BG: #FFFFFF;--weui-FG: #000;--weui-FG-5: rgba(0, 0, 0, .05);--weui-TAG-BACKGROUND-ORANGE: rgba(250, 157, 59, .1);--weui-TAG-BACKGROUND-GREEN: rgba(6, 174, 86, .1);--weui-TAG-TEXT-RED: rgba(250, 81, 81, .6);--weui-TAG-BACKGROUND-RED: rgba(250, 81, 81, .1);--weui-TAG-BACKGROUND-BLUE: rgba(16, 174, 255, .1)}body,.wx-root{--weui-BG-0: #EDEDED;--weui-BG-1: #F7F7F7;--weui-BG-2: #FFFFFF;--weui-BG-3: #F7F7F7;--weui-BG-4: #4C4C4C;--weui-BG-5: #FFFFFF;--weui-BLUE-100: #10AEFF;--weui-BLUE-120: #3FBEFF;--weui-BLUE-170: #B7E6FF;--weui-BLUE-80: #0C8BCC;--weui-BLUE-90: #0E9CE6;--weui-BLUE-BG-100: #48A6E2;--weui-BLUE-BG-110: #5AAFE4;--weui-BLUE-BG-130: #7FC0EA;--weui-BLUE-BG-90: #4095CB;--weui-BRAND-100: #07C160;--weui-BRAND-120: #38CD7F;--weui-BRAND-170: #B4ECCE;--weui-BRAND-80: #059A4C;--weui-BRAND-90: #06AE56;--weui-BRAND-BG-100: #2AAE67;--weui-BRAND-BG-110: #3EB575;--weui-BRAND-BG-130: #69C694;--weui-BRAND-BG-90: #259C5C;--weui-FG-0: rgba(0, 0, 0, .9);--weui-FG-0_5: rgba(0, 0, 0, .9);--weui-FG-1: rgba(0, 0, 0, .55);--weui-FG-2: rgba(0, 0, 0, .3);--weui-FG-3: rgba(0, 0, 0, .1);--weui-FG-4: rgba(0, 0, 0, .15);--weui-GLYPH-0: rgba(0, 0, 0, .9);--weui-GLYPH-1: rgba(0, 0, 0, .55);--weui-GLYPH-2: rgba(0, 0, 0, .3);--weui-GLYPH-WHITE-0: rgba(255, 255, 255, .8);--weui-GLYPH-WHITE-1: rgba(255, 255, 255, .5);--weui-GLYPH-WHITE-2: rgba(255, 255, 255, .3);--weui-GLYPH-WHITE-3: #FFFFFF;--weui-GREEN-100: #91D300;--weui-GREEN-120: #A7DB33;--weui-GREEN-170: #DEF1B3;--weui-GREEN-80: #74A800;--weui-GREEN-90: #82BD00;--weui-GREEN-BG-100: #96BE40;--weui-GREEN-BG-110: #A0C452;--weui-GREEN-BG-130: #B5D179;--weui-GREEN-BG-90: #86AA39;--weui-INDIGO-100: #1485EE;--weui-INDIGO-120: #439DF1;--weui-INDIGO-170: #B8DAF9;--weui-INDIGO-80: #106ABE;--weui-INDIGO-90: #1277D6;--weui-INDIGO-BG-100: #2B77BF;--weui-INDIGO-BG-110: #3F84C5;--weui-INDIGO-BG-130: #6BA0D2;--weui-INDIGO-BG-90: #266AAB;--weui-LIGHTGREEN-100: #95EC69;--weui-LIGHTGREEN-120: #AAEF87;--weui-LIGHTGREEN-170: #DEF9D1;--weui-LIGHTGREEN-80: #77BC54;--weui-LIGHTGREEN-90: #85D35E;--weui-LIGHTGREEN-BG-100: #72CF60;--weui-LIGHTGREEN-BG-110: #80D370;--weui-LIGHTGREEN-BG-130: #9CDD90;--weui-LIGHTGREEN-BG-90: #66B956;--weui-LINK-100: #576B95;--weui-LINK-120: #7888AA;--weui-LINK-170: #CCD2DE;--weui-LINK-80: #455577;--weui-LINK-90: #4E6085;--weui-LINKFINDER-100: #002666;--weui-MATERIAL-ATTACHMENTCOLUMN: rgba(245, 245, 245, .95);--weui-MATERIAL-NAVIGATIONBAR: rgba(237, 237, 237, .94);--weui-MATERIAL-REGULAR: rgba(247, 247, 247, .3);--weui-MATERIAL-THICK: rgba(247, 247, 247, .8);--weui-MATERIAL-THIN: rgba(255, 255, 255, .2);--weui-MATERIAL-TOOLBAR: rgba(246, 246, 246, .82);--weui-ORANGE-100: #FA9D3B;--weui-ORANGE-120: #FBB062;--weui-ORANGE-170: #FDE1C3;--weui-ORANGE-80: #C87D2F;--weui-ORANGE-90: #E08C34;--weui-ORANGE-BG-100: #EA7800;--weui-ORANGE-BG-110: #EC8519;--weui-ORANGE-BG-130: #F0A04D;--weui-ORANGE-BG-90: #D26B00;--weui-ORANGERED-100: #FF6146;--weui-OVERLAY: rgba(0, 0, 0, .5);--weui-OVERLAY-WHITE: rgba(242, 242, 242, .8);--weui-PURPLE-100: #6467F0;--weui-PURPLE-120: #8385F3;--weui-PURPLE-170: #D0D1FA;--weui-PURPLE-80: #5052C0;--weui-PURPLE-90: #595CD7;--weui-PURPLE-BG-100: #6769BA;--weui-PURPLE-BG-110: #7678C1;--weui-PURPLE-BG-130: #9496CE;--weui-PURPLE-BG-90: #5C5EA7;--weui-RED-100: #FA5151;--weui-RED-120: #FB7373;--weui-RED-170: #FDCACA;--weui-RED-80: #C84040;--weui-RED-90: #E14949;--weui-RED-BG-100: #CF5148;--weui-RED-BG-110: #D3625A;--weui-RED-BG-130: #DD847E;--weui-RED-BG-90: #B94840;--weui-SECONDARY-BG: rgba(0, 0, 0, .05);--weui-SEPARATOR-0: rgba(0, 0, 0, .1);--weui-SEPARATOR-1: rgba(0, 0, 0, .15);--weui-STATELAYER-HOVERED: rgba(0, 0, 0, .02);--weui-STATELAYER-PRESSED: rgba(0, 0, 0, .1);--weui-STATELAYER-PRESSEDSTRENGTHENED: rgba(0, 0, 0, .2);--weui-YELLOW-100: #FFC300;--weui-YELLOW-120: #FFCF33;--weui-YELLOW-170: #FFECB2;--weui-YELLOW-80: #CC9C00;--weui-YELLOW-90: #E6AF00;--weui-YELLOW-BG-100: #EFB600;--weui-YELLOW-BG-110: #F0BD19;--weui-YELLOW-BG-130: #F3CC4D;--weui-YELLOW-BG-90: #D7A400;--weui-FG-HALF: rgba(0, 0, 0, .9);--weui-RED: #FA5151;--weui-ORANGERED: #FF6146;--weui-ORANGE: #FA9D3B;--weui-YELLOW: #FFC300;--weui-GREEN: #91D300;--weui-LIGHTGREEN: #95EC69;--weui-TEXTGREEN: #06AE56;--weui-BRAND: #07C160;--weui-BLUE: #10AEFF;--weui-INDIGO: #1485EE;--weui-PURPLE: #6467F0;--weui-LINK: #576B95;--weui-TAG-TEXT-ORANGE: #FA9D3B;--weui-TAG-TEXT-GREEN: #06AE56;--weui-TAG-TEXT-BLUE: #10AEFF;--weui-REDORANGE: #FF6146;--weui-TAG-TEXT-BLACK: rgba(0, 0, 0, .5);--weui-TAG-BACKGROUND-BLACK: rgba(0, 0, 0, .05);--weui-WHITE: #FFFFFF;--weui-BG: #FFFFFF;--weui-FG: #000;--weui-FG-5: rgba(0, 0, 0, .05);--weui-TAG-BACKGROUND-ORANGE: rgba(250, 157, 59, .1);--weui-TAG-BACKGROUND-GREEN: rgba(6, 174, 86, .1);--weui-TAG-TEXT-RED: rgba(250, 81, 81, .6);--weui-TAG-BACKGROUND-RED: rgba(250, 81, 81, .1);--weui-TAG-BACKGROUND-BLUE: rgba(16, 174, 255, .1)}.wx-root,body{--weui-BG-0: #ededed;--weui-BG-1: #f7f7f7;--weui-BG-2: #fff;--weui-BG-3: #f7f7f7;--weui-BG-4: #4c4c4c;--weui-BG-5: #fff;--weui-BLUE-100: #10aeff;--weui-BLUE-120: #3fbeff;--weui-BLUE-170: #b7e6ff;--weui-BLUE-80: #0c8bcc;--weui-BLUE-90: #0e9ce6;--weui-BLUE-BG-100: #48a6e2;--weui-BLUE-BG-110: #5aafe4;--weui-BLUE-BG-130: #7fc0ea;--weui-BLUE-BG-90: #4095cb;--weui-BRAND-100: #07c160;--weui-BRAND-120: #38cd7f;--weui-BRAND-170: #b4ecce;--weui-BRAND-80: #059a4c;--weui-BRAND-90: #06ae56;--weui-BRAND-BG-100: #2aae67;--weui-BRAND-BG-110: #3eb575;--weui-BRAND-BG-130: #69c694;--weui-BRAND-BG-90: #259c5c;--weui-FG-0: rgba(0,0,0,.9);--weui-FG-0_5: rgba(0,0,0,.9);--weui-FG-1: rgba(0,0,0,.55);--weui-FG-2: rgba(0,0,0,.3);--weui-FG-3: rgba(0,0,0,.1);--weui-FG-4: rgba(0,0,0,.15);--weui-GLYPH-0: rgba(0,0,0,.9);--weui-GLYPH-1: rgba(0,0,0,.55);--weui-GLYPH-2: rgba(0,0,0,.3);--weui-GLYPH-WHITE-0: hsla(0,0%,100%,.8);--weui-GLYPH-WHITE-1: hsla(0,0%,100%,.5);--weui-GLYPH-WHITE-2: hsla(0,0%,100%,.3);--weui-GLYPH-WHITE-3: #fff;--weui-GREEN-100: #91d300;--weui-GREEN-120: #a7db33;--weui-GREEN-170: #def1b3;--weui-GREEN-80: #74a800;--weui-GREEN-90: #82bd00;--weui-GREEN-BG-100: #96be40;--weui-GREEN-BG-110: #a0c452;--weui-GREEN-BG-130: #b5d179;--weui-GREEN-BG-90: #86aa39;--weui-INDIGO-100: #1485ee;--weui-INDIGO-120: #439df1;--weui-INDIGO-170: #b8daf9;--weui-INDIGO-80: #106abe;--weui-INDIGO-90: #1277d6;--weui-INDIGO-BG-100: #2b77bf;--weui-INDIGO-BG-110: #3f84c5;--weui-INDIGO-BG-130: #6ba0d2;--weui-INDIGO-BG-90: #266aab;--weui-LIGHTGREEN-100: #95ec69;--weui-LIGHTGREEN-120: #aaef87;--weui-LIGHTGREEN-170: #def9d1;--weui-LIGHTGREEN-80: #77bc54;--weui-LIGHTGREEN-90: #85d35e;--weui-LIGHTGREEN-BG-100: #72cf60;--weui-LIGHTGREEN-BG-110: #80d370;--weui-LIGHTGREEN-BG-130: #9cdd90;--weui-LIGHTGREEN-BG-90: #66b956;--weui-LINK-100: #576b95;--weui-LINK-120: #7888aa;--weui-LINK-170: #ccd2de;--weui-LINK-80: #455577;--weui-LINK-90: #4e6085;--weui-LINKFINDER-100: #002666;--weui-MATERIAL-ATTACHMENTCOLUMN: hsla(0,0%,96.1%,.95);--weui-MATERIAL-NAVIGATIONBAR: hsla(0,0%,92.9%,.94);--weui-MATERIAL-REGULAR: hsla(0,0%,96.9%,.3);--weui-MATERIAL-THICK: hsla(0,0%,96.9%,.8);--weui-MATERIAL-THIN: hsla(0,0%,100%,.2);--weui-MATERIAL-TOOLBAR: hsla(0,0%,96.5%,.82);--weui-ORANGE-100: #fa9d3b;--weui-ORANGE-120: #fbb062;--weui-ORANGE-170: #fde1c3;--weui-ORANGE-80: #c87d2f;--weui-ORANGE-90: #e08c34;--weui-ORANGE-BG-100: #ea7800;--weui-ORANGE-BG-110: #ec8519;--weui-ORANGE-BG-130: #f0a04d;--weui-ORANGE-BG-90: #d26b00;--weui-ORANGERED-100: #ff6146;--weui-OVERLAY: rgba(0,0,0,.5);--weui-OVERLAY-WHITE: hsla(0,0%,94.9%,.8);--weui-PURPLE-100: #6467f0;--weui-PURPLE-120: #8385f3;--weui-PURPLE-170: #d0d1fa;--weui-PURPLE-80: #5052c0;--weui-PURPLE-90: #595cd7;--weui-PURPLE-BG-100: #6769ba;--weui-PURPLE-BG-110: #7678c1;--weui-PURPLE-BG-130: #9496ce;--weui-PURPLE-BG-90: #5c5ea7;--weui-RED-100: #fa5151;--weui-RED-120: #fb7373;--weui-RED-170: #fdcaca;--weui-RED-80: #c84040;--weui-RED-90: #e14949;--weui-RED-BG-100: #cf5148;--weui-RED-BG-110: #d3625a;--weui-RED-BG-130: #dd847e;--weui-RED-BG-90: #b94840;--weui-SECONDARY-BG: rgba(0,0,0,.05);--weui-SEPARATOR-0: rgba(0,0,0,.1);--weui-SEPARATOR-1: rgba(0,0,0,.15);--weui-STATELAYER-HOVERED: rgba(0,0,0,.02);--weui-STATELAYER-PRESSED: rgba(0,0,0,.1);--weui-STATELAYER-PRESSEDSTRENGTHENED: rgba(0,0,0,.2);--weui-YELLOW-100: #ffc300;--weui-YELLOW-120: #ffcf33;--weui-YELLOW-170: #ffecb2;--weui-YELLOW-80: #cc9c00;--weui-YELLOW-90: #e6af00;--weui-YELLOW-BG-100: #efb600;--weui-YELLOW-BG-110: #f0bd19;--weui-YELLOW-BG-130: #f3cc4d;--weui-YELLOW-BG-90: #d7a400;--weui-FG-HALF: rgba(0,0,0,.9);--weui-RED: #fa5151;--weui-ORANGERED: #ff6146;--weui-ORANGE: #fa9d3b;--weui-YELLOW: #ffc300;--weui-GREEN: #91d300;--weui-LIGHTGREEN: #95ec69;--weui-TEXTGREEN: #06ae56;--weui-BRAND: #07c160;--weui-BLUE: #10aeff;--weui-INDIGO: #1485ee;--weui-PURPLE: #6467f0;--weui-LINK: #576b95;--weui-TAG-TEXT-ORANGE: #fa9d3b;--weui-TAG-TEXT-GREEN: #06ae56;--weui-TAG-TEXT-BLUE: #10aeff;--weui-REDORANGE: #ff6146;--weui-TAG-TEXT-BLACK: rgba(0,0,0,.5);--weui-TAG-BACKGROUND-BLACK: rgba(0,0,0,.05);--weui-WHITE: #fff;--weui-BG: #fff;--weui-FG: #000;--weui-FG-5: rgba(0,0,0,.05);--weui-TAG-BACKGROUND-ORANGE: rgba(250,157,59,.1);--weui-TAG-BACKGROUND-GREEN: rgba(6,174,86,.1);--weui-TAG-TEXT-RED: rgba(250,81,81,.6);--weui-TAG-BACKGROUND-RED: rgba(250,81,81,.1);--weui-TAG-BACKGROUND-BLUE: rgba(16,174,255,.1)}.wx-root,body{--weui-BTN-ACTIVE-MASK: rgba(0, 0, 0, .1)}.wx-root,body{--weui-BTN-DEFAULT-ACTIVE-BG: #e6e6e6}.wx-root,body{--weui-DIALOG-LINE-COLOR: rgba(0, 0, 0, .1)}.wx-root,body{--weui-BG-COLOR-ACTIVE: #ececec}@media(prefers-color-scheme:dark){.wx-root:not([data-weui-theme=light]),body:not([data-weui-theme=light]){--weui-BTN-ACTIVE-MASK: rgba(255, 255, 255, .1)}}@media(prefers-color-scheme:dark){.wx-root:not([data-weui-theme=light]),body:not([data-weui-theme=light]){--weui-BTN-DEFAULT-ACTIVE-BG: rgba(255, 255, 255, .126)}}@media(prefers-color-scheme:dark){.wx-root:not([data-weui-theme=light]),body:not([data-weui-theme=light]){--weui-DIALOG-LINE-COLOR: rgba(255, 255, 255, .1)}}@media(prefers-color-scheme:dark){.wx-root:not([data-weui-theme=light]),body:not([data-weui-theme=light]){--APPMSGCARD-BG: #1E1E1E}}@media(prefers-color-scheme:dark){.wx-root:not([data-weui-theme=light]),body:not([data-weui-theme=light]){--APPMSGCARD-LINE-BG: rgba(255, 255, 255, .07)}}@media(prefers-color-scheme:dark){.wx-root:not([data-weui-theme=light]),body:not([data-weui-theme=light]){--weui-BG-COLOR-ACTIVE: #373737}}@media(prefers-color-scheme:dark){.wx-root:not([data-weui-theme=light]),body:not([data-weui-theme=light]){--weui-BG-6: rgba(255, 255, 255, .1);--weui-ACTIVE-MASK: rgba(255, 255, 255, .1)}}@media(prefers-color-scheme:dark){.wx-root:not([data-weui-theme=light]),body:not([data-weui-theme=light]){--weui-BG-0: #111;--weui-BG-1: #1e1e1e;--weui-BG-5: #2c2c2c;--weui-RED: #fa5151;--weui-ORANGERED: #ff6146;--weui-ORANGE: #c87d2f;--weui-YELLOW: #cc9c00;--weui-GREEN: #74a800;--weui-LIGHTGREEN: #3eb575;--weui-BRAND: #07c160;--weui-BLUE: #10aeff;--weui-INDIGO: #1196ff;--weui-PURPLE: #8183ff;--weui-LINK: #7d90a9;--weui-TEXTGREEN: #259c5c;--weui-REDORANGE: #ff6146;--weui-BG-0: #111111;--weui-BG-1: #1E1E1E;--weui-BG-2: #191919;--weui-BG-3: #202020;--weui-BG-4: #404040;--weui-BG-5: #2C2C2C;--weui-BLUE-100: #10AEFF;--weui-BLUE-120: #0C8BCC;--weui-BLUE-170: #04344D;--weui-BLUE-80: #3FBEFF;--weui-BLUE-90: #28B6FF;--weui-BLUE-BG-100: #48A6E2;--weui-BLUE-BG-110: #4095CB;--weui-BLUE-BG-130: #32749E;--weui-BLUE-BG-90: #5AAFE4;--weui-BRAND-100: #07C160;--weui-BRAND-120: #059A4C;--weui-BRAND-170: #023A1C;--weui-BRAND-80: #38CD7F;--weui-BRAND-90: #20C770;--weui-BRAND-BG-100: #2AAE67;--weui-BRAND-BG-110: #259C5C;--weui-BRAND-BG-130: #1D7A48;--weui-BRAND-BG-90: #3EB575;--weui-FG-0: rgba(255, 255, 255, .8);--weui-FG-0_5: rgba(255, 255, 255, .6);--weui-FG-1: rgba(255, 255, 255, .5);--weui-FG-2: rgba(255, 255, 255, .3);--weui-FG-3: rgba(255, 255, 255, .1);--weui-FG-4: rgba(255, 255, 255, .15);--weui-GLYPH-0: rgba(255, 255, 255, .8);--weui-GLYPH-1: rgba(255, 255, 255, .5);--weui-GLYPH-2: rgba(255, 255, 255, .3);--weui-GLYPH-WHITE-0: rgba(255, 255, 255, .8);--weui-GLYPH-WHITE-1: rgba(255, 255, 255, .5);--weui-GLYPH-WHITE-2: rgba(255, 255, 255, .3);--weui-GLYPH-WHITE-3: #FFFFFF;--weui-GREEN-100: #74A800;--weui-GREEN-120: #5C8600;--weui-GREEN-170: #233200;--weui-GREEN-80: #8FB933;--weui-GREEN-90: #82B01A;--weui-GREEN-BG-100: #789833;--weui-GREEN-BG-110: #6B882D;--weui-GREEN-BG-130: #65802B;--weui-GREEN-BG-90: #85A247;--weui-INDIGO-100: #1196FF;--weui-INDIGO-120: #0D78CC;--weui-INDIGO-170: #052D4D;--weui-INDIGO-80: #40ABFF;--weui-INDIGO-90: #28A0FF;--weui-INDIGO-BG-100: #0D78CC;--weui-INDIGO-BG-110: #0B6BB7;--weui-INDIGO-BG-130: #09548F;--weui-INDIGO-BG-90: #2585D1;--weui-LIGHTGREEN-100: #3EB575;--weui-LIGHTGREEN-120: #31905D;--weui-LIGHTGREEN-170: #123522;--weui-LIGHTGREEN-80: #64C390;--weui-LIGHTGREEN-90: #51BC83;--weui-LIGHTGREEN-BG-100: #31905D;--weui-LIGHTGREEN-BG-110: #2C8153;--weui-LIGHTGREEN-BG-130: #226541;--weui-LIGHTGREEN-BG-90: #31905D;--weui-LINK-100: #7D90A9;--weui-LINK-120: #647387;--weui-LINK-170: #252A32;--weui-LINK-80: #97A6BA;--weui-LINK-90: #899AB1;--weui-LINKFINDER-100: #DEE9FF;--weui-MATERIAL-ATTACHMENTCOLUMN: rgba(32, 32, 32, .93);--weui-MATERIAL-NAVIGATIONBAR: rgba(18, 18, 18, .9);--weui-MATERIAL-REGULAR: rgba(37, 37, 37, .6);--weui-MATERIAL-THICK: rgba(34, 34, 34, .9);--weui-MATERIAL-THIN: rgba(95, 95, 95, .4);--weui-MATERIAL-TOOLBAR: rgba(35, 35, 35, .93);--weui-ORANGE-100: #C87D2F;--weui-ORANGE-120: #A06425;--weui-ORANGE-170: #3B250E;--weui-ORANGE-80: #D39758;--weui-ORANGE-90: #CD8943;--weui-ORANGE-BG-100: #BB6000;--weui-ORANGE-BG-110: #A85600;--weui-ORANGE-BG-130: #824300;--weui-ORANGE-BG-90: #C1701A;--weui-ORANGERED-100: #FF6146;--weui-OVERLAY: rgba(0, 0, 0, .8);--weui-OVERLAY-WHITE: rgba(242, 242, 242, .8);--weui-PURPLE-100: #8183FF;--weui-PURPLE-120: #6768CC;--weui-PURPLE-170: #26274C;--weui-PURPLE-80: #9A9BFF;--weui-PURPLE-90: #8D8FFF;--weui-PURPLE-BG-100: #6768CC;--weui-PURPLE-BG-110: #5C5DB7;--weui-PURPLE-BG-130: #48498F;--weui-PURPLE-BG-90: #7677D1;--weui-RED-100: #FA5151;--weui-RED-120: #C84040;--weui-RED-170: #4B1818;--weui-RED-80: #FB7373;--weui-RED-90: #FA6262;--weui-RED-BG-100: #CF5148;--weui-RED-BG-110: #BA4940;--weui-RED-BG-130: #913832;--weui-RED-BG-90: #D3625A;--weui-SECONDARY-BG: rgba(255, 255, 255, .1);--weui-SEPARATOR-0: rgba(255, 255, 255, .05);--weui-SEPARATOR-1: rgba(255, 255, 255, .15);--weui-STATELAYER-HOVERED: rgba(0, 0, 0, .02);--weui-STATELAYER-PRESSED: rgba(255, 255, 255, .1);--weui-STATELAYER-PRESSEDSTRENGTHENED: rgba(255, 255, 255, .2);--weui-YELLOW-100: #CC9C00;--weui-YELLOW-120: #A37C00;--weui-YELLOW-170: #3D2F00;--weui-YELLOW-80: #D6AF33;--weui-YELLOW-90: #D1A519;--weui-YELLOW-BG-100: #BF9100;--weui-YELLOW-BG-110: #AB8200;--weui-YELLOW-BG-130: #866500;--weui-YELLOW-BG-90: #C59C1A;--weui-FG-HALF: rgba(255, 255, 255, .6);--weui-RED: #FA5151;--weui-ORANGERED: #FF6146;--weui-ORANGE: #C87D2F;--weui-YELLOW: #CC9C00;--weui-GREEN: #74A800;--weui-LIGHTGREEN: #3EB575;--weui-TEXTGREEN: #259C5C;--weui-BRAND: #07C160;--weui-BLUE: #10AEFF;--weui-INDIGO: #1196FF;--weui-PURPLE: #8183FF;--weui-LINK: #7D90A9;--weui-REDORANGE: #FF6146;--weui-TAG-TEXT-BLACK: rgba(255, 255, 255, .5);--weui-TAG-BACKGROUND-BLACK: rgba(255, 255, 255, .05);--weui-WHITE: rgba(255, 255, 255, .8);--weui-FG: #fff;--weui-BG: #000;--weui-FG-5: rgba(255, 255, 255, .1);--weui-TAG-BACKGROUND-ORANGE: rgba(250, 157, 59, .1);--weui-TAG-BACKGROUND-GREEN: rgba(6, 174, 86, .1);--weui-TAG-TEXT-RED: rgba(250, 81, 81, .6);--weui-TAG-BACKGROUND-RED: rgba(250, 81, 81, .1);--weui-TAG-BACKGROUND-BLUE: rgba(16, 174, 255, .1);--weui-TAG-TEXT-ORANGE: rgba(250, 157, 59, .6);--weui-TAG-TEXT-GREEN: rgba(6, 174, 86, .6);--weui-TAG-TEXT-BLUE: rgba(16, 174, 255, .6)}}@media(prefers-color-scheme:dark){.wx-root:not([data-weui-theme=light]),body:not([data-weui-theme=light]){--discussInput-BG: rgba(255, 255, 255, .03)}}@media(prefers-color-scheme:dark){.wx-root:not([data-weui-theme=light]),body:not([data-weui-theme=light]){--nickName-FG: #959595}}@media(prefers-color-scheme:dark){.wx-root:not([data-weui-theme=light]),body:not([data-weui-theme=light]){--weui-BG-0: #111111;--weui-BG-1: #1E1E1E;--weui-BG-2: #191919;--weui-BG-3: #202020;--weui-BG-4: #404040;--weui-BG-5: #2C2C2C;--weui-BLUE-100: #10AEFF;--weui-BLUE-120: #0C8BCC;--weui-BLUE-170: #04344D;--weui-BLUE-80: #3FBEFF;--weui-BLUE-90: #28B6FF;--weui-BLUE-BG-100: #48A6E2;--weui-BLUE-BG-110: #4095CB;--weui-BLUE-BG-130: #32749E;--weui-BLUE-BG-90: #5AAFE4;--weui-BRAND-100: #07C160;--weui-BRAND-120: #059A4C;--weui-BRAND-170: #023A1C;--weui-BRAND-80: #38CD7F;--weui-BRAND-90: #20C770;--weui-BRAND-BG-100: #2AAE67;--weui-BRAND-BG-110: #259C5C;--weui-BRAND-BG-130: #1D7A48;--weui-BRAND-BG-90: #3EB575;--weui-FG-0: rgba(255, 255, 255, .8);--weui-FG-0_5: rgba(255, 255, 255, .6);--weui-FG-1: rgba(255, 255, 255, .5);--weui-FG-2: rgba(255, 255, 255, .3);--weui-FG-3: rgba(255, 255, 255, .1);--weui-FG-4: rgba(255, 255, 255, .15);--weui-GLYPH-0: rgba(255, 255, 255, .8);--weui-GLYPH-1: rgba(255, 255, 255, .5);--weui-GLYPH-2: rgba(255, 255, 255, .3);--weui-GLYPH-WHITE-0: rgba(255, 255, 255, .8);--weui-GLYPH-WHITE-1: rgba(255, 255, 255, .5);--weui-GLYPH-WHITE-2: rgba(255, 255, 255, .3);--weui-GLYPH-WHITE-3: #FFFFFF;--weui-GREEN-100: #74A800;--weui-GREEN-120: #5C8600;--weui-GREEN-170: #233200;--weui-GREEN-80: #8FB933;--weui-GREEN-90: #82B01A;--weui-GREEN-BG-100: #789833;--weui-GREEN-BG-110: #6B882D;--weui-GREEN-BG-130: #65802B;--weui-GREEN-BG-90: #85A247;--weui-INDIGO-100: #1196FF;--weui-INDIGO-120: #0D78CC;--weui-INDIGO-170: #052D4D;--weui-INDIGO-80: #40ABFF;--weui-INDIGO-90: #28A0FF;--weui-INDIGO-BG-100: #0D78CC;--weui-INDIGO-BG-110: #0B6BB7;--weui-INDIGO-BG-130: #09548F;--weui-INDIGO-BG-90: #2585D1;--weui-LIGHTGREEN-100: #3EB575;--weui-LIGHTGREEN-120: #31905D;--weui-LIGHTGREEN-170: #123522;--weui-LIGHTGREEN-80: #64C390;--weui-LIGHTGREEN-90: #51BC83;--weui-LIGHTGREEN-BG-100: #31905D;--weui-LIGHTGREEN-BG-110: #2C8153;--weui-LIGHTGREEN-BG-130: #226541;--weui-LIGHTGREEN-BG-90: #31905D;--weui-LINK-100: #7D90A9;--weui-LINK-120: #647387;--weui-LINK-170: #252A32;--weui-LINK-80: #97A6BA;--weui-LINK-90: #899AB1;--weui-LINKFINDER-100: #DEE9FF;--weui-MATERIAL-ATTACHMENTCOLUMN: rgba(32, 32, 32, .93);--weui-MATERIAL-NAVIGATIONBAR: rgba(18, 18, 18, .9);--weui-MATERIAL-REGULAR: rgba(37, 37, 37, .6);--weui-MATERIAL-THICK: rgba(34, 34, 34, .9);--weui-MATERIAL-THIN: rgba(95, 95, 95, .4);--weui-MATERIAL-TOOLBAR: rgba(35, 35, 35, .93);--weui-ORANGE-100: #C87D2F;--weui-ORANGE-120: #A06425;--weui-ORANGE-170: #3B250E;--weui-ORANGE-80: #D39758;--weui-ORANGE-90: #CD8943;--weui-ORANGE-BG-100: #BB6000;--weui-ORANGE-BG-110: #A85600;--weui-ORANGE-BG-130: #824300;--weui-ORANGE-BG-90: #C1701A;--weui-ORANGERED-100: #FF6146;--weui-OVERLAY: rgba(0, 0, 0, .8);--weui-OVERLAY-WHITE: rgba(242, 242, 242, .8);--weui-PURPLE-100: #8183FF;--weui-PURPLE-120: #6768CC;--weui-PURPLE-170: #26274C;--weui-PURPLE-80: #9A9BFF;--weui-PURPLE-90: #8D8FFF;--weui-PURPLE-BG-100: #6768CC;--weui-PURPLE-BG-110: #5C5DB7;--weui-PURPLE-BG-130: #48498F;--weui-PURPLE-BG-90: #7677D1;--weui-RED-100: #FA5151;--weui-RED-120: #C84040;--weui-RED-170: #4B1818;--weui-RED-80: #FB7373;--weui-RED-90: #FA6262;--weui-RED-BG-100: #CF5148;--weui-RED-BG-110: #BA4940;--weui-RED-BG-130: #913832;--weui-RED-BG-90: #D3625A;--weui-SECONDARY-BG: rgba(255, 255, 255, .1);--weui-SEPARATOR-0: rgba(255, 255, 255, .05);--weui-SEPARATOR-1: rgba(255, 255, 255, .15);--weui-STATELAYER-HOVERED: rgba(0, 0, 0, .02);--weui-STATELAYER-PRESSED: rgba(255, 255, 255, .1);--weui-STATELAYER-PRESSEDSTRENGTHENED: rgba(255, 255, 255, .2);--weui-YELLOW-100: #CC9C00;--weui-YELLOW-120: #A37C00;--weui-YELLOW-170: #3D2F00;--weui-YELLOW-80: #D6AF33;--weui-YELLOW-90: #D1A519;--weui-YELLOW-BG-100: #BF9100;--weui-YELLOW-BG-110: #AB8200;--weui-YELLOW-BG-130: #866500;--weui-YELLOW-BG-90: #C59C1A;--weui-FG-HALF: rgba(255, 255, 255, .6);--weui-RED: #FA5151;--weui-ORANGERED: #FF6146;--weui-ORANGE: #C87D2F;--weui-YELLOW: #CC9C00;--weui-GREEN: #74A800;--weui-LIGHTGREEN: #3EB575;--weui-TEXTGREEN: #259C5C;--weui-BRAND: #07C160;--weui-BLUE: #10AEFF;--weui-INDIGO: #1196FF;--weui-PURPLE: #8183FF;--weui-LINK: #7D90A9;--weui-REDORANGE: #FF6146;--weui-TAG-TEXT-BLACK: rgba(255, 255, 255, .5);--weui-TAG-BACKGROUND-BLACK: rgba(255, 255, 255, .05);--weui-WHITE: rgba(255, 255, 255, .8);--weui-FG: #fff;--weui-BG: #000;--weui-FG-5: rgba(255, 255, 255, .1);--weui-TAG-BACKGROUND-ORANGE: rgba(250, 157, 59, .1);--weui-TAG-BACKGROUND-GREEN: rgba(6, 174, 86, .1);--weui-TAG-TEXT-RED: rgba(250, 81, 81, .6);--weui-TAG-BACKGROUND-RED: rgba(250, 81, 81, .1);--weui-TAG-BACKGROUND-BLUE: rgba(16, 174, 255, .1);--weui-TAG-TEXT-ORANGE: rgba(250, 157, 59, .6);--weui-TAG-TEXT-GREEN: rgba(6, 174, 86, .6);--weui-TAG-TEXT-BLUE: rgba(16, 174, 255, .6)}}@media(prefers-color-scheme:dark){.wx-root:not([data-weui-theme=light]),body:not([data-weui-theme=light]){--appmsgExtra-BG: #121212}}.rich_media_content p{clear:both;min-height:1em}td p{margin:0;padding:0}</style> \\n  <style>div.autoTypeSetting24psection > p,div.autoTypeSetting24psection > section{margin-bottom: 24px;}</style> \\n </div> \\n</body>',\n",
       " 'page_layout_type': 'article',\n",
       " 'domain': 'new.qq.com',\n",
       " 'dataset_name': 'tencent',\n",
       " 'data_source_category': 'HTML',\n",
       " 'meta_info': {'filename': 's3://private-crawl-data/zh-web-tencent/20241218_p1/2024/1734578100452.json.gz',\n",
       "  'posttime': '2024-10-06 08:00:00',\n",
       "  'n_content_county': [],\n",
       "  'm_identity': '5392709',\n",
       "  'n_origin': '中国环境APP',\n",
       "  'n_headimg_url': 'https://inews.gtimg.com/om_bt/OKkFbuaxesP2NUMNlDB2v_Zz1F9emTdkEufvZTiX2zmvQAA/641',\n",
       "  'f_domain_sec': 'new.qq.com',\n",
       "  'title': '童心迎国庆，童画绘环保',\n",
       "  'uuid': '04564f1d69c1b2b47c4bb69530eec760',\n",
       "  'n_contain_img': '1',\n",
       "  'c_nav': '',\n",
       "  'n_img_urls': ['https://inews.gtimg.com/om_bt/OKkFbuaxesP2NUMNlDB2v_Zz1F9emTdkEufvZTiX2zmvQAA/641',\n",
       "   'https://inews.gtimg.com/om_bt/O6kWJTdnl0xJXVrLTIpmjMkBdRolB8F55Td5KHobBICUQAA/641',\n",
       "   'https://inews.gtimg.com/om_bt/Onhkv-5GoDyfGmDZf-6gPGyDOcxa8bN-SYMfB_OcSMC8UAA/641',\n",
       "   'https://inews.gtimg.com/om_bt/O_v907d7XVoPz8yExCAErm1aw63EEJ6QreEE1WSPhCxC8AA/641',\n",
       "   'https://inews.gtimg.com/om_bt/Oa6FLEf-piLAtC_8hUbIEm54Cz4cnASRcU3qAyfEHPurUAA/641',\n",
       "   'https://inews.gtimg.com/om_bt/OWhaAfzsAQlb4lup4HxnYfBiTOKxcU2lg0HV9B0J0Pod0AA/641',\n",
       "   'https://inews.gtimg.com/om_bt/OqMzmaZEaGNePTGck9wPBsXVoUy9U9LopRU1KQOWmrKfEAA/641',\n",
       "   'https://inews.gtimg.com/om_bt/OCxgDLog9Cqs8XZt9o82IRM54iqYJyd4vGiAd8giBFEo0AA/641',\n",
       "   'https://inews.gtimg.com/om_bt/OmtgIpcqkCazEfh-8REKsj8YrOjtZFcT6Myueizx-az48AA/641',\n",
       "   'https://inews.gtimg.com/om_bt/OsQeLxc-J7DBHstGGyXgtWbdNSzMxpkQKA27jqyh_xKLYAA/641'],\n",
       "  'n_is_origin': 1,\n",
       "  'n_content_city': [],\n",
       "  'n_video_urls': [],\n",
       "  'footplate': 'web',\n",
       "  'n_origin_author_name': '',\n",
       "  'n_contain_video': '0',\n",
       "  'm_is_verified': '1',\n",
       "  'n_origin_url': '',\n",
       "  'n_origin_author_uid': '',\n",
       "  'c_level': '0',\n",
       "  'n_content_field': '其他',\n",
       "  'm_name': '中国环境',\n",
       "  'c_name': '企鹅号',\n",
       "  'n_content_province': [],\n",
       "  'n_origin_posttime': ''}}"
      ]
     },
     "execution_count": 32,
     "metadata": {},
     "output_type": "execute_result"
    }
   ],
   "source": [
    "transform_row(row_data,broadcast_field_mappings).asDict()"
   ]
  },
  {
   "cell_type": "markdown",
   "id": "926b3a2c-40da-4ec5-a377-e29e111af045",
   "metadata": {},
   "source": [
    "## Transform"
   ]
  },
  {
   "cell_type": "code",
   "execution_count": 14,
   "id": "9ffc69dedbaef3a2",
   "metadata": {
    "ExecuteTime": {
     "end_time": "2025-03-06T06:18:55.367862Z",
     "start_time": "2025-03-06T06:18:55.357234Z"
    },
    "execution": {
     "iopub.execute_input": "2025-03-17T06:02:03.358937Z",
     "iopub.status.busy": "2025-03-17T06:02:03.358594Z",
     "iopub.status.idle": "2025-03-17T06:02:03.399841Z",
     "shell.execute_reply": "2025-03-17T06:02:03.399130Z",
     "shell.execute_reply.started": "2025-03-17T06:02:03.358915Z"
    }
   },
   "outputs": [],
   "source": [
    "\n",
    "def transform_row(row, config: dict) -> Row:\n",
    "\n",
    "    \"\"\"根据平台配置转换行数据\"\"\"\n",
    "    mappings = config\n",
    "    from loguru import logger\n",
    "    try:\n",
    "\n",
    "         # 获取已使用的字段名\n",
    "        used_field_names = {\n",
    "            mappings[\"track_id\"],\n",
    "            mappings[\"url\"],\n",
    "            mappings[\"html\"],\n",
    "            mappings[\"layout_field\"],\n",
    "            \"filename\"  # 显式使用的filename字段\n",
    "        }\n",
    "\n",
    "        # 获取原始行的所有字段名\n",
    "        row_field_names = row.__fields__  # 适用于pyspark.sql.Row对象\n",
    "\n",
    "        # 收集未被使用的字段\n",
    "        remaining_fields = [f for f in row_field_names if f not in used_field_names]\n",
    "        print(remaining_fields)\n",
    "        # 构建meta_info字典\n",
    "        meta_info = {\"filename\": getattr(row, \"filename\", \"\")}\n",
    "        for field in remaining_fields:\n",
    "            meta_info[field] = getattr(row, field, None)\n",
    "\n",
    "        d = Row(\n",
    "                track_id=getattr(row, mappings[\"track_id\"],str(uuid.uuid4())),\n",
    "                url=getattr(row, mappings[\"url\"], ''),\n",
    "                html=getattr(row, mappings[\"html\"], ''),\n",
    "                page_layout_type=mappings.get(\"page_layout_type_map\").get(\n",
    "                    getattr(row, mappings[\"layout_field\"], ''),\n",
    "                    \"article\"\n",
    "                ),\n",
    "                domain=extract_domain_info(getattr(row, mappings[\"url\"], ''))['domain'],\n",
    "                dataset_name=mappings[\"dataset_name\"],\n",
    "                data_source_category=mappings[\"data_source_category\"],\n",
    "                meta_info=meta_info\n",
    "            )\n",
    "        return d \n",
    "    except Exception as e:\n",
    "        # 记录更详细的错误信息\n",
    "        error_info = {\n",
    "            \"error_data\":Row(**d),\n",
    "            \"error_type\": type(e).__name__,\n",
    "            \"error_message\": str(e),\n",
    "            \"traceback\": traceback.format_exc(),\n",
    "        }\n",
    "        # s3_doc_writer.write(error_info)\n",
    "        d['__error'] = error_info\n",
    "        logger.error(error_info)\n",
    "        return Row(**d)\n",
    "   \n",
    "    \n",
    " \n",
    "#  pandas_df = input_rdd.toDF().toPandas()\n",
    "#  print(pandas_df)\n",
    "\n",
    "# 数据转换（仅用字段映射）\n",
    "transformed_rdd = input_rdd.map(\n",
    "    lambda row: transform_row(row, broadcast_field_mappings)\n",
    ").repartition(6000)\n"
   ]
  },
  {
   "cell_type": "code",
   "execution_count": 15,
   "id": "29a53abe-4528-48e5-9768-97fa2e8b95ef",
   "metadata": {
    "execution": {
     "iopub.execute_input": "2025-03-17T06:02:04.613128Z",
     "iopub.status.busy": "2025-03-17T06:02:04.612866Z",
     "iopub.status.idle": "2025-03-17T06:02:04.616379Z",
     "shell.execute_reply": "2025-03-17T06:02:04.616018Z",
     "shell.execute_reply.started": "2025-03-17T06:02:04.613111Z"
    }
   },
   "outputs": [
    {
     "data": {
      "text/plain": [
       "{'track_id': 'track_id',\n",
       " 'page_layout_type_map': {'': 'article',\n",
       "  '文章': 'article',\n",
       "  '网易': 'article',\n",
       "  '视频': 'video',\n",
       "  '腾讯网': 'article'},\n",
       " 'dataset_name': 'tencent',\n",
       " 'url': 'url',\n",
       " 'html': 'content',\n",
       " 'layout_field': 'f_name',\n",
       " 'data_source_category': 'HTML'}"
      ]
     },
     "execution_count": 15,
     "metadata": {},
     "output_type": "execute_result"
    }
   ],
   "source": [
    "broadcast_field_mappings"
   ]
  },
  {
   "cell_type": "code",
   "execution_count": 16,
   "id": "844de393-43b2-413c-91d9-d97e4d5d409d",
   "metadata": {
    "execution": {
     "iopub.execute_input": "2025-03-17T06:02:06.883553Z",
     "iopub.status.busy": "2025-03-17T06:02:06.883341Z",
     "iopub.status.idle": "2025-03-17T06:02:06.887002Z",
     "shell.execute_reply": "2025-03-17T06:02:06.886628Z",
     "shell.execute_reply.started": "2025-03-17T06:02:06.883537Z"
    }
   },
   "outputs": [],
   "source": [
    "transformed_not_error_rdd = transformed_rdd.filter(lambda x:\"__error\" not in x)\n",
    "# transformed_not_error_rdd.count()\n",
    "\n"
   ]
  },
  {
   "cell_type": "code",
   "execution_count": 17,
   "id": "1a9d2fcd-ae3d-4118-8160-dc98e02be86b",
   "metadata": {
    "execution": {
     "iopub.execute_input": "2025-03-17T06:02:08.017450Z",
     "iopub.status.busy": "2025-03-17T06:02:08.017252Z",
     "iopub.status.idle": "2025-03-17T06:02:08.032892Z",
     "shell.execute_reply": "2025-03-17T06:02:08.032464Z",
     "shell.execute_reply.started": "2025-03-17T06:02:08.017436Z"
    }
   },
   "outputs": [],
   "source": [
    "transformed_not_empty_rdd = transformed_not_error_rdd.filter(lambda x :x.html !='').cache()\n",
    "# transformed_not_empty_rdd.count()"
   ]
  },
  {
   "cell_type": "markdown",
   "id": "9f0d61b2-8fd6-460d-b642-3532bb6047d0",
   "metadata": {},
   "source": [
    "## 测试 To_Main_HTML"
   ]
  },
  {
   "cell_type": "code",
   "execution_count": 18,
   "id": "3288a2f64143614e",
   "metadata": {
    "ExecuteTime": {
     "end_time": "2025-03-06T06:18:55.385314Z",
     "start_time": "2025-03-06T06:18:55.383313Z"
    },
    "execution": {
     "iopub.execute_input": "2025-03-17T06:02:09.262282Z",
     "iopub.status.busy": "2025-03-17T06:02:09.262002Z",
     "iopub.status.idle": "2025-03-17T06:02:09.264466Z",
     "shell.execute_reply": "2025-03-17T06:02:09.264102Z",
     "shell.execute_reply.started": "2025-03-17T06:02:09.262267Z"
    }
   },
   "outputs": [],
   "source": [
    "\n",
    "\n",
    "#timeout_seconds = 10\n",
    "#extractor_chain = ExtractSimpleFactory.create('/share/jiangwenhao/notebooks/定向子集专项/subset-spliz.jsonc')\n",
    "#data_e: DataJson = func_timeout(timeout_seconds, extractor_chain.extract, args=(input_data,))\n",
    "#d = json.loads(data_e.to_json())\n",
    "#d['to_main_html'] = data_e.get_content_list().to_main_html()\n",
    "#d"
   ]
  },
  {
   "cell_type": "code",
   "execution_count": 19,
   "id": "8d20ce0eeef350ce",
   "metadata": {
    "ExecuteTime": {
     "end_time": "2025-03-06T06:18:55.405822Z",
     "start_time": "2025-03-06T06:18:55.400439Z"
    },
    "execution": {
     "iopub.execute_input": "2025-03-17T06:02:10.926230Z",
     "iopub.status.busy": "2025-03-17T06:02:10.926025Z",
     "iopub.status.idle": "2025-03-17T06:02:10.934946Z",
     "shell.execute_reply": "2025-03-17T06:02:10.934563Z",
     "shell.execute_reply.started": "2025-03-17T06:02:10.926216Z"
    }
   },
   "outputs": [
    {
     "data": {
      "text/plain": [
       "PythonRDD[16] at RDD at PythonRDD.scala:53"
      ]
     },
     "execution_count": 19,
     "metadata": {},
     "output_type": "execute_result"
    }
   ],
   "source": [
    "# transformed_rdd_1 = transformed_rdd.filter(lambda x: \"<!--VIDEO_0-->\"  not in x.html)\n",
    "# transformed_rdd_2 = transformed_rdd_1.filter(lambda x: \"<!--MUSIC_0-->\" not in x.html)\n",
    "# transformed_rdd_2 = transformed_rdd_2.cache()\n",
    "transformed_not_empty_rdd.cache()\n",
    "# 18660\n",
    "# 62\n",
    "# 50000-(18660+62)=31278\n"
   ]
  },
  {
   "cell_type": "markdown",
   "id": "72c30b3e-4386-46e0-b345-69eee56d8376",
   "metadata": {},
   "source": [
    "## Extractor"
   ]
  },
  {
   "cell_type": "code",
   "execution_count": 21,
   "id": "1c622407608220a",
   "metadata": {
    "ExecuteTime": {
     "end_time": "2025-03-06T06:18:55.428036Z",
     "start_time": "2025-03-06T06:18:55.423111Z"
    },
    "execution": {
     "iopub.execute_input": "2025-03-17T06:02:33.597337Z",
     "iopub.status.busy": "2025-03-17T06:02:33.597082Z",
     "iopub.status.idle": "2025-03-17T06:02:33.699461Z",
     "shell.execute_reply": "2025-03-17T06:02:33.698978Z",
     "shell.execute_reply.started": "2025-03-17T06:02:33.597319Z"
    }
   },
   "outputs": [
    {
     "name": "stdout",
     "output_type": "stream",
     "text": [
      "6000\n"
     ]
    }
   ],
   "source": [
    "\n",
    "\n",
    "def extract_data(partition, broadcast_extractor_config_path):\n",
    "    from llm_web_kit.extractor.extractor_chain import ExtractSimpleFactory\n",
    "    from loguru import logger\n",
    "\n",
    "    extractor_chain = ExtractSimpleFactory.create('/share/jiangwenhao/notebooks/定向子集专项/subset-spliz.jsonc')\n",
    "    timeout_seconds = 10\n",
    "    # 为每个分区创建唯一的错误日志文件\n",
    "    # partition_id = str(uuid.uuid4())\n",
    "    # current_time = datetime.now().strftime(\"%Y%m%d_%H%M%S\")\n",
    "    # error_log_path = f\"s3://xyz-llm-users/xyz-users/yujia/CC-MAIN-2024-33/output/v002/error_logs/{current_time}_{partition_id}.json\"\n",
    "    # s3_doc_writer = S3DocWriter(path=error_log_path)\n",
    "    for row in partition:\n",
    "        try:\n",
    "\n",
    "            d = row.asDict()\n",
    "            input_data = DataJson(d)\n",
    "            data_e: DataJson = func_timeout(timeout_seconds, extractor_chain.extract, args=(input_data,))\n",
    "            #data_e: DataJson = extractor_chain.extract(input_data)\n",
    "            \n",
    "    \n",
    "            yield Row(**data_e.to_dict())\n",
    "        except FunctionTimedOut as e1:\n",
    "                d['__error'] = {\n",
    "                    \"error_type\":\"TIMEOUT\",\n",
    "                    \"error_message\": \"extract function timeout\",\n",
    "                    \"traceback\":\"TIMEOUT\"\n",
    "                }\n",
    "\n",
    "                yield Row(**d)\n",
    "        except Exception as e:\n",
    "                # 记录更详细的错误信息\n",
    "                error_info = {\n",
    "                    \"error_data\":Row(**d),\n",
    "                    \"error_type\": type(e).__name__,\n",
    "                    \"error_message\": str(e),\n",
    "                    \"traceback\": traceback.format_exc(),\n",
    "                }\n",
    "                logger.error(error_info)\n",
    "                # s3_doc_writer.write(error_info)\n",
    "                d['__error'] = error_info\n",
    "\n",
    "                yield Row(**d)\n",
    "           \n",
    "\n",
    "\n",
    "# 数据抽取（仅用抽取器配置路径）\n",
    "processed_rdd = transformed_not_empty_rdd.mapPartitions(\n",
    "     lambda x:extract_data(\n",
    "        x,broadcast_extractor_config_path = broadcast_extractor_config_path\n",
    "    )\n",
    ")\n",
    "print(processed_rdd.getNumPartitions())\n"
   ]
  },
  {
   "cell_type": "code",
   "execution_count": 38,
   "id": "670189c2-130e-43bc-ac68-73673e1712d6",
   "metadata": {
    "collapsed": true,
    "execution": {
     "iopub.execute_input": "2025-03-17T03:23:55.361285Z",
     "iopub.status.busy": "2025-03-17T03:23:55.360918Z",
     "iopub.status.idle": "2025-03-17T03:25:23.298028Z",
     "shell.execute_reply": "2025-03-17T03:25:23.297566Z",
     "shell.execute_reply.started": "2025-03-17T03:23:55.361265Z"
    },
    "jupyter": {
     "outputs_hidden": true,
     "source_hidden": true
    }
   },
   "outputs": [
    {
     "name": "stderr",
     "output_type": "stream",
     "text": [
      "                                                                                "
     ]
    },
    {
     "data": {
      "text/plain": [
       "{'track_id': '6905e20c-e25f-471f-bfd3-8ff6cb95fce1',\n",
       " 'url': 'https://new.qq.com/omn/20241006/20241006A019G500',\n",
       " 'html': '<body> \\n <div class=\"rich_media_content autoTypeSetting24psection\"> \\n  <!--NO_AD_ERROR_2--> \\n  <section style=\"line-height: 1.75em\"> \\n   <span style=\"color: rgb(64, 118, 0); font-size: 18px\">为庆祝中华人民共和国75周年华诞，中国环境APP青山Life研究所面向社会征集生态环保主题少儿绘画，得到少年儿童的积极响应。孩子们用一幅幅主题突出、形式新颖、富有时代气息和生活情趣的作品，展现出对生态环境保护与绿色低碳生活方式的思考与行动，对美丽中国的期盼与向往。现将投稿作品予以选登，与大家共赏。</span> \\n  </section> \\n  <p><img src=\"https://inews.gtimg.com/om_bt/OKkFbuaxesP2NUMNlDB2v_Zz1F9emTdkEufvZTiX2zmvQAA/641\"></p> \\n  <p><img src=\"https://inews.gtimg.com/om_bt/O6kWJTdnl0xJXVrLTIpmjMkBdRolB8F55Td5KHobBICUQAA/641\"></p> \\n  <p><img src=\"https://inews.gtimg.com/om_bt/Onhkv-5GoDyfGmDZf-6gPGyDOcxa8bN-SYMfB_OcSMC8UAA/641\"></p> \\n  <p><img src=\"https://inews.gtimg.com/om_bt/O_v907d7XVoPz8yExCAErm1aw63EEJ6QreEE1WSPhCxC8AA/641\"></p> \\n  <p><img src=\"https://inews.gtimg.com/om_bt/Oa6FLEf-piLAtC_8hUbIEm54Cz4cnASRcU3qAyfEHPurUAA/641\"></p> \\n  <p><img src=\"https://inews.gtimg.com/om_bt/OWhaAfzsAQlb4lup4HxnYfBiTOKxcU2lg0HV9B0J0Pod0AA/641\"></p> \\n  <p><img src=\"https://inews.gtimg.com/om_bt/OqMzmaZEaGNePTGck9wPBsXVoUy9U9LopRU1KQOWmrKfEAA/641\"></p> \\n  <p><img src=\"https://inews.gtimg.com/om_bt/OCxgDLog9Cqs8XZt9o82IRM54iqYJyd4vGiAd8giBFEo0AA/641\"></p> \\n  <p style=\"text-align: center\"><span style=\"font-size: 18px\"><strong><span style=\"color: rgb(64, 118, 0)\">更多作品，详见中国环境APP</span></strong></span></p> \\n  <p style=\"text-align: center\"><span style=\"font-size: 18px\"><strong><span style=\"color: rgb(64, 118, 0)\">【生活+】频道~</span></strong></span></p> \\n  <p><br></p> \\n  <section style=\"-webkit-tap-highlight-color: transparent; background-color: rgb(255, 255, 255); font-size: 16px; letter-spacing: 0.544px; outline: 0px; text-wrap: wrap\"> \\n   <section style=\"-webkit-tap-highlight-color: transparent; display: flex; flex-flow: row; justify-content: flex-start; margin-top: 10px; outline: 0px; text-align: left\"> \\n    <section style=\"-webkit-tap-highlight-color: transparent; align-self: flex-start; background-image: linear-gradient(to right, rgba(255, 214, 125, 0.5) 0%, rgba(255, 214, 125, 0) 100%); border-color: rgb(255, 214, 125); border-style: solid; border-width: 1px; display: inline-block; flex: 0 0 auto; line-height: 0; outline: 0px; padding-bottom: 3px; padding-right: 10px; padding-top: 3px; vertical-align: top; width: 578px\"> \\n     <section style=\"-webkit-tap-highlight-color: transparent; display: flex; flex-flow: row; justify-content: flex-end; outline: 0px; text-align: right\"> \\n      <section style=\"-webkit-tap-highlight-color: transparent; align-self: flex-start; display: inline-block; flex: 0 0 0%; height: auto; line-height: 0; outline: 0px; padding-left: 5px; padding-right: 5px; vertical-align: top; width: auto\"> \\n       <section style=\"-webkit-tap-highlight-color: transparent; outline: 0px; text-align: center\"> \\n        <section style=\"-webkit-tap-highlight-color: transparent; background-color: rgb(230, 52, 26); border-radius: 100px; display: inline-block; height: 6px; outline: 0px; overflow: hidden; vertical-align: top; width: 6px\"> \\n         <svg style=\"float: left; line-height: 0; vertical-align: top; width: 0\" viewbox=\"0 0 1 1\"></svg> \\n        </section> \\n       </section> \\n      </section> \\n      <section style=\"-webkit-tap-highlight-color: transparent; align-self: flex-start; display: inline-block; flex: 0 0 0%; height: auto; line-height: 0; outline: 0px; padding-left: 5px; padding-right: 5px; vertical-align: top; width: auto\"> \\n       <section style=\"-webkit-tap-highlight-color: transparent; outline: 0px; text-align: center\"> \\n        <section style=\"-webkit-tap-highlight-color: transparent; background-color: rgb(230, 52, 26); border-radius: 100px; display: inline-block; height: 6px; outline: 0px; overflow: hidden; vertical-align: top; width: 6px\"> \\n         <svg style=\"float: left; line-height: 0; vertical-align: top; width: 0\" viewbox=\"0 0 1 1\"></svg> \\n        </section> \\n       </section> \\n      </section> \\n      <section style=\"-webkit-tap-highlight-color: transparent; align-self: flex-start; display: inline-block; flex: 0 0 0%; height: auto; line-height: 0; outline: 0px; padding-left: 5px; padding-right: 5px; vertical-align: top; width: auto\"> \\n       <section style=\"-webkit-tap-highlight-color: transparent; outline: 0px; text-align: center\"> \\n        <section style=\"-webkit-tap-highlight-color: transparent; background-color: rgb(230, 52, 26); border-radius: 100px; display: inline-block; height: 6px; outline: 0px; overflow: hidden; vertical-align: top; width: 6px\"> \\n         <svg style=\"float: left; line-height: 0; vertical-align: top; width: 0\" viewbox=\"0 0 1 1\"></svg> \\n        </section> \\n       </section> \\n      </section> \\n     </section> \\n    </section> \\n   </section> \\n   <section style=\"-webkit-tap-highlight-color: transparent; display: flex; flex-flow: row; justify-content: flex-start; margin-bottom: 10px; outline: 0px; text-align: left\"> \\n    <section style=\"-webkit-tap-highlight-color: transparent; align-self: flex-start; border-bottom: 1px solid rgb(255, 214, 125); border-left: 1px solid rgb(255, 214, 125); border-right: 1px solid rgb(255, 214, 125); display: inline-block; flex: 0 0 auto; outline: 0px; padding: 20px; vertical-align: top; width: 578px\"> \\n     <section style=\"-webkit-tap-highlight-color: transparent; line-height: 0; outline: 0px; text-align: justify\"> \\n      <p style=\"-webkit-tap-highlight-color: transparent; outline: 0px; text-align: center\"><span style=\"-webkit-tap-highlight-color: transparent; color: rgb(230, 52, 26); outline: 0px\"><strong style=\"-webkit-tap-highlight-color: transparent; outline: 0px\">推荐</strong><strong style=\"-webkit-tap-highlight-color: transparent; outline: 0px\">阅读</strong></span><br data-filtered=\"filtered\" style=\"-webkit-tap-highlight-color: transparent; outline: 0px\"></p> \\n     </section> \\n     <section style=\"-webkit-tap-highlight-color: transparent; display: flex; flex-flow: row; justify-content: center; margin-bottom: 10px; margin-top: 10px; outline: 0px; text-align: center\"> \\n      <section style=\"-webkit-tap-highlight-color: transparent; align-self: center; display: inline-block; flex: 0 0 auto; height: auto; outline: 0px; vertical-align: middle; width: 177.094px\"> \\n       <section style=\"-webkit-tap-highlight-color: transparent; margin-bottom: 0.5em; margin-top: 0.5em; outline: 0px\"> \\n        <section style=\"-webkit-tap-highlight-color: transparent; background-color: rgb(218, 92, 77); height: 1px; outline: 0px\"> \\n         <svg style=\"float: left; line-height: 0; vertical-align: top; width: 0\" viewbox=\"0 0 1 1\"></svg> \\n        </section> \\n       </section> \\n      </section> \\n      <section style=\"-webkit-tap-highlight-color: transparent; align-self: center; display: inline-block; flex: 0 0 auto; height: auto; line-height: 0; min-width: 10%; outline: 0px; vertical-align: middle; width: auto\"> \\n       <section style=\"-webkit-tap-highlight-color: transparent; outline: 0px\"> \\n        <section style=\"-webkit-tap-highlight-color: transparent; background-color: rgb(218, 92, 77); display: inline-block; height: 8px; outline: 0px; overflow: hidden; vertical-align: top; width: 8px\"> \\n         <svg style=\"float: left; line-height: 0; vertical-align: top; width: 0\" viewbox=\"0 0 1 1\"></svg> \\n        </section> \\n       </section> \\n      </section> \\n      <section style=\"-webkit-tap-highlight-color: transparent; align-self: center; display: inline-block; flex: 0 0 auto; height: auto; outline: 0px; vertical-align: middle; width: 177.094px\"> \\n       <section style=\"-webkit-tap-highlight-color: transparent; margin-bottom: 0.5em; margin-top: 0.5em; outline: 0px\"> \\n        <section style=\"-webkit-tap-highlight-color: transparent; background-color: rgb(218, 92, 77); height: 1px; outline: 0px\"> \\n         <svg style=\"float: left; line-height: 0; vertical-align: top; width: 0\" viewbox=\"0 0 1 1\"></svg> \\n        </section> \\n       </section> \\n      </section> \\n     </section> \\n     <section style=\"-webkit-tap-highlight-color: transparent; outline: 0px\"> \\n      <p style=\"-webkit-tap-highlight-color: transparent; letter-spacing: 0.544px; outline: 0px\"><strong style=\"-webkit-tap-highlight-color: transparent; outline: 0px\"> \\n        <!--LINK_0--></strong><strong style=\"-webkit-tap-highlight-color: transparent; outline: 0px\"><strong><span style=\"letter-spacing: 0.544px; text-decoration-color: rgb(87, 107, 149); text-decoration-style: solid\"> \\n          <!--LINK_1--></span></strong></strong></p> \\n      <p style=\"-webkit-tap-highlight-color: transparent; letter-spacing: 0.544px; outline: 0px\"><strong style=\"-webkit-tap-highlight-color: transparent; outline: 0px\"> \\n        <!--LINK_2--></strong><strong style=\"-webkit-tap-highlight-color: transparent; outline: 0px\"><strong><span style=\"letter-spacing: 0.544px; text-decoration-color: rgb(87, 107, 149); text-decoration-style: solid\"> \\n          <!--LINK_3--></span></strong></strong></p> \\n      <p style=\"-webkit-tap-highlight-color: transparent; letter-spacing: 0.544px; outline: 0px\"><strong style=\"-webkit-tap-highlight-color: transparent; outline: 0px\"><span style=\"-webkit-tap-highlight-color: transparent; color: rgb(121, 123, 170); font-size: 14px; outline: 0px\">▼<strong><span style=\"letter-spacing: 0.544px; text-decoration-color: rgb(87, 107, 149); text-decoration-style: solid\"> \\n           <!--LINK_4--></span></strong></span></strong></p> \\n      <p style=\"-webkit-tap-highlight-color: transparent; outline: 0px\"><img src=\"https://inews.gtimg.com/om_bt/OmtgIpcqkCazEfh-8REKsj8YrOjtZFcT6Myueizx-az48AA/641\"></p> \\n     </section> \\n    </section> \\n   </section> \\n  </section> \\n  <section style=\"-webkit-tap-highlight-color: transparent; background-color: rgb(255, 255, 255); letter-spacing: 0.578px; margin-bottom: 0px; outline: 0px; text-wrap: wrap\"> \\n   <section style=\"-webkit-tap-highlight-color: transparent; outline: 0px\"> \\n    <p style=\"-webkit-tap-highlight-color: transparent; letter-spacing: 0.544px; outline: 0px\"><span style=\"-webkit-tap-highlight-color: transparent; color: rgb(136, 136, 136); font-size: 16px; letter-spacing: 0.578px; outline: 0px\">来源：中国环境APP</span></p> \\n   </section> \\n   <section style=\"-webkit-tap-highlight-color: transparent; outline: 0px\"> \\n    <p style=\"-webkit-tap-highlight-color: transparent; outline: 0px\"><span style=\"-webkit-tap-highlight-color: transparent; color: rgb(136, 136, 136); font-size: 16px; outline: 0px\">编辑：张黎</span></p> \\n   </section> \\n   <section style=\"-webkit-tap-highlight-color: transparent; letter-spacing: 0.544px; line-height: 0; margin-bottom: 10px; margin-top: 10px; outline: 0px; text-align: center\"> \\n    <section style=\"-webkit-tap-highlight-color: transparent; display: inline-block; line-height: 0; outline: 0px; vertical-align: middle\"> \\n     <img src=\"https://inews.gtimg.com/om_bt/OsQeLxc-J7DBHstGGyXgtWbdNSzMxpkQKA27jqyh_xKLYAA/641\"> \\n    </section> \\n   </section> \\n  </section> \\n  <p><br></p> \\n  <p style=\"display: none\"> \\n   <!--NO_AD_0--> \\n   <!--NO_AD_1--> \\n   <!--NO_AD_2--> \\n   <!--NO_AD_3--> \\n   <!--NO_AD_4--> \\n   <!--EOP_0--> \\n   <!--EOP_1--> \\n   <!--EOP_2--> \\n   <!--EOP_3--> \\n   <!--EOP_4--></p> \\n  <!--PARAGRAPH_4--> \\n  <!--PARAGRAPH_3--> \\n  <!--PARAGRAPH_2--> \\n  <!--PARAGRAPH_1--> \\n  <!--PARAGRAPH_0--> \\n  <style>.rich_media_content{color:#000000e5;font-size:var(--articleFontsize);overflow:hidden;text-align:justify}.rich_media_content{color:var(--weui-FG-HALF)}.rich_media_content{position:relative;z-index:0}.data_color_scheme_dark{--weui-BTN-ACTIVE-MASK: rgba(255, 255, 255, .1)}.data_color_scheme_dark{--weui-BTN-DEFAULT-ACTIVE-BG: rgba(255, 255, 255, .126)}.data_color_scheme_dark{--weui-DIALOG-LINE-COLOR: rgba(255, 255, 255, .1)}.data_color_scheme_dark{--weui-BG-COLOR-ACTIVE: #373737}.data_color_scheme_dark{--weui-BG-6: rgba(255, 255, 255, .1);--weui-ACTIVE-MASK: rgba(255, 255, 255, .1)}.data_color_scheme_dark{--weui-BG-0: #111;--weui-BG-1: #1e1e1e;--weui-BG-5: #2c2c2c;--weui-RED: #fa5151;--weui-ORANGERED: #ff6146;--weui-ORANGE: #c87d2f;--weui-YELLOW: #cc9c00;--weui-GREEN: #74a800;--weui-LIGHTGREEN: #3eb575;--weui-BRAND: #07c160;--weui-BLUE: #10aeff;--weui-INDIGO: #1196ff;--weui-PURPLE: #8183ff;--weui-LINK: #7d90a9;--weui-TEXTGREEN: #259c5c;--weui-REDORANGE: #ff6146;--weui-BG-0: #111111;--weui-BG-1: #1E1E1E;--weui-BG-2: #191919;--weui-BG-3: #202020;--weui-BG-4: #404040;--weui-BG-5: #2C2C2C;--weui-BLUE-100: #10AEFF;--weui-BLUE-120: #0C8BCC;--weui-BLUE-170: #04344D;--weui-BLUE-80: #3FBEFF;--weui-BLUE-90: #28B6FF;--weui-BLUE-BG-100: #48A6E2;--weui-BLUE-BG-110: #4095CB;--weui-BLUE-BG-130: #32749E;--weui-BLUE-BG-90: #5AAFE4;--weui-BRAND-100: #07C160;--weui-BRAND-120: #059A4C;--weui-BRAND-170: #023A1C;--weui-BRAND-80: #38CD7F;--weui-BRAND-90: #20C770;--weui-BRAND-BG-100: #2AAE67;--weui-BRAND-BG-110: #259C5C;--weui-BRAND-BG-130: #1D7A48;--weui-BRAND-BG-90: #3EB575;--weui-FG-0: rgba(255, 255, 255, .8);--weui-FG-0_5: rgba(255, 255, 255, .6);--weui-FG-1: rgba(255, 255, 255, .5);--weui-FG-2: rgba(255, 255, 255, .3);--weui-FG-3: rgba(255, 255, 255, .1);--weui-FG-4: rgba(255, 255, 255, .15);--weui-GLYPH-0: rgba(255, 255, 255, .8);--weui-GLYPH-1: rgba(255, 255, 255, .5);--weui-GLYPH-2: rgba(255, 255, 255, .3);--weui-GLYPH-WHITE-0: rgba(255, 255, 255, .8);--weui-GLYPH-WHITE-1: rgba(255, 255, 255, .5);--weui-GLYPH-WHITE-2: rgba(255, 255, 255, .3);--weui-GLYPH-WHITE-3: #FFFFFF;--weui-GREEN-100: #74A800;--weui-GREEN-120: #5C8600;--weui-GREEN-170: #233200;--weui-GREEN-80: #8FB933;--weui-GREEN-90: #82B01A;--weui-GREEN-BG-100: #789833;--weui-GREEN-BG-110: #6B882D;--weui-GREEN-BG-130: #65802B;--weui-GREEN-BG-90: #85A247;--weui-INDIGO-100: #1196FF;--weui-INDIGO-120: #0D78CC;--weui-INDIGO-170: #052D4D;--weui-INDIGO-80: #40ABFF;--weui-INDIGO-90: #28A0FF;--weui-INDIGO-BG-100: #0D78CC;--weui-INDIGO-BG-110: #0B6BB7;--weui-INDIGO-BG-130: #09548F;--weui-INDIGO-BG-90: #2585D1;--weui-LIGHTGREEN-100: #3EB575;--weui-LIGHTGREEN-120: #31905D;--weui-LIGHTGREEN-170: #123522;--weui-LIGHTGREEN-80: #64C390;--weui-LIGHTGREEN-90: #51BC83;--weui-LIGHTGREEN-BG-100: #31905D;--weui-LIGHTGREEN-BG-110: #2C8153;--weui-LIGHTGREEN-BG-130: #226541;--weui-LIGHTGREEN-BG-90: #31905D;--weui-LINK-100: #7D90A9;--weui-LINK-120: #647387;--weui-LINK-170: #252A32;--weui-LINK-80: #97A6BA;--weui-LINK-90: #899AB1;--weui-LINKFINDER-100: #DEE9FF;--weui-MATERIAL-ATTACHMENTCOLUMN: rgba(32, 32, 32, .93);--weui-MATERIAL-NAVIGATIONBAR: rgba(18, 18, 18, .9);--weui-MATERIAL-REGULAR: rgba(37, 37, 37, .6);--weui-MATERIAL-THICK: rgba(34, 34, 34, .9);--weui-MATERIAL-THIN: rgba(95, 95, 95, .4);--weui-MATERIAL-TOOLBAR: rgba(35, 35, 35, .93);--weui-ORANGE-100: #C87D2F;--weui-ORANGE-120: #A06425;--weui-ORANGE-170: #3B250E;--weui-ORANGE-80: #D39758;--weui-ORANGE-90: #CD8943;--weui-ORANGE-BG-100: #BB6000;--weui-ORANGE-BG-110: #A85600;--weui-ORANGE-BG-130: #824300;--weui-ORANGE-BG-90: #C1701A;--weui-ORANGERED-100: #FF6146;--weui-OVERLAY: rgba(0, 0, 0, .8);--weui-OVERLAY-WHITE: rgba(242, 242, 242, .8);--weui-PURPLE-100: #8183FF;--weui-PURPLE-120: #6768CC;--weui-PURPLE-170: #26274C;--weui-PURPLE-80: #9A9BFF;--weui-PURPLE-90: #8D8FFF;--weui-PURPLE-BG-100: #6768CC;--weui-PURPLE-BG-110: #5C5DB7;--weui-PURPLE-BG-130: #48498F;--weui-PURPLE-BG-90: #7677D1;--weui-RED-100: #FA5151;--weui-RED-120: #C84040;--weui-RED-170: #4B1818;--weui-RED-80: #FB7373;--weui-RED-90: #FA6262;--weui-RED-BG-100: #CF5148;--weui-RED-BG-110: #BA4940;--weui-RED-BG-130: #913832;--weui-RED-BG-90: #D3625A;--weui-SECONDARY-BG: rgba(255, 255, 255, .1);--weui-SEPARATOR-0: rgba(255, 255, 255, .05);--weui-SEPARATOR-1: rgba(255, 255, 255, .15);--weui-STATELAYER-HOVERED: rgba(0, 0, 0, .02);--weui-STATELAYER-PRESSED: rgba(255, 255, 255, .1);--weui-STATELAYER-PRESSEDSTRENGTHENED: rgba(255, 255, 255, .2);--weui-YELLOW-100: #CC9C00;--weui-YELLOW-120: #A37C00;--weui-YELLOW-170: #3D2F00;--weui-YELLOW-80: #D6AF33;--weui-YELLOW-90: #D1A519;--weui-YELLOW-BG-100: #BF9100;--weui-YELLOW-BG-110: #AB8200;--weui-YELLOW-BG-130: #866500;--weui-YELLOW-BG-90: #C59C1A;--weui-FG-HALF: rgba(255, 255, 255, .6);--weui-RED: #FA5151;--weui-ORANGERED: #FF6146;--weui-ORANGE: #C87D2F;--weui-YELLOW: #CC9C00;--weui-GREEN: #74A800;--weui-LIGHTGREEN: #3EB575;--weui-TEXTGREEN: #259C5C;--weui-BRAND: #07C160;--weui-BLUE: #10AEFF;--weui-INDIGO: #1196FF;--weui-PURPLE: #8183FF;--weui-LINK: #7D90A9;--weui-REDORANGE: #FF6146;--weui-TAG-TEXT-BLACK: rgba(255, 255, 255, .5);--weui-TAG-BACKGROUND-BLACK: rgba(255, 255, 255, .05);--weui-WHITE: rgba(255, 255, 255, .8);--weui-FG: #fff;--weui-BG: #000;--weui-FG-5: rgba(255, 255, 255, .1);--weui-TAG-BACKGROUND-ORANGE: rgba(250, 157, 59, .1);--weui-TAG-BACKGROUND-GREEN: rgba(6, 174, 86, .1);--weui-TAG-TEXT-RED: rgba(250, 81, 81, .6);--weui-TAG-BACKGROUND-RED: rgba(250, 81, 81, .1);--weui-TAG-BACKGROUND-BLUE: rgba(16, 174, 255, .1);--weui-TAG-TEXT-ORANGE: rgba(250, 157, 59, .6);--weui-TAG-TEXT-GREEN: rgba(6, 174, 86, .6);--weui-TAG-TEXT-BLUE: rgba(16, 174, 255, .6)}.data_color_scheme_dark{--weui-BG-0: #111111;--weui-BG-1: #1E1E1E;--weui-BG-2: #191919;--weui-BG-3: #202020;--weui-BG-4: #404040;--weui-BG-5: #2C2C2C;--weui-BLUE-100: #10AEFF;--weui-BLUE-120: #0C8BCC;--weui-BLUE-170: #04344D;--weui-BLUE-80: #3FBEFF;--weui-BLUE-90: #28B6FF;--weui-BLUE-BG-100: #48A6E2;--weui-BLUE-BG-110: #4095CB;--weui-BLUE-BG-130: #32749E;--weui-BLUE-BG-90: #5AAFE4;--weui-BRAND-100: #07C160;--weui-BRAND-120: #059A4C;--weui-BRAND-170: #023A1C;--weui-BRAND-80: #38CD7F;--weui-BRAND-90: #20C770;--weui-BRAND-BG-100: #2AAE67;--weui-BRAND-BG-110: #259C5C;--weui-BRAND-BG-130: #1D7A48;--weui-BRAND-BG-90: #3EB575;--weui-FG-0: rgba(255, 255, 255, .8);--weui-FG-0_5: rgba(255, 255, 255, .6);--weui-FG-1: rgba(255, 255, 255, .5);--weui-FG-2: rgba(255, 255, 255, .3);--weui-FG-3: rgba(255, 255, 255, .1);--weui-FG-4: rgba(255, 255, 255, .15);--weui-GLYPH-0: rgba(255, 255, 255, .8);--weui-GLYPH-1: rgba(255, 255, 255, .5);--weui-GLYPH-2: rgba(255, 255, 255, .3);--weui-GLYPH-WHITE-0: rgba(255, 255, 255, .8);--weui-GLYPH-WHITE-1: rgba(255, 255, 255, .5);--weui-GLYPH-WHITE-2: rgba(255, 255, 255, .3);--weui-GLYPH-WHITE-3: #FFFFFF;--weui-GREEN-100: #74A800;--weui-GREEN-120: #5C8600;--weui-GREEN-170: #233200;--weui-GREEN-80: #8FB933;--weui-GREEN-90: #82B01A;--weui-GREEN-BG-100: #789833;--weui-GREEN-BG-110: #6B882D;--weui-GREEN-BG-130: #65802B;--weui-GREEN-BG-90: #85A247;--weui-INDIGO-100: #1196FF;--weui-INDIGO-120: #0D78CC;--weui-INDIGO-170: #052D4D;--weui-INDIGO-80: #40ABFF;--weui-INDIGO-90: #28A0FF;--weui-INDIGO-BG-100: #0D78CC;--weui-INDIGO-BG-110: #0B6BB7;--weui-INDIGO-BG-130: #09548F;--weui-INDIGO-BG-90: #2585D1;--weui-LIGHTGREEN-100: #3EB575;--weui-LIGHTGREEN-120: #31905D;--weui-LIGHTGREEN-170: #123522;--weui-LIGHTGREEN-80: #64C390;--weui-LIGHTGREEN-90: #51BC83;--weui-LIGHTGREEN-BG-100: #31905D;--weui-LIGHTGREEN-BG-110: #2C8153;--weui-LIGHTGREEN-BG-130: #226541;--weui-LIGHTGREEN-BG-90: #31905D;--weui-LINK-100: #7D90A9;--weui-LINK-120: #647387;--weui-LINK-170: #252A32;--weui-LINK-80: #97A6BA;--weui-LINK-90: #899AB1;--weui-LINKFINDER-100: #DEE9FF;--weui-MATERIAL-ATTACHMENTCOLUMN: rgba(32, 32, 32, .93);--weui-MATERIAL-NAVIGATIONBAR: rgba(18, 18, 18, .9);--weui-MATERIAL-REGULAR: rgba(37, 37, 37, .6);--weui-MATERIAL-THICK: rgba(34, 34, 34, .9);--weui-MATERIAL-THIN: rgba(95, 95, 95, .4);--weui-MATERIAL-TOOLBAR: rgba(35, 35, 35, .93);--weui-ORANGE-100: #C87D2F;--weui-ORANGE-120: #A06425;--weui-ORANGE-170: #3B250E;--weui-ORANGE-80: #D39758;--weui-ORANGE-90: #CD8943;--weui-ORANGE-BG-100: #BB6000;--weui-ORANGE-BG-110: #A85600;--weui-ORANGE-BG-130: #824300;--weui-ORANGE-BG-90: #C1701A;--weui-ORANGERED-100: #FF6146;--weui-OVERLAY: rgba(0, 0, 0, .8);--weui-OVERLAY-WHITE: rgba(242, 242, 242, .8);--weui-PURPLE-100: #8183FF;--weui-PURPLE-120: #6768CC;--weui-PURPLE-170: #26274C;--weui-PURPLE-80: #9A9BFF;--weui-PURPLE-90: #8D8FFF;--weui-PURPLE-BG-100: #6768CC;--weui-PURPLE-BG-110: #5C5DB7;--weui-PURPLE-BG-130: #48498F;--weui-PURPLE-BG-90: #7677D1;--weui-RED-100: #FA5151;--weui-RED-120: #C84040;--weui-RED-170: #4B1818;--weui-RED-80: #FB7373;--weui-RED-90: #FA6262;--weui-RED-BG-100: #CF5148;--weui-RED-BG-110: #BA4940;--weui-RED-BG-130: #913832;--weui-RED-BG-90: #D3625A;--weui-SECONDARY-BG: rgba(255, 255, 255, .1);--weui-SEPARATOR-0: rgba(255, 255, 255, .05);--weui-SEPARATOR-1: rgba(255, 255, 255, .15);--weui-STATELAYER-HOVERED: rgba(0, 0, 0, .02);--weui-STATELAYER-PRESSED: rgba(255, 255, 255, .1);--weui-STATELAYER-PRESSEDSTRENGTHENED: rgba(255, 255, 255, .2);--weui-YELLOW-100: #CC9C00;--weui-YELLOW-120: #A37C00;--weui-YELLOW-170: #3D2F00;--weui-YELLOW-80: #D6AF33;--weui-YELLOW-90: #D1A519;--weui-YELLOW-BG-100: #BF9100;--weui-YELLOW-BG-110: #AB8200;--weui-YELLOW-BG-130: #866500;--weui-YELLOW-BG-90: #C59C1A;--weui-FG-HALF: rgba(255, 255, 255, .6);--weui-RED: #FA5151;--weui-ORANGERED: #FF6146;--weui-ORANGE: #C87D2F;--weui-YELLOW: #CC9C00;--weui-GREEN: #74A800;--weui-LIGHTGREEN: #3EB575;--weui-TEXTGREEN: #259C5C;--weui-BRAND: #07C160;--weui-BLUE: #10AEFF;--weui-INDIGO: #1196FF;--weui-PURPLE: #8183FF;--weui-LINK: #7D90A9;--weui-REDORANGE: #FF6146;--weui-TAG-TEXT-BLACK: rgba(255, 255, 255, .5);--weui-TAG-BACKGROUND-BLACK: rgba(255, 255, 255, .05);--weui-WHITE: rgba(255, 255, 255, .8);--weui-FG: #fff;--weui-BG: #000;--weui-FG-5: rgba(255, 255, 255, .1);--weui-TAG-BACKGROUND-ORANGE: rgba(250, 157, 59, .1);--weui-TAG-BACKGROUND-GREEN: rgba(6, 174, 86, .1);--weui-TAG-TEXT-RED: rgba(250, 81, 81, .6);--weui-TAG-BACKGROUND-RED: rgba(250, 81, 81, .1);--weui-TAG-BACKGROUND-BLUE: rgba(16, 174, 255, .1);--weui-TAG-TEXT-ORANGE: rgba(250, 157, 59, .6);--weui-TAG-TEXT-GREEN: rgba(6, 174, 86, .6);--weui-TAG-TEXT-BLUE: rgba(16, 174, 255, .6)}.data_color_scheme_dark{--weui-elpsColor: rgba(255, 255, 255, .8)}.data_color_scheme_dark{--weui-mask-elpsColor: rgba(255, 255, 255, .8);--weui-mask-gradient: linear-gradient(to right, rgba(25, 25, 25, 0), #191919 40%)}.data_color_scheme_dark{--weui-BG-0: #111111;--weui-BG-1: #1E1E1E;--weui-BG-2: #191919;--weui-BG-3: #202020;--weui-BG-4: #404040;--weui-BG-5: #2C2C2C;--weui-BLUE-100: #10AEFF;--weui-BLUE-120: #0C8BCC;--weui-BLUE-170: #04344D;--weui-BLUE-80: #3FBEFF;--weui-BLUE-90: #28B6FF;--weui-BLUE-BG-100: #48A6E2;--weui-BLUE-BG-110: #4095CB;--weui-BLUE-BG-130: #32749E;--weui-BLUE-BG-90: #5AAFE4;--weui-BRAND-100: #07C160;--weui-BRAND-120: #059A4C;--weui-BRAND-170: #023A1C;--weui-BRAND-80: #38CD7F;--weui-BRAND-90: #20C770;--weui-BRAND-BG-100: #2AAE67;--weui-BRAND-BG-110: #259C5C;--weui-BRAND-BG-130: #1D7A48;--weui-BRAND-BG-90: #3EB575;--weui-FG-0: rgba(255, 255, 255, .8);--weui-FG-0_5: rgba(255, 255, 255, .6);--weui-FG-1: rgba(255, 255, 255, .5);--weui-FG-2: rgba(255, 255, 255, .3);--weui-FG-3: rgba(255, 255, 255, .1);--weui-FG-4: rgba(255, 255, 255, .15);--weui-GLYPH-0: rgba(255, 255, 255, .8);--weui-GLYPH-1: rgba(255, 255, 255, .5);--weui-GLYPH-2: rgba(255, 255, 255, .3);--weui-GLYPH-WHITE-0: rgba(255, 255, 255, .8);--weui-GLYPH-WHITE-1: rgba(255, 255, 255, .5);--weui-GLYPH-WHITE-2: rgba(255, 255, 255, .3);--weui-GLYPH-WHITE-3: #FFFFFF;--weui-GREEN-100: #74A800;--weui-GREEN-120: #5C8600;--weui-GREEN-170: #233200;--weui-GREEN-80: #8FB933;--weui-GREEN-90: #82B01A;--weui-GREEN-BG-100: #789833;--weui-GREEN-BG-110: #6B882D;--weui-GREEN-BG-130: #65802B;--weui-GREEN-BG-90: #85A247;--weui-INDIGO-100: #1196FF;--weui-INDIGO-120: #0D78CC;--weui-INDIGO-170: #052D4D;--weui-INDIGO-80: #40ABFF;--weui-INDIGO-90: #28A0FF;--weui-INDIGO-BG-100: #0D78CC;--weui-INDIGO-BG-110: #0B6BB7;--weui-INDIGO-BG-130: #09548F;--weui-INDIGO-BG-90: #2585D1;--weui-LIGHTGREEN-100: #3EB575;--weui-LIGHTGREEN-120: #31905D;--weui-LIGHTGREEN-170: #123522;--weui-LIGHTGREEN-80: #64C390;--weui-LIGHTGREEN-90: #51BC83;--weui-LIGHTGREEN-BG-100: #31905D;--weui-LIGHTGREEN-BG-110: #2C8153;--weui-LIGHTGREEN-BG-130: #226541;--weui-LIGHTGREEN-BG-90: #31905D;--weui-LINK-100: #7D90A9;--weui-LINK-120: #647387;--weui-LINK-170: #252A32;--weui-LINK-80: #97A6BA;--weui-LINK-90: #899AB1;--weui-LINKFINDER-100: #DEE9FF;--weui-MATERIAL-ATTACHMENTCOLUMN: rgba(32, 32, 32, .93);--weui-MATERIAL-NAVIGATIONBAR: rgba(18, 18, 18, .9);--weui-MATERIAL-REGULAR: rgba(37, 37, 37, .6);--weui-MATERIAL-THICK: rgba(34, 34, 34, .9);--weui-MATERIAL-THIN: rgba(95, 95, 95, .4);--weui-MATERIAL-TOOLBAR: rgba(35, 35, 35, .93);--weui-ORANGE-100: #C87D2F;--weui-ORANGE-120: #A06425;--weui-ORANGE-170: #3B250E;--weui-ORANGE-80: #D39758;--weui-ORANGE-90: #CD8943;--weui-ORANGE-BG-100: #BB6000;--weui-ORANGE-BG-110: #A85600;--weui-ORANGE-BG-130: #824300;--weui-ORANGE-BG-90: #C1701A;--weui-ORANGERED-100: #FF6146;--weui-OVERLAY: rgba(0, 0, 0, .8);--weui-OVERLAY-WHITE: rgba(242, 242, 242, .8);--weui-PURPLE-100: #8183FF;--weui-PURPLE-120: #6768CC;--weui-PURPLE-170: #26274C;--weui-PURPLE-80: #9A9BFF;--weui-PURPLE-90: #8D8FFF;--weui-PURPLE-BG-100: #6768CC;--weui-PURPLE-BG-110: #5C5DB7;--weui-PURPLE-BG-130: #48498F;--weui-PURPLE-BG-90: #7677D1;--weui-RED-100: #FA5151;--weui-RED-120: #C84040;--weui-RED-170: #4B1818;--weui-RED-80: #FB7373;--weui-RED-90: #FA6262;--weui-RED-BG-100: #CF5148;--weui-RED-BG-110: #BA4940;--weui-RED-BG-130: #913832;--weui-RED-BG-90: #D3625A;--weui-SECONDARY-BG: rgba(255, 255, 255, .1);--weui-SEPARATOR-0: rgba(255, 255, 255, .05);--weui-SEPARATOR-1: rgba(255, 255, 255, .15);--weui-STATELAYER-HOVERED: rgba(0, 0, 0, .02);--weui-STATELAYER-PRESSED: rgba(255, 255, 255, .1);--weui-STATELAYER-PRESSEDSTRENGTHENED: rgba(255, 255, 255, .2);--weui-YELLOW-100: #CC9C00;--weui-YELLOW-120: #A37C00;--weui-YELLOW-170: #3D2F00;--weui-YELLOW-80: #D6AF33;--weui-YELLOW-90: #D1A519;--weui-YELLOW-BG-100: #BF9100;--weui-YELLOW-BG-110: #AB8200;--weui-YELLOW-BG-130: #866500;--weui-YELLOW-BG-90: #C59C1A;--weui-FG-HALF: rgba(255, 255, 255, .6);--weui-RED: #FA5151;--weui-ORANGERED: #FF6146;--weui-ORANGE: #C87D2F;--weui-YELLOW: #CC9C00;--weui-GREEN: #74A800;--weui-LIGHTGREEN: #3EB575;--weui-TEXTGREEN: #259C5C;--weui-BRAND: #07C160;--weui-BLUE: #10AEFF;--weui-INDIGO: #1196FF;--weui-PURPLE: #8183FF;--weui-LINK: #7D90A9;--weui-REDORANGE: #FF6146;--weui-TAG-TEXT-BLACK: rgba(255, 255, 255, .5);--weui-TAG-BACKGROUND-BLACK: rgba(255, 255, 255, .05);--weui-WHITE: rgba(255, 255, 255, .8);--weui-FG: #fff;--weui-BG: #000;--weui-FG-5: rgba(255, 255, 255, .1);--weui-TAG-BACKGROUND-ORANGE: rgba(250, 157, 59, .1);--weui-TAG-BACKGROUND-GREEN: rgba(6, 174, 86, .1);--weui-TAG-TEXT-RED: rgba(250, 81, 81, .6);--weui-TAG-BACKGROUND-RED: rgba(250, 81, 81, .1);--weui-TAG-BACKGROUND-BLUE: rgba(16, 174, 255, .1);--weui-TAG-TEXT-ORANGE: rgba(250, 157, 59, .6);--weui-TAG-TEXT-GREEN: rgba(6, 174, 86, .6);--weui-TAG-TEXT-BLUE: rgba(16, 174, 255, .6)}.wxw-img{vertical-align:bottom}a{color:#576b95;text-decoration:none;-webkit-tap-highlight-color:#0000;-webkit-user-drag:none}a{color:var(--weui-LINK)}a{cursor:default}*{margin:0;padding:0}.rich_media_content *{max-width:100%!important;box-sizing:border-box!important;-webkit-box-sizing:border-box!important;word-wrap:break-word!important}@media(prefers-color-scheme:dark){:root{--win-scrollbar-hover-bgcolor: rgba(255, 255, 255, .55);--win-scrollbar-bgcolor: rgba(255, 255, 255, .5)}}@media screen and (min-width:1024px){body:not(.pages_skin_pc) :root{--appmsgPageGap: 20px;--appmsgPageBottomGap: 40px}}:root{--articleFontsize: 17px}:root{--sab: env(safe-area-inset-bottom)}:root{--win-scrollbar-hover-bgcolor: rgba(0, 0, 0, .55);--win-scrollbar-bgcolor: rgba(0, 0, 0, .5)}:root{--wxBorderAvatarRatio: 3}:root{--discussPageGap: 20px}:root{--immersive-safe-bottom: env(safe-area-inset-bottom)}:root{--immersive-safe-bottom: env(safe-area-inset-bottom);--pc-drawer-comment-topbar-height: 40px}:root{--appmsgPageGap: 20px;--appmsgPageBottomGap: 40px}@media(prefers-color-scheme:dark){.wx-root:not([data-weui-theme=light]),body:not([data-weui-theme=light]){--weui-BG-0: #111;--weui-BG-1: #1e1e1e;--weui-BG-2: #191919;--weui-BG-3: #202020;--weui-BG-4: #404040;--weui-BG-5: #2c2c2c;--weui-BLUE-100: #10aeff;--weui-BLUE-120: #0c8bcc;--weui-BLUE-170: #04344d;--weui-BLUE-80: #3fbeff;--weui-BLUE-90: #28b6ff;--weui-BLUE-BG-100: #48a6e2;--weui-BLUE-BG-110: #4095cb;--weui-BLUE-BG-130: #32749e;--weui-BLUE-BG-90: #5aafe4;--weui-BRAND-100: #07c160;--weui-BRAND-120: #059a4c;--weui-BRAND-170: #023a1c;--weui-BRAND-80: #38cd7f;--weui-BRAND-90: #20c770;--weui-BRAND-BG-100: #2aae67;--weui-BRAND-BG-110: #259c5c;--weui-BRAND-BG-130: #1d7a48;--weui-BRAND-BG-90: #3eb575;--weui-FG-0: hsla(0,0%,100%,.8);--weui-FG-0_5: hsla(0,0%,100%,.6);--weui-FG-1: hsla(0,0%,100%,.5);--weui-FG-2: hsla(0,0%,100%,.3);--weui-FG-3: hsla(0,0%,100%,.1);--weui-FG-4: hsla(0,0%,100%,.15);--weui-GLYPH-0: hsla(0,0%,100%,.8);--weui-GLYPH-1: hsla(0,0%,100%,.5);--weui-GLYPH-2: hsla(0,0%,100%,.3);--weui-GLYPH-WHITE-0: hsla(0,0%,100%,.8);--weui-GLYPH-WHITE-1: hsla(0,0%,100%,.5);--weui-GLYPH-WHITE-2: hsla(0,0%,100%,.3);--weui-GLYPH-WHITE-3: #fff;--weui-GREEN-100: #74a800;--weui-GREEN-120: #5c8600;--weui-GREEN-170: #233200;--weui-GREEN-80: #8fb933;--weui-GREEN-90: #82b01a;--weui-GREEN-BG-100: #789833;--weui-GREEN-BG-110: #6b882d;--weui-GREEN-BG-130: #65802b;--weui-GREEN-BG-90: #85a247;--weui-INDIGO-100: #1196ff;--weui-INDIGO-120: #0d78cc;--weui-INDIGO-170: #052d4d;--weui-INDIGO-80: #40abff;--weui-INDIGO-90: #28a0ff;--weui-INDIGO-BG-100: #0d78cc;--weui-INDIGO-BG-110: #0b6bb7;--weui-INDIGO-BG-130: #09548f;--weui-INDIGO-BG-90: #2585d1;--weui-LIGHTGREEN-100: #3eb575;--weui-LIGHTGREEN-120: #31905d;--weui-LIGHTGREEN-170: #123522;--weui-LIGHTGREEN-80: #64c390;--weui-LIGHTGREEN-90: #51bc83;--weui-LIGHTGREEN-BG-100: #31905d;--weui-LIGHTGREEN-BG-110: #2c8153;--weui-LIGHTGREEN-BG-130: #226541;--weui-LIGHTGREEN-BG-90: #31905d;--weui-LINK-100: #7d90a9;--weui-LINK-120: #647387;--weui-LINK-170: #252a32;--weui-LINK-80: #97a6ba;--weui-LINK-90: #899ab1;--weui-LINKFINDER-100: #dee9ff;--weui-MATERIAL-ATTACHMENTCOLUMN: rgba(32,32,32,.93);--weui-MATERIAL-NAVIGATIONBAR: rgba(18,18,18,.9);--weui-MATERIAL-REGULAR: rgba(37,37,37,.6);--weui-MATERIAL-THICK: rgba(34,34,34,.9);--weui-MATERIAL-THIN: rgba(95,95,95,.4);--weui-MATERIAL-TOOLBAR: rgba(35,35,35,.93);--weui-ORANGE-100: #c87d2f;--weui-ORANGE-120: #a06425;--weui-ORANGE-170: #3b250e;--weui-ORANGE-80: #d39758;--weui-ORANGE-90: #cd8943;--weui-ORANGE-BG-100: #bb6000;--weui-ORANGE-BG-110: #a85600;--weui-ORANGE-BG-130: #824300;--weui-ORANGE-BG-90: #c1701a;--weui-ORANGERED-100: #ff6146;--weui-OVERLAY: rgba(0,0,0,.8);--weui-OVERLAY-WHITE: hsla(0,0%,94.9%,.8);--weui-PURPLE-100: #8183ff;--weui-PURPLE-120: #6768cc;--weui-PURPLE-170: #26274c;--weui-PURPLE-80: #9a9bff;--weui-PURPLE-90: #8d8fff;--weui-PURPLE-BG-100: #6768cc;--weui-PURPLE-BG-110: #5c5db7;--weui-PURPLE-BG-130: #48498f;--weui-PURPLE-BG-90: #7677d1;--weui-RED-100: #fa5151;--weui-RED-120: #c84040;--weui-RED-170: #4b1818;--weui-RED-80: #fb7373;--weui-RED-90: #fa6262;--weui-RED-BG-100: #cf5148;--weui-RED-BG-110: #ba4940;--weui-RED-BG-130: #913832;--weui-RED-BG-90: #d3625a;--weui-SECONDARY-BG: hsla(0,0%,100%,.1);--weui-SEPARATOR-0: hsla(0,0%,100%,.05);--weui-SEPARATOR-1: hsla(0,0%,100%,.15);--weui-STATELAYER-HOVERED: rgba(0,0,0,.02);--weui-STATELAYER-PRESSED: hsla(0,0%,100%,.1);--weui-STATELAYER-PRESSEDSTRENGTHENED: hsla(0,0%,100%,.2);--weui-YELLOW-100: #cc9c00;--weui-YELLOW-120: #a37c00;--weui-YELLOW-170: #3d2f00;--weui-YELLOW-80: #d6af33;--weui-YELLOW-90: #d1a519;--weui-YELLOW-BG-100: #bf9100;--weui-YELLOW-BG-110: #ab8200;--weui-YELLOW-BG-130: #866500;--weui-YELLOW-BG-90: #c59c1a;--weui-FG-HALF: hsla(0,0%,100%,.6);--weui-RED: #fa5151;--weui-ORANGERED: #ff6146;--weui-ORANGE: #c87d2f;--weui-YELLOW: #cc9c00;--weui-GREEN: #74a800;--weui-LIGHTGREEN: #3eb575;--weui-TEXTGREEN: #259c5c;--weui-BRAND: #07c160;--weui-BLUE: #10aeff;--weui-INDIGO: #1196ff;--weui-PURPLE: #8183ff;--weui-LINK: #7d90a9;--weui-REDORANGE: #ff6146;--weui-TAG-TEXT-BLACK: hsla(0,0%,100%,.5);--weui-TAG-BACKGROUND-BLACK: hsla(0,0%,100%,.05);--weui-WHITE: hsla(0,0%,100%,.8);--weui-FG: #fff;--weui-BG: #000;--weui-FG-5: hsla(0,0%,100%,.1);--weui-TAG-BACKGROUND-ORANGE: rgba(250,157,59,.1);--weui-TAG-BACKGROUND-GREEN: rgba(6,174,86,.1);--weui-TAG-TEXT-RED: rgba(250,81,81,.6);--weui-TAG-BACKGROUND-RED: rgba(250,81,81,.1);--weui-TAG-BACKGROUND-BLUE: rgba(16,174,255,.1);--weui-TAG-TEXT-ORANGE: rgba(250,157,59,.6);--weui-TAG-TEXT-GREEN: rgba(6,174,86,.6);--weui-TAG-TEXT-BLUE: rgba(16,174,255,.6)}}body,.wx-root,page{--weui-BTN-HEIGHT: 48;--weui-BTN-HEIGHT-MEDIUM: 40;--weui-BTN-HEIGHT-SMALL: 32}body{--weui-elpsLine: 2;--weui-elpsFontSize: 1rem;--weui-elpsColor: rgba(0, 0, 0, .9)}body{--weui-mask-elpsLine: 2;--weui-mask-elpsLineHeight: 1.4;--weui-mask-elpsFontSize: 1rem;--weui-mask-elpsColor: rgba(0, 0, 0, .9);--weui-mask-gradient: linear-gradient(to right, rgba(255, 255, 255, 0), #ffffff 40%)}@media(prefers-color-scheme:dark){body:not([data-weui-theme=light]){--weui-elpsColor: rgba(255, 255, 255, .8)}}@media(prefers-color-scheme:dark){body:not([data-weui-theme=light]){--weui-mask-elpsColor: rgba(255, 255, 255, .8);--weui-mask-gradient: linear-gradient(to right, rgba(25, 25, 25, 0), #191919 40%)}}@media screen and (min-width:1024px){body:not(.pages_skin_pc) body,body:not(.pages_skin_pc) .wx-root{--weui-BG-0: #EDEDED;--weui-BG-1: #F7F7F7;--weui-BG-2: #FFFFFF;--weui-BG-3: #F7F7F7;--weui-BG-4: #4C4C4C;--weui-BG-5: #FFFFFF;--weui-BLUE-100: #10AEFF;--weui-BLUE-120: #3FBEFF;--weui-BLUE-170: #B7E6FF;--weui-BLUE-80: #0C8BCC;--weui-BLUE-90: #0E9CE6;--weui-BLUE-BG-100: #48A6E2;--weui-BLUE-BG-110: #5AAFE4;--weui-BLUE-BG-130: #7FC0EA;--weui-BLUE-BG-90: #4095CB;--weui-BRAND-100: #07C160;--weui-BRAND-120: #38CD7F;--weui-BRAND-170: #B4ECCE;--weui-BRAND-80: #059A4C;--weui-BRAND-90: #06AE56;--weui-BRAND-BG-100: #2AAE67;--weui-BRAND-BG-110: #3EB575;--weui-BRAND-BG-130: #69C694;--weui-BRAND-BG-90: #259C5C;--weui-FG-0: rgba(0, 0, 0, .9);--weui-FG-0_5: rgba(0, 0, 0, .9);--weui-FG-1: rgba(0, 0, 0, .55);--weui-FG-2: rgba(0, 0, 0, .3);--weui-FG-3: rgba(0, 0, 0, .1);--weui-FG-4: rgba(0, 0, 0, .15);--weui-GLYPH-0: rgba(0, 0, 0, .9);--weui-GLYPH-1: rgba(0, 0, 0, .55);--weui-GLYPH-2: rgba(0, 0, 0, .3);--weui-GLYPH-WHITE-0: rgba(255, 255, 255, .8);--weui-GLYPH-WHITE-1: rgba(255, 255, 255, .5);--weui-GLYPH-WHITE-2: rgba(255, 255, 255, .3);--weui-GLYPH-WHITE-3: #FFFFFF;--weui-GREEN-100: #91D300;--weui-GREEN-120: #A7DB33;--weui-GREEN-170: #DEF1B3;--weui-GREEN-80: #74A800;--weui-GREEN-90: #82BD00;--weui-GREEN-BG-100: #96BE40;--weui-GREEN-BG-110: #A0C452;--weui-GREEN-BG-130: #B5D179;--weui-GREEN-BG-90: #86AA39;--weui-INDIGO-100: #1485EE;--weui-INDIGO-120: #439DF1;--weui-INDIGO-170: #B8DAF9;--weui-INDIGO-80: #106ABE;--weui-INDIGO-90: #1277D6;--weui-INDIGO-BG-100: #2B77BF;--weui-INDIGO-BG-110: #3F84C5;--weui-INDIGO-BG-130: #6BA0D2;--weui-INDIGO-BG-90: #266AAB;--weui-LIGHTGREEN-100: #95EC69;--weui-LIGHTGREEN-120: #AAEF87;--weui-LIGHTGREEN-170: #DEF9D1;--weui-LIGHTGREEN-80: #77BC54;--weui-LIGHTGREEN-90: #85D35E;--weui-LIGHTGREEN-BG-100: #72CF60;--weui-LIGHTGREEN-BG-110: #80D370;--weui-LIGHTGREEN-BG-130: #9CDD90;--weui-LIGHTGREEN-BG-90: #66B956;--weui-LINK-100: #576B95;--weui-LINK-120: #7888AA;--weui-LINK-170: #CCD2DE;--weui-LINK-80: #455577;--weui-LINK-90: #4E6085;--weui-LINKFINDER-100: #002666;--weui-MATERIAL-ATTACHMENTCOLUMN: rgba(245, 245, 245, .95);--weui-MATERIAL-NAVIGATIONBAR: rgba(237, 237, 237, .94);--weui-MATERIAL-REGULAR: rgba(247, 247, 247, .3);--weui-MATERIAL-THICK: rgba(247, 247, 247, .8);--weui-MATERIAL-THIN: rgba(255, 255, 255, .2);--weui-MATERIAL-TOOLBAR: rgba(246, 246, 246, .82);--weui-ORANGE-100: #FA9D3B;--weui-ORANGE-120: #FBB062;--weui-ORANGE-170: #FDE1C3;--weui-ORANGE-80: #C87D2F;--weui-ORANGE-90: #E08C34;--weui-ORANGE-BG-100: #EA7800;--weui-ORANGE-BG-110: #EC8519;--weui-ORANGE-BG-130: #F0A04D;--weui-ORANGE-BG-90: #D26B00;--weui-ORANGERED-100: #FF6146;--weui-OVERLAY: rgba(0, 0, 0, .5);--weui-OVERLAY-WHITE: rgba(242, 242, 242, .8);--weui-PURPLE-100: #6467F0;--weui-PURPLE-120: #8385F3;--weui-PURPLE-170: #D0D1FA;--weui-PURPLE-80: #5052C0;--weui-PURPLE-90: #595CD7;--weui-PURPLE-BG-100: #6769BA;--weui-PURPLE-BG-110: #7678C1;--weui-PURPLE-BG-130: #9496CE;--weui-PURPLE-BG-90: #5C5EA7;--weui-RED-100: #FA5151;--weui-RED-120: #FB7373;--weui-RED-170: #FDCACA;--weui-RED-80: #C84040;--weui-RED-90: #E14949;--weui-RED-BG-100: #CF5148;--weui-RED-BG-110: #D3625A;--weui-RED-BG-130: #DD847E;--weui-RED-BG-90: #B94840;--weui-SECONDARY-BG: rgba(0, 0, 0, .05);--weui-SEPARATOR-0: rgba(0, 0, 0, .1);--weui-SEPARATOR-1: rgba(0, 0, 0, .15);--weui-STATELAYER-HOVERED: rgba(0, 0, 0, .02);--weui-STATELAYER-PRESSED: rgba(0, 0, 0, .1);--weui-STATELAYER-PRESSEDSTRENGTHENED: rgba(0, 0, 0, .2);--weui-YELLOW-100: #FFC300;--weui-YELLOW-120: #FFCF33;--weui-YELLOW-170: #FFECB2;--weui-YELLOW-80: #CC9C00;--weui-YELLOW-90: #E6AF00;--weui-YELLOW-BG-100: #EFB600;--weui-YELLOW-BG-110: #F0BD19;--weui-YELLOW-BG-130: #F3CC4D;--weui-YELLOW-BG-90: #D7A400;--weui-FG-HALF: rgba(0, 0, 0, .9);--weui-RED: #FA5151;--weui-ORANGERED: #FF6146;--weui-ORANGE: #FA9D3B;--weui-YELLOW: #FFC300;--weui-GREEN: #91D300;--weui-LIGHTGREEN: #95EC69;--weui-TEXTGREEN: #06AE56;--weui-BRAND: #07C160;--weui-BLUE: #10AEFF;--weui-INDIGO: #1485EE;--weui-PURPLE: #6467F0;--weui-LINK: #576B95;--weui-TAG-TEXT-ORANGE: #FA9D3B;--weui-TAG-TEXT-GREEN: #06AE56;--weui-TAG-TEXT-BLUE: #10AEFF;--weui-REDORANGE: #FF6146;--weui-TAG-TEXT-BLACK: rgba(0, 0, 0, .5);--weui-TAG-BACKGROUND-BLACK: rgba(0, 0, 0, .05);--weui-WHITE: #FFFFFF;--weui-BG: #FFFFFF;--weui-FG: #000;--weui-FG-5: rgba(0, 0, 0, .05);--weui-TAG-BACKGROUND-ORANGE: rgba(250, 157, 59, .1);--weui-TAG-BACKGROUND-GREEN: rgba(6, 174, 86, .1);--weui-TAG-TEXT-RED: rgba(250, 81, 81, .6);--weui-TAG-BACKGROUND-RED: rgba(250, 81, 81, .1);--weui-TAG-BACKGROUND-BLUE: rgba(16, 174, 255, .1)}}@media screen and (min-width:1024px){body:not(.pages_skin_pc) .wx-root[data-weui-mode=care],body:not(.pages_skin_pc) body[data-weui-mode=care]{--weui-BG-0: #EDEDED;--weui-BG-1: #F7F7F7;--weui-BG-2: #FFFFFF;--weui-BG-3: #F7F7F7;--weui-BG-4: #4C4C4C;--weui-BG-5: #FFFFFF;--weui-BLUE-100: #007DBB;--weui-BLUE-120: #3FBEFF;--weui-BLUE-170: #B7E6FF;--weui-BLUE-80: #0C8BCC;--weui-BLUE-90: #0E9CE6;--weui-BLUE-BG-100: #48A6E2;--weui-BLUE-BG-110: #5AAFE4;--weui-BLUE-BG-130: #7FC0EA;--weui-BLUE-BG-90: #4095CB;--weui-BRAND-100: #018942;--weui-BRAND-120: #38CD7F;--weui-BRAND-170: #B4ECCE;--weui-BRAND-80: #059A4C;--weui-BRAND-90: #06AE56;--weui-BRAND-BG-100: #2AAE67;--weui-BRAND-BG-110: #3EB575;--weui-BRAND-BG-130: #69C694;--weui-BRAND-BG-90: #259C5C;--weui-FG-0: #000000;--weui-FG-0_5: #000000;--weui-FG-1: rgba(0, 0, 0, .6);--weui-FG-2: rgba(0, 0, 0, .42);--weui-FG-3: rgba(0, 0, 0, .1);--weui-FG-4: rgba(0, 0, 0, .15);--weui-GLYPH-0: #000000;--weui-GLYPH-1: rgba(0, 0, 0, .6);--weui-GLYPH-2: rgba(0, 0, 0, .42);--weui-GLYPH-WHITE-0: rgba(255, 255, 255, .85);--weui-GLYPH-WHITE-1: rgba(255, 255, 255, .55);--weui-GLYPH-WHITE-2: rgba(255, 255, 255, .35);--weui-GLYPH-WHITE-3: #FFFFFF;--weui-GREEN-100: #4F8400;--weui-GREEN-120: #A7DB33;--weui-GREEN-170: #DEF1B3;--weui-GREEN-80: #74A800;--weui-GREEN-90: #82BD00;--weui-GREEN-BG-100: #96BE40;--weui-GREEN-BG-110: #A0C452;--weui-GREEN-BG-130: #B5D179;--weui-GREEN-BG-90: #86AA39;--weui-INDIGO-100: #0075E2;--weui-INDIGO-120: #439DF1;--weui-INDIGO-170: #B8DAF9;--weui-INDIGO-80: #106ABE;--weui-INDIGO-90: #1277D6;--weui-INDIGO-BG-100: #2B77BF;--weui-INDIGO-BG-110: #3F84C5;--weui-INDIGO-BG-130: #6BA0D2;--weui-INDIGO-BG-90: #266AAB;--weui-LIGHTGREEN-100: #2E8800;--weui-LIGHTGREEN-120: #AAEF87;--weui-LIGHTGREEN-170: #DEF9D1;--weui-LIGHTGREEN-80: #77BC54;--weui-LIGHTGREEN-90: #85D35E;--weui-LIGHTGREEN-BG-100: #72CF60;--weui-LIGHTGREEN-BG-110: #80D370;--weui-LIGHTGREEN-BG-130: #9CDD90;--weui-LIGHTGREEN-BG-90: #66B956;--weui-LINK-100: #576B95;--weui-LINK-120: #7888AA;--weui-LINK-170: #CCD2DE;--weui-LINK-80: #455577;--weui-LINK-90: #4E6085;--weui-LINKFINDER-100: #002666;--weui-MATERIAL-ATTACHMENTCOLUMN: rgba(245, 245, 245, .95);--weui-MATERIAL-NAVIGATIONBAR: rgba(237, 237, 237, .94);--weui-MATERIAL-REGULAR: rgba(247, 247, 247, .3);--weui-MATERIAL-THICK: rgba(247, 247, 247, .8);--weui-MATERIAL-THIN: rgba(255, 255, 255, .2);--weui-MATERIAL-TOOLBAR: rgba(246, 246, 246, .82);--weui-ORANGE-100: #E17719;--weui-ORANGE-120: #FBB062;--weui-ORANGE-170: #FDE1C3;--weui-ORANGE-80: #C87D2F;--weui-ORANGE-90: #E08C34;--weui-ORANGE-BG-100: #EA7800;--weui-ORANGE-BG-110: #EC8519;--weui-ORANGE-BG-130: #F0A04D;--weui-ORANGE-BG-90: #D26B00;--weui-ORANGERED-100: #D14730;--weui-OVERLAY: rgba(0, 0, 0, .5);--weui-OVERLAY-WHITE: rgba(242, 242, 242, .8);--weui-PURPLE-100: #6265F1;--weui-PURPLE-120: #8385F3;--weui-PURPLE-170: #D0D1FA;--weui-PURPLE-80: #5052C0;--weui-PURPLE-90: #595CD7;--weui-PURPLE-BG-100: #6769BA;--weui-PURPLE-BG-110: #7678C1;--weui-PURPLE-BG-130: #9496CE;--weui-PURPLE-BG-90: #5C5EA7;--weui-RED-100: #DC3636;--weui-RED-120: #FB7373;--weui-RED-170: #FDCACA;--weui-RED-80: #C84040;--weui-RED-90: #E14949;--weui-RED-BG-100: #CF5148;--weui-RED-BG-110: #D3625A;--weui-RED-BG-130: #DD847E;--weui-RED-BG-90: #B94840;--weui-SECONDARY-BG: rgba(0, 0, 0, .1);--weui-SEPARATOR-0: rgba(0, 0, 0, .1);--weui-SEPARATOR-1: rgba(0, 0, 0, .15);--weui-STATELAYER-HOVERED: rgba(0, 0, 0, .02);--weui-STATELAYER-PRESSED: rgba(0, 0, 0, .1);--weui-STATELAYER-PRESSEDSTRENGTHENED: rgba(0, 0, 0, .2);--weui-YELLOW-100: #BB8E00;--weui-YELLOW-120: #FFCF33;--weui-YELLOW-170: #FFECB2;--weui-YELLOW-80: #CC9C00;--weui-YELLOW-90: #E6AF00;--weui-YELLOW-BG-100: #EFB600;--weui-YELLOW-BG-110: #F0BD19;--weui-YELLOW-BG-130: #F3CC4D;--weui-YELLOW-BG-90: #D7A400;--weui-FG-HALF: #000000;--weui-RED: #DC3636;--weui-ORANGERED: #D14730;--weui-ORANGE: #E17719;--weui-YELLOW: #BB8E00;--weui-GREEN: #4F8400;--weui-LIGHTGREEN: #2E8800;--weui-TEXTGREEN: #06AE56;--weui-BRAND: #018942;--weui-BLUE: #007DBB;--weui-INDIGO: #0075E2;--weui-PURPLE: #6265F1;--weui-LINK: #576B95;--weui-TAG-TEXT-ORANGE: #E17719;--weui-TAG-TEXT-GREEN: #06AE56;--weui-TAG-TEXT-BLUE: #007DBB;--weui-REDORANGE: #D14730;--weui-TAG-TEXT-BLACK: rgba(0, 0, 0, .5);--weui-WHITE: #FFFFFF;--weui-BG: #FFFFFF;--weui-FG: #000;--weui-FG-5: rgba(0, 0, 0, .05);--weui-TAG-BACKGROUND-ORANGE: rgba(225, 119, 25, .1);--weui-TAG-BACKGROUND-GREEN: rgba(6, 174, 86, .1);--weui-TAG-TEXT-RED: rgba(250, 81, 81, .6);--weui-TAG-BACKGROUND-RED: rgba(250, 81, 81, .1);--weui-TAG-BACKGROUND-BLUE: rgba(0, 125, 187, .1);--weui-TAG-BACKGROUND-BLACK: rgba(0, 0, 0, .05)}}@media screen and (min-width:1024px){body:not(.pages_skin_pc) .wx-root[data-weui-mode=care][data-weui-theme=dark],body:not(.pages_skin_pc) body[data-weui-mode=care][data-weui-theme=dark]{--weui-BG-0: #111111;--weui-BG-1: #1E1E1E;--weui-BG-2: #191919;--weui-BG-3: #202020;--weui-BG-4: #404040;--weui-BG-5: #2C2C2C;--weui-BLUE-100: #10AEFF;--weui-BLUE-120: #0C8BCC;--weui-BLUE-170: #04344D;--weui-BLUE-80: #3FBEFF;--weui-BLUE-90: #28B6FF;--weui-BLUE-BG-100: #48A6E2;--weui-BLUE-BG-110: #4095CB;--weui-BLUE-BG-130: #32749E;--weui-BLUE-BG-90: #5AAFE4;--weui-BRAND-100: #07C160;--weui-BRAND-120: #059A4C;--weui-BRAND-170: #023A1C;--weui-BRAND-80: #38CD7F;--weui-BRAND-90: #20C770;--weui-BRAND-BG-100: #2AAE67;--weui-BRAND-BG-110: #259C5C;--weui-BRAND-BG-130: #1D7A48;--weui-BRAND-BG-90: #3EB575;--weui-FG-0: rgba(255, 255, 255, .85);--weui-FG-0_5: rgba(255, 255, 255, .65);--weui-FG-1: rgba(255, 255, 255, .55);--weui-FG-2: rgba(255, 255, 255, .35);--weui-FG-3: rgba(255, 255, 255, .1);--weui-FG-4: rgba(255, 255, 255, .15);--weui-GLYPH-0: rgba(255, 255, 255, .85);--weui-GLYPH-1: rgba(255, 255, 255, .55);--weui-GLYPH-2: rgba(255, 255, 255, .35);--weui-GLYPH-WHITE-0: rgba(255, 255, 255, .85);--weui-GLYPH-WHITE-1: rgba(255, 255, 255, .55);--weui-GLYPH-WHITE-2: rgba(255, 255, 255, .35);--weui-GLYPH-WHITE-3: #FFFFFF;--weui-GREEN-100: #74A800;--weui-GREEN-120: #5C8600;--weui-GREEN-170: #233200;--weui-GREEN-80: #8FB933;--weui-GREEN-90: #82B01A;--weui-GREEN-BG-100: #789833;--weui-GREEN-BG-110: #6B882D;--weui-GREEN-BG-130: #65802B;--weui-GREEN-BG-90: #85A247;--weui-INDIGO-100: #1196FF;--weui-INDIGO-120: #0D78CC;--weui-INDIGO-170: #052D4D;--weui-INDIGO-80: #40ABFF;--weui-INDIGO-90: #28A0FF;--weui-INDIGO-BG-100: #0D78CC;--weui-INDIGO-BG-110: #0B6BB7;--weui-INDIGO-BG-130: #09548F;--weui-INDIGO-BG-90: #2585D1;--weui-LIGHTGREEN-100: #3EB575;--weui-LIGHTGREEN-120: #31905D;--weui-LIGHTGREEN-170: #123522;--weui-LIGHTGREEN-80: #64C390;--weui-LIGHTGREEN-90: #51BC83;--weui-LIGHTGREEN-BG-100: #31905D;--weui-LIGHTGREEN-BG-110: #2C8153;--weui-LIGHTGREEN-BG-130: #226541;--weui-LIGHTGREEN-BG-90: #31905D;--weui-LINK-100: #7D90A9;--weui-LINK-120: #647387;--weui-LINK-170: #252A32;--weui-LINK-80: #97A6BA;--weui-LINK-90: #899AB1;--weui-LINKFINDER-100: #DEE9FF;--weui-MATERIAL-ATTACHMENTCOLUMN: rgba(32, 32, 32, .93);--weui-MATERIAL-NAVIGATIONBAR: rgba(18, 18, 18, .9);--weui-MATERIAL-REGULAR: rgba(37, 37, 37, .6);--weui-MATERIAL-THICK: rgba(34, 34, 34, .9);--weui-MATERIAL-THIN: rgba(245, 245, 245, .4);--weui-MATERIAL-TOOLBAR: rgba(35, 35, 35, .93);--weui-ORANGE-100: #C87D2F;--weui-ORANGE-120: #A06425;--weui-ORANGE-170: #3B250E;--weui-ORANGE-80: #D39758;--weui-ORANGE-90: #CD8943;--weui-ORANGE-BG-100: #BB6000;--weui-ORANGE-BG-110: #A85600;--weui-ORANGE-BG-130: #824300;--weui-ORANGE-BG-90: #C1701A;--weui-ORANGERED-100: #FF6146;--weui-OVERLAY: rgba(0, 0, 0, .8);--weui-OVERLAY-WHITE: rgba(242, 242, 242, .8);--weui-PURPLE-100: #8183FF;--weui-PURPLE-120: #6768CC;--weui-PURPLE-170: #26274C;--weui-PURPLE-80: #9A9BFF;--weui-PURPLE-90: #8D8FFF;--weui-PURPLE-BG-100: #6768CC;--weui-PURPLE-BG-110: #5C5DB7;--weui-PURPLE-BG-130: #48498F;--weui-PURPLE-BG-90: #7677D1;--weui-RED-100: #FA5151;--weui-RED-120: #C84040;--weui-RED-170: #4B1818;--weui-RED-80: #FB7373;--weui-RED-90: #FA6262;--weui-RED-BG-100: #CF5148;--weui-RED-BG-110: #BA4940;--weui-RED-BG-130: #913832;--weui-RED-BG-90: #D3625A;--weui-SECONDARY-BG: rgba(255, 255, 255, .15);--weui-SEPARATOR-0: rgba(255, 255, 255, .05);--weui-SEPARATOR-1: rgba(255, 255, 255, .15);--weui-STATELAYER-HOVERED: rgba(0, 0, 0, .02);--weui-STATELAYER-PRESSED: rgba(255, 255, 255, .1);--weui-STATELAYER-PRESSEDSTRENGTHENED: rgba(255, 255, 255, .2);--weui-YELLOW-100: #CC9C00;--weui-YELLOW-120: #A37C00;--weui-YELLOW-170: #3D2F00;--weui-YELLOW-80: #D6AF33;--weui-YELLOW-90: #D1A519;--weui-YELLOW-BG-100: #BF9100;--weui-YELLOW-BG-110: #AB8200;--weui-YELLOW-BG-130: #866500;--weui-YELLOW-BG-90: #C59C1A;--weui-FG-HALF: rgba(255, 255, 255, .65);--weui-RED: #FA5151;--weui-ORANGERED: #FF6146;--weui-ORANGE: #C87D2F;--weui-YELLOW: #CC9C00;--weui-GREEN: #74A800;--weui-LIGHTGREEN: #3EB575;--weui-TEXTGREEN: #259C5C;--weui-BRAND: #07C160;--weui-BLUE: #10AEFF;--weui-INDIGO: #1196FF;--weui-PURPLE: #8183FF;--weui-LINK: #7D90A9;--weui-REDORANGE: #FF6146;--weui-TAG-BACKGROUND-BLACK: rgba(255, 255, 255, .05);--weui-FG: #fff;--weui-WHITE: rgba(255, 255, 255, .8);--weui-FG-5: rgba(255, 255, 255, .1);--weui-TAG-BACKGROUND-ORANGE: rgba(250, 157, 59, .1);--weui-TAG-BACKGROUND-GREEN: rgba(6, 174, 86, .1);--weui-TAG-TEXT-RED: rgba(250, 81, 81, .6);--weui-TAG-BACKGROUND-RED: rgba(250, 81, 81, .1);--weui-TAG-BACKGROUND-BLUE: rgba(16, 174, 255, .1);--weui-TAG-TEXT-ORANGE: rgba(250, 157, 59, .6);--weui-BG: #000;--weui-TAG-TEXT-GREEN: rgba(6, 174, 86, .6);--weui-TAG-TEXT-BLUE: rgba(16, 174, 255, .6);--weui-TAG-TEXT-BLACK: rgba(255, 255, 255, .5)}}@media screen and (min-width:1024px){body:not(.pages_skin_pc) .wx-root,body:not(.pages_skin_pc) body{--appmsgExtra-BG: #F7F7F7}}@media screen and (min-width:1024px){body:not(.pages_skin_pc) .wx-root[data-weui-theme=dark],body:not(.pages_skin_pc) body[data-weui-theme=dark]{--weui-BG-0: #111111;--weui-BG-1: #1E1E1E;--weui-BG-2: #191919;--weui-BG-3: #202020;--weui-BG-4: #404040;--weui-BG-5: #2C2C2C;--weui-BLUE-100: #10AEFF;--weui-BLUE-120: #0C8BCC;--weui-BLUE-170: #04344D;--weui-BLUE-80: #3FBEFF;--weui-BLUE-90: #28B6FF;--weui-BLUE-BG-100: #48A6E2;--weui-BLUE-BG-110: #4095CB;--weui-BLUE-BG-130: #32749E;--weui-BLUE-BG-90: #5AAFE4;--weui-BRAND-100: #07C160;--weui-BRAND-120: #059A4C;--weui-BRAND-170: #023A1C;--weui-BRAND-80: #38CD7F;--weui-BRAND-90: #20C770;--weui-BRAND-BG-100: #2AAE67;--weui-BRAND-BG-110: #259C5C;--weui-BRAND-BG-130: #1D7A48;--weui-BRAND-BG-90: #3EB575;--weui-FG-0: rgba(255, 255, 255, .8);--weui-FG-0_5: rgba(255, 255, 255, .6);--weui-FG-1: rgba(255, 255, 255, .5);--weui-FG-2: rgba(255, 255, 255, .3);--weui-FG-3: rgba(255, 255, 255, .1);--weui-FG-4: rgba(255, 255, 255, .15);--weui-GLYPH-0: rgba(255, 255, 255, .8);--weui-GLYPH-1: rgba(255, 255, 255, .5);--weui-GLYPH-2: rgba(255, 255, 255, .3);--weui-GLYPH-WHITE-0: rgba(255, 255, 255, .8);--weui-GLYPH-WHITE-1: rgba(255, 255, 255, .5);--weui-GLYPH-WHITE-2: rgba(255, 255, 255, .3);--weui-GLYPH-WHITE-3: #FFFFFF;--weui-GREEN-100: #74A800;--weui-GREEN-120: #5C8600;--weui-GREEN-170: #233200;--weui-GREEN-80: #8FB933;--weui-GREEN-90: #82B01A;--weui-GREEN-BG-100: #789833;--weui-GREEN-BG-110: #6B882D;--weui-GREEN-BG-130: #65802B;--weui-GREEN-BG-90: #85A247;--weui-INDIGO-100: #1196FF;--weui-INDIGO-120: #0D78CC;--weui-INDIGO-170: #052D4D;--weui-INDIGO-80: #40ABFF;--weui-INDIGO-90: #28A0FF;--weui-INDIGO-BG-100: #0D78CC;--weui-INDIGO-BG-110: #0B6BB7;--weui-INDIGO-BG-130: #09548F;--weui-INDIGO-BG-90: #2585D1;--weui-LIGHTGREEN-100: #3EB575;--weui-LIGHTGREEN-120: #31905D;--weui-LIGHTGREEN-170: #123522;--weui-LIGHTGREEN-80: #64C390;--weui-LIGHTGREEN-90: #51BC83;--weui-LIGHTGREEN-BG-100: #31905D;--weui-LIGHTGREEN-BG-110: #2C8153;--weui-LIGHTGREEN-BG-130: #226541;--weui-LIGHTGREEN-BG-90: #31905D;--weui-LINK-100: #7D90A9;--weui-LINK-120: #647387;--weui-LINK-170: #252A32;--weui-LINK-80: #97A6BA;--weui-LINK-90: #899AB1;--weui-LINKFINDER-100: #DEE9FF;--weui-MATERIAL-ATTACHMENTCOLUMN: rgba(32, 32, 32, .93);--weui-MATERIAL-NAVIGATIONBAR: rgba(18, 18, 18, .9);--weui-MATERIAL-REGULAR: rgba(37, 37, 37, .6);--weui-MATERIAL-THICK: rgba(34, 34, 34, .9);--weui-MATERIAL-THIN: rgba(95, 95, 95, .4);--weui-MATERIAL-TOOLBAR: rgba(35, 35, 35, .93);--weui-ORANGE-100: #C87D2F;--weui-ORANGE-120: #A06425;--weui-ORANGE-170: #3B250E;--weui-ORANGE-80: #D39758;--weui-ORANGE-90: #CD8943;--weui-ORANGE-BG-100: #BB6000;--weui-ORANGE-BG-110: #A85600;--weui-ORANGE-BG-130: #824300;--weui-ORANGE-BG-90: #C1701A;--weui-ORANGERED-100: #FF6146;--weui-OVERLAY: rgba(0, 0, 0, .8);--weui-OVERLAY-WHITE: rgba(242, 242, 242, .8);--weui-PURPLE-100: #8183FF;--weui-PURPLE-120: #6768CC;--weui-PURPLE-170: #26274C;--weui-PURPLE-80: #9A9BFF;--weui-PURPLE-90: #8D8FFF;--weui-PURPLE-BG-100: #6768CC;--weui-PURPLE-BG-110: #5C5DB7;--weui-PURPLE-BG-130: #48498F;--weui-PURPLE-BG-90: #7677D1;--weui-RED-100: #FA5151;--weui-RED-120: #C84040;--weui-RED-170: #4B1818;--weui-RED-80: #FB7373;--weui-RED-90: #FA6262;--weui-RED-BG-100: #CF5148;--weui-RED-BG-110: #BA4940;--weui-RED-BG-130: #913832;--weui-RED-BG-90: #D3625A;--weui-SECONDARY-BG: rgba(255, 255, 255, .1);--weui-SEPARATOR-0: rgba(255, 255, 255, .05);--weui-SEPARATOR-1: rgba(255, 255, 255, .15);--weui-STATELAYER-HOVERED: rgba(0, 0, 0, .02);--weui-STATELAYER-PRESSED: rgba(255, 255, 255, .1);--weui-STATELAYER-PRESSEDSTRENGTHENED: rgba(255, 255, 255, .2);--weui-YELLOW-100: #CC9C00;--weui-YELLOW-120: #A37C00;--weui-YELLOW-170: #3D2F00;--weui-YELLOW-80: #D6AF33;--weui-YELLOW-90: #D1A519;--weui-YELLOW-BG-100: #BF9100;--weui-YELLOW-BG-110: #AB8200;--weui-YELLOW-BG-130: #866500;--weui-YELLOW-BG-90: #C59C1A;--weui-FG-HALF: rgba(255, 255, 255, .6);--weui-RED: #FA5151;--weui-ORANGERED: #FF6146;--weui-ORANGE: #C87D2F;--weui-YELLOW: #CC9C00;--weui-GREEN: #74A800;--weui-LIGHTGREEN: #3EB575;--weui-TEXTGREEN: #259C5C;--weui-BRAND: #07C160;--weui-BLUE: #10AEFF;--weui-INDIGO: #1196FF;--weui-PURPLE: #8183FF;--weui-LINK: #7D90A9;--weui-REDORANGE: #FF6146;--weui-TAG-TEXT-BLACK: rgba(255, 255, 255, .5);--weui-TAG-BACKGROUND-BLACK: rgba(255, 255, 255, .05);--weui-WHITE: rgba(255, 255, 255, .8);--weui-FG: #fff;--weui-BG: #000;--weui-FG-5: rgba(255, 255, 255, .1);--weui-TAG-BACKGROUND-ORANGE: rgba(250, 157, 59, .1);--weui-TAG-BACKGROUND-GREEN: rgba(6, 174, 86, .1);--weui-TAG-TEXT-RED: rgba(250, 81, 81, .6);--weui-TAG-BACKGROUND-RED: rgba(250, 81, 81, .1);--weui-TAG-BACKGROUND-BLUE: rgba(16, 174, 255, .1);--weui-TAG-TEXT-ORANGE: rgba(250, 157, 59, .6);--weui-TAG-TEXT-GREEN: rgba(6, 174, 86, .6);--weui-TAG-TEXT-BLUE: rgba(16, 174, 255, .6)}}@media screen and (min-width:1024px){body:not(.pages_skin_pc) .wx-root[data-weui-theme=dark],body:not(.pages_skin_pc) body[data-weui-theme=dark]{--appmsgExtra-BG: #121212}}@media screen and (min-width:1024px){body:not(.pages_skin_pc)body:not(.pages_skin_pc){background:var(--weui-BG-2)}}@media screen and (min-width:1024px) and (prefers-color-scheme:dark){body:not(.pages_skin_pc) .wx-root[data-weui-mode=care]:not([data-weui-theme=light]),body:not(.pages_skin_pc) body[data-weui-mode=care]:not([data-weui-theme=light]){--weui-BG-0: #111111;--weui-BG-1: #1E1E1E;--weui-BG-2: #191919;--weui-BG-3: #202020;--weui-BG-4: #404040;--weui-BG-5: #2C2C2C;--weui-BLUE-100: #10AEFF;--weui-BLUE-120: #0C8BCC;--weui-BLUE-170: #04344D;--weui-BLUE-80: #3FBEFF;--weui-BLUE-90: #28B6FF;--weui-BLUE-BG-100: #48A6E2;--weui-BLUE-BG-110: #4095CB;--weui-BLUE-BG-130: #32749E;--weui-BLUE-BG-90: #5AAFE4;--weui-BRAND-100: #07C160;--weui-BRAND-120: #059A4C;--weui-BRAND-170: #023A1C;--weui-BRAND-80: #38CD7F;--weui-BRAND-90: #20C770;--weui-BRAND-BG-100: #2AAE67;--weui-BRAND-BG-110: #259C5C;--weui-BRAND-BG-130: #1D7A48;--weui-BRAND-BG-90: #3EB575;--weui-FG-0: rgba(255, 255, 255, .85);--weui-FG-0_5: rgba(255, 255, 255, .65);--weui-FG-1: rgba(255, 255, 255, .55);--weui-FG-2: rgba(255, 255, 255, .35);--weui-FG-3: rgba(255, 255, 255, .1);--weui-FG-4: rgba(255, 255, 255, .15);--weui-GLYPH-0: rgba(255, 255, 255, .85);--weui-GLYPH-1: rgba(255, 255, 255, .55);--weui-GLYPH-2: rgba(255, 255, 255, .35);--weui-GLYPH-WHITE-0: rgba(255, 255, 255, .85);--weui-GLYPH-WHITE-1: rgba(255, 255, 255, .55);--weui-GLYPH-WHITE-2: rgba(255, 255, 255, .35);--weui-GLYPH-WHITE-3: #FFFFFF;--weui-GREEN-100: #74A800;--weui-GREEN-120: #5C8600;--weui-GREEN-170: #233200;--weui-GREEN-80: #8FB933;--weui-GREEN-90: #82B01A;--weui-GREEN-BG-100: #789833;--weui-GREEN-BG-110: #6B882D;--weui-GREEN-BG-130: #65802B;--weui-GREEN-BG-90: #85A247;--weui-INDIGO-100: #1196FF;--weui-INDIGO-120: #0D78CC;--weui-INDIGO-170: #052D4D;--weui-INDIGO-80: #40ABFF;--weui-INDIGO-90: #28A0FF;--weui-INDIGO-BG-100: #0D78CC;--weui-INDIGO-BG-110: #0B6BB7;--weui-INDIGO-BG-130: #09548F;--weui-INDIGO-BG-90: #2585D1;--weui-LIGHTGREEN-100: #3EB575;--weui-LIGHTGREEN-120: #31905D;--weui-LIGHTGREEN-170: #123522;--weui-LIGHTGREEN-80: #64C390;--weui-LIGHTGREEN-90: #51BC83;--weui-LIGHTGREEN-BG-100: #31905D;--weui-LIGHTGREEN-BG-110: #2C8153;--weui-LIGHTGREEN-BG-130: #226541;--weui-LIGHTGREEN-BG-90: #31905D;--weui-LINK-100: #7D90A9;--weui-LINK-120: #647387;--weui-LINK-170: #252A32;--weui-LINK-80: #97A6BA;--weui-LINK-90: #899AB1;--weui-LINKFINDER-100: #DEE9FF;--weui-MATERIAL-ATTACHMENTCOLUMN: rgba(32, 32, 32, .93);--weui-MATERIAL-NAVIGATIONBAR: rgba(18, 18, 18, .9);--weui-MATERIAL-REGULAR: rgba(37, 37, 37, .6);--weui-MATERIAL-THICK: rgba(34, 34, 34, .9);--weui-MATERIAL-THIN: rgba(245, 245, 245, .4);--weui-MATERIAL-TOOLBAR: rgba(35, 35, 35, .93);--weui-ORANGE-100: #C87D2F;--weui-ORANGE-120: #A06425;--weui-ORANGE-170: #3B250E;--weui-ORANGE-80: #D39758;--weui-ORANGE-90: #CD8943;--weui-ORANGE-BG-100: #BB6000;--weui-ORANGE-BG-110: #A85600;--weui-ORANGE-BG-130: #824300;--weui-ORANGE-BG-90: #C1701A;--weui-ORANGERED-100: #FF6146;--weui-OVERLAY: rgba(0, 0, 0, .8);--weui-OVERLAY-WHITE: rgba(242, 242, 242, .8);--weui-PURPLE-100: #8183FF;--weui-PURPLE-120: #6768CC;--weui-PURPLE-170: #26274C;--weui-PURPLE-80: #9A9BFF;--weui-PURPLE-90: #8D8FFF;--weui-PURPLE-BG-100: #6768CC;--weui-PURPLE-BG-110: #5C5DB7;--weui-PURPLE-BG-130: #48498F;--weui-PURPLE-BG-90: #7677D1;--weui-RED-100: #FA5151;--weui-RED-120: #C84040;--weui-RED-170: #4B1818;--weui-RED-80: #FB7373;--weui-RED-90: #FA6262;--weui-RED-BG-100: #CF5148;--weui-RED-BG-110: #BA4940;--weui-RED-BG-130: #913832;--weui-RED-BG-90: #D3625A;--weui-SECONDARY-BG: rgba(255, 255, 255, .15);--weui-SEPARATOR-0: rgba(255, 255, 255, .05);--weui-SEPARATOR-1: rgba(255, 255, 255, .15);--weui-STATELAYER-HOVERED: rgba(0, 0, 0, .02);--weui-STATELAYER-PRESSED: rgba(255, 255, 255, .1);--weui-STATELAYER-PRESSEDSTRENGTHENED: rgba(255, 255, 255, .2);--weui-YELLOW-100: #CC9C00;--weui-YELLOW-120: #A37C00;--weui-YELLOW-170: #3D2F00;--weui-YELLOW-80: #D6AF33;--weui-YELLOW-90: #D1A519;--weui-YELLOW-BG-100: #BF9100;--weui-YELLOW-BG-110: #AB8200;--weui-YELLOW-BG-130: #866500;--weui-YELLOW-BG-90: #C59C1A;--weui-FG-HALF: rgba(255, 255, 255, .65);--weui-RED: #FA5151;--weui-ORANGERED: #FF6146;--weui-ORANGE: #C87D2F;--weui-YELLOW: #CC9C00;--weui-GREEN: #74A800;--weui-LIGHTGREEN: #3EB575;--weui-TEXTGREEN: #259C5C;--weui-BRAND: #07C160;--weui-BLUE: #10AEFF;--weui-INDIGO: #1196FF;--weui-PURPLE: #8183FF;--weui-LINK: #7D90A9;--weui-REDORANGE: #FF6146;--weui-TAG-BACKGROUND-BLACK: rgba(255, 255, 255, .05);--weui-FG: #fff;--weui-WHITE: rgba(255, 255, 255, .8);--weui-FG-5: rgba(255, 255, 255, .1);--weui-TAG-BACKGROUND-ORANGE: rgba(250, 157, 59, .1);--weui-TAG-BACKGROUND-GREEN: rgba(6, 174, 86, .1);--weui-TAG-TEXT-RED: rgba(250, 81, 81, .6);--weui-TAG-BACKGROUND-RED: rgba(250, 81, 81, .1);--weui-TAG-BACKGROUND-BLUE: rgba(16, 174, 255, .1);--weui-TAG-TEXT-ORANGE: rgba(250, 157, 59, .6);--weui-BG: #000;--weui-TAG-TEXT-GREEN: rgba(6, 174, 86, .6);--weui-TAG-TEXT-BLUE: rgba(16, 174, 255, .6);--weui-TAG-TEXT-BLACK: rgba(255, 255, 255, .5)}}@media screen and (min-width:1024px) and (prefers-color-scheme:dark){body:not(.pages_skin_pc) .wx-root:not([data-weui-theme=light]),body:not(.pages_skin_pc) body:not([data-weui-theme=light]){--weui-BG-0: #111111;--weui-BG-1: #1E1E1E;--weui-BG-2: #191919;--weui-BG-3: #202020;--weui-BG-4: #404040;--weui-BG-5: #2C2C2C;--weui-BLUE-100: #10AEFF;--weui-BLUE-120: #0C8BCC;--weui-BLUE-170: #04344D;--weui-BLUE-80: #3FBEFF;--weui-BLUE-90: #28B6FF;--weui-BLUE-BG-100: #48A6E2;--weui-BLUE-BG-110: #4095CB;--weui-BLUE-BG-130: #32749E;--weui-BLUE-BG-90: #5AAFE4;--weui-BRAND-100: #07C160;--weui-BRAND-120: #059A4C;--weui-BRAND-170: #023A1C;--weui-BRAND-80: #38CD7F;--weui-BRAND-90: #20C770;--weui-BRAND-BG-100: #2AAE67;--weui-BRAND-BG-110: #259C5C;--weui-BRAND-BG-130: #1D7A48;--weui-BRAND-BG-90: #3EB575;--weui-FG-0: rgba(255, 255, 255, .8);--weui-FG-0_5: rgba(255, 255, 255, .6);--weui-FG-1: rgba(255, 255, 255, .5);--weui-FG-2: rgba(255, 255, 255, .3);--weui-FG-3: rgba(255, 255, 255, .1);--weui-FG-4: rgba(255, 255, 255, .15);--weui-GLYPH-0: rgba(255, 255, 255, .8);--weui-GLYPH-1: rgba(255, 255, 255, .5);--weui-GLYPH-2: rgba(255, 255, 255, .3);--weui-GLYPH-WHITE-0: rgba(255, 255, 255, .8);--weui-GLYPH-WHITE-1: rgba(255, 255, 255, .5);--weui-GLYPH-WHITE-2: rgba(255, 255, 255, .3);--weui-GLYPH-WHITE-3: #FFFFFF;--weui-GREEN-100: #74A800;--weui-GREEN-120: #5C8600;--weui-GREEN-170: #233200;--weui-GREEN-80: #8FB933;--weui-GREEN-90: #82B01A;--weui-GREEN-BG-100: #789833;--weui-GREEN-BG-110: #6B882D;--weui-GREEN-BG-130: #65802B;--weui-GREEN-BG-90: #85A247;--weui-INDIGO-100: #1196FF;--weui-INDIGO-120: #0D78CC;--weui-INDIGO-170: #052D4D;--weui-INDIGO-80: #40ABFF;--weui-INDIGO-90: #28A0FF;--weui-INDIGO-BG-100: #0D78CC;--weui-INDIGO-BG-110: #0B6BB7;--weui-INDIGO-BG-130: #09548F;--weui-INDIGO-BG-90: #2585D1;--weui-LIGHTGREEN-100: #3EB575;--weui-LIGHTGREEN-120: #31905D;--weui-LIGHTGREEN-170: #123522;--weui-LIGHTGREEN-80: #64C390;--weui-LIGHTGREEN-90: #51BC83;--weui-LIGHTGREEN-BG-100: #31905D;--weui-LIGHTGREEN-BG-110: #2C8153;--weui-LIGHTGREEN-BG-130: #226541;--weui-LIGHTGREEN-BG-90: #31905D;--weui-LINK-100: #7D90A9;--weui-LINK-120: #647387;--weui-LINK-170: #252A32;--weui-LINK-80: #97A6BA;--weui-LINK-90: #899AB1;--weui-LINKFINDER-100: #DEE9FF;--weui-MATERIAL-ATTACHMENTCOLUMN: rgba(32, 32, 32, .93);--weui-MATERIAL-NAVIGATIONBAR: rgba(18, 18, 18, .9);--weui-MATERIAL-REGULAR: rgba(37, 37, 37, .6);--weui-MATERIAL-THICK: rgba(34, 34, 34, .9);--weui-MATERIAL-THIN: rgba(95, 95, 95, .4);--weui-MATERIAL-TOOLBAR: rgba(35, 35, 35, .93);--weui-ORANGE-100: #C87D2F;--weui-ORANGE-120: #A06425;--weui-ORANGE-170: #3B250E;--weui-ORANGE-80: #D39758;--weui-ORANGE-90: #CD8943;--weui-ORANGE-BG-100: #BB6000;--weui-ORANGE-BG-110: #A85600;--weui-ORANGE-BG-130: #824300;--weui-ORANGE-BG-90: #C1701A;--weui-ORANGERED-100: #FF6146;--weui-OVERLAY: rgba(0, 0, 0, .8);--weui-OVERLAY-WHITE: rgba(242, 242, 242, .8);--weui-PURPLE-100: #8183FF;--weui-PURPLE-120: #6768CC;--weui-PURPLE-170: #26274C;--weui-PURPLE-80: #9A9BFF;--weui-PURPLE-90: #8D8FFF;--weui-PURPLE-BG-100: #6768CC;--weui-PURPLE-BG-110: #5C5DB7;--weui-PURPLE-BG-130: #48498F;--weui-PURPLE-BG-90: #7677D1;--weui-RED-100: #FA5151;--weui-RED-120: #C84040;--weui-RED-170: #4B1818;--weui-RED-80: #FB7373;--weui-RED-90: #FA6262;--weui-RED-BG-100: #CF5148;--weui-RED-BG-110: #BA4940;--weui-RED-BG-130: #913832;--weui-RED-BG-90: #D3625A;--weui-SECONDARY-BG: rgba(255, 255, 255, .1);--weui-SEPARATOR-0: rgba(255, 255, 255, .05);--weui-SEPARATOR-1: rgba(255, 255, 255, .15);--weui-STATELAYER-HOVERED: rgba(0, 0, 0, .02);--weui-STATELAYER-PRESSED: rgba(255, 255, 255, .1);--weui-STATELAYER-PRESSEDSTRENGTHENED: rgba(255, 255, 255, .2);--weui-YELLOW-100: #CC9C00;--weui-YELLOW-120: #A37C00;--weui-YELLOW-170: #3D2F00;--weui-YELLOW-80: #D6AF33;--weui-YELLOW-90: #D1A519;--weui-YELLOW-BG-100: #BF9100;--weui-YELLOW-BG-110: #AB8200;--weui-YELLOW-BG-130: #866500;--weui-YELLOW-BG-90: #C59C1A;--weui-FG-HALF: rgba(255, 255, 255, .6);--weui-RED: #FA5151;--weui-ORANGERED: #FF6146;--weui-ORANGE: #C87D2F;--weui-YELLOW: #CC9C00;--weui-GREEN: #74A800;--weui-LIGHTGREEN: #3EB575;--weui-TEXTGREEN: #259C5C;--weui-BRAND: #07C160;--weui-BLUE: #10AEFF;--weui-INDIGO: #1196FF;--weui-PURPLE: #8183FF;--weui-LINK: #7D90A9;--weui-REDORANGE: #FF6146;--weui-TAG-TEXT-BLACK: rgba(255, 255, 255, .5);--weui-TAG-BACKGROUND-BLACK: rgba(255, 255, 255, .05);--weui-WHITE: rgba(255, 255, 255, .8);--weui-FG: #fff;--weui-BG: #000;--weui-FG-5: rgba(255, 255, 255, .1);--weui-TAG-BACKGROUND-ORANGE: rgba(250, 157, 59, .1);--weui-TAG-BACKGROUND-GREEN: rgba(6, 174, 86, .1);--weui-TAG-TEXT-RED: rgba(250, 81, 81, .6);--weui-TAG-BACKGROUND-RED: rgba(250, 81, 81, .1);--weui-TAG-BACKGROUND-BLUE: rgba(16, 174, 255, .1);--weui-TAG-TEXT-ORANGE: rgba(250, 157, 59, .6);--weui-TAG-TEXT-GREEN: rgba(6, 174, 86, .6);--weui-TAG-TEXT-BLUE: rgba(16, 174, 255, .6)}}@media screen and (min-width:1024px) and (prefers-color-scheme:dark){body:not(.pages_skin_pc) .wx-root:not([data-weui-theme=light]),body:not(.pages_skin_pc) body:not([data-weui-theme=light]){--appmsgExtra-BG: #121212}}@media(prefers-color-scheme:dark){body:not([data-weui-theme=light]).my_comment_empty_data{background-color:#111}}body,.wx-root{--weui-BG-6: rgba(0, 0, 0, .05);--weui-ACTIVE-MASK: rgba(0, 0, 0, .05)}body,.wx-root{--weui-BG-0: #ededed;--weui-BG-1: #f7f7f7;--weui-BG-2: #fff;--weui-BG-3: #f7f7f7;--weui-BG-4: #4c4c4c;--weui-BG-5: #fff;--weui-RED: #fa5151;--weui-ORANGERED: #ff6146;--weui-ORANGE: #fa9d3b;--weui-YELLOW: #ffc300;--weui-GREEN: #91d300;--weui-LIGHTGREEN: #95ec69;--weui-BRAND: #07c160;--weui-BLUE: #10aeff;--weui-INDIGO: #1485ee;--weui-PURPLE: #6467f0;--weui-WHITE: #fff;--weui-LINK: #576b95;--weui-TEXTGREEN: #06ae56;--weui-BG: #fff;--weui-TAG-TEXT-ORANGE: #fa9d3b;--weui-TAG-TEXT-GREEN: #06ae56;--weui-TAG-TEXT-BLUE: #10aeff;--weui-REDORANGE: #ff6146;--weui-BG-0: #EDEDED;--weui-BG-1: #F7F7F7;--weui-BG-2: #FFFFFF;--weui-BG-3: #F7F7F7;--weui-BG-4: #4C4C4C;--weui-BG-5: #FFFFFF;--weui-BLUE-100: #10AEFF;--weui-BLUE-120: #3FBEFF;--weui-BLUE-170: #B7E6FF;--weui-BLUE-80: #0C8BCC;--weui-BLUE-90: #0E9CE6;--weui-BLUE-BG-100: #48A6E2;--weui-BLUE-BG-110: #5AAFE4;--weui-BLUE-BG-130: #7FC0EA;--weui-BLUE-BG-90: #4095CB;--weui-BRAND-100: #07C160;--weui-BRAND-120: #38CD7F;--weui-BRAND-170: #B4ECCE;--weui-BRAND-80: #059A4C;--weui-BRAND-90: #06AE56;--weui-BRAND-BG-100: #2AAE67;--weui-BRAND-BG-110: #3EB575;--weui-BRAND-BG-130: #69C694;--weui-BRAND-BG-90: #259C5C;--weui-FG-0: rgba(0, 0, 0, .9);--weui-FG-0_5: rgba(0, 0, 0, .9);--weui-FG-1: rgba(0, 0, 0, .55);--weui-FG-2: rgba(0, 0, 0, .3);--weui-FG-3: rgba(0, 0, 0, .1);--weui-FG-4: rgba(0, 0, 0, .15);--weui-GLYPH-0: rgba(0, 0, 0, .9);--weui-GLYPH-1: rgba(0, 0, 0, .55);--weui-GLYPH-2: rgba(0, 0, 0, .3);--weui-GLYPH-WHITE-0: rgba(255, 255, 255, .8);--weui-GLYPH-WHITE-1: rgba(255, 255, 255, .5);--weui-GLYPH-WHITE-2: rgba(255, 255, 255, .3);--weui-GLYPH-WHITE-3: #FFFFFF;--weui-GREEN-100: #91D300;--weui-GREEN-120: #A7DB33;--weui-GREEN-170: #DEF1B3;--weui-GREEN-80: #74A800;--weui-GREEN-90: #82BD00;--weui-GREEN-BG-100: #96BE40;--weui-GREEN-BG-110: #A0C452;--weui-GREEN-BG-130: #B5D179;--weui-GREEN-BG-90: #86AA39;--weui-INDIGO-100: #1485EE;--weui-INDIGO-120: #439DF1;--weui-INDIGO-170: #B8DAF9;--weui-INDIGO-80: #106ABE;--weui-INDIGO-90: #1277D6;--weui-INDIGO-BG-100: #2B77BF;--weui-INDIGO-BG-110: #3F84C5;--weui-INDIGO-BG-130: #6BA0D2;--weui-INDIGO-BG-90: #266AAB;--weui-LIGHTGREEN-100: #95EC69;--weui-LIGHTGREEN-120: #AAEF87;--weui-LIGHTGREEN-170: #DEF9D1;--weui-LIGHTGREEN-80: #77BC54;--weui-LIGHTGREEN-90: #85D35E;--weui-LIGHTGREEN-BG-100: #72CF60;--weui-LIGHTGREEN-BG-110: #80D370;--weui-LIGHTGREEN-BG-130: #9CDD90;--weui-LIGHTGREEN-BG-90: #66B956;--weui-LINK-100: #576B95;--weui-LINK-120: #7888AA;--weui-LINK-170: #CCD2DE;--weui-LINK-80: #455577;--weui-LINK-90: #4E6085;--weui-LINKFINDER-100: #002666;--weui-MATERIAL-ATTACHMENTCOLUMN: rgba(245, 245, 245, .95);--weui-MATERIAL-NAVIGATIONBAR: rgba(237, 237, 237, .94);--weui-MATERIAL-REGULAR: rgba(247, 247, 247, .3);--weui-MATERIAL-THICK: rgba(247, 247, 247, .8);--weui-MATERIAL-THIN: rgba(255, 255, 255, .2);--weui-MATERIAL-TOOLBAR: rgba(246, 246, 246, .82);--weui-ORANGE-100: #FA9D3B;--weui-ORANGE-120: #FBB062;--weui-ORANGE-170: #FDE1C3;--weui-ORANGE-80: #C87D2F;--weui-ORANGE-90: #E08C34;--weui-ORANGE-BG-100: #EA7800;--weui-ORANGE-BG-110: #EC8519;--weui-ORANGE-BG-130: #F0A04D;--weui-ORANGE-BG-90: #D26B00;--weui-ORANGERED-100: #FF6146;--weui-OVERLAY: rgba(0, 0, 0, .5);--weui-OVERLAY-WHITE: rgba(242, 242, 242, .8);--weui-PURPLE-100: #6467F0;--weui-PURPLE-120: #8385F3;--weui-PURPLE-170: #D0D1FA;--weui-PURPLE-80: #5052C0;--weui-PURPLE-90: #595CD7;--weui-PURPLE-BG-100: #6769BA;--weui-PURPLE-BG-110: #7678C1;--weui-PURPLE-BG-130: #9496CE;--weui-PURPLE-BG-90: #5C5EA7;--weui-RED-100: #FA5151;--weui-RED-120: #FB7373;--weui-RED-170: #FDCACA;--weui-RED-80: #C84040;--weui-RED-90: #E14949;--weui-RED-BG-100: #CF5148;--weui-RED-BG-110: #D3625A;--weui-RED-BG-130: #DD847E;--weui-RED-BG-90: #B94840;--weui-SECONDARY-BG: rgba(0, 0, 0, .05);--weui-SEPARATOR-0: rgba(0, 0, 0, .1);--weui-SEPARATOR-1: rgba(0, 0, 0, .15);--weui-STATELAYER-HOVERED: rgba(0, 0, 0, .02);--weui-STATELAYER-PRESSED: rgba(0, 0, 0, .1);--weui-STATELAYER-PRESSEDSTRENGTHENED: rgba(0, 0, 0, .2);--weui-YELLOW-100: #FFC300;--weui-YELLOW-120: #FFCF33;--weui-YELLOW-170: #FFECB2;--weui-YELLOW-80: #CC9C00;--weui-YELLOW-90: #E6AF00;--weui-YELLOW-BG-100: #EFB600;--weui-YELLOW-BG-110: #F0BD19;--weui-YELLOW-BG-130: #F3CC4D;--weui-YELLOW-BG-90: #D7A400;--weui-FG-HALF: rgba(0, 0, 0, .9);--weui-RED: #FA5151;--weui-ORANGERED: #FF6146;--weui-ORANGE: #FA9D3B;--weui-YELLOW: #FFC300;--weui-GREEN: #91D300;--weui-LIGHTGREEN: #95EC69;--weui-TEXTGREEN: #06AE56;--weui-BRAND: #07C160;--weui-BLUE: #10AEFF;--weui-INDIGO: #1485EE;--weui-PURPLE: #6467F0;--weui-LINK: #576B95;--weui-TAG-TEXT-ORANGE: #FA9D3B;--weui-TAG-TEXT-GREEN: #06AE56;--weui-TAG-TEXT-BLUE: #10AEFF;--weui-REDORANGE: #FF6146;--weui-TAG-TEXT-BLACK: rgba(0, 0, 0, .5);--weui-TAG-BACKGROUND-BLACK: rgba(0, 0, 0, .05);--weui-WHITE: #FFFFFF;--weui-BG: #FFFFFF;--weui-FG: #000;--weui-FG-5: rgba(0, 0, 0, .05);--weui-TAG-BACKGROUND-ORANGE: rgba(250, 157, 59, .1);--weui-TAG-BACKGROUND-GREEN: rgba(6, 174, 86, .1);--weui-TAG-TEXT-RED: rgba(250, 81, 81, .6);--weui-TAG-BACKGROUND-RED: rgba(250, 81, 81, .1);--weui-TAG-BACKGROUND-BLUE: rgba(16, 174, 255, .1)}body,.wx-root{--weui-BG-0: #EDEDED;--weui-BG-1: #F7F7F7;--weui-BG-2: #FFFFFF;--weui-BG-3: #F7F7F7;--weui-BG-4: #4C4C4C;--weui-BG-5: #FFFFFF;--weui-BLUE-100: #10AEFF;--weui-BLUE-120: #3FBEFF;--weui-BLUE-170: #B7E6FF;--weui-BLUE-80: #0C8BCC;--weui-BLUE-90: #0E9CE6;--weui-BLUE-BG-100: #48A6E2;--weui-BLUE-BG-110: #5AAFE4;--weui-BLUE-BG-130: #7FC0EA;--weui-BLUE-BG-90: #4095CB;--weui-BRAND-100: #07C160;--weui-BRAND-120: #38CD7F;--weui-BRAND-170: #B4ECCE;--weui-BRAND-80: #059A4C;--weui-BRAND-90: #06AE56;--weui-BRAND-BG-100: #2AAE67;--weui-BRAND-BG-110: #3EB575;--weui-BRAND-BG-130: #69C694;--weui-BRAND-BG-90: #259C5C;--weui-FG-0: rgba(0, 0, 0, .9);--weui-FG-0_5: rgba(0, 0, 0, .9);--weui-FG-1: rgba(0, 0, 0, .55);--weui-FG-2: rgba(0, 0, 0, .3);--weui-FG-3: rgba(0, 0, 0, .1);--weui-FG-4: rgba(0, 0, 0, .15);--weui-GLYPH-0: rgba(0, 0, 0, .9);--weui-GLYPH-1: rgba(0, 0, 0, .55);--weui-GLYPH-2: rgba(0, 0, 0, .3);--weui-GLYPH-WHITE-0: rgba(255, 255, 255, .8);--weui-GLYPH-WHITE-1: rgba(255, 255, 255, .5);--weui-GLYPH-WHITE-2: rgba(255, 255, 255, .3);--weui-GLYPH-WHITE-3: #FFFFFF;--weui-GREEN-100: #91D300;--weui-GREEN-120: #A7DB33;--weui-GREEN-170: #DEF1B3;--weui-GREEN-80: #74A800;--weui-GREEN-90: #82BD00;--weui-GREEN-BG-100: #96BE40;--weui-GREEN-BG-110: #A0C452;--weui-GREEN-BG-130: #B5D179;--weui-GREEN-BG-90: #86AA39;--weui-INDIGO-100: #1485EE;--weui-INDIGO-120: #439DF1;--weui-INDIGO-170: #B8DAF9;--weui-INDIGO-80: #106ABE;--weui-INDIGO-90: #1277D6;--weui-INDIGO-BG-100: #2B77BF;--weui-INDIGO-BG-110: #3F84C5;--weui-INDIGO-BG-130: #6BA0D2;--weui-INDIGO-BG-90: #266AAB;--weui-LIGHTGREEN-100: #95EC69;--weui-LIGHTGREEN-120: #AAEF87;--weui-LIGHTGREEN-170: #DEF9D1;--weui-LIGHTGREEN-80: #77BC54;--weui-LIGHTGREEN-90: #85D35E;--weui-LIGHTGREEN-BG-100: #72CF60;--weui-LIGHTGREEN-BG-110: #80D370;--weui-LIGHTGREEN-BG-130: #9CDD90;--weui-LIGHTGREEN-BG-90: #66B956;--weui-LINK-100: #576B95;--weui-LINK-120: #7888AA;--weui-LINK-170: #CCD2DE;--weui-LINK-80: #455577;--weui-LINK-90: #4E6085;--weui-LINKFINDER-100: #002666;--weui-MATERIAL-ATTACHMENTCOLUMN: rgba(245, 245, 245, .95);--weui-MATERIAL-NAVIGATIONBAR: rgba(237, 237, 237, .94);--weui-MATERIAL-REGULAR: rgba(247, 247, 247, .3);--weui-MATERIAL-THICK: rgba(247, 247, 247, .8);--weui-MATERIAL-THIN: rgba(255, 255, 255, .2);--weui-MATERIAL-TOOLBAR: rgba(246, 246, 246, .82);--weui-ORANGE-100: #FA9D3B;--weui-ORANGE-120: #FBB062;--weui-ORANGE-170: #FDE1C3;--weui-ORANGE-80: #C87D2F;--weui-ORANGE-90: #E08C34;--weui-ORANGE-BG-100: #EA7800;--weui-ORANGE-BG-110: #EC8519;--weui-ORANGE-BG-130: #F0A04D;--weui-ORANGE-BG-90: #D26B00;--weui-ORANGERED-100: #FF6146;--weui-OVERLAY: rgba(0, 0, 0, .5);--weui-OVERLAY-WHITE: rgba(242, 242, 242, .8);--weui-PURPLE-100: #6467F0;--weui-PURPLE-120: #8385F3;--weui-PURPLE-170: #D0D1FA;--weui-PURPLE-80: #5052C0;--weui-PURPLE-90: #595CD7;--weui-PURPLE-BG-100: #6769BA;--weui-PURPLE-BG-110: #7678C1;--weui-PURPLE-BG-130: #9496CE;--weui-PURPLE-BG-90: #5C5EA7;--weui-RED-100: #FA5151;--weui-RED-120: #FB7373;--weui-RED-170: #FDCACA;--weui-RED-80: #C84040;--weui-RED-90: #E14949;--weui-RED-BG-100: #CF5148;--weui-RED-BG-110: #D3625A;--weui-RED-BG-130: #DD847E;--weui-RED-BG-90: #B94840;--weui-SECONDARY-BG: rgba(0, 0, 0, .05);--weui-SEPARATOR-0: rgba(0, 0, 0, .1);--weui-SEPARATOR-1: rgba(0, 0, 0, .15);--weui-STATELAYER-HOVERED: rgba(0, 0, 0, .02);--weui-STATELAYER-PRESSED: rgba(0, 0, 0, .1);--weui-STATELAYER-PRESSEDSTRENGTHENED: rgba(0, 0, 0, .2);--weui-YELLOW-100: #FFC300;--weui-YELLOW-120: #FFCF33;--weui-YELLOW-170: #FFECB2;--weui-YELLOW-80: #CC9C00;--weui-YELLOW-90: #E6AF00;--weui-YELLOW-BG-100: #EFB600;--weui-YELLOW-BG-110: #F0BD19;--weui-YELLOW-BG-130: #F3CC4D;--weui-YELLOW-BG-90: #D7A400;--weui-FG-HALF: rgba(0, 0, 0, .9);--weui-RED: #FA5151;--weui-ORANGERED: #FF6146;--weui-ORANGE: #FA9D3B;--weui-YELLOW: #FFC300;--weui-GREEN: #91D300;--weui-LIGHTGREEN: #95EC69;--weui-TEXTGREEN: #06AE56;--weui-BRAND: #07C160;--weui-BLUE: #10AEFF;--weui-INDIGO: #1485EE;--weui-PURPLE: #6467F0;--weui-LINK: #576B95;--weui-TAG-TEXT-ORANGE: #FA9D3B;--weui-TAG-TEXT-GREEN: #06AE56;--weui-TAG-TEXT-BLUE: #10AEFF;--weui-REDORANGE: #FF6146;--weui-TAG-TEXT-BLACK: rgba(0, 0, 0, .5);--weui-TAG-BACKGROUND-BLACK: rgba(0, 0, 0, .05);--weui-WHITE: #FFFFFF;--weui-BG: #FFFFFF;--weui-FG: #000;--weui-FG-5: rgba(0, 0, 0, .05);--weui-TAG-BACKGROUND-ORANGE: rgba(250, 157, 59, .1);--weui-TAG-BACKGROUND-GREEN: rgba(6, 174, 86, .1);--weui-TAG-TEXT-RED: rgba(250, 81, 81, .6);--weui-TAG-BACKGROUND-RED: rgba(250, 81, 81, .1);--weui-TAG-BACKGROUND-BLUE: rgba(16, 174, 255, .1)}.wx-root,body{--weui-BG-0: #ededed;--weui-BG-1: #f7f7f7;--weui-BG-2: #fff;--weui-BG-3: #f7f7f7;--weui-BG-4: #4c4c4c;--weui-BG-5: #fff;--weui-BLUE-100: #10aeff;--weui-BLUE-120: #3fbeff;--weui-BLUE-170: #b7e6ff;--weui-BLUE-80: #0c8bcc;--weui-BLUE-90: #0e9ce6;--weui-BLUE-BG-100: #48a6e2;--weui-BLUE-BG-110: #5aafe4;--weui-BLUE-BG-130: #7fc0ea;--weui-BLUE-BG-90: #4095cb;--weui-BRAND-100: #07c160;--weui-BRAND-120: #38cd7f;--weui-BRAND-170: #b4ecce;--weui-BRAND-80: #059a4c;--weui-BRAND-90: #06ae56;--weui-BRAND-BG-100: #2aae67;--weui-BRAND-BG-110: #3eb575;--weui-BRAND-BG-130: #69c694;--weui-BRAND-BG-90: #259c5c;--weui-FG-0: rgba(0,0,0,.9);--weui-FG-0_5: rgba(0,0,0,.9);--weui-FG-1: rgba(0,0,0,.55);--weui-FG-2: rgba(0,0,0,.3);--weui-FG-3: rgba(0,0,0,.1);--weui-FG-4: rgba(0,0,0,.15);--weui-GLYPH-0: rgba(0,0,0,.9);--weui-GLYPH-1: rgba(0,0,0,.55);--weui-GLYPH-2: rgba(0,0,0,.3);--weui-GLYPH-WHITE-0: hsla(0,0%,100%,.8);--weui-GLYPH-WHITE-1: hsla(0,0%,100%,.5);--weui-GLYPH-WHITE-2: hsla(0,0%,100%,.3);--weui-GLYPH-WHITE-3: #fff;--weui-GREEN-100: #91d300;--weui-GREEN-120: #a7db33;--weui-GREEN-170: #def1b3;--weui-GREEN-80: #74a800;--weui-GREEN-90: #82bd00;--weui-GREEN-BG-100: #96be40;--weui-GREEN-BG-110: #a0c452;--weui-GREEN-BG-130: #b5d179;--weui-GREEN-BG-90: #86aa39;--weui-INDIGO-100: #1485ee;--weui-INDIGO-120: #439df1;--weui-INDIGO-170: #b8daf9;--weui-INDIGO-80: #106abe;--weui-INDIGO-90: #1277d6;--weui-INDIGO-BG-100: #2b77bf;--weui-INDIGO-BG-110: #3f84c5;--weui-INDIGO-BG-130: #6ba0d2;--weui-INDIGO-BG-90: #266aab;--weui-LIGHTGREEN-100: #95ec69;--weui-LIGHTGREEN-120: #aaef87;--weui-LIGHTGREEN-170: #def9d1;--weui-LIGHTGREEN-80: #77bc54;--weui-LIGHTGREEN-90: #85d35e;--weui-LIGHTGREEN-BG-100: #72cf60;--weui-LIGHTGREEN-BG-110: #80d370;--weui-LIGHTGREEN-BG-130: #9cdd90;--weui-LIGHTGREEN-BG-90: #66b956;--weui-LINK-100: #576b95;--weui-LINK-120: #7888aa;--weui-LINK-170: #ccd2de;--weui-LINK-80: #455577;--weui-LINK-90: #4e6085;--weui-LINKFINDER-100: #002666;--weui-MATERIAL-ATTACHMENTCOLUMN: hsla(0,0%,96.1%,.95);--weui-MATERIAL-NAVIGATIONBAR: hsla(0,0%,92.9%,.94);--weui-MATERIAL-REGULAR: hsla(0,0%,96.9%,.3);--weui-MATERIAL-THICK: hsla(0,0%,96.9%,.8);--weui-MATERIAL-THIN: hsla(0,0%,100%,.2);--weui-MATERIAL-TOOLBAR: hsla(0,0%,96.5%,.82);--weui-ORANGE-100: #fa9d3b;--weui-ORANGE-120: #fbb062;--weui-ORANGE-170: #fde1c3;--weui-ORANGE-80: #c87d2f;--weui-ORANGE-90: #e08c34;--weui-ORANGE-BG-100: #ea7800;--weui-ORANGE-BG-110: #ec8519;--weui-ORANGE-BG-130: #f0a04d;--weui-ORANGE-BG-90: #d26b00;--weui-ORANGERED-100: #ff6146;--weui-OVERLAY: rgba(0,0,0,.5);--weui-OVERLAY-WHITE: hsla(0,0%,94.9%,.8);--weui-PURPLE-100: #6467f0;--weui-PURPLE-120: #8385f3;--weui-PURPLE-170: #d0d1fa;--weui-PURPLE-80: #5052c0;--weui-PURPLE-90: #595cd7;--weui-PURPLE-BG-100: #6769ba;--weui-PURPLE-BG-110: #7678c1;--weui-PURPLE-BG-130: #9496ce;--weui-PURPLE-BG-90: #5c5ea7;--weui-RED-100: #fa5151;--weui-RED-120: #fb7373;--weui-RED-170: #fdcaca;--weui-RED-80: #c84040;--weui-RED-90: #e14949;--weui-RED-BG-100: #cf5148;--weui-RED-BG-110: #d3625a;--weui-RED-BG-130: #dd847e;--weui-RED-BG-90: #b94840;--weui-SECONDARY-BG: rgba(0,0,0,.05);--weui-SEPARATOR-0: rgba(0,0,0,.1);--weui-SEPARATOR-1: rgba(0,0,0,.15);--weui-STATELAYER-HOVERED: rgba(0,0,0,.02);--weui-STATELAYER-PRESSED: rgba(0,0,0,.1);--weui-STATELAYER-PRESSEDSTRENGTHENED: rgba(0,0,0,.2);--weui-YELLOW-100: #ffc300;--weui-YELLOW-120: #ffcf33;--weui-YELLOW-170: #ffecb2;--weui-YELLOW-80: #cc9c00;--weui-YELLOW-90: #e6af00;--weui-YELLOW-BG-100: #efb600;--weui-YELLOW-BG-110: #f0bd19;--weui-YELLOW-BG-130: #f3cc4d;--weui-YELLOW-BG-90: #d7a400;--weui-FG-HALF: rgba(0,0,0,.9);--weui-RED: #fa5151;--weui-ORANGERED: #ff6146;--weui-ORANGE: #fa9d3b;--weui-YELLOW: #ffc300;--weui-GREEN: #91d300;--weui-LIGHTGREEN: #95ec69;--weui-TEXTGREEN: #06ae56;--weui-BRAND: #07c160;--weui-BLUE: #10aeff;--weui-INDIGO: #1485ee;--weui-PURPLE: #6467f0;--weui-LINK: #576b95;--weui-TAG-TEXT-ORANGE: #fa9d3b;--weui-TAG-TEXT-GREEN: #06ae56;--weui-TAG-TEXT-BLUE: #10aeff;--weui-REDORANGE: #ff6146;--weui-TAG-TEXT-BLACK: rgba(0,0,0,.5);--weui-TAG-BACKGROUND-BLACK: rgba(0,0,0,.05);--weui-WHITE: #fff;--weui-BG: #fff;--weui-FG: #000;--weui-FG-5: rgba(0,0,0,.05);--weui-TAG-BACKGROUND-ORANGE: rgba(250,157,59,.1);--weui-TAG-BACKGROUND-GREEN: rgba(6,174,86,.1);--weui-TAG-TEXT-RED: rgba(250,81,81,.6);--weui-TAG-BACKGROUND-RED: rgba(250,81,81,.1);--weui-TAG-BACKGROUND-BLUE: rgba(16,174,255,.1)}.wx-root,body{--weui-BTN-ACTIVE-MASK: rgba(0, 0, 0, .1)}.wx-root,body{--weui-BTN-DEFAULT-ACTIVE-BG: #e6e6e6}.wx-root,body{--weui-DIALOG-LINE-COLOR: rgba(0, 0, 0, .1)}.wx-root,body{--weui-BG-COLOR-ACTIVE: #ececec}@media(prefers-color-scheme:dark){.wx-root:not([data-weui-theme=light]),body:not([data-weui-theme=light]){--weui-BTN-ACTIVE-MASK: rgba(255, 255, 255, .1)}}@media(prefers-color-scheme:dark){.wx-root:not([data-weui-theme=light]),body:not([data-weui-theme=light]){--weui-BTN-DEFAULT-ACTIVE-BG: rgba(255, 255, 255, .126)}}@media(prefers-color-scheme:dark){.wx-root:not([data-weui-theme=light]),body:not([data-weui-theme=light]){--weui-DIALOG-LINE-COLOR: rgba(255, 255, 255, .1)}}@media(prefers-color-scheme:dark){.wx-root:not([data-weui-theme=light]),body:not([data-weui-theme=light]){--APPMSGCARD-BG: #1E1E1E}}@media(prefers-color-scheme:dark){.wx-root:not([data-weui-theme=light]),body:not([data-weui-theme=light]){--APPMSGCARD-LINE-BG: rgba(255, 255, 255, .07)}}@media(prefers-color-scheme:dark){.wx-root:not([data-weui-theme=light]),body:not([data-weui-theme=light]){--weui-BG-COLOR-ACTIVE: #373737}}@media(prefers-color-scheme:dark){.wx-root:not([data-weui-theme=light]),body:not([data-weui-theme=light]){--weui-BG-6: rgba(255, 255, 255, .1);--weui-ACTIVE-MASK: rgba(255, 255, 255, .1)}}@media(prefers-color-scheme:dark){.wx-root:not([data-weui-theme=light]),body:not([data-weui-theme=light]){--weui-BG-0: #111;--weui-BG-1: #1e1e1e;--weui-BG-5: #2c2c2c;--weui-RED: #fa5151;--weui-ORANGERED: #ff6146;--weui-ORANGE: #c87d2f;--weui-YELLOW: #cc9c00;--weui-GREEN: #74a800;--weui-LIGHTGREEN: #3eb575;--weui-BRAND: #07c160;--weui-BLUE: #10aeff;--weui-INDIGO: #1196ff;--weui-PURPLE: #8183ff;--weui-LINK: #7d90a9;--weui-TEXTGREEN: #259c5c;--weui-REDORANGE: #ff6146;--weui-BG-0: #111111;--weui-BG-1: #1E1E1E;--weui-BG-2: #191919;--weui-BG-3: #202020;--weui-BG-4: #404040;--weui-BG-5: #2C2C2C;--weui-BLUE-100: #10AEFF;--weui-BLUE-120: #0C8BCC;--weui-BLUE-170: #04344D;--weui-BLUE-80: #3FBEFF;--weui-BLUE-90: #28B6FF;--weui-BLUE-BG-100: #48A6E2;--weui-BLUE-BG-110: #4095CB;--weui-BLUE-BG-130: #32749E;--weui-BLUE-BG-90: #5AAFE4;--weui-BRAND-100: #07C160;--weui-BRAND-120: #059A4C;--weui-BRAND-170: #023A1C;--weui-BRAND-80: #38CD7F;--weui-BRAND-90: #20C770;--weui-BRAND-BG-100: #2AAE67;--weui-BRAND-BG-110: #259C5C;--weui-BRAND-BG-130: #1D7A48;--weui-BRAND-BG-90: #3EB575;--weui-FG-0: rgba(255, 255, 255, .8);--weui-FG-0_5: rgba(255, 255, 255, .6);--weui-FG-1: rgba(255, 255, 255, .5);--weui-FG-2: rgba(255, 255, 255, .3);--weui-FG-3: rgba(255, 255, 255, .1);--weui-FG-4: rgba(255, 255, 255, .15);--weui-GLYPH-0: rgba(255, 255, 255, .8);--weui-GLYPH-1: rgba(255, 255, 255, .5);--weui-GLYPH-2: rgba(255, 255, 255, .3);--weui-GLYPH-WHITE-0: rgba(255, 255, 255, .8);--weui-GLYPH-WHITE-1: rgba(255, 255, 255, .5);--weui-GLYPH-WHITE-2: rgba(255, 255, 255, .3);--weui-GLYPH-WHITE-3: #FFFFFF;--weui-GREEN-100: #74A800;--weui-GREEN-120: #5C8600;--weui-GREEN-170: #233200;--weui-GREEN-80: #8FB933;--weui-GREEN-90: #82B01A;--weui-GREEN-BG-100: #789833;--weui-GREEN-BG-110: #6B882D;--weui-GREEN-BG-130: #65802B;--weui-GREEN-BG-90: #85A247;--weui-INDIGO-100: #1196FF;--weui-INDIGO-120: #0D78CC;--weui-INDIGO-170: #052D4D;--weui-INDIGO-80: #40ABFF;--weui-INDIGO-90: #28A0FF;--weui-INDIGO-BG-100: #0D78CC;--weui-INDIGO-BG-110: #0B6BB7;--weui-INDIGO-BG-130: #09548F;--weui-INDIGO-BG-90: #2585D1;--weui-LIGHTGREEN-100: #3EB575;--weui-LIGHTGREEN-120: #31905D;--weui-LIGHTGREEN-170: #123522;--weui-LIGHTGREEN-80: #64C390;--weui-LIGHTGREEN-90: #51BC83;--weui-LIGHTGREEN-BG-100: #31905D;--weui-LIGHTGREEN-BG-110: #2C8153;--weui-LIGHTGREEN-BG-130: #226541;--weui-LIGHTGREEN-BG-90: #31905D;--weui-LINK-100: #7D90A9;--weui-LINK-120: #647387;--weui-LINK-170: #252A32;--weui-LINK-80: #97A6BA;--weui-LINK-90: #899AB1;--weui-LINKFINDER-100: #DEE9FF;--weui-MATERIAL-ATTACHMENTCOLUMN: rgba(32, 32, 32, .93);--weui-MATERIAL-NAVIGATIONBAR: rgba(18, 18, 18, .9);--weui-MATERIAL-REGULAR: rgba(37, 37, 37, .6);--weui-MATERIAL-THICK: rgba(34, 34, 34, .9);--weui-MATERIAL-THIN: rgba(95, 95, 95, .4);--weui-MATERIAL-TOOLBAR: rgba(35, 35, 35, .93);--weui-ORANGE-100: #C87D2F;--weui-ORANGE-120: #A06425;--weui-ORANGE-170: #3B250E;--weui-ORANGE-80: #D39758;--weui-ORANGE-90: #CD8943;--weui-ORANGE-BG-100: #BB6000;--weui-ORANGE-BG-110: #A85600;--weui-ORANGE-BG-130: #824300;--weui-ORANGE-BG-90: #C1701A;--weui-ORANGERED-100: #FF6146;--weui-OVERLAY: rgba(0, 0, 0, .8);--weui-OVERLAY-WHITE: rgba(242, 242, 242, .8);--weui-PURPLE-100: #8183FF;--weui-PURPLE-120: #6768CC;--weui-PURPLE-170: #26274C;--weui-PURPLE-80: #9A9BFF;--weui-PURPLE-90: #8D8FFF;--weui-PURPLE-BG-100: #6768CC;--weui-PURPLE-BG-110: #5C5DB7;--weui-PURPLE-BG-130: #48498F;--weui-PURPLE-BG-90: #7677D1;--weui-RED-100: #FA5151;--weui-RED-120: #C84040;--weui-RED-170: #4B1818;--weui-RED-80: #FB7373;--weui-RED-90: #FA6262;--weui-RED-BG-100: #CF5148;--weui-RED-BG-110: #BA4940;--weui-RED-BG-130: #913832;--weui-RED-BG-90: #D3625A;--weui-SECONDARY-BG: rgba(255, 255, 255, .1);--weui-SEPARATOR-0: rgba(255, 255, 255, .05);--weui-SEPARATOR-1: rgba(255, 255, 255, .15);--weui-STATELAYER-HOVERED: rgba(0, 0, 0, .02);--weui-STATELAYER-PRESSED: rgba(255, 255, 255, .1);--weui-STATELAYER-PRESSEDSTRENGTHENED: rgba(255, 255, 255, .2);--weui-YELLOW-100: #CC9C00;--weui-YELLOW-120: #A37C00;--weui-YELLOW-170: #3D2F00;--weui-YELLOW-80: #D6AF33;--weui-YELLOW-90: #D1A519;--weui-YELLOW-BG-100: #BF9100;--weui-YELLOW-BG-110: #AB8200;--weui-YELLOW-BG-130: #866500;--weui-YELLOW-BG-90: #C59C1A;--weui-FG-HALF: rgba(255, 255, 255, .6);--weui-RED: #FA5151;--weui-ORANGERED: #FF6146;--weui-ORANGE: #C87D2F;--weui-YELLOW: #CC9C00;--weui-GREEN: #74A800;--weui-LIGHTGREEN: #3EB575;--weui-TEXTGREEN: #259C5C;--weui-BRAND: #07C160;--weui-BLUE: #10AEFF;--weui-INDIGO: #1196FF;--weui-PURPLE: #8183FF;--weui-LINK: #7D90A9;--weui-REDORANGE: #FF6146;--weui-TAG-TEXT-BLACK: rgba(255, 255, 255, .5);--weui-TAG-BACKGROUND-BLACK: rgba(255, 255, 255, .05);--weui-WHITE: rgba(255, 255, 255, .8);--weui-FG: #fff;--weui-BG: #000;--weui-FG-5: rgba(255, 255, 255, .1);--weui-TAG-BACKGROUND-ORANGE: rgba(250, 157, 59, .1);--weui-TAG-BACKGROUND-GREEN: rgba(6, 174, 86, .1);--weui-TAG-TEXT-RED: rgba(250, 81, 81, .6);--weui-TAG-BACKGROUND-RED: rgba(250, 81, 81, .1);--weui-TAG-BACKGROUND-BLUE: rgba(16, 174, 255, .1);--weui-TAG-TEXT-ORANGE: rgba(250, 157, 59, .6);--weui-TAG-TEXT-GREEN: rgba(6, 174, 86, .6);--weui-TAG-TEXT-BLUE: rgba(16, 174, 255, .6)}}@media(prefers-color-scheme:dark){.wx-root:not([data-weui-theme=light]),body:not([data-weui-theme=light]){--discussInput-BG: rgba(255, 255, 255, .03)}}@media(prefers-color-scheme:dark){.wx-root:not([data-weui-theme=light]),body:not([data-weui-theme=light]){--nickName-FG: #959595}}@media(prefers-color-scheme:dark){.wx-root:not([data-weui-theme=light]),body:not([data-weui-theme=light]){--weui-BG-0: #111111;--weui-BG-1: #1E1E1E;--weui-BG-2: #191919;--weui-BG-3: #202020;--weui-BG-4: #404040;--weui-BG-5: #2C2C2C;--weui-BLUE-100: #10AEFF;--weui-BLUE-120: #0C8BCC;--weui-BLUE-170: #04344D;--weui-BLUE-80: #3FBEFF;--weui-BLUE-90: #28B6FF;--weui-BLUE-BG-100: #48A6E2;--weui-BLUE-BG-110: #4095CB;--weui-BLUE-BG-130: #32749E;--weui-BLUE-BG-90: #5AAFE4;--weui-BRAND-100: #07C160;--weui-BRAND-120: #059A4C;--weui-BRAND-170: #023A1C;--weui-BRAND-80: #38CD7F;--weui-BRAND-90: #20C770;--weui-BRAND-BG-100: #2AAE67;--weui-BRAND-BG-110: #259C5C;--weui-BRAND-BG-130: #1D7A48;--weui-BRAND-BG-90: #3EB575;--weui-FG-0: rgba(255, 255, 255, .8);--weui-FG-0_5: rgba(255, 255, 255, .6);--weui-FG-1: rgba(255, 255, 255, .5);--weui-FG-2: rgba(255, 255, 255, .3);--weui-FG-3: rgba(255, 255, 255, .1);--weui-FG-4: rgba(255, 255, 255, .15);--weui-GLYPH-0: rgba(255, 255, 255, .8);--weui-GLYPH-1: rgba(255, 255, 255, .5);--weui-GLYPH-2: rgba(255, 255, 255, .3);--weui-GLYPH-WHITE-0: rgba(255, 255, 255, .8);--weui-GLYPH-WHITE-1: rgba(255, 255, 255, .5);--weui-GLYPH-WHITE-2: rgba(255, 255, 255, .3);--weui-GLYPH-WHITE-3: #FFFFFF;--weui-GREEN-100: #74A800;--weui-GREEN-120: #5C8600;--weui-GREEN-170: #233200;--weui-GREEN-80: #8FB933;--weui-GREEN-90: #82B01A;--weui-GREEN-BG-100: #789833;--weui-GREEN-BG-110: #6B882D;--weui-GREEN-BG-130: #65802B;--weui-GREEN-BG-90: #85A247;--weui-INDIGO-100: #1196FF;--weui-INDIGO-120: #0D78CC;--weui-INDIGO-170: #052D4D;--weui-INDIGO-80: #40ABFF;--weui-INDIGO-90: #28A0FF;--weui-INDIGO-BG-100: #0D78CC;--weui-INDIGO-BG-110: #0B6BB7;--weui-INDIGO-BG-130: #09548F;--weui-INDIGO-BG-90: #2585D1;--weui-LIGHTGREEN-100: #3EB575;--weui-LIGHTGREEN-120: #31905D;--weui-LIGHTGREEN-170: #123522;--weui-LIGHTGREEN-80: #64C390;--weui-LIGHTGREEN-90: #51BC83;--weui-LIGHTGREEN-BG-100: #31905D;--weui-LIGHTGREEN-BG-110: #2C8153;--weui-LIGHTGREEN-BG-130: #226541;--weui-LIGHTGREEN-BG-90: #31905D;--weui-LINK-100: #7D90A9;--weui-LINK-120: #647387;--weui-LINK-170: #252A32;--weui-LINK-80: #97A6BA;--weui-LINK-90: #899AB1;--weui-LINKFINDER-100: #DEE9FF;--weui-MATERIAL-ATTACHMENTCOLUMN: rgba(32, 32, 32, .93);--weui-MATERIAL-NAVIGATIONBAR: rgba(18, 18, 18, .9);--weui-MATERIAL-REGULAR: rgba(37, 37, 37, .6);--weui-MATERIAL-THICK: rgba(34, 34, 34, .9);--weui-MATERIAL-THIN: rgba(95, 95, 95, .4);--weui-MATERIAL-TOOLBAR: rgba(35, 35, 35, .93);--weui-ORANGE-100: #C87D2F;--weui-ORANGE-120: #A06425;--weui-ORANGE-170: #3B250E;--weui-ORANGE-80: #D39758;--weui-ORANGE-90: #CD8943;--weui-ORANGE-BG-100: #BB6000;--weui-ORANGE-BG-110: #A85600;--weui-ORANGE-BG-130: #824300;--weui-ORANGE-BG-90: #C1701A;--weui-ORANGERED-100: #FF6146;--weui-OVERLAY: rgba(0, 0, 0, .8);--weui-OVERLAY-WHITE: rgba(242, 242, 242, .8);--weui-PURPLE-100: #8183FF;--weui-PURPLE-120: #6768CC;--weui-PURPLE-170: #26274C;--weui-PURPLE-80: #9A9BFF;--weui-PURPLE-90: #8D8FFF;--weui-PURPLE-BG-100: #6768CC;--weui-PURPLE-BG-110: #5C5DB7;--weui-PURPLE-BG-130: #48498F;--weui-PURPLE-BG-90: #7677D1;--weui-RED-100: #FA5151;--weui-RED-120: #C84040;--weui-RED-170: #4B1818;--weui-RED-80: #FB7373;--weui-RED-90: #FA6262;--weui-RED-BG-100: #CF5148;--weui-RED-BG-110: #BA4940;--weui-RED-BG-130: #913832;--weui-RED-BG-90: #D3625A;--weui-SECONDARY-BG: rgba(255, 255, 255, .1);--weui-SEPARATOR-0: rgba(255, 255, 255, .05);--weui-SEPARATOR-1: rgba(255, 255, 255, .15);--weui-STATELAYER-HOVERED: rgba(0, 0, 0, .02);--weui-STATELAYER-PRESSED: rgba(255, 255, 255, .1);--weui-STATELAYER-PRESSEDSTRENGTHENED: rgba(255, 255, 255, .2);--weui-YELLOW-100: #CC9C00;--weui-YELLOW-120: #A37C00;--weui-YELLOW-170: #3D2F00;--weui-YELLOW-80: #D6AF33;--weui-YELLOW-90: #D1A519;--weui-YELLOW-BG-100: #BF9100;--weui-YELLOW-BG-110: #AB8200;--weui-YELLOW-BG-130: #866500;--weui-YELLOW-BG-90: #C59C1A;--weui-FG-HALF: rgba(255, 255, 255, .6);--weui-RED: #FA5151;--weui-ORANGERED: #FF6146;--weui-ORANGE: #C87D2F;--weui-YELLOW: #CC9C00;--weui-GREEN: #74A800;--weui-LIGHTGREEN: #3EB575;--weui-TEXTGREEN: #259C5C;--weui-BRAND: #07C160;--weui-BLUE: #10AEFF;--weui-INDIGO: #1196FF;--weui-PURPLE: #8183FF;--weui-LINK: #7D90A9;--weui-REDORANGE: #FF6146;--weui-TAG-TEXT-BLACK: rgba(255, 255, 255, .5);--weui-TAG-BACKGROUND-BLACK: rgba(255, 255, 255, .05);--weui-WHITE: rgba(255, 255, 255, .8);--weui-FG: #fff;--weui-BG: #000;--weui-FG-5: rgba(255, 255, 255, .1);--weui-TAG-BACKGROUND-ORANGE: rgba(250, 157, 59, .1);--weui-TAG-BACKGROUND-GREEN: rgba(6, 174, 86, .1);--weui-TAG-TEXT-RED: rgba(250, 81, 81, .6);--weui-TAG-BACKGROUND-RED: rgba(250, 81, 81, .1);--weui-TAG-BACKGROUND-BLUE: rgba(16, 174, 255, .1);--weui-TAG-TEXT-ORANGE: rgba(250, 157, 59, .6);--weui-TAG-TEXT-GREEN: rgba(6, 174, 86, .6);--weui-TAG-TEXT-BLUE: rgba(16, 174, 255, .6)}}@media(prefers-color-scheme:dark){.wx-root:not([data-weui-theme=light]),body:not([data-weui-theme=light]){--appmsgExtra-BG: #121212}}.rich_media_content p{clear:both;min-height:1em}td p{margin:0;padding:0}</style> \\n  <style>div.autoTypeSetting24psection > p,div.autoTypeSetting24psection > section{margin-bottom: 24px;}</style> \\n </div> \\n</body>',\n",
       " 'page_layout_type': 'article',\n",
       " 'domain': 'new.qq.com',\n",
       " 'dataset_name': 'tencent',\n",
       " 'data_source_category': 'HTML',\n",
       " 'meta_info': {'filename': 's3://private-crawl-data/zh-web-tencent/20241218_p1/2024/1734578100452.json.gz',\n",
       "  'posttime': '2024-10-06 08:00:00',\n",
       "  'n_content_county': [],\n",
       "  'm_identity': '5392709',\n",
       "  'n_origin': '中国环境APP',\n",
       "  'n_headimg_url': 'https://inews.gtimg.com/om_bt/OKkFbuaxesP2NUMNlDB2v_Zz1F9emTdkEufvZTiX2zmvQAA/641',\n",
       "  'f_domain_sec': 'new.qq.com',\n",
       "  'title': '童心迎国庆，童画绘环保',\n",
       "  'uuid': '04564f1d69c1b2b47c4bb69530eec760',\n",
       "  'n_contain_img': '1',\n",
       "  'c_nav': '',\n",
       "  'n_img_urls': ['https://inews.gtimg.com/om_bt/OKkFbuaxesP2NUMNlDB2v_Zz1F9emTdkEufvZTiX2zmvQAA/641',\n",
       "   'https://inews.gtimg.com/om_bt/O6kWJTdnl0xJXVrLTIpmjMkBdRolB8F55Td5KHobBICUQAA/641',\n",
       "   'https://inews.gtimg.com/om_bt/Onhkv-5GoDyfGmDZf-6gPGyDOcxa8bN-SYMfB_OcSMC8UAA/641',\n",
       "   'https://inews.gtimg.com/om_bt/O_v907d7XVoPz8yExCAErm1aw63EEJ6QreEE1WSPhCxC8AA/641',\n",
       "   'https://inews.gtimg.com/om_bt/Oa6FLEf-piLAtC_8hUbIEm54Cz4cnASRcU3qAyfEHPurUAA/641',\n",
       "   'https://inews.gtimg.com/om_bt/OWhaAfzsAQlb4lup4HxnYfBiTOKxcU2lg0HV9B0J0Pod0AA/641',\n",
       "   'https://inews.gtimg.com/om_bt/OqMzmaZEaGNePTGck9wPBsXVoUy9U9LopRU1KQOWmrKfEAA/641',\n",
       "   'https://inews.gtimg.com/om_bt/OCxgDLog9Cqs8XZt9o82IRM54iqYJyd4vGiAd8giBFEo0AA/641',\n",
       "   'https://inews.gtimg.com/om_bt/OmtgIpcqkCazEfh-8REKsj8YrOjtZFcT6Myueizx-az48AA/641',\n",
       "   'https://inews.gtimg.com/om_bt/OsQeLxc-J7DBHstGGyXgtWbdNSzMxpkQKA27jqyh_xKLYAA/641'],\n",
       "  'n_is_origin': 1,\n",
       "  'n_content_city': [],\n",
       "  'n_video_urls': [],\n",
       "  'footplate': 'web',\n",
       "  'n_origin_author_name': '',\n",
       "  'n_contain_video': '0',\n",
       "  'm_is_verified': '1',\n",
       "  'n_origin_url': '',\n",
       "  'n_origin_author_uid': '',\n",
       "  'c_level': '0',\n",
       "  'n_content_field': '其他',\n",
       "  'm_name': '中国环境',\n",
       "  'c_name': '企鹅号',\n",
       "  'n_content_province': [],\n",
       "  'n_origin_posttime': '',\n",
       "  'statics': {'paragraph': 7, 'paragraph.text': 7}},\n",
       " 'content_list': [[{'type': 'paragraph',\n",
       "    'raw_content': '<div class=\"rich_media_content autoTypeSetting24psection\"><section style=\"line-height: 1.75em\"><span style=\"color: rgb(64, 118, 0); font-size: 18px\">为庆祝中华人民共和国75周年华诞，中国环境APP青山Life研究所面向社会征集生态环保主题少儿绘画，得到少年儿童的积极响应。孩子们用一幅幅主题突出、形式新颖、富有时代气息和生活情趣的作品，展现出对生态环境保护与绿色低碳生活方式的思考与行动，对美丽中国的期盼与向往。现将投稿作品予以选登，与大家共赏。</span></section></div>',\n",
       "    'content': [{'c': '为庆祝中华人民共和国75周年华诞，中国环境APP青山Life研究所面向社会征集生态环保主题少儿绘画，得到少年儿童的积极响应。孩子们用一幅幅主题突出、形式新颖、富有时代气息和生活情趣的作品，展现出对生态环境保护与绿色低碳生活方式的思考与行动，对美丽中国的期盼与向往。现将投稿作品予以选登，与大家共赏。',\n",
       "      't': 'text'}]},\n",
       "   {'type': 'paragraph',\n",
       "    'raw_content': '<div class=\"rich_media_content autoTypeSetting24psection\"><p style=\"text-align: center\"><span style=\"font-size: 18px\"><strong><span style=\"color: rgb(64, 118, 0)\">更多作品，详见中国环境APP</span></strong></span></p></div>',\n",
       "    'content': [{'c': '更多作品，详见中国环境APP', 't': 'text'}]},\n",
       "   {'type': 'paragraph',\n",
       "    'raw_content': '<div class=\"rich_media_content autoTypeSetting24psection\"><p style=\"text-align: center\"><span style=\"font-size: 18px\"><strong><span style=\"color: rgb(64, 118, 0)\">【生活+】频道~</span></strong></span></p></div>',\n",
       "    'content': [{'c': '【生活+】频道~', 't': 'text'}]},\n",
       "   {'type': 'paragraph',\n",
       "    'raw_content': '<div class=\"rich_media_content autoTypeSetting24psection\"><section style=\"-webkit-tap-highlight-color: transparent; background-color: rgb(255, 255, 255); font-size: 16px; letter-spacing: 0.544px; outline: 0px; text-wrap: wrap\"><section style=\"-webkit-tap-highlight-color: transparent; display: flex; flex-flow: row; justify-content: flex-start; margin-bottom: 10px; outline: 0px; text-align: left\"><section style=\"-webkit-tap-highlight-color: transparent; align-self: flex-start; border-bottom: 1px solid rgb(255, 214, 125); border-left: 1px solid rgb(255, 214, 125); border-right: 1px solid rgb(255, 214, 125); display: inline-block; flex: 0 0 auto; outline: 0px; padding: 20px; vertical-align: top; width: 578px\"><section style=\"-webkit-tap-highlight-color: transparent; line-height: 0; outline: 0px; text-align: justify\"><p style=\"-webkit-tap-highlight-color: transparent; outline: 0px; text-align: center\"><span style=\"-webkit-tap-highlight-color: transparent; color: rgb(230, 52, 26); outline: 0px\"><strong style=\"-webkit-tap-highlight-color: transparent; outline: 0px\">推荐</strong><strong style=\"-webkit-tap-highlight-color: transparent; outline: 0px\">阅读</strong></span><br data-filtered=\"filtered\" style=\"-webkit-tap-highlight-color: transparent; outline: 0px\"></p></section></section></section></section></div>',\n",
       "    'content': [{'c': '推荐 阅读\\n', 't': 'text'}]},\n",
       "   {'type': 'paragraph',\n",
       "    'raw_content': '<div class=\"rich_media_content autoTypeSetting24psection\"><section style=\"-webkit-tap-highlight-color: transparent; background-color: rgb(255, 255, 255); font-size: 16px; letter-spacing: 0.544px; outline: 0px; text-wrap: wrap\"><section style=\"-webkit-tap-highlight-color: transparent; display: flex; flex-flow: row; justify-content: flex-start; margin-bottom: 10px; outline: 0px; text-align: left\"><section style=\"-webkit-tap-highlight-color: transparent; align-self: flex-start; border-bottom: 1px solid rgb(255, 214, 125); border-left: 1px solid rgb(255, 214, 125); border-right: 1px solid rgb(255, 214, 125); display: inline-block; flex: 0 0 auto; outline: 0px; padding: 20px; vertical-align: top; width: 578px\"><section style=\"-webkit-tap-highlight-color: transparent; outline: 0px\"><p style=\"-webkit-tap-highlight-color: transparent; letter-spacing: 0.544px; outline: 0px\"><strong style=\"-webkit-tap-highlight-color: transparent; outline: 0px\"><span style=\"-webkit-tap-highlight-color: transparent; color: rgb(121, 123, 170); font-size: 14px; outline: 0px\">▼<strong><span style=\"letter-spacing: 0.544px; text-decoration-color: rgb(87, 107, 149); text-decoration-style: solid\"></span></strong></span></strong></p></section></section></section></section></div>',\n",
       "    'content': [{'c': '▼', 't': 'text'}]},\n",
       "   {'type': 'paragraph',\n",
       "    'raw_content': '<div class=\"rich_media_content autoTypeSetting24psection\"><section style=\"-webkit-tap-highlight-color: transparent; background-color: rgb(255, 255, 255); letter-spacing: 0.578px; margin-bottom: 0px; outline: 0px; text-wrap: wrap\"><section style=\"-webkit-tap-highlight-color: transparent; outline: 0px\"><p style=\"-webkit-tap-highlight-color: transparent; letter-spacing: 0.544px; outline: 0px\"><span style=\"-webkit-tap-highlight-color: transparent; color: rgb(136, 136, 136); font-size: 16px; letter-spacing: 0.578px; outline: 0px\">来源：中国环境APP</span></p></section></section></div>',\n",
       "    'content': [{'c': '来源：中国环境APP', 't': 'text'}]},\n",
       "   {'type': 'paragraph',\n",
       "    'raw_content': '<div class=\"rich_media_content autoTypeSetting24psection\"><section style=\"-webkit-tap-highlight-color: transparent; background-color: rgb(255, 255, 255); letter-spacing: 0.578px; margin-bottom: 0px; outline: 0px; text-wrap: wrap\"><section style=\"-webkit-tap-highlight-color: transparent; outline: 0px\"><p style=\"-webkit-tap-highlight-color: transparent; outline: 0px\"><span style=\"-webkit-tap-highlight-color: transparent; color: rgb(136, 136, 136); font-size: 16px; outline: 0px\">编辑：张黎</span></p></section></section></div>',\n",
       "    'content': [{'c': '编辑：张黎', 't': 'text'}]}]],\n",
       " 'main_html': '<div class=\"rich_media_content autoTypeSetting24psection\"> \\n   \\n  <section style=\"line-height: 1.75em\"> \\n   <span style=\"color: rgb(64, 118, 0); font-size: 18px\">为庆祝中华人民共和国75周年华诞，中国环境APP青山Life研究所面向社会征集生态环保主题少儿绘画，得到少年儿童的积极响应。孩子们用一幅幅主题突出、形式新颖、富有时代气息和生活情趣的作品，展现出对生态环境保护与绿色低碳生活方式的思考与行动，对美丽中国的期盼与向往。现将投稿作品予以选登，与大家共赏。</span> \\n  </section> \\n  <p><img src=\"https://inews.gtimg.com/om_bt/OKkFbuaxesP2NUMNlDB2v_Zz1F9emTdkEufvZTiX2zmvQAA/641\"></p> \\n  <p><img src=\"https://inews.gtimg.com/om_bt/O6kWJTdnl0xJXVrLTIpmjMkBdRolB8F55Td5KHobBICUQAA/641\"></p> \\n  <p><img src=\"https://inews.gtimg.com/om_bt/Onhkv-5GoDyfGmDZf-6gPGyDOcxa8bN-SYMfB_OcSMC8UAA/641\"></p> \\n  <p><img src=\"https://inews.gtimg.com/om_bt/O_v907d7XVoPz8yExCAErm1aw63EEJ6QreEE1WSPhCxC8AA/641\"></p> \\n  <p><img src=\"https://inews.gtimg.com/om_bt/Oa6FLEf-piLAtC_8hUbIEm54Cz4cnASRcU3qAyfEHPurUAA/641\"></p> \\n  <p><img src=\"https://inews.gtimg.com/om_bt/OWhaAfzsAQlb4lup4HxnYfBiTOKxcU2lg0HV9B0J0Pod0AA/641\"></p> \\n  <p><img src=\"https://inews.gtimg.com/om_bt/OqMzmaZEaGNePTGck9wPBsXVoUy9U9LopRU1KQOWmrKfEAA/641\"></p> \\n  <p><img src=\"https://inews.gtimg.com/om_bt/OCxgDLog9Cqs8XZt9o82IRM54iqYJyd4vGiAd8giBFEo0AA/641\"></p> \\n  <p style=\"text-align: center\"><span style=\"font-size: 18px\"><strong><span style=\"color: rgb(64, 118, 0)\">更多作品，详见中国环境APP</span></strong></span></p> \\n  <p style=\"text-align: center\"><span style=\"font-size: 18px\"><strong><span style=\"color: rgb(64, 118, 0)\">【生活+】频道~</span></strong></span></p> \\n  <p><br></p> \\n  <section style=\"-webkit-tap-highlight-color: transparent; background-color: rgb(255, 255, 255); font-size: 16px; letter-spacing: 0.544px; outline: 0px; text-wrap: wrap\"> \\n   <section style=\"-webkit-tap-highlight-color: transparent; display: flex; flex-flow: row; justify-content: flex-start; margin-top: 10px; outline: 0px; text-align: left\"> \\n    <section style=\"-webkit-tap-highlight-color: transparent; align-self: flex-start; background-image: linear-gradient(to right, rgba(255, 214, 125, 0.5) 0%, rgba(255, 214, 125, 0) 100%); border-color: rgb(255, 214, 125); border-style: solid; border-width: 1px; display: inline-block; flex: 0 0 auto; line-height: 0; outline: 0px; padding-bottom: 3px; padding-right: 10px; padding-top: 3px; vertical-align: top; width: 578px\"> \\n     <section style=\"-webkit-tap-highlight-color: transparent; display: flex; flex-flow: row; justify-content: flex-end; outline: 0px; text-align: right\"> \\n      <section style=\"-webkit-tap-highlight-color: transparent; align-self: flex-start; display: inline-block; flex: 0 0 0%; height: auto; line-height: 0; outline: 0px; padding-left: 5px; padding-right: 5px; vertical-align: top; width: auto\"> \\n       <section style=\"-webkit-tap-highlight-color: transparent; outline: 0px; text-align: center\"> \\n         \\n       </section> \\n      </section> \\n      <section style=\"-webkit-tap-highlight-color: transparent; align-self: flex-start; display: inline-block; flex: 0 0 0%; height: auto; line-height: 0; outline: 0px; padding-left: 5px; padding-right: 5px; vertical-align: top; width: auto\"> \\n       <section style=\"-webkit-tap-highlight-color: transparent; outline: 0px; text-align: center\"> \\n         \\n       </section> \\n      </section> \\n      <section style=\"-webkit-tap-highlight-color: transparent; align-self: flex-start; display: inline-block; flex: 0 0 0%; height: auto; line-height: 0; outline: 0px; padding-left: 5px; padding-right: 5px; vertical-align: top; width: auto\"> \\n       <section style=\"-webkit-tap-highlight-color: transparent; outline: 0px; text-align: center\"> \\n         \\n       </section> \\n      </section> \\n     </section> \\n    </section> \\n   </section> \\n   <section style=\"-webkit-tap-highlight-color: transparent; display: flex; flex-flow: row; justify-content: flex-start; margin-bottom: 10px; outline: 0px; text-align: left\"> \\n    <section style=\"-webkit-tap-highlight-color: transparent; align-self: flex-start; border-bottom: 1px solid rgb(255, 214, 125); border-left: 1px solid rgb(255, 214, 125); border-right: 1px solid rgb(255, 214, 125); display: inline-block; flex: 0 0 auto; outline: 0px; padding: 20px; vertical-align: top; width: 578px\"> \\n     <section style=\"-webkit-tap-highlight-color: transparent; line-height: 0; outline: 0px; text-align: justify\"> \\n      <p style=\"-webkit-tap-highlight-color: transparent; outline: 0px; text-align: center\"><span style=\"-webkit-tap-highlight-color: transparent; color: rgb(230, 52, 26); outline: 0px\"><strong style=\"-webkit-tap-highlight-color: transparent; outline: 0px\">推荐</strong><strong style=\"-webkit-tap-highlight-color: transparent; outline: 0px\">阅读</strong></span><br data-filtered=\"filtered\" style=\"-webkit-tap-highlight-color: transparent; outline: 0px\"></p> \\n     </section> \\n     <section style=\"-webkit-tap-highlight-color: transparent; display: flex; flex-flow: row; justify-content: center; margin-bottom: 10px; margin-top: 10px; outline: 0px; text-align: center\"> \\n      <section style=\"-webkit-tap-highlight-color: transparent; align-self: center; display: inline-block; flex: 0 0 auto; height: auto; outline: 0px; vertical-align: middle; width: 177.094px\"> \\n       <section style=\"-webkit-tap-highlight-color: transparent; margin-bottom: 0.5em; margin-top: 0.5em; outline: 0px\"> \\n        <section style=\"-webkit-tap-highlight-color: transparent; background-color: rgb(218, 92, 77); height: 1px; outline: 0px\"> \\n         <svg style=\"float: left; line-height: 0; vertical-align: top; width: 0\" viewbox=\"0 0 1 1\"></svg> \\n        </section> \\n       </section> \\n      </section> \\n      <section style=\"-webkit-tap-highlight-color: transparent; align-self: center; display: inline-block; flex: 0 0 auto; height: auto; line-height: 0; min-width: 10%; outline: 0px; vertical-align: middle; width: auto\"> \\n       <section style=\"-webkit-tap-highlight-color: transparent; outline: 0px\"> \\n         \\n       </section> \\n      </section> \\n      <section style=\"-webkit-tap-highlight-color: transparent; align-self: center; display: inline-block; flex: 0 0 auto; height: auto; outline: 0px; vertical-align: middle; width: 177.094px\"> \\n       <section style=\"-webkit-tap-highlight-color: transparent; margin-bottom: 0.5em; margin-top: 0.5em; outline: 0px\"> \\n        <section style=\"-webkit-tap-highlight-color: transparent; background-color: rgb(218, 92, 77); height: 1px; outline: 0px\"> \\n         <svg style=\"float: left; line-height: 0; vertical-align: top; width: 0\" viewbox=\"0 0 1 1\"></svg> \\n        </section> \\n       </section> \\n      </section> \\n     </section> \\n     <section style=\"-webkit-tap-highlight-color: transparent; outline: 0px\"> \\n      <p style=\"-webkit-tap-highlight-color: transparent; letter-spacing: 0.544px; outline: 0px\"><strong style=\"-webkit-tap-highlight-color: transparent; outline: 0px\"> \\n        </strong><strong style=\"-webkit-tap-highlight-color: transparent; outline: 0px\"><strong><span style=\"letter-spacing: 0.544px; text-decoration-color: rgb(87, 107, 149); text-decoration-style: solid\"> \\n          </span></strong></strong></p> \\n      <p style=\"-webkit-tap-highlight-color: transparent; letter-spacing: 0.544px; outline: 0px\"><strong style=\"-webkit-tap-highlight-color: transparent; outline: 0px\"> \\n        </strong><strong style=\"-webkit-tap-highlight-color: transparent; outline: 0px\"><strong><span style=\"letter-spacing: 0.544px; text-decoration-color: rgb(87, 107, 149); text-decoration-style: solid\"> \\n          </span></strong></strong></p> \\n      <p style=\"-webkit-tap-highlight-color: transparent; letter-spacing: 0.544px; outline: 0px\"><strong style=\"-webkit-tap-highlight-color: transparent; outline: 0px\"><span style=\"-webkit-tap-highlight-color: transparent; color: rgb(121, 123, 170); font-size: 14px; outline: 0px\">▼<strong><span style=\"letter-spacing: 0.544px; text-decoration-color: rgb(87, 107, 149); text-decoration-style: solid\"> \\n           </span></strong></span></strong></p> \\n      <p style=\"-webkit-tap-highlight-color: transparent; outline: 0px\"><img src=\"https://inews.gtimg.com/om_bt/OmtgIpcqkCazEfh-8REKsj8YrOjtZFcT6Myueizx-az48AA/641\"></p> \\n     </section> \\n    </section> \\n   </section> \\n  </section> \\n  <section style=\"-webkit-tap-highlight-color: transparent; background-color: rgb(255, 255, 255); letter-spacing: 0.578px; margin-bottom: 0px; outline: 0px; text-wrap: wrap\"> \\n   <section style=\"-webkit-tap-highlight-color: transparent; outline: 0px\"> \\n    <p style=\"-webkit-tap-highlight-color: transparent; letter-spacing: 0.544px; outline: 0px\"><span style=\"-webkit-tap-highlight-color: transparent; color: rgb(136, 136, 136); font-size: 16px; letter-spacing: 0.578px; outline: 0px\">来源：中国环境APP</span></p> \\n   </section> \\n   <section style=\"-webkit-tap-highlight-color: transparent; outline: 0px\"> \\n    <p style=\"-webkit-tap-highlight-color: transparent; outline: 0px\"><span style=\"-webkit-tap-highlight-color: transparent; color: rgb(136, 136, 136); font-size: 16px; outline: 0px\">编辑：张黎</span></p> \\n   </section> \\n   <section style=\"-webkit-tap-highlight-color: transparent; letter-spacing: 0.544px; line-height: 0; margin-bottom: 10px; margin-top: 10px; outline: 0px; text-align: center\"> \\n     \\n   </section> \\n  </section> \\n  <p><br></p> \\n  <p style=\"display: none\"> \\n    \\n    \\n    \\n    \\n    \\n    \\n    \\n    \\n    \\n   </p> \\n   \\n   \\n   \\n   \\n   \\n   \\n   \\n </div> \\n'}"
      ]
     },
     "execution_count": 38,
     "metadata": {},
     "output_type": "execute_result"
    }
   ],
   "source": [
    "\n",
    "\n",
    "processed_rdd.take(1)[0].asDict()"
   ]
  },
  {
   "cell_type": "markdown",
   "id": "d1b2a4f2-735f-48fc-9b06-c7fd69811a8c",
   "metadata": {},
   "source": [
    "## 排除error 数据"
   ]
  },
  {
   "cell_type": "code",
   "execution_count": 22,
   "id": "1302a8b6ac1f3cc8",
   "metadata": {
    "ExecuteTime": {
     "end_time": "2025-03-06T06:39:24.172874Z",
     "start_time": "2025-03-06T06:39:24.166137Z"
    },
    "execution": {
     "iopub.execute_input": "2025-03-17T06:02:39.312576Z",
     "iopub.status.busy": "2025-03-17T06:02:39.312327Z",
     "iopub.status.idle": "2025-03-17T06:02:39.323417Z",
     "shell.execute_reply": "2025-03-17T06:02:39.322990Z",
     "shell.execute_reply.started": "2025-03-17T06:02:39.312560Z"
    }
   },
   "outputs": [],
   "source": [
    "processed_rdd_filter = processed_rdd.filter(lambda x:\"__error\" not in x).persist()\n"
   ]
  },
  {
   "cell_type": "code",
   "execution_count": 41,
   "id": "f2272651-5374-4984-b3d9-a0ccbad91c8f",
   "metadata": {
    "execution": {
     "iopub.execute_input": "2025-03-17T03:25:54.977227Z",
     "iopub.status.busy": "2025-03-17T03:25:54.976859Z",
     "iopub.status.idle": "2025-03-17T05:14:06.408814Z",
     "shell.execute_reply": "2025-03-17T05:14:06.408038Z",
     "shell.execute_reply.started": "2025-03-17T03:25:54.977206Z"
    }
   },
   "outputs": [
    {
     "name": "stderr",
     "output_type": "stream",
     "text": [
      "                                                                                "
     ]
    },
    {
     "data": {
      "text/plain": [
       "162000446"
      ]
     },
     "execution_count": 41,
     "metadata": {},
     "output_type": "execute_result"
    }
   ],
   "source": [
    "processed_rdd_filter.count()"
   ]
  },
  {
   "cell_type": "code",
   "execution_count": 24,
   "id": "014adebc-ab91-48df-8303-e8c647056d6a",
   "metadata": {
    "execution": {
     "iopub.execute_input": "2025-03-17T06:38:39.798710Z",
     "iopub.status.busy": "2025-03-17T06:38:39.798258Z",
     "iopub.status.idle": "2025-03-17T06:48:29.365864Z",
     "shell.execute_reply": "2025-03-17T06:48:29.365284Z",
     "shell.execute_reply.started": "2025-03-17T06:38:39.798689Z"
    }
   },
   "outputs": [
    {
     "name": "stderr",
     "output_type": "stream",
     "text": [
      "                                                                                "
     ]
    },
    {
     "data": {
      "text/plain": [
       "{'rows': 27728735,\n",
       " 'bytes': {'sum': 167641958787,\n",
       "  'min': 2505,\n",
       "  'max': 7528591,\n",
       "  'cnt': 27728735,\n",
       "  'avg': 6045.785},\n",
       " 'files': 6000,\n",
       " 'sub_paths': {}}"
      ]
     },
     "execution_count": 24,
     "metadata": {},
     "output_type": "execute_result"
    }
   ],
   "source": [
    "processed_rdd_error_filter = processed_rdd.filter(lambda x:\"__error\"  in x)\n",
    "\n",
    "write_any_path(processed_rdd_error_filter.map(lambda x: Row(value=json_dumps(x.asDict()))).toDF(),\"s3://web-parse-hw60p/xuchao/zx-html-error/tencent_blog/v002\")"
   ]
  },
  {
   "cell_type": "code",
   "execution_count": 25,
   "id": "9959a23c-446c-43dc-99e3-9ea6934291e4",
   "metadata": {
    "execution": {
     "iopub.execute_input": "2025-03-17T06:48:29.367150Z",
     "iopub.status.busy": "2025-03-17T06:48:29.366863Z",
     "iopub.status.idle": "2025-03-17T06:52:03.889434Z",
     "shell.execute_reply": "2025-03-17T06:52:03.888757Z",
     "shell.execute_reply.started": "2025-03-17T06:48:29.367133Z"
    }
   },
   "outputs": [
    {
     "name": "stderr",
     "output_type": "stream",
     "text": [
      "                                                                                "
     ]
    }
   ],
   "source": [
    "\n",
    "result_df = processed_rdd_filter.map(lambda x: Row(value=json_dumps(x.asDict()))).toDF()\n"
   ]
  },
  {
   "cell_type": "code",
   "execution_count": null,
   "id": "44c9fedce6dedc3a",
   "metadata": {},
   "outputs": [],
   "source": []
  },
  {
   "cell_type": "code",
   "execution_count": 26,
   "id": "1f8a1c66b2135477",
   "metadata": {
    "ExecuteTime": {
     "end_time": "2025-03-06T06:34:06.525784922Z",
     "start_time": "2025-03-06T05:54:08.636914Z"
    },
    "execution": {
     "iopub.execute_input": "2025-03-17T06:52:03.890266Z",
     "iopub.status.busy": "2025-03-17T06:52:03.890104Z",
     "iopub.status.idle": "2025-03-17T06:52:03.894124Z",
     "shell.execute_reply": "2025-03-17T06:52:03.893657Z",
     "shell.execute_reply.started": "2025-03-17T06:52:03.890248Z"
    }
   },
   "outputs": [
    {
     "data": {
      "text/plain": [
       "'s3://llm-users-phdd2/jiangwenhao/article/zh-web-tencent/v002/'"
      ]
     },
     "execution_count": 26,
     "metadata": {},
     "output_type": "execute_result"
    }
   ],
   "source": [
    "platform_config[\"output_template\"]"
   ]
  },
  {
   "cell_type": "code",
   "execution_count": 27,
   "id": "da373fa4169f9ad0",
   "metadata": {
    "ExecuteTime": {
     "end_time": "2025-03-06T06:34:06.527823291Z",
     "start_time": "2025-03-06T05:54:08.753431Z"
    },
    "execution": {
     "iopub.execute_input": "2025-03-17T06:52:03.895419Z",
     "iopub.status.busy": "2025-03-17T06:52:03.895078Z",
     "iopub.status.idle": "2025-03-17T07:50:46.476924Z",
     "shell.execute_reply": "2025-03-17T07:50:46.476319Z",
     "shell.execute_reply.started": "2025-03-17T06:52:03.895403Z"
    }
   },
   "outputs": [
    {
     "name": "stderr",
     "output_type": "stream",
     "text": [
      "                                                                                "
     ]
    },
    {
     "data": {
      "text/plain": [
       "{'rows': 162000445,\n",
       " 'bytes': {'sum': 2577225612411,\n",
       "  'min': 700,\n",
       "  'max': 14486280,\n",
       "  'cnt': 162000445,\n",
       "  'avg': 15908.756},\n",
       " 'files': 6000,\n",
       " 'sub_paths': {}}"
      ]
     },
     "execution_count": 27,
     "metadata": {},
     "output_type": "execute_result"
    }
   ],
   "source": [
    "write_any_path(result_df, platform_config[\"output_template\"])\n",
    "\n"
   ]
  },
  {
   "cell_type": "code",
   "execution_count": null,
   "id": "b05e57fe30189ebc",
   "metadata": {
    "ExecuteTime": {
     "end_time": "2025-03-06T05:17:40.263694Z",
     "start_time": "2025-03-06T05:17:40.239571Z"
    },
    "execution": {
     "execution_failed": "2025-03-12T07:29:47.149Z"
    }
   },
   "outputs": [],
   "source": [
    "x = \"s3://llm-users-phdd2/jiangwenhao/article/zh-web-tencent/\"\n",
    "s3 = get_s3_client(x)\n",
    "_ = list(list_s3_objects(client=s3, path = x))\n",
    "_"
   ]
  },
  {
   "cell_type": "code",
   "execution_count": null,
   "id": "116c810a8e0db0e0",
   "metadata": {
    "ExecuteTime": {
     "end_time": "2025-03-06T05:17:29.461396Z",
     "start_time": "2025-03-06T05:17:29.453998Z"
    },
    "execution": {
     "execution_failed": "2025-03-12T07:29:47.149Z"
    }
   },
   "outputs": [],
   "source": [
    "get_s3_config(\"s3://llm-users-phdd2/jiangwenhao/article/zh-web-tencent/2019/v017/\")"
   ]
  },
  {
   "cell_type": "code",
   "execution_count": null,
   "id": "955ef42777197364",
   "metadata": {
    "execution": {
     "execution_failed": "2025-03-12T07:29:47.150Z"
    }
   },
   "outputs": [],
   "source": []
  },
  {
   "cell_type": "code",
   "execution_count": null,
   "id": "fbf2f91f-0df7-4cde-b72d-f2eae0f2c7b4",
   "metadata": {
    "execution": {
     "execution_failed": "2025-03-12T07:29:47.150Z"
    }
   },
   "outputs": [],
   "source": [
    "from xinghe.spark import *\n",
    "from app.common.json_util import *\n",
    "\n",
    "from xinghe.s3 import *\n",
    "\n",
    "delete_path = \"s3://llm-users-phdd2/jiangwenhao/\"\n",
    "client = get_s3_client(delete_path)\n",
    "delete_s3_object(delete_path +'article/zh-web-baijiahao/v004', client = client, dry_run = False)"
   ]
  },
  {
   "cell_type": "code",
   "execution_count": null,
   "id": "5d579e28-d84f-406f-888a-c573e1fbbcf0",
   "metadata": {
    "execution": {
     "execution_failed": "2025-03-12T07:29:47.150Z"
    }
   },
   "outputs": [],
   "source": []
  },
  {
   "cell_type": "code",
   "execution_count": null,
   "id": "20188a73-a567-48c9-94bf-df1496a1320f",
   "metadata": {
    "execution": {
     "execution_failed": "2025-03-12T07:29:47.150Z"
    }
   },
   "outputs": [],
   "source": []
  },
  {
   "cell_type": "code",
   "execution_count": null,
   "id": "05a02fe0-ef2c-490a-8c9a-8754ee35b9dd",
   "metadata": {
    "execution": {
     "execution_failed": "2025-03-12T07:29:47.150Z"
    }
   },
   "outputs": [],
   "source": []
  },
  {
   "cell_type": "code",
   "execution_count": null,
   "id": "0f2b69ea-917f-4332-91ba-b367fc4076d2",
   "metadata": {
    "execution": {
     "execution_failed": "2025-03-12T07:29:47.150Z"
    }
   },
   "outputs": [],
   "source": []
  },
  {
   "cell_type": "code",
   "execution_count": null,
   "id": "3016239c-25a0-4a75-9cc4-8d8a96f51fc3",
   "metadata": {
    "execution": {
     "execution_failed": "2025-03-12T07:29:47.150Z"
    }
   },
   "outputs": [],
   "source": []
  },
  {
   "cell_type": "code",
   "execution_count": null,
   "id": "ae0f8039-0abe-4904-a294-41e41964e6fd",
   "metadata": {
    "execution": {
     "execution_failed": "2025-03-12T07:29:47.150Z"
    }
   },
   "outputs": [],
   "source": []
  },
  {
   "cell_type": "code",
   "execution_count": null,
   "id": "9bece73a-edd6-45fc-bebe-3eca0929fedb",
   "metadata": {
    "execution": {
     "execution_failed": "2025-03-12T07:29:47.150Z"
    }
   },
   "outputs": [],
   "source": []
  },
  {
   "cell_type": "code",
   "execution_count": null,
   "id": "a1d15366-8ca4-4078-afef-af42e5da0d26",
   "metadata": {
    "execution": {
     "execution_failed": "2025-03-12T07:29:47.150Z"
    }
   },
   "outputs": [],
   "source": []
  },
  {
   "cell_type": "code",
   "execution_count": null,
   "id": "3427e7c1-a4ae-4daa-9b66-f6a0d95abdd1",
   "metadata": {
    "execution": {
     "execution_failed": "2025-03-12T07:29:47.150Z"
    }
   },
   "outputs": [],
   "source": []
  },
  {
   "cell_type": "code",
   "execution_count": null,
   "id": "876a1d4f-46ab-4827-9196-c294bba17cb1",
   "metadata": {},
   "outputs": [],
   "source": []
  },
  {
   "cell_type": "code",
   "execution_count": null,
   "id": "3e2871eb-688c-4b43-aaf6-9ac5dc7b95d0",
   "metadata": {},
   "outputs": [],
   "source": []
  },
  {
   "cell_type": "code",
   "execution_count": null,
   "id": "20c755fc-9c00-4570-882e-0e296176f258",
   "metadata": {},
   "outputs": [],
   "source": []
  },
  {
   "cell_type": "code",
   "execution_count": null,
   "id": "8d379d8c-8e47-4b9c-ad8b-ef45f75e8cff",
   "metadata": {},
   "outputs": [],
   "source": []
  },
  {
   "cell_type": "code",
   "execution_count": null,
   "id": "7bee7d4d-c2c0-4416-9f14-a78f9aa58bb6",
   "metadata": {},
   "outputs": [],
   "source": []
  },
  {
   "cell_type": "code",
   "execution_count": null,
   "id": "574cfe45-8e5c-4c50-8404-80d47bbd3815",
   "metadata": {},
   "outputs": [],
   "source": []
  },
  {
   "cell_type": "code",
   "execution_count": null,
   "id": "a3c1a26b-a640-4cd5-a40c-1994935aa4fe",
   "metadata": {},
   "outputs": [],
   "source": []
  },
  {
   "cell_type": "code",
   "execution_count": null,
   "id": "8b0914a8-dd82-4f98-8428-b769dd81a6e8",
   "metadata": {},
   "outputs": [],
   "source": []
  },
  {
   "cell_type": "code",
   "execution_count": null,
   "id": "8fefd6a1-8976-4b68-9754-1371d59e512d",
   "metadata": {},
   "outputs": [],
   "source": []
  }
 ],
 "metadata": {
  "kernelspec": {
   "display_name": "Python code_clean_venv (ipykernel)",
   "language": "python",
   "name": "test_venv"
  },
  "language_info": {
   "codemirror_mode": {
    "name": "ipython",
    "version": 3
   },
   "file_extension": ".py",
   "mimetype": "text/x-python",
   "name": "python",
   "nbconvert_exporter": "python",
   "pygments_lexer": "ipython3",
   "version": "3.10.9"
  }
 },
 "nbformat": 4,
 "nbformat_minor": 5
}
